{
 "cells": [
  {
   "cell_type": "markdown",
   "id": "39dc470f-b342-4a9a-a510-22d531946818",
   "metadata": {},
   "source": [
    "<br>\n",
    "\n",
    "# Introdução\n",
    "\n",
    "Tabela criada para avaliar os parâmetros de todas as tabelas de um só município...\n",
    "A partir dessa tabela que passei a criar a ideia de subir tudo para o bit-io... escrevendo o script 04. parquet bit!"
   ]
  },
  {
   "cell_type": "code",
   "execution_count": 1,
   "id": "f597e949-0bcb-477c-a510-5a5a259f0af1",
   "metadata": {},
   "outputs": [],
   "source": [
    "import os\n",
    "import re\n",
    "import sys\n",
    "import pprint\n",
    "import pandas as pd\n",
    "from scipy.stats import gmean\n",
    "from dateutil.relativedelta import relativedelta"
   ]
  },
  {
   "cell_type": "code",
   "execution_count": 2,
   "id": "aa9ccd35-f528-491c-ad96-1aa3c6a6b078",
   "metadata": {},
   "outputs": [],
   "source": [
    "from paths import *"
   ]
  },
  {
   "cell_type": "code",
   "execution_count": 3,
   "id": "3f467ee7-11c8-4a04-bf3e-8a01c7f82766",
   "metadata": {},
   "outputs": [],
   "source": [
    "# Parameters\n",
    "#cod_ibge = '3548906' # São Carlos\n",
    "#cod_ibge = '3526902' # Limeira\n",
    "#cod_ibge = '3505203' # Barrrrrr\n",
    "cod_ibge = '3501608' # Americana"
   ]
  },
  {
   "cell_type": "markdown",
   "id": "99fe901a-86e9-4b96-8d3f-d34427ca1f36",
   "metadata": {},
   "source": [
    "<br>\n",
    "\n",
    "# Tabelas do Controle"
   ]
  },
  {
   "cell_type": "markdown",
   "id": "5d32c7dd-bcc3-463d-b6fb-1c5fa6f27bd4",
   "metadata": {},
   "source": [
    "<br>\n",
    "\n",
    "## Parâmetros Básicos"
   ]
  },
  {
   "cell_type": "code",
   "execution_count": 4,
   "id": "892adcf4-dcc7-42d7-9af7-5982e8636816",
   "metadata": {},
   "outputs": [],
   "source": [
    "# Read Table\n",
    "df_bruta = pd.read_excel(\n",
    "    os.path.join(output_path, str(cod_ibge), 'dados brutos', 'controle', 'controle_mensal_parametros_basicos.xlsx')\n",
    ")"
   ]
  },
  {
   "cell_type": "code",
   "execution_count": 5,
   "id": "bc12f793-a62f-4a1f-b3c3-2d6a46149668",
   "metadata": {},
   "outputs": [],
   "source": [
    "# Filtra Apenas SAAs\n",
    "df = df_bruta.loc[df_bruta['Tipo Da Forma De Abastecimento'] == 'SAA'].copy()"
   ]
  },
  {
   "cell_type": "code",
   "execution_count": 6,
   "id": "c1b8a66d-fb4d-46e2-ac15-e6c45e8a8768",
   "metadata": {},
   "outputs": [],
   "source": [
    "# Filtra Apenas Último Ano\n",
    "df = df[df['Ano De Referência'] == max(df['Ano De Referência'])].copy()"
   ]
  },
  {
   "cell_type": "code",
   "execution_count": 7,
   "id": "c6825c0f-ca41-4d8f-83f9-4069a9b08e63",
   "metadata": {},
   "outputs": [
    {
     "data": {
      "text/plain": [
       "{'Bactérias Heterotróficas (UFC/mL)',\n",
       " 'Cloro Residual Livre (mg/L)',\n",
       " 'Coliformes totais',\n",
       " 'Cor (uH)',\n",
       " 'Escherichia coli',\n",
       " 'Fluoreto (mg/L)',\n",
       " 'Turbidez (uT)',\n",
       " 'pH'}"
      ]
     },
     "execution_count": 7,
     "metadata": {},
     "output_type": "execute_result"
    }
   ],
   "source": [
    "set(df['Parâmetro'])"
   ]
  },
  {
   "cell_type": "markdown",
   "id": "09647d2b-aede-4a62-9ef9-aebee023f822",
   "metadata": {},
   "source": [
    "<br>\n",
    "\n",
    "## Demais Parâmetros"
   ]
  },
  {
   "cell_type": "code",
   "execution_count": 8,
   "id": "9033317d-a41a-4885-9398-fe293c25ce4b",
   "metadata": {},
   "outputs": [],
   "source": [
    "# Read Table\n",
    "df_bruta = pd.read_excel(\n",
    "    os.path.join(output_path, str(cod_ibge), 'dados brutos', 'controle', 'controle_mensal_demais_parametros.xlsx')\n",
    ")"
   ]
  },
  {
   "cell_type": "code",
   "execution_count": 9,
   "id": "8061abb1-f52b-483d-8ef5-ebba8f1ec84a",
   "metadata": {},
   "outputs": [],
   "source": [
    "# Filtra Apenas SAAs\n",
    "df = df_bruta.loc[df_bruta['Tipo Da Forma De Abastecimento'] == 'SAA'].copy()"
   ]
  },
  {
   "cell_type": "code",
   "execution_count": 10,
   "id": "4bc1cfd7-ff98-455c-ae5f-0d20c5b4bfe5",
   "metadata": {},
   "outputs": [],
   "source": [
    "# Filtra Apenas Último Ano\n",
    "df = df[df['Ano De Referência'] == max(df['Ano De Referência'])].copy()"
   ]
  },
  {
   "cell_type": "code",
   "execution_count": 11,
   "id": "38dcb76f-35e7-4c6c-a5ad-3c2e956f256d",
   "metadata": {},
   "outputs": [
    {
     "data": {
      "text/plain": [
       "{'Cianobactérias',\n",
       " 'Cianotoxinas',\n",
       " 'Clorofila-a',\n",
       " 'Cryptosporidium',\n",
       " 'Escherichia coli',\n",
       " 'Giardia'}"
      ]
     },
     "execution_count": 11,
     "metadata": {},
     "output_type": "execute_result"
    }
   ],
   "source": [
    "set(df['Parâmetro'])"
   ]
  },
  {
   "cell_type": "markdown",
   "id": "c1563111-703a-41e4-98b8-e3a740c9fc6c",
   "metadata": {},
   "source": [
    "<br>\n",
    "\n",
    "## Fora do Padrão"
   ]
  },
  {
   "cell_type": "code",
   "execution_count": 12,
   "id": "c79ed2f8-324d-441f-b1e4-dd848fc6ad3f",
   "metadata": {},
   "outputs": [],
   "source": [
    "# Read Table\n",
    "df_bruta = pd.read_excel(\n",
    "    os.path.join(output_path, str(cod_ibge), 'dados brutos', 'controle', 'controle_mensal_amostras_fora_padrao.xlsx')\n",
    ")"
   ]
  },
  {
   "cell_type": "code",
   "execution_count": 13,
   "id": "69e2706f-a2b6-45be-95b4-75b6ea49b66d",
   "metadata": {},
   "outputs": [],
   "source": [
    "# Filtra Apenas SAAs\n",
    "df = df_bruta.loc[df_bruta['Tipo Da Forma De Abastecimento'] == 'SAA'].copy()"
   ]
  },
  {
   "cell_type": "code",
   "execution_count": 14,
   "id": "a98e0aef-233b-43c0-8efb-cd3e397325a6",
   "metadata": {},
   "outputs": [],
   "source": [
    "# Filtra Apenas Último Ano\n",
    "df = df[df['Ano De Referência'] == max(df['Ano De Referência'])].copy()"
   ]
  },
  {
   "cell_type": "code",
   "execution_count": 15,
   "id": "68c12dc1-064c-4b0e-a970-efceb1fa71f0",
   "metadata": {},
   "outputs": [
    {
     "data": {
      "text/plain": [
       "{'Cor (uH)'}"
      ]
     },
     "execution_count": 15,
     "metadata": {},
     "output_type": "execute_result"
    }
   ],
   "source": [
    "set(df['Parâmetro'])"
   ]
  },
  {
   "cell_type": "markdown",
   "id": "1eacf28e-f38f-4241-b414-3a7f0e8aa5d6",
   "metadata": {},
   "source": [
    "<br>\n",
    "\n",
    "## Controle Semestral"
   ]
  },
  {
   "cell_type": "code",
   "execution_count": 16,
   "id": "1b1da0bb-9c7c-492b-a4dd-924b625fe238",
   "metadata": {},
   "outputs": [],
   "source": [
    "# Read Table\n",
    "df_bruta = pd.read_excel(\n",
    "    os.path.join(output_path, str(cod_ibge), 'dados brutos', 'controle', 'controle_semestral.xlsx')\n",
    ")"
   ]
  },
  {
   "cell_type": "code",
   "execution_count": 17,
   "id": "870a9fb8-0b3a-4d55-9f67-0f9fc430c502",
   "metadata": {},
   "outputs": [],
   "source": [
    "# Filtra Apenas SAAs\n",
    "df = df_bruta.loc[df_bruta['Tipo Da Forma De Abastecimento'] == 'SAA']"
   ]
  },
  {
   "cell_type": "code",
   "execution_count": 18,
   "id": "7277dcf6-496b-4a11-80ee-fffdc41adbb8",
   "metadata": {},
   "outputs": [],
   "source": [
    "#df.info()\n",
    "#list(df.columns)"
   ]
  },
  {
   "cell_type": "code",
   "execution_count": 19,
   "id": "69ef32b5-328c-4ed1-9321-9f7cfc7a7e68",
   "metadata": {},
   "outputs": [],
   "source": [
    "# Filtra Apenas Último Ano\n",
    "df = df[df['Ano De Referência'] == max(df['Ano De Referência'])].copy()"
   ]
  },
  {
   "cell_type": "code",
   "execution_count": 20,
   "id": "6d1863b0-c4c0-46f0-aec7-cd5ba7f10b53",
   "metadata": {},
   "outputs": [
    {
     "data": {
      "text/plain": [
       "{'1,1 Dicloroeteno - VMP:30,0 µg/L',\n",
       " '1,2 Diclorobenzeno VMP - 0,01 mg/L',\n",
       " '1,2 Dicloroetano - VMP:10,0 µg/L',\n",
       " '1,2 Dicloroeteno (cis + trans) - VMP:50,0 µg/L',\n",
       " '1,4 Diclorobenzeno VMP - 0,03 mg/L',\n",
       " '2, 4, 6 Triclorofenol - VMP: 0,2 mg/L',\n",
       " '2,4 D + 2,4,5 T - VMP: 30,0 µg/L',\n",
       " 'Acrilamida - VMP:0,5 µg/L',\n",
       " 'Alaclor - VMP: 20,0 µg/L',\n",
       " 'Aldicarbe + Aldicarbesulfona + Aldicarbesulfóxido',\n",
       " 'Aldrin + Dieldrin - VMP: 0,03 µg/L',\n",
       " 'Alumínio VMP - 0,2 mg/L',\n",
       " 'Amônia (como NH3) VMP - 1,5 mg/L',\n",
       " 'Antimônio - VMP:0,005 mg/L',\n",
       " 'Arsênio - VMP:0,01 mg/L',\n",
       " 'Atividade alfa total - VMP: 0,5 Bq/L',\n",
       " 'Atividade beta total - VMP: 1,0 Bq/L',\n",
       " 'Atrazina - VMP: 2,0 µg/L',\n",
       " 'Benzeno - VMP:5,0 µg/L',\n",
       " 'Benzo[a]pireno - VMP:0,7 µg/L',\n",
       " 'Bário - VMP:0,7 mg/L',\n",
       " 'Carbendazim + benomil - VMP: 120,0 µg/L',\n",
       " 'Carbofurano - VMP: 7,0 µg/L',\n",
       " 'Chumbo - VMP:0,01 mg/L',\n",
       " 'Cianeto - VMP:0,07 mg/L',\n",
       " 'Clordano - VMP: 0,2 µg/L',\n",
       " 'Cloreto VMP - 250,0 mg/L',\n",
       " 'Cloreto de Vinila - VMP:2,0 µg/L',\n",
       " 'Clorpirifós + clorpirifós-oxon - VMP: 30,0 µg/L',\n",
       " 'Cobre - VMP:2,0 mg/L',\n",
       " 'Cor Aparente VMP - 15,0 uH',\n",
       " 'Cromo - VMP:0,05 mg/L',\n",
       " 'Cádmio - VMP:0,005 mg/L',\n",
       " 'DDT + DDD + DDE - VMP: 1,0 µg/L',\n",
       " 'Di (2-etilhexil) ftalato - VMP:8,0 µg/L',\n",
       " 'Diclorometano - VMP:20,0 µg/L',\n",
       " 'Diuron - VMP: 90,0 µg/L',\n",
       " 'Dureza total VMP - 500,0 mg/L',\n",
       " 'Endossulfan (a, ß e sais) - VMP: 20,0 µg/L',\n",
       " 'Endrin - VMP: 0,6 µg/L',\n",
       " 'Estireno - VMP:20,0 µg/L',\n",
       " 'Etilbenzeno VMP - 0,2 mg/L',\n",
       " 'Ferro VMP - 0,3 mg/L',\n",
       " 'Glifosato + AMPA - VMP: 500,0 µg/L',\n",
       " 'Gosto e odor VMP - 6,0 Intensidade',\n",
       " 'Lindano (gama HCH) - VMP: 2,0 µg/L',\n",
       " 'Mancozebe - VMP: 180,0 µg/L',\n",
       " 'Manganês VMP - 0,1 mg/L',\n",
       " 'Mercúrio - VMP:0,001 mg/L',\n",
       " 'Metamidofós - VMP: 12,0 µg/L',\n",
       " 'Metolacloro - VMP: 10,0 µg/L',\n",
       " 'Molinato - VMP: 6,0 µg/L',\n",
       " 'Monoclorobenzeno VMP - 0,12 mg/L',\n",
       " 'Nitrato (como N) - VMP:10,0 mg/L',\n",
       " 'Nitrito (como N) - VMP:1,0 mg/L',\n",
       " 'Níquel - VMP:0,07 mg/L',\n",
       " 'Parationa Metílica - VMP: 9,0 µg/L',\n",
       " 'Pendimentalina - VMP: 20,0 µg/L',\n",
       " 'Pentaclorofenol - VMP:9,0 µg/L',\n",
       " 'Permetrina - VMP: 20,0 µg/L',\n",
       " 'Profenofós - VMP: 60,0 µg/L',\n",
       " 'Selênio - VMP:0,01 mg/L',\n",
       " 'Simazina - VMP: 2,0 µg/L',\n",
       " 'Sulfato VMP - 250,0 mg/L',\n",
       " 'Sulfeto de hidrogênio VMP - 0,1 mg/L',\n",
       " 'Surfactantes (como LAS) VMP - 0,5 mg/L',\n",
       " 'Sódio VMP - 200,0 mg/L',\n",
       " 'Sólidos dissolvidos totais VMP - 1000,0 mg/L',\n",
       " 'Tebuconazol - VMP: 180,0 µg/L',\n",
       " 'Terbufós - VMP: 1,2 µg/L',\n",
       " 'Tetracloreto de Carbono - VMP:4,0 µg/L',\n",
       " 'Tetracloroeteno - VMP:40,0 µg/L',\n",
       " 'Tolueno VMP - 0,17 mg/L',\n",
       " 'Triclorobenzenos - VMP:20,0 µg/L',\n",
       " 'Tricloroeteno - VMP:20,0 µg/L',\n",
       " 'Trifluralina - VMP: 20,0 µg/L',\n",
       " 'Trihalometanos Total - VMP: 0,1 mg/L',\n",
       " 'Urânio - VMP:0,03 mg/L',\n",
       " 'Xilenos VMP - 0,3 mg/L',\n",
       " 'Zinco VMP - 5,0 mg/L',\n",
       " 'Ácidos haloacéticos total - VMP: 0,08 mg/L'}"
      ]
     },
     "execution_count": 20,
     "metadata": {},
     "output_type": "execute_result"
    }
   ],
   "source": [
    "set(df['Parâmetro'])"
   ]
  },
  {
   "cell_type": "markdown",
   "id": "1aece528-599f-463a-a023-b60784532c0d",
   "metadata": {},
   "source": [
    "<br>\n",
    "\n",
    "## Infra Operacional"
   ]
  },
  {
   "cell_type": "code",
   "execution_count": null,
   "id": "05b9f93b-921f-4e30-be73-907686bbc536",
   "metadata": {},
   "outputs": [],
   "source": []
  },
  {
   "cell_type": "code",
   "execution_count": null,
   "id": "3ebac80e-5b87-4f45-9e24-15fdf1d9eea3",
   "metadata": {},
   "outputs": [],
   "source": []
  },
  {
   "cell_type": "code",
   "execution_count": null,
   "id": "34c2b849-44db-42b9-ad26-fac9a930dc7a",
   "metadata": {},
   "outputs": [],
   "source": []
  },
  {
   "cell_type": "markdown",
   "id": "8c582827-7611-4672-b87a-16bb003ab35d",
   "metadata": {},
   "source": [
    "<br>\n",
    "\n",
    "# Tabelas da Vigilância"
   ]
  },
  {
   "cell_type": "markdown",
   "id": "5640ea5c-2204-4971-ac36-d52450340f0d",
   "metadata": {},
   "source": [
    "<br>\n",
    "\n",
    "## Parâmetros Básicos"
   ]
  },
  {
   "cell_type": "code",
   "execution_count": 21,
   "id": "d2fb743e-1473-4df6-84cf-78e3456a91e9",
   "metadata": {},
   "outputs": [],
   "source": [
    "# Read Table\n",
    "df_bruta = pd.read_excel(\n",
    "    os.path.join(output_path, str(cod_ibge), 'dados brutos', 'vigilancia', 'vigilancia_parametros_basicos.xlsx')\n",
    ")"
   ]
  },
  {
   "cell_type": "code",
   "execution_count": 22,
   "id": "cc9e3b2c-6f3a-4bf3-b0de-9a12762504b2",
   "metadata": {},
   "outputs": [],
   "source": [
    "# Filtra Apenas SAAs\n",
    "df = df_bruta.loc[df_bruta['Tipo Da Forma De Abastecimento'] == 'SAA'].copy()"
   ]
  },
  {
   "cell_type": "code",
   "execution_count": 23,
   "id": "a367dd0f-dbad-4d7f-81f5-05644f375d8f",
   "metadata": {},
   "outputs": [],
   "source": [
    "# Filtra Apenas Último Ano\n",
    "#df = df[df['Ano'] == max(df['Ano'])].copy()"
   ]
  },
  {
   "cell_type": "markdown",
   "id": "3fc1bc30-391f-4c77-8aa2-2f1da1c106db",
   "metadata": {},
   "source": [
    "- 'Cloro residual livre (mg/L)',\n",
    "- 'Escherichia coli',\n",
    "- 'Fluoreto (mg/L)',\n",
    "- 'Turbidez (uT)',\n",
    "- 'Cor (uH)',\n",
    "- 'Coliformes totais',\n",
    "\n",
    "- 'pH'"
   ]
  },
  {
   "cell_type": "code",
   "execution_count": 24,
   "id": "05d948c6-bdbd-408c-b19a-268a14702581",
   "metadata": {},
   "outputs": [
    {
     "data": {
      "text/plain": [
       "{'Cloro residual livre (mg/L)',\n",
       " 'Coliformes totais',\n",
       " 'Cor (uH)',\n",
       " 'Escherichia coli',\n",
       " 'Fluoreto (mg/L)',\n",
       " 'Turbidez (uT)',\n",
       " 'pH'}"
      ]
     },
     "execution_count": 24,
     "metadata": {},
     "output_type": "execute_result"
    }
   ],
   "source": [
    "set(df['Parâmetro (Parâmetros Básicos)'])"
   ]
  },
  {
   "cell_type": "code",
   "execution_count": 25,
   "id": "b7888b93-b264-4a3f-9d65-60af62597051",
   "metadata": {},
   "outputs": [],
   "source": [
    "df = df[df['Parâmetro (Parâmetros Básicos)'].str.contains('Coliformes')]"
   ]
  },
  {
   "cell_type": "code",
   "execution_count": 26,
   "id": "a3f6d622-ad5e-4bf0-8064-bab1c697c665",
   "metadata": {},
   "outputs": [],
   "source": [
    "df.reset_index(drop=True, inplace=True)\n",
    "df.dropna(how='all', inplace=True)"
   ]
  },
  {
   "cell_type": "code",
   "execution_count": 27,
   "id": "c9ae6465-809f-45c0-a91a-3c3bef90ea86",
   "metadata": {},
   "outputs": [
    {
     "data": {
      "text/plain": [
       "{'AUSENTE', 'PRESENTE'}"
      ]
     },
     "execution_count": 27,
     "metadata": {},
     "output_type": "execute_result"
    }
   ],
   "source": [
    "set(df['Resultado'])"
   ]
  },
  {
   "cell_type": "code",
   "execution_count": 28,
   "id": "179f58ac-7936-484d-a7f6-a2c9ce6a1c9c",
   "metadata": {},
   "outputs": [],
   "source": [
    "df['Resultado'] = df['Resultado'].map({'AUSENTE': 0, 'PRESENTE': 1})"
   ]
  },
  {
   "cell_type": "code",
   "execution_count": 29,
   "id": "ac1013dd-8f9c-4191-a236-00557c6d29b1",
   "metadata": {},
   "outputs": [],
   "source": [
    "# Ajusta Resultados\n",
    "df['Resultado'] = df['Resultado'].astype(str).str.replace(',', '.')\n",
    "df['Resultado'] = pd.to_numeric(df['Resultado'])"
   ]
  },
  {
   "cell_type": "code",
   "execution_count": 30,
   "id": "ff80386a-29d8-4a1d-8124-c7a17fefbfe6",
   "metadata": {},
   "outputs": [],
   "source": [
    "# Adjust Dates\n",
    "df['Data Da Coleta'] = pd.to_datetime(df['Data Da Coleta'])"
   ]
  },
  {
   "cell_type": "code",
   "execution_count": 31,
   "id": "62a60726-f489-41d3-aa32-7968c388aa28",
   "metadata": {},
   "outputs": [
    {
     "data": {
      "text/plain": [
       "Região Geográfica                            object\n",
       "Regional De Saúde                            object\n",
       "Município                                    object\n",
       "Número Da Amostra                            object\n",
       "Motivo Da Coleta                             object\n",
       "Tipo Da Forma De Abastecimento               object\n",
       "Código Forma De Abastecimento                object\n",
       "Nome Da Forma De Abastecimento               object\n",
       "Tipo Da Instituição                          object\n",
       "Sigla Da Instituição                        float64\n",
       "Nome Da Instituição                          object\n",
       "Cnpj Da Instituição                         float64\n",
       "Nome Do Escritório Regional/Local           float64\n",
       "Cnpj Do Escritório Regional/Local           float64\n",
       "Nome Da Eta/Uta                             float64\n",
       "Ano                                           int64\n",
       "Mês                                           int64\n",
       "Data Da Coleta                       datetime64[ns]\n",
       "Data Do Laudo                                object\n",
       "Data De Registro No Sisagua                  object\n",
       "Procedência Da Coleta                        object\n",
       "Ponto De Coleta                              object\n",
       "Descrição Do Local                           object\n",
       "Zona                                         object\n",
       "Categoria Área                               object\n",
       "Área                                         object\n",
       "Tipo Do Local                                object\n",
       "Local                                        object\n",
       "Latitude                                    float64\n",
       "Longitude                                   float64\n",
       "Parâmetro (Parâmetros Básicos)               object\n",
       "Análise Realizada                            object\n",
       "Resultado                                     int64\n",
       "Providência                                  object\n",
       "Uf                                           object\n",
       "Código Ibge                                   int64\n",
       "dtype: object"
      ]
     },
     "execution_count": 31,
     "metadata": {},
     "output_type": "execute_result"
    }
   ],
   "source": [
    "df.dtypes"
   ]
  },
  {
   "cell_type": "code",
   "execution_count": 32,
   "id": "582cdb44-1aae-48ad-acb2-7261891e4b8b",
   "metadata": {},
   "outputs": [
    {
     "data": {
      "text/html": [
       "<div>\n",
       "<style scoped>\n",
       "    .dataframe tbody tr th:only-of-type {\n",
       "        vertical-align: middle;\n",
       "    }\n",
       "\n",
       "    .dataframe tbody tr th {\n",
       "        vertical-align: top;\n",
       "    }\n",
       "\n",
       "    .dataframe thead th {\n",
       "        text-align: right;\n",
       "    }\n",
       "</style>\n",
       "<table border=\"1\" class=\"dataframe\">\n",
       "  <thead>\n",
       "    <tr style=\"text-align: right;\">\n",
       "      <th></th>\n",
       "      <th>Região Geográfica</th>\n",
       "      <th>Regional De Saúde</th>\n",
       "      <th>Município</th>\n",
       "      <th>Número Da Amostra</th>\n",
       "      <th>Motivo Da Coleta</th>\n",
       "      <th>Tipo Da Forma De Abastecimento</th>\n",
       "      <th>Código Forma De Abastecimento</th>\n",
       "      <th>Nome Da Forma De Abastecimento</th>\n",
       "      <th>Tipo Da Instituição</th>\n",
       "      <th>Sigla Da Instituição</th>\n",
       "      <th>...</th>\n",
       "      <th>Tipo Do Local</th>\n",
       "      <th>Local</th>\n",
       "      <th>Latitude</th>\n",
       "      <th>Longitude</th>\n",
       "      <th>Parâmetro (Parâmetros Básicos)</th>\n",
       "      <th>Análise Realizada</th>\n",
       "      <th>Resultado</th>\n",
       "      <th>Providência</th>\n",
       "      <th>Uf</th>\n",
       "      <th>Código Ibge</th>\n",
       "    </tr>\n",
       "  </thead>\n",
       "  <tbody>\n",
       "    <tr>\n",
       "      <th>594</th>\n",
       "      <td>SUDESTE</td>\n",
       "      <td>GVS XVII - CAMPINAS</td>\n",
       "      <td>AMERICANA</td>\n",
       "      <td>211741000018</td>\n",
       "      <td>Rotina</td>\n",
       "      <td>SAA</td>\n",
       "      <td>S350160000001</td>\n",
       "      <td>ETA</td>\n",
       "      <td>Serviço Municipal e outros</td>\n",
       "      <td>NaN</td>\n",
       "      <td>...</td>\n",
       "      <td>NaN</td>\n",
       "      <td>NaN</td>\n",
       "      <td>NaN</td>\n",
       "      <td>NaN</td>\n",
       "      <td>Coliformes totais</td>\n",
       "      <td>NaN</td>\n",
       "      <td>0</td>\n",
       "      <td>NaN</td>\n",
       "      <td>SP</td>\n",
       "      <td>350160</td>\n",
       "    </tr>\n",
       "    <tr>\n",
       "      <th>595</th>\n",
       "      <td>SUDESTE</td>\n",
       "      <td>GVS XVII - CAMPINAS</td>\n",
       "      <td>AMERICANA</td>\n",
       "      <td>211741000093</td>\n",
       "      <td>Rotina</td>\n",
       "      <td>SAA</td>\n",
       "      <td>S350160000001</td>\n",
       "      <td>ETA</td>\n",
       "      <td>Serviço Municipal e outros</td>\n",
       "      <td>NaN</td>\n",
       "      <td>...</td>\n",
       "      <td>NaN</td>\n",
       "      <td>NaN</td>\n",
       "      <td>NaN</td>\n",
       "      <td>NaN</td>\n",
       "      <td>Coliformes totais</td>\n",
       "      <td>NaN</td>\n",
       "      <td>0</td>\n",
       "      <td>NaN</td>\n",
       "      <td>SP</td>\n",
       "      <td>350160</td>\n",
       "    </tr>\n",
       "    <tr>\n",
       "      <th>596</th>\n",
       "      <td>SUDESTE</td>\n",
       "      <td>GVS XVII - CAMPINAS</td>\n",
       "      <td>AMERICANA</td>\n",
       "      <td>221741000005</td>\n",
       "      <td>Rotina</td>\n",
       "      <td>SAA</td>\n",
       "      <td>S350160000001</td>\n",
       "      <td>ETA</td>\n",
       "      <td>Serviço Municipal e outros</td>\n",
       "      <td>NaN</td>\n",
       "      <td>...</td>\n",
       "      <td>NaN</td>\n",
       "      <td>NaN</td>\n",
       "      <td>NaN</td>\n",
       "      <td>NaN</td>\n",
       "      <td>Coliformes totais</td>\n",
       "      <td>NaN</td>\n",
       "      <td>0</td>\n",
       "      <td>NaN</td>\n",
       "      <td>SP</td>\n",
       "      <td>350160</td>\n",
       "    </tr>\n",
       "    <tr>\n",
       "      <th>597</th>\n",
       "      <td>SUDESTE</td>\n",
       "      <td>GVS XVII - CAMPINAS</td>\n",
       "      <td>AMERICANA</td>\n",
       "      <td>221741000006</td>\n",
       "      <td>Rotina</td>\n",
       "      <td>SAA</td>\n",
       "      <td>S350160000001</td>\n",
       "      <td>ETA</td>\n",
       "      <td>Serviço Municipal e outros</td>\n",
       "      <td>NaN</td>\n",
       "      <td>...</td>\n",
       "      <td>NaN</td>\n",
       "      <td>NaN</td>\n",
       "      <td>NaN</td>\n",
       "      <td>NaN</td>\n",
       "      <td>Coliformes totais</td>\n",
       "      <td>NaN</td>\n",
       "      <td>0</td>\n",
       "      <td>NaN</td>\n",
       "      <td>SP</td>\n",
       "      <td>350160</td>\n",
       "    </tr>\n",
       "    <tr>\n",
       "      <th>598</th>\n",
       "      <td>SUDESTE</td>\n",
       "      <td>GVS XVII - CAMPINAS</td>\n",
       "      <td>AMERICANA</td>\n",
       "      <td>221741000007</td>\n",
       "      <td>Rotina</td>\n",
       "      <td>SAA</td>\n",
       "      <td>S350160000001</td>\n",
       "      <td>ETA</td>\n",
       "      <td>Serviço Municipal e outros</td>\n",
       "      <td>NaN</td>\n",
       "      <td>...</td>\n",
       "      <td>NaN</td>\n",
       "      <td>NaN</td>\n",
       "      <td>NaN</td>\n",
       "      <td>NaN</td>\n",
       "      <td>Coliformes totais</td>\n",
       "      <td>NaN</td>\n",
       "      <td>0</td>\n",
       "      <td>NaN</td>\n",
       "      <td>SP</td>\n",
       "      <td>350160</td>\n",
       "    </tr>\n",
       "  </tbody>\n",
       "</table>\n",
       "<p>5 rows × 36 columns</p>\n",
       "</div>"
      ],
      "text/plain": [
       "    Região Geográfica    Regional De Saúde  Município Número Da Amostra  \\\n",
       "594           SUDESTE  GVS XVII - CAMPINAS  AMERICANA      211741000018   \n",
       "595           SUDESTE  GVS XVII - CAMPINAS  AMERICANA      211741000093   \n",
       "596           SUDESTE  GVS XVII - CAMPINAS  AMERICANA      221741000005   \n",
       "597           SUDESTE  GVS XVII - CAMPINAS  AMERICANA      221741000006   \n",
       "598           SUDESTE  GVS XVII - CAMPINAS  AMERICANA      221741000007   \n",
       "\n",
       "    Motivo Da Coleta Tipo Da Forma De Abastecimento  \\\n",
       "594           Rotina                            SAA   \n",
       "595           Rotina                            SAA   \n",
       "596           Rotina                            SAA   \n",
       "597           Rotina                            SAA   \n",
       "598           Rotina                            SAA   \n",
       "\n",
       "    Código Forma De Abastecimento Nome Da Forma De Abastecimento  \\\n",
       "594                 S350160000001                            ETA   \n",
       "595                 S350160000001                            ETA   \n",
       "596                 S350160000001                            ETA   \n",
       "597                 S350160000001                            ETA   \n",
       "598                 S350160000001                            ETA   \n",
       "\n",
       "            Tipo Da Instituição  Sigla Da Instituição  ... Tipo Do Local  \\\n",
       "594  Serviço Municipal e outros                   NaN  ...           NaN   \n",
       "595  Serviço Municipal e outros                   NaN  ...           NaN   \n",
       "596  Serviço Municipal e outros                   NaN  ...           NaN   \n",
       "597  Serviço Municipal e outros                   NaN  ...           NaN   \n",
       "598  Serviço Municipal e outros                   NaN  ...           NaN   \n",
       "\n",
       "     Local  Latitude  Longitude  Parâmetro (Parâmetros Básicos)  \\\n",
       "594    NaN       NaN        NaN               Coliformes totais   \n",
       "595    NaN       NaN        NaN               Coliformes totais   \n",
       "596    NaN       NaN        NaN               Coliformes totais   \n",
       "597    NaN       NaN        NaN               Coliformes totais   \n",
       "598    NaN       NaN        NaN               Coliformes totais   \n",
       "\n",
       "     Análise Realizada  Resultado Providência  Uf Código Ibge  \n",
       "594                NaN          0         NaN  SP      350160  \n",
       "595                NaN          0         NaN  SP      350160  \n",
       "596                NaN          0         NaN  SP      350160  \n",
       "597                NaN          0         NaN  SP      350160  \n",
       "598                NaN          0         NaN  SP      350160  \n",
       "\n",
       "[5 rows x 36 columns]"
      ]
     },
     "execution_count": 32,
     "metadata": {},
     "output_type": "execute_result"
    }
   ],
   "source": [
    "df.tail()"
   ]
  },
  {
   "cell_type": "code",
   "execution_count": 33,
   "id": "2eeaf793-8eec-416d-868b-c5bc6b094dc1",
   "metadata": {},
   "outputs": [
    {
     "name": "stdout",
     "output_type": "stream",
     "text": [
      "599\n"
     ]
    },
    {
     "data": {
      "text/html": [
       "<div>\n",
       "<style scoped>\n",
       "    .dataframe tbody tr th:only-of-type {\n",
       "        vertical-align: middle;\n",
       "    }\n",
       "\n",
       "    .dataframe tbody tr th {\n",
       "        vertical-align: top;\n",
       "    }\n",
       "\n",
       "    .dataframe thead th {\n",
       "        text-align: right;\n",
       "    }\n",
       "</style>\n",
       "<table border=\"1\" class=\"dataframe\">\n",
       "  <thead>\n",
       "    <tr style=\"text-align: right;\">\n",
       "      <th></th>\n",
       "      <th>Região Geográfica</th>\n",
       "      <th>Regional De Saúde</th>\n",
       "      <th>Município</th>\n",
       "      <th>Número Da Amostra</th>\n",
       "      <th>Motivo Da Coleta</th>\n",
       "      <th>Tipo Da Forma De Abastecimento</th>\n",
       "      <th>Código Forma De Abastecimento</th>\n",
       "      <th>Nome Da Forma De Abastecimento</th>\n",
       "      <th>Tipo Da Instituição</th>\n",
       "      <th>Sigla Da Instituição</th>\n",
       "      <th>...</th>\n",
       "      <th>Tipo Do Local</th>\n",
       "      <th>Local</th>\n",
       "      <th>Latitude</th>\n",
       "      <th>Longitude</th>\n",
       "      <th>Parâmetro (Parâmetros Básicos)</th>\n",
       "      <th>Análise Realizada</th>\n",
       "      <th>Resultado</th>\n",
       "      <th>Providência</th>\n",
       "      <th>Uf</th>\n",
       "      <th>Código Ibge</th>\n",
       "    </tr>\n",
       "  </thead>\n",
       "  <tbody>\n",
       "  </tbody>\n",
       "</table>\n",
       "<p>0 rows × 36 columns</p>\n",
       "</div>"
      ],
      "text/plain": [
       "Empty DataFrame\n",
       "Columns: [Região Geográfica, Regional De Saúde, Município, Número Da Amostra, Motivo Da Coleta, Tipo Da Forma De Abastecimento, Código Forma De Abastecimento, Nome Da Forma De Abastecimento, Tipo Da Instituição, Sigla Da Instituição, Nome Da Instituição, Cnpj Da Instituição, Nome Do Escritório Regional/Local, Cnpj Do Escritório Regional/Local, Nome Da Eta/Uta, Ano, Mês, Data Da Coleta, Data Do Laudo, Data De Registro No Sisagua, Procedência Da Coleta, Ponto De Coleta, Descrição Do Local, Zona, Categoria Área, Área, Tipo Do Local, Local, Latitude, Longitude, Parâmetro (Parâmetros Básicos), Análise Realizada, Resultado, Providência, Uf, Código Ibge]\n",
       "Index: []\n",
       "\n",
       "[0 rows x 36 columns]"
      ]
     },
     "execution_count": 33,
     "metadata": {},
     "output_type": "execute_result"
    }
   ],
   "source": [
    "#df.iloc[616]\n",
    "print(len(df))\n",
    "df.loc[600:616]"
   ]
  },
  {
   "cell_type": "code",
   "execution_count": null,
   "id": "9bf2f635-8eae-470e-a18e-af60539527e6",
   "metadata": {},
   "outputs": [],
   "source": []
  },
  {
   "cell_type": "code",
   "execution_count": null,
   "id": "e116fb72-658b-444c-b748-edcc418fb6d7",
   "metadata": {},
   "outputs": [],
   "source": []
  },
  {
   "cell_type": "markdown",
   "id": "d63ba3d4-3b3c-414f-90ad-f86f2f11f525",
   "metadata": {},
   "source": [
    "<br>\n",
    "\n",
    "## Demais Parâmetros"
   ]
  },
  {
   "cell_type": "code",
   "execution_count": 41,
   "id": "094cbbdb-4575-4e72-9b5d-04587db4022f",
   "metadata": {},
   "outputs": [
    {
     "data": {
      "text/plain": [
       "Index([], dtype='object')"
      ]
     },
     "execution_count": 41,
     "metadata": {},
     "output_type": "execute_result"
    }
   ],
   "source": [
    "# Read Table\n",
    "df_bruta = pd.read_excel(\n",
    "    os.path.join(output_path, str(cod_ibge), 'dados brutos', 'vigilancia', 'vigilancia_demais_parametros.xlsx')\n",
    ")\n",
    "\n",
    "df_bruta.columns"
   ]
  },
  {
   "cell_type": "code",
   "execution_count": 42,
   "id": "4cf3e1d4-6a08-47ed-b1f3-8aa5ba72f13a",
   "metadata": {},
   "outputs": [],
   "source": [
    "# Filtra Apenas SAAs\n",
    "if len(df_bruta)>0:\n",
    "    df = df_bruta.loc[df_bruta['Tipo Da Forma De Abastecimento'] == 'SAA'].copy()"
   ]
  },
  {
   "cell_type": "code",
   "execution_count": 43,
   "id": "9631a09a-aa3e-4600-b214-b61e4e78634f",
   "metadata": {},
   "outputs": [],
   "source": [
    "# Filtra Apenas Último Ano\n",
    "if len(df_bruta)>0:\n",
    "    df = df[df['Ano'] == max(df['Ano'])].copy()"
   ]
  },
  {
   "cell_type": "code",
   "execution_count": 44,
   "id": "49f2fb88-9f7f-4ad4-a326-86045ce7be75",
   "metadata": {},
   "outputs": [],
   "source": [
    "if len(df_bruta)>0:\n",
    "    set(df['Parâmetro (Demais Parâmetros)'])"
   ]
  },
  {
   "cell_type": "markdown",
   "id": "ed497480-4cbe-4bab-a66a-6425e8ae8f65",
   "metadata": {},
   "source": [
    "<br>\n",
    "\n",
    "## Cianobactérias"
   ]
  },
  {
   "cell_type": "code",
   "execution_count": 45,
   "id": "4d469a51-76d1-474d-a371-e273b4c56a02",
   "metadata": {},
   "outputs": [
    {
     "data": {
      "text/plain": [
       "Index([], dtype='object')"
      ]
     },
     "execution_count": 45,
     "metadata": {},
     "output_type": "execute_result"
    }
   ],
   "source": [
    "# Read Table\n",
    "df_bruta = pd.read_excel(\n",
    "    os.path.join(output_path, str(cod_ibge), 'dados brutos', 'vigilancia', 'vigilancia_cianobacterias_cianotoxinas.xlsx')\n",
    ")\n",
    "\n",
    "df_bruta.columns"
   ]
  },
  {
   "cell_type": "code",
   "execution_count": null,
   "id": "59e3dddc-c0b5-4d2f-80e5-0903287c4d70",
   "metadata": {},
   "outputs": [],
   "source": []
  },
  {
   "cell_type": "markdown",
   "id": "01d87396-6676-418d-b1e2-3e23dd26744a",
   "metadata": {},
   "source": [
    "<br>\n",
    "\n",
    "# Tabelas do Cadastro"
   ]
  },
  {
   "cell_type": "markdown",
   "id": "aadb80ae-6034-41c9-a3d8-06ae3b311129",
   "metadata": {},
   "source": [
    "<br>\n",
    "\n",
    "## Pontos Captação"
   ]
  },
  {
   "cell_type": "code",
   "execution_count": 47,
   "id": "4aaea761-ae16-43b0-8913-5ec7e57b8962",
   "metadata": {},
   "outputs": [
    {
     "data": {
      "text/plain": [
       "Index(['Região Geográfica', 'Regional De Saúde', 'Município',\n",
       "       'Tipo Da Instituição', 'Sigla Da Instituição', 'Nome Da Instiuição',\n",
       "       'Nome Do Escritório Regional/Local',\n",
       "       'Cnpj Do Escritório Regional/Local', 'Tipo Da Forma De Abastecimento',\n",
       "       'Código Forma De Abastecimento', 'Nome Da Forma De Abastecimento',\n",
       "       'Nome Da Eta/Uta', 'Ano De Referência', 'Tipo De Captação',\n",
       "       'Categoria Do Manancial Superficial', 'Nome Do Manancial Superficial',\n",
       "       'Categoria Do Ponto De Captação Subterrâneo',\n",
       "       'Nome Do Ponto De Captação Subterrâneo', 'Outorga', 'Latitude',\n",
       "       'Longitude', 'Vazão', 'Uf', 'Código Ibge'],\n",
       "      dtype='object')"
      ]
     },
     "execution_count": 47,
     "metadata": {},
     "output_type": "execute_result"
    }
   ],
   "source": [
    "# Read Table\n",
    "df_bruta = pd.read_excel(\n",
    "    os.path.join(output_path, str(cod_ibge), 'dados brutos', 'cadastro', 'cadastro_pontos_captacao.xlsx')\n",
    ")\n",
    "\n",
    "df_bruta.columns"
   ]
  },
  {
   "cell_type": "code",
   "execution_count": null,
   "id": "42c9b2b0-6e4c-4c18-97ca-c1e1af0db798",
   "metadata": {},
   "outputs": [],
   "source": []
  },
  {
   "cell_type": "markdown",
   "id": "07b50818-b5af-4f54-a1e5-72870bdf8636",
   "metadata": {},
   "source": [
    "<br>\n",
    "\n",
    "## População Abastecida"
   ]
  },
  {
   "cell_type": "code",
   "execution_count": 48,
   "id": "5a8d1978-84e0-4ed5-90cb-7c789d632d65",
   "metadata": {},
   "outputs": [
    {
     "data": {
      "text/plain": [
       "Index(['Região Geográfica', 'Regional De Saúde', 'Município',\n",
       "       'Tipo Da Instituição', 'Sigla Da Instituição', 'Nome Da Instituição',\n",
       "       'Cnpj Da Instituição', 'Nome Do Escritório Regional/Local',\n",
       "       'Cnpj Do Escritório Regional/Local', 'Tipo Da Forma De Abastecimento',\n",
       "       'Código Forma De Abastecimento', 'Nome Da Forma De Abastecimento',\n",
       "       'Ano De Referência', 'Data De Registro', 'Data De Preenchimento',\n",
       "       'Carro Pipa', 'Chafariz', 'Fonte', 'Cisterna', 'Canalização',\n",
       "       'Caixa D'Água', 'Sem Reservação', 'Outro Tipo De Suprimento',\n",
       "       'Captação Superficial', 'Captação Subterrânea',\n",
       "       'Captação De Água De Chuva', 'Filtração', 'Desinfecção',\n",
       "       'Número De Economias Residenciais (Domicílios Permanentes)',\n",
       "       'Número De Economias Residenciais (De Uso Ocasional)',\n",
       "       'Razão Habitantes/Domicílio', 'Pop Recebe Água De Saa',\n",
       "       'Pop Recebe Água De Saa/Sac', 'Uf', 'Código Ibge'],\n",
       "      dtype='object')"
      ]
     },
     "execution_count": 48,
     "metadata": {},
     "output_type": "execute_result"
    }
   ],
   "source": [
    "# Read Table\n",
    "df_bruta = pd.read_excel(\n",
    "    os.path.join(output_path, str(cod_ibge), 'dados brutos', 'cadastro', 'cadastro_populacao_abastecida.xlsx')\n",
    ")\n",
    "\n",
    "df_bruta.columns"
   ]
  },
  {
   "cell_type": "code",
   "execution_count": null,
   "id": "5f11f185-6f90-46bf-b100-1bcc6ab7e237",
   "metadata": {},
   "outputs": [],
   "source": []
  },
  {
   "cell_type": "markdown",
   "id": "bbadf3c3-5cb3-440b-a24d-31968cf8c1a6",
   "metadata": {},
   "source": [
    "<br>\n",
    "\n",
    "## Tratamento de Água"
   ]
  },
  {
   "cell_type": "code",
   "execution_count": 49,
   "id": "f7dbdb20-0eb4-43fa-a697-730a53bf79c4",
   "metadata": {},
   "outputs": [
    {
     "data": {
      "text/plain": [
       "Index(['Região Geográfica', 'Regional De Saúde', 'Município',\n",
       "       'Tipo Da Instituição', 'Sigla Da Instituição', 'Nome Da Instituição',\n",
       "       'Cnpj Da Instituição', 'Nome Do Escritório Regional/Local',\n",
       "       'Cnpj Do Escritório Regional/Local', 'Tipo Da Forma De Abastecimento',\n",
       "       'Código Forma De Abastecimento', 'Nome Da Forma De Abastecimento',\n",
       "       'Nome Da Eta/Uta', 'Ano De Referência', 'Data De Registro',\n",
       "       'Data De Preenchimento', 'Captação Superficial', 'Captação Subterrânea',\n",
       "       'Captação De Água De Chuva', 'Cep', 'Endereço', 'Número', 'Ddd',\n",
       "       'Telefone', 'Email', 'Tempo Médio Diário De Funcionamento',\n",
       "       'Etapa Pré-Oxidação', 'Etapa Mistura Rápida/Coagulação',\n",
       "       'Etapa Floculação', 'Etapa Decantação', 'Etapa Flotação',\n",
       "       'Tipo De Filtração', 'Número De Filtros', 'Etapa Desinfecção',\n",
       "       'Desinfecção Com Cloro  Gás Ou Hipoclorito',\n",
       "       'Desinfecção Com Cloramina', 'Desinfecção Com Dióxido Cloro',\n",
       "       'Desinfecção Com Ozônio', 'Desinfecção Com Uv',\n",
       "       'Outro Agente Desinfetante', 'Rad Cloro Residual Livre',\n",
       "       'Rad Cloro Residual Combinado', 'Rad Dióxido De Cloro',\n",
       "       'Etapa Fluoretação', 'Outra Etapa De Tratamento',\n",
       "       'Vazão De Água Tratada', 'Carro Pipa', 'Chafariz', 'Fonte', 'Cisterna',\n",
       "       'Canalização', 'Outro Tipo De Suprimento', 'Responsável Técnico',\n",
       "       'Formação Profissional Do Responsável Técnico',\n",
       "       'Número Do Conselho De Classe Do Responsável Técnico',\n",
       "       'Anotação De Responsabilidade Técnica (Art)', 'Uf', 'Código Ibge'],\n",
       "      dtype='object')"
      ]
     },
     "execution_count": 49,
     "metadata": {},
     "output_type": "execute_result"
    }
   ],
   "source": [
    "# Read Table\n",
    "df_bruta = pd.read_excel(\n",
    "    os.path.join(output_path, str(cod_ibge), 'dados brutos', 'cadastro', 'cadastro_tratamento_de_agua.xlsx')\n",
    ")\n",
    "\n",
    "df_bruta.columns"
   ]
  },
  {
   "cell_type": "code",
   "execution_count": null,
   "id": "3fef8b92-3896-48c3-8478-82cfc21a0c8a",
   "metadata": {},
   "outputs": [],
   "source": []
  },
  {
   "cell_type": "markdown",
   "id": "0ea5931e-0e83-45b8-9588-2b9f968370f7",
   "metadata": {},
   "source": [
    "<br>\n",
    "\n",
    "# Análises"
   ]
  },
  {
   "cell_type": "code",
   "execution_count": null,
   "id": "6d714eef-0c9f-46b9-b690-cf635f8343ec",
   "metadata": {},
   "outputs": [],
   "source": []
  },
  {
   "cell_type": "code",
   "execution_count": null,
   "id": "c868686d-1231-4b33-a1db-7b091cfb78a9",
   "metadata": {},
   "outputs": [],
   "source": []
  },
  {
   "cell_type": "code",
   "execution_count": null,
   "id": "123337e6-2bd9-4c7c-bfe1-f18b179f87a6",
   "metadata": {},
   "outputs": [],
   "source": []
  },
  {
   "cell_type": "code",
   "execution_count": null,
   "id": "f56c24a2-b028-4af0-8634-24fcbfc21e86",
   "metadata": {},
   "outputs": [],
   "source": []
  },
  {
   "cell_type": "code",
   "execution_count": null,
   "id": "a8f39a76-528b-4cd9-ad01-a3b445dcbb32",
   "metadata": {},
   "outputs": [],
   "source": []
  },
  {
   "cell_type": "code",
   "execution_count": null,
   "id": "36526690-6961-4137-8b56-3b28a1c74915",
   "metadata": {},
   "outputs": [],
   "source": []
  },
  {
   "cell_type": "code",
   "execution_count": null,
   "id": "b418895c-30fd-4cdc-aa60-b29550e46194",
   "metadata": {},
   "outputs": [],
   "source": []
  },
  {
   "cell_type": "code",
   "execution_count": null,
   "id": "528b8e56-078f-42eb-8886-2ebd0f34b9a1",
   "metadata": {},
   "outputs": [],
   "source": []
  },
  {
   "cell_type": "markdown",
   "id": "1ef21760-5332-4d87-abeb-c71739e375c2",
   "metadata": {},
   "source": [
    "# Lixos"
   ]
  },
  {
   "cell_type": "code",
   "execution_count": null,
   "id": "87662e06-b8fd-4167-a7a9-5f4048d1454b",
   "metadata": {},
   "outputs": [],
   "source": [
    "#df = df[df['Parâmetro'] == 'Escherichia coli'].copy()\n",
    "df = df[df['Parâmetro'].str.contains('Cloro')].copy()\n",
    "df.head()"
   ]
  },
  {
   "cell_type": "code",
   "execution_count": null,
   "id": "d01452d5-7b67-477f-9fc9-b2fef5734d8d",
   "metadata": {},
   "outputs": [],
   "source": [
    "set(df['Ponto De Monitoramento'])"
   ]
  },
  {
   "cell_type": "code",
   "execution_count": null,
   "id": "8fec4dd2-af36-4e97-a2a2-2903a5e87d24",
   "metadata": {},
   "outputs": [],
   "source": [
    "df = df[df['Ponto De Monitoramento'] == 'SAÍDA DO TRATAMENTO'].copy()\n",
    "df.head()"
   ]
  },
  {
   "cell_type": "code",
   "execution_count": null,
   "id": "d086e1a1-80c8-4ae9-ab9f-ccfc9f17c96e",
   "metadata": {},
   "outputs": [],
   "source": [
    "df = df[['Ano De Referência', 'Mês De Referência', 'Campo', 'Valor']].copy()\n",
    "df = df.sort_values(by=['Ano De Referência', 'Mês De Referência', 'Campo']).copy()\n",
    "df.head()"
   ]
  },
  {
   "cell_type": "markdown",
   "id": "26ec2dff-522e-469d-ae42-a37d8d3f11d9",
   "metadata": {},
   "source": [
    "Americana não tinha amostras no Ponto de captação....\n",
    "\n",
    "{'SAÍDA DO TRATAMENTO', 'SISTEMA DE DISTRIBUIÇÃO'}"
   ]
  },
  {
   "cell_type": "code",
   "execution_count": null,
   "id": "7822e4fb-e4ba-4720-8463-b564435263d4",
   "metadata": {},
   "outputs": [],
   "source": [
    "df['Valor'] = df['Valor'].astype(str).str.replace(',','.')\n",
    "df['Valor'] = df['Valor'].astype(float).fillna(0.0)\n",
    "df.head()"
   ]
  },
  {
   "cell_type": "markdown",
   "id": "074d85ce-8331-4ccd-9451-ad0959c023a5",
   "metadata": {},
   "source": [
    "<br>\n",
    "\n",
    "Fazer gráfico multidimensional...\n",
    "Gráfico..."
   ]
  },
  {
   "cell_type": "code",
   "execution_count": null,
   "id": "9ca0f80a-0a4e-4867-94f7-01740e49e61f",
   "metadata": {},
   "outputs": [],
   "source": []
  },
  {
   "cell_type": "code",
   "execution_count": null,
   "id": "e7586f35-3047-4bfb-839e-ae4f2a9e9fa7",
   "metadata": {},
   "outputs": [],
   "source": []
  }
 ],
 "metadata": {
  "kernelspec": {
   "display_name": "Python [conda env:pablocarreira-py39] *",
   "language": "python",
   "name": "conda-env-pablocarreira-py39-py"
  },
  "language_info": {
   "codemirror_mode": {
    "name": "ipython",
    "version": 3
   },
   "file_extension": ".py",
   "mimetype": "text/x-python",
   "name": "python",
   "nbconvert_exporter": "python",
   "pygments_lexer": "ipython3",
   "version": "3.9.12"
  },
  "toc-autonumbering": true
 },
 "nbformat": 4,
 "nbformat_minor": 5
}
