{
 "cells": [
  {
   "cell_type": "markdown",
   "id": "39dc470f-b342-4a9a-a510-22d531946818",
   "metadata": {},
   "source": [
    "<br>\n",
    "\n",
    "# Introdução\n",
    "\n",
    "Tabela criada para avaliar os parâmetros de todas as tabelas de um só município...\n",
    "A partir dessa tabela que passei a criar a ideia de subir tudo para o bit-io... escrevendo o script 04. parquet bit!"
   ]
  },
  {
   "cell_type": "code",
   "execution_count": null,
   "id": "f597e949-0bcb-477c-a510-5a5a259f0af1",
   "metadata": {},
   "outputs": [],
   "source": [
    "import os\n",
    "import re\n",
    "import sys\n",
    "import pprint\n",
    "import pandas as pd\n",
    "from scipy.stats import gmean\n",
    "from dateutil.relativedelta import relativedelta"
   ]
  },
  {
   "cell_type": "code",
   "execution_count": null,
   "id": "aa9ccd35-f528-491c-ad96-1aa3c6a6b078",
   "metadata": {},
   "outputs": [],
   "source": [
    "from paths import *"
   ]
  },
  {
   "cell_type": "code",
   "execution_count": null,
   "id": "3f467ee7-11c8-4a04-bf3e-8a01c7f82766",
   "metadata": {},
   "outputs": [],
   "source": [
    "# Parameters\n",
    "#cod_ibge = '3548906' # São Carlos\n",
    "#cod_ibge = '3526902' # Limeira\n",
    "#cod_ibge = '3505203' # Barrrrrr\n",
    "cod_ibge = '3501608' # Americana"
   ]
  },
  {
   "cell_type": "markdown",
   "id": "99fe901a-86e9-4b96-8d3f-d34427ca1f36",
   "metadata": {},
   "source": [
    "<br>\n",
    "\n",
    "# Tabelas do Controle"
   ]
  },
  {
   "cell_type": "markdown",
   "id": "5d32c7dd-bcc3-463d-b6fb-1c5fa6f27bd4",
   "metadata": {},
   "source": [
    "<br>\n",
    "\n",
    "## Parâmetros Básicos"
   ]
  },
  {
   "cell_type": "code",
   "execution_count": null,
   "id": "892adcf4-dcc7-42d7-9af7-5982e8636816",
   "metadata": {},
   "outputs": [],
   "source": [
    "# Read Table\n",
    "df_bruta = pd.read_excel(\n",
    "    os.path.join(output_path, str(cod_ibge), 'dados brutos', 'controle', 'controle_mensal_parametros_basicos.xlsx')\n",
    ")"
   ]
  },
  {
   "cell_type": "code",
   "execution_count": null,
   "id": "bc12f793-a62f-4a1f-b3c3-2d6a46149668",
   "metadata": {},
   "outputs": [],
   "source": [
    "# Filtra Apenas SAAs\n",
    "df = df_bruta.loc[df_bruta['Tipo Da Forma De Abastecimento'] == 'SAA'].copy()"
   ]
  },
  {
   "cell_type": "code",
   "execution_count": null,
   "id": "c1b8a66d-fb4d-46e2-ac15-e6c45e8a8768",
   "metadata": {},
   "outputs": [],
   "source": [
    "# Filtra Apenas Último Ano\n",
    "df = df[df['Ano De Referência'] == max(df['Ano De Referência'])].copy()"
   ]
  },
  {
   "cell_type": "code",
   "execution_count": null,
   "id": "c6825c0f-ca41-4d8f-83f9-4069a9b08e63",
   "metadata": {},
   "outputs": [],
   "source": [
    "set(df['Parâmetro'])"
   ]
  },
  {
   "cell_type": "markdown",
   "id": "09647d2b-aede-4a62-9ef9-aebee023f822",
   "metadata": {},
   "source": [
    "<br>\n",
    "\n",
    "## Demais Parâmetros"
   ]
  },
  {
   "cell_type": "code",
   "execution_count": null,
   "id": "9033317d-a41a-4885-9398-fe293c25ce4b",
   "metadata": {},
   "outputs": [],
   "source": [
    "# Read Table\n",
    "df_bruta = pd.read_excel(\n",
    "    os.path.join(output_path, str(cod_ibge), 'dados brutos', 'controle', 'controle_mensal_demais_parametros.xlsx')\n",
    ")"
   ]
  },
  {
   "cell_type": "code",
   "execution_count": null,
   "id": "8061abb1-f52b-483d-8ef5-ebba8f1ec84a",
   "metadata": {},
   "outputs": [],
   "source": [
    "# Filtra Apenas SAAs\n",
    "df = df_bruta.loc[df_bruta['Tipo Da Forma De Abastecimento'] == 'SAA'].copy()"
   ]
  },
  {
   "cell_type": "code",
   "execution_count": null,
   "id": "4bc1cfd7-ff98-455c-ae5f-0d20c5b4bfe5",
   "metadata": {},
   "outputs": [],
   "source": [
    "# Filtra Apenas Último Ano\n",
    "df = df[df['Ano De Referência'] == max(df['Ano De Referência'])].copy()"
   ]
  },
  {
   "cell_type": "code",
   "execution_count": null,
   "id": "38dcb76f-35e7-4c6c-a5ad-3c2e956f256d",
   "metadata": {},
   "outputs": [],
   "source": [
    "set(df['Parâmetro'])"
   ]
  },
  {
   "cell_type": "markdown",
   "id": "c1563111-703a-41e4-98b8-e3a740c9fc6c",
   "metadata": {},
   "source": [
    "<br>\n",
    "\n",
    "## Fora do Padrão"
   ]
  },
  {
   "cell_type": "code",
   "execution_count": null,
   "id": "c79ed2f8-324d-441f-b1e4-dd848fc6ad3f",
   "metadata": {},
   "outputs": [],
   "source": [
    "# Read Table\n",
    "df_bruta = pd.read_excel(\n",
    "    os.path.join(output_path, str(cod_ibge), 'dados brutos', 'controle', 'controle_mensal_amostras_fora_padrao.xlsx')\n",
    ")"
   ]
  },
  {
   "cell_type": "code",
   "execution_count": null,
   "id": "69e2706f-a2b6-45be-95b4-75b6ea49b66d",
   "metadata": {},
   "outputs": [],
   "source": [
    "# Filtra Apenas SAAs\n",
    "df = df_bruta.loc[df_bruta['Tipo Da Forma De Abastecimento'] == 'SAA'].copy()"
   ]
  },
  {
   "cell_type": "code",
   "execution_count": null,
   "id": "a98e0aef-233b-43c0-8efb-cd3e397325a6",
   "metadata": {},
   "outputs": [],
   "source": [
    "# Filtra Apenas Último Ano\n",
    "df = df[df['Ano De Referência'] == max(df['Ano De Referência'])].copy()"
   ]
  },
  {
   "cell_type": "code",
   "execution_count": null,
   "id": "68c12dc1-064c-4b0e-a970-efceb1fa71f0",
   "metadata": {},
   "outputs": [],
   "source": [
    "set(df['Parâmetro'])"
   ]
  },
  {
   "cell_type": "markdown",
   "id": "1eacf28e-f38f-4241-b414-3a7f0e8aa5d6",
   "metadata": {},
   "source": [
    "<br>\n",
    "\n",
    "## Controle Semestral"
   ]
  },
  {
   "cell_type": "code",
   "execution_count": null,
   "id": "1b1da0bb-9c7c-492b-a4dd-924b625fe238",
   "metadata": {},
   "outputs": [],
   "source": [
    "# Read Table\n",
    "df_bruta = pd.read_excel(\n",
    "    os.path.join(output_path, str(cod_ibge), 'dados brutos', 'controle', 'controle_semestral.xlsx')\n",
    ")"
   ]
  },
  {
   "cell_type": "code",
   "execution_count": null,
   "id": "870a9fb8-0b3a-4d55-9f67-0f9fc430c502",
   "metadata": {},
   "outputs": [],
   "source": [
    "# Filtra Apenas SAAs\n",
    "df = df_bruta.loc[df_bruta['Tipo Da Forma De Abastecimento'] == 'SAA']"
   ]
  },
  {
   "cell_type": "code",
   "execution_count": null,
   "id": "7277dcf6-496b-4a11-80ee-fffdc41adbb8",
   "metadata": {},
   "outputs": [],
   "source": [
    "#df.info()\n",
    "#list(df.columns)"
   ]
  },
  {
   "cell_type": "code",
   "execution_count": null,
   "id": "69ef32b5-328c-4ed1-9321-9f7cfc7a7e68",
   "metadata": {},
   "outputs": [],
   "source": [
    "# Filtra Apenas Último Ano\n",
    "df = df[df['Ano De Referência'] == max(df['Ano De Referência'])].copy()"
   ]
  },
  {
   "cell_type": "code",
   "execution_count": null,
   "id": "6d1863b0-c4c0-46f0-aec7-cd5ba7f10b53",
   "metadata": {},
   "outputs": [],
   "source": [
    "set(df['Parâmetro'])"
   ]
  },
  {
   "cell_type": "markdown",
   "id": "1aece528-599f-463a-a023-b60784532c0d",
   "metadata": {},
   "source": [
    "<br>\n",
    "\n",
    "## Infra Operacional"
   ]
  },
  {
   "cell_type": "code",
   "execution_count": null,
   "id": "05b9f93b-921f-4e30-be73-907686bbc536",
   "metadata": {},
   "outputs": [],
   "source": []
  },
  {
   "cell_type": "code",
   "execution_count": null,
   "id": "3ebac80e-5b87-4f45-9e24-15fdf1d9eea3",
   "metadata": {},
   "outputs": [],
   "source": []
  },
  {
   "cell_type": "code",
   "execution_count": null,
   "id": "34c2b849-44db-42b9-ad26-fac9a930dc7a",
   "metadata": {},
   "outputs": [],
   "source": []
  },
  {
   "cell_type": "markdown",
   "id": "8c582827-7611-4672-b87a-16bb003ab35d",
   "metadata": {},
   "source": [
    "<br>\n",
    "\n",
    "# Tabelas da Vigilância"
   ]
  },
  {
   "cell_type": "markdown",
   "id": "5640ea5c-2204-4971-ac36-d52450340f0d",
   "metadata": {},
   "source": [
    "<br>\n",
    "\n",
    "## Parâmetros Básicos"
   ]
  },
  {
   "cell_type": "code",
   "execution_count": null,
   "id": "d2fb743e-1473-4df6-84cf-78e3456a91e9",
   "metadata": {},
   "outputs": [],
   "source": [
    "# Read Table\n",
    "df_bruta = pd.read_excel(\n",
    "    os.path.join(output_path, str(cod_ibge), 'dados brutos', 'vigilancia', 'vigilancia_parametros_basicos.xlsx')\n",
    ")"
   ]
  },
  {
   "cell_type": "code",
   "execution_count": null,
   "id": "cc9e3b2c-6f3a-4bf3-b0de-9a12762504b2",
   "metadata": {},
   "outputs": [],
   "source": [
    "# Filtra Apenas SAAs\n",
    "df = df_bruta.loc[df_bruta['Tipo Da Forma De Abastecimento'] == 'SAA'].copy()"
   ]
  },
  {
   "cell_type": "code",
   "execution_count": null,
   "id": "a367dd0f-dbad-4d7f-81f5-05644f375d8f",
   "metadata": {},
   "outputs": [],
   "source": [
    "# Filtra Apenas Último Ano\n",
    "#df = df[df['Ano'] == max(df['Ano'])].copy()"
   ]
  },
  {
   "cell_type": "markdown",
   "id": "3fc1bc30-391f-4c77-8aa2-2f1da1c106db",
   "metadata": {},
   "source": [
    "- 'Cloro residual livre (mg/L)',\n",
    "- 'Escherichia coli',\n",
    "- 'Fluoreto (mg/L)',\n",
    "- 'Turbidez (uT)',\n",
    "- 'Cor (uH)',\n",
    "- 'Coliformes totais',\n",
    "\n",
    "- 'pH'"
   ]
  },
  {
   "cell_type": "code",
   "execution_count": null,
   "id": "05d948c6-bdbd-408c-b19a-268a14702581",
   "metadata": {},
   "outputs": [],
   "source": [
    "set(df['Parâmetro (Parâmetros Básicos)'])"
   ]
  },
  {
   "cell_type": "code",
   "execution_count": null,
   "id": "b7888b93-b264-4a3f-9d65-60af62597051",
   "metadata": {},
   "outputs": [],
   "source": [
    "df = df[df['Parâmetro (Parâmetros Básicos)'].str.contains('Coliformes')]"
   ]
  },
  {
   "cell_type": "code",
   "execution_count": null,
   "id": "a3f6d622-ad5e-4bf0-8064-bab1c697c665",
   "metadata": {},
   "outputs": [],
   "source": [
    "df.reset_index(drop=True, inplace=True)\n",
    "df.dropna(how='all', inplace=True)"
   ]
  },
  {
   "cell_type": "code",
   "execution_count": null,
   "id": "c9ae6465-809f-45c0-a91a-3c3bef90ea86",
   "metadata": {},
   "outputs": [],
   "source": [
    "set(df['Resultado'])"
   ]
  },
  {
   "cell_type": "code",
   "execution_count": null,
   "id": "179f58ac-7936-484d-a7f6-a2c9ce6a1c9c",
   "metadata": {},
   "outputs": [],
   "source": [
    "df['Resultado'] = df['Resultado'].map({'AUSENTE': 0, 'PRESENTE': 1})"
   ]
  },
  {
   "cell_type": "code",
   "execution_count": null,
   "id": "ac1013dd-8f9c-4191-a236-00557c6d29b1",
   "metadata": {},
   "outputs": [],
   "source": [
    "# Ajusta Resultados\n",
    "df['Resultado'] = df['Resultado'].astype(str).str.replace(',', '.')\n",
    "df['Resultado'] = pd.to_numeric(df['Resultado'])"
   ]
  },
  {
   "cell_type": "code",
   "execution_count": null,
   "id": "ff80386a-29d8-4a1d-8124-c7a17fefbfe6",
   "metadata": {},
   "outputs": [],
   "source": [
    "# Adjust Dates\n",
    "df['Data Da Coleta'] = pd.to_datetime(df['Data Da Coleta'])"
   ]
  },
  {
   "cell_type": "code",
   "execution_count": null,
   "id": "62a60726-f489-41d3-aa32-7968c388aa28",
   "metadata": {},
   "outputs": [],
   "source": [
    "df.dtypes"
   ]
  },
  {
   "cell_type": "code",
   "execution_count": null,
   "id": "582cdb44-1aae-48ad-acb2-7261891e4b8b",
   "metadata": {},
   "outputs": [],
   "source": [
    "df.tail()"
   ]
  },
  {
   "cell_type": "code",
   "execution_count": null,
   "id": "2eeaf793-8eec-416d-868b-c5bc6b094dc1",
   "metadata": {},
   "outputs": [],
   "source": [
    "#df.iloc[616]\n",
    "print(len(df))\n",
    "df.loc[600:616]"
   ]
  },
  {
   "cell_type": "code",
   "execution_count": null,
   "id": "9bf2f635-8eae-470e-a18e-af60539527e6",
   "metadata": {},
   "outputs": [],
   "source": []
  },
  {
   "cell_type": "code",
   "execution_count": null,
   "id": "e116fb72-658b-444c-b748-edcc418fb6d7",
   "metadata": {},
   "outputs": [],
   "source": []
  },
  {
   "cell_type": "markdown",
   "id": "d63ba3d4-3b3c-414f-90ad-f86f2f11f525",
   "metadata": {},
   "source": [
    "<br>\n",
    "\n",
    "## Demais Parâmetros"
   ]
  },
  {
   "cell_type": "code",
   "execution_count": null,
   "id": "094cbbdb-4575-4e72-9b5d-04587db4022f",
   "metadata": {},
   "outputs": [],
   "source": [
    "# Read Table\n",
    "df_bruta = pd.read_excel(\n",
    "    os.path.join(output_path, str(cod_ibge), 'dados brutos', 'vigilancia', 'vigilancia_demais_parametros.xlsx')\n",
    ")\n",
    "\n",
    "df_bruta.columns"
   ]
  },
  {
   "cell_type": "code",
   "execution_count": null,
   "id": "4cf3e1d4-6a08-47ed-b1f3-8aa5ba72f13a",
   "metadata": {},
   "outputs": [],
   "source": [
    "# Filtra Apenas SAAs\n",
    "if len(df_bruta)>0:\n",
    "    df = df_bruta.loc[df_bruta['Tipo Da Forma De Abastecimento'] == 'SAA'].copy()"
   ]
  },
  {
   "cell_type": "code",
   "execution_count": null,
   "id": "9631a09a-aa3e-4600-b214-b61e4e78634f",
   "metadata": {},
   "outputs": [],
   "source": [
    "# Filtra Apenas Último Ano\n",
    "if len(df_bruta)>0:\n",
    "    df = df[df['Ano'] == max(df['Ano'])].copy()"
   ]
  },
  {
   "cell_type": "code",
   "execution_count": null,
   "id": "49f2fb88-9f7f-4ad4-a326-86045ce7be75",
   "metadata": {},
   "outputs": [],
   "source": [
    "if len(df_bruta)>0:\n",
    "    set(df['Parâmetro (Demais Parâmetros)'])"
   ]
  },
  {
   "cell_type": "markdown",
   "id": "ed497480-4cbe-4bab-a66a-6425e8ae8f65",
   "metadata": {},
   "source": [
    "<br>\n",
    "\n",
    "## Cianobactérias"
   ]
  },
  {
   "cell_type": "code",
   "execution_count": null,
   "id": "4d469a51-76d1-474d-a371-e273b4c56a02",
   "metadata": {},
   "outputs": [],
   "source": [
    "# Read Table\n",
    "df_bruta = pd.read_excel(\n",
    "    os.path.join(output_path, str(cod_ibge), 'dados brutos', 'vigilancia', 'vigilancia_cianobacterias_cianotoxinas.xlsx')\n",
    ")\n",
    "\n",
    "df_bruta.columns"
   ]
  },
  {
   "cell_type": "code",
   "execution_count": null,
   "id": "59e3dddc-c0b5-4d2f-80e5-0903287c4d70",
   "metadata": {},
   "outputs": [],
   "source": []
  },
  {
   "cell_type": "markdown",
   "id": "01d87396-6676-418d-b1e2-3e23dd26744a",
   "metadata": {},
   "source": [
    "<br>\n",
    "\n",
    "# Tabelas do Cadastro"
   ]
  },
  {
   "cell_type": "markdown",
   "id": "aadb80ae-6034-41c9-a3d8-06ae3b311129",
   "metadata": {},
   "source": [
    "<br>\n",
    "\n",
    "## Pontos Captação"
   ]
  },
  {
   "cell_type": "code",
   "execution_count": null,
   "id": "4aaea761-ae16-43b0-8913-5ec7e57b8962",
   "metadata": {},
   "outputs": [],
   "source": [
    "# Read Table\n",
    "df_bruta = pd.read_excel(\n",
    "    os.path.join(output_path, str(cod_ibge), 'dados brutos', 'cadastro', 'cadastro_pontos_captacao.xlsx')\n",
    ")\n",
    "\n",
    "df_bruta.columns"
   ]
  },
  {
   "cell_type": "code",
   "execution_count": null,
   "id": "42c9b2b0-6e4c-4c18-97ca-c1e1af0db798",
   "metadata": {},
   "outputs": [],
   "source": []
  },
  {
   "cell_type": "markdown",
   "id": "07b50818-b5af-4f54-a1e5-72870bdf8636",
   "metadata": {},
   "source": [
    "<br>\n",
    "\n",
    "## População Abastecida"
   ]
  },
  {
   "cell_type": "code",
   "execution_count": null,
   "id": "5a8d1978-84e0-4ed5-90cb-7c789d632d65",
   "metadata": {},
   "outputs": [],
   "source": [
    "# Read Table\n",
    "df_bruta = pd.read_excel(\n",
    "    os.path.join(output_path, str(cod_ibge), 'dados brutos', 'cadastro', 'cadastro_populacao_abastecida.xlsx')\n",
    ")\n",
    "\n",
    "df_bruta.columns"
   ]
  },
  {
   "cell_type": "code",
   "execution_count": null,
   "id": "5f11f185-6f90-46bf-b100-1bcc6ab7e237",
   "metadata": {},
   "outputs": [],
   "source": []
  },
  {
   "cell_type": "markdown",
   "id": "bbadf3c3-5cb3-440b-a24d-31968cf8c1a6",
   "metadata": {},
   "source": [
    "<br>\n",
    "\n",
    "## Tratamento de Água"
   ]
  },
  {
   "cell_type": "code",
   "execution_count": null,
   "id": "f7dbdb20-0eb4-43fa-a697-730a53bf79c4",
   "metadata": {},
   "outputs": [],
   "source": [
    "# Read Table\n",
    "df_bruta = pd.read_excel(\n",
    "    os.path.join(output_path, str(cod_ibge), 'dados brutos', 'cadastro', 'cadastro_tratamento_de_agua.xlsx')\n",
    ")\n",
    "\n",
    "df_bruta.columns"
   ]
  },
  {
   "cell_type": "code",
   "execution_count": null,
   "id": "3fef8b92-3896-48c3-8478-82cfc21a0c8a",
   "metadata": {},
   "outputs": [],
   "source": []
  },
  {
   "cell_type": "markdown",
   "id": "0ea5931e-0e83-45b8-9588-2b9f968370f7",
   "metadata": {},
   "source": [
    "<br>\n",
    "\n",
    "# Análises"
   ]
  },
  {
   "cell_type": "code",
   "execution_count": null,
   "id": "6d714eef-0c9f-46b9-b690-cf635f8343ec",
   "metadata": {},
   "outputs": [],
   "source": []
  },
  {
   "cell_type": "code",
   "execution_count": null,
   "id": "c868686d-1231-4b33-a1db-7b091cfb78a9",
   "metadata": {},
   "outputs": [],
   "source": []
  },
  {
   "cell_type": "code",
   "execution_count": null,
   "id": "123337e6-2bd9-4c7c-bfe1-f18b179f87a6",
   "metadata": {},
   "outputs": [],
   "source": []
  },
  {
   "cell_type": "code",
   "execution_count": null,
   "id": "f56c24a2-b028-4af0-8634-24fcbfc21e86",
   "metadata": {},
   "outputs": [],
   "source": []
  },
  {
   "cell_type": "code",
   "execution_count": null,
   "id": "a8f39a76-528b-4cd9-ad01-a3b445dcbb32",
   "metadata": {},
   "outputs": [],
   "source": []
  },
  {
   "cell_type": "code",
   "execution_count": null,
   "id": "36526690-6961-4137-8b56-3b28a1c74915",
   "metadata": {},
   "outputs": [],
   "source": []
  },
  {
   "cell_type": "code",
   "execution_count": null,
   "id": "b418895c-30fd-4cdc-aa60-b29550e46194",
   "metadata": {},
   "outputs": [],
   "source": []
  },
  {
   "cell_type": "code",
   "execution_count": null,
   "id": "528b8e56-078f-42eb-8886-2ebd0f34b9a1",
   "metadata": {},
   "outputs": [],
   "source": []
  },
  {
   "cell_type": "markdown",
   "id": "1ef21760-5332-4d87-abeb-c71739e375c2",
   "metadata": {},
   "source": [
    "# Lixos"
   ]
  },
  {
   "cell_type": "code",
   "execution_count": null,
   "id": "87662e06-b8fd-4167-a7a9-5f4048d1454b",
   "metadata": {},
   "outputs": [],
   "source": [
    "#df = df[df['Parâmetro'] == 'Escherichia coli'].copy()\n",
    "df = df[df['Parâmetro'].str.contains('Cloro')].copy()\n",
    "df.head()"
   ]
  },
  {
   "cell_type": "code",
   "execution_count": null,
   "id": "d01452d5-7b67-477f-9fc9-b2fef5734d8d",
   "metadata": {},
   "outputs": [],
   "source": [
    "set(df['Ponto De Monitoramento'])"
   ]
  },
  {
   "cell_type": "code",
   "execution_count": null,
   "id": "8fec4dd2-af36-4e97-a2a2-2903a5e87d24",
   "metadata": {},
   "outputs": [],
   "source": [
    "df = df[df['Ponto De Monitoramento'] == 'SAÍDA DO TRATAMENTO'].copy()\n",
    "df.head()"
   ]
  },
  {
   "cell_type": "code",
   "execution_count": null,
   "id": "d086e1a1-80c8-4ae9-ab9f-ccfc9f17c96e",
   "metadata": {},
   "outputs": [],
   "source": [
    "df = df[['Ano De Referência', 'Mês De Referência', 'Campo', 'Valor']].copy()\n",
    "df = df.sort_values(by=['Ano De Referência', 'Mês De Referência', 'Campo']).copy()\n",
    "df.head()"
   ]
  },
  {
   "cell_type": "markdown",
   "id": "26ec2dff-522e-469d-ae42-a37d8d3f11d9",
   "metadata": {},
   "source": [
    "Americana não tinha amostras no Ponto de captação....\n",
    "\n",
    "{'SAÍDA DO TRATAMENTO', 'SISTEMA DE DISTRIBUIÇÃO'}"
   ]
  },
  {
   "cell_type": "code",
   "execution_count": null,
   "id": "7822e4fb-e4ba-4720-8463-b564435263d4",
   "metadata": {},
   "outputs": [],
   "source": [
    "df['Valor'] = df['Valor'].astype(str).str.replace(',','.')\n",
    "df['Valor'] = df['Valor'].astype(float).fillna(0.0)\n",
    "df.head()"
   ]
  },
  {
   "cell_type": "markdown",
   "id": "074d85ce-8331-4ccd-9451-ad0959c023a5",
   "metadata": {},
   "source": [
    "<br>\n",
    "\n",
    "Fazer gráfico multidimensional...\n",
    "Gráfico..."
   ]
  },
  {
   "cell_type": "code",
   "execution_count": null,
   "id": "9ca0f80a-0a4e-4867-94f7-01740e49e61f",
   "metadata": {},
   "outputs": [],
   "source": []
  },
  {
   "cell_type": "code",
   "execution_count": null,
   "id": "e7586f35-3047-4bfb-839e-ae4f2a9e9fa7",
   "metadata": {},
   "outputs": [],
   "source": []
  }
 ],
 "metadata": {
  "kernelspec": {
   "display_name": "Python [conda env:pablocarreira-py39] *",
   "language": "python",
   "name": "conda-env-pablocarreira-py39-py"
  },
  "language_info": {
   "codemirror_mode": {
    "name": "ipython",
    "version": 3
   },
   "file_extension": ".py",
   "mimetype": "text/x-python",
   "name": "python",
   "nbconvert_exporter": "python",
   "pygments_lexer": "ipython3",
   "version": "3.9.12"
  },
  "toc-autonumbering": true
 },
 "nbformat": 4,
 "nbformat_minor": 5
}
