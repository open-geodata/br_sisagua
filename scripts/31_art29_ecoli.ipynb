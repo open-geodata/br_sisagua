{
 "cells": [
  {
   "cell_type": "markdown",
   "id": "0d71fc7e-27fa-492a-b743-91dca0aee869",
   "metadata": {},
   "source": [
    "Art. 29 Os sistemas e soluções alternativas coletivas de abastecimento de água que utilizam mananciais superficiais devem realizar monitoramento mensal de Escherichia coli no(s) ponto(s) de captação de água.\n",
    "\n",
    "§ 1º Quando for identificada média geométrica móvel dos últimos 12 meses de monitoramento maior ou igual a 1.000 Escherichia coli/100mL, deve-se avaliar a eficiência de remoção da Estação de Tratamento de Água (ETA) por meio do monitoramento semanal de esporos de bactérias aeróbias."
   ]
  },
  {
   "cell_type": "code",
   "execution_count": null,
   "id": "f597e949-0bcb-477c-a510-5a5a259f0af1",
   "metadata": {},
   "outputs": [],
   "source": [
    "import os\n",
    "import re\n",
    "import sys\n",
    "import pprint\n",
    "import pandas as pd\n",
    "from scipy.stats import gmean\n",
    "from dateutil.relativedelta import relativedelta"
   ]
  },
  {
   "cell_type": "code",
   "execution_count": null,
   "id": "aa9ccd35-f528-491c-ad96-1aa3c6a6b078",
   "metadata": {},
   "outputs": [],
   "source": [
    "from paths import *"
   ]
  },
  {
   "cell_type": "code",
   "execution_count": null,
   "id": "3f467ee7-11c8-4a04-bf3e-8a01c7f82766",
   "metadata": {},
   "outputs": [],
   "source": [
    "# Parameters\n",
    "cod_ibge = '3548906' # São Carlos\n",
    "cod_ibge = '3526902' # Limeira\n",
    "cod_ibge = '3501608' # Americana"
   ]
  },
  {
   "cell_type": "code",
   "execution_count": null,
   "id": "1b1da0bb-9c7c-492b-a4dd-924b625fe238",
   "metadata": {},
   "outputs": [],
   "source": [
    "# Read Table\n",
    "df_bruta = pd.read_excel(\n",
    "    os.path.join(output_path, str(cod_ibge), 'dados brutos', 'controle', 'controle_mensal_parametros_basicos.xlsx')\n",
    ")"
   ]
  },
  {
   "cell_type": "code",
   "execution_count": null,
   "id": "870a9fb8-0b3a-4d55-9f67-0f9fc430c502",
   "metadata": {},
   "outputs": [],
   "source": [
    "# Filtra Apenas SAAs\n",
    "df = df_bruta.loc[df_bruta['Tipo Da Forma De Abastecimento'] == 'SAA']\n",
    "\n",
    "# Filtra Apenas Último Ano\n",
    "df = df[df['Ano De Referência'] == max(df['Ano De Referência'])].copy()"
   ]
  },
  {
   "cell_type": "code",
   "execution_count": null,
   "id": "fd1119d5-be40-405a-bcde-909db2fab034",
   "metadata": {},
   "outputs": [],
   "source": [
    "#df.info()\n",
    "list(df.columns)"
   ]
  },
  {
   "cell_type": "markdown",
   "id": "0b2a8ba8-a3f4-4543-90f2-b016281b7c1b",
   "metadata": {},
   "source": [
    "<br>\n",
    "\n",
    "# Artigo 29"
   ]
  },
  {
   "cell_type": "code",
   "execution_count": null,
   "id": "b3f7b050-6c55-4a25-88eb-043048cad236",
   "metadata": {},
   "outputs": [],
   "source": [
    "set(df['Parâmetro'])"
   ]
  },
  {
   "cell_type": "code",
   "execution_count": null,
   "id": "87662e06-b8fd-4167-a7a9-5f4048d1454b",
   "metadata": {},
   "outputs": [],
   "source": [
    "df = df[df['Parâmetro'] == 'Escherichia coli'].copy()\n",
    "df.head()"
   ]
  },
  {
   "cell_type": "code",
   "execution_count": null,
   "id": "d01452d5-7b67-477f-9fc9-b2fef5734d8d",
   "metadata": {},
   "outputs": [],
   "source": [
    "set(df['Ponto De Monitoramento'])"
   ]
  },
  {
   "cell_type": "code",
   "execution_count": null,
   "id": "8fec4dd2-af36-4e97-a2a2-2903a5e87d24",
   "metadata": {},
   "outputs": [],
   "source": [
    "df = df[df['Ponto De Monitoramento'] == 'SAÍDA DO TRATAMENTO'].copy()\n",
    "df.head()"
   ]
  },
  {
   "cell_type": "code",
   "execution_count": null,
   "id": "d086e1a1-80c8-4ae9-ab9f-ccfc9f17c96e",
   "metadata": {},
   "outputs": [],
   "source": [
    "df = df[['Ano De Referência', 'Mês De Referência', 'Campo', 'Valor']].copy()\n",
    "df = df.sort_values(by=['Ano De Referência', 'Mês De Referência', 'Campo']).copy()\n",
    "df.head()"
   ]
  },
  {
   "cell_type": "markdown",
   "id": "26ec2dff-522e-469d-ae42-a37d8d3f11d9",
   "metadata": {},
   "source": [
    "Americana não tinha amostras no Ponto de captação....\n",
    "\n",
    "{'SAÍDA DO TRATAMENTO', 'SISTEMA DE DISTRIBUIÇÃO'}"
   ]
  },
  {
   "cell_type": "markdown",
   "id": "5024c03a-21ba-49a3-b851-563728772bac",
   "metadata": {},
   "source": [
    "<br>\n",
    "\n",
    "# Agora vai!\n",
    "\n",
    "31.03.2022\n",
    "\n",
    "Descobri mais dados de E.c oli na tabela \"demais paramêtros\""
   ]
  },
  {
   "cell_type": "code",
   "execution_count": null,
   "id": "2634efa3-b44d-4aa2-af6b-46be96df407c",
   "metadata": {},
   "outputs": [],
   "source": [
    "# Read Table\n",
    "df_bruta = pd.read_excel(\n",
    "    os.path.join(output_path, str(cod_ibge), 'dados brutos', 'controle', 'controle_mensal_demais_parametros.xlsx')\n",
    ")"
   ]
  },
  {
   "cell_type": "code",
   "execution_count": null,
   "id": "638181eb-87a6-4e65-9037-e849994aa28c",
   "metadata": {},
   "outputs": [],
   "source": [
    "# Filtra Apenas SAAs\n",
    "df = df_bruta.loc[df_bruta['Tipo Da Forma De Abastecimento'] == 'SAA']"
   ]
  },
  {
   "cell_type": "code",
   "execution_count": null,
   "id": "c9fba8fd-0da1-4d5c-8f65-80bde3935ef7",
   "metadata": {},
   "outputs": [],
   "source": [
    "# Filtra Apenas Último Ano\n",
    "df = df[df['Ano De Referência'] == max(df['Ano De Referência'])].copy()"
   ]
  },
  {
   "cell_type": "code",
   "execution_count": null,
   "id": "a45ab7ec-fc70-4da7-bdc9-cb2e1c364b3f",
   "metadata": {},
   "outputs": [],
   "source": [
    "df.info()\n",
    "list(df.columns)"
   ]
  },
  {
   "cell_type": "code",
   "execution_count": null,
   "id": "d0e01c4b-beef-45a0-8ffd-0a9f49926f09",
   "metadata": {},
   "outputs": [],
   "source": [
    "df[['Tipo Da Forma De Abastecimento', 'Código Forma De Abastecimento']].nunique()"
   ]
  },
  {
   "cell_type": "code",
   "execution_count": null,
   "id": "a2dbe369-f655-476f-96f0-afb0c1ecb952",
   "metadata": {},
   "outputs": [],
   "source": [
    "set(df['Parâmetro'])"
   ]
  },
  {
   "cell_type": "code",
   "execution_count": null,
   "id": "738bc893-2d57-49d2-9b28-c0c48a6c7038",
   "metadata": {},
   "outputs": [],
   "source": [
    "df = df[df['Parâmetro'] == 'Escherichia coli'].copy()\n",
    "df.head()"
   ]
  },
  {
   "cell_type": "code",
   "execution_count": null,
   "id": "ea92d223-a336-4204-9c44-fb863c257183",
   "metadata": {},
   "outputs": [],
   "source": [
    "df = df[['Data Da Coleta', 'Parâmetro', 'Unidade', 'Resultado']].copy()\n",
    "df['Data Da Coleta'] = pd.to_datetime(df['Data Da Coleta'])\n",
    "df"
   ]
  },
  {
   "cell_type": "code",
   "execution_count": null,
   "id": "dd65fd8f-6f3d-4a2d-8fd9-fb231305ae1f",
   "metadata": {},
   "outputs": [],
   "source": [
    "# ddd\n",
    "ultima_amostra = max(df['Data Da Coleta'])\n",
    "um_ano_antes = ultima_amostra - relativedelta(years=1)\n",
    "\n",
    "print('Ultima Amostra foi {}\\nUm ano antes{}'.format(ultima_amostra, um_ano_antes))"
   ]
  },
  {
   "cell_type": "code",
   "execution_count": null,
   "id": "7822e4fb-e4ba-4720-8463-b564435263d4",
   "metadata": {},
   "outputs": [],
   "source": [
    "df['Resultado'] = df['Resultado'].astype(str).str.replace(',','.')\n",
    "df['Resultado'] = df['Resultado'].astype(float).fillna(0.0)\n",
    "\n",
    "# ddd\n",
    "df_gmean = df[df['Data Da Coleta'] >= um_ano_antes].copy()\n",
    "round(gmean(df_gmean['Resultado']), 2)"
   ]
  }
 ],
 "metadata": {
  "kernelspec": {
   "display_name": "Python [conda env:pablocarreira-py39] *",
   "language": "python",
   "name": "conda-env-pablocarreira-py39-py"
  },
  "language_info": {
   "codemirror_mode": {
    "name": "ipython",
    "version": 3
   },
   "file_extension": ".py",
   "mimetype": "text/x-python",
   "name": "python",
   "nbconvert_exporter": "python",
   "pygments_lexer": "ipython3",
   "version": "3.9.12"
  }
 },
 "nbformat": 4,
 "nbformat_minor": 5
}
