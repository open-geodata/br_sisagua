{
 "cells": [
  {
   "cell_type": "markdown",
   "id": "0d71fc7e-27fa-492a-b743-91dca0aee869",
   "metadata": {},
   "source": [
    "Art. 24 Toda água para consumo humano fornecida coletivamente deverá passar por processo de desinfecção ou adição de desinfetante para manutenção dos residuais mínimos, conforme as disposições contidas no Art. 32."
   ]
  },
  {
   "cell_type": "code",
   "execution_count": 1,
   "id": "f597e949-0bcb-477c-a510-5a5a259f0af1",
   "metadata": {},
   "outputs": [],
   "source": [
    "import os\n",
    "import re\n",
    "import sys\n",
    "import pprint\n",
    "import pandas as pd"
   ]
  },
  {
   "cell_type": "code",
   "execution_count": 2,
   "id": "aa9ccd35-f528-491c-ad96-1aa3c6a6b078",
   "metadata": {},
   "outputs": [],
   "source": [
    "from paths import *"
   ]
  },
  {
   "cell_type": "code",
   "execution_count": 3,
   "id": "3f467ee7-11c8-4a04-bf3e-8a01c7f82766",
   "metadata": {},
   "outputs": [],
   "source": [
    "# Parameters\n",
    "cod_ibge = '3548906' # São Carlos\n",
    "cod_ibge = '3526902' # Limeira\n",
    "cod_ibge = '3501608' # Americana"
   ]
  },
  {
   "cell_type": "code",
   "execution_count": 4,
   "id": "1b1da0bb-9c7c-492b-a4dd-924b625fe238",
   "metadata": {},
   "outputs": [],
   "source": [
    "# Read Table\n",
    "df = pd.read_excel(\n",
    "    os.path.join(output_path, str(cod_ibge), 'dados brutos', 'cadastro', 'cadastro_tratamento_de_agua.xlsx')\n",
    ")"
   ]
  },
  {
   "cell_type": "code",
   "execution_count": 5,
   "id": "870a9fb8-0b3a-4d55-9f67-0f9fc430c502",
   "metadata": {},
   "outputs": [
    {
     "data": {
      "text/plain": [
       "['Região Geográfica',\n",
       " 'Regional De Saúde',\n",
       " 'Município',\n",
       " 'Tipo Da Instituição',\n",
       " 'Sigla Da Instituição',\n",
       " 'Nome Da Instituição',\n",
       " 'Cnpj Da Instituição',\n",
       " 'Nome Do Escritório Regional/Local',\n",
       " 'Cnpj Do Escritório Regional/Local',\n",
       " 'Tipo Da Forma De Abastecimento',\n",
       " 'Código Forma De Abastecimento',\n",
       " 'Nome Da Forma De Abastecimento',\n",
       " 'Nome Da Eta/Uta',\n",
       " 'Ano De Referência',\n",
       " 'Data De Registro',\n",
       " 'Data De Preenchimento',\n",
       " 'Captação Superficial',\n",
       " 'Captação Subterrânea',\n",
       " 'Captação De Água De Chuva',\n",
       " 'Cep',\n",
       " 'Endereço',\n",
       " 'Número',\n",
       " 'Ddd',\n",
       " 'Telefone',\n",
       " 'Email',\n",
       " 'Tempo Médio Diário De Funcionamento',\n",
       " 'Etapa Pré-Oxidação',\n",
       " 'Etapa Mistura Rápida/Coagulação',\n",
       " 'Etapa Floculação',\n",
       " 'Etapa Decantação',\n",
       " 'Etapa Flotação',\n",
       " 'Tipo De Filtração',\n",
       " 'Número De Filtros',\n",
       " 'Etapa Desinfecção',\n",
       " 'Desinfecção Com Cloro  Gás Ou Hipoclorito',\n",
       " 'Desinfecção Com Cloramina',\n",
       " 'Desinfecção Com Dióxido Cloro',\n",
       " 'Desinfecção Com Ozônio',\n",
       " 'Desinfecção Com Uv',\n",
       " 'Outro Agente Desinfetante',\n",
       " 'Rad Cloro Residual Livre',\n",
       " 'Rad Cloro Residual Combinado',\n",
       " 'Rad Dióxido De Cloro',\n",
       " 'Etapa Fluoretação',\n",
       " 'Outra Etapa De Tratamento',\n",
       " 'Vazão De Água Tratada',\n",
       " 'Carro Pipa',\n",
       " 'Chafariz',\n",
       " 'Fonte',\n",
       " 'Cisterna',\n",
       " 'Canalização',\n",
       " 'Outro Tipo De Suprimento',\n",
       " 'Responsável Técnico',\n",
       " 'Formação Profissional Do Responsável Técnico',\n",
       " 'Número Do Conselho De Classe Do Responsável Técnico',\n",
       " 'Anotação De Responsabilidade Técnica (Art)',\n",
       " 'Uf',\n",
       " 'Código Ibge']"
      ]
     },
     "execution_count": 5,
     "metadata": {},
     "output_type": "execute_result"
    }
   ],
   "source": [
    "# Filtra Apenas SAAs\n",
    "df = df.loc[df['Tipo Da Forma De Abastecimento'] == 'SAA']\n",
    "\n",
    "# Filtra Apenas Último Ano\n",
    "df = df[df['Ano De Referência'] == max(df['Ano De Referência'])].copy()\n",
    "#df.info()\n",
    "list(df.columns)"
   ]
  },
  {
   "cell_type": "markdown",
   "id": "0b2a8ba8-a3f4-4543-90f2-b016281b7c1b",
   "metadata": {},
   "source": [
    "<br>\n",
    "\n",
    "# Artigo 24"
   ]
  },
  {
   "cell_type": "code",
   "execution_count": 6,
   "id": "d53a2bcc-4f06-4f96-bf45-538541d11964",
   "metadata": {},
   "outputs": [],
   "source": [
    "list_iden = [\n",
    "    'Código Forma De Abastecimento',\n",
    "    'Tipo Da Forma De Abastecimento',\n",
    "    'Nome Da Forma De Abastecimento',    \n",
    "    'Ano De Referência',\n",
    "    'Etapa Desinfecção',\n",
    "]\n",
    "\n",
    "list_desinfeccao = [\n",
    "    'Desinfecção Com Cloro  Gás Ou Hipoclorito',\n",
    "    'Desinfecção Com Cloramina',\n",
    "    'Desinfecção Com Dióxido Cloro',\n",
    "    'Desinfecção Com Ozônio',\n",
    "    'Desinfecção Com Uv'\n",
    "]\n",
    "\n",
    "# Lista de Colunas de Interesse\n",
    "list_cols = list_iden + list_desinfeccao"
   ]
  },
  {
   "cell_type": "code",
   "execution_count": 28,
   "id": "35fe7cee-0784-409e-80b8-4629d62f5f42",
   "metadata": {},
   "outputs": [
    {
     "data": {
      "text/html": [
       "<div>\n",
       "<style scoped>\n",
       "    .dataframe tbody tr th:only-of-type {\n",
       "        vertical-align: middle;\n",
       "    }\n",
       "\n",
       "    .dataframe tbody tr th {\n",
       "        vertical-align: top;\n",
       "    }\n",
       "\n",
       "    .dataframe thead th {\n",
       "        text-align: right;\n",
       "    }\n",
       "</style>\n",
       "<table border=\"1\" class=\"dataframe\">\n",
       "  <thead>\n",
       "    <tr style=\"text-align: right;\">\n",
       "      <th></th>\n",
       "      <th>Código Forma De Abastecimento</th>\n",
       "      <th>Tipo Da Forma De Abastecimento</th>\n",
       "      <th>Nome Da Forma De Abastecimento</th>\n",
       "      <th>Ano De Referência</th>\n",
       "      <th>Etapa Desinfecção</th>\n",
       "      <th>Desinfecção Com Cloro  Gás Ou Hipoclorito</th>\n",
       "      <th>Desinfecção Com Cloramina</th>\n",
       "      <th>Desinfecção Com Dióxido Cloro</th>\n",
       "      <th>Desinfecção Com Ozônio</th>\n",
       "      <th>Desinfecção Com Uv</th>\n",
       "    </tr>\n",
       "  </thead>\n",
       "  <tbody>\n",
       "    <tr>\n",
       "      <th>0</th>\n",
       "      <td>S350160000001</td>\n",
       "      <td>SAA</td>\n",
       "      <td>ETA</td>\n",
       "      <td>2022</td>\n",
       "      <td>S</td>\n",
       "      <td>S</td>\n",
       "      <td>N</td>\n",
       "      <td>N</td>\n",
       "      <td>N</td>\n",
       "      <td>N</td>\n",
       "    </tr>\n",
       "  </tbody>\n",
       "</table>\n",
       "</div>"
      ],
      "text/plain": [
       "  Código Forma De Abastecimento Tipo Da Forma De Abastecimento  \\\n",
       "0                 S350160000001                            SAA   \n",
       "\n",
       "  Nome Da Forma De Abastecimento  Ano De Referência Etapa Desinfecção  \\\n",
       "0                            ETA               2022                 S   \n",
       "\n",
       "  Desinfecção Com Cloro  Gás Ou Hipoclorito Desinfecção Com Cloramina  \\\n",
       "0                                         S                         N   \n",
       "\n",
       "  Desinfecção Com Dióxido Cloro Desinfecção Com Ozônio Desinfecção Com Uv  \n",
       "0                             N                      N                  N  "
      ]
     },
     "execution_count": 28,
     "metadata": {},
     "output_type": "execute_result"
    }
   ],
   "source": [
    "# Seleciona Colunas\n",
    "df_ = df[list_cols].copy()\n",
    "df_.reset_index(drop=True, inplace=True)\n",
    "df_"
   ]
  },
  {
   "cell_type": "code",
   "execution_count": 29,
   "id": "6bff2a05-e56e-4616-9444-14b47369c560",
   "metadata": {},
   "outputs": [
    {
     "data": {
      "text/html": [
       "<div>\n",
       "<style scoped>\n",
       "    .dataframe tbody tr th:only-of-type {\n",
       "        vertical-align: middle;\n",
       "    }\n",
       "\n",
       "    .dataframe tbody tr th {\n",
       "        vertical-align: top;\n",
       "    }\n",
       "\n",
       "    .dataframe thead th {\n",
       "        text-align: right;\n",
       "    }\n",
       "</style>\n",
       "<table border=\"1\" class=\"dataframe\">\n",
       "  <thead>\n",
       "    <tr style=\"text-align: right;\">\n",
       "      <th></th>\n",
       "      <th>0</th>\n",
       "    </tr>\n",
       "  </thead>\n",
       "  <tbody>\n",
       "    <tr>\n",
       "      <th>Desinfecção Com Cloro  Gás Ou Hipoclorito</th>\n",
       "      <td>S</td>\n",
       "    </tr>\n",
       "    <tr>\n",
       "      <th>Desinfecção Com Cloramina</th>\n",
       "      <td>N</td>\n",
       "    </tr>\n",
       "    <tr>\n",
       "      <th>Desinfecção Com Dióxido Cloro</th>\n",
       "      <td>N</td>\n",
       "    </tr>\n",
       "    <tr>\n",
       "      <th>Desinfecção Com Ozônio</th>\n",
       "      <td>N</td>\n",
       "    </tr>\n",
       "    <tr>\n",
       "      <th>Desinfecção Com Uv</th>\n",
       "      <td>N</td>\n",
       "    </tr>\n",
       "  </tbody>\n",
       "</table>\n",
       "</div>"
      ],
      "text/plain": [
       "                                           0\n",
       "Desinfecção Com Cloro  Gás Ou Hipoclorito  S\n",
       "Desinfecção Com Cloramina                  N\n",
       "Desinfecção Com Dióxido Cloro              N\n",
       "Desinfecção Com Ozônio                     N\n",
       "Desinfecção Com Uv                         N"
      ]
     },
     "metadata": {},
     "output_type": "display_data"
    },
    {
     "name": "stdout",
     "output_type": "stream",
     "text": [
      "('\\n'\n",
      " '    De acordo com as informações obtidas no Siságua,\\n'\n",
      " '    o município de 3501608 atende o artigo 24 da Portaria 888,\\n'\n",
      " '    que determia que \"toda água para consumo humano\\n'\n",
      " '    fornecida coletivamente deverá passar por processo de\\n'\n",
      " '    desinfecção ou adição de desinfetante para manutenção dos \\n'\n",
      " '    residuais mínimos, conforme as disposições contidas\\n'\n",
      " '    no Art. 32\".\\n'\n",
      " '\\n'\n",
      " '    No Siságua é informado que o sistema de tratamento \\n'\n",
      " '    da ETA realiza a \"desinfecção com cloro gás ou hipoclorito\".\\n'\n",
      " '    ')\n"
     ]
    }
   ],
   "source": [
    "for i, row in df_.iterrows():\n",
    "    desin = df_.loc[i, 'Etapa Desinfecção']\n",
    "    forma = df_.loc[i, 'Nome Da Forma De Abastecimento']\n",
    "    tem_desinfeccao = True if desin == 'S' else False\n",
    "    atendimento = 'atende' if tem_desinfeccao else 'não atende'\n",
    "    \n",
    "    # \n",
    "    df_temp = pd.DataFrame(df_.loc[i, list_desinfeccao].T.copy())\n",
    "    display(df_temp)\n",
    "    df_temp.columns = ['sistemas']\n",
    "        \n",
    "    # \n",
    "    list_tratamentos = list(df_temp[df_temp['sistemas'] == 'S'].index.values)\n",
    "    list_tratamentos = [t.lower() for t in list_tratamentos]\n",
    "    list_tratamentos = [re.sub('\\s\\s+', ' ', t) for t in list_tratamentos]\n",
    "    list_tratamentos = ', '.join(list_tratamentos)    \n",
    "\n",
    "    msg = '''\n",
    "    De acordo com as informações obtidas no Siságua,\n",
    "    o município de {municipio} {atende} o artigo 24 da Portaria 888,\n",
    "    que determia que \"toda água para consumo humano\n",
    "    fornecida coletivamente deverá passar por processo de\n",
    "    desinfecção ou adição de desinfetante para manutenção dos \n",
    "    residuais mínimos, conforme as disposições contidas\n",
    "    no Art. 32\".\n",
    "\n",
    "    No Siságua é informado que o sistema de tratamento \n",
    "    da {forma} realiza a \"{tratamento}\".\n",
    "    '''.format(\n",
    "        municipio=cod_ibge,\n",
    "        atende=atendimento,\n",
    "        forma=forma,\n",
    "        tratamento=list_tratamentos\n",
    "    )\n",
    "    \n",
    "    # \n",
    "    pprint.pprint(msg)"
   ]
  },
  {
   "cell_type": "markdown",
   "id": "c885152e-e4cc-4022-982d-eeca97074eae",
   "metadata": {},
   "source": [
    "<br>\n",
    "\n",
    "# Artigo 24, Parágrafo Único\n",
    "\n",
    "Na tabela não tem informações se é, ou não, superficial.\n",
    "\n",
    "31.03.2022"
   ]
  },
  {
   "cell_type": "code",
   "execution_count": 30,
   "id": "f60549e8-921a-49ec-b123-ceddc94f76b6",
   "metadata": {},
   "outputs": [],
   "source": [
    "list_filtracao = [\n",
    "    'Tipo De Filtração',\n",
    "    'Número De Filtros',\n",
    "]\n",
    "\n",
    "# Lista de Colunas de Interesse\n",
    "list_cols = list_iden + list_filtracao"
   ]
  },
  {
   "cell_type": "code",
   "execution_count": 31,
   "id": "6a2dbb8b-bbc9-497e-89c3-67ef9a525a7e",
   "metadata": {},
   "outputs": [
    {
     "data": {
      "text/html": [
       "<div>\n",
       "<style scoped>\n",
       "    .dataframe tbody tr th:only-of-type {\n",
       "        vertical-align: middle;\n",
       "    }\n",
       "\n",
       "    .dataframe tbody tr th {\n",
       "        vertical-align: top;\n",
       "    }\n",
       "\n",
       "    .dataframe thead th {\n",
       "        text-align: right;\n",
       "    }\n",
       "</style>\n",
       "<table border=\"1\" class=\"dataframe\">\n",
       "  <thead>\n",
       "    <tr style=\"text-align: right;\">\n",
       "      <th></th>\n",
       "      <th>Código Forma De Abastecimento</th>\n",
       "      <th>Tipo Da Forma De Abastecimento</th>\n",
       "      <th>Nome Da Forma De Abastecimento</th>\n",
       "      <th>Ano De Referência</th>\n",
       "      <th>Etapa Desinfecção</th>\n",
       "      <th>Tipo De Filtração</th>\n",
       "      <th>Número De Filtros</th>\n",
       "    </tr>\n",
       "  </thead>\n",
       "  <tbody>\n",
       "    <tr>\n",
       "      <th>0</th>\n",
       "      <td>S350160000001</td>\n",
       "      <td>SAA</td>\n",
       "      <td>ETA</td>\n",
       "      <td>2022</td>\n",
       "      <td>S</td>\n",
       "      <td>FILTRAÇÃO RÁPIDA</td>\n",
       "      <td>6.0</td>\n",
       "    </tr>\n",
       "  </tbody>\n",
       "</table>\n",
       "</div>"
      ],
      "text/plain": [
       "  Código Forma De Abastecimento Tipo Da Forma De Abastecimento  \\\n",
       "0                 S350160000001                            SAA   \n",
       "\n",
       "  Nome Da Forma De Abastecimento  Ano De Referência Etapa Desinfecção  \\\n",
       "0                            ETA               2022                 S   \n",
       "\n",
       "  Tipo De Filtração  Número De Filtros  \n",
       "0  FILTRAÇÃO RÁPIDA                6.0  "
      ]
     },
     "execution_count": 31,
     "metadata": {},
     "output_type": "execute_result"
    }
   ],
   "source": [
    "# Seleciona Colunas\n",
    "df_ = df[list_cols].copy()\n",
    "df_.reset_index(drop=True, inplace=True)\n",
    "df_"
   ]
  },
  {
   "cell_type": "code",
   "execution_count": 32,
   "id": "a4ea323b-b3b8-4e59-84ab-07272f32b1ba",
   "metadata": {},
   "outputs": [
    {
     "name": "stdout",
     "output_type": "stream",
     "text": [
      "('\\n'\n",
      " '    De acordo com as informações obtidas no Siságua,\\n'\n",
      " '    o município de 3501608 não atende o artigo 24 da Portaria 888,\\n'\n",
      " '    que determia que \"toda água para consumo humano\\n'\n",
      " '    fornecida coletivamente deverá passar por processo de\\n'\n",
      " '    desinfecção ou adição de desinfetante para manutenção dos \\n'\n",
      " '    residuais mínimos, conforme as disposições contidas\\n'\n",
      " '    no Art. 32\".\\n'\n",
      " '\\n'\n",
      " '    No Siságua é informado que o sistema de tratamento \\n'\n",
      " '    da ETA realiza a \"desinfecção com cloro gás ou hipoclorito\".\\n'\n",
      " '    ')\n"
     ]
    }
   ],
   "source": [
    "for i, row in df_.iterrows():\n",
    "    filt = df_.loc[i, 'Tipo De Filtração']\n",
    "    forma = df_.loc[i, 'Nome Da Forma De Abastecimento']\n",
    "    tem_filtracao = True if pd.isna(filt) else False\n",
    "    atendimento = 'atende' if tem_filtracao else 'não atende'\n",
    "    \n",
    "    # \n",
    "    #df_temp = pd.DataFrame(df_.loc[i, list_desinfeccao].T.copy())\n",
    "    #df_temp.columns = ['sistemas']\n",
    "        \n",
    "    # \n",
    "    #list_tratamentos = list(df_temp[df_temp['sistemas'] == 'S'].index.values)\n",
    "    #list_tratamentos = [t.lower() for t in list_tratamentos]\n",
    "    #list_tratamentos = [re.sub('\\s\\s+', ' ', t) for t in list_tratamentos]\n",
    "    #list_tratamentos = ', '.join(list_tratamentos)    \n",
    "\n",
    "    msg = '''\n",
    "    De acordo com as informações obtidas no Siságua,\n",
    "    o município de {municipio} {atende} o artigo 24 da Portaria 888,\n",
    "    que determia que \"toda água para consumo humano\n",
    "    fornecida coletivamente deverá passar por processo de\n",
    "    desinfecção ou adição de desinfetante para manutenção dos \n",
    "    residuais mínimos, conforme as disposições contidas\n",
    "    no Art. 32\".\n",
    "\n",
    "    No Siságua é informado que o sistema de tratamento \n",
    "    da {forma} realiza a \"{tratamento}\".\n",
    "    '''.format(\n",
    "        municipio=cod_ibge,\n",
    "        atende=atendimento,\n",
    "        forma=forma,\n",
    "        tratamento=list_tratamentos\n",
    "    )\n",
    "    \n",
    "    # \n",
    "    pprint.pprint(msg)"
   ]
  },
  {
   "cell_type": "code",
   "execution_count": null,
   "id": "4adb20c5-68b1-4502-8a6c-0fa3f4b271a3",
   "metadata": {},
   "outputs": [],
   "source": []
  }
 ],
 "metadata": {
  "kernelspec": {
   "display_name": "Python [conda env:pablocarreira-py39] *",
   "language": "python",
   "name": "conda-env-pablocarreira-py39-py"
  },
  "language_info": {
   "codemirror_mode": {
    "name": "ipython",
    "version": 3
   },
   "file_extension": ".py",
   "mimetype": "text/x-python",
   "name": "python",
   "nbconvert_exporter": "python",
   "pygments_lexer": "ipython3",
   "version": "3.9.12"
  }
 },
 "nbformat": 4,
 "nbformat_minor": 5
}
