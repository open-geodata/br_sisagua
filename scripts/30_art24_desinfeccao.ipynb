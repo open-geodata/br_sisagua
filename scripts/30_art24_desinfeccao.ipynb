{
 "cells": [
  {
   "cell_type": "markdown",
   "id": "0d71fc7e-27fa-492a-b743-91dca0aee869",
   "metadata": {},
   "source": [
    "Art. 24 Toda água para consumo humano fornecida coletivamente deverá passar por processo de desinfecção ou adição de desinfetante para manutenção dos residuais mínimos, conforme as disposições contidas no Art. 32."
   ]
  },
  {
   "cell_type": "code",
   "execution_count": null,
   "id": "f597e949-0bcb-477c-a510-5a5a259f0af1",
   "metadata": {},
   "outputs": [],
   "source": [
    "import os\n",
    "import re\n",
    "import sys\n",
    "import pprint\n",
    "import pandas as pd"
   ]
  },
  {
   "cell_type": "code",
   "execution_count": null,
   "id": "aa9ccd35-f528-491c-ad96-1aa3c6a6b078",
   "metadata": {},
   "outputs": [],
   "source": [
    "from paths import *"
   ]
  },
  {
   "cell_type": "code",
   "execution_count": null,
   "id": "3f467ee7-11c8-4a04-bf3e-8a01c7f82766",
   "metadata": {},
   "outputs": [],
   "source": [
    "# Parameters\n",
    "cod_ibge = '3548906' # São Carlos\n",
    "cod_ibge = '3526902' # Limeira\n",
    "cod_ibge = '3501608' # Americana"
   ]
  },
  {
   "cell_type": "code",
   "execution_count": null,
   "id": "1b1da0bb-9c7c-492b-a4dd-924b625fe238",
   "metadata": {},
   "outputs": [],
   "source": [
    "# Read Table\n",
    "df = pd.read_excel(\n",
    "    os.path.join(output_path, str(cod_ibge), 'dados brutos', 'cadastro', 'cadastro_tratamento_de_agua.xlsx')\n",
    ")"
   ]
  },
  {
   "cell_type": "code",
   "execution_count": null,
   "id": "870a9fb8-0b3a-4d55-9f67-0f9fc430c502",
   "metadata": {},
   "outputs": [],
   "source": [
    "# Filtra Apenas SAAs\n",
    "df = df.loc[df['Tipo Da Forma De Abastecimento'] == 'SAA']\n",
    "\n",
    "# Filtra Apenas Último Ano\n",
    "df = df[df['Ano De Referência'] == max(df['Ano De Referência'])].copy()\n",
    "#df.info()\n",
    "list(df.columns)"
   ]
  },
  {
   "cell_type": "markdown",
   "id": "0b2a8ba8-a3f4-4543-90f2-b016281b7c1b",
   "metadata": {},
   "source": [
    "<br>\n",
    "\n",
    "# Artigo 24"
   ]
  },
  {
   "cell_type": "code",
   "execution_count": null,
   "id": "d53a2bcc-4f06-4f96-bf45-538541d11964",
   "metadata": {},
   "outputs": [],
   "source": [
    "list_iden = [\n",
    "    'Código Forma De Abastecimento',\n",
    "    'Tipo Da Forma De Abastecimento',\n",
    "    'Nome Da Forma De Abastecimento',    \n",
    "    'Ano De Referência',\n",
    "    'Etapa Desinfecção',\n",
    "]\n",
    "\n",
    "list_desinfeccao = [\n",
    "    'Desinfecção Com Cloro  Gás Ou Hipoclorito',\n",
    "    'Desinfecção Com Cloramina',\n",
    "    'Desinfecção Com Dióxido Cloro',\n",
    "    'Desinfecção Com Ozônio',\n",
    "    'Desinfecção Com Uv'\n",
    "]\n",
    "\n",
    "# Lista de Colunas de Interesse\n",
    "list_cols = list_iden + list_desinfeccao"
   ]
  },
  {
   "cell_type": "code",
   "execution_count": null,
   "id": "35fe7cee-0784-409e-80b8-4629d62f5f42",
   "metadata": {},
   "outputs": [],
   "source": [
    "# Seleciona Colunas\n",
    "df_ = df[list_cols].copy()\n",
    "df_.reset_index(drop=True, inplace=True)\n",
    "df_"
   ]
  },
  {
   "cell_type": "code",
   "execution_count": null,
   "id": "6bff2a05-e56e-4616-9444-14b47369c560",
   "metadata": {},
   "outputs": [],
   "source": [
    "for i, row in df_.iterrows():\n",
    "    desin = df_.loc[i, 'Etapa Desinfecção']\n",
    "    forma = df_.loc[i, 'Nome Da Forma De Abastecimento']\n",
    "    tem_desinfeccao = True if desin == 'S' else False\n",
    "    atendimento = 'atende' if tem_desinfeccao else 'não atende'\n",
    "    \n",
    "    # \n",
    "    df_temp = pd.DataFrame(df_.loc[i, list_desinfeccao].T.copy())\n",
    "    display(df_temp)\n",
    "    df_temp.columns = ['sistemas']\n",
    "        \n",
    "    # \n",
    "    list_tratamentos = list(df_temp[df_temp['sistemas'] == 'S'].index.values)\n",
    "    list_tratamentos = [t.lower() for t in list_tratamentos]\n",
    "    list_tratamentos = [re.sub('\\s\\s+', ' ', t) for t in list_tratamentos]\n",
    "    list_tratamentos = ', '.join(list_tratamentos)    \n",
    "\n",
    "    msg = '''\n",
    "    De acordo com as informações obtidas no Siságua,\n",
    "    o município de {municipio} {atende} o artigo 24 da Portaria 888,\n",
    "    que determia que \"toda água para consumo humano\n",
    "    fornecida coletivamente deverá passar por processo de\n",
    "    desinfecção ou adição de desinfetante para manutenção dos \n",
    "    residuais mínimos, conforme as disposições contidas\n",
    "    no Art. 32\".\n",
    "\n",
    "    No Siságua é informado que o sistema de tratamento \n",
    "    da {forma} realiza a \"{tratamento}\".\n",
    "    '''.format(\n",
    "        municipio=cod_ibge,\n",
    "        atende=atendimento,\n",
    "        forma=forma,\n",
    "        tratamento=list_tratamentos\n",
    "    )\n",
    "    \n",
    "    # \n",
    "    pprint.pprint(msg)"
   ]
  },
  {
   "cell_type": "markdown",
   "id": "c885152e-e4cc-4022-982d-eeca97074eae",
   "metadata": {},
   "source": [
    "<br>\n",
    "\n",
    "# Artigo 24, Parágrafo Único\n",
    "\n",
    "Na tabela não tem informações se é, ou não, superficial.\n",
    "\n",
    "31.03.2022"
   ]
  },
  {
   "cell_type": "code",
   "execution_count": null,
   "id": "f60549e8-921a-49ec-b123-ceddc94f76b6",
   "metadata": {},
   "outputs": [],
   "source": [
    "list_filtracao = [\n",
    "    'Tipo De Filtração',\n",
    "    'Número De Filtros',\n",
    "]\n",
    "\n",
    "# Lista de Colunas de Interesse\n",
    "list_cols = list_iden + list_filtracao"
   ]
  },
  {
   "cell_type": "code",
   "execution_count": null,
   "id": "6a2dbb8b-bbc9-497e-89c3-67ef9a525a7e",
   "metadata": {},
   "outputs": [],
   "source": [
    "# Seleciona Colunas\n",
    "df_ = df[list_cols].copy()\n",
    "df_.reset_index(drop=True, inplace=True)\n",
    "df_"
   ]
  },
  {
   "cell_type": "code",
   "execution_count": null,
   "id": "a4ea323b-b3b8-4e59-84ab-07272f32b1ba",
   "metadata": {},
   "outputs": [],
   "source": [
    "for i, row in df_.iterrows():\n",
    "    filt = df_.loc[i, 'Tipo De Filtração']\n",
    "    forma = df_.loc[i, 'Nome Da Forma De Abastecimento']\n",
    "    tem_filtracao = True if pd.isna(filt) else False\n",
    "    atendimento = 'atende' if tem_filtracao else 'não atende'\n",
    "    \n",
    "    # \n",
    "    #df_temp = pd.DataFrame(df_.loc[i, list_desinfeccao].T.copy())\n",
    "    #df_temp.columns = ['sistemas']\n",
    "        \n",
    "    # \n",
    "    #list_tratamentos = list(df_temp[df_temp['sistemas'] == 'S'].index.values)\n",
    "    #list_tratamentos = [t.lower() for t in list_tratamentos]\n",
    "    #list_tratamentos = [re.sub('\\s\\s+', ' ', t) for t in list_tratamentos]\n",
    "    #list_tratamentos = ', '.join(list_tratamentos)    \n",
    "\n",
    "    msg = '''\n",
    "    De acordo com as informações obtidas no Siságua,\n",
    "    o município de {municipio} {atende} o artigo 24 da Portaria 888,\n",
    "    que determia que \"toda água para consumo humano\n",
    "    fornecida coletivamente deverá passar por processo de\n",
    "    desinfecção ou adição de desinfetante para manutenção dos \n",
    "    residuais mínimos, conforme as disposições contidas\n",
    "    no Art. 32\".\n",
    "\n",
    "    No Siságua é informado que o sistema de tratamento \n",
    "    da {forma} realiza a \"{tratamento}\".\n",
    "    '''.format(\n",
    "        municipio=cod_ibge,\n",
    "        atende=atendimento,\n",
    "        forma=forma,\n",
    "        tratamento=list_tratamentos\n",
    "    )\n",
    "    \n",
    "    # \n",
    "    pprint.pprint(msg)"
   ]
  },
  {
   "cell_type": "code",
   "execution_count": null,
   "id": "4adb20c5-68b1-4502-8a6c-0fa3f4b271a3",
   "metadata": {},
   "outputs": [],
   "source": []
  }
 ],
 "metadata": {
  "kernelspec": {
   "display_name": "Python [conda env:pablocarreira-py39] *",
   "language": "python",
   "name": "conda-env-pablocarreira-py39-py"
  },
  "language_info": {
   "codemirror_mode": {
    "name": "ipython",
    "version": 3
   },
   "file_extension": ".py",
   "mimetype": "text/x-python",
   "name": "python",
   "nbconvert_exporter": "python",
   "pygments_lexer": "ipython3",
   "version": "3.9.12"
  }
 },
 "nbformat": 4,
 "nbformat_minor": 5
}
