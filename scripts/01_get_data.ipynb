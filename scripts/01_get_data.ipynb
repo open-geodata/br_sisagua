{
 "cells": [
  {
   "cell_type": "markdown",
   "metadata": {
    "pycharm": {
     "name": "#%% md\n"
    }
   },
   "source": [
    "<br>\n",
    "\n",
    "# Introdução\n",
    "\n",
    "[Dados Abertos](https://dados.gov.br/organization/5b283f30-ced3-4ccc-b44a-406e8a92e1ad?tags=SISAGUA)"
   ]
  },
  {
   "cell_type": "code",
   "execution_count": null,
   "metadata": {
    "pycharm": {
     "name": "#%%\n"
    }
   },
   "outputs": [],
   "source": [
    "#!pip3 install traquitanas --upgrade\n",
    "#!pip3 install pySmartDL --upgrade\n",
    "#!pip3 install open-geodata --upgrade"
   ]
  },
  {
   "cell_type": "code",
   "execution_count": null,
   "metadata": {
    "pycharm": {
     "name": "#%%\n"
    }
   },
   "outputs": [],
   "source": [
    "import os"
   ]
  },
  {
   "cell_type": "code",
   "execution_count": null,
   "metadata": {
    "pycharm": {
     "name": "#%%\n"
    }
   },
   "outputs": [],
   "source": [
    "from traquitanas.net import downloads as tt"
   ]
  },
  {
   "cell_type": "code",
   "execution_count": null,
   "metadata": {
    "pycharm": {
     "name": "#%%\n"
    }
   },
   "outputs": [],
   "source": [
    "from paths import *"
   ]
  },
  {
   "cell_type": "markdown",
   "metadata": {
    "pycharm": {
     "name": "#%% md\n"
    }
   },
   "source": [
    "<br>\n",
    "\n",
    "## *Download*: Cadastro"
   ]
  },
  {
   "cell_type": "markdown",
   "metadata": {
    "pycharm": {
     "name": "#%% md\n"
    }
   },
   "source": [
    "Posteriormente se define a lista de arquivos que será feito o o *download*.<br>\n",
    "A lista abaixo foi organizada, manualmente, em 15.10.2021."
   ]
  },
  {
   "cell_type": "code",
   "execution_count": null,
   "metadata": {
    "pycharm": {
     "name": "#%%\n"
    }
   },
   "outputs": [],
   "source": [
    "urls_cadastro = [\n",
    "    # Cadastro: Pontos de Captação\n",
    "    # https://dados.gov.br/dataset/sisagua-pontos-de-captacao-de-agua\n",
    "    'https://sage.saude.gov.br/dados/sisagua/cadastro_pontos_captacao.zip',\n",
    "    'https://sage.saude.gov.br/dados/sisagua/dicionarios/dicionario_cadastro_pontos_de_captacao.odt',\n",
    "\n",
    "    # Cadastro: Tratamento de Água\n",
    "    # https://dados.gov.br/dataset/sisagua-tratamento-de-agua\n",
    "    'https://sage.saude.gov.br/dados/sisagua/cadastro_tratamento_de_agua.zip',\n",
    "    'https://sage.saude.gov.br/dados/sisagua/dicionarios/dicionario_tratamento_agua.odt',\n",
    "\n",
    "    # Cadastro: Cobertura de Abastecimento\n",
    "    # 'https://dados.gov.br/dataset/sisagua-cobertura-de-abastecimento2',\n",
    "    'https://sage.saude.gov.br/dados/sisagua/cadastro_populacao_abastecida.zip',\n",
    "    'https://sage.saude.gov.br/dados/sisagua/dicionarios/dicionario_cadastro_populacao_abastecida.odt',\n",
    "]"
   ]
  },
  {
   "cell_type": "code",
   "execution_count": null,
   "metadata": {
    "pycharm": {
     "name": "#%%\n"
    }
   },
   "outputs": [],
   "source": [
    "# tt.download_urls(\n",
    "#     urls_cadastro,\n",
    "#     os.path.join(bruto_path, 'cadastro')\n",
    "# )"
   ]
  },
  {
   "cell_type": "markdown",
   "metadata": {
    "pycharm": {
     "name": "#%% md\n"
    }
   },
   "source": [
    "<br>\n",
    "\n",
    "## *Download*: Controle"
   ]
  },
  {
   "cell_type": "code",
   "execution_count": null,
   "metadata": {
    "pycharm": {
     "name": "#%%\n"
    }
   },
   "outputs": [],
   "source": [
    "urls_controle = [\n",
    "    # Controle Mensal: Parâmetros Básicos\n",
    "    # https://dados.gov.br/dataset/sisagua-controle-mensal-quantitativos-de-analises\n",
    "    'https://sage.saude.gov.br/dados/sisagua/controle_mensal_parametros_basicos_2014.zip',\n",
    "    'https://sage.saude.gov.br/dados/sisagua/controle_mensal_parametros_basicos_2015.zip',\n",
    "    'https://sage.saude.gov.br/dados/sisagua/controle_mensal_parametros_basicos_2016.zip',\n",
    "    'https://sage.saude.gov.br/dados/sisagua/controle_mensal_parametros_basicos_2017.zip',\n",
    "    'https://sage.saude.gov.br/dados/sisagua/controle_mensal_parametros_basicos_2018.zip',\n",
    "    'https://sage.saude.gov.br/dados/sisagua/controle_mensal_parametros_basicos_2019.zip',\n",
    "    'https://sage.saude.gov.br/dados/sisagua/controle_mensal_parametros_basicos_2020.zip',\n",
    "    'https://sage.saude.gov.br/dados/sisagua/controle_mensal_parametros_basicos_2021.zip',\n",
    "    'https://sage.saude.gov.br/dados/sisagua/controle_mensal_parametros_basicos_2022.zip',\n",
    "    'https://sage.saude.gov.br/dados/sisagua/dicionarios/dicionario_controle_parametros_basicos.odt',\n",
    "\n",
    "    # Controle Mensal: Demais Parâmetros\n",
    "    # https://dados.gov.br/dataset/sisagua-controle-mensal-resultado-de-analises\n",
    "    'https://sage.saude.gov.br/dados/sisagua/controle_mensal_demais_parametros.zip',\n",
    "    'https://sage.saude.gov.br/dados/sisagua/dicionarios/dicionario_controle_mensal.odt',\n",
    "\n",
    "    # Controle Mensal: Amostras Fora do Padrão\n",
    "    # https://dados.gov.br/dataset/sisagua-controle-mensal-amostras-fora-do-padrao\n",
    "    'https://sage.saude.gov.br/dados/sisagua/controle_mensal_amostras_fora_padrao.zip',\n",
    "    'https://sage.saude.gov.br/dados/sisagua/dicionarios/dicionario_controle_mensal_amostras_fora_do_padrao.odt',\n",
    "\n",
    "    # Controle Mensal: Infraestrutura e Operacionais\n",
    "    # https://dados.gov.br/dataset/sisagua-controle-mensal-infraestrutura-e-operacionais\n",
    "    'https://sage.saude.gov.br/dados/sisagua/controle_mensal_infraestrutura_operacionais.zip',\n",
    "    'https://sage.saude.gov.br/dados/sisagua/dicionarios/dicionario_controle_mensal_infraestrutura.odt',\n",
    "    \n",
    "    # Controle Semestral\n",
    "    # https://dados.gov.br/dataset/controle-semestral\n",
    "    'https://sage.saude.gov.br/dados/sisagua/controle_semestral_2014.zip',\n",
    "    'https://sage.saude.gov.br/dados/sisagua/controle_semestral_2015.zip',\n",
    "    'https://sage.saude.gov.br/dados/sisagua/controle_semestral_2016.zip',\n",
    "    'https://sage.saude.gov.br/dados/sisagua/controle_semestral_2017.zip',\n",
    "    'https://sage.saude.gov.br/dados/sisagua/controle_semestral_2018.zip',\n",
    "    'https://sage.saude.gov.br/dados/sisagua/controle_semestral_2019.zip',\n",
    "    'https://sage.saude.gov.br/dados/sisagua/controle_semestral_2020.zip',\n",
    "    'https://sage.saude.gov.br/dados/sisagua/controle_semestral_2021.zip',\n",
    "    'https://sage.saude.gov.br/dados/sisagua/controle_semestral_2022.zip',\n",
    "    'https://sage.saude.gov.br/dados/sisagua/dicionarios/dicionario_controle_semestral.odt',\n",
    "]"
   ]
  },
  {
   "cell_type": "code",
   "execution_count": null,
   "metadata": {
    "pycharm": {
     "name": "#%%\n"
    }
   },
   "outputs": [],
   "source": [
    "# tt.download_urls(\n",
    "#     urls_controle,\n",
    "#     os.path.join(bruto_path, 'controle')\n",
    "# )"
   ]
  },
  {
   "cell_type": "markdown",
   "metadata": {
    "pycharm": {
     "name": "#%% md\n"
    }
   },
   "source": [
    "<br>\n",
    "\n",
    "## *Download*: Vigilância"
   ]
  },
  {
   "cell_type": "code",
   "execution_count": null,
   "metadata": {
    "pycharm": {
     "name": "#%%\n"
    }
   },
   "outputs": [],
   "source": [
    "urls_vigilancia = [\n",
    "    # Vigilância (Parâmetros Básicos)\n",
    "    # https://dados.gov.br/dataset/sisagua-amostras-de-vigilancia-parametros-basicos\n",
    "    'https://sage.saude.gov.br/dados/sisagua/vigilancia_parametros_basicos_2014.zip',\n",
    "    'https://sage.saude.gov.br/dados/sisagua/vigilancia_parametros_basicos_2015.zip',\n",
    "    'https://sage.saude.gov.br/dados/sisagua/vigilancia_parametros_basicos_2016.zip',\n",
    "    'https://sage.saude.gov.br/dados/sisagua/vigilancia_parametros_basicos_2017.zip',\n",
    "    'https://sage.saude.gov.br/dados/sisagua/vigilancia_parametros_basicos_2018.zip',\n",
    "    'https://sage.saude.gov.br/dados/sisagua/vigilancia_parametros_basicos_2019.zip',\n",
    "    'https://sage.saude.gov.br/dados/sisagua/vigilancia_parametros_basicos_2020.zip',\n",
    "    'https://sage.saude.gov.br/dados/sisagua/vigilancia_parametros_basicos_2021.zip',\n",
    "    'https://sage.saude.gov.br/dados/sisagua/vigilancia_parametros_basicos_2022.zip',\n",
    "    'https://sage.saude.gov.br/dados/sisagua/dicionarios/dicionario_vigilancia_demais_parametros.odt',\n",
    "    \n",
    "    # Vigilância (Demais Parâmetros)\n",
    "    # https://dados.gov.br/dataset/sisagua-amostras-de-vigilancia-demais-parametros\n",
    "    'https://sage.saude.gov.br/dados/sisagua/vigilancia_demais_parametros.zip',\n",
    "    'https://sage.saude.gov.br/dados/sisagua/dicionarios/dicionario_vigilancia_demais_parametros.odt',\n",
    "\n",
    "    # Vigilância (Cianobactérias e Cianotoxinas)\n",
    "    # https://dados.gov.br/dataset/vigilancia-resultados_das_analises_de_cianobacterias_e_cianotoxinas\n",
    "    'https://sage.saude.gov.br/dados/sisagua/vigilancia_cianobacterias_cianotoxinas.zip',\n",
    "    'https://sage.saude.gov.br/dados/sisagua/dicionarios/dicionario_vigilancia_ciano.odt',\n",
    "]"
   ]
  },
  {
   "cell_type": "code",
   "execution_count": null,
   "metadata": {
    "pycharm": {
     "name": "#%%\n"
    }
   },
   "outputs": [],
   "source": [
    "# tt.download_urls(\n",
    "#     urls_vigilancia,\n",
    "#     os.path.join(bruto_path, 'vigilancia'),\n",
    "# )"
   ]
  },
  {
   "cell_type": "markdown",
   "metadata": {
    "pycharm": {
     "name": "#%% md\n"
    }
   },
   "source": [
    "<br>\n",
    "\n",
    "# Text File"
   ]
  },
  {
   "cell_type": "code",
   "execution_count": null,
   "metadata": {
    "pycharm": {
     "name": "#%%\n"
    }
   },
   "outputs": [],
   "source": [
    "urls = urls_cadastro + urls_controle + urls_vigilancia\n",
    "urls"
   ]
  },
  {
   "cell_type": "code",
   "execution_count": null,
   "metadata": {
    "pycharm": {
     "name": "#%%\n"
    }
   },
   "outputs": [],
   "source": [
    "urls_file = os.path.join(docs_path, 'others', 'urls_sisagua.txt')\n",
    "\n",
    "with open(urls_file, 'w') as f:\n",
    "    #f.writelines(urls_cadastro)\n",
    "    f.write('\\n'.join(urls))"
   ]
  },
  {
   "cell_type": "code",
   "execution_count": null,
   "metadata": {
    "pycharm": {
     "name": "#%%\n"
    }
   },
   "outputs": [],
   "source": []
  }
 ],
 "metadata": {
  "anaconda-cloud": {},
  "interpreter": {
   "hash": "9ff1310743fb78083e61eda919b1855ced787e7556b2d9e40aa50770053af88d"
  },
  "kernelspec": {
   "display_name": "Python 3 (ipykernel)",
   "language": "python",
   "name": "python3"
  },
  "language_info": {
   "codemirror_mode": {
    "name": "ipython",
    "version": 3
   },
   "file_extension": ".py",
   "mimetype": "text/x-python",
   "name": "python",
   "nbconvert_exporter": "python",
   "pygments_lexer": "ipython3",
   "version": "3.9.12"
  },
  "notify_time": "10",
  "toc": {
   "base_numbering": 1,
   "nav_menu": {
    "height": "605px",
    "width": "460px"
   },
   "number_sections": true,
   "sideBar": true,
   "skip_h1_title": false,
   "title_cell": "Índice",
   "title_sidebar": "Contents",
   "toc_cell": false,
   "toc_position": {
    "height": "calc(100% - 180px)",
    "left": "10px",
    "top": "150px",
    "width": "364px"
   },
   "toc_section_display": true,
   "toc_window_display": true
  },
  "toc-autonumbering": true
 },
 "nbformat": 4,
 "nbformat_minor": 4
}
