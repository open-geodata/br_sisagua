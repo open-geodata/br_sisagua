{
 "cells": [
  {
   "cell_type": "markdown",
   "id": "9c87b93f-4b63-413a-ad54-4d6f8c575889",
   "metadata": {},
   "source": [
    "<br>\n",
    "\n",
    "# Introdução"
   ]
  },
  {
   "cell_type": "code",
   "execution_count": null,
   "id": "e3bf4202-857c-498c-9769-24af9bceb183",
   "metadata": {},
   "outputs": [],
   "source": [
    "#!pip3 install open-geodata --upgrade"
   ]
  },
  {
   "cell_type": "code",
   "execution_count": null,
   "id": "56ee8c27-5c10-4fc9-ba39-df90ecb2618a",
   "metadata": {},
   "outputs": [],
   "source": [
    "import os\n",
    "import sys\n",
    "import folium\n",
    "import numpy as np\n",
    "import pandas as pd\n",
    "import seaborn as sns\n",
    "import geopandas as gpd\n",
    "from folium import plugins\n",
    "from datetime import date"
   ]
  },
  {
   "cell_type": "code",
   "execution_count": null,
   "id": "285a0526-0693-4aef-982a-91b7897979f3",
   "metadata": {},
   "outputs": [],
   "source": [
    "from open_geodata import geo, functions, lyr, converts\n",
    "from open_geodata import folium_plus"
   ]
  },
  {
   "cell_type": "code",
   "execution_count": null,
   "id": "009d1d91-2a95-480c-9742-d735b907b6ef",
   "metadata": {},
   "outputs": [],
   "source": [
    "mod_path = os.path.abspath(os.path.join(os.getcwd(), '..', 'src'))\n",
    "sys.path.append(mod_path)\n",
    "from sisagua.ibge import *"
   ]
  },
  {
   "cell_type": "code",
   "execution_count": null,
   "id": "75bfc5e9-c0e3-4019-93b6-ecdb45fc2e4f",
   "metadata": {},
   "outputs": [],
   "source": [
    "from paths import *"
   ]
  },
  {
   "cell_type": "markdown",
   "id": "fb5e7a1f-92d1-44be-a637-b2f7e4c626d0",
   "metadata": {},
   "source": [
    "<br>\n",
    "\n",
    "Lista quais os Municípios que exportei dados."
   ]
  },
  {
   "cell_type": "code",
   "execution_count": null,
   "id": "4c42ebcf-8fe9-4b32-a6b8-e12645cd4002",
   "metadata": {},
   "outputs": [],
   "source": [
    "os.listdir(output_path)"
   ]
  },
  {
   "cell_type": "code",
   "execution_count": null,
   "id": "1dbad657-cec9-41c7-869b-39a749507831",
   "metadata": {},
   "outputs": [],
   "source": [
    "# Parameters\n",
    "#cod_ibge = '3505203' # Bariri\n",
    "cod_ibge = '3501608' # Americana\n",
    "#cod_ibge = '3548906' # São Carlos\n",
    "#cod_ibge = '3526902' # Limeira"
   ]
  },
  {
   "cell_type": "code",
   "execution_count": null,
   "id": "66c78bd1-8467-41db-aca5-13e91d34ae55",
   "metadata": {},
   "outputs": [],
   "source": [
    "# Adjust Code\n",
    "#cod_ibge_ajustado = adjust_id_ibge(cod_ibge)\n",
    "\n",
    "# Estado\n",
    "#estado_d = find_states(cod_ibge)\n",
    "#estado = estado_d['sigla']\n",
    "\n",
    "# Path name\n",
    "#city_path = '{}_{}'.format(estado, cod_ibge_ajustado)\n",
    "#city_path"
   ]
  },
  {
   "cell_type": "markdown",
   "id": "bb7bb1b4-ca47-4c06-a71f-dc79e4dd1840",
   "metadata": {},
   "source": [
    "<br>\n",
    "\n",
    "Confere se o município selecionado tem dados exportados"
   ]
  },
  {
   "cell_type": "code",
   "execution_count": null,
   "id": "0857e714-2223-472a-b573-8435e27d5541",
   "metadata": {},
   "outputs": [],
   "source": [
    "cod_ibge in os.listdir(output_path)"
   ]
  },
  {
   "cell_type": "markdown",
   "id": "aead97d5-2b08-4eff-8af7-6aae1252a84a",
   "metadata": {},
   "source": [
    "<br>\n",
    "\n",
    "Cria Diretórios de output de Mapas"
   ]
  },
  {
   "cell_type": "code",
   "execution_count": null,
   "id": "af8c0575-f597-4967-a584-0e7cda0e3a24",
   "metadata": {},
   "outputs": [],
   "source": [
    "geo_path = os.path.join(output_path, str(cod_ibge), 'analysis_geo')\n",
    "os.makedirs(geo_path, exist_ok=True)"
   ]
  },
  {
   "cell_type": "markdown",
   "id": "912ce4af-a548-4d25-b9e8-31405217878f",
   "metadata": {},
   "source": [
    "<br>\n",
    "\n",
    "# Layers"
   ]
  },
  {
   "cell_type": "markdown",
   "id": "c8c7c672-2712-4af5-b9ab-1abfb0e81c18",
   "metadata": {},
   "source": [
    "<br>\n",
    "\n",
    "## ETAs\n",
    "\n",
    "A concepção inicial era avaliar as coordenadas de latitude e longitude das ETAs, porém observei que no Siságua não existem essas informações"
   ]
  },
  {
   "cell_type": "code",
   "execution_count": null,
   "id": "7396a339-73d6-498d-8ac3-e1ab05505596",
   "metadata": {},
   "outputs": [],
   "source": [
    "# Read Table\n",
    "df = pd.read_excel(\n",
    "    os.path.join(output_path, str(cod_ibge), 'dados brutos', 'cadastro', 'cadastro_tratamento_de_agua.xlsx')\n",
    ")\n",
    "\n",
    "# Filtra os Últimos\n",
    "if date.today().year in set(df['Ano De Referência']):\n",
    "    df = df.loc[df['Ano De Referência'] == date.today().year]\n",
    "    df.reset_index(drop=True, inplace=True)\n",
    "    print(df.info())\n",
    "else:\n",
    "    print('Erro')"
   ]
  },
  {
   "cell_type": "code",
   "execution_count": null,
   "id": "ee11e0d3-6e26-48bb-ad27-e9da124bb332",
   "metadata": {},
   "outputs": [],
   "source": [
    "# Seleciona SAA\n",
    "df = df.loc[df['Tipo Da Forma De Abastecimento'].str.startswith('SAA')]\n",
    "\n",
    "# Seleciona SAC\n",
    "#df.loc[df['Código Forma De Abastecimento'].str.startswith('SAC')]\n",
    "\n",
    "# Results\n",
    "df.head()"
   ]
  },
  {
   "cell_type": "markdown",
   "id": "da626865-b204-4393-a161-a304cdbff446",
   "metadata": {},
   "source": [
    "<br>\n",
    "\n",
    "## Captação"
   ]
  },
  {
   "cell_type": "code",
   "execution_count": null,
   "id": "44f647d9-85e2-4f6d-9396-40df1ef246dd",
   "metadata": {},
   "outputs": [],
   "source": [
    "# Read Table\n",
    "df = pd.read_excel(\n",
    "    os.path.join(output_path, str(cod_ibge), 'dados brutos', 'cadastro', 'cadastro_pontos_captacao.xlsx')\n",
    ")\n",
    "\n",
    "# Filtra os Últimos\n",
    "if date.today().year in set(df['Ano De Referência']):\n",
    "    df = df.loc[df['Ano De Referência'] == date.today().year]\n",
    "    df.reset_index(drop=True, inplace=True)\n",
    "    print(df.info())\n",
    "else:\n",
    "    print('Erro')"
   ]
  },
  {
   "cell_type": "code",
   "execution_count": null,
   "id": "78f25df4-999a-4ae6-8a7a-2969ce5d22f5",
   "metadata": {},
   "outputs": [],
   "source": [
    "# Adjusta os dtypes\n",
    "df['Longitude'] = pd.to_numeric(df['Longitude'].str.replace(',', '.'), errors='coerce')\n",
    "df['Latitude'] = pd.to_numeric(df['Latitude'].str.replace(',', '.'), errors='coerce')\n",
    "\n",
    "# Convert\n",
    "gdf = converts.df2geojson2(df, lat='Latitude', long='Longitude', epsg=4326)\n",
    "gdf.plot()"
   ]
  },
  {
   "cell_type": "code",
   "execution_count": null,
   "id": "30966f76-f857-4585-b51b-896ac72f39fe",
   "metadata": {},
   "outputs": [],
   "source": [
    "# Save\n",
    "gdf.to_file(\n",
    "    os.path.join(geo_path, 'cadastro_pontos_captacao.geojson'),\n",
    "    driver='GeoJSON'\n",
    ")\n",
    "\n",
    "# Results\n",
    "gdf.head(2)"
   ]
  },
  {
   "cell_type": "code",
   "execution_count": null,
   "id": "9760bf03-a5d0-4dc9-af69-967140bdeea3",
   "metadata": {},
   "outputs": [],
   "source": [
    "#gdf.columns\n",
    "#set(gdf['Tipo De Captação'])\n",
    "#set(gdf['Tipo Da Forma De Abastecimento'])"
   ]
  },
  {
   "cell_type": "code",
   "execution_count": null,
   "id": "496032fc-b250-4646-8df8-465e84df4790",
   "metadata": {},
   "outputs": [],
   "source": [
    "def add_lyr_captacao_saa(geojson_path):\n",
    "    # Input\n",
    "    gdf = gpd.read_file(os.path.join(geojson_path, 'cadastro_pontos_captacao.geojson'))\n",
    "    gdf = gdf.loc[gdf['Tipo Da Forma De Abastecimento'] == 'SAA']\n",
    "    \n",
    "    n_not_empty = len(gdf)\n",
    "    n_empty = len(gdf.loc[gdf['geometry'] == None])\n",
    "    \n",
    "    gdf = gdf.loc[gdf['geometry'] != None]\n",
    "    gdf = gdf.to_crs(epsg=4326)\n",
    "    print(\n",
    "        \"\"\"O layer \"Captação SAA\" tem {} registros com coordenadas e {} registros sem coordenadas\"\"\".format(\n",
    "            n_not_empty,\n",
    "            n_empty\n",
    "        )\n",
    "    )\n",
    "    \n",
    "    # Popup\n",
    "    gdf['popup'] = gdf.apply(popup_html_captacoes, axis=1)\n",
    "    \n",
    "    # Style\n",
    "    colors = {\n",
    "        'SUBTERRANEO': 'pink',\n",
    "        'SUPERFICIAL': 'blue',\n",
    "    }    \n",
    "    \n",
    "    # Group\n",
    "    feature_group = folium.FeatureGroup('Captações SAA')\n",
    "    \n",
    "    # Loop\n",
    "    for index, row in gdf.iterrows():\n",
    "        #\n",
    "        lyr = folium.Marker(\n",
    "            location=[row['geometry'].y, row['geometry'].x],\n",
    "            popup=folium.Popup(\n",
    "                folium.Html(row['popup'], script=True),\n",
    "                min_width=350,\n",
    "                max_width=450,\n",
    "                parse_html=True,\n",
    "            ),\n",
    "            tooltip=row['Nome Da Forma De Abastecimento'],\n",
    "            icon=folium.Icon(color=colors[row['Tipo De Captação']])\n",
    "        )\n",
    "        \n",
    "        feature_group.add_child(lyr)\n",
    "    return feature_group"
   ]
  },
  {
   "cell_type": "code",
   "execution_count": null,
   "id": "2ebcccad-8645-4a9d-94bf-ba1631c48e26",
   "metadata": {},
   "outputs": [],
   "source": [
    "gdf = gpd.read_file(os.path.join(geo_path, 'cadastro_pontos_captacao.geojson'))\n",
    "gdf = gdf.loc[gdf['Tipo Da Forma De Abastecimento'] == 'SAC']\n",
    "# gdf['geometry'] = gdf['geometry'].replace('None', np.nan)\n",
    "gdf = gdf.loc[gdf['geometry'] == None]\n",
    "# gdf = gdf.to_crs(epsg=4326)\n",
    "# if len(gdf)>0:\n",
    "#     print('s')\n",
    "\n",
    "gdf"
   ]
  },
  {
   "cell_type": "code",
   "execution_count": null,
   "id": "771916a5-6927-4c2e-bf8c-040bd6f98c69",
   "metadata": {},
   "outputs": [],
   "source": [
    "def add_lyr_captacao_sac(geojson_path):\n",
    "    # Input\n",
    "    gdf = gpd.read_file(os.path.join(geojson_path, 'cadastro_pontos_captacao.geojson'))\n",
    "    gdf = gdf.loc[gdf['Tipo Da Forma De Abastecimento'] == 'SAC']\n",
    "    \n",
    "    n_not_empty = len(gdf)\n",
    "    n_empty = len(gdf.loc[gdf['geometry'] == None])\n",
    "\n",
    "    gdf = gdf.loc[gdf['geometry'] != None]\n",
    "    gdf = gdf.to_crs(epsg=4326)\n",
    "    print(\n",
    "        \"\"\"O layer \"Captação SAC\" tem {} registros com coordenadas e {} registros sem coordenadas\"\"\".format(\n",
    "            n_not_empty,\n",
    "            n_empty\n",
    "        )\n",
    "    )\n",
    "\n",
    "    # Popup\n",
    "    gdf['popup'] = gdf.apply(popup_html_captacoes, axis=1)\n",
    "\n",
    "    # Style\n",
    "    colors = {\n",
    "        'SUBTERRANEO': 'pink',\n",
    "        'SUPERFICIAL': 'blue',\n",
    "    }    \n",
    "\n",
    "    # Group\n",
    "    feature_group = folium.FeatureGroup(\n",
    "        'Captações SAC',\n",
    "        show=False\n",
    "    )\n",
    "\n",
    "    # Loop\n",
    "    for index, row in gdf.iterrows():\n",
    "        #\n",
    "        lyr = folium.Marker(\n",
    "            location=[row['geometry'].y, row['geometry'].x],\n",
    "            popup=folium.Popup(\n",
    "                folium.Html(row['popup'], script=True),\n",
    "                min_width=350,\n",
    "                max_width=450,\n",
    "                parse_html=True,\n",
    "            ),\n",
    "            tooltip=row['Nome Da Forma De Abastecimento'],\n",
    "            icon=folium.Icon(color=colors[row['Tipo De Captação']])\n",
    "        )\n",
    "\n",
    "        feature_group.add_child(lyr)\n",
    "    return feature_group"
   ]
  },
  {
   "cell_type": "code",
   "execution_count": null,
   "id": "ad93ef07-01b0-488c-a021-35c0683bbdf7",
   "metadata": {},
   "outputs": [],
   "source": [
    "def popup_html_captacoes(row):\n",
    "    # Data\n",
    "    nome = row['Nome Da Instiuição']\n",
    "    tipo = row['Tipo De Captação']\n",
    "    outorga = row['Outorga']\n",
    "    tipo_forma = row['Tipo Da Forma De Abastecimento']\n",
    "    nome_forma = row['Nome Da Forma De Abastecimento']\n",
    "\t\n",
    "    # Infos\n",
    "    popup = \"\"\"\n",
    "    <div>\n",
    "    <h5>{}</h5>\n",
    "    <br>Responsável: <b>{}</b>\n",
    "    <br>Tipo da Forma de Abastecimento: <b>{}</b>\n",
    "    <br>Nome da Forma de Abastecimento: <b>{}</b>\n",
    "    <br>Tem Ouutorga?: <b>{}</b>\n",
    "    </div>\n",
    "    \"\"\".format(tipo_forma, nome, tipo, nome_forma, outorga)\n",
    "    return popup"
   ]
  },
  {
   "cell_type": "markdown",
   "id": "875e09f8-a85f-4579-baae-030d0a8cb4cf",
   "metadata": {},
   "source": [
    "<br>\n",
    "\n",
    "## Município"
   ]
  },
  {
   "cell_type": "code",
   "execution_count": null,
   "id": "8c1ac8be-a0f5-401f-a41c-218b67f096b7",
   "metadata": {},
   "outputs": [],
   "source": [
    "# List geodataframes\n",
    "geo.get_dataset_names()\n",
    "\n",
    "# Load geodataframe\n",
    "gdf_sp = geo.load_dataset('sp_250k_wgs84')"
   ]
  },
  {
   "cell_type": "code",
   "execution_count": null,
   "id": "f44f5d4f-35be-41d6-92e2-a14bf59d945b",
   "metadata": {},
   "outputs": [],
   "source": [
    "gdf_sp_mun = gdf_sp.loc[gdf_sp['id_municipio'] == int(cod_ibge)]\n",
    "gdf_sp_mun.plot()\n",
    "gdf_sp_mun.to_file(\n",
    "    os.path.join(geo_path, 'limite_municipio.geojson'),\n",
    "    driver='GeoJSON'\n",
    ")"
   ]
  },
  {
   "cell_type": "code",
   "execution_count": null,
   "id": "37936097-978c-4b87-b058-9a1fe76faa61",
   "metadata": {},
   "outputs": [],
   "source": [
    "def add_lyr_municipio(geojson_path):\n",
    "    # Input\n",
    "    gdf = gpd.read_file(os.path.join(geojson_path, 'limite_municipio.geojson'))\n",
    "    gdf = gdf.to_crs(epsg=4326)\n",
    "    \n",
    "    # Popup\n",
    "    #gdf['popup'] = gdf.apply(popup_html_est_aut_empresas, axis=1)\n",
    "\n",
    "    # Layer\n",
    "    return folium.GeoJson(\n",
    "        gdf,\n",
    "        name='Limite Municipal',\n",
    "        smooth_factor=1.0,\n",
    "        style_function=lambda x: {\n",
    "            'fillColor': '#f7f7f7',\n",
    "            'color': '#f7f7f7',\n",
    "            'weight': 3,\n",
    "            'fillOpacity': 0.1,\n",
    "        },\n",
    "        highlight_function=lambda x: {\n",
    "            'weight': 5,\n",
    "            'fillOpacity': 0.1,\n",
    "        },\n",
    "        # popup=folium.GeoJsonPopup(\n",
    "        #     ['popup'],\n",
    "        #     parse_html=False,\n",
    "        #     max_width='400',\n",
    "        #     show=False,\n",
    "        #     labels=False,\n",
    "        #     sticky=True,            \n",
    "        # ),\n",
    "        marker=folium.Marker(\n",
    "            icon=folium.Icon(\n",
    "                color='lightgray',\n",
    "                icon_color='#FFFF00',\n",
    "                #icon='leaf',\n",
    "            ),\n",
    "        ),\n",
    "        # tooltip=folium.GeoJsonTooltip(\n",
    "        #     fields=['municipio_nome'],\n",
    "        #     aliases=['Município'],\n",
    "        #     sticky=True,\n",
    "        #     opacity=0.9,\n",
    "        #     direction='right',\n",
    "        # ),\n",
    "        embed=False,\n",
    "        zoom_on_click=False,\n",
    "        control=True,\n",
    "        show=False,\n",
    "    )"
   ]
  },
  {
   "cell_type": "markdown",
   "id": "ef670771-a57c-4b5c-be2f-326566a1da1d",
   "metadata": {},
   "source": [
    "<br>\n",
    "\n",
    "## Municípios Vizinhos"
   ]
  },
  {
   "cell_type": "code",
   "execution_count": null,
   "id": "4ce0b3ad-255f-479e-8c34-54355e77219e",
   "metadata": {},
   "outputs": [],
   "source": [
    "gdf_sp_viz = functions.share_boundary(gdf_sp, gdf_sp_mun)\n",
    "gdf_sp_viz.to_file(\n",
    "    os.path.join(geo_path, 'limite_municipios_vizinhos.geojson'),\n",
    "    driver='GeoJSON'\n",
    ")\n",
    "gdf_sp_viz.plot()"
   ]
  },
  {
   "cell_type": "code",
   "execution_count": null,
   "id": "25931cae-bc95-4088-8a01-6782dd382f64",
   "metadata": {},
   "outputs": [],
   "source": [
    "def add_lyr_municipios_vizinhos(geojson_path):\n",
    "    # Input\n",
    "    gdf = gpd.read_file(os.path.join(geojson_path, 'limite_municipios_vizinhos.geojson'))\n",
    "    gdf = gdf.to_crs(epsg=4326)    \n",
    "    \n",
    "    # Popup\n",
    "    #gdf['popup'] = gdf.apply(popup_html_est_aut_empresas, axis=1)\n",
    "\n",
    "    # Layer\n",
    "    return folium.GeoJson(\n",
    "        gdf,\n",
    "        name='Limite Municipíos Vizinhos',\n",
    "        smooth_factor=1.0,\n",
    "        style_function=lambda x: {\n",
    "            'fillColor': '#b8b8b8',\n",
    "            'color': '#b8b8b8',\n",
    "            'weight': 1,\n",
    "            'fillOpacity': 0.6,\n",
    "        },\n",
    "        highlight_function=lambda x: {\n",
    "            'weight': 3,\n",
    "            'fillOpacity': 0.2,\n",
    "        },\n",
    "        # popup=folium.GeoJsonPopup(\n",
    "        #     ['popup'],\n",
    "        #     parse_html=False,\n",
    "        #     max_width='400',\n",
    "        #     show=False,\n",
    "        #     labels=False,\n",
    "        #     sticky=True,            \n",
    "        # ),\n",
    "        marker=folium.Marker(\n",
    "            icon=folium.Icon(\n",
    "                color='lightgray',\n",
    "                icon_color='#FFFF00',\n",
    "                #icon='leaf',\n",
    "            ),\n",
    "        ),\n",
    "        tooltip=folium.GeoJsonTooltip(\n",
    "            fields=['municipio_nome'],\n",
    "            aliases=['Município'],\n",
    "            sticky=True,\n",
    "            opacity=0.9,\n",
    "            direction='right',\n",
    "        ),\n",
    "        embed=False,\n",
    "        zoom_on_click=False,\n",
    "        control=True,\n",
    "        show=True,\n",
    "    )"
   ]
  },
  {
   "cell_type": "markdown",
   "id": "71d67f7b-5b46-44d0-a862-0ebfcaa11748",
   "metadata": {},
   "source": [
    "<br>\n",
    "\n",
    "# Map"
   ]
  },
  {
   "cell_type": "code",
   "execution_count": null,
   "id": "04c4594e-5a32-4675-bedb-efed7df500b3",
   "metadata": {},
   "outputs": [],
   "source": [
    "def get_map(input_geojson):\n",
    "    # Input\n",
    "    gdf = gpd.read_file(input_geojson)\n",
    "    gdf = gdf.to_crs(epsg=4326)\n",
    "    sw = gdf.bounds[['miny', 'minx']].min().values.tolist()\n",
    "    ne = gdf.bounds[['maxy', 'maxx']].max().values.tolist()\n",
    "    bounds = [sw, ne]\n",
    "    \n",
    "    # Zoom\n",
    "    min_zoom = 8\n",
    "    max_zoom = 21\n",
    "    padding = 1\n",
    "    \n",
    "    # Create Map\n",
    "    m = folium.Map(\n",
    "        min_zoom=min_zoom,\n",
    "        max_zoom=max_zoom,\n",
    "        max_bounds=True,\n",
    "        min_lat=bounds[0][0]*((100+padding)/100),\n",
    "        min_lon=bounds[0][1]*((100+padding)/100),\n",
    "        max_lat=bounds[1][0]*((100-padding)/100),\n",
    "        max_lon=bounds[1][1]*((100-padding)/100),\n",
    "        tiles=None,\n",
    "        # zoom_delta=0.1,\n",
    "        # zoom_start=10,\n",
    "    )\n",
    "    \n",
    "    # Add Layers\n",
    "    m.add_child(lyr.base.google_hybrid(min_zoom, max_zoom))\n",
    "    m.add_child(lyr.base.google_satellite(min_zoom, max_zoom))\n",
    "    m.add_child(lyr.base.google_terrain(min_zoom, max_zoom))    \n",
    "    m.add_child(lyr.base.google_streets(min_zoom, max_zoom))    \n",
    "\n",
    "    # Monitoramento\n",
    "    try: m.add_child(add_lyr_captacao_saa(geo_path))\n",
    "    except: pass\n",
    "    try: m.add_child(add_lyr_captacao_sac(geo_path))\n",
    "    except: pass\n",
    "    m.add_child(add_lyr_municipio(geo_path))\n",
    "    m.add_child(add_lyr_municipios_vizinhos(geo_path))    \n",
    "\n",
    "    # Plugins\n",
    "    m.fit_bounds(bounds)\n",
    "    plugins.Fullscreen(\n",
    "        position='topleft',\n",
    "        title='Clique para Maximizar',\n",
    "        title_cancel='Mininizar',\n",
    "    ).add_to(m)\n",
    "    folium.LayerControl(\n",
    "        position='topright',\n",
    "        collapsed=False,\n",
    "    ).add_to(m)\n",
    "    return m"
   ]
  },
  {
   "cell_type": "code",
   "execution_count": null,
   "id": "56828982-8472-4d3e-bbd5-9a07a506aff4",
   "metadata": {},
   "outputs": [],
   "source": [
    "# Create Maps\n",
    "m = get_map(os.path.join(geo_path, 'limite_municipios_vizinhos.geojson'))\n",
    "\n",
    "# Add Legend\n",
    "colors = {\n",
    "    'SUBTERRANEO': 'pink',\n",
    "    'SUPERFICIAL': 'blue',\n",
    "}\n",
    "m = folium_plus.adds.add_categorical_legend(m, title='Captações', color_by_label=colors)\n",
    "\n",
    "# Save\n",
    "m.save(os.path.join(geo_path, 'map_captacao.html'))\n",
    "\n",
    "# Results\n",
    "m"
   ]
  },
  {
   "cell_type": "code",
   "execution_count": null,
   "id": "442f568f-b50b-4994-b5e2-a3effc2a38cf",
   "metadata": {},
   "outputs": [],
   "source": []
  },
  {
   "cell_type": "code",
   "execution_count": null,
   "id": "025044ec-3a29-4b1b-b385-f789c4594f3d",
   "metadata": {},
   "outputs": [],
   "source": []
  }
 ],
 "metadata": {
  "kernelspec": {
   "display_name": "Python [conda env:pablocarreira-py39] *",
   "language": "python",
   "name": "conda-env-pablocarreira-py39-py"
  },
  "language_info": {
   "codemirror_mode": {
    "name": "ipython",
    "version": 3
   },
   "file_extension": ".py",
   "mimetype": "text/x-python",
   "name": "python",
   "nbconvert_exporter": "python",
   "pygments_lexer": "ipython3",
   "version": "3.9.12"
  },
  "toc-autonumbering": true
 },
 "nbformat": 4,
 "nbformat_minor": 5
}
