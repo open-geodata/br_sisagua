{
 "cells": [
  {
   "cell_type": "markdown",
   "id": "e24b2a80-7738-4a10-9b22-8f4228517bdd",
   "metadata": {
    "tags": [
     "remove_cell"
    ]
   },
   "source": [
    "<br>\n",
    "\n",
    "# Introdução"
   ]
  },
  {
   "cell_type": "code",
   "execution_count": null,
   "id": "45a9f937-5157-404f-b9f4-887418f102ea",
   "metadata": {},
   "outputs": [],
   "source": [
    "import os\n",
    "import sys\n",
    "import pandas as pd"
   ]
  },
  {
   "cell_type": "code",
   "execution_count": null,
   "id": "b04c5d22-a5b4-4619-bec7-f774cb9abea1",
   "metadata": {},
   "outputs": [],
   "source": [
    "import dash\n",
    "from dash import Dash, dcc, html, Input, Output\n",
    "from jupyter_dash import JupyterDash"
   ]
  },
  {
   "cell_type": "code",
   "execution_count": null,
   "id": "8920ac88-e29e-4c26-af64-c34b3af4f2c3",
   "metadata": {},
   "outputs": [],
   "source": [
    "import plotly.express as px\n",
    "import plotly.graph_objects as go"
   ]
  },
  {
   "cell_type": "code",
   "execution_count": null,
   "id": "03e55550-568c-481d-a0f3-1679d081b56b",
   "metadata": {
    "tags": [
     "remove_cell"
    ]
   },
   "outputs": [],
   "source": [
    "mod_path = os.path.abspath(os.path.join(os.getcwd(), '..', 'src'))\n",
    "sys.path.append(mod_path)"
   ]
  },
  {
   "cell_type": "code",
   "execution_count": null,
   "id": "321af127",
   "metadata": {
    "collapsed": false,
    "jupyter": {
     "outputs_hidden": false
    },
    "pycharm": {
     "name": "#%%\n"
    }
   },
   "outputs": [],
   "source": [
    "from sisagua.ibge import *"
   ]
  },
  {
   "cell_type": "code",
   "execution_count": null,
   "id": "aca3ee0d-30e3-49b4-9095-9955ed23d176",
   "metadata": {},
   "outputs": [],
   "source": [
    "from paths import *"
   ]
  },
  {
   "cell_type": "code",
   "execution_count": null,
   "id": "5a13b9a6-fe55-4b51-9e58-67e84759df94",
   "metadata": {},
   "outputs": [],
   "source": [
    "# Parameters\n",
    "cod_ibge = '3548906' # São Carlos\n",
    "cod_ibge = '3526902' # Limeira\n",
    "cod_ibge = '3501608' # Americana\n",
    "\n",
    "# Adjust Code\n",
    "#cod_ibge_adjusted = adjust_id_ibge(cod_ibge)"
   ]
  },
  {
   "cell_type": "markdown",
   "id": "8ccda79f-0f56-4c6e-939e-7b54bb7907b3",
   "metadata": {},
   "source": [
    "<br>\n",
    "\n",
    "# Lê Dados da Vigilância"
   ]
  },
  {
   "cell_type": "code",
   "execution_count": null,
   "id": "22241504-9abb-4848-9278-6f79f9b471aa",
   "metadata": {
    "tags": [
     "remove_cell"
    ]
   },
   "outputs": [],
   "source": [
    "# Read Table\n",
    "df = pd.read_excel(\n",
    "    os.path.join(output_path, str(cod_ibge), 'dados brutos', 'vigilancia', 'vigilancia_parametros_basicos.xlsx')\n",
    ")"
   ]
  },
  {
   "cell_type": "markdown",
   "id": "c6acd8be-b584-4f37-8644-07f1b49c4879",
   "metadata": {},
   "source": [
    "<br>\n",
    "\n",
    "# Filtra"
   ]
  },
  {
   "cell_type": "code",
   "execution_count": null,
   "id": "a23735ec-a7d2-4612-aa9e-cd8324031562",
   "metadata": {},
   "outputs": [],
   "source": [
    "print(set(df['Tipo Da Forma De Abastecimento']))\n",
    "\n",
    "df = df.loc[df['Tipo Da Forma De Abastecimento'] == 'SAA']\n",
    "df.head()"
   ]
  },
  {
   "cell_type": "markdown",
   "id": "bd1d4490-cedf-410e-84e2-7e2fe66f3434",
   "metadata": {},
   "source": [
    "<br>\n",
    "\n",
    "# Adjust Dates"
   ]
  },
  {
   "cell_type": "code",
   "execution_count": null,
   "id": "142c56b1-2b88-4d16-99c6-338971286584",
   "metadata": {},
   "outputs": [],
   "source": [
    "df['Data Da Coleta'] = pd.to_datetime(df['Data Da Coleta'])\n",
    "df['Data Do Laudo'] = pd.to_datetime(df['Data Do Laudo'])\n",
    "df['Data De Registro No Sisagua'] = pd.to_datetime(df['Data De Registro No Sisagua'])"
   ]
  },
  {
   "cell_type": "markdown",
   "id": "a023c357-7766-45fe-9ae0-f2678229f478",
   "metadata": {},
   "source": [
    "<br>\n",
    "\n",
    "# Análises"
   ]
  },
  {
   "cell_type": "code",
   "execution_count": null,
   "id": "3a9441df-7d50-49aa-9d75-46c6528ccbf7",
   "metadata": {},
   "outputs": [],
   "source": [
    "# Results\n",
    "print(df.info())"
   ]
  },
  {
   "cell_type": "code",
   "execution_count": null,
   "id": "e482aed8-dda1-4da3-9b66-3a6d984c002c",
   "metadata": {
    "tags": [
     "remove_cell"
    ]
   },
   "outputs": [],
   "source": [
    "set(df['Análise Realizada'])"
   ]
  },
  {
   "cell_type": "code",
   "execution_count": null,
   "id": "f107917f-3801-475b-b26b-7628da042beb",
   "metadata": {
    "tags": [
     "remove_cell"
    ]
   },
   "outputs": [],
   "source": [
    "set(df['Parâmetro (Parâmetros Básicos)'])"
   ]
  },
  {
   "cell_type": "markdown",
   "id": "5f520081-dfa3-4941-a5b5-087159a8f3a5",
   "metadata": {},
   "source": [
    "<br>\n",
    "\n",
    "## Seleciona Parâmetros"
   ]
  },
  {
   "cell_type": "code",
   "execution_count": null,
   "id": "d0beadfd-e406-4547-93a6-8e93859798f7",
   "metadata": {},
   "outputs": [],
   "source": [
    "dict_par = {\n",
    "    'Cloro residual livre (mg/L)': 2,\n",
    "    'Coliformes totais': 2,\n",
    "    'Cor (uH)': 2,\n",
    "    'Escherichia coli': 2,\n",
    "    'Fluoreto (mg/L)': 2,\n",
    "    'Turbidez (uT)': 2,\n",
    "    'pH': 2\n",
    "}"
   ]
  },
  {
   "cell_type": "code",
   "execution_count": null,
   "id": "d6cd6111-0a5a-41a5-a786-7b29e88240a8",
   "metadata": {
    "tags": [
     "remove_cell"
    ]
   },
   "outputs": [],
   "source": [
    "set(df['Parâmetro (Parâmetros Básicos)'])"
   ]
  },
  {
   "cell_type": "code",
   "execution_count": null,
   "id": "77667d51-ffa2-4298-abcb-f6752551012b",
   "metadata": {
    "tags": [
     "remove_cell"
    ]
   },
   "outputs": [],
   "source": [
    "#df.dtypes"
   ]
  },
  {
   "cell_type": "code",
   "execution_count": null,
   "id": "f666f4e4-f129-46e8-979b-838768376e85",
   "metadata": {
    "tags": [
     "remove_cell"
    ]
   },
   "outputs": [],
   "source": [
    "#list(df.columns)"
   ]
  },
  {
   "cell_type": "markdown",
   "id": "571544e6-0c51-4ea2-8ffa-98fa6d7c00ba",
   "metadata": {},
   "source": [
    "<br>\n",
    "\n",
    "# Plotly"
   ]
  },
  {
   "cell_type": "code",
   "execution_count": null,
   "id": "0228379a-5c18-4e46-bca4-e278fe148d5d",
   "metadata": {},
   "outputs": [],
   "source": [
    "print(list(set(df['Nome Da Forma De Abastecimento'])))\n",
    "n_forma = 1"
   ]
  },
  {
   "cell_type": "markdown",
   "id": "bbe62548-6ded-44a8-a6a6-120ebe54cc35",
   "metadata": {},
   "source": [
    "<br>\n",
    "\n",
    "## Cloro\n",
    "\n",
    "- Art. 32 É obrigatória a manutenção de, no mínimo, 0,2 mg/L de cloro residual livre ou 2 mg/L de cloro residual combinado ou de 0,2 mg/L de dióxido de cloro em toda a extensão do sistema de distribuição (reservatório e rede) e nos pontos de consumo."
   ]
  },
  {
   "cell_type": "code",
   "execution_count": null,
   "id": "4fc7d3ac-7a80-442d-9f0f-fcd32ab291ac",
   "metadata": {},
   "outputs": [],
   "source": [
    "# Select Parameters\n",
    "df_temp = df[df['Parâmetro (Parâmetros Básicos)'].str.contains('Cloro')].copy()\n",
    "print(list(set(df_temp['Parâmetro (Parâmetros Básicos)'])))\n",
    "\n",
    "# Ajusta Resultados\n",
    "df_temp['Resultado'] = df_temp['Resultado'].astype(str).str.replace(',','.')\n",
    "df_temp['Resultado'] = df_temp['Resultado'].astype(float).fillna(0.0)\n",
    "df_temp.head()"
   ]
  },
  {
   "cell_type": "code",
   "execution_count": null,
   "id": "50b2b0b5-20b5-410b-af96-ca3bf61f370b",
   "metadata": {},
   "outputs": [],
   "source": [
    "list_formas = list(set(df_temp['Nome Da Forma De Abastecimento']))\n",
    "print(list_formas)\n",
    "xaxis_column_name = list_formas[n_forma]\n",
    "print(xaxis_column_name)\n",
    "\n",
    "# Create Figure\n",
    "fig = go.Figure()\n",
    "\n",
    "# Add trace\n",
    "fig.add_trace(\n",
    "    go.Scatter(\n",
    "        x=df_temp['Data Da Coleta'],\n",
    "        #y=df['Resultado'],\n",
    "        y=df_temp[df_temp['Nome Da Forma De Abastecimento'] == xaxis_column_name]['Resultado'],\n",
    "        name='conclusao',\n",
    "        mode='markers',\n",
    "        marker={'color': 'red'},\n",
    "        opacity=0.8,\n",
    "    )\n",
    ")\n",
    "\n",
    "# Udate\n",
    "fig.update_layout(\n",
    "    title='Cloro Residual<br><sup>\"{}\"</sup>'.format(xaxis_column_name),\n",
    "    xaxis_tickformat='%d %b<br>%Y',\n",
    "    margin={\n",
    "        'l': 40,\n",
    "        'b': 40,\n",
    "        #'t': 40,\n",
    "        'r': 0\n",
    "    },\n",
    "    #dragmode='pan',\n",
    "    hovermode='x',\n",
    "\n",
    ")\n",
    "#fig.write_html('ddd.html', config=config)\n",
    "fig"
   ]
  },
  {
   "cell_type": "markdown",
   "id": "9f262298-e090-403d-8544-83dcba59d94d",
   "metadata": {},
   "source": [
    "<br>\n",
    "\n",
    "## Coliformes"
   ]
  },
  {
   "cell_type": "code",
   "execution_count": null,
   "id": "0ea6dd81-a249-49f3-b24c-8ed3e7a40eae",
   "metadata": {},
   "outputs": [],
   "source": [
    "# Select Parameters\n",
    "df_temp = df[df['Parâmetro (Parâmetros Básicos)'].str.contains('Coliformes')].copy()\n",
    "\n",
    "# Ajusta Resultados\n",
    "df_temp['Resultado'] = df_temp['Resultado'].map({'AUSENTE': 0, 'PRESENTE': 1})\n",
    "\n",
    "df_temp.head()"
   ]
  },
  {
   "cell_type": "code",
   "execution_count": null,
   "id": "cead7b6f-79ad-4d36-a69e-e55eebdb5b3c",
   "metadata": {},
   "outputs": [],
   "source": [
    "list_formas = list(set(df_temp['Nome Da Forma De Abastecimento']))\n",
    "print(list_formas)\n",
    "xaxis_column_name = list_formas[n_forma]\n",
    "print(xaxis_column_name)\n",
    "\n",
    "# Create Figure\n",
    "fig = go.Figure()\n",
    "\n",
    "# Add trace\n",
    "fig.add_trace(\n",
    "    go.Scatter(\n",
    "        x=df_temp['Data Da Coleta'],\n",
    "        #y=df['Resultado'],\n",
    "        y=df_temp[df_temp['Nome Da Forma De Abastecimento'] == xaxis_column_name]['Resultado'],\n",
    "        name='conclusao',\n",
    "        mode='markers',\n",
    "        marker={'color': 'red'},\n",
    "        opacity=0.8,\n",
    "    )\n",
    ")\n",
    "\n",
    "# Udate\n",
    "fig.update_layout(\n",
    "    title='Coliformes<br><sup>\"{}\"</sup>'.format(xaxis_column_name),\n",
    "    xaxis_tickformat='%d %b<br>%Y',\n",
    "    margin={\n",
    "        'l': 40,\n",
    "        'b': 40,\n",
    "        #'t': 40,\n",
    "        'r': 0\n",
    "    },\n",
    "    #dragmode='pan',\n",
    "    hovermode='x',\n",
    "\n",
    ")\n",
    "#fig.write_html('ddd.html', config=config)\n",
    "fig"
   ]
  },
  {
   "cell_type": "markdown",
   "id": "62dec3f0-f653-483e-a11b-cafbead69569",
   "metadata": {},
   "source": [
    "<br>\n",
    "\n",
    "## Escherichia"
   ]
  },
  {
   "cell_type": "code",
   "execution_count": null,
   "id": "f6737045-abc3-4323-8de1-ca24f7b4a8e4",
   "metadata": {},
   "outputs": [],
   "source": [
    "# Select Parameters\n",
    "df_temp = df[df['Parâmetro (Parâmetros Básicos)'].str.contains('Escherichia')].copy()\n",
    "\n",
    "# Ajusta Resultados\n",
    "print(set(df_temp['Resultado']))\n",
    "df_temp['Resultado'] = df_temp['Resultado'].map({'AUSENTE': 0, 'PRESENTE': 1})\n",
    "\n",
    "df_temp.head()"
   ]
  },
  {
   "cell_type": "code",
   "execution_count": null,
   "id": "6d6fe132-a423-4dfc-825f-5e1aec9002e4",
   "metadata": {},
   "outputs": [],
   "source": [
    "list_formas = list(set(df_temp['Nome Da Forma De Abastecimento']))\n",
    "print(list_formas)\n",
    "xaxis_column_name = list_formas[n_forma]\n",
    "print(xaxis_column_name)\n",
    "\n",
    "# Create Figure\n",
    "fig = go.Figure()\n",
    "\n",
    "# Add trace\n",
    "fig.add_trace(\n",
    "    go.Scatter(\n",
    "        x=df_temp['Data Da Coleta'],\n",
    "        #y=df['Resultado'],\n",
    "        y=df_temp[df_temp['Nome Da Forma De Abastecimento'] == xaxis_column_name]['Resultado'],\n",
    "        name='conclusao',\n",
    "        mode='markers',\n",
    "        marker={'color': 'red'},\n",
    "        opacity=0.8,\n",
    "    )\n",
    ")\n",
    "\n",
    "# Udate\n",
    "fig.update_layout(\n",
    "    title='Escherichia<br><sup>\"{}\"</sup>'.format(xaxis_column_name),\n",
    "    xaxis_tickformat='%d %b<br>%Y',\n",
    "    margin={\n",
    "        'l': 40,\n",
    "        'b': 40,\n",
    "        #'t': 40,\n",
    "        'r': 0\n",
    "    },\n",
    "    #dragmode='pan',\n",
    "    hovermode='x',\n",
    "\n",
    ")\n",
    "#fig.write_html('ddd.html', config=config)\n",
    "fig"
   ]
  },
  {
   "cell_type": "markdown",
   "id": "48ecd9a5-e683-45ff-9ee4-6074d4bdab20",
   "metadata": {},
   "source": [
    "<br>\n",
    "\n",
    "## Fluoreto"
   ]
  },
  {
   "cell_type": "code",
   "execution_count": null,
   "id": "85d9a199-0520-4997-8000-f1ce6519b9e7",
   "metadata": {},
   "outputs": [],
   "source": [
    "# Select Parameters\n",
    "df_temp = df[df['Parâmetro (Parâmetros Básicos)'].str.contains('Fluoreto')].copy()\n",
    "\n",
    "# Ajusta Resultados\n",
    "df_temp['Resultado'] = df_temp['Resultado'].astype(str).str.replace(',','.')\n",
    "df_temp['Resultado'] = df_temp['Resultado'].astype(float).fillna(0.0)\n",
    "df_temp.head()"
   ]
  },
  {
   "cell_type": "code",
   "execution_count": null,
   "id": "91de9a5d-b2f8-4ae4-905b-f6bef277c3c8",
   "metadata": {},
   "outputs": [],
   "source": [
    "list_formas = list(set(df_temp['Nome Da Forma De Abastecimento']))\n",
    "print(list_formas)\n",
    "xaxis_column_name = list_formas[n_forma]\n",
    "print(xaxis_column_name)\n",
    "\n",
    "# Create Figure\n",
    "fig = go.Figure()\n",
    "\n",
    "# Add trace\n",
    "fig.add_trace(\n",
    "    go.Scatter(\n",
    "        x=df_temp['Data Da Coleta'],\n",
    "        #y=df['Resultado'],\n",
    "        y=df_temp[df_temp['Nome Da Forma De Abastecimento'] == xaxis_column_name]['Resultado'],\n",
    "        name='conclusao',\n",
    "        mode='markers',\n",
    "        marker={'color': 'red'},\n",
    "        opacity=0.8,\n",
    "    )\n",
    ")\n",
    "\n",
    "# Udate\n",
    "fig.update_layout(\n",
    "    title='Fluoereto<br><sup>\"{}\"</sup>'.format(xaxis_column_name),\n",
    "    xaxis_tickformat='%d %b<br>%Y',\n",
    "    margin={\n",
    "        'l': 40,\n",
    "        'b': 40,\n",
    "        #'t': 40,\n",
    "        'r': 0\n",
    "    },\n",
    "    #dragmode='pan',\n",
    "    hovermode='x',\n",
    "\n",
    ")\n",
    "#fig.write_html('ddd.html', config=config)\n",
    "fig"
   ]
  },
  {
   "cell_type": "markdown",
   "id": "78eceaee-f005-4c8f-93f6-19843d83ef93",
   "metadata": {},
   "source": [
    "<br>\n",
    "\n",
    "## Turbidez\n",
    "\n",
    "Art. 28 Para a garantia da qualidade microbiológica da água, em complementação às exigências relativas aos indicadores microbiológicos, deve ser atendido o padrão de turbidez expresso no Anexo 2 e devem ser observadas as demais exigências contidas neste Anexo.\n",
    "\n",
    "§ 2º Em toda a extensão do sistema de distribuição (reservatório e rede) ou pontos de consumo deverá atender ao VMP de 5,0 uT para turbidez."
   ]
  },
  {
   "cell_type": "code",
   "execution_count": null,
   "id": "ffa895e6-912c-4ce0-a669-7701fd83c113",
   "metadata": {},
   "outputs": [],
   "source": [
    "# Select Parameters\n",
    "df_temp = df[df['Parâmetro (Parâmetros Básicos)'].str.contains('Turbidez')].copy()\n",
    "\n",
    "# Ajusta Resultados\n",
    "df_temp['Resultado'] = df_temp['Resultado'].astype(str).str.replace(',','.')\n",
    "df_temp['Resultado'] = df_temp['Resultado'].astype(float).fillna(0.0)\n",
    "df_temp.head()"
   ]
  },
  {
   "cell_type": "code",
   "execution_count": null,
   "id": "c3245d7f-9fb2-42e2-aa15-4e3571a695cd",
   "metadata": {},
   "outputs": [],
   "source": [
    "list_formas = list(set(df_temp['Nome Da Forma De Abastecimento']))\n",
    "print(list_formas)\n",
    "xaxis_column_name = list_formas[n_forma]\n",
    "print(xaxis_column_name)\n",
    "\n",
    "# Create Figure\n",
    "fig = go.Figure()\n",
    "\n",
    "# Add trace\n",
    "fig.add_trace(\n",
    "    go.Scatter(\n",
    "        x=df_temp['Data Da Coleta'],\n",
    "        #y=df['Resultado'],\n",
    "        y=df_temp[df_temp['Nome Da Forma De Abastecimento'] == xaxis_column_name]['Resultado'],\n",
    "        name='conclusao',\n",
    "        mode='markers',\n",
    "        marker={'color': 'red'},\n",
    "        opacity=0.8,\n",
    "    )\n",
    ")\n",
    "\n",
    "# Udate\n",
    "fig.update_layout(\n",
    "    title='Turbidez<br><sup>\"{}\"</sup>'.format(xaxis_column_name),\n",
    "    xaxis_tickformat='%d %b<br>%Y',\n",
    "    margin={\n",
    "        'l': 40,\n",
    "        'b': 40,\n",
    "        #'t': 40,\n",
    "        'r': 0\n",
    "    },\n",
    "    #dragmode='pan',\n",
    "    hovermode='x',\n",
    "\n",
    ")\n",
    "#fig.write_html('ddd.html', config=config)\n",
    "fig"
   ]
  },
  {
   "cell_type": "code",
   "execution_count": null,
   "id": "1c689af8-a0a8-431f-bfb5-a87f3bd1b9ec",
   "metadata": {},
   "outputs": [],
   "source": []
  },
  {
   "cell_type": "code",
   "execution_count": null,
   "id": "995ab464-f3ae-4d50-ac9d-8edfa53f4166",
   "metadata": {},
   "outputs": [],
   "source": []
  },
  {
   "cell_type": "markdown",
   "id": "1ede5764-0400-4ef3-839b-fd87b2573601",
   "metadata": {},
   "source": [
    "<br>\n",
    "\n",
    "# Dash"
   ]
  },
  {
   "cell_type": "code",
   "execution_count": null,
   "id": "5313ebb6-12ac-4c7a-9a44-4fea48a5252d",
   "metadata": {},
   "outputs": [],
   "source": [
    "# Start\n",
    "app = JupyterDash(__name__)\n",
    "\n",
    "# \n",
    "app.layout = html.Div([\n",
    "    html.Div([\n",
    "        html.Div(\n",
    "            [\n",
    "                dcc.Dropdown(\n",
    "                    df['Nome Da Forma De Abastecimento'].unique(),\n",
    "                    #value='Fertility rate, total (births per woman)',\n",
    "                    id='xaxis-column'\n",
    "                ),\n",
    "            ],\n",
    "            style={'width': '48%', 'display': 'inline-block'}),\n",
    "    ]),\n",
    "\n",
    "    dcc.Graph(id='indicator-graphic'),\n",
    "])\n",
    "\n",
    "@app.callback(\n",
    "    Output('indicator-graphic', 'figure'),\n",
    "    Input('xaxis-column', 'value'),\n",
    ")\n",
    "def update_graph(xaxis_column_name):\n",
    "    # Create Figure\n",
    "    fig = go.Figure()\n",
    "    \n",
    "    # Add trace\n",
    "    fig.add_trace(\n",
    "        go.Scatter(\n",
    "            x=df['Data Da Coleta'],\n",
    "            #y=df['Resultado'],\n",
    "            y=df[df['Nome Da Forma De Abastecimento'] == xaxis_column_name]['Resultado'],\n",
    "            name='conclusao',\n",
    "            mode='markers',\n",
    "            marker={'color': 'red'},\n",
    "            opacity=0.8,\n",
    "        )\n",
    "    )\n",
    "    \n",
    "    # Udate\n",
    "    fig.update_layout(\n",
    "        title='Cloro Residual na \"{}\"'.format(xaxis_column_name),\n",
    "        xaxis_tickformat='%d %b<br>%Y',\n",
    "        margin={\n",
    "            'l': 40,\n",
    "            'b': 40,\n",
    "            #'t': 40,\n",
    "            'r': 0\n",
    "        },\n",
    "        #dragmode='pan',\n",
    "        hovermode='x',\n",
    "\n",
    "    )\n",
    "    #fig.write_html('ddd.html', config=config)\n",
    "    return fig\n",
    "\n",
    "# Run\n",
    "app.run_server(mode='inline', port=8051)"
   ]
  },
  {
   "cell_type": "markdown",
   "id": "044f10a3-64c8-4d8b-b47c-74c38237f6dd",
   "metadata": {
    "tags": [
     "remove_cell"
    ]
   },
   "source": [
    "<br>\n",
    "\n",
    "# Export"
   ]
  },
  {
   "cell_type": "code",
   "execution_count": null,
   "id": "ea35f924-84cd-446c-9bae-d16bef9503c2",
   "metadata": {
    "tags": [
     "remove_cell"
    ]
   },
   "outputs": [],
   "source": [
    "import os\n",
    "from traitlets.config import Config\n",
    "from nbconvert import PythonExporter\n",
    "from nbconvert.preprocessors import TagRemovePreprocessor"
   ]
  },
  {
   "cell_type": "code",
   "execution_count": null,
   "id": "047afdcb-1c12-46db-bb46-f8e28413bac8",
   "metadata": {
    "tags": [
     "remove_cell"
    ]
   },
   "outputs": [],
   "source": [
    "input_filename = '12_analysis_basics.ipynb'\n",
    "input_filepath = os.path.join(os.getcwd(), input_filename)\n",
    "output_filepath = os.path.abspath(os.path.join(os.getcwd(), '..', 'src', 'sisagua', 'dash_sisagua_lixo.py'))\n",
    "\n",
    "print(output_filepath)"
   ]
  },
  {
   "cell_type": "code",
   "execution_count": null,
   "id": "4e75790f-ecba-4b2e-920b-3f8990a05209",
   "metadata": {
    "tags": [
     "remove_cell"
    ]
   },
   "outputs": [],
   "source": [
    "# Import the exporter\n",
    "c = Config()\n",
    "c.TagRemovePreprocessor.enabled=True\n",
    "c.ClearOutputPreprocessor.enabled=True\n",
    "c.TemplateExporter.exclude_markdown=True\n",
    "c.TemplateExporter.exclude_code_cell=False\n",
    "c.TemplateExporter.exclude_input_prompt=True \n",
    "c.TemplateExporter.exclude_output=True\n",
    "c.TemplateExporter.exclude_raw=True\n",
    "c.TagRemovePreprocessor.remove_cell_tags = ('remove_cell',)\n",
    "c.TagRemovePreprocessor.remove_input_tags = ('remove_cell',)\n",
    "c.TagRemovePreprocessor.remove_all_outputs_tags = ('remove_output',)\n",
    "c.preprocessors = ['TagRemovePreprocessor']\n",
    "c.PythonExporter.preprocessors = ['nbconvert.preprocessors.TagRemovePreprocessor']\n",
    "\n",
    "# Configure and run out exporter\n",
    "py_exporter = PythonExporter(config=c)\n",
    "py_exporter.register_preprocessor(TagRemovePreprocessor(config=c), True)\n",
    "\n",
    "# Configure and run out exporter - returns a tuple - first element with html, second with notebook metadata\n",
    "body, metadata = PythonExporter(config=c).from_filename(input_filepath)\n",
    "\n",
    "# Write to output html file\n",
    "with open(output_filepath,  'w', encoding='utf-8') as f:\n",
    "    f.write(body)"
   ]
  },
  {
   "cell_type": "code",
   "execution_count": null,
   "id": "8928e252-d2ce-4b95-b22c-941daf2e732b",
   "metadata": {},
   "outputs": [],
   "source": []
  }
 ],
 "metadata": {
  "kernelspec": {
   "display_name": "Python 3 (ipykernel)",
   "language": "python",
   "name": "python3"
  },
  "language_info": {
   "codemirror_mode": {
    "name": "ipython",
    "version": 3
   },
   "file_extension": ".py",
   "mimetype": "text/x-python",
   "name": "python",
   "nbconvert_exporter": "python",
   "pygments_lexer": "ipython3",
   "version": "3.9.12"
  },
  "toc-autonumbering": true
 },
 "nbformat": 4,
 "nbformat_minor": 5
}
