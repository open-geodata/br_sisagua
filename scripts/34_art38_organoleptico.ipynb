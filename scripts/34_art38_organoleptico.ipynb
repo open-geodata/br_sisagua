{
 "cells": [
  {
   "cell_type": "markdown",
   "id": "0d71fc7e-27fa-492a-b743-91dca0aee869",
   "metadata": {},
   "source": [
    "Art. 38 A água potável deve estar em conformidade com o padrão organoléptico de potabilidade expresso no Anexo 11 e demais disposições deste Anexo.\n",
    "\n",
    "Paragráfo único. Para os parâmetros ferro e manganês são permitidos valores superiores ao VMPs estabelecidos no Anexo 11, desde que sejam observados os seguintes critérios:\n",
    "\n",
    "I - os elementos ferro e manganês estejam complexados com produtos químicos comprovadamente de baixo risco à saúde, conforme preconizado no Inciso VIII do Art. 14 e nas normas da ABNT; e\n",
    "II - as concentrações de ferro e manganês não ultrapassem 2,4 e 0,4 mg/L, respectivamente."
   ]
  },
  {
   "cell_type": "code",
   "execution_count": null,
   "id": "f597e949-0bcb-477c-a510-5a5a259f0af1",
   "metadata": {},
   "outputs": [],
   "source": [
    "import os\n",
    "import re\n",
    "import sys\n",
    "import pprint\n",
    "import pandas as pd\n",
    "from scipy.stats import gmean\n",
    "from dateutil.relativedelta import relativedelta"
   ]
  },
  {
   "cell_type": "code",
   "execution_count": null,
   "id": "aa9ccd35-f528-491c-ad96-1aa3c6a6b078",
   "metadata": {},
   "outputs": [],
   "source": [
    "from paths import *"
   ]
  },
  {
   "cell_type": "code",
   "execution_count": null,
   "id": "3f467ee7-11c8-4a04-bf3e-8a01c7f82766",
   "metadata": {},
   "outputs": [],
   "source": [
    "# Parameters\n",
    "cod_ibge = '3548906' # São Carlos\n",
    "cod_ibge = '3526902' # Limeira\n",
    "cod_ibge = '3501608' # Americana"
   ]
  },
  {
   "cell_type": "markdown",
   "id": "4ac76719-cdd1-40a5-bcb7-f5cee859aeb9",
   "metadata": {},
   "source": [
    "O Anexo 11 lista esses parâmetros:\n",
    "\n",
    "\n",
    "parametro_descricao\n",
    "- Alumínio\n",
    "- Amônia (como N)\n",
    "- Cloreto\n",
    "- Cor Aparente\n",
    "- 1,2 diclorobenzeno\n",
    "- 1,4 diclorobenzeno\n",
    "- Dureza total\n",
    "- Ferro\n",
    "- Gosto e Odor\n",
    "- Manganês\n",
    "- Monoclorobenzeno\n",
    "- Sódio\n",
    "- Sólidos Dissolvidos Totais\n",
    "- Sulfato\n",
    "- Sulfeto de Hidrogênio\n",
    "- Turbidez\n",
    "- Zinco\n",
    "\n",
    "\n",
    "Todos, exceto Turbidez, encontram-se na tabela de \"Controle Semestral\""
   ]
  },
  {
   "cell_type": "markdown",
   "id": "99fe901a-86e9-4b96-8d3f-d34427ca1f36",
   "metadata": {},
   "source": [
    "<br>\n",
    "\n",
    "# Tabelas do Controle"
   ]
  },
  {
   "cell_type": "markdown",
   "id": "5d32c7dd-bcc3-463d-b6fb-1c5fa6f27bd4",
   "metadata": {},
   "source": [
    "<br>\n",
    "\n",
    "## Parâmetros Básicos"
   ]
  },
  {
   "cell_type": "code",
   "execution_count": null,
   "id": "892adcf4-dcc7-42d7-9af7-5982e8636816",
   "metadata": {},
   "outputs": [],
   "source": [
    "# Read Table\n",
    "df_bruta = pd.read_excel(\n",
    "    os.path.join(output_path, str(cod_ibge), 'dados brutos', 'controle', 'controle_mensal_parametros_basicos.xlsx')\n",
    ")"
   ]
  },
  {
   "cell_type": "code",
   "execution_count": null,
   "id": "bc12f793-a62f-4a1f-b3c3-2d6a46149668",
   "metadata": {},
   "outputs": [],
   "source": [
    "# Filtra Apenas SAAs\n",
    "df = df_bruta.loc[df_bruta['Tipo Da Forma De Abastecimento'] == 'SAA'].copy()"
   ]
  },
  {
   "cell_type": "code",
   "execution_count": null,
   "id": "c1b8a66d-fb4d-46e2-ac15-e6c45e8a8768",
   "metadata": {},
   "outputs": [],
   "source": [
    "# Filtra Apenas Último Ano\n",
    "df = df[df['Ano De Referência'] == max(df['Ano De Referência'])].copy()"
   ]
  },
  {
   "cell_type": "code",
   "execution_count": null,
   "id": "c6825c0f-ca41-4d8f-83f9-4069a9b08e63",
   "metadata": {},
   "outputs": [],
   "source": [
    "set(df['Parâmetro'])"
   ]
  },
  {
   "cell_type": "markdown",
   "id": "1eacf28e-f38f-4241-b414-3a7f0e8aa5d6",
   "metadata": {},
   "source": [
    "<br>\n",
    "\n",
    "## Controle Semestral"
   ]
  },
  {
   "cell_type": "code",
   "execution_count": null,
   "id": "1b1da0bb-9c7c-492b-a4dd-924b625fe238",
   "metadata": {},
   "outputs": [],
   "source": [
    "# Read Table\n",
    "df_bruta = pd.read_excel(\n",
    "    os.path.join(output_path, str(cod_ibge), 'dados brutos', 'controle', 'controle_semestral.xlsx')\n",
    ")"
   ]
  },
  {
   "cell_type": "code",
   "execution_count": null,
   "id": "870a9fb8-0b3a-4d55-9f67-0f9fc430c502",
   "metadata": {},
   "outputs": [],
   "source": [
    "# Filtra Apenas SAAs\n",
    "df = df_bruta.loc[df_bruta['Tipo Da Forma De Abastecimento'] == 'SAA']"
   ]
  },
  {
   "cell_type": "code",
   "execution_count": null,
   "id": "7277dcf6-496b-4a11-80ee-fffdc41adbb8",
   "metadata": {},
   "outputs": [],
   "source": [
    "#df.info()\n",
    "#list(df.columns)"
   ]
  },
  {
   "cell_type": "code",
   "execution_count": null,
   "id": "69ef32b5-328c-4ed1-9321-9f7cfc7a7e68",
   "metadata": {},
   "outputs": [],
   "source": [
    "# Filtra Apenas Último Ano\n",
    "df = df[df['Ano De Referência'] == max(df['Ano De Referência'])].copy()"
   ]
  },
  {
   "cell_type": "code",
   "execution_count": null,
   "id": "6d1863b0-c4c0-46f0-aec7-cd5ba7f10b53",
   "metadata": {},
   "outputs": [],
   "source": [
    "set(df['Parâmetro'])"
   ]
  },
  {
   "cell_type": "markdown",
   "id": "0ea5931e-0e83-45b8-9588-2b9f968370f7",
   "metadata": {},
   "source": [
    "<br>\n",
    "\n",
    "# Análises"
   ]
  },
  {
   "cell_type": "code",
   "execution_count": null,
   "id": "6d714eef-0c9f-46b9-b690-cf635f8343ec",
   "metadata": {},
   "outputs": [],
   "source": []
  },
  {
   "cell_type": "code",
   "execution_count": null,
   "id": "c868686d-1231-4b33-a1db-7b091cfb78a9",
   "metadata": {},
   "outputs": [],
   "source": []
  },
  {
   "cell_type": "code",
   "execution_count": null,
   "id": "123337e6-2bd9-4c7c-bfe1-f18b179f87a6",
   "metadata": {},
   "outputs": [],
   "source": []
  },
  {
   "cell_type": "code",
   "execution_count": null,
   "id": "f56c24a2-b028-4af0-8634-24fcbfc21e86",
   "metadata": {},
   "outputs": [],
   "source": []
  },
  {
   "cell_type": "code",
   "execution_count": null,
   "id": "a8f39a76-528b-4cd9-ad01-a3b445dcbb32",
   "metadata": {},
   "outputs": [],
   "source": []
  },
  {
   "cell_type": "code",
   "execution_count": null,
   "id": "36526690-6961-4137-8b56-3b28a1c74915",
   "metadata": {},
   "outputs": [],
   "source": []
  },
  {
   "cell_type": "code",
   "execution_count": null,
   "id": "b418895c-30fd-4cdc-aa60-b29550e46194",
   "metadata": {},
   "outputs": [],
   "source": []
  },
  {
   "cell_type": "code",
   "execution_count": null,
   "id": "528b8e56-078f-42eb-8886-2ebd0f34b9a1",
   "metadata": {},
   "outputs": [],
   "source": []
  },
  {
   "cell_type": "markdown",
   "id": "1ef21760-5332-4d87-abeb-c71739e375c2",
   "metadata": {},
   "source": [
    "# Lixos"
   ]
  },
  {
   "cell_type": "code",
   "execution_count": null,
   "id": "e35c2c32-cc96-4e8b-8e21-456bcfb34305",
   "metadata": {},
   "outputs": [],
   "source": []
  },
  {
   "cell_type": "code",
   "execution_count": null,
   "id": "87662e06-b8fd-4167-a7a9-5f4048d1454b",
   "metadata": {},
   "outputs": [],
   "source": [
    "#df = df[df['Parâmetro'] == 'Escherichia coli'].copy()\n",
    "df = df[df['Parâmetro'].str.contains('Cloro')].copy()\n",
    "df.head()"
   ]
  },
  {
   "cell_type": "code",
   "execution_count": null,
   "id": "d01452d5-7b67-477f-9fc9-b2fef5734d8d",
   "metadata": {},
   "outputs": [],
   "source": [
    "set(df['Ponto De Monitoramento'])"
   ]
  },
  {
   "cell_type": "code",
   "execution_count": null,
   "id": "8fec4dd2-af36-4e97-a2a2-2903a5e87d24",
   "metadata": {},
   "outputs": [],
   "source": [
    "df = df[df['Ponto De Monitoramento'] == 'SAÍDA DO TRATAMENTO'].copy()\n",
    "df.head()"
   ]
  },
  {
   "cell_type": "code",
   "execution_count": null,
   "id": "d086e1a1-80c8-4ae9-ab9f-ccfc9f17c96e",
   "metadata": {},
   "outputs": [],
   "source": [
    "df = df[['Ano De Referência', 'Mês De Referência', 'Campo', 'Valor']].copy()\n",
    "df = df.sort_values(by=['Ano De Referência', 'Mês De Referência', 'Campo']).copy()\n",
    "df.head()"
   ]
  },
  {
   "cell_type": "markdown",
   "id": "26ec2dff-522e-469d-ae42-a37d8d3f11d9",
   "metadata": {},
   "source": [
    "Americana não tinha amostras no Ponto de captação....\n",
    "\n",
    "{'SAÍDA DO TRATAMENTO', 'SISTEMA DE DISTRIBUIÇÃO'}"
   ]
  },
  {
   "cell_type": "code",
   "execution_count": null,
   "id": "7822e4fb-e4ba-4720-8463-b564435263d4",
   "metadata": {},
   "outputs": [],
   "source": [
    "df['Valor'] = df['Valor'].astype(str).str.replace(',','.')\n",
    "df['Valor'] = df['Valor'].astype(float).fillna(0.0)\n",
    "df.head()"
   ]
  },
  {
   "cell_type": "markdown",
   "id": "074d85ce-8331-4ccd-9451-ad0959c023a5",
   "metadata": {},
   "source": [
    "<br>\n",
    "\n",
    "Fazer gráfico multidimensional...\n",
    "Gráfico..."
   ]
  },
  {
   "cell_type": "code",
   "execution_count": null,
   "id": "9ca0f80a-0a4e-4867-94f7-01740e49e61f",
   "metadata": {},
   "outputs": [],
   "source": []
  },
  {
   "cell_type": "code",
   "execution_count": null,
   "id": "e7586f35-3047-4bfb-839e-ae4f2a9e9fa7",
   "metadata": {},
   "outputs": [],
   "source": []
  }
 ],
 "metadata": {
  "kernelspec": {
   "display_name": "Python [conda env:pablocarreira-py39] *",
   "language": "python",
   "name": "conda-env-pablocarreira-py39-py"
  },
  "language_info": {
   "codemirror_mode": {
    "name": "ipython",
    "version": 3
   },
   "file_extension": ".py",
   "mimetype": "text/x-python",
   "name": "python",
   "nbconvert_exporter": "python",
   "pygments_lexer": "ipython3",
   "version": "3.9.12"
  },
  "toc-autonumbering": true
 },
 "nbformat": 4,
 "nbformat_minor": 5
}
