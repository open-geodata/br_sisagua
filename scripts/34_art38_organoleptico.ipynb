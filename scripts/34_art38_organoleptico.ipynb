{
 "cells": [
  {
   "cell_type": "markdown",
   "id": "0d71fc7e-27fa-492a-b743-91dca0aee869",
   "metadata": {},
   "source": [
    "Art. 38 A água potável deve estar em conformidade com o padrão organoléptico de potabilidade expresso no Anexo 11 e demais disposições deste Anexo.\n",
    "\n",
    "Paragráfo único. Para os parâmetros ferro e manganês são permitidos valores superiores ao VMPs estabelecidos no Anexo 11, desde que sejam observados os seguintes critérios:\n",
    "\n",
    "I - os elementos ferro e manganês estejam complexados com produtos químicos comprovadamente de baixo risco à saúde, conforme preconizado no Inciso VIII do Art. 14 e nas normas da ABNT; e\n",
    "II - as concentrações de ferro e manganês não ultrapassem 2,4 e 0,4 mg/L, respectivamente."
   ]
  },
  {
   "cell_type": "code",
   "execution_count": 1,
   "id": "f597e949-0bcb-477c-a510-5a5a259f0af1",
   "metadata": {},
   "outputs": [],
   "source": [
    "import os\n",
    "import re\n",
    "import sys\n",
    "import pprint\n",
    "import pandas as pd\n",
    "from scipy.stats import gmean\n",
    "from dateutil.relativedelta import relativedelta"
   ]
  },
  {
   "cell_type": "code",
   "execution_count": 2,
   "id": "aa9ccd35-f528-491c-ad96-1aa3c6a6b078",
   "metadata": {},
   "outputs": [],
   "source": [
    "from paths import *"
   ]
  },
  {
   "cell_type": "code",
   "execution_count": 3,
   "id": "3f467ee7-11c8-4a04-bf3e-8a01c7f82766",
   "metadata": {},
   "outputs": [],
   "source": [
    "# Parameters\n",
    "cod_ibge = '3548906' # São Carlos\n",
    "cod_ibge = '3526902' # Limeira\n",
    "cod_ibge = '3501608' # Americana"
   ]
  },
  {
   "cell_type": "markdown",
   "id": "4ac76719-cdd1-40a5-bcb7-f5cee859aeb9",
   "metadata": {},
   "source": [
    "O Anexo 11 lista esses parâmetros:\n",
    "\n",
    "\n",
    "parametro_descricao\n",
    "- Alumínio\n",
    "- Amônia (como N)\n",
    "- Cloreto\n",
    "- Cor Aparente\n",
    "- 1,2 diclorobenzeno\n",
    "- 1,4 diclorobenzeno\n",
    "- Dureza total\n",
    "- Ferro\n",
    "- Gosto e Odor\n",
    "- Manganês\n",
    "- Monoclorobenzeno\n",
    "- Sódio\n",
    "- Sólidos Dissolvidos Totais\n",
    "- Sulfato\n",
    "- Sulfeto de Hidrogênio\n",
    "- Turbidez\n",
    "- Zinco\n",
    "\n",
    "\n",
    "Todos, exceto Turbidez, encontram-se na tabela de \"Controle Semestral\""
   ]
  },
  {
   "cell_type": "markdown",
   "id": "99fe901a-86e9-4b96-8d3f-d34427ca1f36",
   "metadata": {},
   "source": [
    "<br>\n",
    "\n",
    "# Tabelas do Controle"
   ]
  },
  {
   "cell_type": "markdown",
   "id": "5d32c7dd-bcc3-463d-b6fb-1c5fa6f27bd4",
   "metadata": {},
   "source": [
    "<br>\n",
    "\n",
    "## Parâmetros Básicos"
   ]
  },
  {
   "cell_type": "code",
   "execution_count": 4,
   "id": "892adcf4-dcc7-42d7-9af7-5982e8636816",
   "metadata": {},
   "outputs": [],
   "source": [
    "# Read Table\n",
    "df_bruta = pd.read_excel(\n",
    "    os.path.join(output_path, str(cod_ibge), 'dados brutos', 'controle', 'controle_mensal_parametros_basicos.xlsx')\n",
    ")"
   ]
  },
  {
   "cell_type": "code",
   "execution_count": 5,
   "id": "bc12f793-a62f-4a1f-b3c3-2d6a46149668",
   "metadata": {},
   "outputs": [],
   "source": [
    "# Filtra Apenas SAAs\n",
    "df = df_bruta.loc[df_bruta['Tipo Da Forma De Abastecimento'] == 'SAA'].copy()"
   ]
  },
  {
   "cell_type": "code",
   "execution_count": 6,
   "id": "c1b8a66d-fb4d-46e2-ac15-e6c45e8a8768",
   "metadata": {},
   "outputs": [],
   "source": [
    "# Filtra Apenas Último Ano\n",
    "df = df[df['Ano De Referência'] == max(df['Ano De Referência'])].copy()"
   ]
  },
  {
   "cell_type": "code",
   "execution_count": 7,
   "id": "c6825c0f-ca41-4d8f-83f9-4069a9b08e63",
   "metadata": {},
   "outputs": [
    {
     "data": {
      "text/plain": [
       "{'Bactérias Heterotróficas (UFC/mL)',\n",
       " 'Cloro Residual Livre (mg/L)',\n",
       " 'Coliformes totais',\n",
       " 'Cor (uH)',\n",
       " 'Escherichia coli',\n",
       " 'Fluoreto (mg/L)',\n",
       " 'Turbidez (uT)',\n",
       " 'pH'}"
      ]
     },
     "execution_count": 7,
     "metadata": {},
     "output_type": "execute_result"
    }
   ],
   "source": [
    "set(df['Parâmetro'])"
   ]
  },
  {
   "cell_type": "markdown",
   "id": "1eacf28e-f38f-4241-b414-3a7f0e8aa5d6",
   "metadata": {},
   "source": [
    "<br>\n",
    "\n",
    "## Controle Semestral"
   ]
  },
  {
   "cell_type": "code",
   "execution_count": 16,
   "id": "1b1da0bb-9c7c-492b-a4dd-924b625fe238",
   "metadata": {},
   "outputs": [],
   "source": [
    "# Read Table\n",
    "df_bruta = pd.read_excel(\n",
    "    os.path.join(output_path, str(cod_ibge), 'dados brutos', 'controle', 'controle_semestral.xlsx')\n",
    ")"
   ]
  },
  {
   "cell_type": "code",
   "execution_count": 17,
   "id": "870a9fb8-0b3a-4d55-9f67-0f9fc430c502",
   "metadata": {},
   "outputs": [],
   "source": [
    "# Filtra Apenas SAAs\n",
    "df = df_bruta.loc[df_bruta['Tipo Da Forma De Abastecimento'] == 'SAA']"
   ]
  },
  {
   "cell_type": "code",
   "execution_count": 18,
   "id": "7277dcf6-496b-4a11-80ee-fffdc41adbb8",
   "metadata": {},
   "outputs": [],
   "source": [
    "#df.info()\n",
    "#list(df.columns)"
   ]
  },
  {
   "cell_type": "code",
   "execution_count": 19,
   "id": "69ef32b5-328c-4ed1-9321-9f7cfc7a7e68",
   "metadata": {},
   "outputs": [],
   "source": [
    "# Filtra Apenas Último Ano\n",
    "df = df[df['Ano De Referência'] == max(df['Ano De Referência'])].copy()"
   ]
  },
  {
   "cell_type": "code",
   "execution_count": 20,
   "id": "6d1863b0-c4c0-46f0-aec7-cd5ba7f10b53",
   "metadata": {},
   "outputs": [
    {
     "data": {
      "text/plain": [
       "{'1,1 Dicloroeteno - VMP:30,0 µg/L',\n",
       " '1,2 Diclorobenzeno VMP - 0,01 mg/L',\n",
       " '1,2 Dicloroetano - VMP:10,0 µg/L',\n",
       " '1,2 Dicloroeteno (cis + trans) - VMP:50,0 µg/L',\n",
       " '1,4 Diclorobenzeno VMP - 0,03 mg/L',\n",
       " '2, 4, 6 Triclorofenol - VMP: 0,2 mg/L',\n",
       " '2,4 D + 2,4,5 T - VMP: 30,0 µg/L',\n",
       " 'Acrilamida - VMP:0,5 µg/L',\n",
       " 'Alaclor - VMP: 20,0 µg/L',\n",
       " 'Aldicarbe + Aldicarbesulfona + Aldicarbesulfóxido',\n",
       " 'Aldrin + Dieldrin - VMP: 0,03 µg/L',\n",
       " 'Alumínio VMP - 0,2 mg/L',\n",
       " 'Amônia (como NH3) VMP - 1,5 mg/L',\n",
       " 'Antimônio - VMP:0,005 mg/L',\n",
       " 'Arsênio - VMP:0,01 mg/L',\n",
       " 'Atividade alfa total - VMP: 0,5 Bq/L',\n",
       " 'Atividade beta total - VMP: 1,0 Bq/L',\n",
       " 'Atrazina - VMP: 2,0 µg/L',\n",
       " 'Benzeno - VMP:5,0 µg/L',\n",
       " 'Benzo[a]pireno - VMP:0,7 µg/L',\n",
       " 'Bário - VMP:0,7 mg/L',\n",
       " 'Carbendazim + benomil - VMP: 120,0 µg/L',\n",
       " 'Carbofurano - VMP: 7,0 µg/L',\n",
       " 'Chumbo - VMP:0,01 mg/L',\n",
       " 'Cianeto - VMP:0,07 mg/L',\n",
       " 'Clordano - VMP: 0,2 µg/L',\n",
       " 'Cloreto VMP - 250,0 mg/L',\n",
       " 'Cloreto de Vinila - VMP:2,0 µg/L',\n",
       " 'Clorpirifós + clorpirifós-oxon - VMP: 30,0 µg/L',\n",
       " 'Cobre - VMP:2,0 mg/L',\n",
       " 'Cor Aparente VMP - 15,0 uH',\n",
       " 'Cromo - VMP:0,05 mg/L',\n",
       " 'Cádmio - VMP:0,005 mg/L',\n",
       " 'DDT + DDD + DDE - VMP: 1,0 µg/L',\n",
       " 'Di (2-etilhexil) ftalato - VMP:8,0 µg/L',\n",
       " 'Diclorometano - VMP:20,0 µg/L',\n",
       " 'Diuron - VMP: 90,0 µg/L',\n",
       " 'Dureza total VMP - 500,0 mg/L',\n",
       " 'Endossulfan (a, ß e sais) - VMP: 20,0 µg/L',\n",
       " 'Endrin - VMP: 0,6 µg/L',\n",
       " 'Estireno - VMP:20,0 µg/L',\n",
       " 'Etilbenzeno VMP - 0,2 mg/L',\n",
       " 'Ferro VMP - 0,3 mg/L',\n",
       " 'Glifosato + AMPA - VMP: 500,0 µg/L',\n",
       " 'Gosto e odor VMP - 6,0 Intensidade',\n",
       " 'Lindano (gama HCH) - VMP: 2,0 µg/L',\n",
       " 'Mancozebe - VMP: 180,0 µg/L',\n",
       " 'Manganês VMP - 0,1 mg/L',\n",
       " 'Mercúrio - VMP:0,001 mg/L',\n",
       " 'Metamidofós - VMP: 12,0 µg/L',\n",
       " 'Metolacloro - VMP: 10,0 µg/L',\n",
       " 'Molinato - VMP: 6,0 µg/L',\n",
       " 'Monoclorobenzeno VMP - 0,12 mg/L',\n",
       " 'Nitrato (como N) - VMP:10,0 mg/L',\n",
       " 'Nitrito (como N) - VMP:1,0 mg/L',\n",
       " 'Níquel - VMP:0,07 mg/L',\n",
       " 'Parationa Metílica - VMP: 9,0 µg/L',\n",
       " 'Pendimentalina - VMP: 20,0 µg/L',\n",
       " 'Pentaclorofenol - VMP:9,0 µg/L',\n",
       " 'Permetrina - VMP: 20,0 µg/L',\n",
       " 'Profenofós - VMP: 60,0 µg/L',\n",
       " 'Selênio - VMP:0,01 mg/L',\n",
       " 'Simazina - VMP: 2,0 µg/L',\n",
       " 'Sulfato VMP - 250,0 mg/L',\n",
       " 'Sulfeto de hidrogênio VMP - 0,1 mg/L',\n",
       " 'Surfactantes (como LAS) VMP - 0,5 mg/L',\n",
       " 'Sódio VMP - 200,0 mg/L',\n",
       " 'Sólidos dissolvidos totais VMP - 1000,0 mg/L',\n",
       " 'Tebuconazol - VMP: 180,0 µg/L',\n",
       " 'Terbufós - VMP: 1,2 µg/L',\n",
       " 'Tetracloreto de Carbono - VMP:4,0 µg/L',\n",
       " 'Tetracloroeteno - VMP:40,0 µg/L',\n",
       " 'Tolueno VMP - 0,17 mg/L',\n",
       " 'Triclorobenzenos - VMP:20,0 µg/L',\n",
       " 'Tricloroeteno - VMP:20,0 µg/L',\n",
       " 'Trifluralina - VMP: 20,0 µg/L',\n",
       " 'Trihalometanos Total - VMP: 0,1 mg/L',\n",
       " 'Urânio - VMP:0,03 mg/L',\n",
       " 'Xilenos VMP - 0,3 mg/L',\n",
       " 'Zinco VMP - 5,0 mg/L',\n",
       " 'Ácidos haloacéticos total - VMP: 0,08 mg/L'}"
      ]
     },
     "execution_count": 20,
     "metadata": {},
     "output_type": "execute_result"
    }
   ],
   "source": [
    "set(df['Parâmetro'])"
   ]
  },
  {
   "cell_type": "markdown",
   "id": "0ea5931e-0e83-45b8-9588-2b9f968370f7",
   "metadata": {},
   "source": [
    "<br>\n",
    "\n",
    "# Análises"
   ]
  },
  {
   "cell_type": "code",
   "execution_count": null,
   "id": "6d714eef-0c9f-46b9-b690-cf635f8343ec",
   "metadata": {},
   "outputs": [],
   "source": []
  },
  {
   "cell_type": "code",
   "execution_count": null,
   "id": "c868686d-1231-4b33-a1db-7b091cfb78a9",
   "metadata": {},
   "outputs": [],
   "source": []
  },
  {
   "cell_type": "code",
   "execution_count": null,
   "id": "123337e6-2bd9-4c7c-bfe1-f18b179f87a6",
   "metadata": {},
   "outputs": [],
   "source": []
  },
  {
   "cell_type": "code",
   "execution_count": null,
   "id": "f56c24a2-b028-4af0-8634-24fcbfc21e86",
   "metadata": {},
   "outputs": [],
   "source": []
  },
  {
   "cell_type": "code",
   "execution_count": null,
   "id": "a8f39a76-528b-4cd9-ad01-a3b445dcbb32",
   "metadata": {},
   "outputs": [],
   "source": []
  },
  {
   "cell_type": "code",
   "execution_count": null,
   "id": "36526690-6961-4137-8b56-3b28a1c74915",
   "metadata": {},
   "outputs": [],
   "source": []
  },
  {
   "cell_type": "code",
   "execution_count": null,
   "id": "b418895c-30fd-4cdc-aa60-b29550e46194",
   "metadata": {},
   "outputs": [],
   "source": []
  },
  {
   "cell_type": "code",
   "execution_count": null,
   "id": "528b8e56-078f-42eb-8886-2ebd0f34b9a1",
   "metadata": {},
   "outputs": [],
   "source": []
  },
  {
   "cell_type": "markdown",
   "id": "1ef21760-5332-4d87-abeb-c71739e375c2",
   "metadata": {},
   "source": [
    "# Lixos"
   ]
  },
  {
   "cell_type": "code",
   "execution_count": null,
   "id": "e35c2c32-cc96-4e8b-8e21-456bcfb34305",
   "metadata": {},
   "outputs": [],
   "source": []
  },
  {
   "cell_type": "code",
   "execution_count": 17,
   "id": "87662e06-b8fd-4167-a7a9-5f4048d1454b",
   "metadata": {},
   "outputs": [
    {
     "data": {
      "text/html": [
       "<div>\n",
       "<style scoped>\n",
       "    .dataframe tbody tr th:only-of-type {\n",
       "        vertical-align: middle;\n",
       "    }\n",
       "\n",
       "    .dataframe tbody tr th {\n",
       "        vertical-align: top;\n",
       "    }\n",
       "\n",
       "    .dataframe thead th {\n",
       "        text-align: right;\n",
       "    }\n",
       "</style>\n",
       "<table border=\"1\" class=\"dataframe\">\n",
       "  <thead>\n",
       "    <tr style=\"text-align: right;\">\n",
       "      <th></th>\n",
       "      <th>Região Geográfica</th>\n",
       "      <th>Regional De Saúde</th>\n",
       "      <th>Município</th>\n",
       "      <th>Tipo Da Instituição</th>\n",
       "      <th>Sigla Da Instituição</th>\n",
       "      <th>Nome Da Instituição</th>\n",
       "      <th>Cnpj Da Instituição</th>\n",
       "      <th>Nome Do Escritório Regional/Local</th>\n",
       "      <th>Cnpj Do Escritório Regional/Local</th>\n",
       "      <th>Tipo Da Forma De Abastecimento</th>\n",
       "      <th>...</th>\n",
       "      <th>Data Da Coleta</th>\n",
       "      <th>Data Da Análise</th>\n",
       "      <th>Ponto De Monitoramento</th>\n",
       "      <th>Grupo De Parâmetros</th>\n",
       "      <th>Parâmetro</th>\n",
       "      <th>Ld</th>\n",
       "      <th>Lq</th>\n",
       "      <th>Resultado</th>\n",
       "      <th>Uf</th>\n",
       "      <th>Código Ibge</th>\n",
       "    </tr>\n",
       "  </thead>\n",
       "  <tbody>\n",
       "  </tbody>\n",
       "</table>\n",
       "<p>0 rows × 27 columns</p>\n",
       "</div>"
      ],
      "text/plain": [
       "Empty DataFrame\n",
       "Columns: [Região Geográfica, Regional De Saúde, Município, Tipo Da Instituição, Sigla Da Instituição, Nome Da Instituição, Cnpj Da Instituição, Nome Do Escritório Regional/Local, Cnpj Do Escritório Regional/Local, Tipo Da Forma De Abastecimento, Código Forma De Abastecimento, Nome Da Forma De Abastecimento, Nome Da Eta / Uta, Ano De Referência, Semestre De Referência, Data De Registro, Data De Preenchimento Do Relatório Semestral, Data Da Coleta, Data Da Análise, Ponto De Monitoramento, Grupo De Parâmetros, Parâmetro, Ld, Lq, Resultado, Uf, Código Ibge]\n",
       "Index: []\n",
       "\n",
       "[0 rows x 27 columns]"
      ]
     },
     "execution_count": 17,
     "metadata": {},
     "output_type": "execute_result"
    }
   ],
   "source": [
    "#df = df[df['Parâmetro'] == 'Escherichia coli'].copy()\n",
    "df = df[df['Parâmetro'].str.contains('Cloro')].copy()\n",
    "df.head()"
   ]
  },
  {
   "cell_type": "code",
   "execution_count": 18,
   "id": "d01452d5-7b67-477f-9fc9-b2fef5734d8d",
   "metadata": {},
   "outputs": [
    {
     "data": {
      "text/plain": [
       "set()"
      ]
     },
     "execution_count": 18,
     "metadata": {},
     "output_type": "execute_result"
    }
   ],
   "source": [
    "set(df['Ponto De Monitoramento'])"
   ]
  },
  {
   "cell_type": "code",
   "execution_count": 18,
   "id": "8fec4dd2-af36-4e97-a2a2-2903a5e87d24",
   "metadata": {},
   "outputs": [
    {
     "data": {
      "text/html": [
       "<div>\n",
       "<style scoped>\n",
       "    .dataframe tbody tr th:only-of-type {\n",
       "        vertical-align: middle;\n",
       "    }\n",
       "\n",
       "    .dataframe tbody tr th {\n",
       "        vertical-align: top;\n",
       "    }\n",
       "\n",
       "    .dataframe thead th {\n",
       "        text-align: right;\n",
       "    }\n",
       "</style>\n",
       "<table border=\"1\" class=\"dataframe\">\n",
       "  <thead>\n",
       "    <tr style=\"text-align: right;\">\n",
       "      <th></th>\n",
       "      <th>Região Geográfica</th>\n",
       "      <th>Regional De Saúde</th>\n",
       "      <th>Município</th>\n",
       "      <th>Tipo Da Instituição</th>\n",
       "      <th>Sigla Da Instituição</th>\n",
       "      <th>Nome Da Instituição</th>\n",
       "      <th>Cnpj Da Instituição</th>\n",
       "      <th>Nome Do Escritório Regional/Local</th>\n",
       "      <th>Cnpj Do Escritório Regional/Local</th>\n",
       "      <th>Tipo Da Forma De Abastecimento</th>\n",
       "      <th>...</th>\n",
       "      <th>Nome Da Eta / Uta</th>\n",
       "      <th>Tipo De Filtração</th>\n",
       "      <th>Ano De Referência</th>\n",
       "      <th>Mês De Referência</th>\n",
       "      <th>Ponto De Monitoramento</th>\n",
       "      <th>Parâmetro</th>\n",
       "      <th>Campo</th>\n",
       "      <th>Valor</th>\n",
       "      <th>Uf</th>\n",
       "      <th>Código Ibge</th>\n",
       "    </tr>\n",
       "  </thead>\n",
       "  <tbody>\n",
       "    <tr>\n",
       "      <th>327619</th>\n",
       "      <td>SUDESTE</td>\n",
       "      <td>GVS XVII - CAMPINAS</td>\n",
       "      <td>AMERICANA</td>\n",
       "      <td>Local</td>\n",
       "      <td>NaN</td>\n",
       "      <td>DEPARTAMENTO DE AGUA E ESGOTO</td>\n",
       "      <td>4.675569e+13</td>\n",
       "      <td>NaN</td>\n",
       "      <td>NaN</td>\n",
       "      <td>SAA</td>\n",
       "      <td>...</td>\n",
       "      <td>ETA</td>\n",
       "      <td>FILTRAÇÃO RÁPIDA</td>\n",
       "      <td>2021</td>\n",
       "      <td>11</td>\n",
       "      <td>SAÍDA DO TRATAMENTO</td>\n",
       "      <td>Cloro Residual Livre (mg/L)</td>\n",
       "      <td>Número de amostras analisadas</td>\n",
       "      <td>2436</td>\n",
       "      <td>SP</td>\n",
       "      <td>350160</td>\n",
       "    </tr>\n",
       "    <tr>\n",
       "      <th>327620</th>\n",
       "      <td>SUDESTE</td>\n",
       "      <td>GVS XVII - CAMPINAS</td>\n",
       "      <td>AMERICANA</td>\n",
       "      <td>Local</td>\n",
       "      <td>NaN</td>\n",
       "      <td>DEPARTAMENTO DE AGUA E ESGOTO</td>\n",
       "      <td>4.675569e+13</td>\n",
       "      <td>NaN</td>\n",
       "      <td>NaN</td>\n",
       "      <td>SAA</td>\n",
       "      <td>...</td>\n",
       "      <td>ETA</td>\n",
       "      <td>FILTRAÇÃO RÁPIDA</td>\n",
       "      <td>2021</td>\n",
       "      <td>11</td>\n",
       "      <td>SAÍDA DO TRATAMENTO</td>\n",
       "      <td>Cloro Residual Livre (mg/L)</td>\n",
       "      <td>Número de dados &gt; 5,0 mg/L</td>\n",
       "      <td>0</td>\n",
       "      <td>SP</td>\n",
       "      <td>350160</td>\n",
       "    </tr>\n",
       "    <tr>\n",
       "      <th>327621</th>\n",
       "      <td>SUDESTE</td>\n",
       "      <td>GVS XVII - CAMPINAS</td>\n",
       "      <td>AMERICANA</td>\n",
       "      <td>Local</td>\n",
       "      <td>NaN</td>\n",
       "      <td>DEPARTAMENTO DE AGUA E ESGOTO</td>\n",
       "      <td>4.675569e+13</td>\n",
       "      <td>NaN</td>\n",
       "      <td>NaN</td>\n",
       "      <td>SAA</td>\n",
       "      <td>...</td>\n",
       "      <td>ETA</td>\n",
       "      <td>FILTRAÇÃO RÁPIDA</td>\n",
       "      <td>2021</td>\n",
       "      <td>11</td>\n",
       "      <td>SAÍDA DO TRATAMENTO</td>\n",
       "      <td>Cloro Residual Livre (mg/L)</td>\n",
       "      <td>Número de dados &gt; 2,0 mg/L e &lt;= 5,0mg/L</td>\n",
       "      <td>223</td>\n",
       "      <td>SP</td>\n",
       "      <td>350160</td>\n",
       "    </tr>\n",
       "    <tr>\n",
       "      <th>327622</th>\n",
       "      <td>SUDESTE</td>\n",
       "      <td>GVS XVII - CAMPINAS</td>\n",
       "      <td>AMERICANA</td>\n",
       "      <td>Local</td>\n",
       "      <td>NaN</td>\n",
       "      <td>DEPARTAMENTO DE AGUA E ESGOTO</td>\n",
       "      <td>4.675569e+13</td>\n",
       "      <td>NaN</td>\n",
       "      <td>NaN</td>\n",
       "      <td>SAA</td>\n",
       "      <td>...</td>\n",
       "      <td>ETA</td>\n",
       "      <td>FILTRAÇÃO RÁPIDA</td>\n",
       "      <td>2021</td>\n",
       "      <td>11</td>\n",
       "      <td>SAÍDA DO TRATAMENTO</td>\n",
       "      <td>Cloro Residual Livre (mg/L)</td>\n",
       "      <td>Número de dados &gt;= 0,2 mg/L e &lt;= 2,0mg/L</td>\n",
       "      <td>2213</td>\n",
       "      <td>SP</td>\n",
       "      <td>350160</td>\n",
       "    </tr>\n",
       "    <tr>\n",
       "      <th>327623</th>\n",
       "      <td>SUDESTE</td>\n",
       "      <td>GVS XVII - CAMPINAS</td>\n",
       "      <td>AMERICANA</td>\n",
       "      <td>Local</td>\n",
       "      <td>NaN</td>\n",
       "      <td>DEPARTAMENTO DE AGUA E ESGOTO</td>\n",
       "      <td>4.675569e+13</td>\n",
       "      <td>NaN</td>\n",
       "      <td>NaN</td>\n",
       "      <td>SAA</td>\n",
       "      <td>...</td>\n",
       "      <td>ETA</td>\n",
       "      <td>FILTRAÇÃO RÁPIDA</td>\n",
       "      <td>2021</td>\n",
       "      <td>11</td>\n",
       "      <td>SAÍDA DO TRATAMENTO</td>\n",
       "      <td>Cloro Residual Livre (mg/L)</td>\n",
       "      <td>Número de dados &lt; 0,2 mg/L</td>\n",
       "      <td>0</td>\n",
       "      <td>SP</td>\n",
       "      <td>350160</td>\n",
       "    </tr>\n",
       "  </tbody>\n",
       "</table>\n",
       "<p>5 rows × 22 columns</p>\n",
       "</div>"
      ],
      "text/plain": [
       "       Região Geográfica    Regional De Saúde  Município Tipo Da Instituição  \\\n",
       "327619           SUDESTE  GVS XVII - CAMPINAS  AMERICANA               Local   \n",
       "327620           SUDESTE  GVS XVII - CAMPINAS  AMERICANA               Local   \n",
       "327621           SUDESTE  GVS XVII - CAMPINAS  AMERICANA               Local   \n",
       "327622           SUDESTE  GVS XVII - CAMPINAS  AMERICANA               Local   \n",
       "327623           SUDESTE  GVS XVII - CAMPINAS  AMERICANA               Local   \n",
       "\n",
       "        Sigla Da Instituição            Nome Da Instituição  \\\n",
       "327619                   NaN  DEPARTAMENTO DE AGUA E ESGOTO   \n",
       "327620                   NaN  DEPARTAMENTO DE AGUA E ESGOTO   \n",
       "327621                   NaN  DEPARTAMENTO DE AGUA E ESGOTO   \n",
       "327622                   NaN  DEPARTAMENTO DE AGUA E ESGOTO   \n",
       "327623                   NaN  DEPARTAMENTO DE AGUA E ESGOTO   \n",
       "\n",
       "        Cnpj Da Instituição  Nome Do Escritório Regional/Local  \\\n",
       "327619         4.675569e+13                                NaN   \n",
       "327620         4.675569e+13                                NaN   \n",
       "327621         4.675569e+13                                NaN   \n",
       "327622         4.675569e+13                                NaN   \n",
       "327623         4.675569e+13                                NaN   \n",
       "\n",
       "        Cnpj Do Escritório Regional/Local Tipo Da Forma De Abastecimento  ...  \\\n",
       "327619                                NaN                            SAA  ...   \n",
       "327620                                NaN                            SAA  ...   \n",
       "327621                                NaN                            SAA  ...   \n",
       "327622                                NaN                            SAA  ...   \n",
       "327623                                NaN                            SAA  ...   \n",
       "\n",
       "       Nome Da Eta / Uta Tipo De Filtração Ano De Referência  \\\n",
       "327619               ETA  FILTRAÇÃO RÁPIDA              2021   \n",
       "327620               ETA  FILTRAÇÃO RÁPIDA              2021   \n",
       "327621               ETA  FILTRAÇÃO RÁPIDA              2021   \n",
       "327622               ETA  FILTRAÇÃO RÁPIDA              2021   \n",
       "327623               ETA  FILTRAÇÃO RÁPIDA              2021   \n",
       "\n",
       "       Mês De Referência  Ponto De Monitoramento                    Parâmetro  \\\n",
       "327619                11     SAÍDA DO TRATAMENTO  Cloro Residual Livre (mg/L)   \n",
       "327620                11     SAÍDA DO TRATAMENTO  Cloro Residual Livre (mg/L)   \n",
       "327621                11     SAÍDA DO TRATAMENTO  Cloro Residual Livre (mg/L)   \n",
       "327622                11     SAÍDA DO TRATAMENTO  Cloro Residual Livre (mg/L)   \n",
       "327623                11     SAÍDA DO TRATAMENTO  Cloro Residual Livre (mg/L)   \n",
       "\n",
       "                                           Campo Valor  Uf Código Ibge  \n",
       "327619             Número de amostras analisadas  2436  SP      350160  \n",
       "327620                Número de dados > 5,0 mg/L     0  SP      350160  \n",
       "327621   Número de dados > 2,0 mg/L e <= 5,0mg/L   223  SP      350160  \n",
       "327622  Número de dados >= 0,2 mg/L e <= 2,0mg/L  2213  SP      350160  \n",
       "327623                Número de dados < 0,2 mg/L     0  SP      350160  \n",
       "\n",
       "[5 rows x 22 columns]"
      ]
     },
     "execution_count": 18,
     "metadata": {},
     "output_type": "execute_result"
    }
   ],
   "source": [
    "df = df[df['Ponto De Monitoramento'] == 'SAÍDA DO TRATAMENTO'].copy()\n",
    "df.head()"
   ]
  },
  {
   "cell_type": "code",
   "execution_count": 19,
   "id": "d086e1a1-80c8-4ae9-ab9f-ccfc9f17c96e",
   "metadata": {},
   "outputs": [
    {
     "data": {
      "text/html": [
       "<div>\n",
       "<style scoped>\n",
       "    .dataframe tbody tr th:only-of-type {\n",
       "        vertical-align: middle;\n",
       "    }\n",
       "\n",
       "    .dataframe tbody tr th {\n",
       "        vertical-align: top;\n",
       "    }\n",
       "\n",
       "    .dataframe thead th {\n",
       "        text-align: right;\n",
       "    }\n",
       "</style>\n",
       "<table border=\"1\" class=\"dataframe\">\n",
       "  <thead>\n",
       "    <tr style=\"text-align: right;\">\n",
       "      <th></th>\n",
       "      <th>Ano De Referência</th>\n",
       "      <th>Mês De Referência</th>\n",
       "      <th>Campo</th>\n",
       "      <th>Valor</th>\n",
       "    </tr>\n",
       "  </thead>\n",
       "  <tbody>\n",
       "    <tr>\n",
       "      <th>327648</th>\n",
       "      <td>2021</td>\n",
       "      <td>1</td>\n",
       "      <td>Número de amostras analisadas</td>\n",
       "      <td>1483</td>\n",
       "    </tr>\n",
       "    <tr>\n",
       "      <th>327652</th>\n",
       "      <td>2021</td>\n",
       "      <td>1</td>\n",
       "      <td>Número de dados &lt; 0,2 mg/L</td>\n",
       "      <td>0</td>\n",
       "    </tr>\n",
       "    <tr>\n",
       "      <th>327650</th>\n",
       "      <td>2021</td>\n",
       "      <td>1</td>\n",
       "      <td>Número de dados &gt; 2,0 mg/L e &lt;= 5,0mg/L</td>\n",
       "      <td>0</td>\n",
       "    </tr>\n",
       "    <tr>\n",
       "      <th>327649</th>\n",
       "      <td>2021</td>\n",
       "      <td>1</td>\n",
       "      <td>Número de dados &gt; 5,0 mg/L</td>\n",
       "      <td>0</td>\n",
       "    </tr>\n",
       "    <tr>\n",
       "      <th>327651</th>\n",
       "      <td>2021</td>\n",
       "      <td>1</td>\n",
       "      <td>Número de dados &gt;= 0,2 mg/L e &lt;= 2,0mg/L</td>\n",
       "      <td>1483</td>\n",
       "    </tr>\n",
       "  </tbody>\n",
       "</table>\n",
       "</div>"
      ],
      "text/plain": [
       "        Ano De Referência  Mês De Referência  \\\n",
       "327648               2021                  1   \n",
       "327652               2021                  1   \n",
       "327650               2021                  1   \n",
       "327649               2021                  1   \n",
       "327651               2021                  1   \n",
       "\n",
       "                                           Campo Valor  \n",
       "327648             Número de amostras analisadas  1483  \n",
       "327652                Número de dados < 0,2 mg/L     0  \n",
       "327650   Número de dados > 2,0 mg/L e <= 5,0mg/L     0  \n",
       "327649                Número de dados > 5,0 mg/L     0  \n",
       "327651  Número de dados >= 0,2 mg/L e <= 2,0mg/L  1483  "
      ]
     },
     "execution_count": 19,
     "metadata": {},
     "output_type": "execute_result"
    }
   ],
   "source": [
    "df = df[['Ano De Referência', 'Mês De Referência', 'Campo', 'Valor']].copy()\n",
    "df = df.sort_values(by=['Ano De Referência', 'Mês De Referência', 'Campo']).copy()\n",
    "df.head()"
   ]
  },
  {
   "cell_type": "markdown",
   "id": "26ec2dff-522e-469d-ae42-a37d8d3f11d9",
   "metadata": {},
   "source": [
    "Americana não tinha amostras no Ponto de captação....\n",
    "\n",
    "{'SAÍDA DO TRATAMENTO', 'SISTEMA DE DISTRIBUIÇÃO'}"
   ]
  },
  {
   "cell_type": "code",
   "execution_count": 23,
   "id": "7822e4fb-e4ba-4720-8463-b564435263d4",
   "metadata": {},
   "outputs": [
    {
     "data": {
      "text/html": [
       "<div>\n",
       "<style scoped>\n",
       "    .dataframe tbody tr th:only-of-type {\n",
       "        vertical-align: middle;\n",
       "    }\n",
       "\n",
       "    .dataframe tbody tr th {\n",
       "        vertical-align: top;\n",
       "    }\n",
       "\n",
       "    .dataframe thead th {\n",
       "        text-align: right;\n",
       "    }\n",
       "</style>\n",
       "<table border=\"1\" class=\"dataframe\">\n",
       "  <thead>\n",
       "    <tr style=\"text-align: right;\">\n",
       "      <th></th>\n",
       "      <th>Ano De Referência</th>\n",
       "      <th>Mês De Referência</th>\n",
       "      <th>Campo</th>\n",
       "      <th>Valor</th>\n",
       "    </tr>\n",
       "  </thead>\n",
       "  <tbody>\n",
       "    <tr>\n",
       "      <th>327648</th>\n",
       "      <td>2021</td>\n",
       "      <td>1</td>\n",
       "      <td>Número de amostras analisadas</td>\n",
       "      <td>1483.0</td>\n",
       "    </tr>\n",
       "    <tr>\n",
       "      <th>327652</th>\n",
       "      <td>2021</td>\n",
       "      <td>1</td>\n",
       "      <td>Número de dados &lt; 0,2 mg/L</td>\n",
       "      <td>0.0</td>\n",
       "    </tr>\n",
       "    <tr>\n",
       "      <th>327650</th>\n",
       "      <td>2021</td>\n",
       "      <td>1</td>\n",
       "      <td>Número de dados &gt; 2,0 mg/L e &lt;= 5,0mg/L</td>\n",
       "      <td>0.0</td>\n",
       "    </tr>\n",
       "    <tr>\n",
       "      <th>327649</th>\n",
       "      <td>2021</td>\n",
       "      <td>1</td>\n",
       "      <td>Número de dados &gt; 5,0 mg/L</td>\n",
       "      <td>0.0</td>\n",
       "    </tr>\n",
       "    <tr>\n",
       "      <th>327651</th>\n",
       "      <td>2021</td>\n",
       "      <td>1</td>\n",
       "      <td>Número de dados &gt;= 0,2 mg/L e &lt;= 2,0mg/L</td>\n",
       "      <td>1483.0</td>\n",
       "    </tr>\n",
       "  </tbody>\n",
       "</table>\n",
       "</div>"
      ],
      "text/plain": [
       "        Ano De Referência  Mês De Referência  \\\n",
       "327648               2021                  1   \n",
       "327652               2021                  1   \n",
       "327650               2021                  1   \n",
       "327649               2021                  1   \n",
       "327651               2021                  1   \n",
       "\n",
       "                                           Campo   Valor  \n",
       "327648             Número de amostras analisadas  1483.0  \n",
       "327652                Número de dados < 0,2 mg/L     0.0  \n",
       "327650   Número de dados > 2,0 mg/L e <= 5,0mg/L     0.0  \n",
       "327649                Número de dados > 5,0 mg/L     0.0  \n",
       "327651  Número de dados >= 0,2 mg/L e <= 2,0mg/L  1483.0  "
      ]
     },
     "execution_count": 23,
     "metadata": {},
     "output_type": "execute_result"
    }
   ],
   "source": [
    "df['Valor'] = df['Valor'].astype(str).str.replace(',','.')\n",
    "df['Valor'] = df['Valor'].astype(float).fillna(0.0)\n",
    "df.head()"
   ]
  },
  {
   "cell_type": "markdown",
   "id": "074d85ce-8331-4ccd-9451-ad0959c023a5",
   "metadata": {},
   "source": [
    "<br>\n",
    "\n",
    "Fazer gráfico multidimensional...\n",
    "Gráfico..."
   ]
  },
  {
   "cell_type": "code",
   "execution_count": null,
   "id": "9ca0f80a-0a4e-4867-94f7-01740e49e61f",
   "metadata": {},
   "outputs": [],
   "source": []
  },
  {
   "cell_type": "code",
   "execution_count": null,
   "id": "e7586f35-3047-4bfb-839e-ae4f2a9e9fa7",
   "metadata": {},
   "outputs": [],
   "source": []
  }
 ],
 "metadata": {
  "kernelspec": {
   "display_name": "Python [conda env:pablocarreira-py39] *",
   "language": "python",
   "name": "conda-env-pablocarreira-py39-py"
  },
  "language_info": {
   "codemirror_mode": {
    "name": "ipython",
    "version": 3
   },
   "file_extension": ".py",
   "mimetype": "text/x-python",
   "name": "python",
   "nbconvert_exporter": "python",
   "pygments_lexer": "ipython3",
   "version": "3.9.12"
  },
  "toc-autonumbering": true
 },
 "nbformat": 4,
 "nbformat_minor": 5
}
