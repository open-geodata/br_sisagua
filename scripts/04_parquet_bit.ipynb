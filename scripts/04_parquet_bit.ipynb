{
 "cells": [
  {
   "cell_type": "markdown",
   "id": "b651f082-c5a4-4a23-adf2-40cc92b0ab53",
   "metadata": {},
   "source": [
    "<br>\n",
    "\n",
    "# Introdução\n",
    "\n",
    "\n",
    "**Objetivo:**\n",
    "\n",
    "1. Carregar os dados brutos dos arquivos que estão com extensão *.parquet*.\n",
    "2. Trata-los, corrigindo dtypes, eliminando dados faltantes etc;\n",
    "3. Fazer o *upload* em um banco de dados na *web*."
   ]
  },
  {
   "cell_type": "code",
   "execution_count": 105,
   "id": "64710a34-0aa5-4ab6-aa39-dd49bb8c4653",
   "metadata": {},
   "outputs": [],
   "source": [
    "#!pip3 install dask --upgrade\n",
    "#!pip3 install dask-labextension  --upgrade\n",
    "#!pip3 install pyarrow --upgrade        # Necessário para usar o parquet\n",
    "#!pip3 install traquitanas --upgrade\n",
    "#!jupyter labextension install dask-labextension"
   ]
  },
  {
   "cell_type": "code",
   "execution_count": 66,
   "id": "1f38b576-83af-45ff-8729-7e500a3c30b2",
   "metadata": {},
   "outputs": [],
   "source": [
    "import os\n",
    "import sys\n",
    "import time\n",
    "import ctypes\n",
    "import datetime\n",
    "import numpy as np\n",
    "import pandas as pd\n",
    "import pyarrow.parquet as pq"
   ]
  },
  {
   "cell_type": "code",
   "execution_count": 67,
   "id": "38e47254-aa7b-4ec6-9a11-e13758b3ba12",
   "metadata": {},
   "outputs": [],
   "source": [
    "from open_geodata import geo"
   ]
  },
  {
   "cell_type": "code",
   "execution_count": 68,
   "id": "244c12d2-4fbb-4524-8c4f-eab2d8380460",
   "metadata": {},
   "outputs": [],
   "source": [
    "import dask.dataframe as dd\n",
    "from dask import compute\n",
    "from dask.delayed import delayed\n",
    "from dask.distributed import Client, LocalCluster\n",
    "from dask.distributed import wait, progress\n",
    "from dask.diagnostics import ProgressBar"
   ]
  },
  {
   "cell_type": "code",
   "execution_count": 69,
   "id": "acdafdcf-d184-48b0-bd63-456299bbc93b",
   "metadata": {},
   "outputs": [],
   "source": [
    "import pandas as pd\n",
    "import sqlalchemy\n",
    "from sqlalchemy import create_engine\n",
    "from sqlalchemy.types import Integer, Text, String, DateTime, Float\n",
    "from sqlalchemy.sql import text"
   ]
  },
  {
   "cell_type": "code",
   "execution_count": 70,
   "id": "d7a0bf66-afe2-4299-b693-d3b3de7c715e",
   "metadata": {},
   "outputs": [
    {
     "data": {
      "text/plain": [
       "{'heartbeat': '5s',\n",
       " 'scheduler-info-interval': '2s',\n",
       " 'security-loader': None,\n",
       " 'preload': [],\n",
       " 'preload-argv': []}"
      ]
     },
     "execution_count": 70,
     "metadata": {},
     "output_type": "execute_result"
    }
   ],
   "source": [
    "import dask\n",
    "import dask.distributed  # populate config with distributed defaults\n",
    "dask.config.get('distributed.client')"
   ]
  },
  {
   "cell_type": "code",
   "execution_count": 71,
   "id": "61ff6021-4448-4cd5-ad23-c7953e11926d",
   "metadata": {},
   "outputs": [],
   "source": [
    "mod_path = os.path.abspath(os.path.join(os.getcwd(), '..', 'src'))\n",
    "sys.path.append(mod_path)\n",
    "from sisagua.ibge import *"
   ]
  },
  {
   "cell_type": "code",
   "execution_count": 72,
   "id": "17063b47-a289-45ca-8456-f9bd0e8bc02c",
   "metadata": {},
   "outputs": [],
   "source": [
    "from paths import *"
   ]
  },
  {
   "cell_type": "markdown",
   "id": "69c9384a-b090-4428-8bbf-953239ec5c53",
   "metadata": {},
   "source": [
    "<br>\n",
    "\n",
    "## Database"
   ]
  },
  {
   "cell_type": "code",
   "execution_count": 73,
   "id": "72cb6979-8490-4d44-8ba2-9d0e01b09249",
   "metadata": {},
   "outputs": [],
   "source": [
    "sys.path.append(os.path.expanduser('~/Codes'))\n",
    "from my_vault.credentials_bitio import credential"
   ]
  },
  {
   "cell_type": "code",
   "execution_count": 74,
   "id": "1118abed-b1fd-4a30-823b-2c4e336f7c3f",
   "metadata": {},
   "outputs": [],
   "source": [
    "api = credential['api']\n",
    "URI = 'postgresql://michelmetran_demo_db_connection:{}@db.bit.io?sslmode=prefer'.format(api)\n",
    "engine = create_engine(URI, isolation_level='AUTOCOMMIT')"
   ]
  },
  {
   "cell_type": "markdown",
   "id": "6cac6933-b86d-4e5c-8df9-0112846d4665",
   "metadata": {},
   "source": [
    "<br>\n",
    "\n",
    "## Functions"
   ]
  },
  {
   "cell_type": "code",
   "execution_count": 75,
   "id": "6ccef3d0-5f3d-4ac1-8bae-9c9fc292d0ac",
   "metadata": {},
   "outputs": [],
   "source": [
    "import csv\n",
    "from io import StringIO\n",
    "\n",
    "\n",
    "# Custom insert method for DataFrame.to_sql\n",
    "def psql_insert_copy(table, conn, keys, data_iter):\n",
    "    \"\"\"\n",
    "    Execute SQL statement inserting data\n",
    "\n",
    "    Parameters\n",
    "    ----------\n",
    "    table : pandas.io.sql.SQLTable\n",
    "    conn : sqlalchemy.engine.Engine or sqlalchemy.engine.Connection\n",
    "    keys : list of str\n",
    "        Column names\n",
    "    data_iter : Iterable that iterates the values to be inserted\n",
    "    \"\"\"\n",
    "    # gets a DBAPI connection that can provide a cursor\n",
    "    dbapi_conn = conn.connection\n",
    "    with dbapi_conn.cursor() as cur:\n",
    "        s_buf = StringIO()\n",
    "        writer = csv.writer(s_buf)\n",
    "        writer.writerows(data_iter)\n",
    "        s_buf.seek(0)\n",
    "\n",
    "        columns = ', '.join(f'\"{k}\"' for k in keys)\n",
    "        table_name = f'\"{table.schema}\".\"{table.name}\"'\n",
    "        sql = f'COPY {table_name} ({columns}) FROM STDIN WITH CSV'\n",
    "        cur.copy_expert(sql=sql, file=s_buf)"
   ]
  },
  {
   "cell_type": "code",
   "execution_count": 76,
   "id": "106f9028-f321-46b1-b465-ff66585419d7",
   "metadata": {},
   "outputs": [],
   "source": [
    "def rename_sisagua(df):\n",
    "    df.rename(\n",
    "        {\n",
    "            'Cep': 'cep',\n",
    "            'Endereço': 'endereco',\n",
    "            'Número': 'numero',\n",
    "            'Ddd': 'ddd',\n",
    "            'Telefone': 'telefone',\n",
    "            'Email': 'email',\n",
    "            'Tempo Médio Diário De Funcionamento': 'tempo_medio_diario_funcionamento',\n",
    "            'Etapa Pré-Oxidação': 'etapa_preoxidacao',\n",
    "            'Etapa Mistura Rápida/Coagulação': 'etapa_mistura_rapida_coagulacao',\n",
    "            'Etapa Floculação': 'etapa_floculacao',\n",
    "            'Etapa Decantação': 'etapa_decantacao',\n",
    "            'Etapa Flotação': 'etapa_flotacao',\n",
    "            'Tipo De Filtração':'tipo_filtracao',\n",
    "            'Número De Filtros': 'n_filtros',\n",
    "            \n",
    "            'Etapa Desinfecção': 'etapa_desinfeccao',\n",
    "            'Desinfecção Com Cloro  Gás Ou Hipoclorito': 'desinfeccao_cloro_gas_ou_hipoclorito',\n",
    "            'Desinfecção Com Cloramina':'desinfeccao_cloramina',\n",
    "            'Desinfecção Com Dióxido Cloro': 'desinfeccao_dioxido_cloro',\n",
    "            'Desinfecção Com Ozônio': 'desinfeccao_ozonio',\n",
    "            'Desinfecção Com Uv': 'desinfeccao_uv',\n",
    "            'Outro Agente Desinfetante':'outro_agente_desinfetante',\n",
    "            \n",
    "            'Rad Cloro Residual Livre': 'rad_cloro_residual_livre',\n",
    "            'Rad Cloro Residual Combinado': 'rad_cloro_residual_combinado',\n",
    "            'Rad Dióxido De Cloro': 'rad_dioxido_cloro',\n",
    "            'Etapa Fluoretação': 'etapa_fluoretacao',\n",
    "            'Outra Etapa De Tratamento': 'outra_etapa_tratamento',\n",
    "            'Vazão De Água Tratada': 'vazao_agua_tratada',\n",
    "\n",
    "            'Responsável Técnico': 'resp_tec_nome',\n",
    "            'Formação Profissional Do Responsável Técnico': 'resp_tec_formacao',\n",
    "            'Número Do Conselho De Classe Do Responsável Técnico': 'resp_tec_n_conselho_classe',\n",
    "            'Anotação De Responsabilidade Técnica (Art)': 'art', \n",
    "\n",
    "            'Carro Pipa': 'carro_pipa',\n",
    "            'Chafariz': 'chafariz',\n",
    "            'Fonte': 'fonte',\n",
    "            'Cisterna': 'cisterna',\n",
    "            'Canalização': 'canalizacao',\n",
    "            \"Caixa D'Água\": 'caixa_dagua',\n",
    "            'Sem Reservação': 'sem_reservacao',\n",
    "            'Outro Tipo De Suprimento': 'outro_tipo_suprimento',\n",
    "            'Captação Superficial': 'captacao_superficial',\n",
    "            'Captação Subterrânea': 'captacao_subterranea',\n",
    "            'Captação De Água De Chuva': 'captacao_agua_chuva',\n",
    "            'Filtração': 'filtracao',\n",
    "            'Desinfecção': 'desinfeccao',\n",
    "            \n",
    "            'Número De Economias Residenciais (Domicílios Permanentes)': 'n_economias_residenciais_uso_permanente',\n",
    "            'Número De Economias Residenciais (De Uso Ocasional)': 'n_economias_residenciais_uso_ocasional',\n",
    "            \n",
    "            'Razão Habitantes/Domicílio': 'razao_habitantes_domicilio',\n",
    "            'Pop Recebe Água De Saa': 'pop_recebe_agua_saa',\n",
    "            'Pop Recebe Água De Saa/Sac': 'pop_recebe_agua_saa_sac',\n",
    "            \n",
    "            'Região Geográfica': 'regiao_geografica',\n",
    "            'Regional De Saúde': 'regional_saude',\n",
    "            'Código Ibge': 'id_ibge',\n",
    "            'Município':'municipio',\n",
    "            'Uf': 'uf',\n",
    "            \n",
    "            'Tipo De Captação': 'captacao_tipo',\n",
    "            'Categoria Do Manancial Superficial': 'manancial_superficial_categoria',\n",
    "            'Nome Do Manancial Superficial': 'manancial_superficial_nome',\n",
    "            'Categoria Do Ponto De Captação Subterrânea': 'captacao_subterranea_categoria',\n",
    "            'Categoria Do Ponto De Captação Subterrâneo': 'captacao_subterranea_categoria',\n",
    "            'Nome Do Ponto De Captação Subterrâneo': 'captacao_subterranea_nome',\n",
    "            'Nome Do Ponto De Captação Subterrânea': 'captacao_subterranea_nome',\n",
    "            'Outorga': 'outorga',\n",
    "            \n",
    "            'Tipo Da Instituição': 'instituicao_tipo',\n",
    "            'Sigla Da Instituição':'instituicao_sigla',\n",
    "            'Nome Da Instituição': 'instituicao_nome',\n",
    "            'Nome Da Instiuição': 'instituicao_nome',\n",
    "            'Cnpj Da Instituição': 'instituicao_cnpj',\n",
    "            \n",
    "            'Nome Do Escritório Regional/Local': 'escritorio_regional_local_nome',\n",
    "            'Cnpj Do Escritório Regional/Local': 'escritorio_regional_local_cnpj',\n",
    "            \n",
    "            'Tipo Da Forma De Abastecimento': 'forma_abastecimento_tipo',\n",
    "            'Código Forma De Abastecimento': 'forma_abastecimento_cod',            \n",
    "            'Nome Da Forma De Abastecimento': 'forma_abastecimento_nome',\n",
    "            \n",
    "            'Ano De Referência': 'ano_referencia',\n",
    "            'Ano': 'ano_referencia',\n",
    "            'Semestre De Referência': 'semestre_referencia',\n",
    "            'Mês De Referência': 'mes_referencia',\n",
    "            'Mês': 'mes_referencia',\n",
    "            \n",
    "            'Data Da Coleta': 'data_coleta',\n",
    "            'Data Da Análise': 'data_analise',\n",
    "            'Data Do Laudo': 'data_laudo',\n",
    "            'Data De Registro No Sisagua': 'data_registro_sisagua',\n",
    "            'Data De Preenchimento': 'data_preenchimento',            \n",
    "            'Data De Registro': 'data_registro',\n",
    "            'Data De Preenchimento Do Relatório Mensal': 'data_preenchimento_rel_mensal',\n",
    "            'Data De Preenchimento Do Relatório Semestral': 'data_preenchimento_rel_semestral',\n",
    "            \n",
    "            'Zona': 'zona',\n",
    "            'Categoria Área': 'area_categoria',\n",
    "            'Área': 'area_nome',\n",
    "            'Descrição Do Local': 'local_descricao',\n",
    "            'Tipo Do Local': 'local_tipo',\n",
    "            'Local': 'local_nome',\n",
    "            'Motivo Da Coleta': 'coleta_motivo',\n",
    "            'Procedência Da Coleta': 'coleta_procedencia',\n",
    "            'Ponto De Coleta': 'coleta_ponto',\n",
    "            'Latitude': 'latitude',\n",
    "            'Longitude': 'longitude',\n",
    "\n",
    "            'Nome Da Eta/Uta': 'eta_uta_nome',\n",
    "            'Nome Da Eta / Uta': 'eta_uta_nome',\n",
    "            'Vazão': 'vazao',\n",
    "            \n",
    "            'Número Da Amostra': 'n_amostra',\n",
    "            'Número De Reparos Na Rede (Somente Para Saa)': 'n_reparos_rede',\n",
    "            'Número De Eventos De Intermitência (Somente Para Saa)': 'n_eventos_intermitencia',\n",
    "            'Número De Eventos De Falta De Água': 'n_eventos_falta_agua',\n",
    "            'Número De Reclamações De Cor Da Água': 'n_reclamacao_cor',\n",
    "            'Número De Reclamação De Gosto E Ou Odor': 'n_reclamacao_gosto_odor',\n",
    "            'Ponto De Monitoramento': 'pto_monitoramento',\n",
    "\n",
    "            'Grupo': 'grupo',\n",
    "            'Grupo De Parâmetros': 'grupo_parametros',\n",
    "            'Parâmetro': 'parametro',\n",
    "            'Parâmetro (Ciano)': 'parametro',\n",
    "            'Parâmetro (Parâmetros Básicos)': 'parametro',\n",
    "            'Parâmetro (Demais Parâmetros)': 'parametro',\n",
    "            'Campo': 'campo',\n",
    "            \n",
    "            'Ld': 'lim_deteccao',\n",
    "            'Lq': 'lim_quantificacao',\n",
    "            'Resultado': 'resultado',\n",
    "            'Valor': 'resultado',\n",
    "            \n",
    "            'Análise Realizada': 'analise_realizada',\n",
    "            'Providência': 'providencia',\n",
    "            'Providência Do Controle': 'providencia',\n",
    "            'Unidade': 'unidade',\n",
    "        },\n",
    "        axis=1,\n",
    "        inplace=True,\n",
    "    )\n",
    "    return df"
   ]
  },
  {
   "cell_type": "markdown",
   "id": "74082893-a90a-4f70-8d54-f298f911b048",
   "metadata": {
    "toc-hr-collapsed": true
   },
   "source": [
    "<br>\n",
    "\n",
    "## Client"
   ]
  },
  {
   "cell_type": "code",
   "execution_count": 77,
   "id": "d5b671dd-d7d4-4cee-be55-62eff75a8c8e",
   "metadata": {},
   "outputs": [],
   "source": [
    "import multiprocessing as mp\n",
    "from dask.distributed import Client, LocalCluster"
   ]
  },
  {
   "cell_type": "code",
   "execution_count": 78,
   "id": "4adb61f7-d77a-4174-9cce-5c3e7d084131",
   "metadata": {},
   "outputs": [],
   "source": [
    "#import close_process\n",
    "#close_process.process()"
   ]
  },
  {
   "cell_type": "code",
   "execution_count": 79,
   "id": "6434f3c4-1012-4d1b-bbc4-705fcf436117",
   "metadata": {},
   "outputs": [
    {
     "name": "stderr",
     "output_type": "stream",
     "text": [
      "/home/michel/Documents/conda/envs/pablocarreira-py39/lib/python3.9/site-packages/distributed/node.py:180: UserWarning: Port 8787 is already in use.\n",
      "Perhaps you already have a cluster running?\n",
      "Hosting the HTTP server on port 41437 instead\n",
      "  warnings.warn(\n"
     ]
    },
    {
     "data": {
      "text/html": [
       "<div>\n",
       "    <div style=\"width: 24px; height: 24px; background-color: #e1e1e1; border: 3px solid #9D9D9D; border-radius: 5px; position: absolute;\"> </div>\n",
       "    <div style=\"margin-left: 48px;\">\n",
       "        <h3 style=\"margin-bottom: 0px;\">Client</h3>\n",
       "        <p style=\"color: #9D9D9D; margin-bottom: 0px;\">Client-d731a1a8-c022-11ec-a399-080027366121</p>\n",
       "        <table style=\"width: 100%; text-align: left;\">\n",
       "\n",
       "        <tr>\n",
       "        \n",
       "            <td style=\"text-align: left;\"><strong>Connection method:</strong> Cluster object</td>\n",
       "            <td style=\"text-align: left;\"><strong>Cluster type:</strong> distributed.LocalCluster</td>\n",
       "        \n",
       "        </tr>\n",
       "\n",
       "        \n",
       "            <tr>\n",
       "                <td style=\"text-align: left;\">\n",
       "                    <strong>Dashboard: </strong> <a href=\"http://127.0.0.1:41437/status\" target=\"_blank\">http://127.0.0.1:41437/status</a>\n",
       "                </td>\n",
       "                <td style=\"text-align: left;\"></td>\n",
       "            </tr>\n",
       "        \n",
       "\n",
       "        </table>\n",
       "\n",
       "        \n",
       "            <details>\n",
       "            <summary style=\"margin-bottom: 20px;\"><h3 style=\"display: inline;\">Cluster Info</h3></summary>\n",
       "            <div class=\"jp-RenderedHTMLCommon jp-RenderedHTML jp-mod-trusted jp-OutputArea-output\">\n",
       "    <div style=\"width: 24px; height: 24px; background-color: #e1e1e1; border: 3px solid #9D9D9D; border-radius: 5px; position: absolute;\">\n",
       "    </div>\n",
       "    <div style=\"margin-left: 48px;\">\n",
       "        <h3 style=\"margin-bottom: 0px; margin-top: 0px;\">LocalCluster</h3>\n",
       "        <p style=\"color: #9D9D9D; margin-bottom: 0px;\">0dab5845</p>\n",
       "        <table style=\"width: 100%; text-align: left;\">\n",
       "            <tr>\n",
       "                <td style=\"text-align: left;\">\n",
       "                    <strong>Dashboard:</strong> <a href=\"http://127.0.0.1:41437/status\" target=\"_blank\">http://127.0.0.1:41437/status</a>\n",
       "                </td>\n",
       "                <td style=\"text-align: left;\">\n",
       "                    <strong>Workers:</strong> 7\n",
       "                </td>\n",
       "            </tr>\n",
       "            <tr>\n",
       "                <td style=\"text-align: left;\">\n",
       "                    <strong>Total threads:</strong> 112\n",
       "                </td>\n",
       "                <td style=\"text-align: left;\">\n",
       "                    <strong>Total memory:</strong> 130.39 GiB\n",
       "                </td>\n",
       "            </tr>\n",
       "            \n",
       "            <tr>\n",
       "    <td style=\"text-align: left;\"><strong>Status:</strong> running</td>\n",
       "    <td style=\"text-align: left;\"><strong>Using processes:</strong> True</td>\n",
       "</tr>\n",
       "\n",
       "            \n",
       "        </table>\n",
       "\n",
       "        <details>\n",
       "            <summary style=\"margin-bottom: 20px;\">\n",
       "                <h3 style=\"display: inline;\">Scheduler Info</h3>\n",
       "            </summary>\n",
       "\n",
       "            <div style=\"\">\n",
       "    <div>\n",
       "        <div style=\"width: 24px; height: 24px; background-color: #FFF7E5; border: 3px solid #FF6132; border-radius: 5px; position: absolute;\"> </div>\n",
       "        <div style=\"margin-left: 48px;\">\n",
       "            <h3 style=\"margin-bottom: 0px;\">Scheduler</h3>\n",
       "            <p style=\"color: #9D9D9D; margin-bottom: 0px;\">Scheduler-faeda3d7-2ae1-4f98-8dd0-2dc7fcac81f8</p>\n",
       "            <table style=\"width: 100%; text-align: left;\">\n",
       "                <tr>\n",
       "                    <td style=\"text-align: left;\">\n",
       "                        <strong>Comm:</strong> tcp://127.0.0.1:42911\n",
       "                    </td>\n",
       "                    <td style=\"text-align: left;\">\n",
       "                        <strong>Workers:</strong> 7\n",
       "                    </td>\n",
       "                </tr>\n",
       "                <tr>\n",
       "                    <td style=\"text-align: left;\">\n",
       "                        <strong>Dashboard:</strong> <a href=\"http://127.0.0.1:41437/status\" target=\"_blank\">http://127.0.0.1:41437/status</a>\n",
       "                    </td>\n",
       "                    <td style=\"text-align: left;\">\n",
       "                        <strong>Total threads:</strong> 112\n",
       "                    </td>\n",
       "                </tr>\n",
       "                <tr>\n",
       "                    <td style=\"text-align: left;\">\n",
       "                        <strong>Started:</strong> Just now\n",
       "                    </td>\n",
       "                    <td style=\"text-align: left;\">\n",
       "                        <strong>Total memory:</strong> 130.39 GiB\n",
       "                    </td>\n",
       "                </tr>\n",
       "            </table>\n",
       "        </div>\n",
       "    </div>\n",
       "\n",
       "    <details style=\"margin-left: 48px;\">\n",
       "        <summary style=\"margin-bottom: 20px;\">\n",
       "            <h3 style=\"display: inline;\">Workers</h3>\n",
       "        </summary>\n",
       "\n",
       "        \n",
       "        <div style=\"margin-bottom: 20px;\">\n",
       "            <div style=\"width: 24px; height: 24px; background-color: #DBF5FF; border: 3px solid #4CC9FF; border-radius: 5px; position: absolute;\"> </div>\n",
       "            <div style=\"margin-left: 48px;\">\n",
       "            <details>\n",
       "                <summary>\n",
       "                    <h4 style=\"margin-bottom: 0px; display: inline;\">Worker: 0</h4>\n",
       "                </summary>\n",
       "                <table style=\"width: 100%; text-align: left;\">\n",
       "                    <tr>\n",
       "                        <td style=\"text-align: left;\">\n",
       "                            <strong>Comm: </strong> tcp://127.0.0.1:36453\n",
       "                        </td>\n",
       "                        <td style=\"text-align: left;\">\n",
       "                            <strong>Total threads: </strong> 16\n",
       "                        </td>\n",
       "                    </tr>\n",
       "                    <tr>\n",
       "                        <td style=\"text-align: left;\">\n",
       "                            <strong>Dashboard: </strong> <a href=\"http://127.0.0.1:39219/status\" target=\"_blank\">http://127.0.0.1:39219/status</a>\n",
       "                        </td>\n",
       "                        <td style=\"text-align: left;\">\n",
       "                            <strong>Memory: </strong> 18.63 GiB\n",
       "                        </td>\n",
       "                    </tr>\n",
       "                    <tr>\n",
       "                        <td style=\"text-align: left;\">\n",
       "                            <strong>Nanny: </strong> tcp://127.0.0.1:45319\n",
       "                        </td>\n",
       "                        <td style=\"text-align: left;\"></td>\n",
       "                    </tr>\n",
       "                    <tr>\n",
       "                        <td colspan=\"2\" style=\"text-align: left;\">\n",
       "                            <strong>Local directory: </strong> /home/michel/Codes/open_geodata/br_sisagua/test/dask-worker-space/worker-rb838oko\n",
       "                        </td>\n",
       "                    </tr>\n",
       "\n",
       "                    \n",
       "\n",
       "                    \n",
       "\n",
       "                </table>\n",
       "            </details>\n",
       "            </div>\n",
       "        </div>\n",
       "        \n",
       "        <div style=\"margin-bottom: 20px;\">\n",
       "            <div style=\"width: 24px; height: 24px; background-color: #DBF5FF; border: 3px solid #4CC9FF; border-radius: 5px; position: absolute;\"> </div>\n",
       "            <div style=\"margin-left: 48px;\">\n",
       "            <details>\n",
       "                <summary>\n",
       "                    <h4 style=\"margin-bottom: 0px; display: inline;\">Worker: 1</h4>\n",
       "                </summary>\n",
       "                <table style=\"width: 100%; text-align: left;\">\n",
       "                    <tr>\n",
       "                        <td style=\"text-align: left;\">\n",
       "                            <strong>Comm: </strong> tcp://127.0.0.1:37393\n",
       "                        </td>\n",
       "                        <td style=\"text-align: left;\">\n",
       "                            <strong>Total threads: </strong> 16\n",
       "                        </td>\n",
       "                    </tr>\n",
       "                    <tr>\n",
       "                        <td style=\"text-align: left;\">\n",
       "                            <strong>Dashboard: </strong> <a href=\"http://127.0.0.1:33641/status\" target=\"_blank\">http://127.0.0.1:33641/status</a>\n",
       "                        </td>\n",
       "                        <td style=\"text-align: left;\">\n",
       "                            <strong>Memory: </strong> 18.63 GiB\n",
       "                        </td>\n",
       "                    </tr>\n",
       "                    <tr>\n",
       "                        <td style=\"text-align: left;\">\n",
       "                            <strong>Nanny: </strong> tcp://127.0.0.1:45437\n",
       "                        </td>\n",
       "                        <td style=\"text-align: left;\"></td>\n",
       "                    </tr>\n",
       "                    <tr>\n",
       "                        <td colspan=\"2\" style=\"text-align: left;\">\n",
       "                            <strong>Local directory: </strong> /home/michel/Codes/open_geodata/br_sisagua/test/dask-worker-space/worker-lnrkz110\n",
       "                        </td>\n",
       "                    </tr>\n",
       "\n",
       "                    \n",
       "\n",
       "                    \n",
       "\n",
       "                </table>\n",
       "            </details>\n",
       "            </div>\n",
       "        </div>\n",
       "        \n",
       "        <div style=\"margin-bottom: 20px;\">\n",
       "            <div style=\"width: 24px; height: 24px; background-color: #DBF5FF; border: 3px solid #4CC9FF; border-radius: 5px; position: absolute;\"> </div>\n",
       "            <div style=\"margin-left: 48px;\">\n",
       "            <details>\n",
       "                <summary>\n",
       "                    <h4 style=\"margin-bottom: 0px; display: inline;\">Worker: 2</h4>\n",
       "                </summary>\n",
       "                <table style=\"width: 100%; text-align: left;\">\n",
       "                    <tr>\n",
       "                        <td style=\"text-align: left;\">\n",
       "                            <strong>Comm: </strong> tcp://127.0.0.1:39067\n",
       "                        </td>\n",
       "                        <td style=\"text-align: left;\">\n",
       "                            <strong>Total threads: </strong> 16\n",
       "                        </td>\n",
       "                    </tr>\n",
       "                    <tr>\n",
       "                        <td style=\"text-align: left;\">\n",
       "                            <strong>Dashboard: </strong> <a href=\"http://127.0.0.1:38283/status\" target=\"_blank\">http://127.0.0.1:38283/status</a>\n",
       "                        </td>\n",
       "                        <td style=\"text-align: left;\">\n",
       "                            <strong>Memory: </strong> 18.63 GiB\n",
       "                        </td>\n",
       "                    </tr>\n",
       "                    <tr>\n",
       "                        <td style=\"text-align: left;\">\n",
       "                            <strong>Nanny: </strong> tcp://127.0.0.1:36921\n",
       "                        </td>\n",
       "                        <td style=\"text-align: left;\"></td>\n",
       "                    </tr>\n",
       "                    <tr>\n",
       "                        <td colspan=\"2\" style=\"text-align: left;\">\n",
       "                            <strong>Local directory: </strong> /home/michel/Codes/open_geodata/br_sisagua/test/dask-worker-space/worker-o7142p55\n",
       "                        </td>\n",
       "                    </tr>\n",
       "\n",
       "                    \n",
       "\n",
       "                    \n",
       "\n",
       "                </table>\n",
       "            </details>\n",
       "            </div>\n",
       "        </div>\n",
       "        \n",
       "        <div style=\"margin-bottom: 20px;\">\n",
       "            <div style=\"width: 24px; height: 24px; background-color: #DBF5FF; border: 3px solid #4CC9FF; border-radius: 5px; position: absolute;\"> </div>\n",
       "            <div style=\"margin-left: 48px;\">\n",
       "            <details>\n",
       "                <summary>\n",
       "                    <h4 style=\"margin-bottom: 0px; display: inline;\">Worker: 3</h4>\n",
       "                </summary>\n",
       "                <table style=\"width: 100%; text-align: left;\">\n",
       "                    <tr>\n",
       "                        <td style=\"text-align: left;\">\n",
       "                            <strong>Comm: </strong> tcp://127.0.0.1:33681\n",
       "                        </td>\n",
       "                        <td style=\"text-align: left;\">\n",
       "                            <strong>Total threads: </strong> 16\n",
       "                        </td>\n",
       "                    </tr>\n",
       "                    <tr>\n",
       "                        <td style=\"text-align: left;\">\n",
       "                            <strong>Dashboard: </strong> <a href=\"http://127.0.0.1:34311/status\" target=\"_blank\">http://127.0.0.1:34311/status</a>\n",
       "                        </td>\n",
       "                        <td style=\"text-align: left;\">\n",
       "                            <strong>Memory: </strong> 18.63 GiB\n",
       "                        </td>\n",
       "                    </tr>\n",
       "                    <tr>\n",
       "                        <td style=\"text-align: left;\">\n",
       "                            <strong>Nanny: </strong> tcp://127.0.0.1:41799\n",
       "                        </td>\n",
       "                        <td style=\"text-align: left;\"></td>\n",
       "                    </tr>\n",
       "                    <tr>\n",
       "                        <td colspan=\"2\" style=\"text-align: left;\">\n",
       "                            <strong>Local directory: </strong> /home/michel/Codes/open_geodata/br_sisagua/test/dask-worker-space/worker-67efx8yx\n",
       "                        </td>\n",
       "                    </tr>\n",
       "\n",
       "                    \n",
       "\n",
       "                    \n",
       "\n",
       "                </table>\n",
       "            </details>\n",
       "            </div>\n",
       "        </div>\n",
       "        \n",
       "        <div style=\"margin-bottom: 20px;\">\n",
       "            <div style=\"width: 24px; height: 24px; background-color: #DBF5FF; border: 3px solid #4CC9FF; border-radius: 5px; position: absolute;\"> </div>\n",
       "            <div style=\"margin-left: 48px;\">\n",
       "            <details>\n",
       "                <summary>\n",
       "                    <h4 style=\"margin-bottom: 0px; display: inline;\">Worker: 4</h4>\n",
       "                </summary>\n",
       "                <table style=\"width: 100%; text-align: left;\">\n",
       "                    <tr>\n",
       "                        <td style=\"text-align: left;\">\n",
       "                            <strong>Comm: </strong> tcp://127.0.0.1:37071\n",
       "                        </td>\n",
       "                        <td style=\"text-align: left;\">\n",
       "                            <strong>Total threads: </strong> 16\n",
       "                        </td>\n",
       "                    </tr>\n",
       "                    <tr>\n",
       "                        <td style=\"text-align: left;\">\n",
       "                            <strong>Dashboard: </strong> <a href=\"http://127.0.0.1:39593/status\" target=\"_blank\">http://127.0.0.1:39593/status</a>\n",
       "                        </td>\n",
       "                        <td style=\"text-align: left;\">\n",
       "                            <strong>Memory: </strong> 18.63 GiB\n",
       "                        </td>\n",
       "                    </tr>\n",
       "                    <tr>\n",
       "                        <td style=\"text-align: left;\">\n",
       "                            <strong>Nanny: </strong> tcp://127.0.0.1:35859\n",
       "                        </td>\n",
       "                        <td style=\"text-align: left;\"></td>\n",
       "                    </tr>\n",
       "                    <tr>\n",
       "                        <td colspan=\"2\" style=\"text-align: left;\">\n",
       "                            <strong>Local directory: </strong> /home/michel/Codes/open_geodata/br_sisagua/test/dask-worker-space/worker-_wmooobi\n",
       "                        </td>\n",
       "                    </tr>\n",
       "\n",
       "                    \n",
       "\n",
       "                    \n",
       "\n",
       "                </table>\n",
       "            </details>\n",
       "            </div>\n",
       "        </div>\n",
       "        \n",
       "        <div style=\"margin-bottom: 20px;\">\n",
       "            <div style=\"width: 24px; height: 24px; background-color: #DBF5FF; border: 3px solid #4CC9FF; border-radius: 5px; position: absolute;\"> </div>\n",
       "            <div style=\"margin-left: 48px;\">\n",
       "            <details>\n",
       "                <summary>\n",
       "                    <h4 style=\"margin-bottom: 0px; display: inline;\">Worker: 5</h4>\n",
       "                </summary>\n",
       "                <table style=\"width: 100%; text-align: left;\">\n",
       "                    <tr>\n",
       "                        <td style=\"text-align: left;\">\n",
       "                            <strong>Comm: </strong> tcp://127.0.0.1:43015\n",
       "                        </td>\n",
       "                        <td style=\"text-align: left;\">\n",
       "                            <strong>Total threads: </strong> 16\n",
       "                        </td>\n",
       "                    </tr>\n",
       "                    <tr>\n",
       "                        <td style=\"text-align: left;\">\n",
       "                            <strong>Dashboard: </strong> <a href=\"http://127.0.0.1:40733/status\" target=\"_blank\">http://127.0.0.1:40733/status</a>\n",
       "                        </td>\n",
       "                        <td style=\"text-align: left;\">\n",
       "                            <strong>Memory: </strong> 18.63 GiB\n",
       "                        </td>\n",
       "                    </tr>\n",
       "                    <tr>\n",
       "                        <td style=\"text-align: left;\">\n",
       "                            <strong>Nanny: </strong> tcp://127.0.0.1:43001\n",
       "                        </td>\n",
       "                        <td style=\"text-align: left;\"></td>\n",
       "                    </tr>\n",
       "                    <tr>\n",
       "                        <td colspan=\"2\" style=\"text-align: left;\">\n",
       "                            <strong>Local directory: </strong> /home/michel/Codes/open_geodata/br_sisagua/test/dask-worker-space/worker-r_8zffob\n",
       "                        </td>\n",
       "                    </tr>\n",
       "\n",
       "                    \n",
       "\n",
       "                    \n",
       "\n",
       "                </table>\n",
       "            </details>\n",
       "            </div>\n",
       "        </div>\n",
       "        \n",
       "        <div style=\"margin-bottom: 20px;\">\n",
       "            <div style=\"width: 24px; height: 24px; background-color: #DBF5FF; border: 3px solid #4CC9FF; border-radius: 5px; position: absolute;\"> </div>\n",
       "            <div style=\"margin-left: 48px;\">\n",
       "            <details>\n",
       "                <summary>\n",
       "                    <h4 style=\"margin-bottom: 0px; display: inline;\">Worker: 6</h4>\n",
       "                </summary>\n",
       "                <table style=\"width: 100%; text-align: left;\">\n",
       "                    <tr>\n",
       "                        <td style=\"text-align: left;\">\n",
       "                            <strong>Comm: </strong> tcp://127.0.0.1:37237\n",
       "                        </td>\n",
       "                        <td style=\"text-align: left;\">\n",
       "                            <strong>Total threads: </strong> 16\n",
       "                        </td>\n",
       "                    </tr>\n",
       "                    <tr>\n",
       "                        <td style=\"text-align: left;\">\n",
       "                            <strong>Dashboard: </strong> <a href=\"http://127.0.0.1:44981/status\" target=\"_blank\">http://127.0.0.1:44981/status</a>\n",
       "                        </td>\n",
       "                        <td style=\"text-align: left;\">\n",
       "                            <strong>Memory: </strong> 18.63 GiB\n",
       "                        </td>\n",
       "                    </tr>\n",
       "                    <tr>\n",
       "                        <td style=\"text-align: left;\">\n",
       "                            <strong>Nanny: </strong> tcp://127.0.0.1:37637\n",
       "                        </td>\n",
       "                        <td style=\"text-align: left;\"></td>\n",
       "                    </tr>\n",
       "                    <tr>\n",
       "                        <td colspan=\"2\" style=\"text-align: left;\">\n",
       "                            <strong>Local directory: </strong> /home/michel/Codes/open_geodata/br_sisagua/test/dask-worker-space/worker-6ln_bgqj\n",
       "                        </td>\n",
       "                    </tr>\n",
       "\n",
       "                    \n",
       "\n",
       "                    \n",
       "\n",
       "                </table>\n",
       "            </details>\n",
       "            </div>\n",
       "        </div>\n",
       "        \n",
       "\n",
       "    </details>\n",
       "</div>\n",
       "\n",
       "        </details>\n",
       "    </div>\n",
       "</div>\n",
       "            </details>\n",
       "        \n",
       "\n",
       "    </div>\n",
       "</div>"
      ],
      "text/plain": [
       "<Client: 'tcp://127.0.0.1:42911' processes=7 threads=112, memory=130.39 GiB>"
      ]
     },
     "execution_count": 79,
     "metadata": {},
     "output_type": "execute_result"
    }
   ],
   "source": [
    "cluster = LocalCluster(\n",
    "    n_workers=int(0.9 * mp.cpu_count()),\n",
    "    threads_per_worker=16,\n",
    "    processes=True,\n",
    "    memory_limit='20GB',\n",
    "    env={'MALLOC_TRIM_THRESHOLD_': '65536'}\n",
    ")\n",
    "\n",
    "client = Client(cluster)\n",
    "client"
   ]
  },
  {
   "cell_type": "markdown",
   "id": "2655b536-d04c-4023-97f7-d48dd2435278",
   "metadata": {},
   "source": [
    "<br>\n",
    "\n",
    "# Parâmetros"
   ]
  },
  {
   "cell_type": "code",
   "execution_count": 80,
   "id": "51fc4c7f-bc22-40da-b41e-f1b6d607e763",
   "metadata": {},
   "outputs": [],
   "source": [
    "estado = 'SP'\n",
    "cod_ibge_ajustado = '*'"
   ]
  },
  {
   "cell_type": "markdown",
   "id": "8ee8c9bf-9fb4-4a0b-8b7c-5bce0d020d7b",
   "metadata": {},
   "source": [
    "<br>\n",
    "\n",
    "# Cadastro"
   ]
  },
  {
   "cell_type": "markdown",
   "id": "b4ebf189-54be-4079-af71-4bdd8e5b818e",
   "metadata": {},
   "source": [
    "## Pontos Captação"
   ]
  },
  {
   "cell_type": "code",
   "execution_count": null,
   "id": "b144087b-2386-4a64-8093-c79cadec6326",
   "metadata": {},
   "outputs": [],
   "source": [
    "# Input\n",
    "filename = os.path.join(input_path_parquet_partitioned, 'cadastro', 'cadastro_pontos_captacao')\n",
    "\n",
    "# Add Filter to Filename\n",
    "filter_path = os.path.join('Uf={}'.format(estado), 'Código Ibge={}/*.parquet'.format(cod_ibge_ajustado))\n",
    "filename = os.path.join(filename, filter_path)\n",
    "\n",
    "# Read Dataframes\n",
    "df = dd.read_parquet(\n",
    "    filename,\n",
    "    filters=[[('Uf', '==', estado)]],\n",
    ")\n",
    "\n",
    "# Calculate\n",
    "df_1 = df.compute()\n",
    "df_1 = rename_sisagua(df_1)\n",
    "print(df_1.info())\n",
    "df_1.head()"
   ]
  },
  {
   "cell_type": "code",
   "execution_count": null,
   "id": "4778ed3e-f192-4de8-9024-238967945394",
   "metadata": {},
   "outputs": [],
   "source": [
    "list(df_1.columns)"
   ]
  },
  {
   "cell_type": "code",
   "execution_count": null,
   "id": "072a51cd-b065-4031-8404-5a5d49f5c51b",
   "metadata": {},
   "outputs": [],
   "source": [
    "df_1.drop(\n",
    "    [\n",
    "        # 'regiao_geografica',\n",
    "        # 'regional_saude',\n",
    "        # 'municipio',\n",
    "        # 'instituicao_tipo',\n",
    "        # 'instituicao_sigla',\n",
    "        # 'instituicao_nome',\n",
    "        # 'escritorio_regional_local_nome',\n",
    "        # 'escritorio_regional_local_cnpj',\n",
    "        # 'forma_abastecimento_tipo',\n",
    "        # 'forma_abastecimento_cod',\n",
    "        # 'forma_abastecimento_nome',\n",
    "        # 'eta_uta_nome',\n",
    "        # 'ano_referencia',\n",
    "        # 'captacao_tipo',\n",
    "        # 'manancial_superficial_categoria',\n",
    "        # 'manancial_superficial_nome',\n",
    "        # 'captacao_subterranea_categoria',\n",
    "        # 'captacao_subterranea_nome',\n",
    "        # 'outorga',\n",
    "        # 'latitude',\n",
    "        # 'longitude',\n",
    "        # 'vazao',\n",
    "        'uf',\n",
    "        # 'id_ibge'\n",
    "    ],\n",
    "    inplace=True,\n",
    "    axis=1,\n",
    "    errors='ignore',\n",
    ")"
   ]
  },
  {
   "cell_type": "code",
   "execution_count": null,
   "id": "ee42c37f-92aa-40c7-b81b-b882bca3067b",
   "metadata": {},
   "outputs": [],
   "source": [
    "df_1['id_ibge'] = df_1['id_ibge'].astype(int)"
   ]
  },
  {
   "cell_type": "code",
   "execution_count": null,
   "id": "5fe06c70-19ef-413e-a16d-37a1d0c8734a",
   "metadata": {},
   "outputs": [],
   "source": [
    "df_1['ano_referencia'] = df_1['ano_referencia'].astype(int)\n",
    "set(df_1['ano_referencia'])"
   ]
  },
  {
   "cell_type": "code",
   "execution_count": null,
   "id": "74c9581d-b8e1-49fd-867c-93e2df2979ed",
   "metadata": {},
   "outputs": [],
   "source": [
    "df_1['captacao_tipo'] = df_1['captacao_tipo'].str.title()\n",
    "df_1.replace({'captacao_tipo': {'Subterraneo': 'Subterrânea'}}, inplace=True)\n",
    "set(df_1['captacao_tipo'])"
   ]
  },
  {
   "cell_type": "code",
   "execution_count": null,
   "id": "0a75db3b-dd93-4d0d-a2eb-c8425a98c109",
   "metadata": {},
   "outputs": [],
   "source": [
    "df_1['manancial_superficial_categoria'] = df_1['manancial_superficial_categoria'].str.title()\n",
    "set(df_1['manancial_superficial_categoria'])"
   ]
  },
  {
   "cell_type": "code",
   "execution_count": null,
   "id": "fda3cf8d-5fd4-40b0-b552-2b6eee14ef60",
   "metadata": {},
   "outputs": [],
   "source": [
    "df_1['captacao_subterranea_categoria'] = df_1['captacao_subterranea_categoria'].str.title()\n",
    "set(df_1['captacao_subterranea_categoria'])"
   ]
  },
  {
   "cell_type": "code",
   "execution_count": null,
   "id": "9f57b92a-bab0-4698-8e18-176a05fa8206",
   "metadata": {},
   "outputs": [],
   "source": [
    "df_1.replace({'outorga': {'N': 'Não', 'S': 'Sim'}}, inplace=True)\n",
    "set(df_1['outorga'])"
   ]
  },
  {
   "cell_type": "code",
   "execution_count": null,
   "id": "035521b9-46c4-4569-ab84-9c32658a5f94",
   "metadata": {},
   "outputs": [],
   "source": [
    "df_1['latitude'] = df_1['latitude'].astype(str).str.replace(',', '.')\n",
    "df_1['latitude'] = pd.to_numeric(df_1['latitude'], errors='coerce')"
   ]
  },
  {
   "cell_type": "code",
   "execution_count": null,
   "id": "5cbad4ff-ccc7-4689-acee-50dba26e9359",
   "metadata": {},
   "outputs": [],
   "source": [
    "df_1['longitude'] = df_1['longitude'].astype(str).str.replace(',', '.')\n",
    "df_1['longitude'] = pd.to_numeric(df_1['longitude'], errors='coerce')"
   ]
  },
  {
   "cell_type": "code",
   "execution_count": null,
   "id": "6e64061d-78ae-4e68-a40d-6eb566de9a36",
   "metadata": {},
   "outputs": [],
   "source": [
    "df_1['vazao'] = pd.to_numeric(df_1['vazao'])"
   ]
  },
  {
   "cell_type": "code",
   "execution_count": null,
   "id": "e0be1b82-3663-4618-b734-bee5f04fb9bb",
   "metadata": {},
   "outputs": [],
   "source": [
    "df_1.info()\n",
    "df_1.head()"
   ]
  },
  {
   "cell_type": "code",
   "execution_count": null,
   "id": "890199c5-ab63-424e-bb79-6c1b6a6205e1",
   "metadata": {},
   "outputs": [],
   "source": []
  },
  {
   "cell_type": "code",
   "execution_count": null,
   "id": "e4e2de36-0f30-42d8-9067-caad0e55b4a6",
   "metadata": {},
   "outputs": [],
   "source": []
  },
  {
   "cell_type": "code",
   "execution_count": null,
   "id": "463d5589-ffb2-4b94-9121-7001b89b1fe4",
   "metadata": {},
   "outputs": [],
   "source": []
  },
  {
   "cell_type": "markdown",
   "id": "8995cad0-fefb-4d39-b96a-654bbed3ad46",
   "metadata": {},
   "source": [
    "<br>\n",
    "\n",
    "### Municípios"
   ]
  },
  {
   "cell_type": "code",
   "execution_count": null,
   "id": "ef0aa5d1-9bc8-43de-bc08-45329389340c",
   "metadata": {},
   "outputs": [],
   "source": [
    "list_cols = [\n",
    "    'id_ibge',\n",
    "    'municipio',\n",
    "    'regional_saude',\n",
    "]\n",
    "\n",
    "df_1_1 = df_1[list_cols].drop_duplicates()\n",
    "df_1_1.reset_index(drop=True, inplace=True)\n",
    "df_1_1.info()\n",
    "df_1_1.head()"
   ]
  },
  {
   "cell_type": "markdown",
   "id": "8e53a38d-0c05-48f8-85be-85374029ed92",
   "metadata": {},
   "source": [
    "<br>\n",
    "\n",
    "### Instituições e Formas de Abastecimento"
   ]
  },
  {
   "cell_type": "code",
   "execution_count": null,
   "id": "7237d48f-b2ac-481c-b198-37abb7bccabd",
   "metadata": {},
   "outputs": [],
   "source": [
    "list_cols = [\n",
    "    'forma_abastecimento_cod',\n",
    "    'forma_abastecimento_tipo',\n",
    "    'forma_abastecimento_nome',\n",
    "    'instituicao_tipo',\n",
    "    'instituicao_sigla',\n",
    "    'instituicao_nome',\n",
    "    #'instituicao_cnpj',\n",
    "    'escritorio_regional_local_nome',\n",
    "    'escritorio_regional_local_cnpj',\n",
    "    'eta_uta_nome',\n",
    "    'ano_referencia',\n",
    "    'id_ibge',\n",
    "]\n",
    "df_1_2 = df_1[list_cols].drop_duplicates()\n",
    "df_1_2 = convert_6d_to_7d(df_1_2)\n",
    "df_1_2 = df_1_2[list_cols].drop_duplicates()\n",
    "df_1_2.reset_index(drop=True, inplace=True)\n",
    "df_1_2.info()\n",
    "df_1_2.head()"
   ]
  },
  {
   "cell_type": "code",
   "execution_count": null,
   "id": "43f776a0-89ab-4d56-b460-b23fe492543a",
   "metadata": {},
   "outputs": [],
   "source": [
    "len(list(set(df_1['forma_abastecimento_cod'])))"
   ]
  },
  {
   "cell_type": "code",
   "execution_count": null,
   "id": "e747d9af-78c1-46e1-b31c-582c03a8faaa",
   "metadata": {},
   "outputs": [],
   "source": []
  },
  {
   "cell_type": "markdown",
   "id": "8a03d395-bbf2-4b69-aae7-c22195671db4",
   "metadata": {},
   "source": [
    "<br>\n",
    "\n",
    "### Captação"
   ]
  },
  {
   "cell_type": "code",
   "execution_count": null,
   "id": "caedb0c3-a0bc-42db-891c-660a3494b442",
   "metadata": {},
   "outputs": [],
   "source": [
    "list_cols = [\n",
    "    'forma_abastecimento_cod',\n",
    "    \n",
    "    'ano_referencia',\n",
    "    'captacao_tipo',\n",
    "    'manancial_superficial_categoria',\n",
    "    'manancial_superficial_nome',\n",
    "    'captacao_subterranea_categoria',\n",
    "    'captacao_subterranea_nome',\n",
    "    'outorga',\n",
    "    'latitude',\n",
    "    'longitude',\n",
    "    'vazao',\n",
    "    'id_ibge'\n",
    "]\n",
    "df_1_3 = df_1[list_cols].drop_duplicates()\n",
    "df_1_3 = convert_6d_to_7d(df_1_3)\n",
    "df_1_3 = df_1_3[list_cols].drop_duplicates()\n",
    "df_1_3.reset_index(drop=True, inplace=True)\n",
    "df_1_3.info()\n",
    "df_1_3.head()"
   ]
  },
  {
   "cell_type": "code",
   "execution_count": null,
   "id": "99481642-71eb-43ca-be55-c40d8d76f594",
   "metadata": {},
   "outputs": [],
   "source": []
  },
  {
   "cell_type": "code",
   "execution_count": null,
   "id": "2bc8d42e-e024-43be-9982-fe2d7e27b5aa",
   "metadata": {},
   "outputs": [],
   "source": []
  },
  {
   "cell_type": "code",
   "execution_count": null,
   "id": "713923df-6a58-4e55-b3ba-e38d765ff51c",
   "metadata": {},
   "outputs": [],
   "source": []
  },
  {
   "cell_type": "markdown",
   "id": "1afa23af-c8e2-450b-94a6-afed630943fe",
   "metadata": {},
   "source": [
    "<br>\n",
    "\n",
    "## População Abastecida"
   ]
  },
  {
   "cell_type": "code",
   "execution_count": null,
   "id": "e29af172-09d9-47a3-a582-a054070783bc",
   "metadata": {},
   "outputs": [],
   "source": [
    "# Input\n",
    "filename = os.path.join(input_path_parquet_partitioned, 'cadastro', 'cadastro_populacao_abastecida')\n",
    "\n",
    "# Add Filter to Filename\n",
    "filter_path = os.path.join('Uf={}'.format(estado), 'Código Ibge={}/*.parquet'.format(cod_ibge_ajustado))\n",
    "filename = os.path.join(filename, filter_path)\n",
    "\n",
    "# Read Dataframes\n",
    "df = dd.read_parquet(\n",
    "    filename,\n",
    "    filters=[[('Uf', '==', estado)]],\n",
    ")\n",
    "\n",
    "# Calculate\n",
    "df_2 = df.compute()\n",
    "df_2 = rename_sisagua(df_2)\n",
    "print(df_2.info())\n",
    "df_2.head()"
   ]
  },
  {
   "cell_type": "code",
   "execution_count": null,
   "id": "fef35a2f-2bde-43df-8c40-729ff1c13a90",
   "metadata": {},
   "outputs": [],
   "source": [
    "list(df_2.columns)"
   ]
  },
  {
   "cell_type": "code",
   "execution_count": null,
   "id": "653ddad7-e633-4662-ad10-a3926f344dc0",
   "metadata": {},
   "outputs": [],
   "source": [
    "df_2.drop(\n",
    "    [\n",
    "        # 'regiao_geografica',\n",
    "        # 'regional_saude',\n",
    "        # 'municipio',\n",
    "        # 'instituicao_tipo',\n",
    "        # 'instituicao_sigla',\n",
    "        # 'instituicao_nome',\n",
    "        # 'instituicao_cnpj',\n",
    "        # 'escritorio_regional_local_nome',\n",
    "        # 'escritorio_regional_local_cnpj',\n",
    "        # 'forma_abastecimento_tipo',\n",
    "        # 'forma_abastecimento_cod',\n",
    "        # 'forma_abastecimento_nome',\n",
    "        \n",
    "        # 'ano_referencia',\n",
    "        # 'data_registro',\n",
    "        # 'data_preenchimento',\n",
    "        # 'carro_pipa',\n",
    "        # 'chafariz',\n",
    "        # 'fonte',\n",
    "        # 'cisterna',\n",
    "        # 'canalizacao',\n",
    "        # 'caixa_dagua',\n",
    "        # 'sem_reservacao',\n",
    "        # 'outro_tipo_suprimento',\n",
    "        # 'captacao_superficial',\n",
    "        # 'captacao_subterranea',\n",
    "        # 'captacao_agua_chuva',\n",
    "        # 'filtracao',\n",
    "        # 'desinfeccao',\n",
    "        # 'n_economias_residenciais_uso_permanente',\n",
    "        # 'n_economias_residenciais_uso_ocasional',\n",
    "        # 'razao_habitantes_domicilio',\n",
    "        # 'pop_recebe_agua_saa',\n",
    "        # 'pop_recebe_agua_saa_sac',\n",
    "        'uf',\n",
    "        # 'id_ibge'\n",
    "    ],\n",
    "    inplace=True,\n",
    "    axis=1,\n",
    "    errors='ignore',\n",
    ")"
   ]
  },
  {
   "cell_type": "code",
   "execution_count": null,
   "id": "9db7b05e-6bf1-4f0e-9229-e3ff2790a90f",
   "metadata": {},
   "outputs": [],
   "source": [
    "df_2['id_ibge'] = df_2['id_ibge'].astype(int)"
   ]
  },
  {
   "cell_type": "code",
   "execution_count": null,
   "id": "86fffafd-fae7-4288-b1e2-b2efe2ec0836",
   "metadata": {},
   "outputs": [],
   "source": [
    "df_2['ano_referencia'] = df_2['ano_referencia'].astype(int)\n",
    "set(df_2['ano_referencia'])"
   ]
  },
  {
   "cell_type": "code",
   "execution_count": null,
   "id": "f18d6143-27ad-4977-8c27-e90ec59280be",
   "metadata": {},
   "outputs": [],
   "source": [
    "df_2['data_registro'] = pd.to_datetime(df_2['data_registro'])\n",
    "df_2['data_preenchimento'] = pd.to_datetime(df_2['data_preenchimento'])"
   ]
  },
  {
   "cell_type": "code",
   "execution_count": null,
   "id": "e901eb13-914d-4d05-99cf-edf9e1d3d2ed",
   "metadata": {},
   "outputs": [],
   "source": [
    "df_2['outro_tipo_suprimento'] = df_2['outro_tipo_suprimento'].str.title()\n",
    "\n",
    "df_2.replace(\n",
    "    {\n",
    "        'outro_tipo_suprimento': {\n",
    "            'Agua': 'Água',\n",
    "            'Caixa D Água': \"Caixa d'Água\",\n",
    "            \"Caixa D' Água\": \"Caixa d'Água\",\n",
    "            'Suterranea': 'Subterrânea',\n",
    "            'Subterraneo': 'Subterrâneo',\n",
    "            'Subterranea': 'Subterrânea',\n",
    "            'Galao': 'Galão',\n",
    "            \"Caixa D'Água\": \"Caixa d'Água\",\n",
    "            'Concessionaria': 'Concessionária',\n",
    "            'Conessionaria': 'Concessionária',\n",
    "            'Poco': 'Poço',\n",
    "            'Poç0O': 'Poço',\n",
    "            'Poso': 'Poço',\n",
    "            'Tubulaçao': 'Tubulação',\n",
    "            'Caminhao Pipa': 'Caminhão Pipa',\n",
    "            'Caminho Pipa': 'Caminhão Pipa',\n",
    "            'Ptrofundo': 'Profundo',\n",
    "            'Profundio': 'Profundo',\n",
    "            'Profubndo': 'Profundo',\n",
    "            'Publica': 'Pública',\n",
    "            'Pública1': 'Pública',\n",
    "            'Reservatorio': 'Reservatório',\n",
    "            'Rece': 'Rede',\n",
    "            'Sist. Público': 'Sistema Público',\n",
    "            'Publico': 'Público',\n",
    "            'Astecimento': 'Abastecimento',\n",
    "            'Poçotubular Profundo': 'Poço Tubular Profundo',            \n",
    "            'N.A': 'Não Aplicável',\n",
    "            'Nao Aplicave': 'Não Aplicável',\n",
    "            'Não Aplicável': 'Não Aplicável',\n",
    "            'Não Há': 'Não Aplicável',\n",
    "            'Não Se Aplica': 'Não Aplicável',\n",
    "            'Não Utiliza': 'Não Aplicável',            \n",
    "            'Artesianio': 'Artesiano',\n",
    "            'Artesisano': 'Artesiano',\n",
    "            'Pública-Saae': 'Pública Saae',\n",
    "        }\n",
    "    },\n",
    "    inplace=True,\n",
    "    regex=True,\n",
    ")\n",
    "set(df_2['outro_tipo_suprimento'])"
   ]
  },
  {
   "cell_type": "code",
   "execution_count": null,
   "id": "a44fea32-bad6-4ae1-86bd-d913fa478490",
   "metadata": {},
   "outputs": [],
   "source": [
    "df_2['n_economias_residenciais_uso_permanente'] = df_2['n_economias_residenciais_uso_permanente'].astype(float)\n",
    "df_2['n_economias_residenciais_uso_ocasional'] = df_2['n_economias_residenciais_uso_ocasional'].astype(float)\n",
    "df_2['razao_habitantes_domicilio'] = df_2['razao_habitantes_domicilio'].astype(float)\n",
    "#set(df_2['n_economias_residenciais_uso_permanente'])"
   ]
  },
  {
   "cell_type": "code",
   "execution_count": null,
   "id": "6c3ed34f-5953-4782-80ef-5d64a7d9dcf8",
   "metadata": {},
   "outputs": [],
   "source": [
    "df_2.replace({'pop_recebe_agua_saa': {'N': 'Não', 'S': 'Sim'}}, inplace=True)"
   ]
  },
  {
   "cell_type": "code",
   "execution_count": null,
   "id": "eabaa931-3aa0-4a84-bbbd-75e2e4fc4be0",
   "metadata": {},
   "outputs": [],
   "source": [
    "set(df_2['carro_pipa'])"
   ]
  },
  {
   "cell_type": "code",
   "execution_count": null,
   "id": "225a1505-4531-4d40-8d6a-38e31b2819fa",
   "metadata": {},
   "outputs": [],
   "source": []
  },
  {
   "cell_type": "code",
   "execution_count": null,
   "id": "7a60ab0e-5d72-4de8-85bd-61488a529b95",
   "metadata": {},
   "outputs": [],
   "source": []
  },
  {
   "cell_type": "code",
   "execution_count": null,
   "id": "8245ae76-60c0-4deb-9349-48329a88b401",
   "metadata": {},
   "outputs": [],
   "source": []
  },
  {
   "cell_type": "markdown",
   "id": "9f280967-0752-4233-a869-6b70ef6c48aa",
   "metadata": {},
   "source": [
    "<br>\n",
    "\n",
    "### Municípios"
   ]
  },
  {
   "cell_type": "code",
   "execution_count": null,
   "id": "49f4d7cc-9480-4017-83e6-45205c1137e7",
   "metadata": {},
   "outputs": [],
   "source": [
    "list_cols = [\n",
    "    'id_ibge',\n",
    "    'municipio',\n",
    "    'regional_saude',\n",
    "]\n",
    "\n",
    "df_2_1 = df_2[list_cols].drop_duplicates()\n",
    "df_2_1.reset_index(drop=True, inplace=True)\n",
    "df_2_1.info()\n",
    "df_2_1"
   ]
  },
  {
   "cell_type": "code",
   "execution_count": null,
   "id": "dbf8d1e7-f53b-4ca4-af90-ee36929f0e30",
   "metadata": {},
   "outputs": [],
   "source": []
  },
  {
   "cell_type": "markdown",
   "id": "247f4589-967e-406f-85cb-62a67a9276d4",
   "metadata": {},
   "source": [
    "<br>\n",
    "\n",
    "### Instituições e Formas de Abastecimento"
   ]
  },
  {
   "cell_type": "code",
   "execution_count": null,
   "id": "683e9cb0-2fd1-44e2-acc2-71a022597a91",
   "metadata": {},
   "outputs": [],
   "source": [
    "list_cols = [\n",
    "    'forma_abastecimento_cod',\n",
    "    'forma_abastecimento_tipo',\n",
    "    'forma_abastecimento_nome',\n",
    "    'instituicao_tipo',\n",
    "    'instituicao_sigla',\n",
    "    'instituicao_nome',\n",
    "    'instituicao_cnpj',\n",
    "    'escritorio_regional_local_nome',\n",
    "    'escritorio_regional_local_cnpj',\n",
    "    #'eta_uta_nome',\n",
    "    'ano_referencia',    \n",
    "    'id_ibge',\n",
    "]\n",
    "df_2_2 = df_2[list_cols].drop_duplicates()\n",
    "df_2_2 = convert_6d_to_7d(df_2_2)\n",
    "df_2_2 = df_2_2[list_cols].drop_duplicates()\n",
    "df_2_2.reset_index(drop=True, inplace=True)\n",
    "df_2_2.info()\n",
    "df_2_2.head()"
   ]
  },
  {
   "cell_type": "code",
   "execution_count": null,
   "id": "03b54040-f111-42ab-ab02-978f3f8ff768",
   "metadata": {},
   "outputs": [],
   "source": []
  },
  {
   "cell_type": "markdown",
   "id": "2923c4ca-0a8e-4424-b386-00b279898b1d",
   "metadata": {},
   "source": [
    "<br>\n",
    "\n",
    "### População"
   ]
  },
  {
   "cell_type": "code",
   "execution_count": null,
   "id": "7f686a0f-0be0-4efb-9f8a-24c02f77c73f",
   "metadata": {},
   "outputs": [],
   "source": [
    "list_cols = [\n",
    "    'forma_abastecimento_cod',    \n",
    "    'ano_referencia',\n",
    "    'data_registro',\n",
    "    'data_preenchimento',\n",
    "    'carro_pipa',\n",
    "    'chafariz',\n",
    "    'fonte',\n",
    "    'cisterna',\n",
    "    'canalizacao',\n",
    "    'caixa_dagua',\n",
    "    'sem_reservacao',\n",
    "    'outro_tipo_suprimento',\n",
    "    'captacao_superficial',\n",
    "    'captacao_subterranea',\n",
    "    'captacao_agua_chuva',\n",
    "    'filtracao',\n",
    "    'desinfeccao',\n",
    "    'n_economias_residenciais_uso_permanente',\n",
    "    'n_economias_residenciais_uso_ocasional',\n",
    "    'razao_habitantes_domicilio',\n",
    "    'pop_recebe_agua_saa',\n",
    "    'pop_recebe_agua_saa_sac',\n",
    "    'id_ibge'\n",
    "]\n",
    "df_2_3 = df_2[list_cols].drop_duplicates()\n",
    "df_2_3 = convert_6d_to_7d(df_2_3)\n",
    "df_2_3 = df_2_3[list_cols].drop_duplicates()\n",
    "df_2_3.reset_index(drop=True, inplace=True)\n",
    "df_2_3.info()\n",
    "df_2_3.head()"
   ]
  },
  {
   "cell_type": "code",
   "execution_count": null,
   "id": "228bead0-6ca7-4f8f-ad55-b4c39aaf5d0a",
   "metadata": {},
   "outputs": [],
   "source": []
  },
  {
   "cell_type": "markdown",
   "id": "9888493d-9077-4e79-9161-46289eda9681",
   "metadata": {},
   "source": [
    "<br>\n",
    "\n",
    "## Tratamento de Água"
   ]
  },
  {
   "cell_type": "code",
   "execution_count": null,
   "id": "ca068e14-a0e3-49a3-86c0-98b0d4d01046",
   "metadata": {},
   "outputs": [],
   "source": [
    "# Input\n",
    "filename = os.path.join(input_path_parquet_partitioned, 'cadastro', 'cadastro_tratamento_de_agua')\n",
    "\n",
    "# Add Filter to Filename\n",
    "filter_path = os.path.join('Uf={}'.format(estado), 'Código Ibge={}/*.parquet'.format(cod_ibge_ajustado))\n",
    "filename = os.path.join(filename, filter_path)\n",
    "\n",
    "# Read Dataframes\n",
    "df = dd.read_parquet(\n",
    "    filename,\n",
    "    filters=[[('Uf', '==', estado)]],\n",
    ")\n",
    "\n",
    "# Calculate\n",
    "df_3 = df.compute()\n",
    "df_3 = rename_sisagua(df_3)\n",
    "df_3.info()\n",
    "df_3.head()"
   ]
  },
  {
   "cell_type": "code",
   "execution_count": null,
   "id": "480e6086-7c91-44ee-87fb-a6ee8caaf7b6",
   "metadata": {},
   "outputs": [],
   "source": [
    "list(df_3.columns)"
   ]
  },
  {
   "cell_type": "code",
   "execution_count": null,
   "id": "467a7048-1030-4e51-a446-3da21a2208ca",
   "metadata": {},
   "outputs": [],
   "source": [
    "df_3.drop(\n",
    "    [\n",
    "        'regiao_geografica',\n",
    "        # 'regional_saude',\n",
    "        # 'municipio',\n",
    "        # 'instituicao_tipo',\n",
    "        # 'instituicao_sigla',\n",
    "        # 'instituicao_nome',\n",
    "        # 'instituicao_cnpj',\n",
    "        # 'escritorio_regional_local_nome',\n",
    "        # 'escritorio_regional_local_cnpj',\n",
    "        # 'forma_abastecimento_tipo',\n",
    "        # 'forma_abastecimento_cod',\n",
    "        # 'forma_abastecimento_nome',\n",
    "        # 'eta_uta_nome',\n",
    "        # 'ano_referencia',\n",
    "        # 'data_registro',\n",
    "        # 'data_preenchimento',\n",
    "        # 'captacao_superficial',\n",
    "        # 'captacao_subterranea',\n",
    "        # 'captacao_agua_chuva',\n",
    "        # 'cep',\n",
    "        # 'endereco',\n",
    "        # 'numero',\n",
    "        # 'ddd',\n",
    "        # 'telefone',\n",
    "        # 'email',\n",
    "        # 'tempo_medio_diario_funcionamento',\n",
    "        # 'etapa_preoxidacao',\n",
    "        # 'etapa_mistura_rapida_coagulacao',\n",
    "        # 'etapa_floculacao',\n",
    "        # 'etapa_decantacao',\n",
    "        # 'etapa_flotacao',\n",
    "        # 'tipo_filtracao',\n",
    "        # 'n_filtros',\n",
    "        # 'etapa_desinfeccao',\n",
    "        # 'desinfeccao_cloro_gas_ou_hipoclorito',\n",
    "        # 'desinfeccao_cloramina',\n",
    "        # 'desinfeccao_dioxido_cloro',\n",
    "        # 'desinfeccao_ozonio',\n",
    "        # 'desinfeccao_uv',\n",
    "        # 'outro_agente_desinfetante',\n",
    "        # 'rad_cloro_residual_livre',\n",
    "        # 'rad_cloro_residual_combinado',\n",
    "        # 'rad_dioxido_cloro',\n",
    "        # 'etapa_fluoretacao',\n",
    "        # 'outra_etapa_tratamento',\n",
    "        # 'vazao_agua_tratada',\n",
    "        # 'carro_pipa',\n",
    "        # 'chafariz',\n",
    "        # 'fonte',\n",
    "        # 'cisterna',\n",
    "        # 'canalizacao',\n",
    "        # 'outro_tipo_suprimento',\n",
    "        # 'resp_tec_nome',\n",
    "        # 'resp_tec_formacao',\n",
    "        # 'resp_tec_n_conselho_classe',\n",
    "        # 'art',\n",
    "        'uf',\n",
    "        # 'id_ibge'\n",
    "    ],\n",
    "    inplace=True,\n",
    "    axis=1,\n",
    "    errors='ignore',\n",
    ")"
   ]
  },
  {
   "cell_type": "code",
   "execution_count": null,
   "id": "cb82a481-8108-4687-8ba1-0e27f3e6d96c",
   "metadata": {},
   "outputs": [],
   "source": [
    "df_3['id_ibge'] = df_3['id_ibge'].astype(int)"
   ]
  },
  {
   "cell_type": "code",
   "execution_count": null,
   "id": "eca3ac3e-3b9a-4d9a-b420-f0f1bdc4e294",
   "metadata": {},
   "outputs": [],
   "source": [
    "df_3['ano_referencia'] = df_3['ano_referencia'].astype(int)\n",
    "set(df_3['ano_referencia'])"
   ]
  },
  {
   "cell_type": "code",
   "execution_count": null,
   "id": "a42d4ec0-4835-4115-b51e-0afd9ea72d89",
   "metadata": {},
   "outputs": [],
   "source": [
    "df_3['data_registro'] = pd.to_datetime(df_3['data_registro'], format='%d/%m/%Y')\n",
    "df_3['data_preenchimento'] = pd.to_datetime(df_3['data_preenchimento'], format='%d/%m/%Y')"
   ]
  },
  {
   "cell_type": "code",
   "execution_count": null,
   "id": "2a5d1736-da18-4fc4-8f11-da451b7998ed",
   "metadata": {},
   "outputs": [],
   "source": [
    "#set(df_3['data_registro'])"
   ]
  },
  {
   "cell_type": "code",
   "execution_count": null,
   "id": "f643e4c1-d62f-4005-a86e-03438854bfa5",
   "metadata": {},
   "outputs": [],
   "source": [
    "df_3['n_filtros'].replace(np.nan, -999, inplace=True)\n",
    "df_3['n_filtros'] = df_3['n_filtros'].astype(int)\n",
    "#set(df_3['n_filtros'])"
   ]
  },
  {
   "cell_type": "code",
   "execution_count": null,
   "id": "81384c5c-2ae2-41e3-937a-c8d446b17323",
   "metadata": {},
   "outputs": [],
   "source": [
    "df_3['tipo_filtracao'] = df_3['tipo_filtracao'].str.title()"
   ]
  },
  {
   "cell_type": "code",
   "execution_count": null,
   "id": "318f1e9f-3253-40d9-b99e-17c75655ab06",
   "metadata": {},
   "outputs": [],
   "source": [
    "df_3['vazao_agua_tratada'] = df_3['vazao_agua_tratada'].astype(float)\n",
    "#set(df_3['vazao_agua_tratada'])"
   ]
  },
  {
   "cell_type": "code",
   "execution_count": null,
   "id": "95f563e9-a087-46f5-8f47-97a4df8bad1c",
   "metadata": {},
   "outputs": [],
   "source": [
    "list_cols = [\n",
    "    'etapa_preoxidacao',\n",
    "    'etapa_mistura_rapida_coagulacao',\n",
    "    'etapa_floculacao',\n",
    "    'etapa_decantacao',\n",
    "    'etapa_flotacao',\n",
    "    'etapa_desinfeccao',\n",
    "    'desinfeccao_cloro_gas_ou_hipoclorito',\n",
    "    'desinfeccao_cloramina',\n",
    "    'desinfeccao_dioxido_cloro',\n",
    "    'desinfeccao_ozonio',\n",
    "    'desinfeccao_uv',\n",
    "    'rad_cloro_residual_livre',\n",
    "    'rad_cloro_residual_combinado',\n",
    "    'rad_dioxido_cloro',\n",
    "    'etapa_fluoretacao',\n",
    "    'carro_pipa',\n",
    "    'chafariz',\n",
    "    'fonte',\n",
    "    'cisterna',\n",
    "    'canalizacao',\n",
    "]\n",
    "for col in list_cols:\n",
    "    print(col)\n",
    "    df_3.replace({col: {'N': 'Não', 'S': 'Sim'}}, regex=True, inplace=True)"
   ]
  },
  {
   "cell_type": "code",
   "execution_count": null,
   "id": "75fb9b93-cc7b-4866-adb2-2dff74d0f9ab",
   "metadata": {},
   "outputs": [],
   "source": [
    "df_3['resp_tec_nome'] = df_3['resp_tec_nome'].str.title()\n",
    "#set(df_3['resp_tec_nome'])"
   ]
  },
  {
   "cell_type": "code",
   "execution_count": null,
   "id": "0d912e35-b496-405c-9b97-3953d56b3687",
   "metadata": {},
   "outputs": [],
   "source": [
    "#pd.to_datetime(df_3['tempo_medio_diario_funcionamento'], format='hh:mm')\n",
    "set(df_3['tempo_medio_diario_funcionamento'])\n",
    "#df_3['tempo_medio_diario_funcionamento'"
   ]
  },
  {
   "cell_type": "code",
   "execution_count": null,
   "id": "d2bd9ac4-7f19-4c66-8698-bd2b25a2aa78",
   "metadata": {},
   "outputs": [],
   "source": [
    "for i in list(df_3.columns)[44:]:\n",
    "    #print(i)\n",
    "    #print(set(df_3_3[i]))\n",
    "    #print('  ')\n",
    "    pass"
   ]
  },
  {
   "cell_type": "code",
   "execution_count": null,
   "id": "d469d231-9670-49cc-94e1-c49cc4bc207b",
   "metadata": {},
   "outputs": [],
   "source": []
  },
  {
   "cell_type": "code",
   "execution_count": null,
   "id": "3c3469d3-2d8f-4631-90b6-0f904ca4ac1d",
   "metadata": {},
   "outputs": [],
   "source": [
    "df_3.info()\n",
    "df_3.head()"
   ]
  },
  {
   "cell_type": "code",
   "execution_count": null,
   "id": "9444e7b4-83b9-4630-88c2-eab33b47060c",
   "metadata": {},
   "outputs": [],
   "source": []
  },
  {
   "cell_type": "code",
   "execution_count": null,
   "id": "655a9773-5e24-4a1e-a902-91e35952d623",
   "metadata": {},
   "outputs": [],
   "source": []
  },
  {
   "cell_type": "markdown",
   "id": "39fdd804-52e0-4a90-96c4-3a4d3cbf42cc",
   "metadata": {},
   "source": [
    "<br>\n",
    "\n",
    "### Municipios"
   ]
  },
  {
   "cell_type": "code",
   "execution_count": null,
   "id": "ba097109-12c7-4e57-85a6-6709df84f900",
   "metadata": {},
   "outputs": [],
   "source": [
    "list_cols = [\n",
    "    'id_ibge',\n",
    "    'municipio',\n",
    "    'regional_saude',\n",
    "]\n",
    "\n",
    "df_3_1 = df_3[list_cols].drop_duplicates()\n",
    "df_3_1.reset_index(drop=True, inplace=True)\n",
    "df_3_1.info()\n",
    "df_3_1.head()"
   ]
  },
  {
   "cell_type": "markdown",
   "id": "18e508a5-4cdd-416b-987e-b793029f20cb",
   "metadata": {},
   "source": [
    "<br>\n",
    "\n",
    "### Instituições e Formas de Abastecimento"
   ]
  },
  {
   "cell_type": "code",
   "execution_count": null,
   "id": "9146b3aa-fe00-4418-8b68-2ec572fab1a2",
   "metadata": {},
   "outputs": [],
   "source": [
    "list_cols = [\n",
    "    'forma_abastecimento_cod',\n",
    "    'forma_abastecimento_tipo',\n",
    "    'forma_abastecimento_nome',\n",
    "    'instituicao_tipo',\n",
    "    'instituicao_sigla',\n",
    "    'instituicao_nome',\n",
    "    'instituicao_cnpj',\n",
    "    'escritorio_regional_local_nome',\n",
    "    'escritorio_regional_local_cnpj',\n",
    "    'eta_uta_nome',\n",
    "    'ano_referencia',\n",
    "    'id_ibge',\n",
    "]\n",
    "df_3_2 = df_3[list_cols].drop_duplicates()\n",
    "df_3_2 = convert_6d_to_7d(df_3_2)\n",
    "df_3_2 = df_3_2[list_cols].drop_duplicates()\n",
    "df_3_2.reset_index(drop=True, inplace=True)\n",
    "df_3_2.info()\n",
    "df_3_2.head()"
   ]
  },
  {
   "cell_type": "code",
   "execution_count": null,
   "id": "769b55f8-cd40-40b8-9d4c-4bdb720a44e5",
   "metadata": {},
   "outputs": [],
   "source": []
  },
  {
   "cell_type": "markdown",
   "id": "c47136e1-ce77-418d-aa75-05461ed569ae",
   "metadata": {},
   "source": [
    "<br>\n",
    "\n",
    "### Tratamento"
   ]
  },
  {
   "cell_type": "code",
   "execution_count": null,
   "id": "2f388396-a773-4265-bbc4-078b525e92f3",
   "metadata": {},
   "outputs": [],
   "source": [
    "list_cols = [\n",
    "    'forma_abastecimento_cod',\n",
    "\n",
    "    'ano_referencia',\n",
    "    'data_registro',\n",
    "    'data_preenchimento',\n",
    "    'captacao_superficial',\n",
    "    'captacao_subterranea',\n",
    "    'captacao_agua_chuva',\n",
    "    'cep',\n",
    "    'endereco',\n",
    "    'numero',\n",
    "    'ddd',\n",
    "    'telefone',\n",
    "    'email',\n",
    "    'tempo_medio_diario_funcionamento',\n",
    "    'etapa_preoxidacao',\n",
    "    'etapa_mistura_rapida_coagulacao',\n",
    "    'etapa_floculacao',\n",
    "    'etapa_decantacao',\n",
    "    'etapa_flotacao',\n",
    "    'tipo_filtracao',\n",
    "    'n_filtros',\n",
    "    'etapa_desinfeccao',\n",
    "    'desinfeccao_cloro_gas_ou_hipoclorito',\n",
    "    'desinfeccao_cloramina',\n",
    "    'desinfeccao_dioxido_cloro',\n",
    "    'desinfeccao_ozonio',\n",
    "    'desinfeccao_uv',\n",
    "    'outro_agente_desinfetante',\n",
    "    'rad_cloro_residual_livre',\n",
    "    'rad_cloro_residual_combinado',\n",
    "    'rad_dioxido_cloro',\n",
    "    'etapa_fluoretacao',\n",
    "    'outra_etapa_tratamento',\n",
    "    'vazao_agua_tratada',\n",
    "    'carro_pipa',\n",
    "    'chafariz',\n",
    "    'fonte',\n",
    "    'cisterna',\n",
    "    'canalizacao',\n",
    "    'outro_tipo_suprimento',\n",
    "    'resp_tec_nome',\n",
    "    'resp_tec_formacao',\n",
    "    'resp_tec_n_conselho_classe',\n",
    "    'art',\n",
    "    'id_ibge'\n",
    "]\n",
    "df_3_3 = df_3[list_cols].drop_duplicates()\n",
    "df_3_3 = convert_6d_to_7d(df_3_3)\n",
    "df_3_3 = df_3_3[list_cols].drop_duplicates()\n",
    "df_3_3.reset_index(drop=True, inplace=True)\n",
    "df_3_3.info()\n",
    "df_3_3.head()"
   ]
  },
  {
   "cell_type": "code",
   "execution_count": null,
   "id": "8e0f1138-3e70-43b8-a79d-bf59628145ae",
   "metadata": {},
   "outputs": [],
   "source": []
  },
  {
   "cell_type": "code",
   "execution_count": null,
   "id": "0fb6fc79-b4b2-4c27-99b2-dab89e96b4a8",
   "metadata": {},
   "outputs": [],
   "source": []
  },
  {
   "cell_type": "code",
   "execution_count": null,
   "id": "d5d24bd4-d878-4251-9c2e-12cc446e7c06",
   "metadata": {},
   "outputs": [],
   "source": []
  },
  {
   "cell_type": "markdown",
   "id": "14e3a434-6144-415b-80f2-c92e428e5482",
   "metadata": {},
   "source": [
    "<br>\n",
    "\n",
    "# Vigilância"
   ]
  },
  {
   "cell_type": "markdown",
   "id": "60a0b9d2-3a1b-4dc3-a6d9-b812e6b976d7",
   "metadata": {},
   "source": [
    "<br>\n",
    "\n",
    "## Parâmetros Básicos"
   ]
  },
  {
   "cell_type": "code",
   "execution_count": 81,
   "id": "54ba42ca-33ab-47f8-8551-2687d130ee55",
   "metadata": {},
   "outputs": [
    {
     "name": "stdout",
     "output_type": "stream",
     "text": [
      "<class 'pandas.core.frame.DataFrame'>\n",
      "Int64Index: 3215727 entries, 0 to 114\n",
      "Data columns (total 36 columns):\n",
      " #   Column                          Dtype   \n",
      "---  ------                          -----   \n",
      " 0   regiao_geografica               object  \n",
      " 1   regional_saude                  object  \n",
      " 2   municipio                       object  \n",
      " 3   n_amostra                       object  \n",
      " 4   coleta_motivo                   object  \n",
      " 5   forma_abastecimento_tipo        object  \n",
      " 6   forma_abastecimento_cod         object  \n",
      " 7   forma_abastecimento_nome        object  \n",
      " 8   instituicao_tipo                object  \n",
      " 9   instituicao_sigla               object  \n",
      " 10  instituicao_nome                object  \n",
      " 11  instituicao_cnpj                object  \n",
      " 12  escritorio_regional_local_nome  object  \n",
      " 13  escritorio_regional_local_cnpj  object  \n",
      " 14  eta_uta_nome                    object  \n",
      " 15  ano_referencia                  object  \n",
      " 16  mes_referencia                  object  \n",
      " 17  data_coleta                     object  \n",
      " 18  data_laudo                      object  \n",
      " 19  data_registro_sisagua           object  \n",
      " 20  coleta_procedencia              object  \n",
      " 21  coleta_ponto                    object  \n",
      " 22  local_descricao                 object  \n",
      " 23  zona                            object  \n",
      " 24  area_categoria                  object  \n",
      " 25  area_nome                       object  \n",
      " 26  local_tipo                      object  \n",
      " 27  local_nome                      object  \n",
      " 28  latitude                        object  \n",
      " 29  longitude                       object  \n",
      " 30  parametro                       object  \n",
      " 31  analise_realizada               object  \n",
      " 32  resultado                       object  \n",
      " 33  providencia                     object  \n",
      " 34  uf                              category\n",
      " 35  id_ibge                         category\n",
      "dtypes: category(2), object(34)\n",
      "memory usage: 867.9+ MB\n"
     ]
    },
    {
     "data": {
      "text/html": [
       "<div>\n",
       "<style scoped>\n",
       "    .dataframe tbody tr th:only-of-type {\n",
       "        vertical-align: middle;\n",
       "    }\n",
       "\n",
       "    .dataframe tbody tr th {\n",
       "        vertical-align: top;\n",
       "    }\n",
       "\n",
       "    .dataframe thead th {\n",
       "        text-align: right;\n",
       "    }\n",
       "</style>\n",
       "<table border=\"1\" class=\"dataframe\">\n",
       "  <thead>\n",
       "    <tr style=\"text-align: right;\">\n",
       "      <th></th>\n",
       "      <th>regiao_geografica</th>\n",
       "      <th>regional_saude</th>\n",
       "      <th>municipio</th>\n",
       "      <th>n_amostra</th>\n",
       "      <th>coleta_motivo</th>\n",
       "      <th>forma_abastecimento_tipo</th>\n",
       "      <th>forma_abastecimento_cod</th>\n",
       "      <th>forma_abastecimento_nome</th>\n",
       "      <th>instituicao_tipo</th>\n",
       "      <th>instituicao_sigla</th>\n",
       "      <th>...</th>\n",
       "      <th>local_tipo</th>\n",
       "      <th>local_nome</th>\n",
       "      <th>latitude</th>\n",
       "      <th>longitude</th>\n",
       "      <th>parametro</th>\n",
       "      <th>analise_realizada</th>\n",
       "      <th>resultado</th>\n",
       "      <th>providencia</th>\n",
       "      <th>uf</th>\n",
       "      <th>id_ibge</th>\n",
       "    </tr>\n",
       "  </thead>\n",
       "  <tbody>\n",
       "    <tr>\n",
       "      <th>0</th>\n",
       "      <td>SUDESTE</td>\n",
       "      <td>GVS XIX - MARÍLIA</td>\n",
       "      <td>ADAMANTINA</td>\n",
       "      <td>2160</td>\n",
       "      <td>Rotina</td>\n",
       "      <td>SAA</td>\n",
       "      <td>S350010000001</td>\n",
       "      <td>ADAMANTINA</td>\n",
       "      <td>Empresa Estadual</td>\n",
       "      <td>SABESP</td>\n",
       "      <td>...</td>\n",
       "      <td>None</td>\n",
       "      <td>None</td>\n",
       "      <td>None</td>\n",
       "      <td>None</td>\n",
       "      <td>Cor (uH)</td>\n",
       "      <td>None</td>\n",
       "      <td>2,00</td>\n",
       "      <td>None</td>\n",
       "      <td>SP</td>\n",
       "      <td>350010</td>\n",
       "    </tr>\n",
       "    <tr>\n",
       "      <th>1</th>\n",
       "      <td>SUDESTE</td>\n",
       "      <td>GVS XIX - MARÍLIA</td>\n",
       "      <td>ADAMANTINA</td>\n",
       "      <td>1424</td>\n",
       "      <td>Rotina</td>\n",
       "      <td>SAA</td>\n",
       "      <td>S350010000001</td>\n",
       "      <td>ADAMANTINA</td>\n",
       "      <td>Empresa Estadual</td>\n",
       "      <td>SABESP</td>\n",
       "      <td>...</td>\n",
       "      <td>None</td>\n",
       "      <td>None</td>\n",
       "      <td>None</td>\n",
       "      <td>None</td>\n",
       "      <td>pH</td>\n",
       "      <td>None</td>\n",
       "      <td>7,60</td>\n",
       "      <td>None</td>\n",
       "      <td>SP</td>\n",
       "      <td>350010</td>\n",
       "    </tr>\n",
       "    <tr>\n",
       "      <th>2</th>\n",
       "      <td>SUDESTE</td>\n",
       "      <td>GVS XIX - MARÍLIA</td>\n",
       "      <td>ADAMANTINA</td>\n",
       "      <td>3740</td>\n",
       "      <td>Rotina</td>\n",
       "      <td>SAA</td>\n",
       "      <td>S350010000001</td>\n",
       "      <td>ADAMANTINA</td>\n",
       "      <td>Empresa Estadual</td>\n",
       "      <td>SABESP</td>\n",
       "      <td>...</td>\n",
       "      <td>None</td>\n",
       "      <td>None</td>\n",
       "      <td>None</td>\n",
       "      <td>None</td>\n",
       "      <td>Cloro residual livre (mg/L)</td>\n",
       "      <td>EM_CAMPO</td>\n",
       "      <td>0,80</td>\n",
       "      <td>None</td>\n",
       "      <td>SP</td>\n",
       "      <td>350010</td>\n",
       "    </tr>\n",
       "    <tr>\n",
       "      <th>3</th>\n",
       "      <td>SUDESTE</td>\n",
       "      <td>GVS XIX - MARÍLIA</td>\n",
       "      <td>ADAMANTINA</td>\n",
       "      <td>3251</td>\n",
       "      <td>Rotina</td>\n",
       "      <td>SAA</td>\n",
       "      <td>S350010000001</td>\n",
       "      <td>ADAMANTINA</td>\n",
       "      <td>Empresa Estadual</td>\n",
       "      <td>SABESP</td>\n",
       "      <td>...</td>\n",
       "      <td>None</td>\n",
       "      <td>None</td>\n",
       "      <td>None</td>\n",
       "      <td>None</td>\n",
       "      <td>Turbidez (uT)</td>\n",
       "      <td>EM_LABORATORIO</td>\n",
       "      <td>0,30</td>\n",
       "      <td>None</td>\n",
       "      <td>SP</td>\n",
       "      <td>350010</td>\n",
       "    </tr>\n",
       "    <tr>\n",
       "      <th>4</th>\n",
       "      <td>SUDESTE</td>\n",
       "      <td>GVS XIX - MARÍLIA</td>\n",
       "      <td>ADAMANTINA</td>\n",
       "      <td>1423</td>\n",
       "      <td>Rotina</td>\n",
       "      <td>SAA</td>\n",
       "      <td>S350010000001</td>\n",
       "      <td>ADAMANTINA</td>\n",
       "      <td>Empresa Estadual</td>\n",
       "      <td>SABESP</td>\n",
       "      <td>...</td>\n",
       "      <td>None</td>\n",
       "      <td>None</td>\n",
       "      <td>None</td>\n",
       "      <td>None</td>\n",
       "      <td>Turbidez (uT)</td>\n",
       "      <td>EM_LABORATORIO</td>\n",
       "      <td>0,20</td>\n",
       "      <td>None</td>\n",
       "      <td>SP</td>\n",
       "      <td>350010</td>\n",
       "    </tr>\n",
       "  </tbody>\n",
       "</table>\n",
       "<p>5 rows × 36 columns</p>\n",
       "</div>"
      ],
      "text/plain": [
       "  regiao_geografica     regional_saude   municipio n_amostra coleta_motivo  \\\n",
       "0           SUDESTE  GVS XIX - MARÍLIA  ADAMANTINA      2160        Rotina   \n",
       "1           SUDESTE  GVS XIX - MARÍLIA  ADAMANTINA      1424        Rotina   \n",
       "2           SUDESTE  GVS XIX - MARÍLIA  ADAMANTINA      3740        Rotina   \n",
       "3           SUDESTE  GVS XIX - MARÍLIA  ADAMANTINA      3251        Rotina   \n",
       "4           SUDESTE  GVS XIX - MARÍLIA  ADAMANTINA      1423        Rotina   \n",
       "\n",
       "  forma_abastecimento_tipo forma_abastecimento_cod forma_abastecimento_nome  \\\n",
       "0                      SAA           S350010000001               ADAMANTINA   \n",
       "1                      SAA           S350010000001               ADAMANTINA   \n",
       "2                      SAA           S350010000001               ADAMANTINA   \n",
       "3                      SAA           S350010000001               ADAMANTINA   \n",
       "4                      SAA           S350010000001               ADAMANTINA   \n",
       "\n",
       "   instituicao_tipo instituicao_sigla  ... local_tipo local_nome latitude  \\\n",
       "0  Empresa Estadual            SABESP  ...       None       None     None   \n",
       "1  Empresa Estadual            SABESP  ...       None       None     None   \n",
       "2  Empresa Estadual            SABESP  ...       None       None     None   \n",
       "3  Empresa Estadual            SABESP  ...       None       None     None   \n",
       "4  Empresa Estadual            SABESP  ...       None       None     None   \n",
       "\n",
       "  longitude                    parametro analise_realizada resultado  \\\n",
       "0      None                     Cor (uH)              None      2,00   \n",
       "1      None                           pH              None      7,60   \n",
       "2      None  Cloro residual livre (mg/L)          EM_CAMPO      0,80   \n",
       "3      None                Turbidez (uT)    EM_LABORATORIO      0,30   \n",
       "4      None                Turbidez (uT)    EM_LABORATORIO      0,20   \n",
       "\n",
       "  providencia  uf id_ibge  \n",
       "0        None  SP  350010  \n",
       "1        None  SP  350010  \n",
       "2        None  SP  350010  \n",
       "3        None  SP  350010  \n",
       "4        None  SP  350010  \n",
       "\n",
       "[5 rows x 36 columns]"
      ]
     },
     "execution_count": 81,
     "metadata": {},
     "output_type": "execute_result"
    }
   ],
   "source": [
    "# Input\n",
    "filename = os.path.join(input_path_parquet_partitioned, 'vigilancia', 'vigilancia_parametros_basicos_*')\n",
    "\n",
    "# Add Filter to Filename\n",
    "filter_path = os.path.join('Uf={}'.format(estado), 'Código Ibge={}/*.parquet'.format(cod_ibge_ajustado))\n",
    "filename = os.path.join(filename, filter_path)\n",
    "\n",
    "# Read Dataframes\n",
    "df = dd.read_parquet(\n",
    "    filename,\n",
    "    filters=[[('Uf', '==', estado)]],\n",
    ")\n",
    "\n",
    "# Calculate\n",
    "df_4 = df.compute()\n",
    "df_4 = rename_sisagua(df_4)\n",
    "df_4.info()\n",
    "df_4.head()"
   ]
  },
  {
   "cell_type": "code",
   "execution_count": 82,
   "id": "055d6949-1cbc-48fe-8c44-f3fd0557835e",
   "metadata": {},
   "outputs": [
    {
     "data": {
      "text/plain": [
       "['regiao_geografica',\n",
       " 'regional_saude',\n",
       " 'municipio',\n",
       " 'n_amostra',\n",
       " 'coleta_motivo',\n",
       " 'forma_abastecimento_tipo',\n",
       " 'forma_abastecimento_cod',\n",
       " 'forma_abastecimento_nome',\n",
       " 'instituicao_tipo',\n",
       " 'instituicao_sigla',\n",
       " 'instituicao_nome',\n",
       " 'instituicao_cnpj',\n",
       " 'escritorio_regional_local_nome',\n",
       " 'escritorio_regional_local_cnpj',\n",
       " 'eta_uta_nome',\n",
       " 'ano_referencia',\n",
       " 'mes_referencia',\n",
       " 'data_coleta',\n",
       " 'data_laudo',\n",
       " 'data_registro_sisagua',\n",
       " 'coleta_procedencia',\n",
       " 'coleta_ponto',\n",
       " 'local_descricao',\n",
       " 'zona',\n",
       " 'area_categoria',\n",
       " 'area_nome',\n",
       " 'local_tipo',\n",
       " 'local_nome',\n",
       " 'latitude',\n",
       " 'longitude',\n",
       " 'parametro',\n",
       " 'analise_realizada',\n",
       " 'resultado',\n",
       " 'providencia',\n",
       " 'uf',\n",
       " 'id_ibge']"
      ]
     },
     "execution_count": 82,
     "metadata": {},
     "output_type": "execute_result"
    }
   ],
   "source": [
    "list(df_4.columns)"
   ]
  },
  {
   "cell_type": "code",
   "execution_count": 83,
   "id": "0a7696a9-7de9-4a5f-b23a-75da748a6d4a",
   "metadata": {},
   "outputs": [],
   "source": [
    "df_4.drop(\n",
    "    [\n",
    "        'regiao_geografica',\n",
    "        'regional_saude',\n",
    "        'municipio',\n",
    "        # 'n_amostra',\n",
    "        # 'coleta_motivo',\n",
    "        # 'forma_abastecimento_tipo', # Ok\n",
    "        # 'forma_abastecimento_cod', # Ok\n",
    "        # 'forma_abastecimento_nome', # Ok\n",
    "        # 'instituicao_tipo', # Ok\n",
    "        # 'instituicao_sigla', # Ok\n",
    "        # 'instituicao_nome', # Ok\n",
    "        # 'instituicao_cnpj', # Ok\n",
    "        # 'escritorio_regional_local_nome', # Ok\n",
    "        # 'escritorio_regional_local_cnpj', # Ok\n",
    "        # 'eta_uta_nome', # Ok\n",
    "        # 'ano_referencia', # Resolvido\n",
    "        # 'mes_referencia', # Resolvido\n",
    "        # 'data_coleta', # Resolvido\n",
    "        # 'data_laudo', # TODO\n",
    "        # 'data_registro_sisagua', # Resolvido\n",
    "        # 'coleta_procedencia',\n",
    "        # 'coleta_ponto',\n",
    "        # 'local_descricao',\n",
    "        # 'zona',\n",
    "        # 'area_categoria',\n",
    "        # 'area_nome',\n",
    "        # 'local_tipo',\n",
    "        # 'local_nome',\n",
    "        # 'latitude',\n",
    "        # 'longitude',\n",
    "        # 'parametro',\n",
    "        # 'analise_realizada',\n",
    "        # 'resultado',\n",
    "        # 'providencia',\n",
    "        'uf',\n",
    "        # 'id_ibge', # Ok\n",
    "    ],\n",
    "    inplace=True,\n",
    "    axis=1,\n",
    "    errors='ignore',\n",
    ")"
   ]
  },
  {
   "cell_type": "code",
   "execution_count": 84,
   "id": "c3d335f6-90ee-4f9d-94b0-a8fb605576e5",
   "metadata": {},
   "outputs": [],
   "source": [
    "df_4['id_ibge'] = df_4['id_ibge'].astype(int)\n",
    "df_4 = convert_6d_to_7d(df_4)"
   ]
  },
  {
   "cell_type": "code",
   "execution_count": 85,
   "id": "3942223e-72aa-4d4e-8ecf-813e29380870",
   "metadata": {},
   "outputs": [
    {
     "data": {
      "text/plain": [
       "{'SAA', 'SAC', 'SAI'}"
      ]
     },
     "execution_count": 85,
     "metadata": {},
     "output_type": "execute_result"
    }
   ],
   "source": [
    "set(df_4['coleta_motivo'])\n",
    "set(df_4['forma_abastecimento_tipo'])"
   ]
  },
  {
   "cell_type": "code",
   "execution_count": 86,
   "id": "e339e88b-1d96-423e-9118-56777faccc43",
   "metadata": {},
   "outputs": [
    {
     "data": {
      "text/plain": [
       "{2014, 2015, 2016, 2017, 2018, 2019, 2020, 2021, 2022}"
      ]
     },
     "execution_count": 86,
     "metadata": {},
     "output_type": "execute_result"
    }
   ],
   "source": [
    "df_4['ano_referencia'] = df_4['ano_referencia'].astype(int)\n",
    "set(df_4['ano_referencia'])"
   ]
  },
  {
   "cell_type": "code",
   "execution_count": 87,
   "id": "32ae6cf1-b226-4b59-b64c-755ad97b35ca",
   "metadata": {},
   "outputs": [
    {
     "data": {
      "text/plain": [
       "{1, 2, 3, 4, 5, 6, 7, 8, 9, 10, 11, 12}"
      ]
     },
     "execution_count": 87,
     "metadata": {},
     "output_type": "execute_result"
    }
   ],
   "source": [
    "df_4['mes_referencia'] = df_4['mes_referencia'].astype(int)\n",
    "set(df_4['mes_referencia'])"
   ]
  },
  {
   "cell_type": "code",
   "execution_count": 88,
   "id": "46c7c801-c459-4e48-8abe-41f489200d61",
   "metadata": {},
   "outputs": [],
   "source": [
    "df_4['data_coleta'] = pd.to_datetime(df_4['data_coleta'])\n",
    "df_4['data_registro_sisagua'] = pd.to_datetime(df_4['data_registro_sisagua'])"
   ]
  },
  {
   "cell_type": "code",
   "execution_count": 89,
   "id": "7a1a3e9f-f62c-49c4-ab4a-627fee9ceae9",
   "metadata": {},
   "outputs": [],
   "source": [
    "# TODO: Corrigir erro: Out of bounds nanosecond timestamp: 8201-08-05 00:00:00\n",
    "#df_4['data_laudo'] = pd.to_datetime(df_4['data_laudo'])"
   ]
  },
  {
   "cell_type": "code",
   "execution_count": 90,
   "id": "87a74b03-f4f7-4a72-9cd9-9673362200ed",
   "metadata": {},
   "outputs": [],
   "source": [
    "#set(df_4['local_descricao'])\n",
    "#set(df_4['zona'])\n",
    "#set(df_4['area_categoria'])\n",
    "#set(df_4['local_tipo'])"
   ]
  },
  {
   "cell_type": "code",
   "execution_count": 91,
   "id": "95e56596-3609-42fa-984c-87595201659a",
   "metadata": {},
   "outputs": [],
   "source": [
    "df_4['latitude'] = df_4['latitude'].astype(str).str.replace(',', '.')\n",
    "df_4['latitude'] = pd.to_numeric(df_4['latitude'], errors='coerce')"
   ]
  },
  {
   "cell_type": "code",
   "execution_count": 92,
   "id": "30ed73d7-5ac2-4e4d-9d4b-0f35ef1f83e3",
   "metadata": {},
   "outputs": [],
   "source": [
    "df_4['longitude'] = df_4['longitude'].astype(str).str.replace(',', '.')\n",
    "df_4['longitude'] = pd.to_numeric(df_4['longitude'], errors='coerce')"
   ]
  },
  {
   "cell_type": "code",
   "execution_count": 93,
   "id": "3bdcbaf5-5ccc-4ab3-9592-3eeb70065216",
   "metadata": {},
   "outputs": [
    {
     "data": {
      "text/plain": [
       "['Estação De Tratamento De Água',\n",
       " 'Intra-Domiciliar / Intra-Predial',\n",
       " 'Solução Alternativa',\n",
       " 'Sistema De Distribuição',\n",
       " 'Ponto De Captação(Água Superficial Ou Subterrânea)']"
      ]
     },
     "execution_count": 93,
     "metadata": {},
     "output_type": "execute_result"
    }
   ],
   "source": [
    "df_4['coleta_procedencia'] = df_4['coleta_procedencia'].str.title()\n",
    "list(set(df_4['coleta_procedencia']))"
   ]
  },
  {
   "cell_type": "code",
   "execution_count": 94,
   "id": "46967379-c47b-42a5-a792-9a72f7c371b1",
   "metadata": {},
   "outputs": [],
   "source": [
    "df_4['area_nome'] = df_4['area_nome'].str.title()\n",
    "#list(set(df_4['area_nome']))"
   ]
  },
  {
   "cell_type": "code",
   "execution_count": 95,
   "id": "005c8485-5baf-4bae-922d-a3667256b72a",
   "metadata": {},
   "outputs": [
    {
     "data": {
      "text/plain": [
       "['Coliformes totais',\n",
       " 'pH',\n",
       " 'Dióxido de Cloro (mg/L)',\n",
       " 'Cloro residual livre (mg/L)',\n",
       " 'Fluoreto (mg/L)',\n",
       " 'Cor (uH)',\n",
       " 'Escherichia coli',\n",
       " 'Cloro residual combinado (mg/L)',\n",
       " 'Turbidez (uT)',\n",
       " 'Bactérias Heterotróficas']"
      ]
     },
     "execution_count": 95,
     "metadata": {},
     "output_type": "execute_result"
    }
   ],
   "source": [
    "list(set(df_4['parametro']))"
   ]
  },
  {
   "cell_type": "code",
   "execution_count": 96,
   "id": "7a558668-01cb-496e-951b-31b60eca7e0e",
   "metadata": {},
   "outputs": [
    {
     "data": {
      "text/plain": [
       "['Em Laboratório', 'Em Campo', 'None']"
      ]
     },
     "execution_count": 96,
     "metadata": {},
     "output_type": "execute_result"
    }
   ],
   "source": [
    "df_4['analise_realizada'] = df_4['analise_realizada'].astype(str).str.replace('_', ' ')\n",
    "df_4['analise_realizada'] = df_4['analise_realizada'].astype(str).str.replace('LABORATORIO', 'Laboratório')\n",
    "df_4['analise_realizada'] = df_4['analise_realizada'].astype(str).str.replace('Laboratorio', 'Laboratório')\n",
    "df_4['analise_realizada'] = df_4['analise_realizada'].str.title()\n",
    "list(set(df_4['analise_realizada']))"
   ]
  },
  {
   "cell_type": "code",
   "execution_count": 97,
   "id": "28de2717-8384-4f98-be10-a877e00ca636",
   "metadata": {},
   "outputs": [],
   "source": [
    "# Multiplos Valores\n",
    "#list(set(df_4['providencia']))"
   ]
  },
  {
   "cell_type": "code",
   "execution_count": 98,
   "id": "983ecafa-73df-420c-8a6e-7f5d866a2486",
   "metadata": {},
   "outputs": [
    {
     "name": "stdout",
     "output_type": "stream",
     "text": [
      "<class 'pandas.core.frame.DataFrame'>\n",
      "Int64Index: 3215727 entries, 0 to 3215726\n",
      "Data columns (total 32 columns):\n",
      " #   Column                          Dtype         \n",
      "---  ------                          -----         \n",
      " 0   id_ibge                         int64         \n",
      " 1   n_amostra                       object        \n",
      " 2   coleta_motivo                   object        \n",
      " 3   forma_abastecimento_tipo        object        \n",
      " 4   forma_abastecimento_cod         object        \n",
      " 5   forma_abastecimento_nome        object        \n",
      " 6   instituicao_tipo                object        \n",
      " 7   instituicao_sigla               object        \n",
      " 8   instituicao_nome                object        \n",
      " 9   instituicao_cnpj                object        \n",
      " 10  escritorio_regional_local_nome  object        \n",
      " 11  escritorio_regional_local_cnpj  object        \n",
      " 12  eta_uta_nome                    object        \n",
      " 13  ano_referencia                  int64         \n",
      " 14  mes_referencia                  int64         \n",
      " 15  data_coleta                     datetime64[ns]\n",
      " 16  data_laudo                      object        \n",
      " 17  data_registro_sisagua           datetime64[ns]\n",
      " 18  coleta_procedencia              object        \n",
      " 19  coleta_ponto                    object        \n",
      " 20  local_descricao                 object        \n",
      " 21  zona                            object        \n",
      " 22  area_categoria                  object        \n",
      " 23  area_nome                       object        \n",
      " 24  local_tipo                      object        \n",
      " 25  local_nome                      object        \n",
      " 26  latitude                        float64       \n",
      " 27  longitude                       float64       \n",
      " 28  parametro                       object        \n",
      " 29  analise_realizada               object        \n",
      " 30  resultado                       object        \n",
      " 31  providencia                     object        \n",
      "dtypes: datetime64[ns](2), float64(2), int64(3), object(25)\n",
      "memory usage: 809.6+ MB\n"
     ]
    },
    {
     "data": {
      "text/html": [
       "<div>\n",
       "<style scoped>\n",
       "    .dataframe tbody tr th:only-of-type {\n",
       "        vertical-align: middle;\n",
       "    }\n",
       "\n",
       "    .dataframe tbody tr th {\n",
       "        vertical-align: top;\n",
       "    }\n",
       "\n",
       "    .dataframe thead th {\n",
       "        text-align: right;\n",
       "    }\n",
       "</style>\n",
       "<table border=\"1\" class=\"dataframe\">\n",
       "  <thead>\n",
       "    <tr style=\"text-align: right;\">\n",
       "      <th></th>\n",
       "      <th>id_ibge</th>\n",
       "      <th>n_amostra</th>\n",
       "      <th>coleta_motivo</th>\n",
       "      <th>forma_abastecimento_tipo</th>\n",
       "      <th>forma_abastecimento_cod</th>\n",
       "      <th>forma_abastecimento_nome</th>\n",
       "      <th>instituicao_tipo</th>\n",
       "      <th>instituicao_sigla</th>\n",
       "      <th>instituicao_nome</th>\n",
       "      <th>instituicao_cnpj</th>\n",
       "      <th>...</th>\n",
       "      <th>area_categoria</th>\n",
       "      <th>area_nome</th>\n",
       "      <th>local_tipo</th>\n",
       "      <th>local_nome</th>\n",
       "      <th>latitude</th>\n",
       "      <th>longitude</th>\n",
       "      <th>parametro</th>\n",
       "      <th>analise_realizada</th>\n",
       "      <th>resultado</th>\n",
       "      <th>providencia</th>\n",
       "    </tr>\n",
       "  </thead>\n",
       "  <tbody>\n",
       "    <tr>\n",
       "      <th>0</th>\n",
       "      <td>3500105</td>\n",
       "      <td>2160</td>\n",
       "      <td>Rotina</td>\n",
       "      <td>SAA</td>\n",
       "      <td>S350010000001</td>\n",
       "      <td>ADAMANTINA</td>\n",
       "      <td>Empresa Estadual</td>\n",
       "      <td>SABESP</td>\n",
       "      <td>COMPANHIA DE SANEAMENTO BASICO DO ESTADO DE SA...</td>\n",
       "      <td>43776517000180.0</td>\n",
       "      <td>...</td>\n",
       "      <td>Bairro</td>\n",
       "      <td>Jardim Dalphalo</td>\n",
       "      <td>None</td>\n",
       "      <td>None</td>\n",
       "      <td>NaN</td>\n",
       "      <td>NaN</td>\n",
       "      <td>Cor (uH)</td>\n",
       "      <td>None</td>\n",
       "      <td>2,00</td>\n",
       "      <td>None</td>\n",
       "    </tr>\n",
       "    <tr>\n",
       "      <th>1</th>\n",
       "      <td>3500105</td>\n",
       "      <td>1424</td>\n",
       "      <td>Rotina</td>\n",
       "      <td>SAA</td>\n",
       "      <td>S350010000001</td>\n",
       "      <td>ADAMANTINA</td>\n",
       "      <td>Empresa Estadual</td>\n",
       "      <td>SABESP</td>\n",
       "      <td>COMPANHIA DE SANEAMENTO BASICO DO ESTADO DE SA...</td>\n",
       "      <td>43776517000180.0</td>\n",
       "      <td>...</td>\n",
       "      <td>Bairro</td>\n",
       "      <td>Jardim Tipuanas</td>\n",
       "      <td>None</td>\n",
       "      <td>None</td>\n",
       "      <td>NaN</td>\n",
       "      <td>NaN</td>\n",
       "      <td>pH</td>\n",
       "      <td>None</td>\n",
       "      <td>7,60</td>\n",
       "      <td>None</td>\n",
       "    </tr>\n",
       "    <tr>\n",
       "      <th>2</th>\n",
       "      <td>3500105</td>\n",
       "      <td>3740</td>\n",
       "      <td>Rotina</td>\n",
       "      <td>SAA</td>\n",
       "      <td>S350010000001</td>\n",
       "      <td>ADAMANTINA</td>\n",
       "      <td>Empresa Estadual</td>\n",
       "      <td>SABESP</td>\n",
       "      <td>COMPANHIA DE SANEAMENTO BASICO DO ESTADO DE SA...</td>\n",
       "      <td>43776517000180.0</td>\n",
       "      <td>...</td>\n",
       "      <td>Bairro</td>\n",
       "      <td>Parque Jaraguá</td>\n",
       "      <td>None</td>\n",
       "      <td>None</td>\n",
       "      <td>NaN</td>\n",
       "      <td>NaN</td>\n",
       "      <td>Cloro residual livre (mg/L)</td>\n",
       "      <td>Em Campo</td>\n",
       "      <td>0,80</td>\n",
       "      <td>None</td>\n",
       "    </tr>\n",
       "    <tr>\n",
       "      <th>3</th>\n",
       "      <td>3500105</td>\n",
       "      <td>3251</td>\n",
       "      <td>Rotina</td>\n",
       "      <td>SAA</td>\n",
       "      <td>S350010000001</td>\n",
       "      <td>ADAMANTINA</td>\n",
       "      <td>Empresa Estadual</td>\n",
       "      <td>SABESP</td>\n",
       "      <td>COMPANHIA DE SANEAMENTO BASICO DO ESTADO DE SA...</td>\n",
       "      <td>43776517000180.0</td>\n",
       "      <td>...</td>\n",
       "      <td>Bairro</td>\n",
       "      <td>Parque Residencial Itamaraty</td>\n",
       "      <td>None</td>\n",
       "      <td>None</td>\n",
       "      <td>NaN</td>\n",
       "      <td>NaN</td>\n",
       "      <td>Turbidez (uT)</td>\n",
       "      <td>Em Laboratório</td>\n",
       "      <td>0,30</td>\n",
       "      <td>None</td>\n",
       "    </tr>\n",
       "    <tr>\n",
       "      <th>4</th>\n",
       "      <td>3500105</td>\n",
       "      <td>1423</td>\n",
       "      <td>Rotina</td>\n",
       "      <td>SAA</td>\n",
       "      <td>S350010000001</td>\n",
       "      <td>ADAMANTINA</td>\n",
       "      <td>Empresa Estadual</td>\n",
       "      <td>SABESP</td>\n",
       "      <td>COMPANHIA DE SANEAMENTO BASICO DO ESTADO DE SA...</td>\n",
       "      <td>43776517000180.0</td>\n",
       "      <td>...</td>\n",
       "      <td>Bairro</td>\n",
       "      <td>Jardim Aeroporto</td>\n",
       "      <td>None</td>\n",
       "      <td>None</td>\n",
       "      <td>NaN</td>\n",
       "      <td>NaN</td>\n",
       "      <td>Turbidez (uT)</td>\n",
       "      <td>Em Laboratório</td>\n",
       "      <td>0,20</td>\n",
       "      <td>None</td>\n",
       "    </tr>\n",
       "  </tbody>\n",
       "</table>\n",
       "<p>5 rows × 32 columns</p>\n",
       "</div>"
      ],
      "text/plain": [
       "   id_ibge n_amostra coleta_motivo forma_abastecimento_tipo  \\\n",
       "0  3500105      2160        Rotina                      SAA   \n",
       "1  3500105      1424        Rotina                      SAA   \n",
       "2  3500105      3740        Rotina                      SAA   \n",
       "3  3500105      3251        Rotina                      SAA   \n",
       "4  3500105      1423        Rotina                      SAA   \n",
       "\n",
       "  forma_abastecimento_cod forma_abastecimento_nome  instituicao_tipo  \\\n",
       "0           S350010000001               ADAMANTINA  Empresa Estadual   \n",
       "1           S350010000001               ADAMANTINA  Empresa Estadual   \n",
       "2           S350010000001               ADAMANTINA  Empresa Estadual   \n",
       "3           S350010000001               ADAMANTINA  Empresa Estadual   \n",
       "4           S350010000001               ADAMANTINA  Empresa Estadual   \n",
       "\n",
       "  instituicao_sigla                                   instituicao_nome  \\\n",
       "0            SABESP  COMPANHIA DE SANEAMENTO BASICO DO ESTADO DE SA...   \n",
       "1            SABESP  COMPANHIA DE SANEAMENTO BASICO DO ESTADO DE SA...   \n",
       "2            SABESP  COMPANHIA DE SANEAMENTO BASICO DO ESTADO DE SA...   \n",
       "3            SABESP  COMPANHIA DE SANEAMENTO BASICO DO ESTADO DE SA...   \n",
       "4            SABESP  COMPANHIA DE SANEAMENTO BASICO DO ESTADO DE SA...   \n",
       "\n",
       "   instituicao_cnpj  ... area_categoria                     area_nome  \\\n",
       "0  43776517000180.0  ...         Bairro               Jardim Dalphalo   \n",
       "1  43776517000180.0  ...         Bairro               Jardim Tipuanas   \n",
       "2  43776517000180.0  ...         Bairro                Parque Jaraguá   \n",
       "3  43776517000180.0  ...         Bairro  Parque Residencial Itamaraty   \n",
       "4  43776517000180.0  ...         Bairro              Jardim Aeroporto   \n",
       "\n",
       "  local_tipo  local_nome  latitude longitude                    parametro  \\\n",
       "0       None        None       NaN       NaN                     Cor (uH)   \n",
       "1       None        None       NaN       NaN                           pH   \n",
       "2       None        None       NaN       NaN  Cloro residual livre (mg/L)   \n",
       "3       None        None       NaN       NaN                Turbidez (uT)   \n",
       "4       None        None       NaN       NaN                Turbidez (uT)   \n",
       "\n",
       "  analise_realizada resultado providencia  \n",
       "0              None      2,00        None  \n",
       "1              None      7,60        None  \n",
       "2          Em Campo      0,80        None  \n",
       "3    Em Laboratório      0,30        None  \n",
       "4    Em Laboratório      0,20        None  \n",
       "\n",
       "[5 rows x 32 columns]"
      ]
     },
     "execution_count": 98,
     "metadata": {},
     "output_type": "execute_result"
    }
   ],
   "source": [
    "df_4.info()\n",
    "df_4.head()"
   ]
  },
  {
   "cell_type": "code",
   "execution_count": null,
   "id": "777d5e34-ff90-48dc-b2b2-91bfdeb98b5c",
   "metadata": {},
   "outputs": [],
   "source": []
  },
  {
   "cell_type": "code",
   "execution_count": null,
   "id": "211523f6-d845-495f-b7d1-f9d30ff13ea1",
   "metadata": {},
   "outputs": [],
   "source": []
  },
  {
   "cell_type": "code",
   "execution_count": null,
   "id": "5216237a-3e4b-44c5-81b6-b0f884199530",
   "metadata": {},
   "outputs": [],
   "source": []
  },
  {
   "cell_type": "markdown",
   "id": "8878b7cd-19fb-48d4-813f-1255d6cf6a2f",
   "metadata": {},
   "source": [
    "<br>\n",
    "\n",
    "### Instituições e Formas de Abastecimento"
   ]
  },
  {
   "cell_type": "code",
   "execution_count": null,
   "id": "7f2ad1c8-9d79-4788-96ef-e84117498579",
   "metadata": {},
   "outputs": [],
   "source": [
    "list_cols = [\n",
    "    'forma_abastecimento_cod',\n",
    "    'forma_abastecimento_tipo',\n",
    "    'forma_abastecimento_nome',\n",
    "    'instituicao_tipo',\n",
    "    'instituicao_sigla',\n",
    "    'instituicao_nome',\n",
    "    'instituicao_cnpj',\n",
    "    'escritorio_regional_local_nome',\n",
    "    'escritorio_regional_local_cnpj',\n",
    "    'eta_uta_nome',\n",
    "    'ano_referencia',\n",
    "    'id_ibge',\n",
    "]\n",
    "df_4_2 = df_4[list_cols].drop_duplicates()\n",
    "df_4_2.reset_index(drop=True, inplace=True)\n",
    "df_4_2.info()\n",
    "df_4_2.head()"
   ]
  },
  {
   "cell_type": "code",
   "execution_count": null,
   "id": "2c8a74f1-0d7a-4de3-9272-02057c49d79c",
   "metadata": {},
   "outputs": [],
   "source": []
  },
  {
   "cell_type": "code",
   "execution_count": null,
   "id": "f0ccaea2-e206-4443-bdc7-9e5c8c270e4a",
   "metadata": {},
   "outputs": [],
   "source": []
  },
  {
   "cell_type": "code",
   "execution_count": null,
   "id": "f5a94650-7951-4742-8c00-53a2177787ca",
   "metadata": {},
   "outputs": [],
   "source": []
  },
  {
   "cell_type": "markdown",
   "id": "ae014248-3348-46ad-80b0-f8cf104be0f5",
   "metadata": {},
   "source": [
    "<br>\n",
    "\n",
    "## Demais Parametros"
   ]
  },
  {
   "cell_type": "code",
   "execution_count": 45,
   "id": "4faf3313-793d-48fc-ac95-3bb7033f2f9c",
   "metadata": {},
   "outputs": [
    {
     "name": "stdout",
     "output_type": "stream",
     "text": [
      "<class 'pandas.core.frame.DataFrame'>\n",
      "Int64Index: 33079 entries, 0 to 2\n",
      "Data columns (total 38 columns):\n",
      " #   Column                          Non-Null Count  Dtype   \n",
      "---  ------                          --------------  -----   \n",
      " 0   regiao_geografica               33079 non-null  object  \n",
      " 1   regional_saude                  33079 non-null  object  \n",
      " 2   municipio                       33079 non-null  object  \n",
      " 3   n_amostra                       33079 non-null  object  \n",
      " 4   coleta_motivo                   33079 non-null  object  \n",
      " 5   forma_abastecimento_tipo        33079 non-null  object  \n",
      " 6   forma_abastecimento_cod         33079 non-null  object  \n",
      " 7   forma_abastecimento_nome        33079 non-null  object  \n",
      " 8   instituicao_tipo                32704 non-null  object  \n",
      " 9   instituicao_sigla               18752 non-null  object  \n",
      " 10  instituicao_nome                32704 non-null  object  \n",
      " 11  instituicao_cnpj                32704 non-null  object  \n",
      " 12  escritorio_regional_local_nome  18752 non-null  object  \n",
      " 13  escritorio_regional_local_cnpj  18752 non-null  object  \n",
      " 14  eta_uta_nome                    493 non-null    object  \n",
      " 15  ano_referencia                  33079 non-null  object  \n",
      " 16  mes_referencia                  33079 non-null  object  \n",
      " 17  data_coleta                     33079 non-null  object  \n",
      " 18  data_laudo                      33079 non-null  object  \n",
      " 19  data_registro_sisagua           33079 non-null  object  \n",
      " 20  coleta_procedencia              33079 non-null  object  \n",
      " 21  coleta_ponto                    24974 non-null  object  \n",
      " 22  local_descricao                 32449 non-null  object  \n",
      " 23  zona                            31773 non-null  object  \n",
      " 24  area_categoria                  31773 non-null  object  \n",
      " 25  area_nome                       31773 non-null  object  \n",
      " 26  local_tipo                      699 non-null    object  \n",
      " 27  local_nome                      699 non-null    object  \n",
      " 28  latitude                        1142 non-null   object  \n",
      " 29  longitude                       1142 non-null   object  \n",
      " 30  grupo_parametros                33079 non-null  object  \n",
      " 31  parametro                       33079 non-null  object  \n",
      " 32  data_analise                    33079 non-null  object  \n",
      " 33  lim_deteccao                    61 non-null     object  \n",
      " 34  lim_quantificacao               2290 non-null   object  \n",
      " 35  resultado                       33079 non-null  object  \n",
      " 36  uf                              33079 non-null  category\n",
      " 37  id_ibge                         33079 non-null  category\n",
      "dtypes: category(2), object(36)\n",
      "memory usage: 9.4+ MB\n"
     ]
    },
    {
     "data": {
      "text/html": [
       "<div>\n",
       "<style scoped>\n",
       "    .dataframe tbody tr th:only-of-type {\n",
       "        vertical-align: middle;\n",
       "    }\n",
       "\n",
       "    .dataframe tbody tr th {\n",
       "        vertical-align: top;\n",
       "    }\n",
       "\n",
       "    .dataframe thead th {\n",
       "        text-align: right;\n",
       "    }\n",
       "</style>\n",
       "<table border=\"1\" class=\"dataframe\">\n",
       "  <thead>\n",
       "    <tr style=\"text-align: right;\">\n",
       "      <th></th>\n",
       "      <th>regiao_geografica</th>\n",
       "      <th>regional_saude</th>\n",
       "      <th>municipio</th>\n",
       "      <th>n_amostra</th>\n",
       "      <th>coleta_motivo</th>\n",
       "      <th>forma_abastecimento_tipo</th>\n",
       "      <th>forma_abastecimento_cod</th>\n",
       "      <th>forma_abastecimento_nome</th>\n",
       "      <th>instituicao_tipo</th>\n",
       "      <th>instituicao_sigla</th>\n",
       "      <th>...</th>\n",
       "      <th>latitude</th>\n",
       "      <th>longitude</th>\n",
       "      <th>grupo_parametros</th>\n",
       "      <th>parametro</th>\n",
       "      <th>data_analise</th>\n",
       "      <th>lim_deteccao</th>\n",
       "      <th>lim_quantificacao</th>\n",
       "      <th>resultado</th>\n",
       "      <th>uf</th>\n",
       "      <th>id_ibge</th>\n",
       "    </tr>\n",
       "  </thead>\n",
       "  <tbody>\n",
       "    <tr>\n",
       "      <th>0</th>\n",
       "      <td>SUDESTE</td>\n",
       "      <td>GVS XX -  PIRACICABA</td>\n",
       "      <td>AGUAS DE SAO PEDRO</td>\n",
       "      <td>1536116</td>\n",
       "      <td>Rotina</td>\n",
       "      <td>SAA</td>\n",
       "      <td>S350060000002</td>\n",
       "      <td>ETA SABESP</td>\n",
       "      <td>Empresa Estadual</td>\n",
       "      <td>SABESP</td>\n",
       "      <td>...</td>\n",
       "      <td>None</td>\n",
       "      <td>None</td>\n",
       "      <td>Agrotóxicos</td>\n",
       "      <td>Tebuconazol - VMP: 180,0 µg/L</td>\n",
       "      <td>03/07/2016</td>\n",
       "      <td>None</td>\n",
       "      <td>None</td>\n",
       "      <td>0,2</td>\n",
       "      <td>SP</td>\n",
       "      <td>350060</td>\n",
       "    </tr>\n",
       "    <tr>\n",
       "      <th>1</th>\n",
       "      <td>SUDESTE</td>\n",
       "      <td>GVS XX -  PIRACICABA</td>\n",
       "      <td>AGUAS DE SAO PEDRO</td>\n",
       "      <td>1536116</td>\n",
       "      <td>Rotina</td>\n",
       "      <td>SAA</td>\n",
       "      <td>S350060000002</td>\n",
       "      <td>ETA SABESP</td>\n",
       "      <td>Empresa Estadual</td>\n",
       "      <td>SABESP</td>\n",
       "      <td>...</td>\n",
       "      <td>None</td>\n",
       "      <td>None</td>\n",
       "      <td>Parâmetros Organolépticos</td>\n",
       "      <td>1,4 Diclorobenzeno - VMP: 0,03 mg/L</td>\n",
       "      <td>11/07/2016</td>\n",
       "      <td>None</td>\n",
       "      <td>None</td>\n",
       "      <td>0,001</td>\n",
       "      <td>SP</td>\n",
       "      <td>350060</td>\n",
       "    </tr>\n",
       "    <tr>\n",
       "      <th>2</th>\n",
       "      <td>SUDESTE</td>\n",
       "      <td>GVS XX -  PIRACICABA</td>\n",
       "      <td>AGUAS DE SAO PEDRO</td>\n",
       "      <td>942716</td>\n",
       "      <td>Rotina</td>\n",
       "      <td>SAA</td>\n",
       "      <td>S350060000002</td>\n",
       "      <td>ETA SABESP</td>\n",
       "      <td>Empresa Estadual</td>\n",
       "      <td>SABESP</td>\n",
       "      <td>...</td>\n",
       "      <td>None</td>\n",
       "      <td>None</td>\n",
       "      <td>Produtos secundários de desinfecção</td>\n",
       "      <td>2, 4, 6 Triclorofenol - VMP: 0,2 mg/L</td>\n",
       "      <td>12/04/2016</td>\n",
       "      <td>None</td>\n",
       "      <td>None</td>\n",
       "      <td>0,01</td>\n",
       "      <td>SP</td>\n",
       "      <td>350060</td>\n",
       "    </tr>\n",
       "    <tr>\n",
       "      <th>3</th>\n",
       "      <td>SUDESTE</td>\n",
       "      <td>GVS XX -  PIRACICABA</td>\n",
       "      <td>AGUAS DE SAO PEDRO</td>\n",
       "      <td>1536116</td>\n",
       "      <td>Rotina</td>\n",
       "      <td>SAA</td>\n",
       "      <td>S350060000002</td>\n",
       "      <td>ETA SABESP</td>\n",
       "      <td>Empresa Estadual</td>\n",
       "      <td>SABESP</td>\n",
       "      <td>...</td>\n",
       "      <td>None</td>\n",
       "      <td>None</td>\n",
       "      <td>Parâmetros Organolépticos</td>\n",
       "      <td>Xilenos - VMP: 0,3 mg/L</td>\n",
       "      <td>11/07/2016</td>\n",
       "      <td>None</td>\n",
       "      <td>None</td>\n",
       "      <td>0,001</td>\n",
       "      <td>SP</td>\n",
       "      <td>350060</td>\n",
       "    </tr>\n",
       "    <tr>\n",
       "      <th>4</th>\n",
       "      <td>SUDESTE</td>\n",
       "      <td>GVS XX -  PIRACICABA</td>\n",
       "      <td>AGUAS DE SAO PEDRO</td>\n",
       "      <td>1536116</td>\n",
       "      <td>Rotina</td>\n",
       "      <td>SAA</td>\n",
       "      <td>S350060000002</td>\n",
       "      <td>ETA SABESP</td>\n",
       "      <td>Empresa Estadual</td>\n",
       "      <td>SABESP</td>\n",
       "      <td>...</td>\n",
       "      <td>None</td>\n",
       "      <td>None</td>\n",
       "      <td>Agrotóxicos</td>\n",
       "      <td>Clordano - VMP: 0,2 µg/L</td>\n",
       "      <td>04/07/2016</td>\n",
       "      <td>None</td>\n",
       "      <td>None</td>\n",
       "      <td>0,01</td>\n",
       "      <td>SP</td>\n",
       "      <td>350060</td>\n",
       "    </tr>\n",
       "  </tbody>\n",
       "</table>\n",
       "<p>5 rows × 38 columns</p>\n",
       "</div>"
      ],
      "text/plain": [
       "  regiao_geografica        regional_saude           municipio n_amostra  \\\n",
       "0           SUDESTE  GVS XX -  PIRACICABA  AGUAS DE SAO PEDRO   1536116   \n",
       "1           SUDESTE  GVS XX -  PIRACICABA  AGUAS DE SAO PEDRO   1536116   \n",
       "2           SUDESTE  GVS XX -  PIRACICABA  AGUAS DE SAO PEDRO    942716   \n",
       "3           SUDESTE  GVS XX -  PIRACICABA  AGUAS DE SAO PEDRO   1536116   \n",
       "4           SUDESTE  GVS XX -  PIRACICABA  AGUAS DE SAO PEDRO   1536116   \n",
       "\n",
       "  coleta_motivo forma_abastecimento_tipo forma_abastecimento_cod  \\\n",
       "0        Rotina                      SAA           S350060000002   \n",
       "1        Rotina                      SAA           S350060000002   \n",
       "2        Rotina                      SAA           S350060000002   \n",
       "3        Rotina                      SAA           S350060000002   \n",
       "4        Rotina                      SAA           S350060000002   \n",
       "\n",
       "  forma_abastecimento_nome  instituicao_tipo instituicao_sigla  ... latitude  \\\n",
       "0               ETA SABESP  Empresa Estadual            SABESP  ...     None   \n",
       "1               ETA SABESP  Empresa Estadual            SABESP  ...     None   \n",
       "2               ETA SABESP  Empresa Estadual            SABESP  ...     None   \n",
       "3               ETA SABESP  Empresa Estadual            SABESP  ...     None   \n",
       "4               ETA SABESP  Empresa Estadual            SABESP  ...     None   \n",
       "\n",
       "  longitude                     grupo_parametros  \\\n",
       "0      None                          Agrotóxicos   \n",
       "1      None            Parâmetros Organolépticos   \n",
       "2      None  Produtos secundários de desinfecção   \n",
       "3      None            Parâmetros Organolépticos   \n",
       "4      None                          Agrotóxicos   \n",
       "\n",
       "                               parametro data_analise lim_deteccao  \\\n",
       "0          Tebuconazol - VMP: 180,0 µg/L   03/07/2016         None   \n",
       "1    1,4 Diclorobenzeno - VMP: 0,03 mg/L   11/07/2016         None   \n",
       "2  2, 4, 6 Triclorofenol - VMP: 0,2 mg/L   12/04/2016         None   \n",
       "3                Xilenos - VMP: 0,3 mg/L   11/07/2016         None   \n",
       "4               Clordano - VMP: 0,2 µg/L   04/07/2016         None   \n",
       "\n",
       "  lim_quantificacao resultado  uf id_ibge  \n",
       "0              None       0,2  SP  350060  \n",
       "1              None     0,001  SP  350060  \n",
       "2              None      0,01  SP  350060  \n",
       "3              None     0,001  SP  350060  \n",
       "4              None      0,01  SP  350060  \n",
       "\n",
       "[5 rows x 38 columns]"
      ]
     },
     "execution_count": 45,
     "metadata": {},
     "output_type": "execute_result"
    }
   ],
   "source": [
    "# Input\n",
    "filename = os.path.join(input_path_parquet_partitioned, 'vigilancia', 'vigilancia_demais_parametros')\n",
    "\n",
    "# Add Filter to Filename\n",
    "filter_path = os.path.join('Uf={}'.format(estado), 'Código Ibge={}/*.parquet'.format(cod_ibge_ajustado))\n",
    "filename = os.path.join(filename, filter_path)\n",
    "\n",
    "# Read Dataframes\n",
    "df = dd.read_parquet(\n",
    "    filename,\n",
    "    filters=[[('Uf', '==', estado)]],\n",
    ")\n",
    "\n",
    "# Calculate\n",
    "df_5 = df.compute()\n",
    "df_5 = rename_sisagua(df_5)\n",
    "df_5.info()\n",
    "df_5.head()"
   ]
  },
  {
   "cell_type": "code",
   "execution_count": 46,
   "id": "bcfd2486-195e-417b-8ae1-8573f7977c6f",
   "metadata": {},
   "outputs": [
    {
     "data": {
      "text/plain": [
       "['regiao_geografica',\n",
       " 'regional_saude',\n",
       " 'municipio',\n",
       " 'n_amostra',\n",
       " 'coleta_motivo',\n",
       " 'forma_abastecimento_tipo',\n",
       " 'forma_abastecimento_cod',\n",
       " 'forma_abastecimento_nome',\n",
       " 'instituicao_tipo',\n",
       " 'instituicao_sigla',\n",
       " 'instituicao_nome',\n",
       " 'instituicao_cnpj',\n",
       " 'escritorio_regional_local_nome',\n",
       " 'escritorio_regional_local_cnpj',\n",
       " 'eta_uta_nome',\n",
       " 'ano_referencia',\n",
       " 'mes_referencia',\n",
       " 'data_coleta',\n",
       " 'data_laudo',\n",
       " 'data_registro_sisagua',\n",
       " 'coleta_procedencia',\n",
       " 'coleta_ponto',\n",
       " 'local_descricao',\n",
       " 'zona',\n",
       " 'area_categoria',\n",
       " 'area_nome',\n",
       " 'local_tipo',\n",
       " 'local_nome',\n",
       " 'latitude',\n",
       " 'longitude',\n",
       " 'grupo_parametros',\n",
       " 'parametro',\n",
       " 'data_analise',\n",
       " 'lim_deteccao',\n",
       " 'lim_quantificacao',\n",
       " 'resultado',\n",
       " 'uf',\n",
       " 'id_ibge']"
      ]
     },
     "execution_count": 46,
     "metadata": {},
     "output_type": "execute_result"
    }
   ],
   "source": [
    "list(df_5.columns)"
   ]
  },
  {
   "cell_type": "code",
   "execution_count": 47,
   "id": "d7b7f492-add9-4cac-a0f1-34e696703d0d",
   "metadata": {},
   "outputs": [],
   "source": [
    "df_5.drop(\n",
    "    [\n",
    "        'regiao_geografica',\n",
    "        'regional_saude',\n",
    "        'municipio',\n",
    "        # 'n_amostra',\n",
    "        # 'coleta_motivo',\n",
    "        # 'forma_abastecimento_tipo',\n",
    "        # 'forma_abastecimento_cod',\n",
    "        # 'forma_abastecimento_nome',\n",
    "        'instituicao_tipo',\n",
    "        'instituicao_sigla',\n",
    "        'instituicao_nome',\n",
    "        'instituicao_cnpj',\n",
    "        'escritorio_regional_local_nome',\n",
    "        'escritorio_regional_local_cnpj',\n",
    "        'eta_uta_nome',\n",
    "        # 'ano_referencia',\n",
    "        # 'mes_referencia',\n",
    "        # 'data_coleta',\n",
    "        # 'data_laudo',\n",
    "        # 'data_registro_sisagua',\n",
    "        # 'coleta_procedencia',\n",
    "        # 'coleta_ponto',\n",
    "        # 'local_descricao',\n",
    "        # 'zona',\n",
    "        # 'area_categoria',\n",
    "        # 'area_nome',\n",
    "        # 'local_tipo',\n",
    "        # 'local_nome',\n",
    "        # 'latitude',\n",
    "        # 'longitude',\n",
    "        # 'grupo_parametros',\n",
    "        # 'parametro',\n",
    "        # 'data_analise',\n",
    "        # 'lim_deteccao',\n",
    "        # 'lim_quantificacao',\n",
    "        # 'resultado',\n",
    "        'uf',\n",
    "        # 'id_ibge'\n",
    "    ],\n",
    "    inplace=True,\n",
    "    axis=1,\n",
    "    errors='ignore',    \n",
    ")"
   ]
  },
  {
   "cell_type": "code",
   "execution_count": 48,
   "id": "707e4cff-18a7-4bc6-aa7d-85ecabcac381",
   "metadata": {},
   "outputs": [],
   "source": [
    "df_5['id_ibge'] = df_5['id_ibge'].astype(int)\n",
    "df_5 = convert_6d_to_7d(df_5)"
   ]
  },
  {
   "cell_type": "code",
   "execution_count": 49,
   "id": "32f98275-0b4e-4eb2-8c49-eaa4e9738bbb",
   "metadata": {},
   "outputs": [
    {
     "data": {
      "text/plain": [
       "{2014, 2015, 2016, 2017, 2018, 2019, 2020, 2021}"
      ]
     },
     "execution_count": 49,
     "metadata": {},
     "output_type": "execute_result"
    }
   ],
   "source": [
    "df_5['ano_referencia'] = df_5['ano_referencia'].astype(int)\n",
    "set(df_5['ano_referencia'])"
   ]
  },
  {
   "cell_type": "code",
   "execution_count": 50,
   "id": "88ff2f73-9064-43a7-97b9-8d1fdf581f83",
   "metadata": {},
   "outputs": [
    {
     "data": {
      "text/plain": [
       "{1, 2, 3, 4, 5, 6, 7, 8, 9, 10, 11, 12}"
      ]
     },
     "execution_count": 50,
     "metadata": {},
     "output_type": "execute_result"
    }
   ],
   "source": [
    "df_5['mes_referencia'] = df_5['mes_referencia'].astype(int)\n",
    "set(df_5['mes_referencia'])"
   ]
  },
  {
   "cell_type": "code",
   "execution_count": 51,
   "id": "9fe1a455-cd82-4c69-86e9-bf8f55750a5f",
   "metadata": {},
   "outputs": [],
   "source": [
    "df_5['data_coleta'] = pd.to_datetime(df_5['data_coleta'])\n",
    "df_5['data_laudo'] = pd.to_datetime(df_5['data_laudo'])\n",
    "df_5['data_registro_sisagua'] = pd.to_datetime(df_5['data_registro_sisagua'])"
   ]
  },
  {
   "cell_type": "code",
   "execution_count": 57,
   "id": "59e15a0b-5d02-4dd3-b837-0ccc693e429a",
   "metadata": {},
   "outputs": [
    {
     "data": {
      "text/plain": [
       "{'Estação De Tratamento De Água',\n",
       " 'Intra-Domiciliar / Intra-Predial',\n",
       " 'Ponto De Captação(Água Superficial Ou Subterrânea)',\n",
       " 'Sistema De Distribuição',\n",
       " 'Solução Alternativa'}"
      ]
     },
     "execution_count": 57,
     "metadata": {},
     "output_type": "execute_result"
    }
   ],
   "source": [
    "df_5['coleta_procedencia'] = df_5['coleta_procedencia'].str.title()\n",
    "set(df_5['coleta_procedencia'])"
   ]
  },
  {
   "cell_type": "code",
   "execution_count": 58,
   "id": "a31d0087-908c-4cfb-998f-1075b8442582",
   "metadata": {},
   "outputs": [
    {
     "data": {
      "text/plain": [
       "{'Bebedouro',\n",
       " 'Cavalete/Hidrômetro',\n",
       " None,\n",
       " 'Pós-Filtração/Pré-Desinfecção',\n",
       " 'Reservatório De Distribuição',\n",
       " 'Reservatório De Água',\n",
       " 'Saída De Tratamento/Pós-Desinfecção',\n",
       " 'Torneira Antes Da Reservação',\n",
       " 'Torneira Após A Reservação',\n",
       " 'Água Pós-Filtração/Pré-Desinfecção'}"
      ]
     },
     "execution_count": 58,
     "metadata": {},
     "output_type": "execute_result"
    }
   ],
   "source": [
    "df_5['coleta_ponto'] = df_5['coleta_ponto'].str.title()\n",
    "set(df_5['coleta_ponto'])"
   ]
  },
  {
   "cell_type": "code",
   "execution_count": 59,
   "id": "eb44a8a6-a474-402f-8107-486c45191f5c",
   "metadata": {},
   "outputs": [
    {
     "data": {
      "text/plain": [
       "{'1,1 Dicloroeteno - VMP: 30,0 µg/L',\n",
       " '1,2 Diclorobenzeno - VMP: 0,01 mg/L',\n",
       " '1,2 Dicloroetano - VMP: 10,0 µg/L',\n",
       " '1,2 Dicloroeteno (cis + trans) - VMP: 50,0 µg/L',\n",
       " '1,4 Diclorobenzeno - VMP: 0,03 mg/L',\n",
       " '2, 4, 6 Triclorofenol - VMP: 0,2 mg/L',\n",
       " '2,4 D + 2,4,5 T - VMP: 30,0 µg/L',\n",
       " 'Acrilamida - VMP: 0,5 µg/L',\n",
       " 'Alaclor - VMP: 20,0 µg/L',\n",
       " 'Aldicarbe + Aldicarbesulfona + Aldicarbesulfóxido - VMP: 10,0 µg/L',\n",
       " 'Aldrin + Dieldrin - VMP: 0,03 µg/L',\n",
       " 'Alumínio - VMP: 0,2 mg/L',\n",
       " 'Amônia (como NH3) - VMP: 1,5 mg/L',\n",
       " 'Antimônio - VMP: 0,005 mg/L',\n",
       " 'Arsênio - VMP: 0,01 mg/L',\n",
       " 'Atividade alfa total - VMP: 0,5 Bq/L',\n",
       " 'Atividade beta total - VMP: 1,0 Bq/L',\n",
       " 'Atrazina - VMP: 2,0 µg/L',\n",
       " 'Benzeno - VMP: 5,0 µg/L',\n",
       " 'Benzo(a)pireno - VMP: 0,7 µg/L',\n",
       " 'Bromato - VMP: 0,01 mg/L',\n",
       " 'Bário - VMP: 0,7 mg/L',\n",
       " 'Carbendazim + benomil - VMP: 120,0 µg/L',\n",
       " 'Carbofurano - VMP: 7,0 µg/L',\n",
       " 'Chumbo - VMP: 0,01 mg/L',\n",
       " 'Cianeto - VMP: 0,07 mg/L',\n",
       " 'Clordano - VMP: 0,2 µg/L',\n",
       " 'Cloreto - VMP: 250,0 mg/L',\n",
       " 'Cloreto de Vinila - VMP: 2,0 µg/L',\n",
       " 'Clorito - VMP: 1,0 mg/L',\n",
       " 'Clorpirifós + clorpirifós-oxon - VMP: 30,0 µg/L',\n",
       " 'Cobre - VMP: 2,0 mg/L',\n",
       " 'Cor Aparente - VMP: 15,0 mg/L',\n",
       " 'Cromo - VMP: 0,05 mg/L',\n",
       " 'Cádmio - VMP: 0,005 mg/L',\n",
       " 'DDT + DDD + DDE - VMP: 1,0 µg/L',\n",
       " 'Di (2-etilhexil) ftalato - VMP: 8,0 µg/L',\n",
       " 'Diclorometano - VMP: 20,0 µg/L',\n",
       " 'Diuron - VMP: 90,0 µg/L',\n",
       " 'Dureza total - VMP: 500,0 mg/L',\n",
       " 'Endossulfan (?, ß e sais) - VMP: 20,0 µg/L',\n",
       " 'Endrin - VMP: 0,6 µg/L',\n",
       " 'Estireno - VMP: 20,0 µg/L',\n",
       " 'Etilbenzeno - VMP: 0,2 mg/L',\n",
       " 'Ferro - VMP: 0,3 mg/L',\n",
       " 'Glifosato + AMPA - VMP: 500,0 µg/L',\n",
       " 'Gosto e odor - VMP: 6,0 Intensidade',\n",
       " 'Lindano (gama HCH) - VMP: 2,0 µg/L',\n",
       " 'Mancozebe - VMP: 180,0 µg/L',\n",
       " 'Manganês - VMP: 0,1 mg/L',\n",
       " 'Mercúrio - VMP: 0,001 mg/L',\n",
       " 'Metamidofós - VMP: 12,0 µg/L',\n",
       " 'Metolacloro - VMP: 10,0 µg/L',\n",
       " 'Molinato - VMP: 6,0 µg/L',\n",
       " 'Monoclorobenzeno - VMP: 0,12 mg/L',\n",
       " 'Nitrato (como N) - VMP: 10,0 mg/L',\n",
       " 'Nitrito (como N) - VMP: 1,0 mg/L',\n",
       " 'Níquel - VMP: 0,07 mg/L',\n",
       " 'Parationa Metílica - VMP: 9,0 µg/L',\n",
       " 'Pendimentalina - VMP: 20,0 µg/L',\n",
       " 'Pentaclorofenol - VMP: 9,0 µg/L',\n",
       " 'Permetrina - VMP: 20,0 µg/L',\n",
       " 'Profenofós - VMP: 60,0 µg/L',\n",
       " 'Rádio-226 - VMP: 1,0 Bq/L',\n",
       " 'Rádio-228 - VMP: 0,1 Bq/L',\n",
       " 'Selênio - VMP: 0,01 mg/L',\n",
       " 'Simazina - VMP: 2,0 µg/L',\n",
       " 'Sulfato - VMP: 250,0 mg/L',\n",
       " 'Sulfeto de hidrogênio - VMP: 0,1 mg/L',\n",
       " 'Surfactantes (como LAS) - VMP: 0,5 mg/L',\n",
       " 'Sódio - VMP: 200,0 mg/L',\n",
       " 'Sólidos Dissolvidos totais - VMP: 1000,0 mg/L',\n",
       " 'Tebuconazol - VMP: 180,0 µg/L',\n",
       " 'Terbufós - VMP: 1,2 µg/L',\n",
       " 'Tetracloreto de Carbono - VMP: 4,0 µg/L',\n",
       " 'Tetracloroeteno - VMP: 40,0 µg/L',\n",
       " 'Tolueno - VMP: 0,17 mg/L',\n",
       " 'Triclorobenzenos - VMP: 20,0 µg/L',\n",
       " 'Tricloroeteno - VMP: 20,0 µg/L',\n",
       " 'Trifluralina - VMP: 20,0 µg/L',\n",
       " 'Trihalometanos Total - VMP: 0,1 mg/L',\n",
       " 'Urânio - VMP: 0,03 mg/L',\n",
       " 'Xilenos - VMP: 0,3 mg/L',\n",
       " 'Zinco - VMP: 5,0 mg/L',\n",
       " 'Ácidos haloacéticos total - VMP: 0,08 mg/L'}"
      ]
     },
     "execution_count": 59,
     "metadata": {},
     "output_type": "execute_result"
    }
   ],
   "source": [
    "set(df_5['parametro'])"
   ]
  },
  {
   "cell_type": "code",
   "execution_count": 60,
   "id": "ef1fd354-9a6d-49c8-8376-89b814cc49a2",
   "metadata": {},
   "outputs": [],
   "source": [
    "df_5.loc[:, 'resultado'] = df_5['resultado'].astype(str).str.replace(',', '.')\n",
    "df_5.loc[:, 'resultado'] = pd.to_numeric(\n",
    "    df_5['resultado'],\n",
    "    errors='coerce'\n",
    ")\n",
    "# TODO: Ajustar correções dos resultados\n",
    "#set(df_5['resultado'])"
   ]
  },
  {
   "cell_type": "code",
   "execution_count": 61,
   "id": "fa60c624-ec18-4568-b0ef-9755bc76abe9",
   "metadata": {},
   "outputs": [],
   "source": [
    "df_5 = df_5.dropna(axis=0, subset=['resultado'])"
   ]
  },
  {
   "cell_type": "code",
   "execution_count": 62,
   "id": "b3bb483a-e697-4d03-9721-f56123a6329b",
   "metadata": {},
   "outputs": [
    {
     "name": "stdout",
     "output_type": "stream",
     "text": [
      "<class 'pandas.core.frame.DataFrame'>\n",
      "Int64Index: 30768 entries, 0 to 33078\n",
      "Data columns (total 27 columns):\n",
      " #   Column                    Non-Null Count  Dtype         \n",
      "---  ------                    --------------  -----         \n",
      " 0   id_ibge                   30768 non-null  int64         \n",
      " 1   n_amostra                 30768 non-null  object        \n",
      " 2   coleta_motivo             30768 non-null  object        \n",
      " 3   forma_abastecimento_tipo  30768 non-null  object        \n",
      " 4   forma_abastecimento_cod   30768 non-null  object        \n",
      " 5   forma_abastecimento_nome  30768 non-null  object        \n",
      " 6   ano_referencia            30768 non-null  int64         \n",
      " 7   mes_referencia            30768 non-null  int64         \n",
      " 8   data_coleta               30768 non-null  datetime64[ns]\n",
      " 9   data_laudo                30768 non-null  datetime64[ns]\n",
      " 10  data_registro_sisagua     30768 non-null  datetime64[ns]\n",
      " 11  coleta_procedencia        30768 non-null  object        \n",
      " 12  coleta_ponto              24321 non-null  object        \n",
      " 13  local_descricao           30168 non-null  object        \n",
      " 14  zona                      30062 non-null  object        \n",
      " 15  area_categoria            30062 non-null  object        \n",
      " 16  area_nome                 30062 non-null  object        \n",
      " 17  local_tipo                600 non-null    object        \n",
      " 18  local_nome                600 non-null    object        \n",
      " 19  latitude                  949 non-null    object        \n",
      " 20  longitude                 949 non-null    object        \n",
      " 21  grupo_parametros          30768 non-null  object        \n",
      " 22  parametro                 30768 non-null  object        \n",
      " 23  data_analise              30768 non-null  object        \n",
      " 24  lim_deteccao              52 non-null     object        \n",
      " 25  lim_quantificacao         1097 non-null   object        \n",
      " 26  resultado                 30768 non-null  float64       \n",
      "dtypes: datetime64[ns](3), float64(1), int64(3), object(20)\n",
      "memory usage: 6.6+ MB\n"
     ]
    },
    {
     "data": {
      "text/html": [
       "<div>\n",
       "<style scoped>\n",
       "    .dataframe tbody tr th:only-of-type {\n",
       "        vertical-align: middle;\n",
       "    }\n",
       "\n",
       "    .dataframe tbody tr th {\n",
       "        vertical-align: top;\n",
       "    }\n",
       "\n",
       "    .dataframe thead th {\n",
       "        text-align: right;\n",
       "    }\n",
       "</style>\n",
       "<table border=\"1\" class=\"dataframe\">\n",
       "  <thead>\n",
       "    <tr style=\"text-align: right;\">\n",
       "      <th></th>\n",
       "      <th>id_ibge</th>\n",
       "      <th>n_amostra</th>\n",
       "      <th>coleta_motivo</th>\n",
       "      <th>forma_abastecimento_tipo</th>\n",
       "      <th>forma_abastecimento_cod</th>\n",
       "      <th>forma_abastecimento_nome</th>\n",
       "      <th>ano_referencia</th>\n",
       "      <th>mes_referencia</th>\n",
       "      <th>data_coleta</th>\n",
       "      <th>data_laudo</th>\n",
       "      <th>...</th>\n",
       "      <th>local_tipo</th>\n",
       "      <th>local_nome</th>\n",
       "      <th>latitude</th>\n",
       "      <th>longitude</th>\n",
       "      <th>grupo_parametros</th>\n",
       "      <th>parametro</th>\n",
       "      <th>data_analise</th>\n",
       "      <th>lim_deteccao</th>\n",
       "      <th>lim_quantificacao</th>\n",
       "      <th>resultado</th>\n",
       "    </tr>\n",
       "  </thead>\n",
       "  <tbody>\n",
       "    <tr>\n",
       "      <th>0</th>\n",
       "      <td>3500600</td>\n",
       "      <td>1536116</td>\n",
       "      <td>Rotina</td>\n",
       "      <td>SAA</td>\n",
       "      <td>S350060000002</td>\n",
       "      <td>ETA SABESP</td>\n",
       "      <td>2016</td>\n",
       "      <td>6</td>\n",
       "      <td>2016-06-14</td>\n",
       "      <td>2016-08-02</td>\n",
       "      <td>...</td>\n",
       "      <td>None</td>\n",
       "      <td>None</td>\n",
       "      <td>None</td>\n",
       "      <td>None</td>\n",
       "      <td>Agrotóxicos</td>\n",
       "      <td>Tebuconazol - VMP: 180,0 µg/L</td>\n",
       "      <td>03/07/2016</td>\n",
       "      <td>None</td>\n",
       "      <td>None</td>\n",
       "      <td>0.200</td>\n",
       "    </tr>\n",
       "    <tr>\n",
       "      <th>1</th>\n",
       "      <td>3500600</td>\n",
       "      <td>1536116</td>\n",
       "      <td>Rotina</td>\n",
       "      <td>SAA</td>\n",
       "      <td>S350060000002</td>\n",
       "      <td>ETA SABESP</td>\n",
       "      <td>2016</td>\n",
       "      <td>6</td>\n",
       "      <td>2016-06-14</td>\n",
       "      <td>2016-08-02</td>\n",
       "      <td>...</td>\n",
       "      <td>None</td>\n",
       "      <td>None</td>\n",
       "      <td>None</td>\n",
       "      <td>None</td>\n",
       "      <td>Parâmetros Organolépticos</td>\n",
       "      <td>1,4 Diclorobenzeno - VMP: 0,03 mg/L</td>\n",
       "      <td>11/07/2016</td>\n",
       "      <td>None</td>\n",
       "      <td>None</td>\n",
       "      <td>0.001</td>\n",
       "    </tr>\n",
       "    <tr>\n",
       "      <th>2</th>\n",
       "      <td>3500600</td>\n",
       "      <td>942716</td>\n",
       "      <td>Rotina</td>\n",
       "      <td>SAA</td>\n",
       "      <td>S350060000002</td>\n",
       "      <td>ETA SABESP</td>\n",
       "      <td>2016</td>\n",
       "      <td>4</td>\n",
       "      <td>2016-04-05</td>\n",
       "      <td>2016-08-05</td>\n",
       "      <td>...</td>\n",
       "      <td>None</td>\n",
       "      <td>None</td>\n",
       "      <td>None</td>\n",
       "      <td>None</td>\n",
       "      <td>Produtos secundários de desinfecção</td>\n",
       "      <td>2, 4, 6 Triclorofenol - VMP: 0,2 mg/L</td>\n",
       "      <td>12/04/2016</td>\n",
       "      <td>None</td>\n",
       "      <td>None</td>\n",
       "      <td>0.010</td>\n",
       "    </tr>\n",
       "    <tr>\n",
       "      <th>3</th>\n",
       "      <td>3500600</td>\n",
       "      <td>1536116</td>\n",
       "      <td>Rotina</td>\n",
       "      <td>SAA</td>\n",
       "      <td>S350060000002</td>\n",
       "      <td>ETA SABESP</td>\n",
       "      <td>2016</td>\n",
       "      <td>6</td>\n",
       "      <td>2016-06-14</td>\n",
       "      <td>2016-08-02</td>\n",
       "      <td>...</td>\n",
       "      <td>None</td>\n",
       "      <td>None</td>\n",
       "      <td>None</td>\n",
       "      <td>None</td>\n",
       "      <td>Parâmetros Organolépticos</td>\n",
       "      <td>Xilenos - VMP: 0,3 mg/L</td>\n",
       "      <td>11/07/2016</td>\n",
       "      <td>None</td>\n",
       "      <td>None</td>\n",
       "      <td>0.001</td>\n",
       "    </tr>\n",
       "    <tr>\n",
       "      <th>4</th>\n",
       "      <td>3500600</td>\n",
       "      <td>1536116</td>\n",
       "      <td>Rotina</td>\n",
       "      <td>SAA</td>\n",
       "      <td>S350060000002</td>\n",
       "      <td>ETA SABESP</td>\n",
       "      <td>2016</td>\n",
       "      <td>6</td>\n",
       "      <td>2016-06-14</td>\n",
       "      <td>2016-08-02</td>\n",
       "      <td>...</td>\n",
       "      <td>None</td>\n",
       "      <td>None</td>\n",
       "      <td>None</td>\n",
       "      <td>None</td>\n",
       "      <td>Agrotóxicos</td>\n",
       "      <td>Clordano - VMP: 0,2 µg/L</td>\n",
       "      <td>04/07/2016</td>\n",
       "      <td>None</td>\n",
       "      <td>None</td>\n",
       "      <td>0.010</td>\n",
       "    </tr>\n",
       "  </tbody>\n",
       "</table>\n",
       "<p>5 rows × 27 columns</p>\n",
       "</div>"
      ],
      "text/plain": [
       "   id_ibge n_amostra coleta_motivo forma_abastecimento_tipo  \\\n",
       "0  3500600   1536116        Rotina                      SAA   \n",
       "1  3500600   1536116        Rotina                      SAA   \n",
       "2  3500600    942716        Rotina                      SAA   \n",
       "3  3500600   1536116        Rotina                      SAA   \n",
       "4  3500600   1536116        Rotina                      SAA   \n",
       "\n",
       "  forma_abastecimento_cod forma_abastecimento_nome  ano_referencia  \\\n",
       "0           S350060000002               ETA SABESP            2016   \n",
       "1           S350060000002               ETA SABESP            2016   \n",
       "2           S350060000002               ETA SABESP            2016   \n",
       "3           S350060000002               ETA SABESP            2016   \n",
       "4           S350060000002               ETA SABESP            2016   \n",
       "\n",
       "   mes_referencia data_coleta data_laudo  ... local_tipo local_nome latitude  \\\n",
       "0               6  2016-06-14 2016-08-02  ...       None       None     None   \n",
       "1               6  2016-06-14 2016-08-02  ...       None       None     None   \n",
       "2               4  2016-04-05 2016-08-05  ...       None       None     None   \n",
       "3               6  2016-06-14 2016-08-02  ...       None       None     None   \n",
       "4               6  2016-06-14 2016-08-02  ...       None       None     None   \n",
       "\n",
       "  longitude                     grupo_parametros  \\\n",
       "0      None                          Agrotóxicos   \n",
       "1      None            Parâmetros Organolépticos   \n",
       "2      None  Produtos secundários de desinfecção   \n",
       "3      None            Parâmetros Organolépticos   \n",
       "4      None                          Agrotóxicos   \n",
       "\n",
       "                               parametro data_analise lim_deteccao  \\\n",
       "0          Tebuconazol - VMP: 180,0 µg/L   03/07/2016         None   \n",
       "1    1,4 Diclorobenzeno - VMP: 0,03 mg/L   11/07/2016         None   \n",
       "2  2, 4, 6 Triclorofenol - VMP: 0,2 mg/L   12/04/2016         None   \n",
       "3                Xilenos - VMP: 0,3 mg/L   11/07/2016         None   \n",
       "4               Clordano - VMP: 0,2 µg/L   04/07/2016         None   \n",
       "\n",
       "  lim_quantificacao resultado  \n",
       "0              None     0.200  \n",
       "1              None     0.001  \n",
       "2              None     0.010  \n",
       "3              None     0.001  \n",
       "4              None     0.010  \n",
       "\n",
       "[5 rows x 27 columns]"
      ]
     },
     "execution_count": 62,
     "metadata": {},
     "output_type": "execute_result"
    }
   ],
   "source": [
    "df_5.info()\n",
    "df_5.head()"
   ]
  },
  {
   "cell_type": "code",
   "execution_count": null,
   "id": "b5c4590d-6566-4455-a6d5-34cd6caf88e2",
   "metadata": {},
   "outputs": [],
   "source": []
  },
  {
   "cell_type": "code",
   "execution_count": null,
   "id": "3e2da8e9-2150-45dd-91e2-b790dd71b005",
   "metadata": {},
   "outputs": [],
   "source": []
  },
  {
   "cell_type": "code",
   "execution_count": null,
   "id": "fe098123-b400-4bd3-8757-241b7db3631e",
   "metadata": {},
   "outputs": [],
   "source": []
  },
  {
   "cell_type": "markdown",
   "id": "c866d6ce-78ff-4482-9962-4c5b8c083949",
   "metadata": {},
   "source": [
    "<br>\n",
    "\n",
    "## Cianobactérias Cianotoxinas"
   ]
  },
  {
   "cell_type": "code",
   "execution_count": null,
   "id": "9a3d9245-5cfb-483f-8047-2d246b1758ea",
   "metadata": {},
   "outputs": [],
   "source": [
    "# Input\n",
    "filename = os.path.join(input_path_parquet_partitioned, 'vigilancia', 'vigilancia_cianobacterias_cianotoxinas')\n",
    "\n",
    "# Add Filter to Filename\n",
    "filter_path = os.path.join('Uf={}'.format(estado), 'Código Ibge={}/*.parquet'.format(cod_ibge_ajustado))\n",
    "filename = os.path.join(filename, filter_path)\n",
    "\n",
    "# Read Dataframes\n",
    "df = dd.read_parquet(\n",
    "    filename,\n",
    "    filters=[[('Uf', '==', estado)]],\n",
    ")\n",
    "\n",
    "# Calculate\n",
    "df_6 = df.compute()\n",
    "df_6 = rename_sisagua(df_6)\n",
    "df_6.info()\n",
    "df_6.head()"
   ]
  },
  {
   "cell_type": "code",
   "execution_count": null,
   "id": "287b4b6d-3585-44ea-afad-9ee975566b12",
   "metadata": {},
   "outputs": [],
   "source": [
    "list(df_6.columns)"
   ]
  },
  {
   "cell_type": "code",
   "execution_count": null,
   "id": "406a2d52-28fd-4ff1-81f3-4dc5d1dab630",
   "metadata": {},
   "outputs": [],
   "source": [
    "df_6.drop(\n",
    "    [\n",
    "        'regiao_geografica',\n",
    "        'regional_saude',\n",
    "        'municipio',\n",
    "        # 'n_amostra',\n",
    "        # 'coleta_motivo',\n",
    "        'forma_abastecimento_tipo',\n",
    "        # 'forma_abastecimento_cod',\n",
    "        'forma_abastecimento_nome',\n",
    "        'instituicao_tipo',\n",
    "        'Sigla Instituição',\n",
    "        'instituicao_nome',\n",
    "        'instituicao_cnpj',\n",
    "        'escritorio_regional_local_nome',\n",
    "        'escritorio_regional_local_cnpj',\n",
    "        'eta_uta_nome',\n",
    "        # 'ano_referencia',\n",
    "        # 'mes_referencia',\n",
    "        # 'data_coleta',\n",
    "        # 'data_laudo',\n",
    "        # 'data_registro_sisagua',\n",
    "        # 'coleta_procedencia',\n",
    "        # 'coleta_ponto',\n",
    "        # 'local_descricao',\n",
    "        # 'zona',\n",
    "        # 'area_categoria',\n",
    "        # 'area_nome',\n",
    "        # 'local_tipo',\n",
    "        # 'local_nome',\n",
    "        # 'latitude',\n",
    "        # 'longitude',\n",
    "        # 'grupo',\n",
    "        # 'parametro',\n",
    "        # 'resultado',\n",
    "        'uf',\n",
    "        # 'id_ibge'\n",
    "    ],\n",
    "    inplace=True,\n",
    "    axis=1,\n",
    "    errors='ignore',    \n",
    ")"
   ]
  },
  {
   "cell_type": "code",
   "execution_count": null,
   "id": "fff837ca-bf37-4dc3-974d-7b8da6f220c4",
   "metadata": {},
   "outputs": [],
   "source": [
    "df_6['ano_referencia'] = df_6['ano_referencia'].astype(int)\n",
    "set(df_6['ano_referencia'])"
   ]
  },
  {
   "cell_type": "code",
   "execution_count": null,
   "id": "0ae81108-b5ad-45dd-abb1-7a84497eb3e9",
   "metadata": {},
   "outputs": [],
   "source": [
    "df_6['mes_referencia'] = df_6['mes_referencia'].astype(int)\n",
    "set(df_6['mes_referencia'])"
   ]
  },
  {
   "cell_type": "code",
   "execution_count": null,
   "id": "bc602c2f-d820-44ca-b6c0-0e4a0070fb19",
   "metadata": {},
   "outputs": [],
   "source": [
    "df_6['data_coleta'] = pd.to_datetime(df_6['data_coleta'])\n",
    "df_6['data_laudo'] = pd.to_datetime(df_6['data_laudo'])\n",
    "df_6['data_registro_sisagua'] = pd.to_datetime(df_6['data_registro_sisagua'])"
   ]
  },
  {
   "cell_type": "code",
   "execution_count": null,
   "id": "dc3da325-00e4-4aae-ad8d-47715e644213",
   "metadata": {},
   "outputs": [],
   "source": [
    "df_6['coleta_procedencia'] = df_6['coleta_procedencia'].str.title()\n",
    "set(df_6['coleta_procedencia'])"
   ]
  },
  {
   "cell_type": "code",
   "execution_count": null,
   "id": "72b3c2a6-5e7c-4db3-a08a-5170e09fee0b",
   "metadata": {},
   "outputs": [],
   "source": [
    "df_6['coleta_ponto'] = df_6['coleta_ponto'].str.title()\n",
    "set(df_6['coleta_ponto'])"
   ]
  },
  {
   "cell_type": "code",
   "execution_count": null,
   "id": "bad83fd6-27b7-4bd9-ac30-9ff4bb15e4ee",
   "metadata": {},
   "outputs": [],
   "source": [
    "df_6['local_descricao'] = df_6['local_descricao'].str.title()\n",
    "set(df_6['local_descricao'])"
   ]
  },
  {
   "cell_type": "code",
   "execution_count": null,
   "id": "761ea6cb-c2f3-43b2-a9ee-78d81e907b9a",
   "metadata": {},
   "outputs": [],
   "source": [
    "set(df_6['zona'])"
   ]
  },
  {
   "cell_type": "code",
   "execution_count": null,
   "id": "53e87cd5-d85d-4648-ab84-3441bf2ebf0c",
   "metadata": {},
   "outputs": [],
   "source": [
    "set(df_6['area_categoria'])"
   ]
  },
  {
   "cell_type": "code",
   "execution_count": null,
   "id": "34df476c-f459-40aa-bf71-fbeaff1d630c",
   "metadata": {},
   "outputs": [],
   "source": [
    "df_6['area_nome'] = df_6['area_nome'].str.title()\n",
    "set(df_6['area_nome'])"
   ]
  },
  {
   "cell_type": "code",
   "execution_count": null,
   "id": "b594ba5b-4e57-4719-9582-90a18495b904",
   "metadata": {},
   "outputs": [],
   "source": [
    "set(df_6['local_tipo'])"
   ]
  },
  {
   "cell_type": "code",
   "execution_count": null,
   "id": "f1bab71a-7af3-4149-b966-c69ba268fee1",
   "metadata": {},
   "outputs": [],
   "source": [
    "set(df_6['local_nome'])"
   ]
  },
  {
   "cell_type": "code",
   "execution_count": null,
   "id": "3eb0e2db-735a-4556-bd48-b9a79c584618",
   "metadata": {},
   "outputs": [],
   "source": [
    "set(df_6['latitude'])"
   ]
  },
  {
   "cell_type": "code",
   "execution_count": null,
   "id": "2750b4a4-e5d5-4a53-a3e6-20f926eb7f0d",
   "metadata": {},
   "outputs": [],
   "source": [
    "set(df_6['longitude'])"
   ]
  },
  {
   "cell_type": "code",
   "execution_count": null,
   "id": "6baedb53-76d9-406e-90d2-028778e4403c",
   "metadata": {},
   "outputs": [],
   "source": [
    "set(df_6['grupo'])"
   ]
  },
  {
   "cell_type": "code",
   "execution_count": null,
   "id": "06a3fffd-8e80-4395-8bcd-36d5b8d1adef",
   "metadata": {},
   "outputs": [],
   "source": [
    "set(df_6['parametro'])"
   ]
  },
  {
   "cell_type": "code",
   "execution_count": null,
   "id": "e277e0da-253a-47a7-b35b-23fb104c299f",
   "metadata": {},
   "outputs": [],
   "source": [
    "df_6['resultado'] = df_6['resultado'].astype(str).str.replace(',', '.')\n",
    "df_6['resultado'] = pd.to_numeric(df_6['resultado'], errors='coerce')\n",
    "set(df_6['resultado'])"
   ]
  },
  {
   "cell_type": "code",
   "execution_count": null,
   "id": "a75202c4-2758-4dbc-952a-a7b4dfbcb9a1",
   "metadata": {},
   "outputs": [],
   "source": [
    "df_6.info()\n",
    "df_6.head()"
   ]
  },
  {
   "cell_type": "code",
   "execution_count": null,
   "id": "5864466d-e994-4b7b-92c1-dfac050e3f5e",
   "metadata": {},
   "outputs": [],
   "source": []
  },
  {
   "cell_type": "markdown",
   "id": "272958e3-e3d7-4836-9df0-0966efa747e4",
   "metadata": {},
   "source": [
    "<br>\n",
    "\n",
    "# Controle"
   ]
  },
  {
   "cell_type": "markdown",
   "id": "55e94cf5-568c-4ee4-8c7b-012e081e341d",
   "metadata": {},
   "source": [
    "<br>\n",
    "\n",
    "## Mensal Parametros Basicos"
   ]
  },
  {
   "cell_type": "code",
   "execution_count": null,
   "id": "39691418-387e-4c83-9f3a-96a6bd58e9b8",
   "metadata": {},
   "outputs": [],
   "source": [
    "# Input\n",
    "filename = os.path.join(input_path_parquet_partitioned, 'controle', 'controle_mensal_parametros_basicos_*')\n",
    "\n",
    "# Add Filter to Filename\n",
    "filter_path = os.path.join('Uf={}'.format(estado), 'Código Ibge={}/*.parquet'.format(cod_ibge_ajustado))\n",
    "filename = os.path.join(filename, filter_path)\n",
    "\n",
    "# Read Dataframes\n",
    "df = dd.read_parquet(\n",
    "    filename,\n",
    "    filters=[[('Uf', '==', estado)]],\n",
    ")\n",
    "\n",
    "# Calculate\n",
    "df_7 = df.compute()\n",
    "df_7 = rename_sisagua(df_7)\n",
    "df_7.info()\n",
    "df_7.head()"
   ]
  },
  {
   "cell_type": "code",
   "execution_count": null,
   "id": "03aec4b4-9517-4670-8db4-a0608e67bd53",
   "metadata": {},
   "outputs": [],
   "source": [
    "#del df_7"
   ]
  },
  {
   "cell_type": "code",
   "execution_count": null,
   "id": "4def5034-e500-4268-9df9-7711088b03e3",
   "metadata": {},
   "outputs": [],
   "source": [
    "list(df_7.columns)"
   ]
  },
  {
   "cell_type": "code",
   "execution_count": null,
   "id": "c6257be2-8619-4273-bada-e2bb47c459f5",
   "metadata": {},
   "outputs": [],
   "source": [
    "df_7.drop(\n",
    "    [\n",
    "        'regiao_geografica',\n",
    "        'regional_saude',\n",
    "        'municipio',\n",
    "        'instituicao_tipo',\n",
    "        'instituicao_sigla',\n",
    "        'instituicao_nome',\n",
    "        'instituicao_cnpj',\n",
    "        'escritorio_regional_local_nome',\n",
    "        'escritorio_regional_local_cnpj',\n",
    "        # 'forma_abastecimento_tipo',\n",
    "        'forma_abastecimento_cod',\n",
    "        # 'forma_abastecimento_nome',\n",
    "        'eta_uta_nome',\n",
    "        'tipo_filtracao',\n",
    "        # 'ano_referencia',\n",
    "        # 'mes_referencia',\n",
    "        # 'pto_monitoramento',\n",
    "        # 'parametro',\n",
    "        # 'campo',\n",
    "        # 'resultado',\n",
    "        'uf',\n",
    "        # 'id_ibge'\n",
    "    ],\n",
    "    inplace=True,\n",
    "    axis=1,\n",
    "    errors='ignore',    \n",
    ")"
   ]
  },
  {
   "cell_type": "code",
   "execution_count": null,
   "id": "14403d1d-8de4-41d0-abb7-ab1f8d5b6e91",
   "metadata": {},
   "outputs": [],
   "source": [
    "df_7['id_ibge'] = df_7['id_ibge'].astype(int)\n",
    "# df_7 = convert_6d_to_7d(df_7) # Dá erro!"
   ]
  },
  {
   "cell_type": "code",
   "execution_count": null,
   "id": "42c2aad0-35a5-4e30-a0b5-00710af52f43",
   "metadata": {},
   "outputs": [],
   "source": [
    "df_7['ano_referencia'] = df_7['ano_referencia'].astype(int)\n",
    "set(df_7['ano_referencia'])"
   ]
  },
  {
   "cell_type": "code",
   "execution_count": null,
   "id": "ab5014db-df98-4173-9fa6-0a455a099ef4",
   "metadata": {},
   "outputs": [],
   "source": [
    "df_7['mes_referencia'] = df_7['mes_referencia'].astype(int)\n",
    "set(df_7['mes_referencia'])"
   ]
  },
  {
   "cell_type": "code",
   "execution_count": null,
   "id": "50ea6579-1e54-40be-8a6a-c63f9ac050bc",
   "metadata": {},
   "outputs": [],
   "source": [
    "df_7['pto_monitoramento'] = df_7['pto_monitoramento'].str.title()\n",
    "set(df_7['pto_monitoramento'])"
   ]
  },
  {
   "cell_type": "code",
   "execution_count": null,
   "id": "644ceda7-ab92-4816-9dcb-41ecff695b6a",
   "metadata": {},
   "outputs": [],
   "source": [
    "set(df_7['parametro'])"
   ]
  },
  {
   "cell_type": "code",
   "execution_count": null,
   "id": "ff89501d-410b-4f81-9deb-a8a9eb1f6a0b",
   "metadata": {},
   "outputs": [],
   "source": [
    "set(df_7['campo'])"
   ]
  },
  {
   "cell_type": "code",
   "execution_count": null,
   "id": "9c1a0c8b-9e83-4f29-9b9d-e1baa44179ee",
   "metadata": {},
   "outputs": [],
   "source": [
    "# Passei para resultado\n",
    "df_7['resultado'] = df_7['resultado'].astype(str).str.replace(',', '.')\n",
    "df_7['resultado'] = pd.to_numeric(df_7['resultado'], errors='coerce')\n",
    "list(set(df_7['resultado']))[0:10]"
   ]
  },
  {
   "cell_type": "code",
   "execution_count": null,
   "id": "cae5b682-1033-4531-81bb-317e5500eb3e",
   "metadata": {},
   "outputs": [],
   "source": [
    "df_7.info()\n",
    "df_7.head()"
   ]
  },
  {
   "cell_type": "code",
   "execution_count": null,
   "id": "f11a4bfb-70b3-469a-8b38-3a5fe54a22cf",
   "metadata": {},
   "outputs": [],
   "source": []
  },
  {
   "cell_type": "markdown",
   "id": "afb68c98-f6d7-4f2b-a294-e809d8bd57eb",
   "metadata": {},
   "source": [
    "<br>\n",
    "\n",
    "## Mensal Demais Parametros"
   ]
  },
  {
   "cell_type": "code",
   "execution_count": null,
   "id": "97568e42-74b5-4fd7-beec-c2488cbe8276",
   "metadata": {},
   "outputs": [],
   "source": [
    "# Input\n",
    "filename = os.path.join(input_path_parquet_partitioned, 'controle', 'controle_mensal_demais_parametros')\n",
    "\n",
    "# Add Filter to Filename\n",
    "filter_path = os.path.join('Uf={}'.format(estado), 'Código Ibge={}/*.parquet'.format(cod_ibge_ajustado))\n",
    "filename = os.path.join(filename, filter_path)\n",
    "\n",
    "# Read Dataframes\n",
    "df = dd.read_parquet(\n",
    "    filename,\n",
    "    filters=[[('Uf', '==', estado)]],\n",
    ")\n",
    "\n",
    "# Calculate\n",
    "df_8 = df.compute()\n",
    "df_8 = rename_sisagua(df_8)\n",
    "df_8.info()\n",
    "df_8.head()"
   ]
  },
  {
   "cell_type": "code",
   "execution_count": null,
   "id": "c24af816-6053-4c83-ad82-f67c6bf6dc3e",
   "metadata": {},
   "outputs": [],
   "source": [
    "list(df_8.columns)"
   ]
  },
  {
   "cell_type": "code",
   "execution_count": null,
   "id": "f7083a40-3dfa-4088-b52f-0ac2eb5e3056",
   "metadata": {},
   "outputs": [],
   "source": [
    "df_8.drop(\n",
    "    [\n",
    "        'regiao_geografica',\n",
    "        'regional_saude',\n",
    "        'municipio',\n",
    "        'instituicao_tipo',\n",
    "        'instituicao_sigla',\n",
    "        'instituicao_nome',\n",
    "        'instituicao_cnpj',\n",
    "        'escritorio_regional_local_nome',\n",
    "        'escritorio_regional_local_cnpj',\n",
    "        'forma_abastecimento_tipo',\n",
    "        #'forma_abastecimento_cod',\n",
    "        'forma_abastecimento_nome',\n",
    "        'eta_uta_nome',\n",
    "        # 'ano_referencia',\n",
    "        # 'mes_referencia',\n",
    "        # 'data_registro',\n",
    "        # 'data_preenchimento_rel_mensal',\n",
    "        # 'data_coleta',\n",
    "        # 'captacao_tipo',\n",
    "        # 'manancial_superficial_categoria',\n",
    "        # 'manancial_superficial_nome',\n",
    "        # 'captacao_subterranea_categoria',\n",
    "        # 'captacao_subterranea_nome',\n",
    "        # 'parametro',\n",
    "        # 'unidade',\n",
    "        # 'resultado',\n",
    "        'uf',\n",
    "        # 'id_ibge',\n",
    "    ],\n",
    "    inplace=True,\n",
    "    axis=1,\n",
    "    errors='ignore',    \n",
    ")"
   ]
  },
  {
   "cell_type": "code",
   "execution_count": null,
   "id": "6bde154d-24a6-4fe1-b1ec-c654998c8a0f",
   "metadata": {},
   "outputs": [],
   "source": [
    "df_8['ano_referencia'] = df_8['ano_referencia'].astype(int)\n",
    "set(df_8['ano_referencia'])"
   ]
  },
  {
   "cell_type": "code",
   "execution_count": null,
   "id": "566d6fcf-c7c3-4f7e-bd2d-fc7aae9b83ab",
   "metadata": {},
   "outputs": [],
   "source": [
    "df_8['mes_referencia'] = df_8['mes_referencia'].astype(int)\n",
    "set(df_8['mes_referencia'])"
   ]
  },
  {
   "cell_type": "code",
   "execution_count": null,
   "id": "38ac5b76-25ba-46f5-918e-e7e4cbd08929",
   "metadata": {},
   "outputs": [],
   "source": [
    "df_8['data_registro'] = pd.to_datetime(df_8['data_registro'])\n",
    "df_8['data_coleta'] = pd.to_datetime(df_8['data_coleta'])\n",
    "df_8['data_preenchimento_rel_mensal'] = pd.to_datetime(df_8['data_preenchimento_rel_mensal'])"
   ]
  },
  {
   "cell_type": "code",
   "execution_count": null,
   "id": "e88ae8ae-51bf-4306-acb0-a45483fcff44",
   "metadata": {},
   "outputs": [],
   "source": [
    "df_8['captacao_tipo'] = df_8['captacao_tipo'].str.title()\n",
    "set(df_8['captacao_tipo'])"
   ]
  },
  {
   "cell_type": "code",
   "execution_count": null,
   "id": "01b40065-6b18-40de-a567-845059f9033e",
   "metadata": {},
   "outputs": [],
   "source": [
    "df_8['manancial_superficial_categoria'] = df_8['manancial_superficial_categoria'].str.title()\n",
    "set(df_8['manancial_superficial_categoria'])"
   ]
  },
  {
   "cell_type": "code",
   "execution_count": null,
   "id": "44c26795-25b3-4cca-81bc-f61b858980b9",
   "metadata": {},
   "outputs": [],
   "source": [
    "df_8['captacao_subterranea_categoria'] = df_8['captacao_subterranea_categoria'].str.title()\n",
    "set(df_8['captacao_subterranea_categoria'])"
   ]
  },
  {
   "cell_type": "code",
   "execution_count": null,
   "id": "2e031b4e-51ad-46fc-8049-cbc2bb527bb5",
   "metadata": {},
   "outputs": [],
   "source": [
    "set(df_8['parametro'])"
   ]
  },
  {
   "cell_type": "code",
   "execution_count": null,
   "id": "55abc612-9a07-46a1-bbd9-eb4712239229",
   "metadata": {},
   "outputs": [],
   "source": [
    "set(df_8['unidade'])"
   ]
  },
  {
   "cell_type": "code",
   "execution_count": null,
   "id": "f222c442-8604-4558-9412-0a421a9923f6",
   "metadata": {},
   "outputs": [],
   "source": [
    "list(set(df_8['resultado']))"
   ]
  },
  {
   "cell_type": "code",
   "execution_count": null,
   "id": "b0d13e4e-a36b-4f9f-aab1-cfc0c746ca8d",
   "metadata": {},
   "outputs": [],
   "source": [
    "df_8['resultado'] = df_8['resultado'].astype(str).str.replace(',', '.')\n",
    "df_8['resultado'] = pd.to_numeric(df_8['resultado'], errors='coerce')"
   ]
  },
  {
   "cell_type": "code",
   "execution_count": null,
   "id": "4a613dde-c987-486f-a364-aea3521c69d7",
   "metadata": {},
   "outputs": [],
   "source": [
    "#.sort()\n",
    "#a = [x.replace(',', '.') for x in a if x is not None]\n",
    "#a"
   ]
  },
  {
   "cell_type": "code",
   "execution_count": null,
   "id": "c1aba4a9-7d46-4a11-926f-7a07d13bcf57",
   "metadata": {},
   "outputs": [],
   "source": [
    "df_8.info()\n",
    "df_8.head()"
   ]
  },
  {
   "cell_type": "code",
   "execution_count": null,
   "id": "53afbf98-84ac-40a3-b8ad-a9fdc9a04663",
   "metadata": {},
   "outputs": [],
   "source": []
  },
  {
   "cell_type": "markdown",
   "id": "7118797e-e6dd-42c6-93d2-448b2ca0df23",
   "metadata": {},
   "source": [
    "<br>\n",
    "\n",
    "## Mensal Amostras Fora Padrão"
   ]
  },
  {
   "cell_type": "code",
   "execution_count": null,
   "id": "38af9a16-eb69-4e64-abc7-315c2cf2bb0d",
   "metadata": {},
   "outputs": [],
   "source": [
    "# Input\n",
    "filename = os.path.join(input_path_parquet_partitioned, 'controle', 'controle_mensal_amostras_fora_padrao')\n",
    "\n",
    "# Add Filter to Filename\n",
    "filter_path = os.path.join('Uf={}'.format(estado), 'Código Ibge={}/*.parquet'.format(cod_ibge_ajustado))\n",
    "filename = os.path.join(filename, filter_path)\n",
    "\n",
    "# Read Dataframes\n",
    "df = dd.read_parquet(\n",
    "    filename,\n",
    "    filters=[[('Uf', '==', estado)]],\n",
    ")\n",
    "\n",
    "# Calculate\n",
    "df_9 = df.compute()\n",
    "df_9 = rename_sisagua(df_9)\n",
    "df_9.info()\n",
    "df_9.head()"
   ]
  },
  {
   "cell_type": "code",
   "execution_count": null,
   "id": "d2a911ac-98a1-40f7-8dbc-6adfb46d56b9",
   "metadata": {},
   "outputs": [],
   "source": [
    "list(df_9.columns)"
   ]
  },
  {
   "cell_type": "code",
   "execution_count": null,
   "id": "e8a56009-cb9e-42bc-ba52-7a323666d55e",
   "metadata": {},
   "outputs": [],
   "source": [
    "df_9.drop(\n",
    "    [        \n",
    "        'regiao_geografica',\n",
    "        'regional_saude',\n",
    "        'municipio',\n",
    "        'instituicao_tipo',\n",
    "        'instituicao_sigla',\n",
    "        'instituicao_nome',\n",
    "        'instituicao_cnpj',\n",
    "        'escritorio_regional_local_nome',\n",
    "        'escritorio_regional_local_cnpj',\n",
    "        'forma_abastecimento_tipo',\n",
    "        # 'forma_abastecimento_cod',\n",
    "        'forma_abastecimento_nome',\n",
    "        # 'ano_referencia',\n",
    "        # 'mes_referencia',\n",
    "        # 'data_registro',\n",
    "        # 'data_preenchimento_rel_mensal',\n",
    "        # 'data_coleta',\n",
    "        # 'pto_monitoramento',\n",
    "        # 'parametro',\n",
    "        # 'zona',\n",
    "        # 'area_categoria',\n",
    "        # 'area_nome',\n",
    "        # 'local_tipo',\n",
    "        # 'local_nome',\n",
    "        # 'endereco',\n",
    "        # 'latitude',\n",
    "        # 'longitude',\n",
    "        # 'resultado',\n",
    "        # 'providencia_controle',\n",
    "        'uf',\n",
    "        # 'id_ibge'\n",
    "    ],\n",
    "    inplace=True,\n",
    "    axis=1,\n",
    "    errors='ignore',\n",
    ")"
   ]
  },
  {
   "cell_type": "code",
   "execution_count": null,
   "id": "b17b4a2d-1d6b-4ef1-9963-77b70ee94734",
   "metadata": {},
   "outputs": [],
   "source": [
    "df_9.info()\n",
    "df_9.head()"
   ]
  },
  {
   "cell_type": "code",
   "execution_count": null,
   "id": "a50572fb-b6ce-40e3-a0ef-746db363dba1",
   "metadata": {},
   "outputs": [],
   "source": []
  },
  {
   "cell_type": "markdown",
   "id": "885cf298-5860-40b0-b5d9-11729874f8c1",
   "metadata": {},
   "source": [
    "<br>\n",
    "\n",
    "## Mensal Infraestrutura Operacionais"
   ]
  },
  {
   "cell_type": "code",
   "execution_count": null,
   "id": "aee1ad82-540b-4db2-96ac-ea0a7c1bfd20",
   "metadata": {},
   "outputs": [],
   "source": [
    "# Input\n",
    "filename = os.path.join(input_path_parquet_partitioned, 'controle', 'controle_mensal_infraestrutura_operacionais')\n",
    "\n",
    "# Add Filter to Filename\n",
    "filter_path = os.path.join('Uf={}'.format(estado), 'Código Ibge={}/*.parquet'.format(cod_ibge_ajustado))\n",
    "filename = os.path.join(filename, filter_path)\n",
    "\n",
    "# Read Dataframes\n",
    "df = dd.read_parquet(\n",
    "    filename,\n",
    "    filters=[[('Uf', '==', estado)]],\n",
    ")\n",
    "\n",
    "# Calculate\n",
    "df_10 = df.compute()\n",
    "df_10 = rename_sisagua(df_10)\n",
    "df_10.info()\n",
    "df_10.head()"
   ]
  },
  {
   "cell_type": "code",
   "execution_count": null,
   "id": "62637d98-58ef-4e71-99a7-41306155c382",
   "metadata": {},
   "outputs": [],
   "source": [
    "list(df_10.columns)"
   ]
  },
  {
   "cell_type": "code",
   "execution_count": null,
   "id": "5b5f5653-3e76-4bc2-9637-6a239f985bd4",
   "metadata": {},
   "outputs": [],
   "source": [
    "df_10.drop(\n",
    "    [        \n",
    "        'regiao_geografica',\n",
    "        'regional_saude',\n",
    "        'municipio',\n",
    "        'instituicao_tipo',\n",
    "        'instituicao_sigla',\n",
    "        'instituicao_nome',\n",
    "        'instituicao_cnpj',\n",
    "        'escritorio_regional_local_nome',\n",
    "        'escritorio_regional_local_cnpj',\n",
    "        'forma_abastecimento_tipo',\n",
    "        # 'forma_abastecimento_cod',\n",
    "        'forma_abastecimento_nome',\n",
    "        # 'ano_referencia',\n",
    "        # 'mes_referencia',\n",
    "        # 'data_registro',\n",
    "        # 'data_preenchimento_rel_mensal',\n",
    "        # 'zona',\n",
    "        # 'area_categoria',\n",
    "        # 'area_nome',\n",
    "        # 'local_tipo',\n",
    "        # 'local_nome',\n",
    "        # 'n_reparos_rede',\n",
    "        # 'n_eventos_intermitencia',\n",
    "        # 'n_eventos_falta_agua',\n",
    "        # 'n_reclamacao_cor',\n",
    "        # 'n_reclamacao_gosto_odor',\n",
    "        'uf',\n",
    "        # 'id_ibge'\n",
    "    ],\n",
    "    inplace=True,\n",
    "    axis=1,\n",
    "    errors='ignore',\n",
    ")"
   ]
  },
  {
   "cell_type": "code",
   "execution_count": null,
   "id": "90729102-7840-4753-9355-3cb07a8b24d9",
   "metadata": {},
   "outputs": [],
   "source": [
    "df_10['data_registro'] = pd.to_datetime(df_10['data_registro'])\n",
    "df_10['data_preenchimento_rel_mensal'] = pd.to_datetime(df_10['data_preenchimento_rel_mensal'])"
   ]
  },
  {
   "cell_type": "code",
   "execution_count": null,
   "id": "480dc6d4-4ae2-4b6e-8bcb-f761c6af375b",
   "metadata": {},
   "outputs": [],
   "source": [
    "df_10['ano_referencia'] = df_10['ano_referencia'].astype(int)\n",
    "df_10['mes_referencia'] = df_10['mes_referencia'].astype(int)"
   ]
  },
  {
   "cell_type": "code",
   "execution_count": null,
   "id": "7fe02a97-5adb-412f-aa9b-ef7c7897f31d",
   "metadata": {},
   "outputs": [],
   "source": [
    "cols = [\n",
    "    'n_reparos_rede',\n",
    "    'n_eventos_intermitencia',\n",
    "    'n_eventos_falta_agua',\n",
    "    'n_reclamacao_cor',\n",
    "    'n_reclamacao_gosto_odor',\n",
    "]\n",
    "\n",
    "for col in cols:\n",
    "    df_10[col].fillna(-1, inplace=True)\n",
    "    df_10[col] = df_10[col].astype(int)\n",
    "\n",
    "df_10.reset_index(drop=True, inplace=True)"
   ]
  },
  {
   "cell_type": "code",
   "execution_count": null,
   "id": "d46659c4-5675-47ed-830d-1888d94ef3e9",
   "metadata": {},
   "outputs": [],
   "source": [
    "df_10.info()\n",
    "df_10.head()"
   ]
  },
  {
   "cell_type": "code",
   "execution_count": null,
   "id": "ae9896a7-db00-49eb-acc2-7fa758fa9c10",
   "metadata": {},
   "outputs": [],
   "source": []
  },
  {
   "cell_type": "markdown",
   "id": "27efbbd2-3d4a-4ca8-a18e-41103e641c36",
   "metadata": {},
   "source": [
    "<br>\n",
    "\n",
    "## Semestral"
   ]
  },
  {
   "cell_type": "code",
   "execution_count": null,
   "id": "3a2fb607-09e5-4185-9ffd-ec5c55061d46",
   "metadata": {},
   "outputs": [],
   "source": [
    "# Input\n",
    "filename = os.path.join(input_path_parquet_partitioned, 'controle', 'controle_semestral_*')\n",
    "\n",
    "# Add Filter to Filename\n",
    "filter_path = os.path.join('Uf={}'.format(estado), 'Código Ibge={}/*.parquet'.format(cod_ibge_ajustado))\n",
    "filename = os.path.join(filename, filter_path)\n",
    "\n",
    "# Read Dataframes\n",
    "df = dd.read_parquet(\n",
    "    filename,\n",
    "    filters=[[('Uf', '==', estado)]],\n",
    ")\n",
    "\n",
    "# Calculate\n",
    "df_11 = df.compute()\n",
    "df_11 = rename_sisagua(df_11)\n",
    "df_11.info()\n",
    "df_11.head()"
   ]
  },
  {
   "cell_type": "code",
   "execution_count": null,
   "id": "d184de58-d60b-4d14-a5bc-f525f87f88fc",
   "metadata": {},
   "outputs": [],
   "source": [
    "list(df_11.columns)"
   ]
  },
  {
   "cell_type": "code",
   "execution_count": null,
   "id": "e3281d9a-6620-4630-9918-e694a3eac765",
   "metadata": {},
   "outputs": [],
   "source": [
    "df_11.drop(\n",
    "    [\n",
    "        'regiao_geografica',\n",
    "        'regional_saude',\n",
    "        'municipio',\n",
    "        'instituicao_tipo',\n",
    "        'instituicao_sigla',\n",
    "        'instituicao_nome',\n",
    "        'instituicao_cnpj',\n",
    "        'escritorio_regional_local_nome',\n",
    "        'escritorio_regional_local_cnpj',\n",
    "        'forma_abastecimento_tipo',\n",
    "        # 'forma_abastecimento_cod',\n",
    "        'forma_abastecimento_nome',\n",
    "        'eta_uta_nome',\n",
    "        # 'ano_referencia',\n",
    "        # 'semestre_referencia',\n",
    "        # 'data_registro',\n",
    "        # 'data_preenchimento_rel_semestral',\n",
    "        # 'data_coleta',\n",
    "        # 'data_analise',\n",
    "        # 'pto_monitoramento',\n",
    "        # 'grupo_parametros',\n",
    "        # 'parametro',\n",
    "        # 'lim_deteccao',\n",
    "        # 'lim_quantificacao',\n",
    "        # 'resultado',\n",
    "        'uf',\n",
    "        # 'id_ibge'\n",
    "    ],\n",
    "    inplace=True,\n",
    "    axis=1,\n",
    "    errors='ignore',    \n",
    ")"
   ]
  },
  {
   "cell_type": "code",
   "execution_count": null,
   "id": "ff3e62ac-ecd0-447f-8d56-68bff96a81ae",
   "metadata": {},
   "outputs": [],
   "source": [
    "df_11['ano_referencia'] = df_11['ano_referencia'].astype(int)\n",
    "set(df_11['ano_referencia'])"
   ]
  },
  {
   "cell_type": "code",
   "execution_count": null,
   "id": "c485bafa-d911-468a-8e52-2ac2cf4a945c",
   "metadata": {},
   "outputs": [],
   "source": [
    "df_11['semestre_referencia'] = df_11['semestre_referencia'].astype(int)\n",
    "set(df_11['semestre_referencia'])"
   ]
  },
  {
   "cell_type": "code",
   "execution_count": null,
   "id": "3c396f7a-b27c-4195-988f-03a5807007a4",
   "metadata": {},
   "outputs": [],
   "source": [
    "df_11['data_registro'] = pd.to_datetime(df_11['data_registro'])\n",
    "df_11['data_preenchimento_rel_semestral'] = pd.to_datetime(df_11['data_preenchimento_rel_semestral'])"
   ]
  },
  {
   "cell_type": "code",
   "execution_count": null,
   "id": "d51f9cd2-eb64-4ff8-8b9d-67a152699190",
   "metadata": {},
   "outputs": [],
   "source": [
    "df_11['data_coleta'] = pd.to_datetime(df_11['data_coleta'], format='%d/%m/%Y')\n",
    "df_11['data_analise'] = pd.to_datetime(df_11['data_analise'], format='%d/%m/%Y')"
   ]
  },
  {
   "cell_type": "code",
   "execution_count": null,
   "id": "eec4cd3a-9cc8-4df2-a3c6-a5fb51939e67",
   "metadata": {},
   "outputs": [],
   "source": [
    "df_11['resultado'] = df_11['resultado'].astype(str).str.replace(',', '.')\n",
    "df_11['resultado'] = pd.to_numeric(df_11['resultado'], errors='coerce')\n",
    "set(df_11['resultado'])"
   ]
  },
  {
   "cell_type": "code",
   "execution_count": null,
   "id": "fcd73ed5-f4b0-4c41-8315-f422debb6c7c",
   "metadata": {},
   "outputs": [],
   "source": [
    "df_11.info()\n",
    "df_11.head()"
   ]
  },
  {
   "cell_type": "markdown",
   "id": "6c8f5bf5-80fe-425f-9416-db2bade5b60a",
   "metadata": {},
   "source": [
    "<br>\n",
    "\n",
    "# End"
   ]
  },
  {
   "cell_type": "code",
   "execution_count": null,
   "id": "d7d3197c-fe91-45f7-a653-4f1f182707d9",
   "metadata": {},
   "outputs": [],
   "source": [
    "cluster.close()\n",
    "time.sleep(1)\n",
    "client.close()"
   ]
  },
  {
   "cell_type": "markdown",
   "id": "517ecd3a-1a28-459c-b0d5-2e768b79c76a",
   "metadata": {},
   "source": [
    "<br>\n",
    "\n",
    "# Análises"
   ]
  },
  {
   "cell_type": "markdown",
   "id": "92c36910-0164-460a-8a2e-fdf94edc68b6",
   "metadata": {},
   "source": [
    "<br>\n",
    "\n",
    "## Cadastro"
   ]
  },
  {
   "cell_type": "markdown",
   "id": "46be3942-50c0-425e-bdec-0d81b604f69a",
   "metadata": {},
   "source": [
    "<br>\n",
    "\n",
    "### Municípios"
   ]
  },
  {
   "cell_type": "code",
   "execution_count": null,
   "id": "798ccce4-1230-4b8f-ba9b-a87cf2ada432",
   "metadata": {},
   "outputs": [],
   "source": [
    "df_mun = pd.concat([df_1_1, df_2_1, df_3_1]).drop_duplicates()\n",
    "df_mun.reset_index(drop=True, inplace=True)\n",
    "df_mun.info()\n",
    "df_mun.head()"
   ]
  },
  {
   "cell_type": "code",
   "execution_count": null,
   "id": "6d0b5475-d31b-464a-ad0e-d5868b9b576e",
   "metadata": {},
   "outputs": [],
   "source": [
    "df_mun = convert_6d_to_7d(df_mun, del_municipios_name=False)\n",
    "df_mun.info()\n",
    "df_mun.head()"
   ]
  },
  {
   "cell_type": "code",
   "execution_count": null,
   "id": "fddc3f41-4890-4cfb-91f8-e312cb3613e8",
   "metadata": {},
   "outputs": [],
   "source": [
    "# Ajusta o erro único em Presidente Venceslau\n",
    "df_mun['regional_saude'] = df_mun['regional_saude'].replace(' -PRESIDENTE', ' - PRESIDENTE', regex=True)\n",
    "\n",
    "# Expande Colunas\n",
    "df_mun[['regional_saude_cod', 'regional_saude_sede']] = df_mun['regional_saude'].str.split(' - ', 1, expand=True)\n",
    "df_mun['regional_saude_sede'] = df_mun['regional_saude_sede'].str.title()\n",
    "df_mun['regional_saude_sede'] = df_mun['regional_saude_sede'].str.strip()\n",
    "df_mun.info()\n",
    "df_mun.head()"
   ]
  },
  {
   "cell_type": "code",
   "execution_count": null,
   "id": "b092aa3d-f14a-4213-9283-5d4ae87933fc",
   "metadata": {},
   "outputs": [],
   "source": [
    "df_mun['regional_saude_sede'] = df_mun['regional_saude_sede'].replace(\n",
    "    {\n",
    "        #'Botucatu E Sgvs Xvi Avaré': 'Botucatu (SGVS XVI Avaré)',\n",
    "        #'Botucatu e Sgvs Xvi Avaré': 'Botucatu (SGVS XVI Avaré)',\n",
    "        'Botucatu e Sgvs Xvi Avaré': 'Botucatu',\n",
    "        'Botucatu E Sgvs Xvi Avaré': 'Botucatu',\n",
    "        ' Das ': ' das ',\n",
    "        ' Da ': ' da ',\n",
    "        ' Dos ': ' dos ',\n",
    "        ' Do ': ' do ',\n",
    "        ' E ': ' e ',\n",
    "    },\n",
    "    regex=True,\n",
    ")\n",
    "df_mun.info()\n",
    "df_mun.head()"
   ]
  },
  {
   "cell_type": "code",
   "execution_count": null,
   "id": "8d12b096-ed98-43fe-b2af-00c43d07864c",
   "metadata": {},
   "outputs": [],
   "source": [
    "with engine.connect().execution_options(autocommit=True) as conn:\n",
    "    df_mun.to_sql(\n",
    "        'cadastro_municipios',\n",
    "        con=conn,\n",
    "        if_exists='replace',\n",
    "        schema='michelmetran/br_sisagua',\n",
    "        index=False,\n",
    "        #chunksize=500,\n",
    "        method=psql_insert_copy,\n",
    "    )"
   ]
  },
  {
   "cell_type": "markdown",
   "id": "5d9e1188-908e-4e72-8cf6-7fa1e8ad305d",
   "metadata": {},
   "source": [
    "<br>\n",
    "\n",
    "### Instituições e Formas de Abastecimento"
   ]
  },
  {
   "cell_type": "code",
   "execution_count": null,
   "id": "854fe23e-0c9a-458a-9341-06b093190c34",
   "metadata": {},
   "outputs": [],
   "source": [
    "#df_2_2.info()\n",
    "#df_4_2.info()"
   ]
  },
  {
   "cell_type": "code",
   "execution_count": null,
   "id": "c34a8c3b-2e19-43c4-9fd0-764179ea605e",
   "metadata": {},
   "outputs": [],
   "source": [
    "df_3_2.info()"
   ]
  },
  {
   "cell_type": "code",
   "execution_count": null,
   "id": "065c6507-0db4-42ac-99b9-efeeca0219e4",
   "metadata": {},
   "outputs": [],
   "source": [
    "with engine.connect().execution_options(autocommit=True) as conn:\n",
    "    df_3_2.to_sql(\n",
    "        'cadastro_formas_instituicoes',\n",
    "        con=conn,\n",
    "        if_exists='replace',\n",
    "        schema='michelmetran/br_sisagua',\n",
    "        index=False,\n",
    "        #chunksize=500,\n",
    "        method=psql_insert_copy,\n",
    "    )"
   ]
  },
  {
   "cell_type": "code",
   "execution_count": null,
   "id": "cc2bb8e0-3925-4928-876c-482303ab25d3",
   "metadata": {},
   "outputs": [],
   "source": []
  },
  {
   "cell_type": "markdown",
   "id": "f024888b-3677-4c09-a5a4-34be5302a418",
   "metadata": {},
   "source": [
    "<br>\n",
    "\n",
    "### Captação"
   ]
  },
  {
   "cell_type": "code",
   "execution_count": null,
   "id": "0067a047-664e-42d0-a98b-1140cc4ed558",
   "metadata": {},
   "outputs": [],
   "source": [
    "df_1_3.info()\n",
    "df_1_3.head()"
   ]
  },
  {
   "cell_type": "code",
   "execution_count": null,
   "id": "5c8fa90e-4a91-41f3-85db-6509350854a6",
   "metadata": {},
   "outputs": [],
   "source": [
    "with engine.connect().execution_options(autocommit=True) as conn:\n",
    "    df_1_3.to_sql(\n",
    "        'cadastro_captacao',\n",
    "        con=conn,\n",
    "        if_exists='replace',\n",
    "        schema='michelmetran/br_sisagua',\n",
    "        index=False,\n",
    "        #chunksize=500,\n",
    "        method=psql_insert_copy,\n",
    "    )"
   ]
  },
  {
   "cell_type": "code",
   "execution_count": null,
   "id": "3c8be228-7038-4c26-aedb-db8a82ad4552",
   "metadata": {},
   "outputs": [],
   "source": []
  },
  {
   "cell_type": "code",
   "execution_count": null,
   "id": "3ec67352-89aa-433e-9e72-a7548b5053f5",
   "metadata": {},
   "outputs": [],
   "source": []
  },
  {
   "cell_type": "markdown",
   "id": "261c6a8c-bb62-4dcd-9f2d-7063671b2d38",
   "metadata": {},
   "source": [
    "<br>\n",
    "\n",
    "### População"
   ]
  },
  {
   "cell_type": "code",
   "execution_count": null,
   "id": "62fb8df2-e763-4aaf-9ebe-ffb767f6b6d8",
   "metadata": {},
   "outputs": [],
   "source": [
    "df_2_3.info()\n",
    "df_2_3.head()"
   ]
  },
  {
   "cell_type": "code",
   "execution_count": null,
   "id": "3dbc5277-f352-45f4-9305-7937a6eb00b1",
   "metadata": {},
   "outputs": [],
   "source": [
    "with engine.connect().execution_options(autocommit=True) as conn:\n",
    "    df_2_3.to_sql(\n",
    "        'cadastro_populacao',\n",
    "        con=conn,\n",
    "        if_exists='replace',\n",
    "        schema='michelmetran/br_sisagua',\n",
    "        index=False,\n",
    "        #chunksize=500,\n",
    "        method=psql_insert_copy,\n",
    "    )"
   ]
  },
  {
   "cell_type": "code",
   "execution_count": null,
   "id": "a679f315-d693-4d76-97c8-98910ac8657c",
   "metadata": {},
   "outputs": [],
   "source": []
  },
  {
   "cell_type": "code",
   "execution_count": null,
   "id": "f5c6841f-c9e1-40d7-a382-eed501cdc833",
   "metadata": {},
   "outputs": [],
   "source": []
  },
  {
   "cell_type": "markdown",
   "id": "d746c6f3-9798-463b-855f-b71d4589f64d",
   "metadata": {},
   "source": [
    "<br>\n",
    "\n",
    "### Tratamento"
   ]
  },
  {
   "cell_type": "code",
   "execution_count": null,
   "id": "bd4adce4-e687-4f07-8a22-92e67a9023a7",
   "metadata": {},
   "outputs": [],
   "source": [
    "df_3_3.info()\n",
    "df_3_3.head()"
   ]
  },
  {
   "cell_type": "code",
   "execution_count": null,
   "id": "95836a2b-1a40-4692-a4a8-a67384c8536d",
   "metadata": {},
   "outputs": [],
   "source": [
    "with engine.connect().execution_options(autocommit=True) as conn:\n",
    "    df_3_3.to_sql(\n",
    "        'cadastro_tratamento',\n",
    "        con=conn,\n",
    "        if_exists='replace',\n",
    "        schema='michelmetran/br_sisagua',\n",
    "        index=False,\n",
    "        #chunksize=500,\n",
    "        method=psql_insert_copy,\n",
    "    )"
   ]
  },
  {
   "cell_type": "code",
   "execution_count": null,
   "id": "e71df34a-7de9-4ad2-9ac5-f4fbfbdb1102",
   "metadata": {},
   "outputs": [],
   "source": []
  },
  {
   "cell_type": "code",
   "execution_count": null,
   "id": "85ff5870-a8e1-4bf2-b992-9e0c0d2e9575",
   "metadata": {},
   "outputs": [],
   "source": []
  },
  {
   "cell_type": "markdown",
   "id": "6f4a8e88-238c-4889-9a03-ac48cd0722c6",
   "metadata": {},
   "source": [
    "<br>\n",
    "\n",
    "## Vigilância"
   ]
  },
  {
   "cell_type": "markdown",
   "id": "2de8febf-ea98-4486-9dfc-725e085aeb07",
   "metadata": {},
   "source": [
    "<br>\n",
    "\n",
    "### Parâmetros Básicos\n",
    "\n",
    "Separar por paraâmetros e corrigor resultados"
   ]
  },
  {
   "cell_type": "code",
   "execution_count": 99,
   "id": "2e8aa9a1-9c95-4147-9f2d-ab614a264652",
   "metadata": {},
   "outputs": [
    {
     "data": {
      "text/plain": [
       "['Bactérias Heterotróficas',\n",
       " 'Cloro residual combinado (mg/L)',\n",
       " 'Cloro residual livre (mg/L)',\n",
       " 'Coliformes totais',\n",
       " 'Cor (uH)',\n",
       " 'Dióxido de Cloro (mg/L)',\n",
       " 'Escherichia coli',\n",
       " 'Fluoreto (mg/L)',\n",
       " 'Turbidez (uT)',\n",
       " 'pH']"
      ]
     },
     "execution_count": 99,
     "metadata": {},
     "output_type": "execute_result"
    }
   ],
   "source": [
    "list_pars = list(set(df_4['parametro']))\n",
    "list_pars.sort()\n",
    "list_pars"
   ]
  },
  {
   "cell_type": "markdown",
   "id": "bf415b17-a667-4608-870c-f922afa97f56",
   "metadata": {},
   "source": [
    "<br>\n",
    "\n",
    "#### Bactérias Heterotróficas"
   ]
  },
  {
   "cell_type": "code",
   "execution_count": null,
   "id": "8961adbd-2aaa-495e-be57-d64555897685",
   "metadata": {},
   "outputs": [],
   "source": [
    "df_4_bacte = df_4[df_4['parametro'] == 'Bactérias Heterotróficas'].copy()\n",
    "df_4_bacte.reset_index(drop=True, inplace=True)\n",
    "\n",
    "df_4_bacte.info()\n",
    "df_4_bacte.head()"
   ]
  },
  {
   "cell_type": "code",
   "execution_count": null,
   "id": "d436c648-1b7c-4ea8-ac4f-4d1dd5c833b2",
   "metadata": {},
   "outputs": [],
   "source": [
    "#set(df_4_bacte['resultado'])"
   ]
  },
  {
   "cell_type": "code",
   "execution_count": null,
   "id": "aa46eaab-f29e-4343-9fbb-b0aba0162b03",
   "metadata": {},
   "outputs": [],
   "source": [
    "# Notei que nos resultados existem alguns valores com espaços (por exemplo, \"> 500\").\n",
    "# Splitei a coluna\n",
    "\n",
    "df_4_bacte[['a','b']] = df_4_bacte['resultado'].str.split(' ', 1, expand=True)"
   ]
  },
  {
   "cell_type": "code",
   "execution_count": null,
   "id": "b6f7ab74-a048-4532-a4fc-98a0915eb7a2",
   "metadata": {},
   "outputs": [],
   "source": [
    "# Criei as colunas a e b.\n",
    "# Quando ambas não são nulas, crie a coluna \"sinal\" e coloquei o \">\"\n",
    "\n",
    "mask = (df_4_bacte['a'].notnull()) & (df_4_bacte['b'].notnull())\n",
    "df_4_bacte.loc[mask, 'sinal'] = df_4_bacte['a']\n",
    "df_4_bacte.loc[mask, 'resultado'] = df_4_bacte['b']"
   ]
  },
  {
   "cell_type": "code",
   "execution_count": null,
   "id": "42b22502-2232-4933-b23c-8c8834b87d37",
   "metadata": {},
   "outputs": [],
   "source": [
    "# Depois salvei o número, efetivamente\n",
    "\n",
    "mask = (df_4_bacte['a'].notnull()) & (df_4_bacte['b'].isnull())\n",
    "df_4_bacte.loc[mask, 'resultado'] = df_4_bacte['a']"
   ]
  },
  {
   "cell_type": "code",
   "execution_count": null,
   "id": "abffeb8f-6aea-4f6c-af94-64688c13fe06",
   "metadata": {},
   "outputs": [],
   "source": [
    "# Agora sim; converti tudo para float\n",
    "\n",
    "df_4_bacte.loc[:, 'resultado'] = df_4_bacte['resultado'].astype(str).str.replace(',', '.')\n",
    "df_4_bacte['resultado'] = pd.to_numeric(df_4_bacte['resultado'], errors='coerce')"
   ]
  },
  {
   "cell_type": "code",
   "execution_count": null,
   "id": "cd4b638c-c0bf-4996-bf5a-a0c859b82403",
   "metadata": {},
   "outputs": [],
   "source": [
    "df_4_bacte.drop(['a', 'b'], inplace=True, axis=1, errors='ignore')"
   ]
  },
  {
   "cell_type": "code",
   "execution_count": null,
   "id": "c8d351c9-d140-41df-878d-a0e87a7d156d",
   "metadata": {
    "tags": []
   },
   "outputs": [],
   "source": [
    "df_4_bacte.info()\n",
    "df_4_bacte.head()"
   ]
  },
  {
   "cell_type": "code",
   "execution_count": null,
   "id": "fb35ce30-a18a-44c6-8a1b-01690caa00bc",
   "metadata": {},
   "outputs": [],
   "source": [
    "df_4_bacte = df_4_bacte.dropna(axis=0, subset=['resultado'])"
   ]
  },
  {
   "cell_type": "code",
   "execution_count": null,
   "id": "f265ef03-85e5-422d-a303-1a44ca4dc34d",
   "metadata": {},
   "outputs": [],
   "source": [
    "with engine.connect().execution_options(autocommit=True) as conn:\n",
    "    df_4_bacte.to_sql(\n",
    "        'vig_par_basico_bacterias',\n",
    "        con=conn,\n",
    "        if_exists='replace',\n",
    "        schema='michelmetran/br_sisagua',\n",
    "        index=False,\n",
    "        #chunksize=500,\n",
    "        method=psql_insert_copy,\n",
    "    )"
   ]
  },
  {
   "cell_type": "code",
   "execution_count": null,
   "id": "9987393c-8ecc-47d6-9469-942a18755e2c",
   "metadata": {},
   "outputs": [],
   "source": []
  },
  {
   "cell_type": "code",
   "execution_count": null,
   "id": "ba35964d-8d69-45d7-a0a2-82e75871dd40",
   "metadata": {},
   "outputs": [],
   "source": [
    "#df_4_bacte['resultado'].hist(bins=300)"
   ]
  },
  {
   "cell_type": "code",
   "execution_count": null,
   "id": "d75574d3-b736-4aa5-b147-1f9b0e2ad58e",
   "metadata": {},
   "outputs": [],
   "source": [
    "#list(set(df_4_bacte['resultado']))[0:1000]"
   ]
  },
  {
   "cell_type": "code",
   "execution_count": null,
   "id": "5d307e17-f1c6-4689-9340-70256b985b67",
   "metadata": {},
   "outputs": [],
   "source": [
    "# TODO\n",
    "# df_4['resultado'] = df_4['resultado'].astype(str).str.replace(',', '#')\n",
    "# #df_4['resultado'] = df_4['resultado'].astype(str).str.replace('.', ',')\n",
    "# df_4['resultado'] = df_4['resultado'].astype(str).str.replace('#', '.')\n",
    "# df_4['resultado'] = pd.to_numeric(df_4['resultado'], errors='coerce')\n",
    "# list(set(df_4['resultado']))[0:1000]"
   ]
  },
  {
   "cell_type": "code",
   "execution_count": null,
   "id": "3a553947-5ef5-40e8-8abb-cf79b03d604f",
   "metadata": {},
   "outputs": [],
   "source": [
    "# mask = (df_4_bacte['a'].notnull()) & (df_4_bacte['b'].notnull())\n",
    "# df_4_bacte.loc[mask,[\n",
    "#     'resultado',\n",
    "#     'sinal',\n",
    "#     #'bb'\n",
    "# ]].drop_duplicates()"
   ]
  },
  {
   "cell_type": "code",
   "execution_count": null,
   "id": "1695d375-4f4c-4faa-9879-3eedba261133",
   "metadata": {},
   "outputs": [],
   "source": [
    "# df_4_bacte.replace({'resultado': {\n",
    "#     '0.000.00': 0,\n",
    "#     '00.000.00': 0,\n",
    "#     '5.000.00': 0,\n",
    "#     'nan': 0}}, inplace=True)\n",
    "\n",
    "\n",
    "# df_4_bacte['resultado'] = df_4_bacte['resultado'].astype(str).str.replace(',', '.')\n",
    "# df_4_bacte['resultado'] = pd.to_numeric(df_4_bacte['resultado'])"
   ]
  },
  {
   "cell_type": "code",
   "execution_count": null,
   "id": "cb6c85df-87b5-4a20-9750-8624d64a73e8",
   "metadata": {},
   "outputs": [],
   "source": [
    "# # List\n",
    "\n",
    "# df_4_bacte.loc[:,'resultado'] = pd.to_numeric(df_4_bacte['resultado'], errors='coerce')\n",
    "# list_res = list(set(df_4_bacte['resultado']))\n",
    "# list_res.sort()\n",
    "# print(len(list_res))\n",
    "\n",
    "# # Loop\n",
    "# list_values = []\n",
    "# for i in list_res:\n",
    "#     try:\n",
    "#         float(i)\n",
    "#     except ValueError:\n",
    "#         list_values.append(i)\n",
    "\n",
    "# # Results\n",
    "# len(list_values)\n",
    "# list_values"
   ]
  },
  {
   "cell_type": "code",
   "execution_count": null,
   "id": "4f59988a-3a31-4faa-8cab-e33de509ee3b",
   "metadata": {},
   "outputs": [],
   "source": [
    "# #df_4[df_4['resultado'].isin(list_values)]\n",
    "# df_temp = df_4[df_4['resultado'].isin(['< 500.0', '> 500.0', 'AUSENTE', 'NAO_REALIZADA', 'PRESENTE'])]\n",
    "# df_temp"
   ]
  },
  {
   "cell_type": "code",
   "execution_count": null,
   "id": "835107a3-a017-4e56-b04f-9f26c94eae0e",
   "metadata": {
    "tags": []
   },
   "outputs": [],
   "source": [
    "\n",
    "# g = 9\n",
    "# print(list_values[g])\n",
    "# df_temp = df_4[df_4['resultado'] == list_values[g]]\n",
    "\n",
    "# df_temp_2 = df_temp[df_temp['resultado'] == list_values[g]]\n",
    "\n",
    "# print(len(df_temp_2))\n",
    "# df_temp_2.head()"
   ]
  },
  {
   "cell_type": "markdown",
   "id": "236ab95c-9cb8-45cb-bbaa-1c7fc59e4ca3",
   "metadata": {},
   "source": [
    "<br>\n",
    "\n",
    "#### Cloro Residual Combinado (mg/L)"
   ]
  },
  {
   "cell_type": "code",
   "execution_count": null,
   "id": "b365982c-fec2-41c5-816d-98dc63557d8b",
   "metadata": {},
   "outputs": [],
   "source": [
    "df_4_cloco = df_4[df_4['parametro'] == 'Cloro residual combinado (mg/L)'].copy()\n",
    "df_4_cloco.reset_index(drop=True, inplace=True)\n",
    "\n",
    "df_4_cloco.info()\n",
    "df_4_cloco.head()"
   ]
  },
  {
   "cell_type": "code",
   "execution_count": null,
   "id": "a54b87d5-f79a-49b2-b93b-5f4f1b97570d",
   "metadata": {},
   "outputs": [],
   "source": [
    "df_4_cloco.loc[:, 'resultado'] = df_4_cloco['resultado'].astype(str).str.replace(',', '.')\n",
    "df_4_cloco.loc[:, 'resultado'] = pd.to_numeric(df_4_cloco['resultado'], errors='coerce')\n",
    "set(df_4_cloco['resultado'])"
   ]
  },
  {
   "cell_type": "code",
   "execution_count": null,
   "id": "b3e6f5d3-2c99-4d54-968c-4742f7ad729b",
   "metadata": {},
   "outputs": [],
   "source": [
    "with engine.connect().execution_options(autocommit=True) as conn:\n",
    "    df_4_cloco.to_sql(\n",
    "        'vig_par_basico_cloro_combinado',\n",
    "        con=conn,\n",
    "        if_exists='replace',\n",
    "        schema='michelmetran/br_sisagua',\n",
    "        index=False,\n",
    "        chunksize=500,\n",
    "        method=psql_insert_copy,\n",
    "    )"
   ]
  },
  {
   "cell_type": "code",
   "execution_count": null,
   "id": "ccf944d5-b2ad-4d7f-b0c4-28a3dc0d1d78",
   "metadata": {},
   "outputs": [],
   "source": []
  },
  {
   "cell_type": "markdown",
   "id": "cb4cf150-ed29-4513-99c3-fe8a345de615",
   "metadata": {},
   "source": [
    "<br>\n",
    "\n",
    "#### Cloro Residual Livre (mg/L)"
   ]
  },
  {
   "cell_type": "code",
   "execution_count": null,
   "id": "be7b3f73-b6fa-4e02-933e-fdb9b78705a5",
   "metadata": {},
   "outputs": [],
   "source": [
    "df_4_cloli = df_4[df_4['parametro'] == 'Cloro residual livre (mg/L)'].copy()\n",
    "df_4_cloli.reset_index(drop=True, inplace=True)\n",
    "\n",
    "df_4_cloli.info()\n",
    "df_4_cloli.head()"
   ]
  },
  {
   "cell_type": "code",
   "execution_count": null,
   "id": "29700870-8e8a-48e3-8224-5a670d2fbe3f",
   "metadata": {},
   "outputs": [],
   "source": [
    "set(df_4_cloli['resultado'])\n",
    "df_4_cloli.loc[:, 'resultado'] = df_4_cloli['resultado'].astype(str).str.replace(',', '.')\n",
    "df_4_cloli.loc[:, 'resultado'] = pd.to_numeric(df_4_cloli['resultado'], errors='coerce')"
   ]
  },
  {
   "cell_type": "code",
   "execution_count": null,
   "id": "e77165ea-7930-4da3-ba72-beb168018631",
   "metadata": {},
   "outputs": [],
   "source": [
    "df_4_cloli = df_4_cloli.dropna(axis=0, subset=['resultado'])"
   ]
  },
  {
   "cell_type": "code",
   "execution_count": null,
   "id": "43330f43-055e-43aa-8e88-b7c032fa1398",
   "metadata": {},
   "outputs": [],
   "source": [
    "with engine.connect().execution_options(autocommit=True) as conn:\n",
    "    df_4_cloli.to_sql(\n",
    "        'vig_par_basico_cloro_livre',\n",
    "        con=conn,\n",
    "        if_exists='replace',\n",
    "        schema='michelmetran/br_sisagua',\n",
    "        index=False,\n",
    "        chunksize=5000,\n",
    "        method=psql_insert_copy,\n",
    "    )"
   ]
  },
  {
   "cell_type": "code",
   "execution_count": null,
   "id": "94c46aec-a262-4370-a2a9-375e5232c758",
   "metadata": {},
   "outputs": [],
   "source": []
  },
  {
   "cell_type": "markdown",
   "id": "ba27dc99-6e80-4e28-8813-b137dd103528",
   "metadata": {},
   "source": [
    "<br>\n",
    "\n",
    "#### Coliformes Totais\n",
    "\n",
    "- Resultados expressos em: Ausente, Presente"
   ]
  },
  {
   "cell_type": "code",
   "execution_count": null,
   "id": "e4fbf399-c45b-47ce-8449-737dd1beedb8",
   "metadata": {},
   "outputs": [],
   "source": [
    "df_4_colif = df_4[df_4['parametro'] == 'Coliformes totais'].copy()\n",
    "df_4_colif.reset_index(drop=True, inplace=True)\n",
    "\n",
    "df_4_colif.info()\n",
    "df_4_colif.head()"
   ]
  },
  {
   "cell_type": "code",
   "execution_count": null,
   "id": "620dd13f-6cf3-44b0-adeb-9fc4f2d58f01",
   "metadata": {},
   "outputs": [],
   "source": [
    "df_4_colif['resultado'] = df_4_colif['resultado'].str.title()\n",
    "set(df_4_colif['resultado'])"
   ]
  },
  {
   "cell_type": "code",
   "execution_count": null,
   "id": "22d5171d-8044-4239-8c85-9fc28a595778",
   "metadata": {},
   "outputs": [],
   "source": [
    "with engine.connect().execution_options(autocommit=True) as conn:\n",
    "    df_4_colif.to_sql(\n",
    "        'vig_par_basico_coliformes',\n",
    "        con=conn,\n",
    "        if_exists='replace',\n",
    "        schema='michelmetran/br_sisagua',\n",
    "        index=False,\n",
    "        chunksize=5000,\n",
    "        method=psql_insert_copy,\n",
    "    )"
   ]
  },
  {
   "cell_type": "code",
   "execution_count": null,
   "id": "3093f693-5a9c-4932-819f-98d52a440861",
   "metadata": {},
   "outputs": [],
   "source": []
  },
  {
   "cell_type": "code",
   "execution_count": null,
   "id": "4575e692-78c7-4800-ae6f-22baf39d2ff9",
   "metadata": {},
   "outputs": [],
   "source": []
  },
  {
   "cell_type": "markdown",
   "id": "7690b353-cabc-4ed1-bb76-c32acf69f3b2",
   "metadata": {},
   "source": [
    "<br>\n",
    "\n",
    "#### Cor (uH)"
   ]
  },
  {
   "cell_type": "code",
   "execution_count": null,
   "id": "6630f8ed-886f-45ac-a21d-4b5318ae3cd5",
   "metadata": {},
   "outputs": [],
   "source": [
    "df_4_cor = df_4[df_4['parametro'] == 'Cor (uH)'].copy()\n",
    "df_4_cor.reset_index(drop=True, inplace=True)\n",
    "\n",
    "df_4_cor.info()\n",
    "df_4_cor.head()"
   ]
  },
  {
   "cell_type": "code",
   "execution_count": null,
   "id": "5e930fcc-ea59-4094-bfd2-e074719f10a6",
   "metadata": {},
   "outputs": [],
   "source": [
    "set(df_4_cor['resultado'])\n",
    "df_4_cor.loc[:, 'resultado'] = df_4_cor['resultado'].astype(str).str.replace(',', '.')\n",
    "df_4_cor.loc[:, 'resultado'] = pd.to_numeric(df_4_cor['resultado'], errors='coerce')"
   ]
  },
  {
   "cell_type": "code",
   "execution_count": null,
   "id": "c85c3c77-3649-4894-85d9-1045304c9d8f",
   "metadata": {},
   "outputs": [],
   "source": [
    "with engine.connect().execution_options(autocommit=True) as conn:\n",
    "    df_4_cor.to_sql(\n",
    "        'vig_par_basico_cor',\n",
    "        con=conn,\n",
    "        if_exists='replace',\n",
    "        schema='michelmetran/br_sisagua',\n",
    "        index=False,\n",
    "        chunksize=5000,\n",
    "        method=psql_insert_copy,\n",
    "    )"
   ]
  },
  {
   "cell_type": "code",
   "execution_count": null,
   "id": "02ff29ca-6c8e-41e1-829c-93900a677715",
   "metadata": {},
   "outputs": [],
   "source": []
  },
  {
   "cell_type": "code",
   "execution_count": null,
   "id": "6ef718ac-7784-4504-be6a-0cc02513311d",
   "metadata": {},
   "outputs": [],
   "source": []
  },
  {
   "cell_type": "markdown",
   "id": "f70f9d5c-51b4-4628-92e4-a56b48c90f3f",
   "metadata": {},
   "source": [
    "<br>\n",
    "\n",
    "#### Dióxido de Cloro (mg/L)"
   ]
  },
  {
   "cell_type": "code",
   "execution_count": null,
   "id": "47810c9b-dab2-4cce-a5f5-07eae2c99db9",
   "metadata": {},
   "outputs": [],
   "source": [
    "df_4_dicl = df_4[df_4['parametro'] == 'Dióxido de Cloro (mg/L)'].copy()\n",
    "df_4_dicl.reset_index(drop=True, inplace=True)\n",
    "\n",
    "df_4_dicl.info()\n",
    "df_4_dicl.head()"
   ]
  },
  {
   "cell_type": "code",
   "execution_count": null,
   "id": "8010c00e-89d1-40d3-8744-8cd34a669f8f",
   "metadata": {},
   "outputs": [],
   "source": [
    "set(df_4_dicl['resultado'])\n",
    "df_4_dicl.loc[:, 'resultado'] = df_4_dicl['resultado'].astype(str).str.replace(',', '.')\n",
    "df_4_dicl.loc[:, 'resultado'] = pd.to_numeric(df_4_dicl['resultado'], errors='coerce')"
   ]
  },
  {
   "cell_type": "code",
   "execution_count": null,
   "id": "67ed51e1-2353-4724-a343-431e17f1e6bd",
   "metadata": {},
   "outputs": [],
   "source": [
    "with engine.connect().execution_options(autocommit=True) as conn:\n",
    "    df_4_dicl.to_sql(\n",
    "        'vig_par_basico_di_cloro',\n",
    "        con=conn,\n",
    "        if_exists='replace',\n",
    "        schema='michelmetran/br_sisagua',\n",
    "        index=False,\n",
    "        chunksize=5000,\n",
    "        method=psql_insert_copy,\n",
    "    )"
   ]
  },
  {
   "cell_type": "code",
   "execution_count": null,
   "id": "bae4d611-e1ee-4ecc-94c0-755cb2f583d9",
   "metadata": {},
   "outputs": [],
   "source": []
  },
  {
   "cell_type": "code",
   "execution_count": null,
   "id": "f249c875-3e69-41fa-b4a8-3796b3661bfc",
   "metadata": {},
   "outputs": [],
   "source": []
  },
  {
   "cell_type": "markdown",
   "id": "89eae0c5-731e-435e-8e70-e9e781ad7dd8",
   "metadata": {},
   "source": [
    "<br>\n",
    "\n",
    "#### Escherichia coli"
   ]
  },
  {
   "cell_type": "code",
   "execution_count": null,
   "id": "7269ab13-3b14-42ad-b567-277d6d3fd6da",
   "metadata": {},
   "outputs": [],
   "source": [
    "df_4_ecol = df_4[df_4['parametro'] == 'Escherichia coli'].copy()\n",
    "df_4_ecol.reset_index(drop=True, inplace=True)\n",
    "\n",
    "df_4_ecol.info()\n",
    "df_4_ecol.head()"
   ]
  },
  {
   "cell_type": "code",
   "execution_count": null,
   "id": "0237e2b7-de48-4f39-9b1c-97140f8fff57",
   "metadata": {},
   "outputs": [],
   "source": [
    "df_4_ecol['resultado'] = df_4_ecol['resultado'].str.title()\n",
    "set(df_4_ecol['resultado'])"
   ]
  },
  {
   "cell_type": "code",
   "execution_count": null,
   "id": "36d9f894-56c2-465f-9309-c7754fa60ed9",
   "metadata": {},
   "outputs": [],
   "source": [
    "with engine.connect().execution_options(autocommit=True) as conn:\n",
    "    df_4_ecol.to_sql(\n",
    "        'vig_par_basico_e_coli',\n",
    "        con=conn,\n",
    "        if_exists='replace',\n",
    "        schema='michelmetran/br_sisagua',\n",
    "        index=False,\n",
    "        chunksize=5000,\n",
    "        method=psql_insert_copy,\n",
    "    )"
   ]
  },
  {
   "cell_type": "code",
   "execution_count": null,
   "id": "3e12d42b-bb95-4916-b07c-b692bcca2e6a",
   "metadata": {},
   "outputs": [],
   "source": []
  },
  {
   "cell_type": "markdown",
   "id": "79da73a5-7737-455c-a5a5-542001c80059",
   "metadata": {},
   "source": [
    "<br>\n",
    "\n",
    "#### Fluoreto (mg/L)"
   ]
  },
  {
   "cell_type": "code",
   "execution_count": null,
   "id": "9b8c4145-3406-4c6a-b975-b11becdb67b8",
   "metadata": {},
   "outputs": [],
   "source": [
    "df_4_fluo = df_4[df_4['parametro'] == 'Fluoreto (mg/L)'].copy()\n",
    "df_4_fluo.reset_index(drop=True, inplace=True)\n",
    "\n",
    "df_4_fluo.info()\n",
    "df_4_fluo.head()"
   ]
  },
  {
   "cell_type": "code",
   "execution_count": null,
   "id": "5a9da9a7-bb13-4e0f-9edc-87ef940afac9",
   "metadata": {},
   "outputs": [],
   "source": [
    "df_4_fluo.loc[:, 'resultado'] = df_4_fluo['resultado'].astype(str).str.replace(',', '.')\n",
    "df_4_fluo.loc[:, 'resultado'] = pd.to_numeric(df_4_fluo['resultado'], errors='coerce')\n",
    "set(df_4_fluo['resultado'])"
   ]
  },
  {
   "cell_type": "code",
   "execution_count": null,
   "id": "d317afd7-6c35-47f5-88e3-ba2dcdfddd6c",
   "metadata": {},
   "outputs": [],
   "source": [
    "df_4_fluo = df_4_fluo.dropna(axis=0, subset=['resultado'])"
   ]
  },
  {
   "cell_type": "code",
   "execution_count": null,
   "id": "5a9f1be6-0e88-4673-a486-a6c6636fd647",
   "metadata": {},
   "outputs": [],
   "source": [
    "with engine.connect().execution_options(autocommit=True) as conn:\n",
    "    df_4_fluo.to_sql(\n",
    "        'vig_par_basico_fluor',\n",
    "        con=conn,\n",
    "        if_exists='replace',\n",
    "        schema='michelmetran/br_sisagua',\n",
    "        index=False,\n",
    "        chunksize=5000,\n",
    "        method=psql_insert_copy,\n",
    "    )"
   ]
  },
  {
   "cell_type": "code",
   "execution_count": null,
   "id": "4837e00e-26d9-414b-acd9-9722ff7dcfe7",
   "metadata": {},
   "outputs": [],
   "source": []
  },
  {
   "cell_type": "markdown",
   "id": "9493b9da-a9f7-4424-af6f-4e7ea25fd1be",
   "metadata": {},
   "source": [
    "<br>\n",
    "\n",
    "#### Turbidez (uT)"
   ]
  },
  {
   "cell_type": "code",
   "execution_count": 100,
   "id": "8663bddf-003f-4f6a-a533-4d452494d389",
   "metadata": {},
   "outputs": [
    {
     "name": "stdout",
     "output_type": "stream",
     "text": [
      "<class 'pandas.core.frame.DataFrame'>\n",
      "RangeIndex: 488699 entries, 0 to 488698\n",
      "Data columns (total 32 columns):\n",
      " #   Column                          Non-Null Count   Dtype         \n",
      "---  ------                          --------------   -----         \n",
      " 0   id_ibge                         488699 non-null  int64         \n",
      " 1   n_amostra                       488699 non-null  object        \n",
      " 2   coleta_motivo                   488699 non-null  object        \n",
      " 3   forma_abastecimento_tipo        488699 non-null  object        \n",
      " 4   forma_abastecimento_cod         488699 non-null  object        \n",
      " 5   forma_abastecimento_nome        488699 non-null  object        \n",
      " 6   instituicao_tipo                487862 non-null  object        \n",
      " 7   instituicao_sigla               259462 non-null  object        \n",
      " 8   instituicao_nome                487862 non-null  object        \n",
      " 9   instituicao_cnpj                487862 non-null  object        \n",
      " 10  escritorio_regional_local_nome  259462 non-null  object        \n",
      " 11  escritorio_regional_local_cnpj  259462 non-null  object        \n",
      " 12  eta_uta_nome                    3818 non-null    object        \n",
      " 13  ano_referencia                  488699 non-null  int64         \n",
      " 14  mes_referencia                  488699 non-null  int64         \n",
      " 15  data_coleta                     488699 non-null  datetime64[ns]\n",
      " 16  data_laudo                      488699 non-null  object        \n",
      " 17  data_registro_sisagua           488699 non-null  datetime64[ns]\n",
      " 18  coleta_procedencia              488699 non-null  object        \n",
      " 19  coleta_ponto                    483221 non-null  object        \n",
      " 20  local_descricao                 477191 non-null  object        \n",
      " 21  zona                            487466 non-null  object        \n",
      " 22  area_categoria                  487466 non-null  object        \n",
      " 23  area_nome                       487466 non-null  object        \n",
      " 24  local_tipo                      69000 non-null   object        \n",
      " 25  local_nome                      69000 non-null   object        \n",
      " 26  latitude                        34048 non-null   float64       \n",
      " 27  longitude                       34048 non-null   float64       \n",
      " 28  parametro                       488699 non-null  object        \n",
      " 29  analise_realizada               488699 non-null  object        \n",
      " 30  resultado                       488699 non-null  object        \n",
      " 31  providencia                     2029 non-null    object        \n",
      "dtypes: datetime64[ns](2), float64(2), int64(3), object(25)\n",
      "memory usage: 119.3+ MB\n"
     ]
    },
    {
     "data": {
      "text/html": [
       "<div>\n",
       "<style scoped>\n",
       "    .dataframe tbody tr th:only-of-type {\n",
       "        vertical-align: middle;\n",
       "    }\n",
       "\n",
       "    .dataframe tbody tr th {\n",
       "        vertical-align: top;\n",
       "    }\n",
       "\n",
       "    .dataframe thead th {\n",
       "        text-align: right;\n",
       "    }\n",
       "</style>\n",
       "<table border=\"1\" class=\"dataframe\">\n",
       "  <thead>\n",
       "    <tr style=\"text-align: right;\">\n",
       "      <th></th>\n",
       "      <th>id_ibge</th>\n",
       "      <th>n_amostra</th>\n",
       "      <th>coleta_motivo</th>\n",
       "      <th>forma_abastecimento_tipo</th>\n",
       "      <th>forma_abastecimento_cod</th>\n",
       "      <th>forma_abastecimento_nome</th>\n",
       "      <th>instituicao_tipo</th>\n",
       "      <th>instituicao_sigla</th>\n",
       "      <th>instituicao_nome</th>\n",
       "      <th>instituicao_cnpj</th>\n",
       "      <th>...</th>\n",
       "      <th>area_categoria</th>\n",
       "      <th>area_nome</th>\n",
       "      <th>local_tipo</th>\n",
       "      <th>local_nome</th>\n",
       "      <th>latitude</th>\n",
       "      <th>longitude</th>\n",
       "      <th>parametro</th>\n",
       "      <th>analise_realizada</th>\n",
       "      <th>resultado</th>\n",
       "      <th>providencia</th>\n",
       "    </tr>\n",
       "  </thead>\n",
       "  <tbody>\n",
       "    <tr>\n",
       "      <th>0</th>\n",
       "      <td>3500105</td>\n",
       "      <td>3251</td>\n",
       "      <td>Rotina</td>\n",
       "      <td>SAA</td>\n",
       "      <td>S350010000001</td>\n",
       "      <td>ADAMANTINA</td>\n",
       "      <td>Empresa Estadual</td>\n",
       "      <td>SABESP</td>\n",
       "      <td>COMPANHIA DE SANEAMENTO BASICO DO ESTADO DE SA...</td>\n",
       "      <td>43776517000180.0</td>\n",
       "      <td>...</td>\n",
       "      <td>Bairro</td>\n",
       "      <td>Parque Residencial Itamaraty</td>\n",
       "      <td>None</td>\n",
       "      <td>None</td>\n",
       "      <td>NaN</td>\n",
       "      <td>NaN</td>\n",
       "      <td>Turbidez (uT)</td>\n",
       "      <td>Em Laboratório</td>\n",
       "      <td>0,30</td>\n",
       "      <td>None</td>\n",
       "    </tr>\n",
       "    <tr>\n",
       "      <th>1</th>\n",
       "      <td>3500105</td>\n",
       "      <td>1423</td>\n",
       "      <td>Rotina</td>\n",
       "      <td>SAA</td>\n",
       "      <td>S350010000001</td>\n",
       "      <td>ADAMANTINA</td>\n",
       "      <td>Empresa Estadual</td>\n",
       "      <td>SABESP</td>\n",
       "      <td>COMPANHIA DE SANEAMENTO BASICO DO ESTADO DE SA...</td>\n",
       "      <td>43776517000180.0</td>\n",
       "      <td>...</td>\n",
       "      <td>Bairro</td>\n",
       "      <td>Jardim Aeroporto</td>\n",
       "      <td>None</td>\n",
       "      <td>None</td>\n",
       "      <td>NaN</td>\n",
       "      <td>NaN</td>\n",
       "      <td>Turbidez (uT)</td>\n",
       "      <td>Em Laboratório</td>\n",
       "      <td>0,20</td>\n",
       "      <td>None</td>\n",
       "    </tr>\n",
       "    <tr>\n",
       "      <th>2</th>\n",
       "      <td>3500105</td>\n",
       "      <td>364</td>\n",
       "      <td>Rotina</td>\n",
       "      <td>SAA</td>\n",
       "      <td>S350010000001</td>\n",
       "      <td>ADAMANTINA</td>\n",
       "      <td>Empresa Estadual</td>\n",
       "      <td>SABESP</td>\n",
       "      <td>COMPANHIA DE SANEAMENTO BASICO DO ESTADO DE SA...</td>\n",
       "      <td>43776517000180.0</td>\n",
       "      <td>...</td>\n",
       "      <td>Bairro</td>\n",
       "      <td>Jardim América</td>\n",
       "      <td>None</td>\n",
       "      <td>None</td>\n",
       "      <td>NaN</td>\n",
       "      <td>NaN</td>\n",
       "      <td>Turbidez (uT)</td>\n",
       "      <td>Em Laboratório</td>\n",
       "      <td>0,30</td>\n",
       "      <td>None</td>\n",
       "    </tr>\n",
       "    <tr>\n",
       "      <th>3</th>\n",
       "      <td>3500105</td>\n",
       "      <td>4085</td>\n",
       "      <td>Rotina</td>\n",
       "      <td>SAA</td>\n",
       "      <td>S350010000001</td>\n",
       "      <td>ADAMANTINA</td>\n",
       "      <td>Empresa Estadual</td>\n",
       "      <td>SABESP</td>\n",
       "      <td>COMPANHIA DE SANEAMENTO BASICO DO ESTADO DE SA...</td>\n",
       "      <td>43776517000180.0</td>\n",
       "      <td>...</td>\n",
       "      <td>Bairro</td>\n",
       "      <td>Parque Iguaçu</td>\n",
       "      <td>None</td>\n",
       "      <td>None</td>\n",
       "      <td>NaN</td>\n",
       "      <td>NaN</td>\n",
       "      <td>Turbidez (uT)</td>\n",
       "      <td>Em Laboratório</td>\n",
       "      <td>0,30</td>\n",
       "      <td>None</td>\n",
       "    </tr>\n",
       "    <tr>\n",
       "      <th>4</th>\n",
       "      <td>3500105</td>\n",
       "      <td>2159</td>\n",
       "      <td>Rotina</td>\n",
       "      <td>SAA</td>\n",
       "      <td>S350010000001</td>\n",
       "      <td>ADAMANTINA</td>\n",
       "      <td>Empresa Estadual</td>\n",
       "      <td>SABESP</td>\n",
       "      <td>COMPANHIA DE SANEAMENTO BASICO DO ESTADO DE SA...</td>\n",
       "      <td>43776517000180.0</td>\n",
       "      <td>...</td>\n",
       "      <td>Bairro</td>\n",
       "      <td>Conjunto Das Palmeiras</td>\n",
       "      <td>None</td>\n",
       "      <td>None</td>\n",
       "      <td>NaN</td>\n",
       "      <td>NaN</td>\n",
       "      <td>Turbidez (uT)</td>\n",
       "      <td>Em Laboratório</td>\n",
       "      <td>0,30</td>\n",
       "      <td>None</td>\n",
       "    </tr>\n",
       "  </tbody>\n",
       "</table>\n",
       "<p>5 rows × 32 columns</p>\n",
       "</div>"
      ],
      "text/plain": [
       "   id_ibge n_amostra coleta_motivo forma_abastecimento_tipo  \\\n",
       "0  3500105      3251        Rotina                      SAA   \n",
       "1  3500105      1423        Rotina                      SAA   \n",
       "2  3500105       364        Rotina                      SAA   \n",
       "3  3500105      4085        Rotina                      SAA   \n",
       "4  3500105      2159        Rotina                      SAA   \n",
       "\n",
       "  forma_abastecimento_cod forma_abastecimento_nome  instituicao_tipo  \\\n",
       "0           S350010000001               ADAMANTINA  Empresa Estadual   \n",
       "1           S350010000001               ADAMANTINA  Empresa Estadual   \n",
       "2           S350010000001               ADAMANTINA  Empresa Estadual   \n",
       "3           S350010000001               ADAMANTINA  Empresa Estadual   \n",
       "4           S350010000001               ADAMANTINA  Empresa Estadual   \n",
       "\n",
       "  instituicao_sigla                                   instituicao_nome  \\\n",
       "0            SABESP  COMPANHIA DE SANEAMENTO BASICO DO ESTADO DE SA...   \n",
       "1            SABESP  COMPANHIA DE SANEAMENTO BASICO DO ESTADO DE SA...   \n",
       "2            SABESP  COMPANHIA DE SANEAMENTO BASICO DO ESTADO DE SA...   \n",
       "3            SABESP  COMPANHIA DE SANEAMENTO BASICO DO ESTADO DE SA...   \n",
       "4            SABESP  COMPANHIA DE SANEAMENTO BASICO DO ESTADO DE SA...   \n",
       "\n",
       "   instituicao_cnpj  ... area_categoria                     area_nome  \\\n",
       "0  43776517000180.0  ...         Bairro  Parque Residencial Itamaraty   \n",
       "1  43776517000180.0  ...         Bairro              Jardim Aeroporto   \n",
       "2  43776517000180.0  ...         Bairro                Jardim América   \n",
       "3  43776517000180.0  ...         Bairro                 Parque Iguaçu   \n",
       "4  43776517000180.0  ...         Bairro        Conjunto Das Palmeiras   \n",
       "\n",
       "  local_tipo  local_nome  latitude longitude      parametro analise_realizada  \\\n",
       "0       None        None       NaN       NaN  Turbidez (uT)    Em Laboratório   \n",
       "1       None        None       NaN       NaN  Turbidez (uT)    Em Laboratório   \n",
       "2       None        None       NaN       NaN  Turbidez (uT)    Em Laboratório   \n",
       "3       None        None       NaN       NaN  Turbidez (uT)    Em Laboratório   \n",
       "4       None        None       NaN       NaN  Turbidez (uT)    Em Laboratório   \n",
       "\n",
       "  resultado providencia  \n",
       "0      0,30        None  \n",
       "1      0,20        None  \n",
       "2      0,30        None  \n",
       "3      0,30        None  \n",
       "4      0,30        None  \n",
       "\n",
       "[5 rows x 32 columns]"
      ]
     },
     "execution_count": 100,
     "metadata": {},
     "output_type": "execute_result"
    }
   ],
   "source": [
    "df_4_turb = df_4[df_4['parametro'] == 'Turbidez (uT)'].copy()\n",
    "df_4_turb.reset_index(drop=True, inplace=True)\n",
    "\n",
    "df_4_turb.info()\n",
    "df_4_turb.head()"
   ]
  },
  {
   "cell_type": "code",
   "execution_count": 101,
   "id": "26fd5f8a-2a41-4246-9edb-bf36afd9ca6e",
   "metadata": {},
   "outputs": [],
   "source": [
    "set(df_4_turb['resultado'])\n",
    "df_4_turb.loc[:, 'resultado'] = df_4_turb['resultado'].astype(str).str.replace(',', '.')\n",
    "df_4_turb.loc[:, 'resultado'] = pd.to_numeric(df_4_turb['resultado'], errors='coerce')"
   ]
  },
  {
   "cell_type": "code",
   "execution_count": 102,
   "id": "4578a928-417d-4e73-bf96-577c2c7fb9ac",
   "metadata": {},
   "outputs": [],
   "source": [
    "df_4_turb = df_4_turb.dropna(axis=0, subset=['resultado'])"
   ]
  },
  {
   "cell_type": "code",
   "execution_count": 104,
   "id": "5d25a253-b0e3-4e31-9475-4fc179863523",
   "metadata": {},
   "outputs": [],
   "source": [
    "with engine.connect().execution_options(autocommit=True) as conn:\n",
    "    df_4_turb.to_sql(\n",
    "        'vig_par_basico_turbidez',\n",
    "        con=conn,\n",
    "        if_exists='replace',\n",
    "        schema='michelmetran/br_sisagua',\n",
    "        index=False,\n",
    "        chunksize=5000,\n",
    "        method=psql_insert_copy,\n",
    "    )"
   ]
  },
  {
   "cell_type": "code",
   "execution_count": null,
   "id": "c4291da7-32fc-4671-baa0-fcfa711fd5fe",
   "metadata": {},
   "outputs": [],
   "source": []
  },
  {
   "cell_type": "markdown",
   "id": "de1f99ce-d0db-47ca-96c6-aea2f77af86e",
   "metadata": {},
   "source": [
    "<br>\n",
    "\n",
    "#### pH"
   ]
  },
  {
   "cell_type": "code",
   "execution_count": null,
   "id": "16e74ad0-16e1-4ba3-8045-669d46355b69",
   "metadata": {},
   "outputs": [],
   "source": [
    "df_4_ph = df_4[df_4['parametro'] == 'pH'].copy()\n",
    "df_4_ph.reset_index(drop=True, inplace=True)\n",
    "\n",
    "df_4_ph.info()\n",
    "df_4_ph.head()"
   ]
  },
  {
   "cell_type": "code",
   "execution_count": null,
   "id": "152bce81-b355-4525-a9d4-2377e1c34b31",
   "metadata": {},
   "outputs": [],
   "source": [
    "set(df_4_ph['resultado'])\n",
    "df_4_ph.loc[:, 'resultado'] = df_4_ph['resultado'].astype(str).str.replace(',', '.')\n",
    "df_4_ph.loc[:, 'resultado'] = pd.to_numeric(df_4_ph['resultado'], errors='coerce')"
   ]
  },
  {
   "cell_type": "code",
   "execution_count": null,
   "id": "b9da9948-883a-4030-8ecf-aa404c9961a5",
   "metadata": {},
   "outputs": [],
   "source": [
    "df_4_ph = df_4_ph.dropna(axis=0, subset=['resultado'])"
   ]
  },
  {
   "cell_type": "code",
   "execution_count": null,
   "id": "2d0ae438-a9f2-46e3-b382-311a6974df05",
   "metadata": {},
   "outputs": [],
   "source": [
    "with engine.connect().execution_options(autocommit=True) as conn:\n",
    "    df_4_ph.to_sql(\n",
    "        'vig_par_basico_ph',\n",
    "        con=conn,\n",
    "        if_exists='replace',\n",
    "        schema='michelmetran/br_sisagua',\n",
    "        index=False,\n",
    "        chunksize=5000,\n",
    "        method=psql_insert_copy,\n",
    "    )"
   ]
  },
  {
   "cell_type": "code",
   "execution_count": null,
   "id": "0aada505-3013-4e4a-b00b-7e7c41b1541c",
   "metadata": {},
   "outputs": [],
   "source": []
  },
  {
   "cell_type": "markdown",
   "id": "7f137115-955d-405d-97fc-58276fd946ae",
   "metadata": {},
   "source": [
    "<br>\n",
    "\n",
    "### Demais Parâmetros"
   ]
  },
  {
   "cell_type": "code",
   "execution_count": 63,
   "id": "6c2eaf04-54bc-4a8b-958c-009d88466a72",
   "metadata": {},
   "outputs": [
    {
     "name": "stdout",
     "output_type": "stream",
     "text": [
      "<class 'pandas.core.frame.DataFrame'>\n",
      "Int64Index: 30768 entries, 0 to 33078\n",
      "Data columns (total 27 columns):\n",
      " #   Column                    Non-Null Count  Dtype         \n",
      "---  ------                    --------------  -----         \n",
      " 0   id_ibge                   30768 non-null  int64         \n",
      " 1   n_amostra                 30768 non-null  object        \n",
      " 2   coleta_motivo             30768 non-null  object        \n",
      " 3   forma_abastecimento_tipo  30768 non-null  object        \n",
      " 4   forma_abastecimento_cod   30768 non-null  object        \n",
      " 5   forma_abastecimento_nome  30768 non-null  object        \n",
      " 6   ano_referencia            30768 non-null  int64         \n",
      " 7   mes_referencia            30768 non-null  int64         \n",
      " 8   data_coleta               30768 non-null  datetime64[ns]\n",
      " 9   data_laudo                30768 non-null  datetime64[ns]\n",
      " 10  data_registro_sisagua     30768 non-null  datetime64[ns]\n",
      " 11  coleta_procedencia        30768 non-null  object        \n",
      " 12  coleta_ponto              24321 non-null  object        \n",
      " 13  local_descricao           30168 non-null  object        \n",
      " 14  zona                      30062 non-null  object        \n",
      " 15  area_categoria            30062 non-null  object        \n",
      " 16  area_nome                 30062 non-null  object        \n",
      " 17  local_tipo                600 non-null    object        \n",
      " 18  local_nome                600 non-null    object        \n",
      " 19  latitude                  949 non-null    object        \n",
      " 20  longitude                 949 non-null    object        \n",
      " 21  grupo_parametros          30768 non-null  object        \n",
      " 22  parametro                 30768 non-null  object        \n",
      " 23  data_analise              30768 non-null  object        \n",
      " 24  lim_deteccao              52 non-null     object        \n",
      " 25  lim_quantificacao         1097 non-null   object        \n",
      " 26  resultado                 30768 non-null  float64       \n",
      "dtypes: datetime64[ns](3), float64(1), int64(3), object(20)\n",
      "memory usage: 6.6+ MB\n"
     ]
    },
    {
     "data": {
      "text/html": [
       "<div>\n",
       "<style scoped>\n",
       "    .dataframe tbody tr th:only-of-type {\n",
       "        vertical-align: middle;\n",
       "    }\n",
       "\n",
       "    .dataframe tbody tr th {\n",
       "        vertical-align: top;\n",
       "    }\n",
       "\n",
       "    .dataframe thead th {\n",
       "        text-align: right;\n",
       "    }\n",
       "</style>\n",
       "<table border=\"1\" class=\"dataframe\">\n",
       "  <thead>\n",
       "    <tr style=\"text-align: right;\">\n",
       "      <th></th>\n",
       "      <th>id_ibge</th>\n",
       "      <th>n_amostra</th>\n",
       "      <th>coleta_motivo</th>\n",
       "      <th>forma_abastecimento_tipo</th>\n",
       "      <th>forma_abastecimento_cod</th>\n",
       "      <th>forma_abastecimento_nome</th>\n",
       "      <th>ano_referencia</th>\n",
       "      <th>mes_referencia</th>\n",
       "      <th>data_coleta</th>\n",
       "      <th>data_laudo</th>\n",
       "      <th>...</th>\n",
       "      <th>local_tipo</th>\n",
       "      <th>local_nome</th>\n",
       "      <th>latitude</th>\n",
       "      <th>longitude</th>\n",
       "      <th>grupo_parametros</th>\n",
       "      <th>parametro</th>\n",
       "      <th>data_analise</th>\n",
       "      <th>lim_deteccao</th>\n",
       "      <th>lim_quantificacao</th>\n",
       "      <th>resultado</th>\n",
       "    </tr>\n",
       "  </thead>\n",
       "  <tbody>\n",
       "    <tr>\n",
       "      <th>0</th>\n",
       "      <td>3500600</td>\n",
       "      <td>1536116</td>\n",
       "      <td>Rotina</td>\n",
       "      <td>SAA</td>\n",
       "      <td>S350060000002</td>\n",
       "      <td>ETA SABESP</td>\n",
       "      <td>2016</td>\n",
       "      <td>6</td>\n",
       "      <td>2016-06-14</td>\n",
       "      <td>2016-08-02</td>\n",
       "      <td>...</td>\n",
       "      <td>None</td>\n",
       "      <td>None</td>\n",
       "      <td>None</td>\n",
       "      <td>None</td>\n",
       "      <td>Agrotóxicos</td>\n",
       "      <td>Tebuconazol - VMP: 180,0 µg/L</td>\n",
       "      <td>03/07/2016</td>\n",
       "      <td>None</td>\n",
       "      <td>None</td>\n",
       "      <td>0.200</td>\n",
       "    </tr>\n",
       "    <tr>\n",
       "      <th>1</th>\n",
       "      <td>3500600</td>\n",
       "      <td>1536116</td>\n",
       "      <td>Rotina</td>\n",
       "      <td>SAA</td>\n",
       "      <td>S350060000002</td>\n",
       "      <td>ETA SABESP</td>\n",
       "      <td>2016</td>\n",
       "      <td>6</td>\n",
       "      <td>2016-06-14</td>\n",
       "      <td>2016-08-02</td>\n",
       "      <td>...</td>\n",
       "      <td>None</td>\n",
       "      <td>None</td>\n",
       "      <td>None</td>\n",
       "      <td>None</td>\n",
       "      <td>Parâmetros Organolépticos</td>\n",
       "      <td>1,4 Diclorobenzeno - VMP: 0,03 mg/L</td>\n",
       "      <td>11/07/2016</td>\n",
       "      <td>None</td>\n",
       "      <td>None</td>\n",
       "      <td>0.001</td>\n",
       "    </tr>\n",
       "    <tr>\n",
       "      <th>2</th>\n",
       "      <td>3500600</td>\n",
       "      <td>942716</td>\n",
       "      <td>Rotina</td>\n",
       "      <td>SAA</td>\n",
       "      <td>S350060000002</td>\n",
       "      <td>ETA SABESP</td>\n",
       "      <td>2016</td>\n",
       "      <td>4</td>\n",
       "      <td>2016-04-05</td>\n",
       "      <td>2016-08-05</td>\n",
       "      <td>...</td>\n",
       "      <td>None</td>\n",
       "      <td>None</td>\n",
       "      <td>None</td>\n",
       "      <td>None</td>\n",
       "      <td>Produtos secundários de desinfecção</td>\n",
       "      <td>2, 4, 6 Triclorofenol - VMP: 0,2 mg/L</td>\n",
       "      <td>12/04/2016</td>\n",
       "      <td>None</td>\n",
       "      <td>None</td>\n",
       "      <td>0.010</td>\n",
       "    </tr>\n",
       "    <tr>\n",
       "      <th>3</th>\n",
       "      <td>3500600</td>\n",
       "      <td>1536116</td>\n",
       "      <td>Rotina</td>\n",
       "      <td>SAA</td>\n",
       "      <td>S350060000002</td>\n",
       "      <td>ETA SABESP</td>\n",
       "      <td>2016</td>\n",
       "      <td>6</td>\n",
       "      <td>2016-06-14</td>\n",
       "      <td>2016-08-02</td>\n",
       "      <td>...</td>\n",
       "      <td>None</td>\n",
       "      <td>None</td>\n",
       "      <td>None</td>\n",
       "      <td>None</td>\n",
       "      <td>Parâmetros Organolépticos</td>\n",
       "      <td>Xilenos - VMP: 0,3 mg/L</td>\n",
       "      <td>11/07/2016</td>\n",
       "      <td>None</td>\n",
       "      <td>None</td>\n",
       "      <td>0.001</td>\n",
       "    </tr>\n",
       "    <tr>\n",
       "      <th>4</th>\n",
       "      <td>3500600</td>\n",
       "      <td>1536116</td>\n",
       "      <td>Rotina</td>\n",
       "      <td>SAA</td>\n",
       "      <td>S350060000002</td>\n",
       "      <td>ETA SABESP</td>\n",
       "      <td>2016</td>\n",
       "      <td>6</td>\n",
       "      <td>2016-06-14</td>\n",
       "      <td>2016-08-02</td>\n",
       "      <td>...</td>\n",
       "      <td>None</td>\n",
       "      <td>None</td>\n",
       "      <td>None</td>\n",
       "      <td>None</td>\n",
       "      <td>Agrotóxicos</td>\n",
       "      <td>Clordano - VMP: 0,2 µg/L</td>\n",
       "      <td>04/07/2016</td>\n",
       "      <td>None</td>\n",
       "      <td>None</td>\n",
       "      <td>0.010</td>\n",
       "    </tr>\n",
       "  </tbody>\n",
       "</table>\n",
       "<p>5 rows × 27 columns</p>\n",
       "</div>"
      ],
      "text/plain": [
       "   id_ibge n_amostra coleta_motivo forma_abastecimento_tipo  \\\n",
       "0  3500600   1536116        Rotina                      SAA   \n",
       "1  3500600   1536116        Rotina                      SAA   \n",
       "2  3500600    942716        Rotina                      SAA   \n",
       "3  3500600   1536116        Rotina                      SAA   \n",
       "4  3500600   1536116        Rotina                      SAA   \n",
       "\n",
       "  forma_abastecimento_cod forma_abastecimento_nome  ano_referencia  \\\n",
       "0           S350060000002               ETA SABESP            2016   \n",
       "1           S350060000002               ETA SABESP            2016   \n",
       "2           S350060000002               ETA SABESP            2016   \n",
       "3           S350060000002               ETA SABESP            2016   \n",
       "4           S350060000002               ETA SABESP            2016   \n",
       "\n",
       "   mes_referencia data_coleta data_laudo  ... local_tipo local_nome latitude  \\\n",
       "0               6  2016-06-14 2016-08-02  ...       None       None     None   \n",
       "1               6  2016-06-14 2016-08-02  ...       None       None     None   \n",
       "2               4  2016-04-05 2016-08-05  ...       None       None     None   \n",
       "3               6  2016-06-14 2016-08-02  ...       None       None     None   \n",
       "4               6  2016-06-14 2016-08-02  ...       None       None     None   \n",
       "\n",
       "  longitude                     grupo_parametros  \\\n",
       "0      None                          Agrotóxicos   \n",
       "1      None            Parâmetros Organolépticos   \n",
       "2      None  Produtos secundários de desinfecção   \n",
       "3      None            Parâmetros Organolépticos   \n",
       "4      None                          Agrotóxicos   \n",
       "\n",
       "                               parametro data_analise lim_deteccao  \\\n",
       "0          Tebuconazol - VMP: 180,0 µg/L   03/07/2016         None   \n",
       "1    1,4 Diclorobenzeno - VMP: 0,03 mg/L   11/07/2016         None   \n",
       "2  2, 4, 6 Triclorofenol - VMP: 0,2 mg/L   12/04/2016         None   \n",
       "3                Xilenos - VMP: 0,3 mg/L   11/07/2016         None   \n",
       "4               Clordano - VMP: 0,2 µg/L   04/07/2016         None   \n",
       "\n",
       "  lim_quantificacao resultado  \n",
       "0              None     0.200  \n",
       "1              None     0.001  \n",
       "2              None     0.010  \n",
       "3              None     0.001  \n",
       "4              None     0.010  \n",
       "\n",
       "[5 rows x 27 columns]"
      ]
     },
     "execution_count": 63,
     "metadata": {},
     "output_type": "execute_result"
    }
   ],
   "source": [
    "df_5.info()\n",
    "df_5.head()"
   ]
  },
  {
   "cell_type": "code",
   "execution_count": 65,
   "id": "85f7b177-4427-45dc-b89d-86a805bbedc2",
   "metadata": {},
   "outputs": [],
   "source": [
    "with engine.connect().execution_options(autocommit=True) as conn:\n",
    "    df_5.to_sql(\n",
    "        'vig_demais_parametros',\n",
    "        con=conn,\n",
    "        if_exists='replace',\n",
    "        schema='michelmetran/br_sisagua',\n",
    "        index=False,\n",
    "        chunksize=5000,\n",
    "        method=psql_insert_copy,\n",
    "    )"
   ]
  },
  {
   "cell_type": "code",
   "execution_count": null,
   "id": "20d3b755-edc7-4805-befa-14f00e657dbe",
   "metadata": {},
   "outputs": [],
   "source": []
  },
  {
   "cell_type": "markdown",
   "id": "3356b86a-0948-428e-8a9f-57722718ba46",
   "metadata": {},
   "source": [
    "<br>\n",
    "\n",
    "### Cianobactérias Cianotoxinas"
   ]
  },
  {
   "cell_type": "code",
   "execution_count": null,
   "id": "53b6c263-9a30-4cc4-a6bf-8bade5b248ea",
   "metadata": {},
   "outputs": [],
   "source": [
    "df_6.info()\n",
    "df_6.head()"
   ]
  },
  {
   "cell_type": "code",
   "execution_count": null,
   "id": "28a68884-b32c-49ac-8633-612bccce4804",
   "metadata": {},
   "outputs": [],
   "source": [
    "with engine.connect().execution_options(autocommit=True) as conn:\n",
    "    df_6.to_sql(\n",
    "        'vig_cianobacterias_cianotoxinas',\n",
    "        con=conn,\n",
    "        if_exists='replace',\n",
    "        schema='michelmetran/br_sisagua',\n",
    "        index=False,\n",
    "        chunksize=5000,\n",
    "        method=psql_insert_copy,\n",
    "    )"
   ]
  },
  {
   "cell_type": "code",
   "execution_count": null,
   "id": "170018d4-e5e4-4cdf-9e59-7b75204cc5a2",
   "metadata": {},
   "outputs": [],
   "source": []
  },
  {
   "cell_type": "code",
   "execution_count": null,
   "id": "bc2c7f5c-52ab-4b30-9abc-cb175ae70734",
   "metadata": {},
   "outputs": [],
   "source": []
  },
  {
   "cell_type": "code",
   "execution_count": null,
   "id": "65f267fc-783a-4aa6-b32c-d9f91990c6a9",
   "metadata": {},
   "outputs": [],
   "source": []
  },
  {
   "cell_type": "markdown",
   "id": "47bda3a9-558f-496a-bafb-a5aa691252ed",
   "metadata": {},
   "source": [
    "<br>\n",
    "\n",
    "## Controle"
   ]
  },
  {
   "cell_type": "markdown",
   "id": "baaa4d1e-2619-43b7-b671-bd3d522eaf10",
   "metadata": {},
   "source": [
    "<br>\n",
    "\n",
    "### Parâmetros Básicos"
   ]
  },
  {
   "cell_type": "markdown",
   "id": "c4df3294-12ca-4f45-b0c1-c63889b0b686",
   "metadata": {},
   "source": [
    "<br>\n",
    "\n",
    "#### Bactérias Heterotróficas"
   ]
  },
  {
   "cell_type": "code",
   "execution_count": 28,
   "id": "082c78c1-47a6-4985-b5d4-a0c6b8eafb2e",
   "metadata": {},
   "outputs": [],
   "source": [
    "df_7_bacte = df_7[df_7['parametro'] == 'Bactérias Heterotróficas (UFC/mL)'].copy()\n",
    "df_7_bacte.reset_index(drop=True, inplace=True)"
   ]
  },
  {
   "cell_type": "code",
   "execution_count": 29,
   "id": "da9d0478-f267-4c7d-9c46-1d83d1c02991",
   "metadata": {},
   "outputs": [
    {
     "name": "stdout",
     "output_type": "stream",
     "text": [
      "<class 'pandas.core.frame.DataFrame'>\n",
      "RangeIndex: 456576 entries, 0 to 456575\n",
      "Data columns (total 9 columns):\n",
      " #   Column                    Non-Null Count   Dtype  \n",
      "---  ------                    --------------   -----  \n",
      " 0   forma_abastecimento_tipo  456576 non-null  object \n",
      " 1   forma_abastecimento_nome  456576 non-null  object \n",
      " 2   ano_referencia            456576 non-null  int64  \n",
      " 3   mes_referencia            456576 non-null  int64  \n",
      " 4   pto_monitoramento         456576 non-null  object \n",
      " 5   parametro                 456576 non-null  object \n",
      " 6   campo                     456576 non-null  object \n",
      " 7   resultado                 456576 non-null  float64\n",
      " 8   id_ibge                   456576 non-null  int64  \n",
      "dtypes: float64(1), int64(3), object(5)\n",
      "memory usage: 31.4+ MB\n"
     ]
    },
    {
     "data": {
      "text/html": [
       "<div>\n",
       "<style scoped>\n",
       "    .dataframe tbody tr th:only-of-type {\n",
       "        vertical-align: middle;\n",
       "    }\n",
       "\n",
       "    .dataframe tbody tr th {\n",
       "        vertical-align: top;\n",
       "    }\n",
       "\n",
       "    .dataframe thead th {\n",
       "        text-align: right;\n",
       "    }\n",
       "</style>\n",
       "<table border=\"1\" class=\"dataframe\">\n",
       "  <thead>\n",
       "    <tr style=\"text-align: right;\">\n",
       "      <th></th>\n",
       "      <th>forma_abastecimento_tipo</th>\n",
       "      <th>forma_abastecimento_nome</th>\n",
       "      <th>ano_referencia</th>\n",
       "      <th>mes_referencia</th>\n",
       "      <th>pto_monitoramento</th>\n",
       "      <th>parametro</th>\n",
       "      <th>campo</th>\n",
       "      <th>resultado</th>\n",
       "      <th>id_ibge</th>\n",
       "    </tr>\n",
       "  </thead>\n",
       "  <tbody>\n",
       "    <tr>\n",
       "      <th>0</th>\n",
       "      <td>SAA</td>\n",
       "      <td>LAGOA SECA</td>\n",
       "      <td>2014</td>\n",
       "      <td>4</td>\n",
       "      <td>Sistema De Distribuição</td>\n",
       "      <td>Bactérias Heterotróficas (UFC/mL)</td>\n",
       "      <td>Número de amostras analisadas</td>\n",
       "      <td>2.0</td>\n",
       "      <td>350010</td>\n",
       "    </tr>\n",
       "    <tr>\n",
       "      <th>1</th>\n",
       "      <td>SAA</td>\n",
       "      <td>LAGOA SECA</td>\n",
       "      <td>2014</td>\n",
       "      <td>4</td>\n",
       "      <td>Sistema De Distribuição</td>\n",
       "      <td>Bactérias Heterotróficas (UFC/mL)</td>\n",
       "      <td>Número de resultados &gt; 500 UFC/mL</td>\n",
       "      <td>0.0</td>\n",
       "      <td>350010</td>\n",
       "    </tr>\n",
       "    <tr>\n",
       "      <th>2</th>\n",
       "      <td>SAA</td>\n",
       "      <td>LAGOA SECA</td>\n",
       "      <td>2014</td>\n",
       "      <td>4</td>\n",
       "      <td>Sistema De Distribuição</td>\n",
       "      <td>Bactérias Heterotróficas (UFC/mL)</td>\n",
       "      <td>Número de resultados &lt; 500 UFC/mL</td>\n",
       "      <td>2.0</td>\n",
       "      <td>350010</td>\n",
       "    </tr>\n",
       "    <tr>\n",
       "      <th>3</th>\n",
       "      <td>SAA</td>\n",
       "      <td>LAGOA SECA</td>\n",
       "      <td>2014</td>\n",
       "      <td>5</td>\n",
       "      <td>Sistema De Distribuição</td>\n",
       "      <td>Bactérias Heterotróficas (UFC/mL)</td>\n",
       "      <td>Número de amostras analisadas</td>\n",
       "      <td>2.0</td>\n",
       "      <td>350010</td>\n",
       "    </tr>\n",
       "    <tr>\n",
       "      <th>4</th>\n",
       "      <td>SAA</td>\n",
       "      <td>LAGOA SECA</td>\n",
       "      <td>2014</td>\n",
       "      <td>5</td>\n",
       "      <td>Sistema De Distribuição</td>\n",
       "      <td>Bactérias Heterotróficas (UFC/mL)</td>\n",
       "      <td>Número de resultados &gt; 500 UFC/mL</td>\n",
       "      <td>0.0</td>\n",
       "      <td>350010</td>\n",
       "    </tr>\n",
       "  </tbody>\n",
       "</table>\n",
       "</div>"
      ],
      "text/plain": [
       "  forma_abastecimento_tipo forma_abastecimento_nome  ano_referencia  \\\n",
       "0                      SAA               LAGOA SECA            2014   \n",
       "1                      SAA               LAGOA SECA            2014   \n",
       "2                      SAA               LAGOA SECA            2014   \n",
       "3                      SAA               LAGOA SECA            2014   \n",
       "4                      SAA               LAGOA SECA            2014   \n",
       "\n",
       "   mes_referencia        pto_monitoramento                          parametro  \\\n",
       "0               4  Sistema De Distribuição  Bactérias Heterotróficas (UFC/mL)   \n",
       "1               4  Sistema De Distribuição  Bactérias Heterotróficas (UFC/mL)   \n",
       "2               4  Sistema De Distribuição  Bactérias Heterotróficas (UFC/mL)   \n",
       "3               5  Sistema De Distribuição  Bactérias Heterotróficas (UFC/mL)   \n",
       "4               5  Sistema De Distribuição  Bactérias Heterotróficas (UFC/mL)   \n",
       "\n",
       "                               campo  resultado  id_ibge  \n",
       "0      Número de amostras analisadas        2.0   350010  \n",
       "1  Número de resultados > 500 UFC/mL        0.0   350010  \n",
       "2  Número de resultados < 500 UFC/mL        2.0   350010  \n",
       "3      Número de amostras analisadas        2.0   350010  \n",
       "4  Número de resultados > 500 UFC/mL        0.0   350010  "
      ]
     },
     "execution_count": 29,
     "metadata": {},
     "output_type": "execute_result"
    }
   ],
   "source": [
    "df_7_bacte.info()\n",
    "df_7_bacte.head()"
   ]
  },
  {
   "cell_type": "code",
   "execution_count": 30,
   "id": "bc93cbd6-5dff-4f7a-9f41-63e25d7c444f",
   "metadata": {},
   "outputs": [],
   "source": [
    "df_7_bacte = convert_6d_to_7d(df_7_bacte)"
   ]
  },
  {
   "cell_type": "code",
   "execution_count": 31,
   "id": "5e5081f8-eff3-4563-a9b6-1954870fd66c",
   "metadata": {},
   "outputs": [],
   "source": [
    "with engine.connect().execution_options(autocommit=True) as conn:\n",
    "    df_7_bacte.to_sql(\n",
    "        'con_basics_bacterias',\n",
    "        con=conn,\n",
    "        if_exists='replace',\n",
    "        schema='michelmetran/br_sisagua',\n",
    "        index=False,\n",
    "        chunksize=5000,\n",
    "        method=psql_insert_copy,\n",
    "    )"
   ]
  },
  {
   "cell_type": "markdown",
   "id": "3537326e-d40c-4ccc-85b2-09d67d74014b",
   "metadata": {},
   "source": [
    "<br>\n",
    "\n",
    "#### Cloro Residual Combinado (mg/L)"
   ]
  },
  {
   "cell_type": "code",
   "execution_count": 32,
   "id": "b3c73ab0-4ad1-4ee5-93fa-9cc2a182c944",
   "metadata": {},
   "outputs": [],
   "source": [
    "df_7_cloco = df_7[df_7['parametro'] == 'Cloro Residual Combinado (mg/L)'].copy()\n",
    "df_7_cloco.reset_index(drop=True, inplace=True)"
   ]
  },
  {
   "cell_type": "code",
   "execution_count": 33,
   "id": "56b0b200-1766-43b0-8b50-7974413d84e2",
   "metadata": {},
   "outputs": [
    {
     "name": "stdout",
     "output_type": "stream",
     "text": [
      "<class 'pandas.core.frame.DataFrame'>\n",
      "RangeIndex: 3824 entries, 0 to 3823\n",
      "Data columns (total 9 columns):\n",
      " #   Column                    Non-Null Count  Dtype  \n",
      "---  ------                    --------------  -----  \n",
      " 0   forma_abastecimento_tipo  3824 non-null   object \n",
      " 1   forma_abastecimento_nome  3824 non-null   object \n",
      " 2   ano_referencia            3824 non-null   int64  \n",
      " 3   mes_referencia            3824 non-null   int64  \n",
      " 4   pto_monitoramento         3824 non-null   object \n",
      " 5   parametro                 3824 non-null   object \n",
      " 6   campo                     3824 non-null   object \n",
      " 7   resultado                 3824 non-null   float64\n",
      " 8   id_ibge                   3824 non-null   int64  \n",
      "dtypes: float64(1), int64(3), object(5)\n",
      "memory usage: 269.0+ KB\n"
     ]
    },
    {
     "data": {
      "text/html": [
       "<div>\n",
       "<style scoped>\n",
       "    .dataframe tbody tr th:only-of-type {\n",
       "        vertical-align: middle;\n",
       "    }\n",
       "\n",
       "    .dataframe tbody tr th {\n",
       "        vertical-align: top;\n",
       "    }\n",
       "\n",
       "    .dataframe thead th {\n",
       "        text-align: right;\n",
       "    }\n",
       "</style>\n",
       "<table border=\"1\" class=\"dataframe\">\n",
       "  <thead>\n",
       "    <tr style=\"text-align: right;\">\n",
       "      <th></th>\n",
       "      <th>forma_abastecimento_tipo</th>\n",
       "      <th>forma_abastecimento_nome</th>\n",
       "      <th>ano_referencia</th>\n",
       "      <th>mes_referencia</th>\n",
       "      <th>pto_monitoramento</th>\n",
       "      <th>parametro</th>\n",
       "      <th>campo</th>\n",
       "      <th>resultado</th>\n",
       "      <th>id_ibge</th>\n",
       "    </tr>\n",
       "  </thead>\n",
       "  <tbody>\n",
       "    <tr>\n",
       "      <th>0</th>\n",
       "      <td>SAA</td>\n",
       "      <td>S1 - CENTRAL</td>\n",
       "      <td>2014</td>\n",
       "      <td>2</td>\n",
       "      <td>Saída Do Tratamento</td>\n",
       "      <td>Cloro Residual Combinado (mg/L)</td>\n",
       "      <td>Número de amostras analisadas</td>\n",
       "      <td>28.0</td>\n",
       "      <td>350460</td>\n",
       "    </tr>\n",
       "    <tr>\n",
       "      <th>1</th>\n",
       "      <td>SAA</td>\n",
       "      <td>S1 - CENTRAL</td>\n",
       "      <td>2014</td>\n",
       "      <td>2</td>\n",
       "      <td>Saída Do Tratamento</td>\n",
       "      <td>Cloro Residual Combinado (mg/L)</td>\n",
       "      <td>Percentil 95</td>\n",
       "      <td>0.0</td>\n",
       "      <td>350460</td>\n",
       "    </tr>\n",
       "    <tr>\n",
       "      <th>2</th>\n",
       "      <td>SAA</td>\n",
       "      <td>S1 - CENTRAL</td>\n",
       "      <td>2014</td>\n",
       "      <td>2</td>\n",
       "      <td>Saída Do Tratamento</td>\n",
       "      <td>Cloro Residual Combinado (mg/L)</td>\n",
       "      <td>Número de dados &gt; 4,0 mg/L</td>\n",
       "      <td>0.0</td>\n",
       "      <td>350460</td>\n",
       "    </tr>\n",
       "    <tr>\n",
       "      <th>3</th>\n",
       "      <td>SAA</td>\n",
       "      <td>S1 - CENTRAL</td>\n",
       "      <td>2014</td>\n",
       "      <td>2</td>\n",
       "      <td>Saída Do Tratamento</td>\n",
       "      <td>Cloro Residual Combinado (mg/L)</td>\n",
       "      <td>Número de dados &gt;= 2,0 mg/L e &lt;= 4,0 mg/L</td>\n",
       "      <td>0.0</td>\n",
       "      <td>350460</td>\n",
       "    </tr>\n",
       "    <tr>\n",
       "      <th>4</th>\n",
       "      <td>SAA</td>\n",
       "      <td>S1 - CENTRAL</td>\n",
       "      <td>2014</td>\n",
       "      <td>2</td>\n",
       "      <td>Saída Do Tratamento</td>\n",
       "      <td>Cloro Residual Combinado (mg/L)</td>\n",
       "      <td>Número de dados &lt; 2,0 mg/L</td>\n",
       "      <td>28.0</td>\n",
       "      <td>350460</td>\n",
       "    </tr>\n",
       "  </tbody>\n",
       "</table>\n",
       "</div>"
      ],
      "text/plain": [
       "  forma_abastecimento_tipo forma_abastecimento_nome  ano_referencia  \\\n",
       "0                      SAA             S1 - CENTRAL            2014   \n",
       "1                      SAA             S1 - CENTRAL            2014   \n",
       "2                      SAA             S1 - CENTRAL            2014   \n",
       "3                      SAA             S1 - CENTRAL            2014   \n",
       "4                      SAA             S1 - CENTRAL            2014   \n",
       "\n",
       "   mes_referencia    pto_monitoramento                        parametro  \\\n",
       "0               2  Saída Do Tratamento  Cloro Residual Combinado (mg/L)   \n",
       "1               2  Saída Do Tratamento  Cloro Residual Combinado (mg/L)   \n",
       "2               2  Saída Do Tratamento  Cloro Residual Combinado (mg/L)   \n",
       "3               2  Saída Do Tratamento  Cloro Residual Combinado (mg/L)   \n",
       "4               2  Saída Do Tratamento  Cloro Residual Combinado (mg/L)   \n",
       "\n",
       "                                       campo  resultado  id_ibge  \n",
       "0              Número de amostras analisadas       28.0   350460  \n",
       "1                               Percentil 95        0.0   350460  \n",
       "2                 Número de dados > 4,0 mg/L        0.0   350460  \n",
       "3  Número de dados >= 2,0 mg/L e <= 4,0 mg/L        0.0   350460  \n",
       "4                 Número de dados < 2,0 mg/L       28.0   350460  "
      ]
     },
     "execution_count": 33,
     "metadata": {},
     "output_type": "execute_result"
    }
   ],
   "source": [
    "df_7_cloco.info()\n",
    "df_7_cloco.head()"
   ]
  },
  {
   "cell_type": "code",
   "execution_count": 34,
   "id": "c83ad8fa-4631-42a6-87f9-9e88b8267e13",
   "metadata": {},
   "outputs": [],
   "source": [
    "df_7_cloco = convert_6d_to_7d(df_7_cloco)"
   ]
  },
  {
   "cell_type": "code",
   "execution_count": 35,
   "id": "b739d565-0be7-4ee0-9381-a3eaf384be76",
   "metadata": {},
   "outputs": [],
   "source": [
    "with engine.connect().execution_options(autocommit=True) as conn:\n",
    "    df_7_cloco.to_sql(\n",
    "        'con_basics_cloro_combinado',\n",
    "        con=conn,\n",
    "        if_exists='replace',\n",
    "        schema='michelmetran/br_sisagua',\n",
    "        index=False,\n",
    "        chunksize=5000,\n",
    "        method=psql_insert_copy,\n",
    "    )"
   ]
  },
  {
   "cell_type": "code",
   "execution_count": null,
   "id": "a11e916c-b193-4a6e-967b-11331d1b30b1",
   "metadata": {},
   "outputs": [],
   "source": []
  },
  {
   "cell_type": "markdown",
   "id": "d479399e-92f0-4dc4-97f2-64c70b405b31",
   "metadata": {},
   "source": [
    "<br>\n",
    "\n",
    "#### Cloro Residual Livre (mg/L)"
   ]
  },
  {
   "cell_type": "code",
   "execution_count": null,
   "id": "aadf6691-6233-45ad-994f-a13becedf14b",
   "metadata": {},
   "outputs": [],
   "source": [
    "df_7_cloli = df_7[df_7['parametro'] == 'Cloro Residual Livre (mg/L)'].copy()\n",
    "df_7_cloli.reset_index(drop=True, inplace=True)"
   ]
  },
  {
   "cell_type": "code",
   "execution_count": null,
   "id": "8b005348-4179-40b9-97bd-64e6980ef369",
   "metadata": {},
   "outputs": [],
   "source": [
    "df_7_cloli.info()\n",
    "df_7_cloli.head()"
   ]
  },
  {
   "cell_type": "code",
   "execution_count": null,
   "id": "6ea1b567-a839-4030-b2d6-3d04b7331483",
   "metadata": {},
   "outputs": [],
   "source": [
    "df_7_cloli = convert_6d_to_7d(df_7_cloli)"
   ]
  },
  {
   "cell_type": "code",
   "execution_count": null,
   "id": "a7bf4c67-a803-42ad-9dd9-d79df1543ad9",
   "metadata": {},
   "outputs": [],
   "source": [
    "with engine.connect().execution_options(autocommit=True) as conn:\n",
    "    df_7_cloli.to_sql(\n",
    "        'con_basics_cloro_livre',\n",
    "        con=conn,\n",
    "        if_exists='replace',\n",
    "        schema='michelmetran/br_sisagua',\n",
    "        index=False,\n",
    "        chunksize=5000,\n",
    "        method=psql_insert_copy,\n",
    "    )"
   ]
  },
  {
   "cell_type": "code",
   "execution_count": null,
   "id": "54680c9e-85a4-45d8-8331-6ff81cdc5954",
   "metadata": {},
   "outputs": [],
   "source": []
  },
  {
   "cell_type": "markdown",
   "id": "55967947-a5e7-4395-99bf-c555fae8eb44",
   "metadata": {},
   "source": [
    "<br>\n",
    "\n",
    "#### Coliformes Totais"
   ]
  },
  {
   "cell_type": "code",
   "execution_count": null,
   "id": "fdd78260-8e40-44fa-8a23-1579fccf5cb1",
   "metadata": {},
   "outputs": [],
   "source": [
    "df_7_colif = df_7[df_7['parametro'] == 'Coliformes totais'].copy()\n",
    "df_7_colif.reset_index(drop=True, inplace=True)"
   ]
  },
  {
   "cell_type": "code",
   "execution_count": null,
   "id": "f3e22c20-a496-4f1b-b2f2-30cb5b5262cf",
   "metadata": {},
   "outputs": [],
   "source": [
    "df_7_colif.info()\n",
    "df_7_colif.head()"
   ]
  },
  {
   "cell_type": "code",
   "execution_count": null,
   "id": "4249f43b-c6b0-49f6-add0-31e865db37ad",
   "metadata": {},
   "outputs": [],
   "source": [
    "df_7_colif = convert_6d_to_7d(df_7_colif)"
   ]
  },
  {
   "cell_type": "code",
   "execution_count": null,
   "id": "d5cf1d23-6506-458d-ad21-f99af9c03872",
   "metadata": {},
   "outputs": [],
   "source": [
    "with engine.connect().execution_options(autocommit=True) as conn:\n",
    "    df_7_colif.to_sql(\n",
    "        'con_basics_coliformes_totais',\n",
    "        con=conn,\n",
    "        if_exists='replace',\n",
    "        schema='michelmetran/br_sisagua',\n",
    "        index=False,\n",
    "        chunksize=5000,\n",
    "        method=psql_insert_copy,\n",
    "    )"
   ]
  },
  {
   "cell_type": "code",
   "execution_count": null,
   "id": "ac0b055f-8eb4-44d4-a2ab-c23da829a253",
   "metadata": {},
   "outputs": [],
   "source": []
  },
  {
   "cell_type": "markdown",
   "id": "01c26d85-0e27-432c-9fd2-2a1cbb96fc27",
   "metadata": {},
   "source": [
    "<br>\n",
    "\n",
    "#### Cor (uH)"
   ]
  },
  {
   "cell_type": "code",
   "execution_count": null,
   "id": "4166f062-e8e9-44a2-aa43-99a3e69dfdab",
   "metadata": {},
   "outputs": [],
   "source": [
    "df_7_cor = df_7[df_7['parametro'] == 'Cor (uH)'].copy()\n",
    "df_7_cor.reset_index(drop=True, inplace=True)"
   ]
  },
  {
   "cell_type": "code",
   "execution_count": null,
   "id": "0dcd01d1-a460-406e-910f-0685886f355c",
   "metadata": {},
   "outputs": [],
   "source": [
    "df_7_cor.info()\n",
    "df_7_cor.head()"
   ]
  },
  {
   "cell_type": "code",
   "execution_count": null,
   "id": "1f0e2212-a8da-4699-bc86-635355ceb0ff",
   "metadata": {},
   "outputs": [],
   "source": [
    "df_7_cor = convert_6d_to_7d(df_7_cor)"
   ]
  },
  {
   "cell_type": "code",
   "execution_count": null,
   "id": "201a9a08-4f49-4b70-91f0-3ed284b7a805",
   "metadata": {},
   "outputs": [],
   "source": [
    "with engine.connect().execution_options(autocommit=True) as conn:\n",
    "    df_7_cor.to_sql(\n",
    "        'con_basics_cor',\n",
    "        con=conn,\n",
    "        if_exists='replace',\n",
    "        schema='michelmetran/br_sisagua',\n",
    "        index=False,\n",
    "        chunksize=5000,\n",
    "        method=psql_insert_copy,\n",
    "    )"
   ]
  },
  {
   "cell_type": "code",
   "execution_count": null,
   "id": "760a9aaf-b916-4a5f-a1fc-bf6626b27034",
   "metadata": {},
   "outputs": [],
   "source": []
  },
  {
   "cell_type": "markdown",
   "id": "37609a65-27b2-4067-9239-f64a929fef75",
   "metadata": {},
   "source": [
    "<br>\n",
    "\n",
    "#### Dióxido de Cloro (mg/L)"
   ]
  },
  {
   "cell_type": "code",
   "execution_count": null,
   "id": "54bddb01-3a7f-4733-a50d-47a004a2dd9e",
   "metadata": {},
   "outputs": [],
   "source": [
    "df_7_dicl = df_7[df_7['parametro'] == 'Dióxido de Cloro'].copy()\n",
    "df_7_dicl.reset_index(drop=True, inplace=True)"
   ]
  },
  {
   "cell_type": "code",
   "execution_count": null,
   "id": "8bdcf8a3-7fc0-45f8-9270-7a4a764a9b32",
   "metadata": {},
   "outputs": [],
   "source": [
    "df_7_dicl.info()\n",
    "df_7_dicl.head()"
   ]
  },
  {
   "cell_type": "code",
   "execution_count": null,
   "id": "ceffa7e8-7536-4b79-9e76-e8bc269a6ce3",
   "metadata": {},
   "outputs": [],
   "source": [
    "df_7_dicl = convert_6d_to_7d(df_7_dicl)"
   ]
  },
  {
   "cell_type": "code",
   "execution_count": null,
   "id": "6df7eb28-3de1-4a51-a3ab-ce96ba6b5b4b",
   "metadata": {},
   "outputs": [],
   "source": [
    "with engine.connect().execution_options(autocommit=True) as conn:\n",
    "    df_7_dicl.to_sql(\n",
    "        'con_basics_cloro_dioxido',\n",
    "        con=conn,\n",
    "        if_exists='replace',\n",
    "        schema='michelmetran/br_sisagua',\n",
    "        index=False,\n",
    "        chunksize=5000,\n",
    "        method=psql_insert_copy,\n",
    "    )"
   ]
  },
  {
   "cell_type": "code",
   "execution_count": null,
   "id": "d23fa7d1-45f6-4b1d-93e3-719cc3f6b050",
   "metadata": {},
   "outputs": [],
   "source": []
  },
  {
   "cell_type": "markdown",
   "id": "ad7125d8-60a6-4239-aaee-8fa3ce138eaf",
   "metadata": {},
   "source": [
    "<br>\n",
    "\n",
    "#### Escherichia coli"
   ]
  },
  {
   "cell_type": "code",
   "execution_count": null,
   "id": "999dfc46-8aea-4868-a38d-fd7080735452",
   "metadata": {},
   "outputs": [],
   "source": [
    "df_7_ecol = df_7[df_7['parametro'] == 'Escherichia coli'].copy()\n",
    "df_7_ecol.reset_index(drop=True, inplace=True)"
   ]
  },
  {
   "cell_type": "code",
   "execution_count": null,
   "id": "41616142-3c8f-4d7f-a0c0-d5be2fe63257",
   "metadata": {},
   "outputs": [],
   "source": [
    "df_7_ecol.info()\n",
    "df_7_ecol.head()"
   ]
  },
  {
   "cell_type": "code",
   "execution_count": null,
   "id": "de672d22-79c5-43b0-96b5-c364cdedad63",
   "metadata": {},
   "outputs": [],
   "source": [
    "df_7_ecol = convert_6d_to_7d(df_7_ecol)"
   ]
  },
  {
   "cell_type": "code",
   "execution_count": null,
   "id": "a7a6a3b1-2e9c-4982-b77d-7425a2fa77fb",
   "metadata": {},
   "outputs": [],
   "source": [
    "with engine.connect().execution_options(autocommit=True) as conn:\n",
    "    df_7_ecol.to_sql(\n",
    "        'con_basics_e_coli',\n",
    "        con=conn,\n",
    "        if_exists='replace',\n",
    "        schema='michelmetran/br_sisagua',\n",
    "        index=False,\n",
    "        chunksize=5000,\n",
    "        method=psql_insert_copy,\n",
    "    )"
   ]
  },
  {
   "cell_type": "code",
   "execution_count": null,
   "id": "fae17d97-b433-4b90-ae82-76a0857dad33",
   "metadata": {},
   "outputs": [],
   "source": []
  },
  {
   "cell_type": "markdown",
   "id": "36898686-23d8-423c-8cb4-ab74e3f376eb",
   "metadata": {},
   "source": [
    "<br>\n",
    "\n",
    "#### Fluoreto (mg/L)"
   ]
  },
  {
   "cell_type": "code",
   "execution_count": null,
   "id": "ab2de08a-8104-4b69-83e9-2089a75b5850",
   "metadata": {},
   "outputs": [],
   "source": [
    "df_7_fluo = df_7[df_7['parametro'] == 'Fluoreto (mg/L)'].copy()\n",
    "df_7_fluo.reset_index(drop=True, inplace=True)"
   ]
  },
  {
   "cell_type": "code",
   "execution_count": null,
   "id": "99cfa88e-b2ed-4f87-9d03-3ff13bdad122",
   "metadata": {},
   "outputs": [],
   "source": [
    "df_7_fluo.info()\n",
    "df_7_fluo.head()"
   ]
  },
  {
   "cell_type": "code",
   "execution_count": null,
   "id": "a809d4ca-07eb-4b28-9f4f-8063da6f19c6",
   "metadata": {},
   "outputs": [],
   "source": [
    "df_7_fluo = convert_6d_to_7d(df_7_fluo)"
   ]
  },
  {
   "cell_type": "code",
   "execution_count": null,
   "id": "6e14194a-0d59-4ee2-9d2a-015fc5665a0f",
   "metadata": {},
   "outputs": [],
   "source": [
    "with engine.connect().execution_options(autocommit=True) as conn:\n",
    "    df_7_fluo.to_sql(\n",
    "        'con_basics_fluor',\n",
    "        con=conn,\n",
    "        if_exists='replace',\n",
    "        schema='michelmetran/br_sisagua',\n",
    "        index=False,\n",
    "        chunksize=5000,\n",
    "        method=psql_insert_copy,\n",
    "    )"
   ]
  },
  {
   "cell_type": "code",
   "execution_count": null,
   "id": "c426e9d9-ef9b-43bc-81f7-d1bf60fdd626",
   "metadata": {},
   "outputs": [],
   "source": []
  },
  {
   "cell_type": "markdown",
   "id": "f1e9edc7-461f-4c4c-b399-b09c0bb3ec8a",
   "metadata": {},
   "source": [
    "<br>\n",
    "\n",
    "#### Turbidez (uT)"
   ]
  },
  {
   "cell_type": "code",
   "execution_count": null,
   "id": "fb28572e-b080-4a0f-83f8-a46c91cc8b0d",
   "metadata": {},
   "outputs": [],
   "source": [
    "df_7_turb = df_7[df_7['parametro'] == 'Turbidez (uT)'].copy()\n",
    "df_7_turb.reset_index(drop=True, inplace=True)"
   ]
  },
  {
   "cell_type": "code",
   "execution_count": null,
   "id": "0cd5717f-ff97-4344-8a83-7eea0f5d4cfe",
   "metadata": {},
   "outputs": [],
   "source": [
    "df_7_turb.info()\n",
    "df_7_turb.head()"
   ]
  },
  {
   "cell_type": "code",
   "execution_count": null,
   "id": "6f90a483-4fc9-4243-86c7-1bf7ec600e0f",
   "metadata": {},
   "outputs": [],
   "source": [
    "df_7_turb = convert_6d_to_7d(df_7_turb)"
   ]
  },
  {
   "cell_type": "code",
   "execution_count": null,
   "id": "b356661e-a820-4b50-badd-b707c885fe5c",
   "metadata": {},
   "outputs": [],
   "source": [
    "with engine.connect().execution_options(autocommit=True) as conn:\n",
    "    df_7_turb.to_sql(\n",
    "        'con_basics_turbidez',\n",
    "        con=conn,\n",
    "        if_exists='replace',\n",
    "        schema='michelmetran/br_sisagua',\n",
    "        index=False,\n",
    "        chunksize=5000,\n",
    "        method=psql_insert_copy,\n",
    "    )"
   ]
  },
  {
   "cell_type": "code",
   "execution_count": null,
   "id": "62874021-00f5-4e24-93f4-2a91662d5b75",
   "metadata": {},
   "outputs": [],
   "source": []
  },
  {
   "cell_type": "markdown",
   "id": "bfed4983-12b0-4d2b-a5b9-49f30829f952",
   "metadata": {},
   "source": [
    "<br>\n",
    "\n",
    "#### pH"
   ]
  },
  {
   "cell_type": "code",
   "execution_count": null,
   "id": "f2dbe70a-54a9-452e-b3a9-0f4810ec35f0",
   "metadata": {},
   "outputs": [],
   "source": [
    "df_7_ph = df_7[df_7['parametro'] == 'pH'].copy()\n",
    "df_7_ph.reset_index(drop=True, inplace=True)"
   ]
  },
  {
   "cell_type": "code",
   "execution_count": null,
   "id": "b378c65f-de0b-42c6-b041-3624aa73a91a",
   "metadata": {},
   "outputs": [],
   "source": [
    "df_7_ph.info()\n",
    "df_7_ph.head()"
   ]
  },
  {
   "cell_type": "code",
   "execution_count": null,
   "id": "f0370384-8e4b-450b-bb63-6acf1253e21b",
   "metadata": {},
   "outputs": [],
   "source": [
    "df_7_ph = convert_6d_to_7d(df_7_ph)"
   ]
  },
  {
   "cell_type": "code",
   "execution_count": null,
   "id": "9b10e7f8-3096-4efe-ba47-485d34a5f0ec",
   "metadata": {},
   "outputs": [],
   "source": [
    "with engine.connect().execution_options(autocommit=True) as conn:\n",
    "    df_7_ph.to_sql(\n",
    "        'con_basics_ph',\n",
    "        con=conn,\n",
    "        if_exists='replace',\n",
    "        schema='michelmetran/br_sisagua',\n",
    "        index=False,\n",
    "        chunksize=5000,\n",
    "        method=psql_insert_copy,\n",
    "    )"
   ]
  },
  {
   "cell_type": "code",
   "execution_count": null,
   "id": "25bdc65a-0253-4db8-868f-7bbd7a3fca25",
   "metadata": {},
   "outputs": [],
   "source": []
  },
  {
   "cell_type": "markdown",
   "id": "d475bec0-4193-41a9-a2e6-87582630b273",
   "metadata": {},
   "source": [
    "<br>\n",
    "\n",
    "# SQL"
   ]
  },
  {
   "cell_type": "code",
   "execution_count": null,
   "id": "d0546458-015c-4691-b7b3-cb899e9968aa",
   "metadata": {},
   "outputs": [],
   "source": []
  },
  {
   "cell_type": "code",
   "execution_count": null,
   "id": "b61b810a-2494-40a1-aa67-c7182404d416",
   "metadata": {},
   "outputs": [],
   "source": [
    "sql = '''\n",
    "    DROP TABLE IF EXISTS \"michelmetran/br_sisagua\".\"df_1_1\";\n",
    "'''\n",
    "\n",
    "with engine.connect().execution_options(autocommit=True) as conn:\n",
    "    query = conn.execute(text(sql))"
   ]
  },
  {
   "cell_type": "code",
   "execution_count": null,
   "id": "986cd0a2-b73d-4487-9013-e6f632c84544",
   "metadata": {},
   "outputs": [],
   "source": [
    "df_1_1.head()"
   ]
  },
  {
   "cell_type": "code",
   "execution_count": null,
   "id": "8472a06f-8614-4b24-b926-38ff29da35b3",
   "metadata": {},
   "outputs": [],
   "source": [
    "df_1_1.to_sql(\n",
    "    'df_1_1',\n",
    "    con = engine,\n",
    "    if_exists='replace',\n",
    "    schema='michelmetran/br_sisagua',\n",
    "    index=False,\n",
    "    chunksize=500,\n",
    "    #dtype=dict_dtypes,\n",
    ")\n",
    "\n",
    "df"
   ]
  },
  {
   "cell_type": "markdown",
   "id": "e4004939-ad9d-4dd6-8a8c-74470c5488a0",
   "metadata": {},
   "source": [
    "<br>\n",
    "\n",
    "## dtypes"
   ]
  },
  {
   "cell_type": "code",
   "execution_count": null,
   "id": "1748160d-c3a8-48b9-bddd-e791f21e8fc1",
   "metadata": {},
   "outputs": [],
   "source": [
    "def get_dtypes_sqlalchemy(df):\n",
    "    dict_cols = df.dtypes.apply(lambda x: x.name).to_dict()\n",
    "    for k,v in dict_cols.items():\n",
    "        if dict_cols[k] == 'object':\n",
    "            dict_cols[k] = Text\n",
    "        if dict_cols[k] == 'int64':\n",
    "            dict_cols[k] = Integer\n",
    "        if dict_cols[k] == 'datetime64[ns]':\n",
    "            dict_cols[k] = DateTime\n",
    "        if dict_cols[k] == 'float64':\n",
    "            dict_cols[k] = Float\n",
    "        return dict_cols"
   ]
  },
  {
   "cell_type": "code",
   "execution_count": null,
   "id": "f5e2f8fd-0524-4723-968f-d4696222f738",
   "metadata": {},
   "outputs": [],
   "source": [
    "dict_dtypes = get_dtypes_sqlalchemy(df_1_1)\n",
    "dict_dtypes"
   ]
  },
  {
   "cell_type": "code",
   "execution_count": null,
   "id": "5155c179-264b-4e75-8f99-039330fc9ad6",
   "metadata": {},
   "outputs": [],
   "source": [
    "dict_dtypes = {\n",
    "    'id_ibge': sqlalchemy.sql.sqltypes.Integer,\n",
    "    'municipio': sqlalchemy.sql.sqltypes.Text,\n",
    "    'regional_saude': sqlalchemy.sql.sqltypes.Text,\n",
    "}\n",
    "\n",
    "dict_dtypes"
   ]
  },
  {
   "cell_type": "code",
   "execution_count": null,
   "id": "1e88c541-e429-4da2-98c9-a89f6e919065",
   "metadata": {},
   "outputs": [],
   "source": []
  }
 ],
 "metadata": {
  "kernelspec": {
   "display_name": "Python [conda env:pablocarreira-py39] *",
   "language": "python",
   "name": "conda-env-pablocarreira-py39-py"
  },
  "language_info": {
   "codemirror_mode": {
    "name": "ipython",
    "version": 3
   },
   "file_extension": ".py",
   "mimetype": "text/x-python",
   "name": "python",
   "nbconvert_exporter": "python",
   "pygments_lexer": "ipython3",
   "version": "3.9.12"
  },
  "toc-autonumbering": true
 },
 "nbformat": 4,
 "nbformat_minor": 5
}
