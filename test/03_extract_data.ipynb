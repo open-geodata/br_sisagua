{
 "cells": [
  {
   "cell_type": "markdown",
   "metadata": {},
   "source": [
    "<br>\n",
    "\n",
    "# Introdução"
   ]
  },
  {
   "cell_type": "code",
   "execution_count": null,
   "metadata": {},
   "outputs": [],
   "source": [
    "#!pip3 install dask --upgrade\n",
    "#!pip3 install dask-labextension  --upgrade\n",
    "#!pip3 install pyarrow --upgrade        # Necessário para usar o parquet\n",
    "#!pip3 install traquitanas --upgrade\n",
    "#!jupyter labextension install dask-labextension"
   ]
  },
  {
   "cell_type": "code",
   "execution_count": null,
   "metadata": {},
   "outputs": [],
   "source": [
    "import os\n",
    "import sys\n",
    "import time\n",
    "import ctypes\n",
    "import datetime\n",
    "import numpy as np\n",
    "import pandas as pd\n",
    "import pyarrow.parquet as pq"
   ]
  },
  {
   "cell_type": "code",
   "execution_count": null,
   "metadata": {},
   "outputs": [],
   "source": [
    "import dask.dataframe as dd\n",
    "from dask import compute\n",
    "from dask.delayed import delayed\n",
    "from dask.distributed import Client, LocalCluster\n",
    "from dask.distributed import wait, progress\n",
    "from dask.diagnostics import ProgressBar"
   ]
  },
  {
   "cell_type": "code",
   "execution_count": null,
   "metadata": {},
   "outputs": [],
   "source": [
    "import dask\n",
    "import dask.distributed  # populate config with distributed defaults\n",
    "dask.config.get('distributed.client')"
   ]
  },
  {
   "cell_type": "code",
   "execution_count": null,
   "metadata": {},
   "outputs": [],
   "source": [
    "mod_path = os.path.abspath(os.path.join(os.getcwd(), '..', 'src'))\n",
    "sys.path.append(mod_path)\n",
    "from sisagua.ibge import *"
   ]
  },
  {
   "cell_type": "code",
   "execution_count": null,
   "metadata": {},
   "outputs": [],
   "source": [
    "from paths import *"
   ]
  },
  {
   "cell_type": "markdown",
   "metadata": {},
   "source": [
    "<br>\n",
    "\n",
    "## Client"
   ]
  },
  {
   "cell_type": "code",
   "execution_count": null,
   "metadata": {},
   "outputs": [],
   "source": [
    "import multiprocessing as mp\n",
    "from dask.distributed import Client, LocalCluster"
   ]
  },
  {
   "cell_type": "code",
   "execution_count": null,
   "metadata": {},
   "outputs": [],
   "source": [
    "#import close_process\n",
    "#close_process.process()"
   ]
  },
  {
   "cell_type": "code",
   "execution_count": null,
   "metadata": {},
   "outputs": [],
   "source": [
    "cluster = LocalCluster(\n",
    "    n_workers=int(0.9 * mp.cpu_count()),\n",
    "    threads_per_worker=4,\n",
    "    memory_limit='4GB',\n",
    "    processes=True,\n",
    "    env={'MALLOC_TRIM_THRESHOLD_': '65536'}\n",
    ")\n",
    "\n",
    "client = Client(cluster)\n",
    "client"
   ]
  },
  {
   "cell_type": "markdown",
   "metadata": {},
   "source": [
    "<br>\n",
    "\n",
    "## Parameters"
   ]
  },
  {
   "cell_type": "code",
   "execution_count": null,
   "metadata": {},
   "outputs": [],
   "source": [
    "# Parameters\n",
    "cod_ibge = '3505203' # Bariri\n",
    "#cod_ibge = '3501608' # Americana\n",
    "#cod_ibge = '3548906' # São Carlos\n",
    "#cod_ibge = '3526902' # Limeira"
   ]
  },
  {
   "cell_type": "code",
   "execution_count": null,
   "metadata": {},
   "outputs": [],
   "source": [
    "estado_d = find_states(cod_ibge)\n",
    "estado = estado_d['sigla']\n",
    "\n",
    "cod_ibge_ajustado = adjust_id_ibge(cod_ibge)"
   ]
  },
  {
   "cell_type": "markdown",
   "metadata": {
    "tags": []
   },
   "source": [
    "<br>\n",
    "\n",
    "## Dask Zifiles"
   ]
  },
  {
   "cell_type": "code",
   "execution_count": null,
   "metadata": {},
   "outputs": [],
   "source": [
    "# Parameters\n",
    "filenames = [\n",
    "    # Cadastro\n",
    "    os.path.join(input_path_parquet_partitioned, 'cadastro', 'cadastro_pontos_captacao'),\n",
    "    os.path.join(input_path_parquet_partitioned, 'cadastro', 'cadastro_populacao_abastecida'),\n",
    "    os.path.join(input_path_parquet_partitioned, 'cadastro', 'cadastro_tratamento_de_agua'),\n",
    "    \n",
    "    # Controle\n",
    "    os.path.join(input_path_parquet_partitioned, 'controle', 'controle_mensal_amostras_fora_padrao'),\n",
    "    os.path.join(input_path_parquet_partitioned, 'controle', 'controle_mensal_demais_parametros'),\n",
    "    os.path.join(input_path_parquet_partitioned, 'controle', 'controle_mensal_infraestrutura_operacionais'),\n",
    "    os.path.join(input_path_parquet_partitioned, 'controle', 'controle_mensal_parametros_basicos_*'),\n",
    "    os.path.join(input_path_parquet_partitioned, 'controle', 'controle_semestral_*'),\n",
    "    \n",
    "    # Vigilância\n",
    "    os.path.join(input_path_parquet_partitioned, 'vigilancia', 'vigilancia_cianobacterias_cianotoxinas'),\n",
    "    os.path.join(input_path_parquet_partitioned, 'vigilancia', 'vigilancia_demais_parametros'),\n",
    "    os.path.join(input_path_parquet_partitioned, 'vigilancia', 'vigilancia_parametros_basicos_*'),\n",
    "]"
   ]
  },
  {
   "cell_type": "code",
   "execution_count": null,
   "metadata": {},
   "outputs": [],
   "source": [
    "for filename in filenames:    \n",
    "    # Path\n",
    "    basename = os.path.basename(filename).replace('_*', '')\n",
    "    subdir = os.path.basename(os.path.dirname(filename))\n",
    "    print('Na pasta \"{}\", processando arquivo \"{}\"'.format(subdir, basename))\n",
    "    \n",
    "    # Set and create output paths\n",
    "    output_path_city = os.path.join(\n",
    "        output_path,\n",
    "        '{}'.format(cod_ibge),\n",
    "        'dados brutos',\n",
    "        subdir,\n",
    "    )\n",
    "    os.makedirs(output_path_city, exist_ok=True)\n",
    "    \n",
    "    # Add Filter to Filename\n",
    "    filter_path = os.path.join('Uf={}'.format(estado), 'Código Ibge={}/*.parquet'.format(cod_ibge_ajustado))\n",
    "    filename = os.path.join(filename, filter_path)\n",
    "    \n",
    "    # Set Filters\n",
    "    filters = [[('Uf', '==', estado), ('Código Ibge', '=', int(cod_ibge_ajustado))]]\n",
    "\n",
    "    # Read Dataframes\n",
    "    df = dd.read_parquet(\n",
    "        filename,\n",
    "        filters=filters,\n",
    "    )\n",
    "\n",
    "    # Calculate\n",
    "    df = df.compute()\n",
    "    df.head()\n",
    "\n",
    "    # Write to Excel\n",
    "    df.to_excel(\n",
    "        os.path.join(output_path_city, '{}.xlsx'.format(basename)),\n",
    "        index=False,\n",
    "    )"
   ]
  },
  {
   "cell_type": "markdown",
   "metadata": {},
   "source": [
    "<br>\n",
    "\n",
    "## End"
   ]
  },
  {
   "cell_type": "code",
   "execution_count": null,
   "metadata": {},
   "outputs": [],
   "source": [
    "cluster.close()\n",
    "time.sleep(1)\n",
    "client.close()"
   ]
  },
  {
   "cell_type": "code",
   "execution_count": null,
   "metadata": {},
   "outputs": [],
   "source": []
  }
 ],
 "metadata": {
  "anaconda-cloud": {},
  "interpreter": {
   "hash": "9ff1310743fb78083e61eda919b1855ced787e7556b2d9e40aa50770053af88d"
  },
  "kernelspec": {
   "display_name": "Python 3 (ipykernel)",
   "language": "python",
   "name": "python3"
  },
  "language_info": {
   "codemirror_mode": {
    "name": "ipython",
    "version": 3
   },
   "file_extension": ".py",
   "mimetype": "text/x-python",
   "name": "python",
   "nbconvert_exporter": "python",
   "pygments_lexer": "ipython3",
   "version": "3.9.12"
  },
  "notify_time": "10",
  "toc": {
   "base_numbering": 1,
   "nav_menu": {
    "height": "605px",
    "width": "460px"
   },
   "number_sections": true,
   "sideBar": true,
   "skip_h1_title": false,
   "title_cell": "Índice",
   "title_sidebar": "Contents",
   "toc_cell": false,
   "toc_position": {
    "height": "calc(100% - 180px)",
    "left": "10px",
    "top": "150px",
    "width": "364px"
   },
   "toc_section_display": true,
   "toc_window_display": true
  },
  "toc-autonumbering": true
 },
 "nbformat": 4,
 "nbformat_minor": 4
}
