{
 "cells": [
  {
   "cell_type": "markdown",
   "metadata": {},
   "source": [
    "<br>\n",
    "\n",
    "# Introdução\n",
    "\n",
    "[Dados Abertos](https://dados.gov.br/organization/5b283f30-ced3-4ccc-b44a-406e8a92e1ad?tags=SISAGUA)"
   ]
  },
  {
   "cell_type": "code",
   "execution_count": null,
   "metadata": {},
   "outputs": [],
   "source": [
    "#!pip install traquitanas --upgrade"
   ]
  },
  {
   "cell_type": "code",
   "execution_count": null,
   "metadata": {},
   "outputs": [],
   "source": [
    "import os"
   ]
  },
  {
   "cell_type": "code",
   "execution_count": null,
   "metadata": {},
   "outputs": [],
   "source": [
    "from traquitanas.net import downloads as tt"
   ]
  },
  {
   "cell_type": "code",
   "execution_count": null,
   "metadata": {},
   "outputs": [],
   "source": [
    "from paths import *"
   ]
  },
  {
   "cell_type": "markdown",
   "metadata": {},
   "source": [
    "<br>\n",
    "\n",
    "## *Download*: Cadastro"
   ]
  },
  {
   "cell_type": "markdown",
   "metadata": {},
   "source": [
    "Posteriormente se define a lista de arquivos que será feito o o *download*.<br>\n",
    "A lista abaixo foi organizada, manualmente, em 15.10.2021."
   ]
  },
  {
   "cell_type": "code",
   "execution_count": null,
   "metadata": {},
   "outputs": [],
   "source": [
    "urls_cadastro = [\n",
    "    # Cadastro: Pontos de Captação\n",
    "    # https://dados.gov.br/dataset/sisagua-pontos-de-captacao-de-agua\n",
    "    'https://sage.saude.gov.br/dados/sisagua/cadastro_pontos_captacao.zip',\n",
    "\n",
    "    # Cadastro: Tratamento de Água\n",
    "    # https://dados.gov.br/dataset/sisagua-tratamento-de-agua\n",
    "    'https://sage.saude.gov.br/dados/sisagua/cadastro_tratamento_de_agua.zip',\n",
    "\n",
    "    # Cadastro: Cobertura de Abastecimento\n",
    "    # 'https://dados.gov.br/dataset/sisagua-cobertura-de-abastecimento2',\n",
    "    'https://sage.saude.gov.br/dados/sisagua/cadastro_populacao_abastecida.zip',\n",
    "]"
   ]
  },
  {
   "cell_type": "code",
   "execution_count": null,
   "metadata": {},
   "outputs": [],
   "source": [
    "tt.download_urls(\n",
    "    urls_cadastro,\n",
    "    os.path.join(bruto_path, 'cadastro')\n",
    ")"
   ]
  },
  {
   "cell_type": "markdown",
   "metadata": {},
   "source": [
    "<br>\n",
    "\n",
    "## *Download*: Controle"
   ]
  },
  {
   "cell_type": "code",
   "execution_count": null,
   "metadata": {},
   "outputs": [],
   "source": [
    "urls_controle = [\n",
    "    # Controle Mensal: Parâmetros Básicos\n",
    "    # https://dados.gov.br/dataset/sisagua-controle-mensal-quantitativos-de-analises\n",
    "    'https://sage.saude.gov.br/dados/sisagua/controle_mensal_parametros_basicos_2014.zip',\n",
    "    'https://sage.saude.gov.br/dados/sisagua/controle_mensal_parametros_basicos_2015.zip',\n",
    "    'https://sage.saude.gov.br/dados/sisagua/controle_mensal_parametros_basicos_2016.zip',\n",
    "    'https://sage.saude.gov.br/dados/sisagua/controle_mensal_parametros_basicos_2017.zip',\n",
    "    'https://sage.saude.gov.br/dados/sisagua/controle_mensal_parametros_basicos_2018.zip',\n",
    "    'https://sage.saude.gov.br/dados/sisagua/controle_mensal_parametros_basicos_2019.zip',\n",
    "    'https://sage.saude.gov.br/dados/sisagua/controle_mensal_parametros_basicos_2020.zip',\n",
    "    'https://sage.saude.gov.br/dados/sisagua/controle_mensal_parametros_basicos_2021.zip',\n",
    "    'https://sage.saude.gov.br/dados/sisagua/controle_mensal_parametros_basicos_2022.zip',\n",
    "\n",
    "    # Controle Mensal: Demais Parâmetros\n",
    "    # https://dados.gov.br/dataset/sisagua-controle-mensal-resultado-de-analises\n",
    "    'https://sage.saude.gov.br/dados/sisagua/controle_mensal_demais_parametros.zip',\n",
    "\n",
    "    # Controle Mensal: Amostras Fora do Padrão\n",
    "    # https://dados.gov.br/dataset/sisagua-controle-mensal-amostras-fora-do-padrao\n",
    "    'https://sage.saude.gov.br/dados/sisagua/controle_mensal_amostras_fora_padrao.zip',\n",
    "\n",
    "    # Controle Mensal: Infraestrutura e Operacionais\n",
    "    'https://sage.saude.gov.br/dados/sisagua/controle_mensal_infraestrutura_operacionais.zip',    \n",
    "    \n",
    "    # Controle Semestral \n",
    "    'https://sage.saude.gov.br/dados/sisagua/controle_semestral_2014.zip',\n",
    "    'https://sage.saude.gov.br/dados/sisagua/controle_semestral_2015.zip',\n",
    "    'https://sage.saude.gov.br/dados/sisagua/controle_semestral_2016.zip',\n",
    "    'https://sage.saude.gov.br/dados/sisagua/controle_semestral_2017.zip',\n",
    "    'https://sage.saude.gov.br/dados/sisagua/controle_semestral_2018.zip',\n",
    "    'https://sage.saude.gov.br/dados/sisagua/controle_semestral_2019.zip',\n",
    "    'https://sage.saude.gov.br/dados/sisagua/controle_semestral_2020.zip',\n",
    "    'https://sage.saude.gov.br/dados/sisagua/controle_semestral_2021.zip',\n",
    "    'https://sage.saude.gov.br/dados/sisagua/controle_semestral_2022.zip',    \n",
    "]"
   ]
  },
  {
   "cell_type": "code",
   "execution_count": null,
   "metadata": {},
   "outputs": [],
   "source": [
    "tt.download_urls(\n",
    "    urls_controle,\n",
    "    os.path.join(bruto_path, 'controle')\n",
    ")"
   ]
  },
  {
   "cell_type": "markdown",
   "metadata": {},
   "source": [
    "<br>\n",
    "\n",
    "## *Download*: Vigilância"
   ]
  },
  {
   "cell_type": "code",
   "execution_count": null,
   "metadata": {},
   "outputs": [],
   "source": [
    "urls_vigilancia = [\n",
    "    # Vigilância (Parâmetros Básicos)\n",
    "    # https://dados.gov.br/dataset/sisagua-amostras-de-vigilancia-parametros-basicos\n",
    "    'https://sage.saude.gov.br/dados/sisagua/vigilancia_parametros_basicos_2014.zip',\n",
    "    'https://sage.saude.gov.br/dados/sisagua/vigilancia_parametros_basicos_2015.zip',\n",
    "    'https://sage.saude.gov.br/dados/sisagua/vigilancia_parametros_basicos_2016.zip',\n",
    "    'https://sage.saude.gov.br/dados/sisagua/vigilancia_parametros_basicos_2017.zip',\n",
    "    'https://sage.saude.gov.br/dados/sisagua/vigilancia_parametros_basicos_2018.zip',\n",
    "    'https://sage.saude.gov.br/dados/sisagua/vigilancia_parametros_basicos_2019.zip',\n",
    "    'https://sage.saude.gov.br/dados/sisagua/vigilancia_parametros_basicos_2020.zip',\n",
    "    'https://sage.saude.gov.br/dados/sisagua/vigilancia_parametros_basicos_2021.zip',\n",
    "    \n",
    "    # Vigilância (Demais Parâmetros)\n",
    "    # https://dados.gov.br/dataset/sisagua-amostras-de-vigilancia-demais-parametros\n",
    "    'https://sage.saude.gov.br/dados/sisagua/vigilancia_demais_parametros.zip',\n",
    "\n",
    "    # Vigilância (Cianobactérias e Cianotoxinas)\n",
    "    # https://dados.gov.br/dataset/vigilancia-resultados_das_analises_de_cianobacterias_e_cianotoxinas\n",
    "    'https://sage.saude.gov.br/dados/sisagua/vigilancia_cianobacterias_cianotoxinas.zip',\n",
    "]"
   ]
  },
  {
   "cell_type": "code",
   "execution_count": null,
   "metadata": {},
   "outputs": [],
   "source": [
    "tt.download_urls(\n",
    "    urls_vigilancia,\n",
    "    os.path.join(bruto_path, 'vigilancia'),\n",
    ")"
   ]
  },
  {
   "cell_type": "code",
   "execution_count": null,
   "metadata": {},
   "outputs": [],
   "source": []
  }
 ],
 "metadata": {
  "anaconda-cloud": {},
  "interpreter": {
   "hash": "9ff1310743fb78083e61eda919b1855ced787e7556b2d9e40aa50770053af88d"
  },
  "kernelspec": {
   "display_name": "Python 3 (ipykernel)",
   "language": "python",
   "name": "python3"
  },
  "language_info": {
   "codemirror_mode": {
    "name": "ipython",
    "version": 3
   },
   "file_extension": ".py",
   "mimetype": "text/x-python",
   "name": "python",
   "nbconvert_exporter": "python",
   "pygments_lexer": "ipython3",
   "version": "3.9.7"
  },
  "notify_time": "10",
  "toc": {
   "base_numbering": 1,
   "nav_menu": {
    "height": "605px",
    "width": "460px"
   },
   "number_sections": true,
   "sideBar": true,
   "skip_h1_title": false,
   "title_cell": "Índice",
   "title_sidebar": "Contents",
   "toc_cell": false,
   "toc_position": {
    "height": "calc(100% - 180px)",
    "left": "10px",
    "top": "150px",
    "width": "364px"
   },
   "toc_section_display": true,
   "toc_window_display": true
  },
  "toc-autonumbering": true
 },
 "nbformat": 4,
 "nbformat_minor": 4
}
