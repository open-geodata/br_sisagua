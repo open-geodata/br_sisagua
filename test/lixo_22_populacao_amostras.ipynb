{
 "cells": [
  {
   "cell_type": "markdown",
   "id": "e229035a-e5f8-483e-9e41-cdcf6fd475d1",
   "metadata": {},
   "source": [
    "Com o nome do município obtido a partir da tabela com a estimativa da população, foi criada uma pasta que armazenará informações e tabelas exportadas e salva a tabela."
   ]
  },
  {
   "cell_type": "code",
   "execution_count": 2,
   "id": "75611314-b0ed-431c-9a20-4fae3aefddd5",
   "metadata": {},
   "outputs": [],
   "source": [
    "#create_folders('', ['data', 'data/' + gaema + '/' + município])"
   ]
  },
  {
   "cell_type": "code",
   "execution_count": 3,
   "id": "24065c26-32f1-49ad-b788-bef00b3fff43",
   "metadata": {},
   "outputs": [],
   "source": [
    "#out_path = os.path.join('data', gaema, município)\n",
    "#print(out_path)"
   ]
  },
  {
   "cell_type": "markdown",
   "id": "e5b6d9dc-9500-4d28-b191-2695bd2eee8b",
   "metadata": {},
   "source": [
    "A tabela com estimativa da população contem todos os municípios do Brasil. Logo, faz-se encessário filtrar e selecionar apenas o município desejado. Em seguida já é aplicada a função que calcula o número mínimo de amostras mensais de cloro residual livre, bem como o número de amostras anuais."
   ]
  },
  {
   "cell_type": "code",
   "execution_count": null,
   "id": "cd08bb67-e1c6-4888-a519-3aa3d5460135",
   "metadata": {},
   "outputs": [],
   "source": [
    "# Filtra e cria série\n",
    "pop = df.loc[ID_Município].drop(['Município', 'Estado'])\n",
    "df_pop = pd.DataFrame(pop)\n",
    "\n",
    "# Renomeia Índice\n",
    "df_pop.index.names = ['Ano']\n",
    "\n",
    "# Renomeia Colunas\n",
    "df_pop.rename(columns={ID_Município: 'População'}, inplace=True)\n"
   ]
  },
  {
   "cell_type": "code",
   "execution_count": 14,
   "id": "b5d585ac-1b7d-4677-96cf-7fa51f2bdb10",
   "metadata": {},
   "outputs": [
    {
     "data": {
      "text/html": [
       "<div>\n",
       "<style scoped>\n",
       "    .dataframe tbody tr th:only-of-type {\n",
       "        vertical-align: middle;\n",
       "    }\n",
       "\n",
       "    .dataframe tbody tr th {\n",
       "        vertical-align: top;\n",
       "    }\n",
       "\n",
       "    .dataframe thead th {\n",
       "        text-align: right;\n",
       "    }\n",
       "</style>\n",
       "<table border=\"1\" class=\"dataframe\">\n",
       "  <thead>\n",
       "    <tr style=\"text-align: right;\">\n",
       "      <th></th>\n",
       "      <th>População</th>\n",
       "      <th>Nº Amostras Mensais</th>\n",
       "      <th>Nº Amostras Anuais</th>\n",
       "    </tr>\n",
       "    <tr>\n",
       "      <th>Ano</th>\n",
       "      <th></th>\n",
       "      <th></th>\n",
       "      <th></th>\n",
       "    </tr>\n",
       "  </thead>\n",
       "  <tbody>\n",
       "    <tr>\n",
       "      <th>2001</th>\n",
       "      <td>334402</td>\n",
       "      <td>36.0</td>\n",
       "      <td>432.0</td>\n",
       "    </tr>\n",
       "    <tr>\n",
       "      <th>2002</th>\n",
       "      <td>339772</td>\n",
       "      <td>36.0</td>\n",
       "      <td>432.0</td>\n",
       "    </tr>\n",
       "    <tr>\n",
       "      <th>2003</th>\n",
       "      <td>344698</td>\n",
       "      <td>37.0</td>\n",
       "      <td>444.0</td>\n",
       "    </tr>\n",
       "    <tr>\n",
       "      <th>2004</th>\n",
       "      <td>355039</td>\n",
       "      <td>37.0</td>\n",
       "      <td>444.0</td>\n",
       "    </tr>\n",
       "    <tr>\n",
       "      <th>2005</th>\n",
       "      <td>360762</td>\n",
       "      <td>38.0</td>\n",
       "      <td>456.0</td>\n",
       "    </tr>\n",
       "    <tr>\n",
       "      <th>2006</th>\n",
       "      <td>366442</td>\n",
       "      <td>38.0</td>\n",
       "      <td>456.0</td>\n",
       "    </tr>\n",
       "    <tr>\n",
       "      <th>2008</th>\n",
       "      <td>365440</td>\n",
       "      <td>38.0</td>\n",
       "      <td>456.0</td>\n",
       "    </tr>\n",
       "    <tr>\n",
       "      <th>2009</th>\n",
       "      <td>368843</td>\n",
       "      <td>38.0</td>\n",
       "      <td>456.0</td>\n",
       "    </tr>\n",
       "    <tr>\n",
       "      <th>2011</th>\n",
       "      <td>367290</td>\n",
       "      <td>38.0</td>\n",
       "      <td>456.0</td>\n",
       "    </tr>\n",
       "    <tr>\n",
       "      <th>2012</th>\n",
       "      <td>369919</td>\n",
       "      <td>38.0</td>\n",
       "      <td>456.0</td>\n",
       "    </tr>\n",
       "    <tr>\n",
       "      <th>2013</th>\n",
       "      <td>385287</td>\n",
       "      <td>39.0</td>\n",
       "      <td>468.0</td>\n",
       "    </tr>\n",
       "    <tr>\n",
       "      <th>2014</th>\n",
       "      <td>388412</td>\n",
       "      <td>39.0</td>\n",
       "      <td>468.0</td>\n",
       "    </tr>\n",
       "    <tr>\n",
       "      <th>2015</th>\n",
       "      <td>391449</td>\n",
       "      <td>39.0</td>\n",
       "      <td>468.0</td>\n",
       "    </tr>\n",
       "    <tr>\n",
       "      <th>2016</th>\n",
       "      <td>394419</td>\n",
       "      <td>39.0</td>\n",
       "      <td>468.0</td>\n",
       "    </tr>\n",
       "    <tr>\n",
       "      <th>2017</th>\n",
       "      <td>397322</td>\n",
       "      <td>39.0</td>\n",
       "      <td>468.0</td>\n",
       "    </tr>\n",
       "    <tr>\n",
       "      <th>2018</th>\n",
       "      <td>400949</td>\n",
       "      <td>40.0</td>\n",
       "      <td>480.0</td>\n",
       "    </tr>\n",
       "    <tr>\n",
       "      <th>2019</th>\n",
       "      <td>404142</td>\n",
       "      <td>40.0</td>\n",
       "      <td>480.0</td>\n",
       "    </tr>\n",
       "  </tbody>\n",
       "</table>\n",
       "</div>"
      ],
      "text/plain": [
       "     População  Nº Amostras Mensais  Nº Amostras Anuais\n",
       "Ano                                                    \n",
       "2001    334402                 36.0               432.0\n",
       "2002    339772                 36.0               432.0\n",
       "2003    344698                 37.0               444.0\n",
       "2004    355039                 37.0               444.0\n",
       "2005    360762                 38.0               456.0\n",
       "2006    366442                 38.0               456.0\n",
       "2008    365440                 38.0               456.0\n",
       "2009    368843                 38.0               456.0\n",
       "2011    367290                 38.0               456.0\n",
       "2012    369919                 38.0               456.0\n",
       "2013    385287                 39.0               468.0\n",
       "2014    388412                 39.0               468.0\n",
       "2015    391449                 39.0               468.0\n",
       "2016    394419                 39.0               468.0\n",
       "2017    397322                 39.0               468.0\n",
       "2018    400949                 40.0               480.0\n",
       "2019    404142                 40.0               480.0"
      ]
     },
     "metadata": {},
     "output_type": "display_data"
    }
   ],
   "source": [
    "# Cálculos\n",
    "df['n_amostras_mensais'] = df['n_habitantes'].apply(lambda x: numero_amostras(x))\n",
    "df['n_amostras_anuais'] = df['n_amostras_mensais']*12\n",
    "df.head()"
   ]
  },
  {
   "cell_type": "code",
   "execution_count": 10,
   "id": "e09880d5-6650-4c97-a259-e35c9cc42ae6",
   "metadata": {},
   "outputs": [
    {
     "name": "stdout",
     "output_type": "stream",
     "text": [
      "Piracicaba, SP\n"
     ]
    }
   ],
   "source": [
    "# Insformações com estimativa da população\n",
    "url = 'https://raw.githubusercontent.com/michelmetran/data_population/master/data/tab_EstimativaPopula%C3%A7%C3%A3o_Ajusted.csv'\n",
    "\n",
    "# Monta tabela\n",
    "df = pd.read_csv(url,\n",
    "                 delimiter=';',\n",
    "                 decimal=',',\n",
    "                 index_col=0)\n",
    "\n",
    "# Define Variáveis\n",
    "município = df.loc[ID_Município, 'Município']\n",
    "estado = df.loc[ID_Município, 'Estado']\n",
    "\n",
    "# Apenas para conferir o município\n",
    "print(município + ', ' + estado)\n",
    "\n",
    "# Tabela\n",
    "#display(df)"
   ]
  },
  {
   "cell_type": "code",
   "execution_count": 15,
   "id": "be86248e-2d6b-4290-a64a-c6bafb74701c",
   "metadata": {},
   "outputs": [
    {
     "name": "stdout",
     "output_type": "stream",
     "text": [
      "\n"
     ]
    }
   ],
   "source": [
    "output = os.path.join(out_path, 'tab0_PopulaçãoNumAmostras.csv')\n",
    "write_results(df_pop, output)"
   ]
  }
 ],
 "metadata": {
  "kernelspec": {
   "display_name": "Python [conda env:pablocarreira-py39] *",
   "language": "python",
   "name": "conda-env-pablocarreira-py39-py"
  },
  "language_info": {
   "codemirror_mode": {
    "name": "ipython",
    "version": 3
   },
   "file_extension": ".py",
   "mimetype": "text/x-python",
   "name": "python",
   "nbconvert_exporter": "python",
   "pygments_lexer": "ipython3",
   "version": "3.9.10"
  }
 },
 "nbformat": 4,
 "nbformat_minor": 5
}
