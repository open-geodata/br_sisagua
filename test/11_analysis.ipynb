{
 "cells": [
  {
   "cell_type": "markdown",
   "id": "9c87b93f-4b63-413a-ad54-4d6f8c575889",
   "metadata": {},
   "source": [
    "<br>\n",
    "\n",
    "# Introdução"
   ]
  },
  {
   "cell_type": "code",
   "execution_count": null,
   "id": "e3bf4202-857c-498c-9769-24af9bceb183",
   "metadata": {},
   "outputs": [],
   "source": [
    "#!pip3 install simplekml --upgrade\n",
    "#!pip3 install open-geodata --upgrade\n",
    "#!pip3 install traquitanas --upgrade"
   ]
  },
  {
   "cell_type": "code",
   "execution_count": null,
   "id": "56ee8c27-5c10-4fc9-ba39-df90ecb2618a",
   "metadata": {},
   "outputs": [],
   "source": [
    "import os\n",
    "import folium\n",
    "import simplekml\n",
    "import numpy as np\n",
    "import pandas as pd\n",
    "import seaborn as sns\n",
    "import geopandas as gpd\n",
    "from folium import plugins\n",
    "\n",
    "from shapely.geometry import Point\n",
    "from datetime import date"
   ]
  },
  {
   "cell_type": "code",
   "execution_count": null,
   "id": "285a0526-0693-4aef-982a-91b7897979f3",
   "metadata": {},
   "outputs": [],
   "source": [
    "from open_geodata import geo\n",
    "from traquitanas.geo import layers as tt"
   ]
  },
  {
   "cell_type": "code",
   "execution_count": null,
   "id": "009d1d91-2a95-480c-9742-d735b907b6ef",
   "metadata": {},
   "outputs": [],
   "source": [
    "from paths import *\n",
    "from cod_ibge import *"
   ]
  },
  {
   "cell_type": "markdown",
   "id": "fb5e7a1f-92d1-44be-a637-b2f7e4c626d0",
   "metadata": {},
   "source": [
    "<br>\n",
    "\n",
    "## Municípios\n",
    "\n",
    "Lista quais os Municípios que exportei dados."
   ]
  },
  {
   "cell_type": "code",
   "execution_count": null,
   "id": "4c42ebcf-8fe9-4b32-a6b8-e12645cd4002",
   "metadata": {},
   "outputs": [],
   "source": [
    "os.listdir(output_path_cidades)"
   ]
  },
  {
   "cell_type": "code",
   "execution_count": null,
   "id": "66c78bd1-8467-41db-aca5-13e91d34ae55",
   "metadata": {},
   "outputs": [],
   "source": [
    "# Parameters\n",
    "estado = 'SP'\n",
    "cod_ibge = '3548906' # São Carlos\n",
    "\n",
    "# Adjust Code\n",
    "cod_ibge_adjusted = adjust_cod_ibge(cod_ibge)\n",
    "\n",
    "# Path name\n",
    "city_path = '{}_{}'.format(estado, cod_ibge_adjusted)\n",
    "city_path"
   ]
  },
  {
   "cell_type": "code",
   "execution_count": null,
   "id": "0857e714-2223-472a-b573-8435e27d5541",
   "metadata": {},
   "outputs": [],
   "source": [
    "# Confere se o município selecionado tem dados exportados\n",
    "city_path in os.listdir(output_path_cidades)"
   ]
  },
  {
   "cell_type": "code",
   "execution_count": null,
   "id": "af8c0575-f597-4967-a584-0e7cda0e3a24",
   "metadata": {},
   "outputs": [],
   "source": [
    "# Cria Diretórios de output de Mapas\n",
    "geo_path = os.path.join(output_path_cidades, city_path, 'analysis_geo')\n",
    "os.makedirs(geo_path, exist_ok=True)"
   ]
  },
  {
   "cell_type": "code",
   "execution_count": null,
   "id": "79bb6fcb-e38d-48ab-ae8b-29ac285ee593",
   "metadata": {},
   "outputs": [],
   "source": [
    "# Qual é esse ano?!\n",
    "this_year = date.today().year\n",
    "this_year"
   ]
  },
  {
   "cell_type": "markdown",
   "id": "a7f5fdf1-b5e8-4385-b99e-4b030765ef85",
   "metadata": {},
   "source": [
    "<br>\n",
    "\n",
    "# Geodata"
   ]
  },
  {
   "cell_type": "code",
   "execution_count": null,
   "id": "78f67cb3-4cf4-468f-925f-f83d5cb2409f",
   "metadata": {},
   "outputs": [],
   "source": [
    "# List geodataframes\n",
    "geo.get_dataset_names()\n",
    "\n",
    "# Load geodataframe\n",
    "gdf_sp = geo.load_dataset('sp_250k_wgs84.geojson')\n",
    "gdf_sp"
   ]
  },
  {
   "cell_type": "markdown",
   "id": "912ce4af-a548-4d25-b9e8-31405217878f",
   "metadata": {},
   "source": [
    "<br>\n",
    "\n",
    "# Folium"
   ]
  },
  {
   "cell_type": "markdown",
   "id": "da626865-b204-4393-a161-a304cdbff446",
   "metadata": {},
   "source": [
    "<br>\n",
    "\n",
    "## Layer: Captação"
   ]
  },
  {
   "cell_type": "code",
   "execution_count": null,
   "id": "44f647d9-85e2-4f6d-9396-40df1ef246dd",
   "metadata": {},
   "outputs": [],
   "source": [
    "## Lê Dados de Captação\n",
    "\n",
    "# Read Table\n",
    "df = pd.read_excel(\n",
    "    os.path.join(output_path_cidades, city_path, 'cadastro', 'cadastro_pontos_captacao.xlsx')\n",
    ")\n",
    "\n",
    "# Filtra os Últimos\n",
    "if this_year in set(df['Ano De Referência']):\n",
    "    df = df.loc[df['Ano De Referência'] == this_year]\n",
    "    df.reset_index(drop=True, inplace=True)\n",
    "    display(df.head())\n",
    "else:\n",
    "    print('d')"
   ]
  },
  {
   "cell_type": "code",
   "execution_count": null,
   "id": "78f25df4-999a-4ae6-8a7a-2969ce5d22f5",
   "metadata": {},
   "outputs": [],
   "source": [
    "# dtypes\n",
    "#print(df.dtypes)\n",
    "\n",
    "# Adjusta os dtypes\n",
    "df['Longitude'] = pd.to_numeric(df['Longitude'].str.replace(',', '.'), errors='coerce')\n",
    "df['Latitude'] = pd.to_numeric(df['Latitude'].str.replace(',', '.'), errors='coerce')"
   ]
  },
  {
   "cell_type": "code",
   "execution_count": null,
   "id": "30966f76-f857-4585-b51b-896ac72f39fe",
   "metadata": {},
   "outputs": [],
   "source": [
    "# Create Geometry\n",
    "geometry = [Point(xy) for xy in zip(df['Longitude'], df['Latitude'])]\n",
    "\n",
    "# Create Geodataframe\n",
    "gdf = gpd.GeoDataFrame(\n",
    "    df,\n",
    "    crs='EPSG:4326',\n",
    "    geometry=geometry\n",
    ")\n",
    "\n",
    "gdf.to_file(\n",
    "    os.path.join(geo_path, 'cadastro_pontos_captacao.geojson'),\n",
    "    driver='GeoJSON'\n",
    ")"
   ]
  },
  {
   "cell_type": "code",
   "execution_count": null,
   "id": "ad93ef07-01b0-488c-a021-35c0683bbdf7",
   "metadata": {},
   "outputs": [],
   "source": [
    "def add_lyr_captacao(output_geo_path):\n",
    "    # Input\n",
    "    gdf = gpd.read_file(os.path.join(output_geo_path, 'cadastro_pontos_captacao.geojson'))\n",
    "    gdf['geometry'] = gdf['geometry'].replace('None', np.nan)\n",
    "    gdf = gdf.loc[gdf['geometry'] != None]\n",
    "    gdf = gdf.to_crs(epsg=4326)\n",
    "    \n",
    "    # Popup\n",
    "    gdf['popup'] = gdf.apply(popup_html_est_aut_empresas, axis=1)\n",
    "\n",
    "    # Layer\n",
    "    lyr = folium.GeoJson(\n",
    "        gdf,\n",
    "        name='Captação para Abastecimento',\n",
    "        smooth_factor=1.0,\n",
    "        style_function=lambda x: {\n",
    "            'fillColor': '#DC143C',\n",
    "            'color': '#DC143C',\n",
    "            'weight': 1,\n",
    "            'fillOpacity': 0.3,\n",
    "        },\n",
    "        highlight_function=lambda x: {\n",
    "            'weight': 3,\n",
    "            'fillOpacity': 0.6,\n",
    "        },\n",
    "        popup=folium.GeoJsonPopup(\n",
    "            ['popup'],\n",
    "            parse_html=False,\n",
    "            max_width='400',\n",
    "            show=False,\n",
    "            labels=False,\n",
    "            sticky=True,            \n",
    "        ),\n",
    "        marker=folium.Marker(\n",
    "            icon=folium.Icon(\n",
    "                color='lightgray',\n",
    "                icon_color='#FFFF00',\n",
    "                #icon='leaf',\n",
    "            ),\n",
    "        ),\n",
    "        tooltip=folium.GeoJsonTooltip(\n",
    "            fields=['Tipo Da Forma De Abastecimento'],\n",
    "            aliases=['Forma'],\n",
    "            sticky=True,\n",
    "            opacity=0.9,\n",
    "            direction='right',\n",
    "        ),\n",
    "        embed=False,\n",
    "        zoom_on_click=False,\n",
    "        control=True,\n",
    "        show=True,\n",
    "    )\n",
    "    return lyr\n",
    "\n",
    "\n",
    "# PopUp\n",
    "def popup_html_est_aut_empresas(row):\n",
    "    # Data\n",
    "    nome = row['Nome Da Instiuição']\n",
    "    tipo = row['Tipo De Captação']\n",
    "    outorga = row['Outorga']\n",
    "    tipo_forma = row['Tipo Da Forma De Abastecimento']\n",
    "    nome_forma = row['Nome Da Forma De Abastecimento']\n",
    "\t\n",
    "    # Infos\n",
    "    popup = \"\"\"\n",
    "    <div>\n",
    "    <h5>{}</h5>\n",
    "    <br>Responsável: <b>{}</b>\n",
    "    <br>Tipo da Forma de Abastecimento: <b>{}</b>\n",
    "    <br>Nome da Forma de Abastecimento: <b>{}</b>\n",
    "    <br>Tem Ouutorga?: <b>{}</b>\n",
    "    </div>\n",
    "    \"\"\".format(tipo_forma, nome, tipo, nome_forma, outorga)\n",
    "    return popup"
   ]
  },
  {
   "cell_type": "markdown",
   "id": "875e09f8-a85f-4579-baae-030d0a8cb4cf",
   "metadata": {},
   "source": [
    "<br>\n",
    "\n",
    "## Layer: Município"
   ]
  },
  {
   "cell_type": "code",
   "execution_count": null,
   "id": "f44f5d4f-35be-41d6-92e2-a14bf59d945b",
   "metadata": {},
   "outputs": [],
   "source": [
    "gdf_sp_mun = gdf_sp.loc[gdf_sp['id_municipio'] == int(cod_ibge)]\n",
    "gdf_sp_mun.plot()\n",
    "gdf_sp_mun.to_file(\n",
    "    os.path.join(geo_path, 'limite_municipio.geojson'),\n",
    "    driver='GeoJSON'\n",
    ")"
   ]
  },
  {
   "cell_type": "code",
   "execution_count": null,
   "id": "37936097-978c-4b87-b058-9a1fe76faa61",
   "metadata": {},
   "outputs": [],
   "source": [
    "def add_lyr_municipio(output_geo_path):\n",
    "    # Input\n",
    "    gdf = gpd.read_file(os.path.join(output_geo_path, 'limite_municipio.geojson'))\n",
    "    gdf = gdf.to_crs(epsg=4326)\n",
    "    \n",
    "    # Popup\n",
    "    #gdf['popup'] = gdf.apply(popup_html_est_aut_empresas, axis=1)\n",
    "\n",
    "    # Layer\n",
    "    lyr = folium.GeoJson(\n",
    "        gdf,\n",
    "        name='Limite Municipal',\n",
    "        smooth_factor=1.0,\n",
    "        style_function=lambda x: {\n",
    "            'fillColor': '#DC143C',\n",
    "            'color': '#DC143C',\n",
    "            'weight': 1,\n",
    "            'fillOpacity': 0.3,\n",
    "        },\n",
    "        highlight_function=lambda x: {\n",
    "            'weight': 3,\n",
    "            'fillOpacity': 0.6,\n",
    "        },\n",
    "        # popup=folium.GeoJsonPopup(\n",
    "        #     ['popup'],\n",
    "        #     parse_html=False,\n",
    "        #     max_width='400',\n",
    "        #     show=False,\n",
    "        #     labels=False,\n",
    "        #     sticky=True,            \n",
    "        # ),\n",
    "        marker=folium.Marker(\n",
    "            icon=folium.Icon(\n",
    "                color='lightgray',\n",
    "                icon_color='#FFFF00',\n",
    "                #icon='leaf',\n",
    "            ),\n",
    "        ),\n",
    "        # tooltip=folium.GeoJsonTooltip(\n",
    "        #     fields=['municipio_nome'],\n",
    "        #     aliases=['Município'],\n",
    "        #     sticky=True,\n",
    "        #     opacity=0.9,\n",
    "        #     direction='right',\n",
    "        # ),\n",
    "        embed=False,\n",
    "        zoom_on_click=False,\n",
    "        control=True,\n",
    "        show=True,\n",
    "    )\n",
    "    return lyr"
   ]
  },
  {
   "cell_type": "markdown",
   "id": "ef670771-a57c-4b5c-be2f-326566a1da1d",
   "metadata": {},
   "source": [
    "<br>\n",
    "\n",
    "## Layer: Municípios Vizinhos"
   ]
  },
  {
   "cell_type": "code",
   "execution_count": null,
   "id": "4ce0b3ad-255f-479e-8c34-54355e77219e",
   "metadata": {},
   "outputs": [],
   "source": [
    "gdf_sp_viz = geo.share_boundary(gdf_sp, gdf_sp_mun)\n",
    "gdf_sp_viz.to_file(\n",
    "    os.path.join(geo_path, 'limite_municipios_vizinhos.geojson'),\n",
    "    driver='GeoJSON'\n",
    ")\n",
    "gdf_sp_viz.plot()"
   ]
  },
  {
   "cell_type": "code",
   "execution_count": null,
   "id": "25931cae-bc95-4088-8a01-6782dd382f64",
   "metadata": {},
   "outputs": [],
   "source": [
    "def add_lyr_municipios_vizinhos(output_geo_path):\n",
    "    # Input\n",
    "    gdf = gpd.read_file(os.path.join(output_geo_path, 'limite_municipios_vizinhos.geojson'))\n",
    "    gdf = gdf.to_crs(epsg=4326)    \n",
    "    \n",
    "    # Popup\n",
    "    #gdf['popup'] = gdf.apply(popup_html_est_aut_empresas, axis=1)\n",
    "\n",
    "    # Layer\n",
    "    lyr = folium.GeoJson(\n",
    "        gdf,\n",
    "        name='Limite Municipíos Vizinhos',\n",
    "        smooth_factor=1.0,\n",
    "        style_function=lambda x: {\n",
    "            'fillColor': '#DC143C',\n",
    "            'color': '#DC143C',\n",
    "            'weight': 1,\n",
    "            'fillOpacity': 0.3,\n",
    "        },\n",
    "        highlight_function=lambda x: {\n",
    "            'weight': 3,\n",
    "            'fillOpacity': 0.6,\n",
    "        },\n",
    "        # popup=folium.GeoJsonPopup(\n",
    "        #     ['popup'],\n",
    "        #     parse_html=False,\n",
    "        #     max_width='400',\n",
    "        #     show=False,\n",
    "        #     labels=False,\n",
    "        #     sticky=True,            \n",
    "        # ),\n",
    "        marker=folium.Marker(\n",
    "            icon=folium.Icon(\n",
    "                color='lightgray',\n",
    "                icon_color='#FFFF00',\n",
    "                #icon='leaf',\n",
    "            ),\n",
    "        ),\n",
    "        tooltip=folium.GeoJsonTooltip(\n",
    "            fields=['municipio_nome'],\n",
    "            aliases=['Município'],\n",
    "            sticky=True,\n",
    "            opacity=0.9,\n",
    "            direction='right',\n",
    "        ),\n",
    "        embed=False,\n",
    "        zoom_on_click=False,\n",
    "        control=True,\n",
    "        show=True,\n",
    "    )\n",
    "    return lyr"
   ]
  },
  {
   "cell_type": "markdown",
   "id": "71d67f7b-5b46-44d0-a862-0ebfcaa11748",
   "metadata": {},
   "source": [
    "<br>\n",
    "\n",
    "## Map"
   ]
  },
  {
   "cell_type": "code",
   "execution_count": null,
   "id": "04c4594e-5a32-4675-bedb-efed7df500b3",
   "metadata": {},
   "outputs": [],
   "source": [
    "def get_map(input_geojson):\n",
    "    # Input\n",
    "    gdf = gpd.read_file(input_geojson)\n",
    "    gdf = gdf.to_crs(epsg=4326)\n",
    "    sw = gdf.bounds[['miny', 'minx']].min().values.tolist()\n",
    "    ne = gdf.bounds[['maxy', 'maxx']].max().values.tolist()\n",
    "    bounds = [sw, ne]\n",
    "    \n",
    "    # Zoom\n",
    "    min_zoom = 8\n",
    "    max_zoom = 21\n",
    "    padding = 1\n",
    "    \n",
    "    # Create Map\n",
    "    m = folium.Map(\n",
    "        min_zoom=min_zoom,\n",
    "        max_zoom=max_zoom,\n",
    "        max_bounds=True,\n",
    "        min_lat=bounds[0][0]*((100+padding)/100),\n",
    "        min_lon=bounds[0][1]*((100+padding)/100),\n",
    "        max_lat=bounds[1][0]*((100-padding)/100),\n",
    "        max_lon=bounds[1][1]*((100-padding)/100),\n",
    "        tiles=None,\n",
    "        # zoom_delta=0.1,\n",
    "        # zoom_start=10,\n",
    "    )\n",
    "    \n",
    "    # Add Layers\n",
    "    m.add_child(tt.add_lyr_google_hybrid(min_zoom, max_zoom))\n",
    "    m.add_child(tt.add_lyr_google_satellite(min_zoom, max_zoom))\n",
    "    m.add_child(tt.add_lyr_google_terrain(min_zoom, max_zoom))    \n",
    "    m.add_child(tt.add_lyr_google_streets(min_zoom, max_zoom))    \n",
    "\n",
    "    # Monitoramento\n",
    "    m.add_child(add_lyr_captacao(geo_path))\n",
    "    m.add_child(add_lyr_municipio(geo_path))\n",
    "    m.add_child(add_lyr_municipios_vizinhos(geo_path))    \n",
    "\n",
    "    # Plugins\n",
    "    m.fit_bounds(bounds)\n",
    "    plugins.Fullscreen(\n",
    "        position='topleft',\n",
    "        title='Clique para Maximizar',\n",
    "        title_cancel='Mininizar',\n",
    "    ).add_to(m)\n",
    "    folium.LayerControl(\n",
    "        position='topright',\n",
    "        collapsed=False,\n",
    "    ).add_to(m)\n",
    "    return m"
   ]
  },
  {
   "cell_type": "code",
   "execution_count": null,
   "id": "56828982-8472-4d3e-bbd5-9a07a506aff4",
   "metadata": {},
   "outputs": [],
   "source": [
    "# Create Maps\n",
    "m = get_map(os.path.join(geo_path, 'cadastro_pontos_captacao.geojson'))\n",
    "\n",
    "# Save\n",
    "m.save(os.path.join(geo_path, 'map_captacao.html'))\n",
    "\n",
    "# Results\n",
    "m"
   ]
  },
  {
   "cell_type": "code",
   "execution_count": null,
   "id": "4b95db2c-6b4a-47f4-8eee-ef9b262a86cc",
   "metadata": {},
   "outputs": [],
   "source": []
  },
  {
   "cell_type": "code",
   "execution_count": null,
   "id": "283c50c9-6ad7-4414-bcde-3702458f925c",
   "metadata": {},
   "outputs": [],
   "source": []
  }
 ],
 "metadata": {
  "kernelspec": {
   "display_name": "Python [conda env:pablocarreira-py39] *",
   "language": "python",
   "name": "conda-env-pablocarreira-py39-py"
  },
  "language_info": {
   "codemirror_mode": {
    "name": "ipython",
    "version": 3
   },
   "file_extension": ".py",
   "mimetype": "text/x-python",
   "name": "python",
   "nbconvert_exporter": "python",
   "pygments_lexer": "ipython3",
   "version": "3.9.10"
  },
  "toc-autonumbering": true
 },
 "nbformat": 4,
 "nbformat_minor": 5
}
