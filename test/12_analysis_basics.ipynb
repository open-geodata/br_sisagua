{
 "cells": [
  {
   "cell_type": "markdown",
   "id": "e24b2a80-7738-4a10-9b22-8f4228517bdd",
   "metadata": {
    "tags": [
     "remove_cell"
    ]
   },
   "source": [
    "<br>\n",
    "\n",
    "# Introdução"
   ]
  },
  {
   "cell_type": "code",
   "execution_count": 407,
   "id": "45a9f937-5157-404f-b9f4-887418f102ea",
   "metadata": {},
   "outputs": [],
   "source": [
    "import os\n",
    "import sys\n",
    "import pandas as pd"
   ]
  },
  {
   "cell_type": "code",
   "execution_count": 408,
   "id": "b04c5d22-a5b4-4619-bec7-f774cb9abea1",
   "metadata": {},
   "outputs": [],
   "source": [
    "import dash\n",
    "from dash import Dash, dcc, html, Input, Output\n",
    "from jupyter_dash import JupyterDash"
   ]
  },
  {
   "cell_type": "code",
   "execution_count": 409,
   "id": "8920ac88-e29e-4c26-af64-c34b3af4f2c3",
   "metadata": {},
   "outputs": [],
   "source": [
    "import plotly.express as px\n",
    "import plotly.graph_objects as go"
   ]
  },
  {
   "cell_type": "code",
   "execution_count": 410,
   "id": "03e55550-568c-481d-a0f3-1679d081b56b",
   "metadata": {
    "tags": [
     "remove_cell"
    ]
   },
   "outputs": [],
   "source": [
    "mod_path = os.path.abspath(os.path.join(os.getcwd(), '..', 'src'))\n",
    "sys.path.append(mod_path)"
   ]
  },
  {
   "cell_type": "code",
   "execution_count": 411,
   "id": "321af127",
   "metadata": {
    "collapsed": false,
    "jupyter": {
     "outputs_hidden": false
    },
    "pycharm": {
     "name": "#%%\n"
    }
   },
   "outputs": [],
   "source": [
    "from sisagua.ibge import *"
   ]
  },
  {
   "cell_type": "code",
   "execution_count": 412,
   "id": "aca3ee0d-30e3-49b4-9095-9955ed23d176",
   "metadata": {},
   "outputs": [],
   "source": [
    "from paths import *"
   ]
  },
  {
   "cell_type": "code",
   "execution_count": 413,
   "id": "5a13b9a6-fe55-4b51-9e58-67e84759df94",
   "metadata": {},
   "outputs": [],
   "source": [
    "# Parameters\n",
    "cod_ibge = '3548906' # São Carlos\n",
    "cod_ibge = '3526902' # Limeira\n",
    "cod_ibge = '3501608' # Americana\n",
    "\n",
    "# Adjust Code\n",
    "#cod_ibge_adjusted = adjust_id_ibge(cod_ibge)"
   ]
  },
  {
   "cell_type": "markdown",
   "id": "8ccda79f-0f56-4c6e-939e-7b54bb7907b3",
   "metadata": {},
   "source": [
    "<br>\n",
    "\n",
    "# Lê Dados da Vigilância"
   ]
  },
  {
   "cell_type": "code",
   "execution_count": 414,
   "id": "22241504-9abb-4848-9278-6f79f9b471aa",
   "metadata": {
    "tags": [
     "remove_cell"
    ]
   },
   "outputs": [],
   "source": [
    "# Read Table\n",
    "df = pd.read_excel(\n",
    "    os.path.join(output_path, str(cod_ibge), 'dados brutos', 'vigilancia', 'vigilancia_parametros_basicos.xlsx')\n",
    ")"
   ]
  },
  {
   "cell_type": "markdown",
   "id": "c6acd8be-b584-4f37-8644-07f1b49c4879",
   "metadata": {},
   "source": [
    "<br>\n",
    "\n",
    "# Filtra"
   ]
  },
  {
   "cell_type": "code",
   "execution_count": 415,
   "id": "a23735ec-a7d2-4612-aa9e-cd8324031562",
   "metadata": {},
   "outputs": [
    {
     "name": "stdout",
     "output_type": "stream",
     "text": [
      "{'SAC', 'SAA'}\n"
     ]
    },
    {
     "data": {
      "text/html": [
       "<div>\n",
       "<style scoped>\n",
       "    .dataframe tbody tr th:only-of-type {\n",
       "        vertical-align: middle;\n",
       "    }\n",
       "\n",
       "    .dataframe tbody tr th {\n",
       "        vertical-align: top;\n",
       "    }\n",
       "\n",
       "    .dataframe thead th {\n",
       "        text-align: right;\n",
       "    }\n",
       "</style>\n",
       "<table border=\"1\" class=\"dataframe\">\n",
       "  <thead>\n",
       "    <tr style=\"text-align: right;\">\n",
       "      <th></th>\n",
       "      <th>Região Geográfica</th>\n",
       "      <th>Regional De Saúde</th>\n",
       "      <th>Município</th>\n",
       "      <th>Número Da Amostra</th>\n",
       "      <th>Motivo Da Coleta</th>\n",
       "      <th>Tipo Da Forma De Abastecimento</th>\n",
       "      <th>Código Forma De Abastecimento</th>\n",
       "      <th>Nome Da Forma De Abastecimento</th>\n",
       "      <th>Tipo Da Instituição</th>\n",
       "      <th>Sigla Da Instituição</th>\n",
       "      <th>...</th>\n",
       "      <th>Tipo Do Local</th>\n",
       "      <th>Local</th>\n",
       "      <th>Latitude</th>\n",
       "      <th>Longitude</th>\n",
       "      <th>Parâmetro (Parâmetros Básicos)</th>\n",
       "      <th>Análise Realizada</th>\n",
       "      <th>Resultado</th>\n",
       "      <th>Providência</th>\n",
       "      <th>Uf</th>\n",
       "      <th>Código Ibge</th>\n",
       "    </tr>\n",
       "  </thead>\n",
       "  <tbody>\n",
       "    <tr>\n",
       "      <th>0</th>\n",
       "      <td>SUDESTE</td>\n",
       "      <td>GVS XVII - CAMPINAS</td>\n",
       "      <td>AMERICANA</td>\n",
       "      <td>2308/15</td>\n",
       "      <td>Rotina</td>\n",
       "      <td>SAA</td>\n",
       "      <td>S350160000001</td>\n",
       "      <td>ETA</td>\n",
       "      <td>Serviço Municipal e outros</td>\n",
       "      <td>NaN</td>\n",
       "      <td>...</td>\n",
       "      <td>NaN</td>\n",
       "      <td>NaN</td>\n",
       "      <td>NaN</td>\n",
       "      <td>NaN</td>\n",
       "      <td>Turbidez (uT)</td>\n",
       "      <td>EM_LABORATORIO</td>\n",
       "      <td>0,80</td>\n",
       "      <td>NaN</td>\n",
       "      <td>SP</td>\n",
       "      <td>350160</td>\n",
       "    </tr>\n",
       "    <tr>\n",
       "      <th>1</th>\n",
       "      <td>SUDESTE</td>\n",
       "      <td>GVS XVII - CAMPINAS</td>\n",
       "      <td>AMERICANA</td>\n",
       "      <td>1952/15</td>\n",
       "      <td>Rotina</td>\n",
       "      <td>SAA</td>\n",
       "      <td>S350160000001</td>\n",
       "      <td>ETA</td>\n",
       "      <td>Serviço Municipal e outros</td>\n",
       "      <td>NaN</td>\n",
       "      <td>...</td>\n",
       "      <td>NaN</td>\n",
       "      <td>NaN</td>\n",
       "      <td>NaN</td>\n",
       "      <td>NaN</td>\n",
       "      <td>Cloro residual livre (mg/L)</td>\n",
       "      <td>EM_CAMPO</td>\n",
       "      <td>5,40</td>\n",
       "      <td>SOLICITADO A RECOLETA AO DEPARTAMENTO DE ÁGUA ...</td>\n",
       "      <td>SP</td>\n",
       "      <td>350160</td>\n",
       "    </tr>\n",
       "    <tr>\n",
       "      <th>2</th>\n",
       "      <td>SUDESTE</td>\n",
       "      <td>GVS XVII - CAMPINAS</td>\n",
       "      <td>AMERICANA</td>\n",
       "      <td>10111507</td>\n",
       "      <td>Rotina</td>\n",
       "      <td>SAA</td>\n",
       "      <td>S350160000002</td>\n",
       "      <td>DEPARTAMENTO DE AGUA E ESGOTO</td>\n",
       "      <td>Serviço Municipal e outros</td>\n",
       "      <td>NaN</td>\n",
       "      <td>...</td>\n",
       "      <td>NaN</td>\n",
       "      <td>NaN</td>\n",
       "      <td>NaN</td>\n",
       "      <td>NaN</td>\n",
       "      <td>Cloro residual livre (mg/L)</td>\n",
       "      <td>EM_CAMPO</td>\n",
       "      <td>1,5</td>\n",
       "      <td>NaN</td>\n",
       "      <td>SP</td>\n",
       "      <td>350160</td>\n",
       "    </tr>\n",
       "    <tr>\n",
       "      <th>3</th>\n",
       "      <td>SUDESTE</td>\n",
       "      <td>GVS XVII - CAMPINAS</td>\n",
       "      <td>AMERICANA</td>\n",
       "      <td>0865/15</td>\n",
       "      <td>Rotina</td>\n",
       "      <td>SAA</td>\n",
       "      <td>S350160000001</td>\n",
       "      <td>ETA</td>\n",
       "      <td>Serviço Municipal e outros</td>\n",
       "      <td>NaN</td>\n",
       "      <td>...</td>\n",
       "      <td>NaN</td>\n",
       "      <td>NaN</td>\n",
       "      <td>NaN</td>\n",
       "      <td>NaN</td>\n",
       "      <td>Fluoreto (mg/L)</td>\n",
       "      <td>NaN</td>\n",
       "      <td>0,60</td>\n",
       "      <td>NaN</td>\n",
       "      <td>SP</td>\n",
       "      <td>350160</td>\n",
       "    </tr>\n",
       "    <tr>\n",
       "      <th>4</th>\n",
       "      <td>SUDESTE</td>\n",
       "      <td>GVS XVII - CAMPINAS</td>\n",
       "      <td>AMERICANA</td>\n",
       "      <td>2991505</td>\n",
       "      <td>Rotina</td>\n",
       "      <td>SAA</td>\n",
       "      <td>S350160000002</td>\n",
       "      <td>DEPARTAMENTO DE AGUA E ESGOTO</td>\n",
       "      <td>Serviço Municipal e outros</td>\n",
       "      <td>NaN</td>\n",
       "      <td>...</td>\n",
       "      <td>NaN</td>\n",
       "      <td>NaN</td>\n",
       "      <td>NaN</td>\n",
       "      <td>NaN</td>\n",
       "      <td>Cloro residual livre (mg/L)</td>\n",
       "      <td>EM_CAMPO</td>\n",
       "      <td>1,5</td>\n",
       "      <td>NaN</td>\n",
       "      <td>SP</td>\n",
       "      <td>350160</td>\n",
       "    </tr>\n",
       "  </tbody>\n",
       "</table>\n",
       "<p>5 rows × 36 columns</p>\n",
       "</div>"
      ],
      "text/plain": [
       "  Região Geográfica    Regional De Saúde  Município Número Da Amostra  \\\n",
       "0           SUDESTE  GVS XVII - CAMPINAS  AMERICANA           2308/15   \n",
       "1           SUDESTE  GVS XVII - CAMPINAS  AMERICANA           1952/15   \n",
       "2           SUDESTE  GVS XVII - CAMPINAS  AMERICANA          10111507   \n",
       "3           SUDESTE  GVS XVII - CAMPINAS  AMERICANA           0865/15   \n",
       "4           SUDESTE  GVS XVII - CAMPINAS  AMERICANA           2991505   \n",
       "\n",
       "  Motivo Da Coleta Tipo Da Forma De Abastecimento  \\\n",
       "0           Rotina                            SAA   \n",
       "1           Rotina                            SAA   \n",
       "2           Rotina                            SAA   \n",
       "3           Rotina                            SAA   \n",
       "4           Rotina                            SAA   \n",
       "\n",
       "  Código Forma De Abastecimento Nome Da Forma De Abastecimento  \\\n",
       "0                 S350160000001                            ETA   \n",
       "1                 S350160000001                            ETA   \n",
       "2                 S350160000002  DEPARTAMENTO DE AGUA E ESGOTO   \n",
       "3                 S350160000001                            ETA   \n",
       "4                 S350160000002  DEPARTAMENTO DE AGUA E ESGOTO   \n",
       "\n",
       "          Tipo Da Instituição  Sigla Da Instituição  ... Tipo Do Local  Local  \\\n",
       "0  Serviço Municipal e outros                   NaN  ...           NaN    NaN   \n",
       "1  Serviço Municipal e outros                   NaN  ...           NaN    NaN   \n",
       "2  Serviço Municipal e outros                   NaN  ...           NaN    NaN   \n",
       "3  Serviço Municipal e outros                   NaN  ...           NaN    NaN   \n",
       "4  Serviço Municipal e outros                   NaN  ...           NaN    NaN   \n",
       "\n",
       "   Latitude  Longitude  Parâmetro (Parâmetros Básicos)  Análise Realizada  \\\n",
       "0       NaN        NaN                   Turbidez (uT)     EM_LABORATORIO   \n",
       "1       NaN        NaN     Cloro residual livre (mg/L)           EM_CAMPO   \n",
       "2       NaN        NaN     Cloro residual livre (mg/L)           EM_CAMPO   \n",
       "3       NaN        NaN                 Fluoreto (mg/L)                NaN   \n",
       "4       NaN        NaN     Cloro residual livre (mg/L)           EM_CAMPO   \n",
       "\n",
       "   Resultado                                        Providência  Uf  \\\n",
       "0       0,80                                                NaN  SP   \n",
       "1       5,40  SOLICITADO A RECOLETA AO DEPARTAMENTO DE ÁGUA ...  SP   \n",
       "2        1,5                                                NaN  SP   \n",
       "3       0,60                                                NaN  SP   \n",
       "4        1,5                                                NaN  SP   \n",
       "\n",
       "  Código Ibge  \n",
       "0      350160  \n",
       "1      350160  \n",
       "2      350160  \n",
       "3      350160  \n",
       "4      350160  \n",
       "\n",
       "[5 rows x 36 columns]"
      ]
     },
     "execution_count": 415,
     "metadata": {},
     "output_type": "execute_result"
    }
   ],
   "source": [
    "print(set(df['Tipo Da Forma De Abastecimento']))\n",
    "\n",
    "df = df.loc[df['Tipo Da Forma De Abastecimento'] == 'SAA']\n",
    "df.head()"
   ]
  },
  {
   "cell_type": "markdown",
   "id": "bd1d4490-cedf-410e-84e2-7e2fe66f3434",
   "metadata": {},
   "source": [
    "<br>\n",
    "\n",
    "# Adjust Dates"
   ]
  },
  {
   "cell_type": "code",
   "execution_count": 416,
   "id": "142c56b1-2b88-4d16-99c6-338971286584",
   "metadata": {},
   "outputs": [],
   "source": [
    "df['Data Da Coleta'] = pd.to_datetime(df['Data Da Coleta'])\n",
    "df['Data Do Laudo'] = pd.to_datetime(df['Data Do Laudo'])\n",
    "df['Data De Registro No Sisagua'] = pd.to_datetime(df['Data De Registro No Sisagua'])"
   ]
  },
  {
   "cell_type": "markdown",
   "id": "a023c357-7766-45fe-9ae0-f2678229f478",
   "metadata": {},
   "source": [
    "<br>\n",
    "\n",
    "# Análises"
   ]
  },
  {
   "cell_type": "code",
   "execution_count": 417,
   "id": "3a9441df-7d50-49aa-9d75-46c6528ccbf7",
   "metadata": {},
   "outputs": [
    {
     "name": "stdout",
     "output_type": "stream",
     "text": [
      "<class 'pandas.core.frame.DataFrame'>\n",
      "Int64Index: 4133 entries, 0 to 6342\n",
      "Data columns (total 36 columns):\n",
      " #   Column                             Non-Null Count  Dtype         \n",
      "---  ------                             --------------  -----         \n",
      " 0   Região Geográfica                  4133 non-null   object        \n",
      " 1   Regional De Saúde                  4133 non-null   object        \n",
      " 2   Município                          4133 non-null   object        \n",
      " 3   Número Da Amostra                  4133 non-null   object        \n",
      " 4   Motivo Da Coleta                   4133 non-null   object        \n",
      " 5   Tipo Da Forma De Abastecimento     4133 non-null   object        \n",
      " 6   Código Forma De Abastecimento      4133 non-null   object        \n",
      " 7   Nome Da Forma De Abastecimento     4133 non-null   object        \n",
      " 8   Tipo Da Instituição                4133 non-null   object        \n",
      " 9   Sigla Da Instituição               0 non-null      float64       \n",
      " 10  Nome Da Instituição                4133 non-null   object        \n",
      " 11  Cnpj Da Instituição                4133 non-null   float64       \n",
      " 12  Nome Do Escritório Regional/Local  0 non-null      float64       \n",
      " 13  Cnpj Do Escritório Regional/Local  0 non-null      float64       \n",
      " 14  Nome Da Eta/Uta                    0 non-null      float64       \n",
      " 15  Ano                                4133 non-null   int64         \n",
      " 16  Mês                                4133 non-null   int64         \n",
      " 17  Data Da Coleta                     4133 non-null   datetime64[ns]\n",
      " 18  Data Do Laudo                      4133 non-null   datetime64[ns]\n",
      " 19  Data De Registro No Sisagua        4133 non-null   datetime64[ns]\n",
      " 20  Procedência Da Coleta              4133 non-null   object        \n",
      " 21  Ponto De Coleta                    4133 non-null   object        \n",
      " 22  Descrição Do Local                 4113 non-null   object        \n",
      " 23  Zona                               4133 non-null   object        \n",
      " 24  Categoria Área                     4133 non-null   object        \n",
      " 25  Área                               4133 non-null   object        \n",
      " 26  Tipo Do Local                      0 non-null      object        \n",
      " 27  Local                              0 non-null      object        \n",
      " 28  Latitude                           0 non-null      float64       \n",
      " 29  Longitude                          0 non-null      float64       \n",
      " 30  Parâmetro (Parâmetros Básicos)     4133 non-null   object        \n",
      " 31  Análise Realizada                  1402 non-null   object        \n",
      " 32  Resultado                          4133 non-null   object        \n",
      " 33  Providência                        19 non-null     object        \n",
      " 34  Uf                                 4133 non-null   object        \n",
      " 35  Código Ibge                        4133 non-null   int64         \n",
      "dtypes: datetime64[ns](3), float64(7), int64(3), object(23)\n",
      "memory usage: 1.2+ MB\n",
      "None\n"
     ]
    }
   ],
   "source": [
    "# Results\n",
    "print(df.info())"
   ]
  },
  {
   "cell_type": "code",
   "execution_count": 418,
   "id": "9ff9f828-0780-4b8b-a312-50302f171fea",
   "metadata": {
    "tags": [
     "remove_cell"
    ]
   },
   "outputs": [
    {
     "data": {
      "text/html": [
       "<div>\n",
       "<style scoped>\n",
       "    .dataframe tbody tr th:only-of-type {\n",
       "        vertical-align: middle;\n",
       "    }\n",
       "\n",
       "    .dataframe tbody tr th {\n",
       "        vertical-align: top;\n",
       "    }\n",
       "\n",
       "    .dataframe thead th {\n",
       "        text-align: right;\n",
       "    }\n",
       "</style>\n",
       "<table border=\"1\" class=\"dataframe\">\n",
       "  <thead>\n",
       "    <tr style=\"text-align: right;\">\n",
       "      <th></th>\n",
       "      <th>Região Geográfica</th>\n",
       "      <th>Regional De Saúde</th>\n",
       "      <th>Município</th>\n",
       "    </tr>\n",
       "  </thead>\n",
       "  <tbody>\n",
       "    <tr>\n",
       "      <th>0</th>\n",
       "      <td>SUDESTE</td>\n",
       "      <td>GVS XVII - CAMPINAS</td>\n",
       "      <td>AMERICANA</td>\n",
       "    </tr>\n",
       "  </tbody>\n",
       "</table>\n",
       "</div>"
      ],
      "text/plain": [
       "  Região Geográfica    Regional De Saúde  Município\n",
       "0           SUDESTE  GVS XVII - CAMPINAS  AMERICANA"
      ]
     },
     "execution_count": 418,
     "metadata": {},
     "output_type": "execute_result"
    }
   ],
   "source": [
    "list_cols = ['Região Geográfica', 'Regional De Saúde', 'Município']\n",
    "df[list_cols].drop_duplicates()"
   ]
  },
  {
   "cell_type": "code",
   "execution_count": 419,
   "id": "62d80f95-e031-49fe-9385-a45cb57d66ef",
   "metadata": {
    "tags": [
     "remove_cell"
    ]
   },
   "outputs": [
    {
     "data": {
      "text/html": [
       "<div>\n",
       "<style scoped>\n",
       "    .dataframe tbody tr th:only-of-type {\n",
       "        vertical-align: middle;\n",
       "    }\n",
       "\n",
       "    .dataframe tbody tr th {\n",
       "        vertical-align: top;\n",
       "    }\n",
       "\n",
       "    .dataframe thead th {\n",
       "        text-align: right;\n",
       "    }\n",
       "</style>\n",
       "<table border=\"1\" class=\"dataframe\">\n",
       "  <thead>\n",
       "    <tr style=\"text-align: right;\">\n",
       "      <th></th>\n",
       "      <th>Código Forma De Abastecimento</th>\n",
       "      <th>Tipo Da Forma De Abastecimento</th>\n",
       "      <th>Nome Da Forma De Abastecimento</th>\n",
       "    </tr>\n",
       "  </thead>\n",
       "  <tbody>\n",
       "    <tr>\n",
       "      <th>0</th>\n",
       "      <td>S350160000001</td>\n",
       "      <td>SAA</td>\n",
       "      <td>ETA</td>\n",
       "    </tr>\n",
       "    <tr>\n",
       "      <th>2</th>\n",
       "      <td>S350160000002</td>\n",
       "      <td>SAA</td>\n",
       "      <td>DEPARTAMENTO DE AGUA E ESGOTO</td>\n",
       "    </tr>\n",
       "  </tbody>\n",
       "</table>\n",
       "</div>"
      ],
      "text/plain": [
       "  Código Forma De Abastecimento Tipo Da Forma De Abastecimento  \\\n",
       "0                 S350160000001                            SAA   \n",
       "2                 S350160000002                            SAA   \n",
       "\n",
       "  Nome Da Forma De Abastecimento  \n",
       "0                            ETA  \n",
       "2  DEPARTAMENTO DE AGUA E ESGOTO  "
      ]
     },
     "execution_count": 419,
     "metadata": {},
     "output_type": "execute_result"
    }
   ],
   "source": [
    "list_cols = [\n",
    "    'Código Forma De Abastecimento',\n",
    "    'Tipo Da Forma De Abastecimento',\n",
    "    'Nome Da Forma De Abastecimento',\n",
    "]\n",
    "df[list_cols].drop_duplicates()"
   ]
  },
  {
   "cell_type": "code",
   "execution_count": 420,
   "id": "0cbfeaa0-f221-475a-8448-63fb4d50d838",
   "metadata": {
    "tags": [
     "remove_cell"
    ]
   },
   "outputs": [
    {
     "data": {
      "text/html": [
       "<div>\n",
       "<style scoped>\n",
       "    .dataframe tbody tr th:only-of-type {\n",
       "        vertical-align: middle;\n",
       "    }\n",
       "\n",
       "    .dataframe tbody tr th {\n",
       "        vertical-align: top;\n",
       "    }\n",
       "\n",
       "    .dataframe thead th {\n",
       "        text-align: right;\n",
       "    }\n",
       "</style>\n",
       "<table border=\"1\" class=\"dataframe\">\n",
       "  <thead>\n",
       "    <tr style=\"text-align: right;\">\n",
       "      <th></th>\n",
       "      <th>Tipo Da Instituição</th>\n",
       "      <th>Sigla Da Instituição</th>\n",
       "      <th>Nome Da Instituição</th>\n",
       "      <th>Cnpj Da Instituição</th>\n",
       "      <th>Nome Do Escritório Regional/Local</th>\n",
       "      <th>Cnpj Do Escritório Regional/Local</th>\n",
       "    </tr>\n",
       "  </thead>\n",
       "  <tbody>\n",
       "    <tr>\n",
       "      <th>0</th>\n",
       "      <td>Serviço Municipal e outros</td>\n",
       "      <td>NaN</td>\n",
       "      <td>DEPARTAMENTO DE AGUA E ESGOTO</td>\n",
       "      <td>4.675569e+13</td>\n",
       "      <td>NaN</td>\n",
       "      <td>NaN</td>\n",
       "    </tr>\n",
       "  </tbody>\n",
       "</table>\n",
       "</div>"
      ],
      "text/plain": [
       "          Tipo Da Instituição  Sigla Da Instituição  \\\n",
       "0  Serviço Municipal e outros                   NaN   \n",
       "\n",
       "             Nome Da Instituição  Cnpj Da Instituição  \\\n",
       "0  DEPARTAMENTO DE AGUA E ESGOTO         4.675569e+13   \n",
       "\n",
       "   Nome Do Escritório Regional/Local  Cnpj Do Escritório Regional/Local  \n",
       "0                                NaN                                NaN  "
      ]
     },
     "execution_count": 420,
     "metadata": {},
     "output_type": "execute_result"
    }
   ],
   "source": [
    "list_cols = [\n",
    "    'Tipo Da Instituição',\n",
    "    'Sigla Da Instituição',\n",
    "    'Nome Da Instituição',\n",
    "    'Cnpj Da Instituição',\n",
    "    'Nome Do Escritório Regional/Local',\n",
    "    'Cnpj Do Escritório Regional/Local'\n",
    "]\n",
    "df[list_cols].drop_duplicates()"
   ]
  },
  {
   "cell_type": "code",
   "execution_count": 421,
   "id": "95ad3d33-0cd7-4109-9bd9-d87c66be8100",
   "metadata": {
    "tags": [
     "remove_cell"
    ]
   },
   "outputs": [
    {
     "data": {
      "text/html": [
       "<div>\n",
       "<style scoped>\n",
       "    .dataframe tbody tr th:only-of-type {\n",
       "        vertical-align: middle;\n",
       "    }\n",
       "\n",
       "    .dataframe tbody tr th {\n",
       "        vertical-align: top;\n",
       "    }\n",
       "\n",
       "    .dataframe thead th {\n",
       "        text-align: right;\n",
       "    }\n",
       "</style>\n",
       "<table border=\"1\" class=\"dataframe\">\n",
       "  <thead>\n",
       "    <tr style=\"text-align: right;\">\n",
       "      <th></th>\n",
       "      <th>Procedência Da Coleta</th>\n",
       "      <th>Ponto De Coleta</th>\n",
       "      <th>Zona</th>\n",
       "      <th>Categoria Área</th>\n",
       "    </tr>\n",
       "  </thead>\n",
       "  <tbody>\n",
       "    <tr>\n",
       "      <th>0</th>\n",
       "      <td>SISTEMA DE DISTRIBUIÇÃO</td>\n",
       "      <td>Cavalete/Hidrômetro</td>\n",
       "      <td>Urbana</td>\n",
       "      <td>Bairro</td>\n",
       "    </tr>\n",
       "    <tr>\n",
       "      <th>8</th>\n",
       "      <td>SISTEMA DE DISTRIBUIÇÃO</td>\n",
       "      <td>Reservatório de distribuição</td>\n",
       "      <td>Urbana</td>\n",
       "      <td>Bairro</td>\n",
       "    </tr>\n",
       "    <tr>\n",
       "      <th>1334</th>\n",
       "      <td>INTRA-DOMICILIAR / INTRA-PREDIAL</td>\n",
       "      <td>Torneira após a reservação</td>\n",
       "      <td>Urbana</td>\n",
       "      <td>Bairro</td>\n",
       "    </tr>\n",
       "    <tr>\n",
       "      <th>4876</th>\n",
       "      <td>INTRA-DOMICILIAR / INTRA-PREDIAL</td>\n",
       "      <td>Reservatório de água</td>\n",
       "      <td>Urbana</td>\n",
       "      <td>Bairro</td>\n",
       "    </tr>\n",
       "  </tbody>\n",
       "</table>\n",
       "</div>"
      ],
      "text/plain": [
       "                 Procedência Da Coleta               Ponto De Coleta    Zona  \\\n",
       "0              SISTEMA DE DISTRIBUIÇÃO           Cavalete/Hidrômetro  Urbana   \n",
       "8              SISTEMA DE DISTRIBUIÇÃO  Reservatório de distribuição  Urbana   \n",
       "1334  INTRA-DOMICILIAR / INTRA-PREDIAL    Torneira após a reservação  Urbana   \n",
       "4876  INTRA-DOMICILIAR / INTRA-PREDIAL          Reservatório de água  Urbana   \n",
       "\n",
       "     Categoria Área  \n",
       "0            Bairro  \n",
       "8            Bairro  \n",
       "1334         Bairro  \n",
       "4876         Bairro  "
      ]
     },
     "execution_count": 421,
     "metadata": {},
     "output_type": "execute_result"
    }
   ],
   "source": [
    "list_cols = [\n",
    "    'Procedência Da Coleta',\n",
    "    'Ponto De Coleta',\n",
    "    #'Área',\n",
    "    #'Descrição Do Local',\n",
    "    'Zona',\n",
    "    'Categoria Área',    \n",
    "]\n",
    "df[list_cols].drop_duplicates()"
   ]
  },
  {
   "cell_type": "code",
   "execution_count": 422,
   "id": "592cd4cd-973a-4e7e-b196-e399ea2a9f15",
   "metadata": {
    "tags": [
     "remove_cell"
    ]
   },
   "outputs": [
    {
     "data": {
      "text/html": [
       "<div>\n",
       "<style scoped>\n",
       "    .dataframe tbody tr th:only-of-type {\n",
       "        vertical-align: middle;\n",
       "    }\n",
       "\n",
       "    .dataframe tbody tr th {\n",
       "        vertical-align: top;\n",
       "    }\n",
       "\n",
       "    .dataframe thead th {\n",
       "        text-align: right;\n",
       "    }\n",
       "</style>\n",
       "<table border=\"1\" class=\"dataframe\">\n",
       "  <thead>\n",
       "    <tr style=\"text-align: right;\">\n",
       "      <th></th>\n",
       "      <th>Zona</th>\n",
       "      <th>Categoria Área</th>\n",
       "      <th>Tipo Do Local</th>\n",
       "      <th>Área</th>\n",
       "      <th>Descrição Do Local</th>\n",
       "      <th>Local</th>\n",
       "    </tr>\n",
       "  </thead>\n",
       "  <tbody>\n",
       "    <tr>\n",
       "      <th>0</th>\n",
       "      <td>Urbana</td>\n",
       "      <td>Bairro</td>\n",
       "      <td>NaN</td>\n",
       "      <td>RESIDENCIAL BOA VISTA</td>\n",
       "      <td>RUA HUDSON H CARVALHO, 867</td>\n",
       "      <td>NaN</td>\n",
       "    </tr>\n",
       "    <tr>\n",
       "      <th>1</th>\n",
       "      <td>Urbana</td>\n",
       "      <td>Bairro</td>\n",
       "      <td>NaN</td>\n",
       "      <td>PARQUE RESIDENCIAL JAGUARI</td>\n",
       "      <td>RUA LAMARTINE BABO, 96</td>\n",
       "      <td>NaN</td>\n",
       "    </tr>\n",
       "    <tr>\n",
       "      <th>2</th>\n",
       "      <td>Urbana</td>\n",
       "      <td>Bairro</td>\n",
       "      <td>NaN</td>\n",
       "      <td>JARDIM IPIRANGA</td>\n",
       "      <td>NaN</td>\n",
       "      <td>NaN</td>\n",
       "    </tr>\n",
       "    <tr>\n",
       "      <th>3</th>\n",
       "      <td>Urbana</td>\n",
       "      <td>Bairro</td>\n",
       "      <td>NaN</td>\n",
       "      <td>ANTONIO ZANAGA</td>\n",
       "      <td>RUA BENEDITO CALIXTO, 563</td>\n",
       "      <td>NaN</td>\n",
       "    </tr>\n",
       "    <tr>\n",
       "      <th>4</th>\n",
       "      <td>Urbana</td>\n",
       "      <td>Bairro</td>\n",
       "      <td>NaN</td>\n",
       "      <td>VILA DAINESE</td>\n",
       "      <td>RUA JAGUARÃO 210</td>\n",
       "      <td>NaN</td>\n",
       "    </tr>\n",
       "    <tr>\n",
       "      <th>...</th>\n",
       "      <td>...</td>\n",
       "      <td>...</td>\n",
       "      <td>...</td>\n",
       "      <td>...</td>\n",
       "      <td>...</td>\n",
       "      <td>...</td>\n",
       "    </tr>\n",
       "    <tr>\n",
       "      <th>5292</th>\n",
       "      <td>Urbana</td>\n",
       "      <td>Bairro</td>\n",
       "      <td>NaN</td>\n",
       "      <td>LOTEAMENTO INDUSTRIAL NOSSA SENHORA DE FATIMA</td>\n",
       "      <td>AV NOSSA SENHORA DE FATIMA 8297</td>\n",
       "      <td>NaN</td>\n",
       "    </tr>\n",
       "    <tr>\n",
       "      <th>5357</th>\n",
       "      <td>Urbana</td>\n",
       "      <td>Bairro</td>\n",
       "      <td>NaN</td>\n",
       "      <td>CIDADE JARDIM II</td>\n",
       "      <td>RUA DAS DALIAS 145</td>\n",
       "      <td>NaN</td>\n",
       "    </tr>\n",
       "    <tr>\n",
       "      <th>5436</th>\n",
       "      <td>Urbana</td>\n",
       "      <td>Bairro</td>\n",
       "      <td>NaN</td>\n",
       "      <td>VILA CORDENONSI</td>\n",
       "      <td>RUA PROF MIGUEL COUTO 07</td>\n",
       "      <td>NaN</td>\n",
       "    </tr>\n",
       "    <tr>\n",
       "      <th>6302</th>\n",
       "      <td>Urbana</td>\n",
       "      <td>Bairro</td>\n",
       "      <td>NaN</td>\n",
       "      <td>CIDADE JARDIM I</td>\n",
       "      <td>RUA DAS DALIAS 145</td>\n",
       "      <td>NaN</td>\n",
       "    </tr>\n",
       "    <tr>\n",
       "      <th>6303</th>\n",
       "      <td>Urbana</td>\n",
       "      <td>Bairro</td>\n",
       "      <td>NaN</td>\n",
       "      <td>JARDIM SAO PAULO</td>\n",
       "      <td>RUA DOS CRAVOS 1702</td>\n",
       "      <td>NaN</td>\n",
       "    </tr>\n",
       "  </tbody>\n",
       "</table>\n",
       "<p>762 rows × 6 columns</p>\n",
       "</div>"
      ],
      "text/plain": [
       "        Zona Categoria Área Tipo Do Local  \\\n",
       "0     Urbana         Bairro           NaN   \n",
       "1     Urbana         Bairro           NaN   \n",
       "2     Urbana         Bairro           NaN   \n",
       "3     Urbana         Bairro           NaN   \n",
       "4     Urbana         Bairro           NaN   \n",
       "...      ...            ...           ...   \n",
       "5292  Urbana         Bairro           NaN   \n",
       "5357  Urbana         Bairro           NaN   \n",
       "5436  Urbana         Bairro           NaN   \n",
       "6302  Urbana         Bairro           NaN   \n",
       "6303  Urbana         Bairro           NaN   \n",
       "\n",
       "                                               Área  \\\n",
       "0                             RESIDENCIAL BOA VISTA   \n",
       "1                        PARQUE RESIDENCIAL JAGUARI   \n",
       "2                                   JARDIM IPIRANGA   \n",
       "3                                    ANTONIO ZANAGA   \n",
       "4                                      VILA DAINESE   \n",
       "...                                             ...   \n",
       "5292  LOTEAMENTO INDUSTRIAL NOSSA SENHORA DE FATIMA   \n",
       "5357                               CIDADE JARDIM II   \n",
       "5436                                VILA CORDENONSI   \n",
       "6302                                CIDADE JARDIM I   \n",
       "6303                               JARDIM SAO PAULO   \n",
       "\n",
       "                   Descrição Do Local Local  \n",
       "0          RUA HUDSON H CARVALHO, 867   NaN  \n",
       "1              RUA LAMARTINE BABO, 96   NaN  \n",
       "2                                 NaN   NaN  \n",
       "3           RUA BENEDITO CALIXTO, 563   NaN  \n",
       "4                    RUA JAGUARÃO 210   NaN  \n",
       "...                               ...   ...  \n",
       "5292  AV NOSSA SENHORA DE FATIMA 8297   NaN  \n",
       "5357               RUA DAS DALIAS 145   NaN  \n",
       "5436         RUA PROF MIGUEL COUTO 07   NaN  \n",
       "6302               RUA DAS DALIAS 145   NaN  \n",
       "6303              RUA DOS CRAVOS 1702   NaN  \n",
       "\n",
       "[762 rows x 6 columns]"
      ]
     },
     "execution_count": 422,
     "metadata": {},
     "output_type": "execute_result"
    }
   ],
   "source": [
    "list_cols = [    \n",
    "    'Zona',\n",
    "    'Categoria Área',\n",
    "    'Tipo Do Local',\n",
    "    'Área',\n",
    "    'Descrição Do Local',\n",
    "    'Local',\n",
    "]\n",
    "df[list_cols].drop_duplicates()"
   ]
  },
  {
   "cell_type": "code",
   "execution_count": 423,
   "id": "451784d0-f08c-4335-82b0-b94e18d86b2c",
   "metadata": {
    "tags": [
     "remove_cell"
    ]
   },
   "outputs": [
    {
     "data": {
      "text/html": [
       "<div>\n",
       "<style scoped>\n",
       "    .dataframe tbody tr th:only-of-type {\n",
       "        vertical-align: middle;\n",
       "    }\n",
       "\n",
       "    .dataframe tbody tr th {\n",
       "        vertical-align: top;\n",
       "    }\n",
       "\n",
       "    .dataframe thead th {\n",
       "        text-align: right;\n",
       "    }\n",
       "</style>\n",
       "<table border=\"1\" class=\"dataframe\">\n",
       "  <thead>\n",
       "    <tr style=\"text-align: right;\">\n",
       "      <th></th>\n",
       "      <th>Latitude</th>\n",
       "      <th>Longitude</th>\n",
       "    </tr>\n",
       "  </thead>\n",
       "  <tbody>\n",
       "    <tr>\n",
       "      <th>0</th>\n",
       "      <td>NaN</td>\n",
       "      <td>NaN</td>\n",
       "    </tr>\n",
       "  </tbody>\n",
       "</table>\n",
       "</div>"
      ],
      "text/plain": [
       "   Latitude  Longitude\n",
       "0       NaN        NaN"
      ]
     },
     "execution_count": 423,
     "metadata": {},
     "output_type": "execute_result"
    }
   ],
   "source": [
    "list_cols = [\n",
    "    'Latitude',\n",
    "    'Longitude'\n",
    "]\n",
    "df[list_cols].drop_duplicates()"
   ]
  },
  {
   "cell_type": "code",
   "execution_count": 424,
   "id": "9e83ec1b-13b2-4b54-a8c4-b79eac98f0fe",
   "metadata": {
    "tags": [
     "remove_cell"
    ]
   },
   "outputs": [
    {
     "data": {
      "text/plain": [
       "['Região Geográfica',\n",
       " 'Regional De Saúde',\n",
       " 'Município',\n",
       " 'Número Da Amostra',\n",
       " 'Motivo Da Coleta',\n",
       " 'Tipo Da Forma De Abastecimento',\n",
       " 'Código Forma De Abastecimento',\n",
       " 'Nome Da Forma De Abastecimento',\n",
       " 'Tipo Da Instituição',\n",
       " 'Sigla Da Instituição',\n",
       " 'Nome Da Instituição',\n",
       " 'Cnpj Da Instituição',\n",
       " 'Nome Do Escritório Regional/Local',\n",
       " 'Cnpj Do Escritório Regional/Local',\n",
       " 'Nome Da Eta/Uta',\n",
       " 'Ano',\n",
       " 'Mês',\n",
       " 'Data Da Coleta',\n",
       " 'Data Do Laudo',\n",
       " 'Data De Registro No Sisagua',\n",
       " 'Procedência Da Coleta',\n",
       " 'Ponto De Coleta',\n",
       " 'Descrição Do Local',\n",
       " 'Zona',\n",
       " 'Categoria Área',\n",
       " 'Área',\n",
       " 'Tipo Do Local',\n",
       " 'Local',\n",
       " 'Latitude',\n",
       " 'Longitude',\n",
       " 'Parâmetro (Parâmetros Básicos)',\n",
       " 'Análise Realizada',\n",
       " 'Resultado',\n",
       " 'Providência',\n",
       " 'Uf',\n",
       " 'Código Ibge']"
      ]
     },
     "execution_count": 424,
     "metadata": {},
     "output_type": "execute_result"
    }
   ],
   "source": [
    "list(df.columns)"
   ]
  },
  {
   "cell_type": "code",
   "execution_count": 425,
   "id": "20367883-d001-4e97-8f2b-ef86010a6354",
   "metadata": {
    "tags": [
     "remove_cell"
    ]
   },
   "outputs": [
    {
     "data": {
      "text/html": [
       "<div>\n",
       "<style scoped>\n",
       "    .dataframe tbody tr th:only-of-type {\n",
       "        vertical-align: middle;\n",
       "    }\n",
       "\n",
       "    .dataframe tbody tr th {\n",
       "        vertical-align: top;\n",
       "    }\n",
       "\n",
       "    .dataframe thead th {\n",
       "        text-align: right;\n",
       "    }\n",
       "</style>\n",
       "<table border=\"1\" class=\"dataframe\">\n",
       "  <thead>\n",
       "    <tr style=\"text-align: right;\">\n",
       "      <th></th>\n",
       "      <th>Número Da Amostra</th>\n",
       "      <th>Motivo Da Coleta</th>\n",
       "      <th>Parâmetro (Parâmetros Básicos)</th>\n",
       "      <th>Análise Realizada</th>\n",
       "      <th>Resultado</th>\n",
       "      <th>Providência</th>\n",
       "    </tr>\n",
       "  </thead>\n",
       "  <tbody>\n",
       "    <tr>\n",
       "      <th>0</th>\n",
       "      <td>2308/15</td>\n",
       "      <td>Rotina</td>\n",
       "      <td>Turbidez (uT)</td>\n",
       "      <td>EM_LABORATORIO</td>\n",
       "      <td>0,80</td>\n",
       "      <td>NaN</td>\n",
       "    </tr>\n",
       "    <tr>\n",
       "      <th>1</th>\n",
       "      <td>1952/15</td>\n",
       "      <td>Rotina</td>\n",
       "      <td>Cloro residual livre (mg/L)</td>\n",
       "      <td>EM_CAMPO</td>\n",
       "      <td>5,40</td>\n",
       "      <td>SOLICITADO A RECOLETA AO DEPARTAMENTO DE ÁGUA ...</td>\n",
       "    </tr>\n",
       "    <tr>\n",
       "      <th>2</th>\n",
       "      <td>10111507</td>\n",
       "      <td>Rotina</td>\n",
       "      <td>Cloro residual livre (mg/L)</td>\n",
       "      <td>EM_CAMPO</td>\n",
       "      <td>1,5</td>\n",
       "      <td>NaN</td>\n",
       "    </tr>\n",
       "    <tr>\n",
       "      <th>3</th>\n",
       "      <td>0865/15</td>\n",
       "      <td>Rotina</td>\n",
       "      <td>Fluoreto (mg/L)</td>\n",
       "      <td>NaN</td>\n",
       "      <td>0,60</td>\n",
       "      <td>NaN</td>\n",
       "    </tr>\n",
       "    <tr>\n",
       "      <th>4</th>\n",
       "      <td>2991505</td>\n",
       "      <td>Rotina</td>\n",
       "      <td>Cloro residual livre (mg/L)</td>\n",
       "      <td>EM_CAMPO</td>\n",
       "      <td>1,5</td>\n",
       "      <td>NaN</td>\n",
       "    </tr>\n",
       "    <tr>\n",
       "      <th>...</th>\n",
       "      <td>...</td>\n",
       "      <td>...</td>\n",
       "      <td>...</td>\n",
       "      <td>...</td>\n",
       "      <td>...</td>\n",
       "      <td>...</td>\n",
       "    </tr>\n",
       "    <tr>\n",
       "      <th>6332</th>\n",
       "      <td>221741000005</td>\n",
       "      <td>Rotina</td>\n",
       "      <td>Coliformes totais</td>\n",
       "      <td>NaN</td>\n",
       "      <td>AUSENTE</td>\n",
       "      <td>NaN</td>\n",
       "    </tr>\n",
       "    <tr>\n",
       "      <th>6333</th>\n",
       "      <td>221741000007</td>\n",
       "      <td>Rotina</td>\n",
       "      <td>Escherichia coli</td>\n",
       "      <td>NaN</td>\n",
       "      <td>AUSENTE</td>\n",
       "      <td>NaN</td>\n",
       "    </tr>\n",
       "    <tr>\n",
       "      <th>6336</th>\n",
       "      <td>221741000006</td>\n",
       "      <td>Rotina</td>\n",
       "      <td>Coliformes totais</td>\n",
       "      <td>NaN</td>\n",
       "      <td>AUSENTE</td>\n",
       "      <td>NaN</td>\n",
       "    </tr>\n",
       "    <tr>\n",
       "      <th>6337</th>\n",
       "      <td>221741000006</td>\n",
       "      <td>Rotina</td>\n",
       "      <td>Escherichia coli</td>\n",
       "      <td>NaN</td>\n",
       "      <td>AUSENTE</td>\n",
       "      <td>NaN</td>\n",
       "    </tr>\n",
       "    <tr>\n",
       "      <th>6342</th>\n",
       "      <td>221741000007</td>\n",
       "      <td>Rotina</td>\n",
       "      <td>Coliformes totais</td>\n",
       "      <td>NaN</td>\n",
       "      <td>AUSENTE</td>\n",
       "      <td>NaN</td>\n",
       "    </tr>\n",
       "  </tbody>\n",
       "</table>\n",
       "<p>4133 rows × 6 columns</p>\n",
       "</div>"
      ],
      "text/plain": [
       "     Número Da Amostra Motivo Da Coleta Parâmetro (Parâmetros Básicos)  \\\n",
       "0              2308/15           Rotina                  Turbidez (uT)   \n",
       "1              1952/15           Rotina    Cloro residual livre (mg/L)   \n",
       "2             10111507           Rotina    Cloro residual livre (mg/L)   \n",
       "3              0865/15           Rotina                Fluoreto (mg/L)   \n",
       "4              2991505           Rotina    Cloro residual livre (mg/L)   \n",
       "...                ...              ...                            ...   \n",
       "6332      221741000005           Rotina              Coliformes totais   \n",
       "6333      221741000007           Rotina               Escherichia coli   \n",
       "6336      221741000006           Rotina              Coliformes totais   \n",
       "6337      221741000006           Rotina               Escherichia coli   \n",
       "6342      221741000007           Rotina              Coliformes totais   \n",
       "\n",
       "     Análise Realizada Resultado  \\\n",
       "0       EM_LABORATORIO      0,80   \n",
       "1             EM_CAMPO      5,40   \n",
       "2             EM_CAMPO       1,5   \n",
       "3                  NaN      0,60   \n",
       "4             EM_CAMPO       1,5   \n",
       "...                ...       ...   \n",
       "6332               NaN   AUSENTE   \n",
       "6333               NaN   AUSENTE   \n",
       "6336               NaN   AUSENTE   \n",
       "6337               NaN   AUSENTE   \n",
       "6342               NaN   AUSENTE   \n",
       "\n",
       "                                            Providência  \n",
       "0                                                   NaN  \n",
       "1     SOLICITADO A RECOLETA AO DEPARTAMENTO DE ÁGUA ...  \n",
       "2                                                   NaN  \n",
       "3                                                   NaN  \n",
       "4                                                   NaN  \n",
       "...                                                 ...  \n",
       "6332                                                NaN  \n",
       "6333                                                NaN  \n",
       "6336                                                NaN  \n",
       "6337                                                NaN  \n",
       "6342                                                NaN  \n",
       "\n",
       "[4133 rows x 6 columns]"
      ]
     },
     "execution_count": 425,
     "metadata": {},
     "output_type": "execute_result"
    }
   ],
   "source": [
    "list_cols = [\n",
    "    'Número Da Amostra',\n",
    "    'Motivo Da Coleta',    \n",
    "    'Parâmetro (Parâmetros Básicos)',\n",
    "    'Análise Realizada',\n",
    "    'Resultado',\n",
    "    'Providência',\n",
    "]\n",
    "df[list_cols].drop_duplicates()"
   ]
  },
  {
   "cell_type": "code",
   "execution_count": 426,
   "id": "e482aed8-dda1-4da3-9b66-3a6d984c002c",
   "metadata": {
    "tags": [
     "remove_cell"
    ]
   },
   "outputs": [
    {
     "data": {
      "text/plain": [
       "{'EM_CAMPO', 'EM_LABORATORIO', nan}"
      ]
     },
     "execution_count": 426,
     "metadata": {},
     "output_type": "execute_result"
    }
   ],
   "source": [
    "set(df['Análise Realizada'])"
   ]
  },
  {
   "cell_type": "code",
   "execution_count": 427,
   "id": "f107917f-3801-475b-b26b-7628da042beb",
   "metadata": {
    "tags": [
     "remove_cell"
    ]
   },
   "outputs": [
    {
     "data": {
      "text/plain": [
       "{'Cloro residual livre (mg/L)',\n",
       " 'Coliformes totais',\n",
       " 'Cor (uH)',\n",
       " 'Escherichia coli',\n",
       " 'Fluoreto (mg/L)',\n",
       " 'Turbidez (uT)',\n",
       " 'pH'}"
      ]
     },
     "execution_count": 427,
     "metadata": {},
     "output_type": "execute_result"
    }
   ],
   "source": [
    "set(df['Parâmetro (Parâmetros Básicos)'])"
   ]
  },
  {
   "cell_type": "markdown",
   "id": "5f520081-dfa3-4941-a5b5-087159a8f3a5",
   "metadata": {},
   "source": [
    "<br>\n",
    "\n",
    "## Seleciona Parâmetros"
   ]
  },
  {
   "cell_type": "code",
   "execution_count": 428,
   "id": "d0beadfd-e406-4547-93a6-8e93859798f7",
   "metadata": {},
   "outputs": [],
   "source": [
    "dict_par = {\n",
    "    'Cloro residual livre (mg/L)': 2,\n",
    "    'Coliformes totais': 2,\n",
    "    'Cor (uH)': 2,\n",
    "    'Escherichia coli': 2,\n",
    "    'Fluoreto (mg/L)': 2,\n",
    "    'Turbidez (uT)': 2,\n",
    "    'pH': 2\n",
    "}"
   ]
  },
  {
   "cell_type": "code",
   "execution_count": 429,
   "id": "d6cd6111-0a5a-41a5-a786-7b29e88240a8",
   "metadata": {
    "tags": [
     "remove_cell"
    ]
   },
   "outputs": [
    {
     "data": {
      "text/plain": [
       "{'Cloro residual livre (mg/L)',\n",
       " 'Coliformes totais',\n",
       " 'Cor (uH)',\n",
       " 'Escherichia coli',\n",
       " 'Fluoreto (mg/L)',\n",
       " 'Turbidez (uT)',\n",
       " 'pH'}"
      ]
     },
     "execution_count": 429,
     "metadata": {},
     "output_type": "execute_result"
    }
   ],
   "source": [
    "set(df['Parâmetro (Parâmetros Básicos)'])"
   ]
  },
  {
   "cell_type": "code",
   "execution_count": 430,
   "id": "77667d51-ffa2-4298-abcb-f6752551012b",
   "metadata": {
    "tags": [
     "remove_cell"
    ]
   },
   "outputs": [],
   "source": [
    "#df.dtypes"
   ]
  },
  {
   "cell_type": "code",
   "execution_count": 431,
   "id": "f666f4e4-f129-46e8-979b-838768376e85",
   "metadata": {
    "tags": [
     "remove_cell"
    ]
   },
   "outputs": [],
   "source": [
    "#list(df.columns)"
   ]
  },
  {
   "cell_type": "markdown",
   "id": "571544e6-0c51-4ea2-8ffa-98fa6d7c00ba",
   "metadata": {},
   "source": [
    "<br>\n",
    "\n",
    "# Plotly"
   ]
  },
  {
   "cell_type": "code",
   "execution_count": 432,
   "id": "0228379a-5c18-4e46-bca4-e278fe148d5d",
   "metadata": {},
   "outputs": [
    {
     "name": "stdout",
     "output_type": "stream",
     "text": [
      "['ETA', 'DEPARTAMENTO DE AGUA E ESGOTO']\n"
     ]
    }
   ],
   "source": [
    "print(list(set(df['Nome Da Forma De Abastecimento'])))\n",
    "n_forma = 1"
   ]
  },
  {
   "cell_type": "markdown",
   "id": "bbe62548-6ded-44a8-a6a6-120ebe54cc35",
   "metadata": {},
   "source": [
    "<br>\n",
    "\n",
    "## Cloro\n",
    "\n",
    "- Art. 32 É obrigatória a manutenção de, no mínimo, 0,2 mg/L de cloro residual livre ou 2 mg/L de cloro residual combinado ou de 0,2 mg/L de dióxido de cloro em toda a extensão do sistema de distribuição (reservatório e rede) e nos pontos de consumo."
   ]
  },
  {
   "cell_type": "code",
   "execution_count": 433,
   "id": "4fc7d3ac-7a80-442d-9f0f-fcd32ab291ac",
   "metadata": {},
   "outputs": [
    {
     "name": "stdout",
     "output_type": "stream",
     "text": [
      "['Cloro residual livre (mg/L)']\n"
     ]
    },
    {
     "data": {
      "text/html": [
       "<div>\n",
       "<style scoped>\n",
       "    .dataframe tbody tr th:only-of-type {\n",
       "        vertical-align: middle;\n",
       "    }\n",
       "\n",
       "    .dataframe tbody tr th {\n",
       "        vertical-align: top;\n",
       "    }\n",
       "\n",
       "    .dataframe thead th {\n",
       "        text-align: right;\n",
       "    }\n",
       "</style>\n",
       "<table border=\"1\" class=\"dataframe\">\n",
       "  <thead>\n",
       "    <tr style=\"text-align: right;\">\n",
       "      <th></th>\n",
       "      <th>Região Geográfica</th>\n",
       "      <th>Regional De Saúde</th>\n",
       "      <th>Município</th>\n",
       "      <th>Número Da Amostra</th>\n",
       "      <th>Motivo Da Coleta</th>\n",
       "      <th>Tipo Da Forma De Abastecimento</th>\n",
       "      <th>Código Forma De Abastecimento</th>\n",
       "      <th>Nome Da Forma De Abastecimento</th>\n",
       "      <th>Tipo Da Instituição</th>\n",
       "      <th>Sigla Da Instituição</th>\n",
       "      <th>...</th>\n",
       "      <th>Tipo Do Local</th>\n",
       "      <th>Local</th>\n",
       "      <th>Latitude</th>\n",
       "      <th>Longitude</th>\n",
       "      <th>Parâmetro (Parâmetros Básicos)</th>\n",
       "      <th>Análise Realizada</th>\n",
       "      <th>Resultado</th>\n",
       "      <th>Providência</th>\n",
       "      <th>Uf</th>\n",
       "      <th>Código Ibge</th>\n",
       "    </tr>\n",
       "  </thead>\n",
       "  <tbody>\n",
       "    <tr>\n",
       "      <th>1</th>\n",
       "      <td>SUDESTE</td>\n",
       "      <td>GVS XVII - CAMPINAS</td>\n",
       "      <td>AMERICANA</td>\n",
       "      <td>1952/15</td>\n",
       "      <td>Rotina</td>\n",
       "      <td>SAA</td>\n",
       "      <td>S350160000001</td>\n",
       "      <td>ETA</td>\n",
       "      <td>Serviço Municipal e outros</td>\n",
       "      <td>NaN</td>\n",
       "      <td>...</td>\n",
       "      <td>NaN</td>\n",
       "      <td>NaN</td>\n",
       "      <td>NaN</td>\n",
       "      <td>NaN</td>\n",
       "      <td>Cloro residual livre (mg/L)</td>\n",
       "      <td>EM_CAMPO</td>\n",
       "      <td>5.4</td>\n",
       "      <td>SOLICITADO A RECOLETA AO DEPARTAMENTO DE ÁGUA ...</td>\n",
       "      <td>SP</td>\n",
       "      <td>350160</td>\n",
       "    </tr>\n",
       "    <tr>\n",
       "      <th>2</th>\n",
       "      <td>SUDESTE</td>\n",
       "      <td>GVS XVII - CAMPINAS</td>\n",
       "      <td>AMERICANA</td>\n",
       "      <td>10111507</td>\n",
       "      <td>Rotina</td>\n",
       "      <td>SAA</td>\n",
       "      <td>S350160000002</td>\n",
       "      <td>DEPARTAMENTO DE AGUA E ESGOTO</td>\n",
       "      <td>Serviço Municipal e outros</td>\n",
       "      <td>NaN</td>\n",
       "      <td>...</td>\n",
       "      <td>NaN</td>\n",
       "      <td>NaN</td>\n",
       "      <td>NaN</td>\n",
       "      <td>NaN</td>\n",
       "      <td>Cloro residual livre (mg/L)</td>\n",
       "      <td>EM_CAMPO</td>\n",
       "      <td>1.5</td>\n",
       "      <td>NaN</td>\n",
       "      <td>SP</td>\n",
       "      <td>350160</td>\n",
       "    </tr>\n",
       "    <tr>\n",
       "      <th>4</th>\n",
       "      <td>SUDESTE</td>\n",
       "      <td>GVS XVII - CAMPINAS</td>\n",
       "      <td>AMERICANA</td>\n",
       "      <td>2991505</td>\n",
       "      <td>Rotina</td>\n",
       "      <td>SAA</td>\n",
       "      <td>S350160000002</td>\n",
       "      <td>DEPARTAMENTO DE AGUA E ESGOTO</td>\n",
       "      <td>Serviço Municipal e outros</td>\n",
       "      <td>NaN</td>\n",
       "      <td>...</td>\n",
       "      <td>NaN</td>\n",
       "      <td>NaN</td>\n",
       "      <td>NaN</td>\n",
       "      <td>NaN</td>\n",
       "      <td>Cloro residual livre (mg/L)</td>\n",
       "      <td>EM_CAMPO</td>\n",
       "      <td>1.5</td>\n",
       "      <td>NaN</td>\n",
       "      <td>SP</td>\n",
       "      <td>350160</td>\n",
       "    </tr>\n",
       "    <tr>\n",
       "      <th>7</th>\n",
       "      <td>SUDESTE</td>\n",
       "      <td>GVS XVII - CAMPINAS</td>\n",
       "      <td>AMERICANA</td>\n",
       "      <td>13101508</td>\n",
       "      <td>Rotina</td>\n",
       "      <td>SAA</td>\n",
       "      <td>S350160000002</td>\n",
       "      <td>DEPARTAMENTO DE AGUA E ESGOTO</td>\n",
       "      <td>Serviço Municipal e outros</td>\n",
       "      <td>NaN</td>\n",
       "      <td>...</td>\n",
       "      <td>NaN</td>\n",
       "      <td>NaN</td>\n",
       "      <td>NaN</td>\n",
       "      <td>NaN</td>\n",
       "      <td>Cloro residual livre (mg/L)</td>\n",
       "      <td>EM_CAMPO</td>\n",
       "      <td>2.7</td>\n",
       "      <td>NaN</td>\n",
       "      <td>SP</td>\n",
       "      <td>350160</td>\n",
       "    </tr>\n",
       "    <tr>\n",
       "      <th>8</th>\n",
       "      <td>SUDESTE</td>\n",
       "      <td>GVS XVII - CAMPINAS</td>\n",
       "      <td>AMERICANA</td>\n",
       "      <td>1727/15</td>\n",
       "      <td>Rotina</td>\n",
       "      <td>SAA</td>\n",
       "      <td>S350160000001</td>\n",
       "      <td>ETA</td>\n",
       "      <td>Serviço Municipal e outros</td>\n",
       "      <td>NaN</td>\n",
       "      <td>...</td>\n",
       "      <td>NaN</td>\n",
       "      <td>NaN</td>\n",
       "      <td>NaN</td>\n",
       "      <td>NaN</td>\n",
       "      <td>Cloro residual livre (mg/L)</td>\n",
       "      <td>EM_CAMPO</td>\n",
       "      <td>5.0</td>\n",
       "      <td>NaN</td>\n",
       "      <td>SP</td>\n",
       "      <td>350160</td>\n",
       "    </tr>\n",
       "  </tbody>\n",
       "</table>\n",
       "<p>5 rows × 36 columns</p>\n",
       "</div>"
      ],
      "text/plain": [
       "  Região Geográfica    Regional De Saúde  Município Número Da Amostra  \\\n",
       "1           SUDESTE  GVS XVII - CAMPINAS  AMERICANA           1952/15   \n",
       "2           SUDESTE  GVS XVII - CAMPINAS  AMERICANA          10111507   \n",
       "4           SUDESTE  GVS XVII - CAMPINAS  AMERICANA           2991505   \n",
       "7           SUDESTE  GVS XVII - CAMPINAS  AMERICANA          13101508   \n",
       "8           SUDESTE  GVS XVII - CAMPINAS  AMERICANA           1727/15   \n",
       "\n",
       "  Motivo Da Coleta Tipo Da Forma De Abastecimento  \\\n",
       "1           Rotina                            SAA   \n",
       "2           Rotina                            SAA   \n",
       "4           Rotina                            SAA   \n",
       "7           Rotina                            SAA   \n",
       "8           Rotina                            SAA   \n",
       "\n",
       "  Código Forma De Abastecimento Nome Da Forma De Abastecimento  \\\n",
       "1                 S350160000001                            ETA   \n",
       "2                 S350160000002  DEPARTAMENTO DE AGUA E ESGOTO   \n",
       "4                 S350160000002  DEPARTAMENTO DE AGUA E ESGOTO   \n",
       "7                 S350160000002  DEPARTAMENTO DE AGUA E ESGOTO   \n",
       "8                 S350160000001                            ETA   \n",
       "\n",
       "          Tipo Da Instituição  Sigla Da Instituição  ... Tipo Do Local  Local  \\\n",
       "1  Serviço Municipal e outros                   NaN  ...           NaN    NaN   \n",
       "2  Serviço Municipal e outros                   NaN  ...           NaN    NaN   \n",
       "4  Serviço Municipal e outros                   NaN  ...           NaN    NaN   \n",
       "7  Serviço Municipal e outros                   NaN  ...           NaN    NaN   \n",
       "8  Serviço Municipal e outros                   NaN  ...           NaN    NaN   \n",
       "\n",
       "   Latitude  Longitude  Parâmetro (Parâmetros Básicos)  Análise Realizada  \\\n",
       "1       NaN        NaN     Cloro residual livre (mg/L)           EM_CAMPO   \n",
       "2       NaN        NaN     Cloro residual livre (mg/L)           EM_CAMPO   \n",
       "4       NaN        NaN     Cloro residual livre (mg/L)           EM_CAMPO   \n",
       "7       NaN        NaN     Cloro residual livre (mg/L)           EM_CAMPO   \n",
       "8       NaN        NaN     Cloro residual livre (mg/L)           EM_CAMPO   \n",
       "\n",
       "   Resultado                                        Providência  Uf  \\\n",
       "1        5.4  SOLICITADO A RECOLETA AO DEPARTAMENTO DE ÁGUA ...  SP   \n",
       "2        1.5                                                NaN  SP   \n",
       "4        1.5                                                NaN  SP   \n",
       "7        2.7                                                NaN  SP   \n",
       "8        5.0                                                NaN  SP   \n",
       "\n",
       "  Código Ibge  \n",
       "1      350160  \n",
       "2      350160  \n",
       "4      350160  \n",
       "7      350160  \n",
       "8      350160  \n",
       "\n",
       "[5 rows x 36 columns]"
      ]
     },
     "execution_count": 433,
     "metadata": {},
     "output_type": "execute_result"
    }
   ],
   "source": [
    "# Select Parameters\n",
    "df_temp = df[df['Parâmetro (Parâmetros Básicos)'].str.contains('Cloro')].copy()\n",
    "print(list(set(df_temp['Parâmetro (Parâmetros Básicos)'])))\n",
    "\n",
    "# Ajusta Resultados\n",
    "df_temp['Resultado'] = df_temp['Resultado'].astype(str).str.replace(',','.')\n",
    "df_temp['Resultado'] = df_temp['Resultado'].astype(float).fillna(0.0)\n",
    "df_temp.head()"
   ]
  },
  {
   "cell_type": "code",
   "execution_count": 434,
   "id": "50b2b0b5-20b5-410b-af96-ca3bf61f370b",
   "metadata": {},
   "outputs": [
    {
     "name": "stdout",
     "output_type": "stream",
     "text": [
      "['ETA', 'DEPARTAMENTO DE AGUA E ESGOTO']\n",
      "DEPARTAMENTO DE AGUA E ESGOTO\n"
     ]
    },
    {
     "data": {
      "application/vnd.plotly.v1+json": {
       "config": {
        "plotlyServerURL": "https://plot.ly"
       },
       "data": [
        {
         "marker": {
          "color": "red"
         },
         "mode": "markers",
         "name": "conclusao",
         "opacity": 0.8,
         "type": "scatter",
         "x": [
          "2015-05-05T00:00:00",
          "2015-11-10T00:00:00",
          "2015-09-29T00:00:00",
          "2015-10-13T00:00:00",
          "2015-04-22T00:00:00",
          "2015-12-21T00:00:00",
          "2015-09-29T00:00:00",
          "2015-11-18T00:00:00",
          "2015-03-31T00:00:00",
          "2015-12-21T00:00:00",
          "2015-06-16T00:00:00",
          "2015-03-10T00:00:00",
          "2015-04-15T00:00:00",
          "2015-09-22T00:00:00",
          "2015-04-14T00:00:00",
          "2015-11-03T00:00:00",
          "2015-11-03T00:00:00",
          "2015-10-06T00:00:00",
          "2015-06-02T00:00:00",
          "2015-03-10T00:00:00",
          "2015-09-29T00:00:00",
          "2015-10-13T00:00:00",
          "2015-02-10T00:00:00",
          "2015-05-26T00:00:00",
          "2015-06-09T00:00:00",
          "2015-05-26T00:00:00",
          "2015-03-03T00:00:00",
          "2015-11-10T00:00:00",
          "2015-03-31T00:00:00",
          "2015-02-10T00:00:00",
          "2015-06-02T00:00:00",
          "2015-11-18T00:00:00",
          "2015-03-24T00:00:00",
          "2015-04-07T00:00:00",
          "2015-09-29T00:00:00",
          "2015-05-05T00:00:00",
          "2015-04-28T00:00:00",
          "2015-10-13T00:00:00",
          "2015-12-21T00:00:00",
          "2015-02-23T00:00:00",
          "2015-03-24T00:00:00",
          "2015-05-05T00:00:00",
          "2015-02-03T00:00:00",
          "2015-02-10T00:00:00",
          "2015-12-09T00:00:00",
          "2015-05-05T00:00:00",
          "2015-12-09T00:00:00",
          "2015-11-24T00:00:00",
          "2015-04-14T00:00:00",
          "2015-04-14T00:00:00",
          "2015-10-13T00:00:00",
          "2015-04-28T00:00:00",
          "2015-04-28T00:00:00",
          "2015-12-09T00:00:00",
          "2015-04-22T00:00:00",
          "2015-05-12T00:00:00",
          "2015-05-26T00:00:00",
          "2015-03-03T00:00:00",
          "2015-02-03T00:00:00",
          "2015-05-21T00:00:00",
          "2015-09-22T00:00:00",
          "2015-05-12T00:00:00",
          "2015-06-16T00:00:00",
          "2015-10-06T00:00:00",
          "2015-04-07T00:00:00",
          "2015-11-24T00:00:00",
          "2015-12-09T00:00:00",
          "2015-06-16T00:00:00",
          "2015-02-10T00:00:00",
          "2015-03-24T00:00:00",
          "2015-10-06T00:00:00",
          "2015-04-22T00:00:00",
          "2015-11-10T00:00:00",
          "2015-04-22T00:00:00",
          "2015-03-03T00:00:00",
          "2015-12-21T00:00:00",
          "2015-04-14T00:00:00",
          "2015-05-12T00:00:00",
          "2015-03-24T00:00:00",
          "2015-11-24T00:00:00",
          "2015-02-23T00:00:00",
          "2015-05-05T00:00:00",
          "2015-06-09T00:00:00",
          "2015-02-24T00:00:00",
          "2015-03-03T00:00:00",
          "2015-02-23T00:00:00",
          "2015-02-24T00:00:00",
          "2015-05-21T00:00:00",
          "2015-05-12T00:00:00",
          "2015-05-26T00:00:00",
          "2015-12-09T00:00:00",
          "2015-11-18T00:00:00",
          "2015-05-21T00:00:00",
          "2015-03-10T00:00:00",
          "2015-03-31T00:00:00",
          "2015-02-10T00:00:00",
          "2015-02-23T00:00:00",
          "2015-06-02T00:00:00",
          "2015-12-09T00:00:00",
          "2015-04-07T00:00:00",
          "2015-02-24T00:00:00",
          "2015-09-22T00:00:00",
          "2015-12-09T00:00:00",
          "2015-11-18T00:00:00",
          "2015-05-26T00:00:00",
          "2015-03-31T00:00:00",
          "2015-11-03T00:00:00",
          "2015-10-06T00:00:00",
          "2015-05-21T00:00:00",
          "2015-02-23T00:00:00",
          "2015-06-02T00:00:00",
          "2015-04-22T00:00:00",
          "2015-02-24T00:00:00",
          "2015-05-21T00:00:00",
          "2015-06-09T00:00:00",
          "2015-03-31T00:00:00",
          "2015-10-06T00:00:00",
          "2015-12-09T00:00:00",
          "2015-09-29T00:00:00",
          "2015-11-03T00:00:00",
          "2015-05-05T00:00:00",
          "2015-12-09T00:00:00",
          "2015-02-24T00:00:00",
          "2015-09-22T00:00:00",
          "2015-04-14T00:00:00",
          "2015-03-27T00:00:00",
          "2015-02-03T00:00:00",
          "2015-02-03T00:00:00",
          "2015-10-13T00:00:00",
          "2015-03-03T00:00:00",
          "2015-12-09T00:00:00",
          "2015-03-03T00:00:00",
          "2015-11-18T00:00:00",
          "2015-02-24T00:00:00",
          "2015-05-26T00:00:00",
          "2015-04-22T00:00:00",
          "2015-04-07T00:00:00",
          "2015-10-06T00:00:00",
          "2015-02-10T00:00:00",
          "2015-11-10T00:00:00",
          "2015-03-10T00:00:00",
          "2015-06-09T00:00:00",
          "2015-04-14T00:00:00",
          "2015-11-10T00:00:00",
          "2015-04-07T00:00:00",
          "2015-06-16T00:00:00",
          "2015-12-21T00:00:00",
          "2015-06-09T00:00:00",
          "2015-09-22T00:00:00",
          "2015-06-15T00:00:00",
          "2015-02-03T00:00:00",
          "2015-03-24T00:00:00",
          "2015-09-29T00:00:00",
          "2015-11-24T00:00:00",
          "2015-03-31T00:00:00",
          "2015-02-03T00:00:00",
          "2015-12-09T00:00:00",
          "2015-12-09T00:00:00",
          "2015-05-21T00:00:00",
          "2015-10-13T00:00:00",
          "2015-11-18T00:00:00",
          "2015-04-28T00:00:00",
          "2015-12-21T00:00:00",
          "2015-03-10T00:00:00",
          "2015-05-12T00:00:00",
          "2015-09-22T00:00:00",
          "2015-06-16T00:00:00",
          "2015-04-28T00:00:00",
          "2016-09-20T00:00:00",
          "2016-10-31T00:00:00",
          "2016-11-29T00:00:00",
          "2016-09-13T00:00:00",
          "2016-09-27T00:00:00",
          "2016-12-14T00:00:00",
          "2016-09-27T00:00:00",
          "2016-12-14T00:00:00",
          "2016-10-11T00:00:00",
          "2016-10-11T00:00:00",
          "2016-11-30T00:00:00",
          "2016-11-30T00:00:00",
          "2016-10-25T00:00:00",
          "2016-12-13T00:00:00",
          "2016-10-31T00:00:00",
          "2016-10-25T00:00:00",
          "2016-12-13T00:00:00",
          "2016-10-25T00:00:00",
          "2016-09-27T00:00:00",
          "2016-12-13T00:00:00",
          "2016-09-20T00:00:00",
          "2016-12-14T00:00:00",
          "2016-09-13T00:00:00",
          "2016-11-30T00:00:00",
          "2016-11-29T00:00:00",
          "2016-10-11T00:00:00",
          "2016-11-30T00:00:00",
          "2016-12-14T00:00:00",
          "2016-10-31T00:00:00",
          "2016-10-31T00:00:00",
          "2016-10-11T00:00:00",
          "2016-09-20T00:00:00",
          "2016-09-13T00:00:00",
          "2016-10-25T00:00:00",
          "2016-12-13T00:00:00",
          "2016-09-27T00:00:00",
          "2016-09-13T00:00:00",
          "2016-09-20T00:00:00",
          "2017-02-22T00:00:00",
          "2017-12-12T00:00:00",
          "2017-10-10T00:00:00",
          "2017-10-10T00:00:00",
          "2017-07-25T00:00:00",
          "2017-11-07T00:00:00",
          "2017-05-09T00:00:00",
          "2017-09-12T00:00:00",
          "2017-09-12T00:00:00",
          "2017-06-27T00:00:00",
          "2017-02-22T00:00:00",
          "2017-06-27T00:00:00",
          "2017-06-06T00:00:00",
          "2017-12-12T00:00:00",
          "2017-07-11T00:00:00",
          "2017-07-11T00:00:00",
          "2017-04-25T00:00:00",
          "2017-04-11T00:00:00",
          "2017-08-08T00:00:00",
          "2017-10-24T00:00:00",
          "2017-02-14T00:00:00",
          "2017-06-27T00:00:00",
          "2017-02-22T00:00:00",
          "2017-04-25T00:00:00",
          "2017-02-14T00:00:00",
          "2017-07-25T00:00:00",
          "2017-09-12T00:00:00",
          "2017-11-07T00:00:00",
          "2017-11-07T00:00:00",
          "2017-03-14T00:00:00",
          "2017-03-28T00:00:00",
          "2017-11-21T00:00:00",
          "2017-10-24T00:00:00",
          "2017-01-31T00:00:00",
          "2017-02-14T00:00:00",
          "2017-10-24T00:00:00",
          "2017-07-11T00:00:00",
          "2017-09-26T00:00:00",
          "2017-04-25T00:00:00",
          "2017-08-08T00:00:00",
          "2017-06-27T00:00:00",
          "2017-09-26T00:00:00",
          "2017-03-28T00:00:00",
          "2017-12-19T00:00:00",
          "2017-05-09T00:00:00",
          "2017-08-08T00:00:00",
          "2017-06-06T00:00:00",
          "2017-12-19T00:00:00",
          "2017-09-26T00:00:00",
          "2017-08-08T00:00:00",
          "2017-07-11T00:00:00",
          "2017-08-22T00:00:00",
          "2017-01-31T00:00:00",
          "2017-03-28T00:00:00",
          "2017-11-21T00:00:00",
          "2017-04-11T00:00:00",
          "2017-01-17T00:00:00",
          "2017-01-17T00:00:00",
          "2017-11-21T00:00:00",
          "2017-05-23T00:00:00",
          "2017-12-19T00:00:00",
          "2017-01-31T00:00:00",
          "2017-12-19T00:00:00",
          "2017-09-26T00:00:00",
          "2017-10-24T00:00:00",
          "2017-01-17T00:00:00",
          "2017-10-10T00:00:00",
          "2017-11-21T00:00:00",
          "2017-07-25T00:00:00",
          "2017-03-28T00:00:00",
          "2017-03-14T00:00:00",
          "2017-04-11T00:00:00",
          "2017-05-09T00:00:00",
          "2017-10-10T00:00:00",
          "2017-01-31T00:00:00",
          "2017-06-06T00:00:00",
          "2017-01-17T00:00:00",
          "2017-09-12T00:00:00",
          "2017-08-22T00:00:00",
          "2017-07-25T00:00:00",
          "2017-05-09T00:00:00",
          "2017-05-23T00:00:00",
          "2017-08-22T00:00:00",
          "2017-08-22T00:00:00",
          "2017-12-12T00:00:00",
          "2017-08-22T00:00:00",
          "2017-11-07T00:00:00",
          "2017-05-23T00:00:00",
          "2017-10-24T00:00:00",
          "2017-04-25T00:00:00",
          "2017-04-11T00:00:00",
          "2017-03-14T00:00:00",
          "2017-03-14T00:00:00",
          "2017-10-24T00:00:00",
          "2017-02-14T00:00:00",
          "2017-11-21T00:00:00",
          "2017-02-22T00:00:00",
          "2017-12-12T00:00:00",
          "2017-12-19T00:00:00",
          "2017-06-06T00:00:00",
          "2017-09-26T00:00:00",
          "2017-05-23T00:00:00",
          "2018-04-24T00:00:00",
          "2018-02-20T00:00:00",
          "2018-09-25T00:00:00",
          "2018-08-28T00:00:00",
          "2018-03-27T00:00:00",
          "2018-07-24T00:00:00",
          "2018-04-24T00:00:00",
          "2018-03-27T00:00:00",
          "2018-06-12T00:00:00",
          "2018-12-11T00:00:00",
          "2018-03-06T00:00:00",
          "2018-08-14T00:00:00",
          "2018-03-06T00:00:00",
          "2018-08-14T00:00:00",
          "2018-07-24T00:00:00",
          "2018-11-13T00:00:00",
          "2018-01-16T00:00:00",
          "2018-04-24T00:00:00",
          "2018-06-26T00:00:00",
          "2018-11-27T00:00:00",
          "2018-02-27T00:00:00",
          "2018-07-10T00:00:00",
          "2018-02-27T00:00:00",
          "2018-03-27T00:00:00",
          "2018-07-10T00:00:00",
          "2018-08-28T00:00:00",
          "2018-10-23T00:00:00",
          "2018-07-10T00:00:00",
          "2018-04-10T00:00:00",
          "2018-11-13T00:00:00",
          "2018-08-28T00:00:00",
          "2018-08-14T00:00:00",
          "2018-09-11T00:00:00",
          "2018-09-25T00:00:00",
          "2018-03-27T00:00:00",
          "2018-12-06T00:00:00",
          "2018-01-16T00:00:00",
          "2018-07-10T00:00:00",
          "2018-09-11T00:00:00",
          "2018-09-11T00:00:00",
          "2018-05-15T00:00:00",
          "2018-08-28T00:00:00",
          "2018-10-23T00:00:00",
          "2018-03-06T00:00:00",
          "2018-02-20T00:00:00",
          "2018-12-11T00:00:00",
          "2018-03-06T00:00:00",
          "2018-01-16T00:00:00",
          "2018-09-25T00:00:00",
          "2018-11-27T00:00:00",
          "2018-05-15T00:00:00",
          "2018-04-24T00:00:00",
          "2018-03-27T00:00:00",
          "2018-11-27T00:00:00",
          "2018-10-23T00:00:00",
          "2018-03-20T00:00:00",
          "2018-03-06T00:00:00",
          "2018-07-10T00:00:00",
          "2018-12-11T00:00:00",
          "2018-04-10T00:00:00",
          "2018-12-11T00:00:00",
          "2018-10-09T00:00:00",
          "2018-12-06T00:00:00",
          "2018-01-16T00:00:00",
          "2018-11-27T00:00:00",
          "2018-05-15T00:00:00",
          "2018-04-10T00:00:00",
          "2018-03-06T00:00:00",
          "2018-06-12T00:00:00",
          "2018-10-23T00:00:00",
          "2018-02-27T00:00:00",
          "2018-11-13T00:00:00",
          "2018-07-24T00:00:00",
          "2018-08-14T00:00:00",
          "2018-06-26T00:00:00",
          "2018-12-06T00:00:00",
          "2018-10-09T00:00:00",
          "2018-11-27T00:00:00",
          "2018-07-24T00:00:00",
          "2018-02-20T00:00:00",
          "2018-03-20T00:00:00",
          "2018-06-12T00:00:00",
          "2018-10-23T00:00:00",
          "2018-05-15T00:00:00",
          "2018-07-24T00:00:00",
          "2018-06-26T00:00:00",
          "2018-04-24T00:00:00",
          "2018-10-09T00:00:00",
          "2018-02-27T00:00:00",
          "2018-03-20T00:00:00",
          "2018-11-13T00:00:00",
          "2018-09-11T00:00:00",
          "2018-10-09T00:00:00",
          "2018-06-12T00:00:00",
          "2018-02-27T00:00:00",
          "2018-12-06T00:00:00",
          "2018-09-25T00:00:00",
          "2018-04-10T00:00:00",
          "2018-12-06T00:00:00",
          "2018-08-28T00:00:00",
          "2018-03-20T00:00:00",
          "2018-02-20T00:00:00",
          "2018-08-14T00:00:00",
          "2019-03-12T00:00:00",
          "2019-03-12T00:00:00",
          "2019-02-12T00:00:00",
          "2019-04-09T00:00:00",
          "2019-10-08T00:00:00",
          "2019-02-12T00:00:00",
          "2019-09-24T00:00:00",
          "2019-10-15T00:00:00",
          "2019-06-25T00:00:00",
          "2019-03-26T00:00:00",
          "2019-05-22T00:00:00",
          "2019-01-29T00:00:00",
          "2019-06-11T00:00:00",
          "2019-06-25T00:00:00",
          "2019-01-15T00:00:00",
          "2019-03-26T00:00:00",
          "2019-01-15T00:00:00",
          "2019-08-13T00:00:00",
          "2019-04-23T00:00:00",
          "2019-10-08T00:00:00",
          "2019-06-11T00:00:00",
          "2019-04-23T00:00:00",
          "2019-12-05T00:00:00",
          "2019-07-30T00:00:00",
          "2019-12-05T00:00:00",
          "2019-10-08T00:00:00",
          "2019-03-12T00:00:00",
          "2019-04-09T00:00:00",
          "2019-03-26T00:00:00",
          "2019-04-09T00:00:00",
          "2019-01-29T00:00:00",
          "2019-02-26T00:00:00",
          "2019-07-30T00:00:00",
          "2019-03-12T00:00:00",
          "2019-10-08T00:00:00",
          "2019-09-24T00:00:00",
          "2019-08-13T00:00:00",
          "2019-11-12T00:00:00",
          "2019-11-07T00:00:00",
          "2019-02-12T00:00:00",
          "2019-02-12T00:00:00",
          "2019-08-13T00:00:00",
          "2019-02-26T00:00:00",
          "2019-10-15T00:00:00",
          "2019-02-26T00:00:00",
          "2019-02-26T00:00:00",
          "2019-12-05T00:00:00",
          "2019-06-25T00:00:00",
          "2019-04-09T00:00:00",
          "2019-10-15T00:00:00",
          "2019-01-15T00:00:00",
          "2019-01-29T00:00:00",
          "2019-11-12T00:00:00",
          "2019-12-05T00:00:00",
          "2019-05-22T00:00:00",
          "2019-02-12T00:00:00",
          "2019-09-24T00:00:00",
          "2019-05-22T00:00:00",
          "2019-06-11T00:00:00",
          "2019-01-29T00:00:00",
          "2019-01-15T00:00:00",
          "2019-11-07T00:00:00",
          "2019-05-14T00:00:00",
          "2019-05-14T00:00:00",
          "2019-03-26T00:00:00",
          "2019-09-24T00:00:00",
          "2019-11-07T00:00:00",
          "2019-06-25T00:00:00",
          "2019-01-29T00:00:00",
          "2019-08-13T00:00:00",
          "2019-04-23T00:00:00",
          "2019-10-08T00:00:00",
          "2019-04-23T00:00:00",
          "2019-10-15T00:00:00",
          "2019-02-26T00:00:00",
          "2019-04-23T00:00:00",
          "2019-12-05T00:00:00",
          "2019-09-24T00:00:00",
          "2019-05-14T00:00:00",
          "2019-03-12T00:00:00",
          "2019-04-23T00:00:00",
          "2019-05-22T00:00:00",
          "2019-07-30T00:00:00",
          "2019-12-05T00:00:00",
          "2019-10-15T00:00:00",
          "2019-08-13T00:00:00",
          "2019-05-14T00:00:00",
          "2019-05-22T00:00:00",
          "2019-07-30T00:00:00",
          "2019-06-11T00:00:00",
          "2019-01-15T00:00:00",
          "2019-11-07T00:00:00",
          "2019-02-26T00:00:00",
          "2019-12-05T00:00:00",
          "2019-10-08T00:00:00",
          "2019-05-14T00:00:00",
          "2019-01-15T00:00:00",
          "2019-05-14T00:00:00",
          "2019-10-15T00:00:00",
          "2019-03-12T00:00:00",
          "2019-06-11T00:00:00",
          "2019-07-30T00:00:00",
          "2019-12-05T00:00:00",
          "2019-03-26T00:00:00",
          "2019-06-25T00:00:00",
          "2019-03-26T00:00:00",
          "2019-11-07T00:00:00",
          "2019-06-11T00:00:00",
          "2019-04-09T00:00:00",
          "2019-06-25T00:00:00",
          "2019-07-30T00:00:00",
          "2019-01-29T00:00:00",
          "2019-09-24T00:00:00",
          "2019-08-13T00:00:00",
          "2019-05-22T00:00:00",
          "2019-11-07T00:00:00",
          "2020-06-30T00:00:00",
          "2020-08-31T00:00:00",
          "2020-10-20T00:00:00",
          "2020-12-10T00:00:00",
          "2020-09-22T00:00:00",
          "2020-02-20T00:00:00",
          "2020-06-23T00:00:00",
          "2020-12-10T00:00:00",
          "2020-09-15T00:00:00",
          "2020-06-23T00:00:00",
          "2020-08-25T00:00:00",
          "2020-10-20T00:00:00",
          "2020-12-10T00:00:00",
          "2020-06-23T00:00:00",
          "2020-07-28T00:00:00",
          "2020-08-31T00:00:00",
          "2020-08-25T00:00:00",
          "2020-02-11T00:00:00",
          "2020-07-28T00:00:00",
          "2020-10-27T00:00:00",
          "2020-08-31T00:00:00",
          "2020-10-27T00:00:00",
          "2020-12-15T00:00:00",
          "2020-03-10T00:00:00",
          "2020-08-31T00:00:00",
          "2020-02-11T00:00:00",
          "2020-02-11T00:00:00",
          "2020-07-21T00:00:00",
          "2020-02-20T00:00:00",
          "2020-11-24T00:00:00",
          "2020-02-11T00:00:00",
          "2020-11-17T00:00:00",
          "2020-06-30T00:00:00",
          "2020-07-28T00:00:00",
          "2020-01-28T00:00:00",
          "2020-07-28T00:00:00",
          "2020-03-10T00:00:00",
          "2020-08-25T00:00:00",
          "2020-09-15T00:00:00",
          "2020-08-25T00:00:00",
          "2020-01-28T00:00:00",
          "2020-06-04T00:00:00",
          "2020-11-24T00:00:00",
          "2020-09-22T00:00:00",
          "2020-10-20T00:00:00",
          "2020-03-10T00:00:00",
          "2020-09-22T00:00:00",
          "2020-06-04T00:00:00",
          "2020-12-10T00:00:00",
          "2020-11-17T00:00:00",
          "2020-02-20T00:00:00",
          "2020-12-10T00:00:00",
          "2020-06-30T00:00:00",
          "2020-01-14T00:00:00",
          "2020-01-14T00:00:00",
          "2020-02-20T00:00:00",
          "2020-06-23T00:00:00",
          "2020-07-21T00:00:00",
          "2020-09-22T00:00:00",
          "2020-11-17T00:00:00",
          "2020-06-30T00:00:00",
          "2020-09-15T00:00:00",
          "2020-01-14T00:00:00",
          "2020-07-21T00:00:00",
          "2020-10-27T00:00:00",
          "2020-07-28T00:00:00",
          "2020-11-24T00:00:00",
          "2020-10-20T00:00:00",
          "2020-01-28T00:00:00",
          "2020-09-15T00:00:00",
          "2020-10-20T00:00:00",
          "2020-03-10T00:00:00",
          "2020-03-10T00:00:00",
          "2020-08-25T00:00:00",
          "2020-07-21T00:00:00",
          "2020-01-28T00:00:00",
          "2020-02-20T00:00:00",
          "2020-06-23T00:00:00",
          "2020-03-10T00:00:00",
          "2020-02-11T00:00:00",
          "2020-01-14T00:00:00",
          "2020-09-15T00:00:00",
          "2020-11-24T00:00:00",
          "2020-07-21T00:00:00",
          "2020-11-24T00:00:00",
          "2020-10-27T00:00:00",
          "2020-09-22T00:00:00",
          "2020-08-31T00:00:00",
          "2020-10-20T00:00:00",
          "2020-07-21T00:00:00",
          "2020-09-22T00:00:00",
          "2020-06-04T00:00:00",
          "2020-06-04T00:00:00",
          "2020-06-04T00:00:00",
          "2020-11-17T00:00:00",
          "2020-11-17T00:00:00",
          "2020-08-31T00:00:00",
          "2020-11-24T00:00:00",
          "2020-11-17T00:00:00",
          "2020-06-23T00:00:00",
          "2020-06-30T00:00:00",
          "2020-06-30T00:00:00",
          "2020-08-25T00:00:00",
          "2020-01-28T00:00:00",
          "2020-11-24T00:00:00",
          "2020-12-10T00:00:00",
          "2020-12-15T00:00:00",
          "2020-02-11T00:00:00",
          "2020-10-27T00:00:00",
          "2020-07-28T00:00:00",
          "2020-12-10T00:00:00",
          "2020-07-28T00:00:00",
          "2020-06-04T00:00:00",
          "2020-12-15T00:00:00",
          "2020-01-14T00:00:00",
          "2020-09-15T00:00:00",
          "2020-12-15T00:00:00",
          "2020-02-20T00:00:00",
          "2020-12-15T00:00:00",
          "2020-01-28T00:00:00",
          "2020-09-22T00:00:00",
          "2020-10-27T00:00:00",
          "2020-10-20T00:00:00",
          "2020-06-30T00:00:00",
          "2020-12-15T00:00:00",
          "2021-08-17T00:00:00",
          "2021-07-13T00:00:00",
          "2021-01-14T00:00:00",
          "2021-11-23T00:00:00",
          "2021-10-05T00:00:00",
          "2021-09-28T00:00:00",
          "2021-05-11T00:00:00",
          "2021-06-22T00:00:00",
          "2021-04-19T00:00:00",
          "2021-10-19T00:00:00",
          "2021-02-11T00:00:00",
          "2021-11-30T00:00:00",
          "2021-11-09T00:00:00",
          "2021-09-28T00:00:00",
          "2021-08-03T00:00:00",
          "2021-02-04T00:00:00",
          "2021-10-05T00:00:00",
          "2021-11-16T00:00:00",
          "2021-12-21T00:00:00",
          "2021-01-14T00:00:00",
          "2021-05-18T00:00:00",
          "2021-03-09T00:00:00",
          "2021-12-21T00:00:00",
          "2021-05-04T00:00:00",
          "2021-11-16T00:00:00",
          "2021-10-19T00:00:00",
          "2021-05-04T00:00:00",
          "2021-12-14T00:00:00",
          "2021-03-09T00:00:00",
          "2021-07-06T00:00:00",
          "2021-01-14T00:00:00",
          "2021-09-09T00:00:00",
          "2021-04-19T00:00:00",
          "2021-04-27T00:00:00",
          "2021-11-09T00:00:00",
          "2021-10-19T00:00:00",
          "2021-04-27T00:00:00",
          "2021-06-15T00:00:00",
          "2021-08-03T00:00:00",
          "2021-11-30T00:00:00",
          "2021-06-15T00:00:00",
          "2021-09-14T00:00:00",
          "2021-07-13T00:00:00",
          "2021-12-06T00:00:00",
          "2021-01-28T00:00:00",
          "2021-09-21T00:00:00",
          "2021-06-15T00:00:00",
          "2021-05-04T00:00:00",
          "2021-05-25T00:00:00",
          "2021-10-19T00:00:00",
          "2021-09-09T00:00:00",
          "2021-07-13T00:00:00",
          "2021-03-02T00:00:00",
          "2021-03-16T00:00:00",
          "2021-07-20T00:00:00",
          "2021-09-09T00:00:00",
          "2021-11-23T00:00:00",
          "2021-02-11T00:00:00",
          "2021-08-24T00:00:00",
          "2021-04-13T00:00:00",
          "2021-07-27T00:00:00",
          "2021-07-20T00:00:00",
          "2021-04-13T00:00:00",
          "2021-05-18T00:00:00",
          "2021-04-13T00:00:00",
          "2021-05-11T00:00:00",
          "2021-11-23T00:00:00",
          "2021-09-14T00:00:00",
          "2021-06-29T00:00:00",
          "2021-08-10T00:00:00",
          "2021-01-14T00:00:00",
          "2021-07-06T00:00:00",
          "2021-01-28T00:00:00",
          "2021-05-11T00:00:00",
          "2021-01-28T00:00:00",
          "2021-12-21T00:00:00",
          "2021-10-05T00:00:00",
          "2021-04-27T00:00:00",
          "2021-05-25T00:00:00",
          "2021-03-16T00:00:00",
          "2021-11-30T00:00:00",
          "2021-06-22T00:00:00",
          "2021-08-10T00:00:00",
          "2021-10-19T00:00:00",
          "2021-12-21T00:00:00",
          "2021-06-15T00:00:00",
          "2021-11-23T00:00:00",
          "2021-02-04T00:00:00",
          "2021-05-18T00:00:00",
          "2021-09-21T00:00:00",
          "2021-06-08T00:00:00",
          "2021-12-21T00:00:00",
          "2021-01-28T00:00:00",
          "2021-04-19T00:00:00",
          "2021-02-04T00:00:00",
          "2021-04-13T00:00:00",
          "2021-07-27T00:00:00",
          "2021-11-09T00:00:00",
          "2021-01-28T00:00:00",
          "2021-09-14T00:00:00",
          "2021-04-06T00:00:00",
          "2021-03-09T00:00:00",
          "2021-02-04T00:00:00",
          "2021-06-29T00:00:00",
          "2021-07-20T00:00:00",
          "2021-07-13T00:00:00",
          "2021-02-04T00:00:00",
          "2021-07-20T00:00:00",
          "2021-03-02T00:00:00",
          "2021-06-08T00:00:00",
          "2021-04-06T00:00:00",
          "2021-08-10T00:00:00",
          "2021-02-11T00:00:00",
          "2021-02-11T00:00:00",
          "2021-08-03T00:00:00",
          "2021-11-09T00:00:00",
          "2021-02-11T00:00:00",
          "2021-10-19T00:00:00",
          "2021-02-04T00:00:00",
          "2021-01-14T00:00:00",
          "2021-06-22T00:00:00",
          "2021-04-13T00:00:00",
          "2021-05-04T00:00:00",
          "2021-06-08T00:00:00",
          "2021-07-06T00:00:00",
          "2021-02-11T00:00:00",
          "2021-04-06T00:00:00",
          "2021-08-24T00:00:00",
          "2021-06-29T00:00:00",
          "2021-01-14T00:00:00",
          "2021-12-14T00:00:00",
          "2021-06-08T00:00:00",
          "2021-08-17T00:00:00",
          "2021-09-21T00:00:00",
          "2021-08-10T00:00:00",
          "2021-09-21T00:00:00",
          "2021-07-06T00:00:00",
          "2021-05-11T00:00:00",
          "2021-12-06T00:00:00",
          "2021-08-24T00:00:00",
          "2021-10-05T00:00:00",
          "2021-09-14T00:00:00",
          "2021-04-13T00:00:00",
          "2021-12-06T00:00:00",
          "2021-05-25T00:00:00",
          "2021-11-16T00:00:00",
          "2021-12-21T00:00:00",
          "2021-03-02T00:00:00",
          "2021-07-27T00:00:00",
          "2021-02-04T00:00:00",
          "2021-03-02T00:00:00",
          "2021-04-06T00:00:00",
          "2021-01-28T00:00:00",
          "2021-01-14T00:00:00",
          "2022-01-04T00:00:00",
          "2022-01-04T00:00:00",
          "2022-01-04T00:00:00"
         ],
         "y": [
          1.5,
          1.5,
          2.7,
          2.5,
          1.6,
          3.1,
          2,
          1.1,
          1.4,
          1.4,
          0.6,
          1.8,
          0.5,
          2.1,
          1.3,
          1,
          0.5,
          2.6,
          1.5,
          2.4,
          1.7,
          2.6,
          2.7,
          0.8,
          2.4,
          1.8,
          1.9,
          3.1,
          2.9,
          1.7,
          2.8,
          0.7,
          3.2,
          1.9,
          2.2,
          2.3,
          2.4,
          1.5,
          1.3,
          1.7,
          3.2,
          1.2,
          1.4,
          2.3,
          2.1,
          3,
          1.2,
          2.3,
          3.1,
          2.2,
          2.3,
          1.3,
          2.3,
          1.5,
          0.4,
          1.9,
          2.8,
          1.6,
          2,
          2.4,
          1.3
         ]
        }
       ],
       "layout": {
        "autosize": true,
        "hovermode": "x",
        "margin": {
         "b": 40,
         "l": 40,
         "r": 0
        },
        "template": {
         "data": {
          "bar": [
           {
            "error_x": {
             "color": "#2a3f5f"
            },
            "error_y": {
             "color": "#2a3f5f"
            },
            "marker": {
             "line": {
              "color": "#E5ECF6",
              "width": 0.5
             },
             "pattern": {
              "fillmode": "overlay",
              "size": 10,
              "solidity": 0.2
             }
            },
            "type": "bar"
           }
          ],
          "barpolar": [
           {
            "marker": {
             "line": {
              "color": "#E5ECF6",
              "width": 0.5
             },
             "pattern": {
              "fillmode": "overlay",
              "size": 10,
              "solidity": 0.2
             }
            },
            "type": "barpolar"
           }
          ],
          "carpet": [
           {
            "aaxis": {
             "endlinecolor": "#2a3f5f",
             "gridcolor": "white",
             "linecolor": "white",
             "minorgridcolor": "white",
             "startlinecolor": "#2a3f5f"
            },
            "baxis": {
             "endlinecolor": "#2a3f5f",
             "gridcolor": "white",
             "linecolor": "white",
             "minorgridcolor": "white",
             "startlinecolor": "#2a3f5f"
            },
            "type": "carpet"
           }
          ],
          "choropleth": [
           {
            "colorbar": {
             "outlinewidth": 0,
             "ticks": ""
            },
            "type": "choropleth"
           }
          ],
          "contour": [
           {
            "colorbar": {
             "outlinewidth": 0,
             "ticks": ""
            },
            "colorscale": [
             [
              0,
              "#0d0887"
             ],
             [
              0.1111111111111111,
              "#46039f"
             ],
             [
              0.2222222222222222,
              "#7201a8"
             ],
             [
              0.3333333333333333,
              "#9c179e"
             ],
             [
              0.4444444444444444,
              "#bd3786"
             ],
             [
              0.5555555555555556,
              "#d8576b"
             ],
             [
              0.6666666666666666,
              "#ed7953"
             ],
             [
              0.7777777777777778,
              "#fb9f3a"
             ],
             [
              0.8888888888888888,
              "#fdca26"
             ],
             [
              1,
              "#f0f921"
             ]
            ],
            "type": "contour"
           }
          ],
          "contourcarpet": [
           {
            "colorbar": {
             "outlinewidth": 0,
             "ticks": ""
            },
            "type": "contourcarpet"
           }
          ],
          "heatmap": [
           {
            "colorbar": {
             "outlinewidth": 0,
             "ticks": ""
            },
            "colorscale": [
             [
              0,
              "#0d0887"
             ],
             [
              0.1111111111111111,
              "#46039f"
             ],
             [
              0.2222222222222222,
              "#7201a8"
             ],
             [
              0.3333333333333333,
              "#9c179e"
             ],
             [
              0.4444444444444444,
              "#bd3786"
             ],
             [
              0.5555555555555556,
              "#d8576b"
             ],
             [
              0.6666666666666666,
              "#ed7953"
             ],
             [
              0.7777777777777778,
              "#fb9f3a"
             ],
             [
              0.8888888888888888,
              "#fdca26"
             ],
             [
              1,
              "#f0f921"
             ]
            ],
            "type": "heatmap"
           }
          ],
          "heatmapgl": [
           {
            "colorbar": {
             "outlinewidth": 0,
             "ticks": ""
            },
            "colorscale": [
             [
              0,
              "#0d0887"
             ],
             [
              0.1111111111111111,
              "#46039f"
             ],
             [
              0.2222222222222222,
              "#7201a8"
             ],
             [
              0.3333333333333333,
              "#9c179e"
             ],
             [
              0.4444444444444444,
              "#bd3786"
             ],
             [
              0.5555555555555556,
              "#d8576b"
             ],
             [
              0.6666666666666666,
              "#ed7953"
             ],
             [
              0.7777777777777778,
              "#fb9f3a"
             ],
             [
              0.8888888888888888,
              "#fdca26"
             ],
             [
              1,
              "#f0f921"
             ]
            ],
            "type": "heatmapgl"
           }
          ],
          "histogram": [
           {
            "marker": {
             "pattern": {
              "fillmode": "overlay",
              "size": 10,
              "solidity": 0.2
             }
            },
            "type": "histogram"
           }
          ],
          "histogram2d": [
           {
            "colorbar": {
             "outlinewidth": 0,
             "ticks": ""
            },
            "colorscale": [
             [
              0,
              "#0d0887"
             ],
             [
              0.1111111111111111,
              "#46039f"
             ],
             [
              0.2222222222222222,
              "#7201a8"
             ],
             [
              0.3333333333333333,
              "#9c179e"
             ],
             [
              0.4444444444444444,
              "#bd3786"
             ],
             [
              0.5555555555555556,
              "#d8576b"
             ],
             [
              0.6666666666666666,
              "#ed7953"
             ],
             [
              0.7777777777777778,
              "#fb9f3a"
             ],
             [
              0.8888888888888888,
              "#fdca26"
             ],
             [
              1,
              "#f0f921"
             ]
            ],
            "type": "histogram2d"
           }
          ],
          "histogram2dcontour": [
           {
            "colorbar": {
             "outlinewidth": 0,
             "ticks": ""
            },
            "colorscale": [
             [
              0,
              "#0d0887"
             ],
             [
              0.1111111111111111,
              "#46039f"
             ],
             [
              0.2222222222222222,
              "#7201a8"
             ],
             [
              0.3333333333333333,
              "#9c179e"
             ],
             [
              0.4444444444444444,
              "#bd3786"
             ],
             [
              0.5555555555555556,
              "#d8576b"
             ],
             [
              0.6666666666666666,
              "#ed7953"
             ],
             [
              0.7777777777777778,
              "#fb9f3a"
             ],
             [
              0.8888888888888888,
              "#fdca26"
             ],
             [
              1,
              "#f0f921"
             ]
            ],
            "type": "histogram2dcontour"
           }
          ],
          "mesh3d": [
           {
            "colorbar": {
             "outlinewidth": 0,
             "ticks": ""
            },
            "type": "mesh3d"
           }
          ],
          "parcoords": [
           {
            "line": {
             "colorbar": {
              "outlinewidth": 0,
              "ticks": ""
             }
            },
            "type": "parcoords"
           }
          ],
          "pie": [
           {
            "automargin": true,
            "type": "pie"
           }
          ],
          "scatter": [
           {
            "marker": {
             "colorbar": {
              "outlinewidth": 0,
              "ticks": ""
             }
            },
            "type": "scatter"
           }
          ],
          "scatter3d": [
           {
            "line": {
             "colorbar": {
              "outlinewidth": 0,
              "ticks": ""
             }
            },
            "marker": {
             "colorbar": {
              "outlinewidth": 0,
              "ticks": ""
             }
            },
            "type": "scatter3d"
           }
          ],
          "scattercarpet": [
           {
            "marker": {
             "colorbar": {
              "outlinewidth": 0,
              "ticks": ""
             }
            },
            "type": "scattercarpet"
           }
          ],
          "scattergeo": [
           {
            "marker": {
             "colorbar": {
              "outlinewidth": 0,
              "ticks": ""
             }
            },
            "type": "scattergeo"
           }
          ],
          "scattergl": [
           {
            "marker": {
             "colorbar": {
              "outlinewidth": 0,
              "ticks": ""
             }
            },
            "type": "scattergl"
           }
          ],
          "scattermapbox": [
           {
            "marker": {
             "colorbar": {
              "outlinewidth": 0,
              "ticks": ""
             }
            },
            "type": "scattermapbox"
           }
          ],
          "scatterpolar": [
           {
            "marker": {
             "colorbar": {
              "outlinewidth": 0,
              "ticks": ""
             }
            },
            "type": "scatterpolar"
           }
          ],
          "scatterpolargl": [
           {
            "marker": {
             "colorbar": {
              "outlinewidth": 0,
              "ticks": ""
             }
            },
            "type": "scatterpolargl"
           }
          ],
          "scatterternary": [
           {
            "marker": {
             "colorbar": {
              "outlinewidth": 0,
              "ticks": ""
             }
            },
            "type": "scatterternary"
           }
          ],
          "surface": [
           {
            "colorbar": {
             "outlinewidth": 0,
             "ticks": ""
            },
            "colorscale": [
             [
              0,
              "#0d0887"
             ],
             [
              0.1111111111111111,
              "#46039f"
             ],
             [
              0.2222222222222222,
              "#7201a8"
             ],
             [
              0.3333333333333333,
              "#9c179e"
             ],
             [
              0.4444444444444444,
              "#bd3786"
             ],
             [
              0.5555555555555556,
              "#d8576b"
             ],
             [
              0.6666666666666666,
              "#ed7953"
             ],
             [
              0.7777777777777778,
              "#fb9f3a"
             ],
             [
              0.8888888888888888,
              "#fdca26"
             ],
             [
              1,
              "#f0f921"
             ]
            ],
            "type": "surface"
           }
          ],
          "table": [
           {
            "cells": {
             "fill": {
              "color": "#EBF0F8"
             },
             "line": {
              "color": "white"
             }
            },
            "header": {
             "fill": {
              "color": "#C8D4E3"
             },
             "line": {
              "color": "white"
             }
            },
            "type": "table"
           }
          ]
         },
         "layout": {
          "annotationdefaults": {
           "arrowcolor": "#2a3f5f",
           "arrowhead": 0,
           "arrowwidth": 1
          },
          "autotypenumbers": "strict",
          "coloraxis": {
           "colorbar": {
            "outlinewidth": 0,
            "ticks": ""
           }
          },
          "colorscale": {
           "diverging": [
            [
             0,
             "#8e0152"
            ],
            [
             0.1,
             "#c51b7d"
            ],
            [
             0.2,
             "#de77ae"
            ],
            [
             0.3,
             "#f1b6da"
            ],
            [
             0.4,
             "#fde0ef"
            ],
            [
             0.5,
             "#f7f7f7"
            ],
            [
             0.6,
             "#e6f5d0"
            ],
            [
             0.7,
             "#b8e186"
            ],
            [
             0.8,
             "#7fbc41"
            ],
            [
             0.9,
             "#4d9221"
            ],
            [
             1,
             "#276419"
            ]
           ],
           "sequential": [
            [
             0,
             "#0d0887"
            ],
            [
             0.1111111111111111,
             "#46039f"
            ],
            [
             0.2222222222222222,
             "#7201a8"
            ],
            [
             0.3333333333333333,
             "#9c179e"
            ],
            [
             0.4444444444444444,
             "#bd3786"
            ],
            [
             0.5555555555555556,
             "#d8576b"
            ],
            [
             0.6666666666666666,
             "#ed7953"
            ],
            [
             0.7777777777777778,
             "#fb9f3a"
            ],
            [
             0.8888888888888888,
             "#fdca26"
            ],
            [
             1,
             "#f0f921"
            ]
           ],
           "sequentialminus": [
            [
             0,
             "#0d0887"
            ],
            [
             0.1111111111111111,
             "#46039f"
            ],
            [
             0.2222222222222222,
             "#7201a8"
            ],
            [
             0.3333333333333333,
             "#9c179e"
            ],
            [
             0.4444444444444444,
             "#bd3786"
            ],
            [
             0.5555555555555556,
             "#d8576b"
            ],
            [
             0.6666666666666666,
             "#ed7953"
            ],
            [
             0.7777777777777778,
             "#fb9f3a"
            ],
            [
             0.8888888888888888,
             "#fdca26"
            ],
            [
             1,
             "#f0f921"
            ]
           ]
          },
          "colorway": [
           "#636efa",
           "#EF553B",
           "#00cc96",
           "#ab63fa",
           "#FFA15A",
           "#19d3f3",
           "#FF6692",
           "#B6E880",
           "#FF97FF",
           "#FECB52"
          ],
          "font": {
           "color": "#2a3f5f"
          },
          "geo": {
           "bgcolor": "white",
           "lakecolor": "white",
           "landcolor": "#E5ECF6",
           "showlakes": true,
           "showland": true,
           "subunitcolor": "white"
          },
          "hoverlabel": {
           "align": "left"
          },
          "hovermode": "closest",
          "mapbox": {
           "style": "light"
          },
          "paper_bgcolor": "white",
          "plot_bgcolor": "#E5ECF6",
          "polar": {
           "angularaxis": {
            "gridcolor": "white",
            "linecolor": "white",
            "ticks": ""
           },
           "bgcolor": "#E5ECF6",
           "radialaxis": {
            "gridcolor": "white",
            "linecolor": "white",
            "ticks": ""
           }
          },
          "scene": {
           "xaxis": {
            "backgroundcolor": "#E5ECF6",
            "gridcolor": "white",
            "gridwidth": 2,
            "linecolor": "white",
            "showbackground": true,
            "ticks": "",
            "zerolinecolor": "white"
           },
           "yaxis": {
            "backgroundcolor": "#E5ECF6",
            "gridcolor": "white",
            "gridwidth": 2,
            "linecolor": "white",
            "showbackground": true,
            "ticks": "",
            "zerolinecolor": "white"
           },
           "zaxis": {
            "backgroundcolor": "#E5ECF6",
            "gridcolor": "white",
            "gridwidth": 2,
            "linecolor": "white",
            "showbackground": true,
            "ticks": "",
            "zerolinecolor": "white"
           }
          },
          "shapedefaults": {
           "line": {
            "color": "#2a3f5f"
           }
          },
          "ternary": {
           "aaxis": {
            "gridcolor": "white",
            "linecolor": "white",
            "ticks": ""
           },
           "baxis": {
            "gridcolor": "white",
            "linecolor": "white",
            "ticks": ""
           },
           "bgcolor": "#E5ECF6",
           "caxis": {
            "gridcolor": "white",
            "linecolor": "white",
            "ticks": ""
           }
          },
          "title": {
           "x": 0.05
          },
          "xaxis": {
           "automargin": true,
           "gridcolor": "white",
           "linecolor": "white",
           "ticks": "",
           "title": {
            "standoff": 15
           },
           "zerolinecolor": "white",
           "zerolinewidth": 2
          },
          "yaxis": {
           "automargin": true,
           "gridcolor": "white",
           "linecolor": "white",
           "ticks": "",
           "title": {
            "standoff": 15
           },
           "zerolinecolor": "white",
           "zerolinewidth": 2
          }
         }
        },
        "title": {
         "text": "Cloro Residual<br><sup>\"DEPARTAMENTO DE AGUA E ESGOTO\"</sup>"
        },
        "xaxis": {
         "autorange": true,
         "range": [
          "2015-01-13 10:45:21.9512",
          "2016-01-10 13:14:38.0488"
         ],
         "tickformat": "%d %b<br>%Y",
         "type": "date"
        },
        "yaxis": {
         "autorange": true,
         "range": [
          0.18320209973753282,
          3.4167979002624675
         ],
         "type": "linear"
        }
       }
      },
      "image/png": "[encoded data removed]",
      "text/html": [
       "<div>                            <div id=\"daac634c-6375-4837-9f32-f8ef2dd6b4e9\" class=\"plotly-graph-div\" style=\"height:525px; width:100%;\"></div>            <script type=\"text/javascript\">                require([\"plotly\"], function(Plotly) {                    window.PLOTLYENV=window.PLOTLYENV || {};                                    if (document.getElementById(\"daac634c-6375-4837-9f32-f8ef2dd6b4e9\")) {                    Plotly.newPlot(                        \"daac634c-6375-4837-9f32-f8ef2dd6b4e9\",                        [{\"marker\":{\"color\":\"red\"},\"mode\":\"markers\",\"name\":\"conclusao\",\"opacity\":0.8,\"x\":[\"2015-05-05T00:00:00\",\"2015-11-10T00:00:00\",\"2015-09-29T00:00:00\",\"2015-10-13T00:00:00\",\"2015-04-22T00:00:00\",\"2015-12-21T00:00:00\",\"2015-09-29T00:00:00\",\"2015-11-18T00:00:00\",\"2015-03-31T00:00:00\",\"2015-12-21T00:00:00\",\"2015-06-16T00:00:00\",\"2015-03-10T00:00:00\",\"2015-04-15T00:00:00\",\"2015-09-22T00:00:00\",\"2015-04-14T00:00:00\",\"2015-11-03T00:00:00\",\"2015-11-03T00:00:00\",\"2015-10-06T00:00:00\",\"2015-06-02T00:00:00\",\"2015-03-10T00:00:00\",\"2015-09-29T00:00:00\",\"2015-10-13T00:00:00\",\"2015-02-10T00:00:00\",\"2015-05-26T00:00:00\",\"2015-06-09T00:00:00\",\"2015-05-26T00:00:00\",\"2015-03-03T00:00:00\",\"2015-11-10T00:00:00\",\"2015-03-31T00:00:00\",\"2015-02-10T00:00:00\",\"2015-06-02T00:00:00\",\"2015-11-18T00:00:00\",\"2015-03-24T00:00:00\",\"2015-04-07T00:00:00\",\"2015-09-29T00:00:00\",\"2015-05-05T00:00:00\",\"2015-04-28T00:00:00\",\"2015-10-13T00:00:00\",\"2015-12-21T00:00:00\",\"2015-02-23T00:00:00\",\"2015-03-24T00:00:00\",\"2015-05-05T00:00:00\",\"2015-02-03T00:00:00\",\"2015-02-10T00:00:00\",\"2015-12-09T00:00:00\",\"2015-05-05T00:00:00\",\"2015-12-09T00:00:00\",\"2015-11-24T00:00:00\",\"2015-04-14T00:00:00\",\"2015-04-14T00:00:00\",\"2015-10-13T00:00:00\",\"2015-04-28T00:00:00\",\"2015-04-28T00:00:00\",\"2015-12-09T00:00:00\",\"2015-04-22T00:00:00\",\"2015-05-12T00:00:00\",\"2015-05-26T00:00:00\",\"2015-03-03T00:00:00\",\"2015-02-03T00:00:00\",\"2015-05-21T00:00:00\",\"2015-09-22T00:00:00\",\"2015-05-12T00:00:00\",\"2015-06-16T00:00:00\",\"2015-10-06T00:00:00\",\"2015-04-07T00:00:00\",\"2015-11-24T00:00:00\",\"2015-12-09T00:00:00\",\"2015-06-16T00:00:00\",\"2015-02-10T00:00:00\",\"2015-03-24T00:00:00\",\"2015-10-06T00:00:00\",\"2015-04-22T00:00:00\",\"2015-11-10T00:00:00\",\"2015-04-22T00:00:00\",\"2015-03-03T00:00:00\",\"2015-12-21T00:00:00\",\"2015-04-14T00:00:00\",\"2015-05-12T00:00:00\",\"2015-03-24T00:00:00\",\"2015-11-24T00:00:00\",\"2015-02-23T00:00:00\",\"2015-05-05T00:00:00\",\"2015-06-09T00:00:00\",\"2015-02-24T00:00:00\",\"2015-03-03T00:00:00\",\"2015-02-23T00:00:00\",\"2015-02-24T00:00:00\",\"2015-05-21T00:00:00\",\"2015-05-12T00:00:00\",\"2015-05-26T00:00:00\",\"2015-12-09T00:00:00\",\"2015-11-18T00:00:00\",\"2015-05-21T00:00:00\",\"2015-03-10T00:00:00\",\"2015-03-31T00:00:00\",\"2015-02-10T00:00:00\",\"2015-02-23T00:00:00\",\"2015-06-02T00:00:00\",\"2015-12-09T00:00:00\",\"2015-04-07T00:00:00\",\"2015-02-24T00:00:00\",\"2015-09-22T00:00:00\",\"2015-12-09T00:00:00\",\"2015-11-18T00:00:00\",\"2015-05-26T00:00:00\",\"2015-03-31T00:00:00\",\"2015-11-03T00:00:00\",\"2015-10-06T00:00:00\",\"2015-05-21T00:00:00\",\"2015-02-23T00:00:00\",\"2015-06-02T00:00:00\",\"2015-04-22T00:00:00\",\"2015-02-24T00:00:00\",\"2015-05-21T00:00:00\",\"2015-06-09T00:00:00\",\"2015-03-31T00:00:00\",\"2015-10-06T00:00:00\",\"2015-12-09T00:00:00\",\"2015-09-29T00:00:00\",\"2015-11-03T00:00:00\",\"2015-05-05T00:00:00\",\"2015-12-09T00:00:00\",\"2015-02-24T00:00:00\",\"2015-09-22T00:00:00\",\"2015-04-14T00:00:00\",\"2015-03-27T00:00:00\",\"2015-02-03T00:00:00\",\"2015-02-03T00:00:00\",\"2015-10-13T00:00:00\",\"2015-03-03T00:00:00\",\"2015-12-09T00:00:00\",\"2015-03-03T00:00:00\",\"2015-11-18T00:00:00\",\"2015-02-24T00:00:00\",\"2015-05-26T00:00:00\",\"2015-04-22T00:00:00\",\"2015-04-07T00:00:00\",\"2015-10-06T00:00:00\",\"2015-02-10T00:00:00\",\"2015-11-10T00:00:00\",\"2015-03-10T00:00:00\",\"2015-06-09T00:00:00\",\"2015-04-14T00:00:00\",\"2015-11-10T00:00:00\",\"2015-04-07T00:00:00\",\"2015-06-16T00:00:00\",\"2015-12-21T00:00:00\",\"2015-06-09T00:00:00\",\"2015-09-22T00:00:00\",\"2015-06-15T00:00:00\",\"2015-02-03T00:00:00\",\"2015-03-24T00:00:00\",\"2015-09-29T00:00:00\",\"2015-11-24T00:00:00\",\"2015-03-31T00:00:00\",\"2015-02-03T00:00:00\",\"2015-12-09T00:00:00\",\"2015-12-09T00:00:00\",\"2015-05-21T00:00:00\",\"2015-10-13T00:00:00\",\"2015-11-18T00:00:00\",\"2015-04-28T00:00:00\",\"2015-12-21T00:00:00\",\"2015-03-10T00:00:00\",\"2015-05-12T00:00:00\",\"2015-09-22T00:00:00\",\"2015-06-16T00:00:00\",\"2015-04-28T00:00:00\",\"2016-09-20T00:00:00\",\"2016-10-31T00:00:00\",\"2016-11-29T00:00:00\",\"2016-09-13T00:00:00\",\"2016-09-27T00:00:00\",\"2016-12-14T00:00:00\",\"2016-09-27T00:00:00\",\"2016-12-14T00:00:00\",\"2016-10-11T00:00:00\",\"2016-10-11T00:00:00\",\"2016-11-30T00:00:00\",\"2016-11-30T00:00:00\",\"2016-10-25T00:00:00\",\"2016-12-13T00:00:00\",\"2016-10-31T00:00:00\",\"2016-10-25T00:00:00\",\"2016-12-13T00:00:00\",\"2016-10-25T00:00:00\",\"2016-09-27T00:00:00\",\"2016-12-13T00:00:00\",\"2016-09-20T00:00:00\",\"2016-12-14T00:00:00\",\"2016-09-13T00:00:00\",\"2016-11-30T00:00:00\",\"2016-11-29T00:00:00\",\"2016-10-11T00:00:00\",\"2016-11-30T00:00:00\",\"2016-12-14T00:00:00\",\"2016-10-31T00:00:00\",\"2016-10-31T00:00:00\",\"2016-10-11T00:00:00\",\"2016-09-20T00:00:00\",\"2016-09-13T00:00:00\",\"2016-10-25T00:00:00\",\"2016-12-13T00:00:00\",\"2016-09-27T00:00:00\",\"2016-09-13T00:00:00\",\"2016-09-20T00:00:00\",\"2017-02-22T00:00:00\",\"2017-12-12T00:00:00\",\"2017-10-10T00:00:00\",\"2017-10-10T00:00:00\",\"2017-07-25T00:00:00\",\"2017-11-07T00:00:00\",\"2017-05-09T00:00:00\",\"2017-09-12T00:00:00\",\"2017-09-12T00:00:00\",\"2017-06-27T00:00:00\",\"2017-02-22T00:00:00\",\"2017-06-27T00:00:00\",\"2017-06-06T00:00:00\",\"2017-12-12T00:00:00\",\"2017-07-11T00:00:00\",\"2017-07-11T00:00:00\",\"2017-04-25T00:00:00\",\"2017-04-11T00:00:00\",\"2017-08-08T00:00:00\",\"2017-10-24T00:00:00\",\"2017-02-14T00:00:00\",\"2017-06-27T00:00:00\",\"2017-02-22T00:00:00\",\"2017-04-25T00:00:00\",\"2017-02-14T00:00:00\",\"2017-07-25T00:00:00\",\"2017-09-12T00:00:00\",\"2017-11-07T00:00:00\",\"2017-11-07T00:00:00\",\"2017-03-14T00:00:00\",\"2017-03-28T00:00:00\",\"2017-11-21T00:00:00\",\"2017-10-24T00:00:00\",\"2017-01-31T00:00:00\",\"2017-02-14T00:00:00\",\"2017-10-24T00:00:00\",\"2017-07-11T00:00:00\",\"2017-09-26T00:00:00\",\"2017-04-25T00:00:00\",\"2017-08-08T00:00:00\",\"2017-06-27T00:00:00\",\"2017-09-26T00:00:00\",\"2017-03-28T00:00:00\",\"2017-12-19T00:00:00\",\"2017-05-09T00:00:00\",\"2017-08-08T00:00:00\",\"2017-06-06T00:00:00\",\"2017-12-19T00:00:00\",\"2017-09-26T00:00:00\",\"2017-08-08T00:00:00\",\"2017-07-11T00:00:00\",\"2017-08-22T00:00:00\",\"2017-01-31T00:00:00\",\"2017-03-28T00:00:00\",\"2017-11-21T00:00:00\",\"2017-04-11T00:00:00\",\"2017-01-17T00:00:00\",\"2017-01-17T00:00:00\",\"2017-11-21T00:00:00\",\"2017-05-23T00:00:00\",\"2017-12-19T00:00:00\",\"2017-01-31T00:00:00\",\"2017-12-19T00:00:00\",\"2017-09-26T00:00:00\",\"2017-10-24T00:00:00\",\"2017-01-17T00:00:00\",\"2017-10-10T00:00:00\",\"2017-11-21T00:00:00\",\"2017-07-25T00:00:00\",\"2017-03-28T00:00:00\",\"2017-03-14T00:00:00\",\"2017-04-11T00:00:00\",\"2017-05-09T00:00:00\",\"2017-10-10T00:00:00\",\"2017-01-31T00:00:00\",\"2017-06-06T00:00:00\",\"2017-01-17T00:00:00\",\"2017-09-12T00:00:00\",\"2017-08-22T00:00:00\",\"2017-07-25T00:00:00\",\"2017-05-09T00:00:00\",\"2017-05-23T00:00:00\",\"2017-08-22T00:00:00\",\"2017-08-22T00:00:00\",\"2017-12-12T00:00:00\",\"2017-08-22T00:00:00\",\"2017-11-07T00:00:00\",\"2017-05-23T00:00:00\",\"2017-10-24T00:00:00\",\"2017-04-25T00:00:00\",\"2017-04-11T00:00:00\",\"2017-03-14T00:00:00\",\"2017-03-14T00:00:00\",\"2017-10-24T00:00:00\",\"2017-02-14T00:00:00\",\"2017-11-21T00:00:00\",\"2017-02-22T00:00:00\",\"2017-12-12T00:00:00\",\"2017-12-19T00:00:00\",\"2017-06-06T00:00:00\",\"2017-09-26T00:00:00\",\"2017-05-23T00:00:00\",\"2018-04-24T00:00:00\",\"2018-02-20T00:00:00\",\"2018-09-25T00:00:00\",\"2018-08-28T00:00:00\",\"2018-03-27T00:00:00\",\"2018-07-24T00:00:00\",\"2018-04-24T00:00:00\",\"2018-03-27T00:00:00\",\"2018-06-12T00:00:00\",\"2018-12-11T00:00:00\",\"2018-03-06T00:00:00\",\"2018-08-14T00:00:00\",\"2018-03-06T00:00:00\",\"2018-08-14T00:00:00\",\"2018-07-24T00:00:00\",\"2018-11-13T00:00:00\",\"2018-01-16T00:00:00\",\"2018-04-24T00:00:00\",\"2018-06-26T00:00:00\",\"2018-11-27T00:00:00\",\"2018-02-27T00:00:00\",\"2018-07-10T00:00:00\",\"2018-02-27T00:00:00\",\"2018-03-27T00:00:00\",\"2018-07-10T00:00:00\",\"2018-08-28T00:00:00\",\"2018-10-23T00:00:00\",\"2018-07-10T00:00:00\",\"2018-04-10T00:00:00\",\"2018-11-13T00:00:00\",\"2018-08-28T00:00:00\",\"2018-08-14T00:00:00\",\"2018-09-11T00:00:00\",\"2018-09-25T00:00:00\",\"2018-03-27T00:00:00\",\"2018-12-06T00:00:00\",\"2018-01-16T00:00:00\",\"2018-07-10T00:00:00\",\"2018-09-11T00:00:00\",\"2018-09-11T00:00:00\",\"2018-05-15T00:00:00\",\"2018-08-28T00:00:00\",\"2018-10-23T00:00:00\",\"2018-03-06T00:00:00\",\"2018-02-20T00:00:00\",\"2018-12-11T00:00:00\",\"2018-03-06T00:00:00\",\"2018-01-16T00:00:00\",\"2018-09-25T00:00:00\",\"2018-11-27T00:00:00\",\"2018-05-15T00:00:00\",\"2018-04-24T00:00:00\",\"2018-03-27T00:00:00\",\"2018-11-27T00:00:00\",\"2018-10-23T00:00:00\",\"2018-03-20T00:00:00\",\"2018-03-06T00:00:00\",\"2018-07-10T00:00:00\",\"2018-12-11T00:00:00\",\"2018-04-10T00:00:00\",\"2018-12-11T00:00:00\",\"2018-10-09T00:00:00\",\"2018-12-06T00:00:00\",\"2018-01-16T00:00:00\",\"2018-11-27T00:00:00\",\"2018-05-15T00:00:00\",\"2018-04-10T00:00:00\",\"2018-03-06T00:00:00\",\"2018-06-12T00:00:00\",\"2018-10-23T00:00:00\",\"2018-02-27T00:00:00\",\"2018-11-13T00:00:00\",\"2018-07-24T00:00:00\",\"2018-08-14T00:00:00\",\"2018-06-26T00:00:00\",\"2018-12-06T00:00:00\",\"2018-10-09T00:00:00\",\"2018-11-27T00:00:00\",\"2018-07-24T00:00:00\",\"2018-02-20T00:00:00\",\"2018-03-20T00:00:00\",\"2018-06-12T00:00:00\",\"2018-10-23T00:00:00\",\"2018-05-15T00:00:00\",\"2018-07-24T00:00:00\",\"2018-06-26T00:00:00\",\"2018-04-24T00:00:00\",\"2018-10-09T00:00:00\",\"2018-02-27T00:00:00\",\"2018-03-20T00:00:00\",\"2018-11-13T00:00:00\",\"2018-09-11T00:00:00\",\"2018-10-09T00:00:00\",\"2018-06-12T00:00:00\",\"2018-02-27T00:00:00\",\"2018-12-06T00:00:00\",\"2018-09-25T00:00:00\",\"2018-04-10T00:00:00\",\"2018-12-06T00:00:00\",\"2018-08-28T00:00:00\",\"2018-03-20T00:00:00\",\"2018-02-20T00:00:00\",\"2018-08-14T00:00:00\",\"2019-03-12T00:00:00\",\"2019-03-12T00:00:00\",\"2019-02-12T00:00:00\",\"2019-04-09T00:00:00\",\"2019-10-08T00:00:00\",\"2019-02-12T00:00:00\",\"2019-09-24T00:00:00\",\"2019-10-15T00:00:00\",\"2019-06-25T00:00:00\",\"2019-03-26T00:00:00\",\"2019-05-22T00:00:00\",\"2019-01-29T00:00:00\",\"2019-06-11T00:00:00\",\"2019-06-25T00:00:00\",\"2019-01-15T00:00:00\",\"2019-03-26T00:00:00\",\"2019-01-15T00:00:00\",\"2019-08-13T00:00:00\",\"2019-04-23T00:00:00\",\"2019-10-08T00:00:00\",\"2019-06-11T00:00:00\",\"2019-04-23T00:00:00\",\"2019-12-05T00:00:00\",\"2019-07-30T00:00:00\",\"2019-12-05T00:00:00\",\"2019-10-08T00:00:00\",\"2019-03-12T00:00:00\",\"2019-04-09T00:00:00\",\"2019-03-26T00:00:00\",\"2019-04-09T00:00:00\",\"2019-01-29T00:00:00\",\"2019-02-26T00:00:00\",\"2019-07-30T00:00:00\",\"2019-03-12T00:00:00\",\"2019-10-08T00:00:00\",\"2019-09-24T00:00:00\",\"2019-08-13T00:00:00\",\"2019-11-12T00:00:00\",\"2019-11-07T00:00:00\",\"2019-02-12T00:00:00\",\"2019-02-12T00:00:00\",\"2019-08-13T00:00:00\",\"2019-02-26T00:00:00\",\"2019-10-15T00:00:00\",\"2019-02-26T00:00:00\",\"2019-02-26T00:00:00\",\"2019-12-05T00:00:00\",\"2019-06-25T00:00:00\",\"2019-04-09T00:00:00\",\"2019-10-15T00:00:00\",\"2019-01-15T00:00:00\",\"2019-01-29T00:00:00\",\"2019-11-12T00:00:00\",\"2019-12-05T00:00:00\",\"2019-05-22T00:00:00\",\"2019-02-12T00:00:00\",\"2019-09-24T00:00:00\",\"2019-05-22T00:00:00\",\"2019-06-11T00:00:00\",\"2019-01-29T00:00:00\",\"2019-01-15T00:00:00\",\"2019-11-07T00:00:00\",\"2019-05-14T00:00:00\",\"2019-05-14T00:00:00\",\"2019-03-26T00:00:00\",\"2019-09-24T00:00:00\",\"2019-11-07T00:00:00\",\"2019-06-25T00:00:00\",\"2019-01-29T00:00:00\",\"2019-08-13T00:00:00\",\"2019-04-23T00:00:00\",\"2019-10-08T00:00:00\",\"2019-04-23T00:00:00\",\"2019-10-15T00:00:00\",\"2019-02-26T00:00:00\",\"2019-04-23T00:00:00\",\"2019-12-05T00:00:00\",\"2019-09-24T00:00:00\",\"2019-05-14T00:00:00\",\"2019-03-12T00:00:00\",\"2019-04-23T00:00:00\",\"2019-05-22T00:00:00\",\"2019-07-30T00:00:00\",\"2019-12-05T00:00:00\",\"2019-10-15T00:00:00\",\"2019-08-13T00:00:00\",\"2019-05-14T00:00:00\",\"2019-05-22T00:00:00\",\"2019-07-30T00:00:00\",\"2019-06-11T00:00:00\",\"2019-01-15T00:00:00\",\"2019-11-07T00:00:00\",\"2019-02-26T00:00:00\",\"2019-12-05T00:00:00\",\"2019-10-08T00:00:00\",\"2019-05-14T00:00:00\",\"2019-01-15T00:00:00\",\"2019-05-14T00:00:00\",\"2019-10-15T00:00:00\",\"2019-03-12T00:00:00\",\"2019-06-11T00:00:00\",\"2019-07-30T00:00:00\",\"2019-12-05T00:00:00\",\"2019-03-26T00:00:00\",\"2019-06-25T00:00:00\",\"2019-03-26T00:00:00\",\"2019-11-07T00:00:00\",\"2019-06-11T00:00:00\",\"2019-04-09T00:00:00\",\"2019-06-25T00:00:00\",\"2019-07-30T00:00:00\",\"2019-01-29T00:00:00\",\"2019-09-24T00:00:00\",\"2019-08-13T00:00:00\",\"2019-05-22T00:00:00\",\"2019-11-07T00:00:00\",\"2020-06-30T00:00:00\",\"2020-08-31T00:00:00\",\"2020-10-20T00:00:00\",\"2020-12-10T00:00:00\",\"2020-09-22T00:00:00\",\"2020-02-20T00:00:00\",\"2020-06-23T00:00:00\",\"2020-12-10T00:00:00\",\"2020-09-15T00:00:00\",\"2020-06-23T00:00:00\",\"2020-08-25T00:00:00\",\"2020-10-20T00:00:00\",\"2020-12-10T00:00:00\",\"2020-06-23T00:00:00\",\"2020-07-28T00:00:00\",\"2020-08-31T00:00:00\",\"2020-08-25T00:00:00\",\"2020-02-11T00:00:00\",\"2020-07-28T00:00:00\",\"2020-10-27T00:00:00\",\"2020-08-31T00:00:00\",\"2020-10-27T00:00:00\",\"2020-12-15T00:00:00\",\"2020-03-10T00:00:00\",\"2020-08-31T00:00:00\",\"2020-02-11T00:00:00\",\"2020-02-11T00:00:00\",\"2020-07-21T00:00:00\",\"2020-02-20T00:00:00\",\"2020-11-24T00:00:00\",\"2020-02-11T00:00:00\",\"2020-11-17T00:00:00\",\"2020-06-30T00:00:00\",\"2020-07-28T00:00:00\",\"2020-01-28T00:00:00\",\"2020-07-28T00:00:00\",\"2020-03-10T00:00:00\",\"2020-08-25T00:00:00\",\"2020-09-15T00:00:00\",\"2020-08-25T00:00:00\",\"2020-01-28T00:00:00\",\"2020-06-04T00:00:00\",\"2020-11-24T00:00:00\",\"2020-09-22T00:00:00\",\"2020-10-20T00:00:00\",\"2020-03-10T00:00:00\",\"2020-09-22T00:00:00\",\"2020-06-04T00:00:00\",\"2020-12-10T00:00:00\",\"2020-11-17T00:00:00\",\"2020-02-20T00:00:00\",\"2020-12-10T00:00:00\",\"2020-06-30T00:00:00\",\"2020-01-14T00:00:00\",\"2020-01-14T00:00:00\",\"2020-02-20T00:00:00\",\"2020-06-23T00:00:00\",\"2020-07-21T00:00:00\",\"2020-09-22T00:00:00\",\"2020-11-17T00:00:00\",\"2020-06-30T00:00:00\",\"2020-09-15T00:00:00\",\"2020-01-14T00:00:00\",\"2020-07-21T00:00:00\",\"2020-10-27T00:00:00\",\"2020-07-28T00:00:00\",\"2020-11-24T00:00:00\",\"2020-10-20T00:00:00\",\"2020-01-28T00:00:00\",\"2020-09-15T00:00:00\",\"2020-10-20T00:00:00\",\"2020-03-10T00:00:00\",\"2020-03-10T00:00:00\",\"2020-08-25T00:00:00\",\"2020-07-21T00:00:00\",\"2020-01-28T00:00:00\",\"2020-02-20T00:00:00\",\"2020-06-23T00:00:00\",\"2020-03-10T00:00:00\",\"2020-02-11T00:00:00\",\"2020-01-14T00:00:00\",\"2020-09-15T00:00:00\",\"2020-11-24T00:00:00\",\"2020-07-21T00:00:00\",\"2020-11-24T00:00:00\",\"2020-10-27T00:00:00\",\"2020-09-22T00:00:00\",\"2020-08-31T00:00:00\",\"2020-10-20T00:00:00\",\"2020-07-21T00:00:00\",\"2020-09-22T00:00:00\",\"2020-06-04T00:00:00\",\"2020-06-04T00:00:00\",\"2020-06-04T00:00:00\",\"2020-11-17T00:00:00\",\"2020-11-17T00:00:00\",\"2020-08-31T00:00:00\",\"2020-11-24T00:00:00\",\"2020-11-17T00:00:00\",\"2020-06-23T00:00:00\",\"2020-06-30T00:00:00\",\"2020-06-30T00:00:00\",\"2020-08-25T00:00:00\",\"2020-01-28T00:00:00\",\"2020-11-24T00:00:00\",\"2020-12-10T00:00:00\",\"2020-12-15T00:00:00\",\"2020-02-11T00:00:00\",\"2020-10-27T00:00:00\",\"2020-07-28T00:00:00\",\"2020-12-10T00:00:00\",\"2020-07-28T00:00:00\",\"2020-06-04T00:00:00\",\"2020-12-15T00:00:00\",\"2020-01-14T00:00:00\",\"2020-09-15T00:00:00\",\"2020-12-15T00:00:00\",\"2020-02-20T00:00:00\",\"2020-12-15T00:00:00\",\"2020-01-28T00:00:00\",\"2020-09-22T00:00:00\",\"2020-10-27T00:00:00\",\"2020-10-20T00:00:00\",\"2020-06-30T00:00:00\",\"2020-12-15T00:00:00\",\"2021-08-17T00:00:00\",\"2021-07-13T00:00:00\",\"2021-01-14T00:00:00\",\"2021-11-23T00:00:00\",\"2021-10-05T00:00:00\",\"2021-09-28T00:00:00\",\"2021-05-11T00:00:00\",\"2021-06-22T00:00:00\",\"2021-04-19T00:00:00\",\"2021-10-19T00:00:00\",\"2021-02-11T00:00:00\",\"2021-11-30T00:00:00\",\"2021-11-09T00:00:00\",\"2021-09-28T00:00:00\",\"2021-08-03T00:00:00\",\"2021-02-04T00:00:00\",\"2021-10-05T00:00:00\",\"2021-11-16T00:00:00\",\"2021-12-21T00:00:00\",\"2021-01-14T00:00:00\",\"2021-05-18T00:00:00\",\"2021-03-09T00:00:00\",\"2021-12-21T00:00:00\",\"2021-05-04T00:00:00\",\"2021-11-16T00:00:00\",\"2021-10-19T00:00:00\",\"2021-05-04T00:00:00\",\"2021-12-14T00:00:00\",\"2021-03-09T00:00:00\",\"2021-07-06T00:00:00\",\"2021-01-14T00:00:00\",\"2021-09-09T00:00:00\",\"2021-04-19T00:00:00\",\"2021-04-27T00:00:00\",\"2021-11-09T00:00:00\",\"2021-10-19T00:00:00\",\"2021-04-27T00:00:00\",\"2021-06-15T00:00:00\",\"2021-08-03T00:00:00\",\"2021-11-30T00:00:00\",\"2021-06-15T00:00:00\",\"2021-09-14T00:00:00\",\"2021-07-13T00:00:00\",\"2021-12-06T00:00:00\",\"2021-01-28T00:00:00\",\"2021-09-21T00:00:00\",\"2021-06-15T00:00:00\",\"2021-05-04T00:00:00\",\"2021-05-25T00:00:00\",\"2021-10-19T00:00:00\",\"2021-09-09T00:00:00\",\"2021-07-13T00:00:00\",\"2021-03-02T00:00:00\",\"2021-03-16T00:00:00\",\"2021-07-20T00:00:00\",\"2021-09-09T00:00:00\",\"2021-11-23T00:00:00\",\"2021-02-11T00:00:00\",\"2021-08-24T00:00:00\",\"2021-04-13T00:00:00\",\"2021-07-27T00:00:00\",\"2021-07-20T00:00:00\",\"2021-04-13T00:00:00\",\"2021-05-18T00:00:00\",\"2021-04-13T00:00:00\",\"2021-05-11T00:00:00\",\"2021-11-23T00:00:00\",\"2021-09-14T00:00:00\",\"2021-06-29T00:00:00\",\"2021-08-10T00:00:00\",\"2021-01-14T00:00:00\",\"2021-07-06T00:00:00\",\"2021-01-28T00:00:00\",\"2021-05-11T00:00:00\",\"2021-01-28T00:00:00\",\"2021-12-21T00:00:00\",\"2021-10-05T00:00:00\",\"2021-04-27T00:00:00\",\"2021-05-25T00:00:00\",\"2021-03-16T00:00:00\",\"2021-11-30T00:00:00\",\"2021-06-22T00:00:00\",\"2021-08-10T00:00:00\",\"2021-10-19T00:00:00\",\"2021-12-21T00:00:00\",\"2021-06-15T00:00:00\",\"2021-11-23T00:00:00\",\"2021-02-04T00:00:00\",\"2021-05-18T00:00:00\",\"2021-09-21T00:00:00\",\"2021-06-08T00:00:00\",\"2021-12-21T00:00:00\",\"2021-01-28T00:00:00\",\"2021-04-19T00:00:00\",\"2021-02-04T00:00:00\",\"2021-04-13T00:00:00\",\"2021-07-27T00:00:00\",\"2021-11-09T00:00:00\",\"2021-01-28T00:00:00\",\"2021-09-14T00:00:00\",\"2021-04-06T00:00:00\",\"2021-03-09T00:00:00\",\"2021-02-04T00:00:00\",\"2021-06-29T00:00:00\",\"2021-07-20T00:00:00\",\"2021-07-13T00:00:00\",\"2021-02-04T00:00:00\",\"2021-07-20T00:00:00\",\"2021-03-02T00:00:00\",\"2021-06-08T00:00:00\",\"2021-04-06T00:00:00\",\"2021-08-10T00:00:00\",\"2021-02-11T00:00:00\",\"2021-02-11T00:00:00\",\"2021-08-03T00:00:00\",\"2021-11-09T00:00:00\",\"2021-02-11T00:00:00\",\"2021-10-19T00:00:00\",\"2021-02-04T00:00:00\",\"2021-01-14T00:00:00\",\"2021-06-22T00:00:00\",\"2021-04-13T00:00:00\",\"2021-05-04T00:00:00\",\"2021-06-08T00:00:00\",\"2021-07-06T00:00:00\",\"2021-02-11T00:00:00\",\"2021-04-06T00:00:00\",\"2021-08-24T00:00:00\",\"2021-06-29T00:00:00\",\"2021-01-14T00:00:00\",\"2021-12-14T00:00:00\",\"2021-06-08T00:00:00\",\"2021-08-17T00:00:00\",\"2021-09-21T00:00:00\",\"2021-08-10T00:00:00\",\"2021-09-21T00:00:00\",\"2021-07-06T00:00:00\",\"2021-05-11T00:00:00\",\"2021-12-06T00:00:00\",\"2021-08-24T00:00:00\",\"2021-10-05T00:00:00\",\"2021-09-14T00:00:00\",\"2021-04-13T00:00:00\",\"2021-12-06T00:00:00\",\"2021-05-25T00:00:00\",\"2021-11-16T00:00:00\",\"2021-12-21T00:00:00\",\"2021-03-02T00:00:00\",\"2021-07-27T00:00:00\",\"2021-02-04T00:00:00\",\"2021-03-02T00:00:00\",\"2021-04-06T00:00:00\",\"2021-01-28T00:00:00\",\"2021-01-14T00:00:00\",\"2022-01-04T00:00:00\",\"2022-01-04T00:00:00\",\"2022-01-04T00:00:00\"],\"y\":[1.5,1.5,2.7,2.5,1.6,3.1,2.0,1.1,1.4,1.4,0.6,1.8,0.5,2.1,1.3,1.0,0.5,2.6,1.5,2.4,1.7,2.6,2.7,0.8,2.4,1.8,1.9,3.1,2.9,1.7,2.8,0.7,3.2,1.9,2.2,2.3,2.4,1.5,1.3,1.7,3.2,1.2,1.4,2.3,2.1,3.0,1.2,2.3,3.1,2.2,2.3,1.3,2.3,1.5,0.4,1.9,2.8,1.6,2.0,2.4,1.3],\"type\":\"scatter\"}],                        {\"template\":{\"data\":{\"bar\":[{\"error_x\":{\"color\":\"#2a3f5f\"},\"error_y\":{\"color\":\"#2a3f5f\"},\"marker\":{\"line\":{\"color\":\"#E5ECF6\",\"width\":0.5},\"pattern\":{\"fillmode\":\"overlay\",\"size\":10,\"solidity\":0.2}},\"type\":\"bar\"}],\"barpolar\":[{\"marker\":{\"line\":{\"color\":\"#E5ECF6\",\"width\":0.5},\"pattern\":{\"fillmode\":\"overlay\",\"size\":10,\"solidity\":0.2}},\"type\":\"barpolar\"}],\"carpet\":[{\"aaxis\":{\"endlinecolor\":\"#2a3f5f\",\"gridcolor\":\"white\",\"linecolor\":\"white\",\"minorgridcolor\":\"white\",\"startlinecolor\":\"#2a3f5f\"},\"baxis\":{\"endlinecolor\":\"#2a3f5f\",\"gridcolor\":\"white\",\"linecolor\":\"white\",\"minorgridcolor\":\"white\",\"startlinecolor\":\"#2a3f5f\"},\"type\":\"carpet\"}],\"choropleth\":[{\"colorbar\":{\"outlinewidth\":0,\"ticks\":\"\"},\"type\":\"choropleth\"}],\"contour\":[{\"colorbar\":{\"outlinewidth\":0,\"ticks\":\"\"},\"colorscale\":[[0.0,\"#0d0887\"],[0.1111111111111111,\"#46039f\"],[0.2222222222222222,\"#7201a8\"],[0.3333333333333333,\"#9c179e\"],[0.4444444444444444,\"#bd3786\"],[0.5555555555555556,\"#d8576b\"],[0.6666666666666666,\"#ed7953\"],[0.7777777777777778,\"#fb9f3a\"],[0.8888888888888888,\"#fdca26\"],[1.0,\"#f0f921\"]],\"type\":\"contour\"}],\"contourcarpet\":[{\"colorbar\":{\"outlinewidth\":0,\"ticks\":\"\"},\"type\":\"contourcarpet\"}],\"heatmap\":[{\"colorbar\":{\"outlinewidth\":0,\"ticks\":\"\"},\"colorscale\":[[0.0,\"#0d0887\"],[0.1111111111111111,\"#46039f\"],[0.2222222222222222,\"#7201a8\"],[0.3333333333333333,\"#9c179e\"],[0.4444444444444444,\"#bd3786\"],[0.5555555555555556,\"#d8576b\"],[0.6666666666666666,\"#ed7953\"],[0.7777777777777778,\"#fb9f3a\"],[0.8888888888888888,\"#fdca26\"],[1.0,\"#f0f921\"]],\"type\":\"heatmap\"}],\"heatmapgl\":[{\"colorbar\":{\"outlinewidth\":0,\"ticks\":\"\"},\"colorscale\":[[0.0,\"#0d0887\"],[0.1111111111111111,\"#46039f\"],[0.2222222222222222,\"#7201a8\"],[0.3333333333333333,\"#9c179e\"],[0.4444444444444444,\"#bd3786\"],[0.5555555555555556,\"#d8576b\"],[0.6666666666666666,\"#ed7953\"],[0.7777777777777778,\"#fb9f3a\"],[0.8888888888888888,\"#fdca26\"],[1.0,\"#f0f921\"]],\"type\":\"heatmapgl\"}],\"histogram\":[{\"marker\":{\"pattern\":{\"fillmode\":\"overlay\",\"size\":10,\"solidity\":0.2}},\"type\":\"histogram\"}],\"histogram2d\":[{\"colorbar\":{\"outlinewidth\":0,\"ticks\":\"\"},\"colorscale\":[[0.0,\"#0d0887\"],[0.1111111111111111,\"#46039f\"],[0.2222222222222222,\"#7201a8\"],[0.3333333333333333,\"#9c179e\"],[0.4444444444444444,\"#bd3786\"],[0.5555555555555556,\"#d8576b\"],[0.6666666666666666,\"#ed7953\"],[0.7777777777777778,\"#fb9f3a\"],[0.8888888888888888,\"#fdca26\"],[1.0,\"#f0f921\"]],\"type\":\"histogram2d\"}],\"histogram2dcontour\":[{\"colorbar\":{\"outlinewidth\":0,\"ticks\":\"\"},\"colorscale\":[[0.0,\"#0d0887\"],[0.1111111111111111,\"#46039f\"],[0.2222222222222222,\"#7201a8\"],[0.3333333333333333,\"#9c179e\"],[0.4444444444444444,\"#bd3786\"],[0.5555555555555556,\"#d8576b\"],[0.6666666666666666,\"#ed7953\"],[0.7777777777777778,\"#fb9f3a\"],[0.8888888888888888,\"#fdca26\"],[1.0,\"#f0f921\"]],\"type\":\"histogram2dcontour\"}],\"mesh3d\":[{\"colorbar\":{\"outlinewidth\":0,\"ticks\":\"\"},\"type\":\"mesh3d\"}],\"parcoords\":[{\"line\":{\"colorbar\":{\"outlinewidth\":0,\"ticks\":\"\"}},\"type\":\"parcoords\"}],\"pie\":[{\"automargin\":true,\"type\":\"pie\"}],\"scatter\":[{\"marker\":{\"colorbar\":{\"outlinewidth\":0,\"ticks\":\"\"}},\"type\":\"scatter\"}],\"scatter3d\":[{\"line\":{\"colorbar\":{\"outlinewidth\":0,\"ticks\":\"\"}},\"marker\":{\"colorbar\":{\"outlinewidth\":0,\"ticks\":\"\"}},\"type\":\"scatter3d\"}],\"scattercarpet\":[{\"marker\":{\"colorbar\":{\"outlinewidth\":0,\"ticks\":\"\"}},\"type\":\"scattercarpet\"}],\"scattergeo\":[{\"marker\":{\"colorbar\":{\"outlinewidth\":0,\"ticks\":\"\"}},\"type\":\"scattergeo\"}],\"scattergl\":[{\"marker\":{\"colorbar\":{\"outlinewidth\":0,\"ticks\":\"\"}},\"type\":\"scattergl\"}],\"scattermapbox\":[{\"marker\":{\"colorbar\":{\"outlinewidth\":0,\"ticks\":\"\"}},\"type\":\"scattermapbox\"}],\"scatterpolar\":[{\"marker\":{\"colorbar\":{\"outlinewidth\":0,\"ticks\":\"\"}},\"type\":\"scatterpolar\"}],\"scatterpolargl\":[{\"marker\":{\"colorbar\":{\"outlinewidth\":0,\"ticks\":\"\"}},\"type\":\"scatterpolargl\"}],\"scatterternary\":[{\"marker\":{\"colorbar\":{\"outlinewidth\":0,\"ticks\":\"\"}},\"type\":\"scatterternary\"}],\"surface\":[{\"colorbar\":{\"outlinewidth\":0,\"ticks\":\"\"},\"colorscale\":[[0.0,\"#0d0887\"],[0.1111111111111111,\"#46039f\"],[0.2222222222222222,\"#7201a8\"],[0.3333333333333333,\"#9c179e\"],[0.4444444444444444,\"#bd3786\"],[0.5555555555555556,\"#d8576b\"],[0.6666666666666666,\"#ed7953\"],[0.7777777777777778,\"#fb9f3a\"],[0.8888888888888888,\"#fdca26\"],[1.0,\"#f0f921\"]],\"type\":\"surface\"}],\"table\":[{\"cells\":{\"fill\":{\"color\":\"#EBF0F8\"},\"line\":{\"color\":\"white\"}},\"header\":{\"fill\":{\"color\":\"#C8D4E3\"},\"line\":{\"color\":\"white\"}},\"type\":\"table\"}]},\"layout\":{\"annotationdefaults\":{\"arrowcolor\":\"#2a3f5f\",\"arrowhead\":0,\"arrowwidth\":1},\"autotypenumbers\":\"strict\",\"coloraxis\":{\"colorbar\":{\"outlinewidth\":0,\"ticks\":\"\"}},\"colorscale\":{\"diverging\":[[0,\"#8e0152\"],[0.1,\"#c51b7d\"],[0.2,\"#de77ae\"],[0.3,\"#f1b6da\"],[0.4,\"#fde0ef\"],[0.5,\"#f7f7f7\"],[0.6,\"#e6f5d0\"],[0.7,\"#b8e186\"],[0.8,\"#7fbc41\"],[0.9,\"#4d9221\"],[1,\"#276419\"]],\"sequential\":[[0.0,\"#0d0887\"],[0.1111111111111111,\"#46039f\"],[0.2222222222222222,\"#7201a8\"],[0.3333333333333333,\"#9c179e\"],[0.4444444444444444,\"#bd3786\"],[0.5555555555555556,\"#d8576b\"],[0.6666666666666666,\"#ed7953\"],[0.7777777777777778,\"#fb9f3a\"],[0.8888888888888888,\"#fdca26\"],[1.0,\"#f0f921\"]],\"sequentialminus\":[[0.0,\"#0d0887\"],[0.1111111111111111,\"#46039f\"],[0.2222222222222222,\"#7201a8\"],[0.3333333333333333,\"#9c179e\"],[0.4444444444444444,\"#bd3786\"],[0.5555555555555556,\"#d8576b\"],[0.6666666666666666,\"#ed7953\"],[0.7777777777777778,\"#fb9f3a\"],[0.8888888888888888,\"#fdca26\"],[1.0,\"#f0f921\"]]},\"colorway\":[\"#636efa\",\"#EF553B\",\"#00cc96\",\"#ab63fa\",\"#FFA15A\",\"#19d3f3\",\"#FF6692\",\"#B6E880\",\"#FF97FF\",\"#FECB52\"],\"font\":{\"color\":\"#2a3f5f\"},\"geo\":{\"bgcolor\":\"white\",\"lakecolor\":\"white\",\"landcolor\":\"#E5ECF6\",\"showlakes\":true,\"showland\":true,\"subunitcolor\":\"white\"},\"hoverlabel\":{\"align\":\"left\"},\"hovermode\":\"closest\",\"mapbox\":{\"style\":\"light\"},\"paper_bgcolor\":\"white\",\"plot_bgcolor\":\"#E5ECF6\",\"polar\":{\"angularaxis\":{\"gridcolor\":\"white\",\"linecolor\":\"white\",\"ticks\":\"\"},\"bgcolor\":\"#E5ECF6\",\"radialaxis\":{\"gridcolor\":\"white\",\"linecolor\":\"white\",\"ticks\":\"\"}},\"scene\":{\"xaxis\":{\"backgroundcolor\":\"#E5ECF6\",\"gridcolor\":\"white\",\"gridwidth\":2,\"linecolor\":\"white\",\"showbackground\":true,\"ticks\":\"\",\"zerolinecolor\":\"white\"},\"yaxis\":{\"backgroundcolor\":\"#E5ECF6\",\"gridcolor\":\"white\",\"gridwidth\":2,\"linecolor\":\"white\",\"showbackground\":true,\"ticks\":\"\",\"zerolinecolor\":\"white\"},\"zaxis\":{\"backgroundcolor\":\"#E5ECF6\",\"gridcolor\":\"white\",\"gridwidth\":2,\"linecolor\":\"white\",\"showbackground\":true,\"ticks\":\"\",\"zerolinecolor\":\"white\"}},\"shapedefaults\":{\"line\":{\"color\":\"#2a3f5f\"}},\"ternary\":{\"aaxis\":{\"gridcolor\":\"white\",\"linecolor\":\"white\",\"ticks\":\"\"},\"baxis\":{\"gridcolor\":\"white\",\"linecolor\":\"white\",\"ticks\":\"\"},\"bgcolor\":\"#E5ECF6\",\"caxis\":{\"gridcolor\":\"white\",\"linecolor\":\"white\",\"ticks\":\"\"}},\"title\":{\"x\":0.05},\"xaxis\":{\"automargin\":true,\"gridcolor\":\"white\",\"linecolor\":\"white\",\"ticks\":\"\",\"title\":{\"standoff\":15},\"zerolinecolor\":\"white\",\"zerolinewidth\":2},\"yaxis\":{\"automargin\":true,\"gridcolor\":\"white\",\"linecolor\":\"white\",\"ticks\":\"\",\"title\":{\"standoff\":15},\"zerolinecolor\":\"white\",\"zerolinewidth\":2}}},\"xaxis\":{\"tickformat\":\"%d %b<br>%Y\"},\"margin\":{\"l\":40,\"b\":40,\"r\":0},\"title\":{\"text\":\"Cloro Residual<br><sup>\\\"DEPARTAMENTO DE AGUA E ESGOTO\\\"</sup>\"},\"hovermode\":\"x\"},                        {\"responsive\": true}                    ).then(function(){\n",
       "                            \n",
       "var gd = document.getElementById('daac634c-6375-4837-9f32-f8ef2dd6b4e9');\n",
       "var x = new MutationObserver(function (mutations, observer) {{\n",
       "        var display = window.getComputedStyle(gd).display;\n",
       "        if (!display || display === 'none') {{\n",
       "            console.log([gd, 'removed!']);\n",
       "            Plotly.purge(gd);\n",
       "            observer.disconnect();\n",
       "        }}\n",
       "}});\n",
       "\n",
       "// Listen for the removal of the full notebook cells\n",
       "var notebookContainer = gd.closest('#notebook-container');\n",
       "if (notebookContainer) {{\n",
       "    x.observe(notebookContainer, {childList: true});\n",
       "}}\n",
       "\n",
       "// Listen for the clearing of the current output cell\n",
       "var outputEl = gd.closest('.output');\n",
       "if (outputEl) {{\n",
       "    x.observe(outputEl, {childList: true});\n",
       "}}\n",
       "\n",
       "                        })                };                });            </script>        </div>"
      ]
     },
     "metadata": {},
     "output_type": "display_data"
    }
   ],
   "source": [
    "list_formas = list(set(df_temp['Nome Da Forma De Abastecimento']))\n",
    "print(list_formas)\n",
    "xaxis_column_name = list_formas[n_forma]\n",
    "print(xaxis_column_name)\n",
    "\n",
    "# Create Figure\n",
    "fig = go.Figure()\n",
    "\n",
    "# Add trace\n",
    "fig.add_trace(\n",
    "    go.Scatter(\n",
    "        x=df_temp['Data Da Coleta'],\n",
    "        #y=df['Resultado'],\n",
    "        y=df_temp[df_temp['Nome Da Forma De Abastecimento'] == xaxis_column_name]['Resultado'],\n",
    "        name='conclusao',\n",
    "        mode='markers',\n",
    "        marker={'color': 'red'},\n",
    "        opacity=0.8,\n",
    "    )\n",
    ")\n",
    "\n",
    "# Udate\n",
    "fig.update_layout(\n",
    "    title='Cloro Residual<br><sup>\"{}\"</sup>'.format(xaxis_column_name),\n",
    "    xaxis_tickformat='%d %b<br>%Y',\n",
    "    margin={\n",
    "        'l': 40,\n",
    "        'b': 40,\n",
    "        #'t': 40,\n",
    "        'r': 0\n",
    "    },\n",
    "    #dragmode='pan',\n",
    "    hovermode='x',\n",
    "\n",
    ")\n",
    "#fig.write_html('ddd.html', config=config)\n",
    "fig"
   ]
  },
  {
   "cell_type": "markdown",
   "id": "9f262298-e090-403d-8544-83dcba59d94d",
   "metadata": {},
   "source": [
    "<br>\n",
    "\n",
    "## Coliformes"
   ]
  },
  {
   "cell_type": "code",
   "execution_count": 435,
   "id": "0ea6dd81-a249-49f3-b24c-8ed3e7a40eae",
   "metadata": {},
   "outputs": [
    {
     "data": {
      "text/html": [
       "<div>\n",
       "<style scoped>\n",
       "    .dataframe tbody tr th:only-of-type {\n",
       "        vertical-align: middle;\n",
       "    }\n",
       "\n",
       "    .dataframe tbody tr th {\n",
       "        vertical-align: top;\n",
       "    }\n",
       "\n",
       "    .dataframe thead th {\n",
       "        text-align: right;\n",
       "    }\n",
       "</style>\n",
       "<table border=\"1\" class=\"dataframe\">\n",
       "  <thead>\n",
       "    <tr style=\"text-align: right;\">\n",
       "      <th></th>\n",
       "      <th>Região Geográfica</th>\n",
       "      <th>Regional De Saúde</th>\n",
       "      <th>Município</th>\n",
       "      <th>Número Da Amostra</th>\n",
       "      <th>Motivo Da Coleta</th>\n",
       "      <th>Tipo Da Forma De Abastecimento</th>\n",
       "      <th>Código Forma De Abastecimento</th>\n",
       "      <th>Nome Da Forma De Abastecimento</th>\n",
       "      <th>Tipo Da Instituição</th>\n",
       "      <th>Sigla Da Instituição</th>\n",
       "      <th>...</th>\n",
       "      <th>Tipo Do Local</th>\n",
       "      <th>Local</th>\n",
       "      <th>Latitude</th>\n",
       "      <th>Longitude</th>\n",
       "      <th>Parâmetro (Parâmetros Básicos)</th>\n",
       "      <th>Análise Realizada</th>\n",
       "      <th>Resultado</th>\n",
       "      <th>Providência</th>\n",
       "      <th>Uf</th>\n",
       "      <th>Código Ibge</th>\n",
       "    </tr>\n",
       "  </thead>\n",
       "  <tbody>\n",
       "    <tr>\n",
       "      <th>473</th>\n",
       "      <td>SUDESTE</td>\n",
       "      <td>GVS XVII - CAMPINAS</td>\n",
       "      <td>AMERICANA</td>\n",
       "      <td>1330/15</td>\n",
       "      <td>Rotina</td>\n",
       "      <td>SAA</td>\n",
       "      <td>S350160000001</td>\n",
       "      <td>ETA</td>\n",
       "      <td>Serviço Municipal e outros</td>\n",
       "      <td>NaN</td>\n",
       "      <td>...</td>\n",
       "      <td>NaN</td>\n",
       "      <td>NaN</td>\n",
       "      <td>NaN</td>\n",
       "      <td>NaN</td>\n",
       "      <td>Coliformes totais</td>\n",
       "      <td>NaN</td>\n",
       "      <td>0</td>\n",
       "      <td>NaN</td>\n",
       "      <td>SP</td>\n",
       "      <td>350160</td>\n",
       "    </tr>\n",
       "    <tr>\n",
       "      <th>474</th>\n",
       "      <td>SUDESTE</td>\n",
       "      <td>GVS XVII - CAMPINAS</td>\n",
       "      <td>AMERICANA</td>\n",
       "      <td>2501/15</td>\n",
       "      <td>Rotina</td>\n",
       "      <td>SAA</td>\n",
       "      <td>S350160000001</td>\n",
       "      <td>ETA</td>\n",
       "      <td>Serviço Municipal e outros</td>\n",
       "      <td>NaN</td>\n",
       "      <td>...</td>\n",
       "      <td>NaN</td>\n",
       "      <td>NaN</td>\n",
       "      <td>NaN</td>\n",
       "      <td>NaN</td>\n",
       "      <td>Coliformes totais</td>\n",
       "      <td>NaN</td>\n",
       "      <td>0</td>\n",
       "      <td>NaN</td>\n",
       "      <td>SP</td>\n",
       "      <td>350160</td>\n",
       "    </tr>\n",
       "    <tr>\n",
       "      <th>476</th>\n",
       "      <td>SUDESTE</td>\n",
       "      <td>GVS XVII - CAMPINAS</td>\n",
       "      <td>AMERICANA</td>\n",
       "      <td>1325/15</td>\n",
       "      <td>Rotina</td>\n",
       "      <td>SAA</td>\n",
       "      <td>S350160000001</td>\n",
       "      <td>ETA</td>\n",
       "      <td>Serviço Municipal e outros</td>\n",
       "      <td>NaN</td>\n",
       "      <td>...</td>\n",
       "      <td>NaN</td>\n",
       "      <td>NaN</td>\n",
       "      <td>NaN</td>\n",
       "      <td>NaN</td>\n",
       "      <td>Coliformes totais</td>\n",
       "      <td>NaN</td>\n",
       "      <td>0</td>\n",
       "      <td>NaN</td>\n",
       "      <td>SP</td>\n",
       "      <td>350160</td>\n",
       "    </tr>\n",
       "    <tr>\n",
       "      <th>477</th>\n",
       "      <td>SUDESTE</td>\n",
       "      <td>GVS XVII - CAMPINAS</td>\n",
       "      <td>AMERICANA</td>\n",
       "      <td>0810/15</td>\n",
       "      <td>Rotina</td>\n",
       "      <td>SAA</td>\n",
       "      <td>S350160000001</td>\n",
       "      <td>ETA</td>\n",
       "      <td>Serviço Municipal e outros</td>\n",
       "      <td>NaN</td>\n",
       "      <td>...</td>\n",
       "      <td>NaN</td>\n",
       "      <td>NaN</td>\n",
       "      <td>NaN</td>\n",
       "      <td>NaN</td>\n",
       "      <td>Coliformes totais</td>\n",
       "      <td>NaN</td>\n",
       "      <td>0</td>\n",
       "      <td>NaN</td>\n",
       "      <td>SP</td>\n",
       "      <td>350160</td>\n",
       "    </tr>\n",
       "    <tr>\n",
       "      <th>482</th>\n",
       "      <td>SUDESTE</td>\n",
       "      <td>GVS XVII - CAMPINAS</td>\n",
       "      <td>AMERICANA</td>\n",
       "      <td>1957/15</td>\n",
       "      <td>Rotina</td>\n",
       "      <td>SAA</td>\n",
       "      <td>S350160000001</td>\n",
       "      <td>ETA</td>\n",
       "      <td>Serviço Municipal e outros</td>\n",
       "      <td>NaN</td>\n",
       "      <td>...</td>\n",
       "      <td>NaN</td>\n",
       "      <td>NaN</td>\n",
       "      <td>NaN</td>\n",
       "      <td>NaN</td>\n",
       "      <td>Coliformes totais</td>\n",
       "      <td>NaN</td>\n",
       "      <td>0</td>\n",
       "      <td>NaN</td>\n",
       "      <td>SP</td>\n",
       "      <td>350160</td>\n",
       "    </tr>\n",
       "  </tbody>\n",
       "</table>\n",
       "<p>5 rows × 36 columns</p>\n",
       "</div>"
      ],
      "text/plain": [
       "    Região Geográfica    Regional De Saúde  Município Número Da Amostra  \\\n",
       "473           SUDESTE  GVS XVII - CAMPINAS  AMERICANA           1330/15   \n",
       "474           SUDESTE  GVS XVII - CAMPINAS  AMERICANA           2501/15   \n",
       "476           SUDESTE  GVS XVII - CAMPINAS  AMERICANA           1325/15   \n",
       "477           SUDESTE  GVS XVII - CAMPINAS  AMERICANA           0810/15   \n",
       "482           SUDESTE  GVS XVII - CAMPINAS  AMERICANA           1957/15   \n",
       "\n",
       "    Motivo Da Coleta Tipo Da Forma De Abastecimento  \\\n",
       "473           Rotina                            SAA   \n",
       "474           Rotina                            SAA   \n",
       "476           Rotina                            SAA   \n",
       "477           Rotina                            SAA   \n",
       "482           Rotina                            SAA   \n",
       "\n",
       "    Código Forma De Abastecimento Nome Da Forma De Abastecimento  \\\n",
       "473                 S350160000001                            ETA   \n",
       "474                 S350160000001                            ETA   \n",
       "476                 S350160000001                            ETA   \n",
       "477                 S350160000001                            ETA   \n",
       "482                 S350160000001                            ETA   \n",
       "\n",
       "            Tipo Da Instituição  Sigla Da Instituição  ... Tipo Do Local  \\\n",
       "473  Serviço Municipal e outros                   NaN  ...           NaN   \n",
       "474  Serviço Municipal e outros                   NaN  ...           NaN   \n",
       "476  Serviço Municipal e outros                   NaN  ...           NaN   \n",
       "477  Serviço Municipal e outros                   NaN  ...           NaN   \n",
       "482  Serviço Municipal e outros                   NaN  ...           NaN   \n",
       "\n",
       "     Local  Latitude  Longitude  Parâmetro (Parâmetros Básicos)  \\\n",
       "473    NaN       NaN        NaN               Coliformes totais   \n",
       "474    NaN       NaN        NaN               Coliformes totais   \n",
       "476    NaN       NaN        NaN               Coliformes totais   \n",
       "477    NaN       NaN        NaN               Coliformes totais   \n",
       "482    NaN       NaN        NaN               Coliformes totais   \n",
       "\n",
       "     Análise Realizada  Resultado Providência  Uf Código Ibge  \n",
       "473                NaN          0         NaN  SP      350160  \n",
       "474                NaN          0         NaN  SP      350160  \n",
       "476                NaN          0         NaN  SP      350160  \n",
       "477                NaN          0         NaN  SP      350160  \n",
       "482                NaN          0         NaN  SP      350160  \n",
       "\n",
       "[5 rows x 36 columns]"
      ]
     },
     "execution_count": 435,
     "metadata": {},
     "output_type": "execute_result"
    }
   ],
   "source": [
    "# Select Parameters\n",
    "df_temp = df[df['Parâmetro (Parâmetros Básicos)'].str.contains('Coliformes')].copy()\n",
    "\n",
    "# Ajusta Resultados\n",
    "df_temp['Resultado'] = df_temp['Resultado'].map({'AUSENTE': 0, 'PRESENTE': 1})\n",
    "\n",
    "df_temp.head()"
   ]
  },
  {
   "cell_type": "code",
   "execution_count": 436,
   "id": "cead7b6f-79ad-4d36-a69e-e55eebdb5b3c",
   "metadata": {},
   "outputs": [
    {
     "name": "stdout",
     "output_type": "stream",
     "text": [
      "['ETA']\n"
     ]
    },
    {
     "ename": "IndexError",
     "evalue": "list index out of range",
     "output_type": "error",
     "traceback": [
      "\u001b[0;31m---------------------------------------------------------------------------\u001b[0m",
      "\u001b[0;31mIndexError\u001b[0m                                Traceback (most recent call last)",
      "Input \u001b[0;32mIn [436]\u001b[0m, in \u001b[0;36m<cell line: 3>\u001b[0;34m()\u001b[0m\n\u001b[1;32m      1\u001b[0m list_formas \u001b[38;5;241m=\u001b[39m \u001b[38;5;28mlist\u001b[39m(\u001b[38;5;28mset\u001b[39m(df_temp[\u001b[38;5;124m'\u001b[39m\u001b[38;5;124mNome Da Forma De Abastecimento\u001b[39m\u001b[38;5;124m'\u001b[39m]))\n\u001b[1;32m      2\u001b[0m \u001b[38;5;28mprint\u001b[39m(list_formas)\n\u001b[0;32m----> 3\u001b[0m xaxis_column_name \u001b[38;5;241m=\u001b[39m \u001b[43mlist_formas\u001b[49m\u001b[43m[\u001b[49m\u001b[43mn_forma\u001b[49m\u001b[43m]\u001b[49m\n\u001b[1;32m      4\u001b[0m \u001b[38;5;28mprint\u001b[39m(xaxis_column_name)\n\u001b[1;32m      6\u001b[0m \u001b[38;5;66;03m# Create Figure\u001b[39;00m\n",
      "\u001b[0;31mIndexError\u001b[0m: list index out of range"
     ]
    }
   ],
   "source": [
    "list_formas = list(set(df_temp['Nome Da Forma De Abastecimento']))\n",
    "print(list_formas)\n",
    "xaxis_column_name = list_formas[n_forma]\n",
    "print(xaxis_column_name)\n",
    "\n",
    "# Create Figure\n",
    "fig = go.Figure()\n",
    "\n",
    "# Add trace\n",
    "fig.add_trace(\n",
    "    go.Scatter(\n",
    "        x=df_temp['Data Da Coleta'],\n",
    "        #y=df['Resultado'],\n",
    "        y=df_temp[df_temp['Nome Da Forma De Abastecimento'] == xaxis_column_name]['Resultado'],\n",
    "        name='conclusao',\n",
    "        mode='markers',\n",
    "        marker={'color': 'red'},\n",
    "        opacity=0.8,\n",
    "    )\n",
    ")\n",
    "\n",
    "# Udate\n",
    "fig.update_layout(\n",
    "    title='Coliformes<br><sup>\"{}\"</sup>'.format(xaxis_column_name),\n",
    "    xaxis_tickformat='%d %b<br>%Y',\n",
    "    margin={\n",
    "        'l': 40,\n",
    "        'b': 40,\n",
    "        #'t': 40,\n",
    "        'r': 0\n",
    "    },\n",
    "    #dragmode='pan',\n",
    "    hovermode='x',\n",
    "\n",
    ")\n",
    "#fig.write_html('ddd.html', config=config)\n",
    "fig"
   ]
  },
  {
   "cell_type": "markdown",
   "id": "62dec3f0-f653-483e-a11b-cafbead69569",
   "metadata": {},
   "source": [
    "<br>\n",
    "\n",
    "## Escherichia"
   ]
  },
  {
   "cell_type": "code",
   "execution_count": 437,
   "id": "f6737045-abc3-4323-8de1-ca24f7b4a8e4",
   "metadata": {},
   "outputs": [
    {
     "name": "stdout",
     "output_type": "stream",
     "text": [
      "{'AUSENTE', 'PRESENTE'}\n"
     ]
    },
    {
     "data": {
      "text/html": [
       "<div>\n",
       "<style scoped>\n",
       "    .dataframe tbody tr th:only-of-type {\n",
       "        vertical-align: middle;\n",
       "    }\n",
       "\n",
       "    .dataframe tbody tr th {\n",
       "        vertical-align: top;\n",
       "    }\n",
       "\n",
       "    .dataframe thead th {\n",
       "        text-align: right;\n",
       "    }\n",
       "</style>\n",
       "<table border=\"1\" class=\"dataframe\">\n",
       "  <thead>\n",
       "    <tr style=\"text-align: right;\">\n",
       "      <th></th>\n",
       "      <th>Região Geográfica</th>\n",
       "      <th>Regional De Saúde</th>\n",
       "      <th>Município</th>\n",
       "      <th>Número Da Amostra</th>\n",
       "      <th>Motivo Da Coleta</th>\n",
       "      <th>Tipo Da Forma De Abastecimento</th>\n",
       "      <th>Código Forma De Abastecimento</th>\n",
       "      <th>Nome Da Forma De Abastecimento</th>\n",
       "      <th>Tipo Da Instituição</th>\n",
       "      <th>Sigla Da Instituição</th>\n",
       "      <th>...</th>\n",
       "      <th>Tipo Do Local</th>\n",
       "      <th>Local</th>\n",
       "      <th>Latitude</th>\n",
       "      <th>Longitude</th>\n",
       "      <th>Parâmetro (Parâmetros Básicos)</th>\n",
       "      <th>Análise Realizada</th>\n",
       "      <th>Resultado</th>\n",
       "      <th>Providência</th>\n",
       "      <th>Uf</th>\n",
       "      <th>Código Ibge</th>\n",
       "    </tr>\n",
       "  </thead>\n",
       "  <tbody>\n",
       "    <tr>\n",
       "      <th>475</th>\n",
       "      <td>SUDESTE</td>\n",
       "      <td>GVS XVII - CAMPINAS</td>\n",
       "      <td>AMERICANA</td>\n",
       "      <td>1330/15</td>\n",
       "      <td>Rotina</td>\n",
       "      <td>SAA</td>\n",
       "      <td>S350160000001</td>\n",
       "      <td>ETA</td>\n",
       "      <td>Serviço Municipal e outros</td>\n",
       "      <td>NaN</td>\n",
       "      <td>...</td>\n",
       "      <td>NaN</td>\n",
       "      <td>NaN</td>\n",
       "      <td>NaN</td>\n",
       "      <td>NaN</td>\n",
       "      <td>Escherichia coli</td>\n",
       "      <td>NaN</td>\n",
       "      <td>0</td>\n",
       "      <td>NaN</td>\n",
       "      <td>SP</td>\n",
       "      <td>350160</td>\n",
       "    </tr>\n",
       "    <tr>\n",
       "      <th>478</th>\n",
       "      <td>SUDESTE</td>\n",
       "      <td>GVS XVII - CAMPINAS</td>\n",
       "      <td>AMERICANA</td>\n",
       "      <td>2249/15</td>\n",
       "      <td>Rotina</td>\n",
       "      <td>SAA</td>\n",
       "      <td>S350160000001</td>\n",
       "      <td>ETA</td>\n",
       "      <td>Serviço Municipal e outros</td>\n",
       "      <td>NaN</td>\n",
       "      <td>...</td>\n",
       "      <td>NaN</td>\n",
       "      <td>NaN</td>\n",
       "      <td>NaN</td>\n",
       "      <td>NaN</td>\n",
       "      <td>Escherichia coli</td>\n",
       "      <td>NaN</td>\n",
       "      <td>0</td>\n",
       "      <td>NaN</td>\n",
       "      <td>SP</td>\n",
       "      <td>350160</td>\n",
       "    </tr>\n",
       "    <tr>\n",
       "      <th>481</th>\n",
       "      <td>SUDESTE</td>\n",
       "      <td>GVS XVII - CAMPINAS</td>\n",
       "      <td>AMERICANA</td>\n",
       "      <td>1407/15</td>\n",
       "      <td>Rotina</td>\n",
       "      <td>SAA</td>\n",
       "      <td>S350160000001</td>\n",
       "      <td>ETA</td>\n",
       "      <td>Serviço Municipal e outros</td>\n",
       "      <td>NaN</td>\n",
       "      <td>...</td>\n",
       "      <td>NaN</td>\n",
       "      <td>NaN</td>\n",
       "      <td>NaN</td>\n",
       "      <td>NaN</td>\n",
       "      <td>Escherichia coli</td>\n",
       "      <td>NaN</td>\n",
       "      <td>0</td>\n",
       "      <td>NaN</td>\n",
       "      <td>SP</td>\n",
       "      <td>350160</td>\n",
       "    </tr>\n",
       "    <tr>\n",
       "      <th>483</th>\n",
       "      <td>SUDESTE</td>\n",
       "      <td>GVS XVII - CAMPINAS</td>\n",
       "      <td>AMERICANA</td>\n",
       "      <td>2085/15</td>\n",
       "      <td>Rotina</td>\n",
       "      <td>SAA</td>\n",
       "      <td>S350160000001</td>\n",
       "      <td>ETA</td>\n",
       "      <td>Serviço Municipal e outros</td>\n",
       "      <td>NaN</td>\n",
       "      <td>...</td>\n",
       "      <td>NaN</td>\n",
       "      <td>NaN</td>\n",
       "      <td>NaN</td>\n",
       "      <td>NaN</td>\n",
       "      <td>Escherichia coli</td>\n",
       "      <td>NaN</td>\n",
       "      <td>0</td>\n",
       "      <td>NaN</td>\n",
       "      <td>SP</td>\n",
       "      <td>350160</td>\n",
       "    </tr>\n",
       "    <tr>\n",
       "      <th>487</th>\n",
       "      <td>SUDESTE</td>\n",
       "      <td>GVS XVII - CAMPINAS</td>\n",
       "      <td>AMERICANA</td>\n",
       "      <td>1955/15</td>\n",
       "      <td>Rotina</td>\n",
       "      <td>SAA</td>\n",
       "      <td>S350160000001</td>\n",
       "      <td>ETA</td>\n",
       "      <td>Serviço Municipal e outros</td>\n",
       "      <td>NaN</td>\n",
       "      <td>...</td>\n",
       "      <td>NaN</td>\n",
       "      <td>NaN</td>\n",
       "      <td>NaN</td>\n",
       "      <td>NaN</td>\n",
       "      <td>Escherichia coli</td>\n",
       "      <td>NaN</td>\n",
       "      <td>0</td>\n",
       "      <td>NaN</td>\n",
       "      <td>SP</td>\n",
       "      <td>350160</td>\n",
       "    </tr>\n",
       "  </tbody>\n",
       "</table>\n",
       "<p>5 rows × 36 columns</p>\n",
       "</div>"
      ],
      "text/plain": [
       "    Região Geográfica    Regional De Saúde  Município Número Da Amostra  \\\n",
       "475           SUDESTE  GVS XVII - CAMPINAS  AMERICANA           1330/15   \n",
       "478           SUDESTE  GVS XVII - CAMPINAS  AMERICANA           2249/15   \n",
       "481           SUDESTE  GVS XVII - CAMPINAS  AMERICANA           1407/15   \n",
       "483           SUDESTE  GVS XVII - CAMPINAS  AMERICANA           2085/15   \n",
       "487           SUDESTE  GVS XVII - CAMPINAS  AMERICANA           1955/15   \n",
       "\n",
       "    Motivo Da Coleta Tipo Da Forma De Abastecimento  \\\n",
       "475           Rotina                            SAA   \n",
       "478           Rotina                            SAA   \n",
       "481           Rotina                            SAA   \n",
       "483           Rotina                            SAA   \n",
       "487           Rotina                            SAA   \n",
       "\n",
       "    Código Forma De Abastecimento Nome Da Forma De Abastecimento  \\\n",
       "475                 S350160000001                            ETA   \n",
       "478                 S350160000001                            ETA   \n",
       "481                 S350160000001                            ETA   \n",
       "483                 S350160000001                            ETA   \n",
       "487                 S350160000001                            ETA   \n",
       "\n",
       "            Tipo Da Instituição  Sigla Da Instituição  ... Tipo Do Local  \\\n",
       "475  Serviço Municipal e outros                   NaN  ...           NaN   \n",
       "478  Serviço Municipal e outros                   NaN  ...           NaN   \n",
       "481  Serviço Municipal e outros                   NaN  ...           NaN   \n",
       "483  Serviço Municipal e outros                   NaN  ...           NaN   \n",
       "487  Serviço Municipal e outros                   NaN  ...           NaN   \n",
       "\n",
       "     Local  Latitude  Longitude  Parâmetro (Parâmetros Básicos)  \\\n",
       "475    NaN       NaN        NaN                Escherichia coli   \n",
       "478    NaN       NaN        NaN                Escherichia coli   \n",
       "481    NaN       NaN        NaN                Escherichia coli   \n",
       "483    NaN       NaN        NaN                Escherichia coli   \n",
       "487    NaN       NaN        NaN                Escherichia coli   \n",
       "\n",
       "     Análise Realizada  Resultado Providência  Uf Código Ibge  \n",
       "475                NaN          0         NaN  SP      350160  \n",
       "478                NaN          0         NaN  SP      350160  \n",
       "481                NaN          0         NaN  SP      350160  \n",
       "483                NaN          0         NaN  SP      350160  \n",
       "487                NaN          0         NaN  SP      350160  \n",
       "\n",
       "[5 rows x 36 columns]"
      ]
     },
     "execution_count": 437,
     "metadata": {},
     "output_type": "execute_result"
    }
   ],
   "source": [
    "# Select Parameters\n",
    "df_temp = df[df['Parâmetro (Parâmetros Básicos)'].str.contains('Escherichia')].copy()\n",
    "\n",
    "# Ajusta Resultados\n",
    "print(set(df_temp['Resultado']))\n",
    "df_temp['Resultado'] = df_temp['Resultado'].map({'AUSENTE': 0, 'PRESENTE': 1})\n",
    "\n",
    "df_temp.head()"
   ]
  },
  {
   "cell_type": "code",
   "execution_count": 438,
   "id": "6d6fe132-a423-4dfc-825f-5e1aec9002e4",
   "metadata": {},
   "outputs": [
    {
     "name": "stdout",
     "output_type": "stream",
     "text": [
      "['ETA']\n"
     ]
    },
    {
     "ename": "IndexError",
     "evalue": "list index out of range",
     "output_type": "error",
     "traceback": [
      "\u001b[0;31m---------------------------------------------------------------------------\u001b[0m",
      "\u001b[0;31mIndexError\u001b[0m                                Traceback (most recent call last)",
      "Input \u001b[0;32mIn [438]\u001b[0m, in \u001b[0;36m<cell line: 3>\u001b[0;34m()\u001b[0m\n\u001b[1;32m      1\u001b[0m list_formas \u001b[38;5;241m=\u001b[39m \u001b[38;5;28mlist\u001b[39m(\u001b[38;5;28mset\u001b[39m(df_temp[\u001b[38;5;124m'\u001b[39m\u001b[38;5;124mNome Da Forma De Abastecimento\u001b[39m\u001b[38;5;124m'\u001b[39m]))\n\u001b[1;32m      2\u001b[0m \u001b[38;5;28mprint\u001b[39m(list_formas)\n\u001b[0;32m----> 3\u001b[0m xaxis_column_name \u001b[38;5;241m=\u001b[39m \u001b[43mlist_formas\u001b[49m\u001b[43m[\u001b[49m\u001b[43mn_forma\u001b[49m\u001b[43m]\u001b[49m\n\u001b[1;32m      4\u001b[0m \u001b[38;5;28mprint\u001b[39m(xaxis_column_name)\n\u001b[1;32m      6\u001b[0m \u001b[38;5;66;03m# Create Figure\u001b[39;00m\n",
      "\u001b[0;31mIndexError\u001b[0m: list index out of range"
     ]
    }
   ],
   "source": [
    "list_formas = list(set(df_temp['Nome Da Forma De Abastecimento']))\n",
    "print(list_formas)\n",
    "xaxis_column_name = list_formas[n_forma]\n",
    "print(xaxis_column_name)\n",
    "\n",
    "# Create Figure\n",
    "fig = go.Figure()\n",
    "\n",
    "# Add trace\n",
    "fig.add_trace(\n",
    "    go.Scatter(\n",
    "        x=df_temp['Data Da Coleta'],\n",
    "        #y=df['Resultado'],\n",
    "        y=df_temp[df_temp['Nome Da Forma De Abastecimento'] == xaxis_column_name]['Resultado'],\n",
    "        name='conclusao',\n",
    "        mode='markers',\n",
    "        marker={'color': 'red'},\n",
    "        opacity=0.8,\n",
    "    )\n",
    ")\n",
    "\n",
    "# Udate\n",
    "fig.update_layout(\n",
    "    title='Escherichia<br><sup>\"{}\"</sup>'.format(xaxis_column_name),\n",
    "    xaxis_tickformat='%d %b<br>%Y',\n",
    "    margin={\n",
    "        'l': 40,\n",
    "        'b': 40,\n",
    "        #'t': 40,\n",
    "        'r': 0\n",
    "    },\n",
    "    #dragmode='pan',\n",
    "    hovermode='x',\n",
    "\n",
    ")\n",
    "#fig.write_html('ddd.html', config=config)\n",
    "fig"
   ]
  },
  {
   "cell_type": "markdown",
   "id": "48ecd9a5-e683-45ff-9ee4-6074d4bdab20",
   "metadata": {},
   "source": [
    "<br>\n",
    "\n",
    "## Fluoreto"
   ]
  },
  {
   "cell_type": "code",
   "execution_count": 439,
   "id": "85d9a199-0520-4997-8000-f1ce6519b9e7",
   "metadata": {},
   "outputs": [
    {
     "data": {
      "text/html": [
       "<div>\n",
       "<style scoped>\n",
       "    .dataframe tbody tr th:only-of-type {\n",
       "        vertical-align: middle;\n",
       "    }\n",
       "\n",
       "    .dataframe tbody tr th {\n",
       "        vertical-align: top;\n",
       "    }\n",
       "\n",
       "    .dataframe thead th {\n",
       "        text-align: right;\n",
       "    }\n",
       "</style>\n",
       "<table border=\"1\" class=\"dataframe\">\n",
       "  <thead>\n",
       "    <tr style=\"text-align: right;\">\n",
       "      <th></th>\n",
       "      <th>Região Geográfica</th>\n",
       "      <th>Regional De Saúde</th>\n",
       "      <th>Município</th>\n",
       "      <th>Número Da Amostra</th>\n",
       "      <th>Motivo Da Coleta</th>\n",
       "      <th>Tipo Da Forma De Abastecimento</th>\n",
       "      <th>Código Forma De Abastecimento</th>\n",
       "      <th>Nome Da Forma De Abastecimento</th>\n",
       "      <th>Tipo Da Instituição</th>\n",
       "      <th>Sigla Da Instituição</th>\n",
       "      <th>...</th>\n",
       "      <th>Tipo Do Local</th>\n",
       "      <th>Local</th>\n",
       "      <th>Latitude</th>\n",
       "      <th>Longitude</th>\n",
       "      <th>Parâmetro (Parâmetros Básicos)</th>\n",
       "      <th>Análise Realizada</th>\n",
       "      <th>Resultado</th>\n",
       "      <th>Providência</th>\n",
       "      <th>Uf</th>\n",
       "      <th>Código Ibge</th>\n",
       "    </tr>\n",
       "  </thead>\n",
       "  <tbody>\n",
       "    <tr>\n",
       "      <th>3</th>\n",
       "      <td>SUDESTE</td>\n",
       "      <td>GVS XVII - CAMPINAS</td>\n",
       "      <td>AMERICANA</td>\n",
       "      <td>0865/15</td>\n",
       "      <td>Rotina</td>\n",
       "      <td>SAA</td>\n",
       "      <td>S350160000001</td>\n",
       "      <td>ETA</td>\n",
       "      <td>Serviço Municipal e outros</td>\n",
       "      <td>NaN</td>\n",
       "      <td>...</td>\n",
       "      <td>NaN</td>\n",
       "      <td>NaN</td>\n",
       "      <td>NaN</td>\n",
       "      <td>NaN</td>\n",
       "      <td>Fluoreto (mg/L)</td>\n",
       "      <td>NaN</td>\n",
       "      <td>0.6</td>\n",
       "      <td>NaN</td>\n",
       "      <td>SP</td>\n",
       "      <td>350160</td>\n",
       "    </tr>\n",
       "    <tr>\n",
       "      <th>20</th>\n",
       "      <td>SUDESTE</td>\n",
       "      <td>GVS XVII - CAMPINAS</td>\n",
       "      <td>AMERICANA</td>\n",
       "      <td>1326/15</td>\n",
       "      <td>Rotina</td>\n",
       "      <td>SAA</td>\n",
       "      <td>S350160000001</td>\n",
       "      <td>ETA</td>\n",
       "      <td>Serviço Municipal e outros</td>\n",
       "      <td>NaN</td>\n",
       "      <td>...</td>\n",
       "      <td>NaN</td>\n",
       "      <td>NaN</td>\n",
       "      <td>NaN</td>\n",
       "      <td>NaN</td>\n",
       "      <td>Fluoreto (mg/L)</td>\n",
       "      <td>NaN</td>\n",
       "      <td>0.6</td>\n",
       "      <td>NaN</td>\n",
       "      <td>SP</td>\n",
       "      <td>350160</td>\n",
       "    </tr>\n",
       "    <tr>\n",
       "      <th>22</th>\n",
       "      <td>SUDESTE</td>\n",
       "      <td>GVS XVII - CAMPINAS</td>\n",
       "      <td>AMERICANA</td>\n",
       "      <td>1330/15</td>\n",
       "      <td>Rotina</td>\n",
       "      <td>SAA</td>\n",
       "      <td>S350160000001</td>\n",
       "      <td>ETA</td>\n",
       "      <td>Serviço Municipal e outros</td>\n",
       "      <td>NaN</td>\n",
       "      <td>...</td>\n",
       "      <td>NaN</td>\n",
       "      <td>NaN</td>\n",
       "      <td>NaN</td>\n",
       "      <td>NaN</td>\n",
       "      <td>Fluoreto (mg/L)</td>\n",
       "      <td>NaN</td>\n",
       "      <td>0.6</td>\n",
       "      <td>NaN</td>\n",
       "      <td>SP</td>\n",
       "      <td>350160</td>\n",
       "    </tr>\n",
       "    <tr>\n",
       "      <th>24</th>\n",
       "      <td>SUDESTE</td>\n",
       "      <td>GVS XVII - CAMPINAS</td>\n",
       "      <td>AMERICANA</td>\n",
       "      <td>2496/15</td>\n",
       "      <td>Rotina</td>\n",
       "      <td>SAA</td>\n",
       "      <td>S350160000001</td>\n",
       "      <td>ETA</td>\n",
       "      <td>Serviço Municipal e outros</td>\n",
       "      <td>NaN</td>\n",
       "      <td>...</td>\n",
       "      <td>NaN</td>\n",
       "      <td>NaN</td>\n",
       "      <td>NaN</td>\n",
       "      <td>NaN</td>\n",
       "      <td>Fluoreto (mg/L)</td>\n",
       "      <td>NaN</td>\n",
       "      <td>0.7</td>\n",
       "      <td>NaN</td>\n",
       "      <td>SP</td>\n",
       "      <td>350160</td>\n",
       "    </tr>\n",
       "    <tr>\n",
       "      <th>26</th>\n",
       "      <td>SUDESTE</td>\n",
       "      <td>GVS XVII - CAMPINAS</td>\n",
       "      <td>AMERICANA</td>\n",
       "      <td>1519/15</td>\n",
       "      <td>Rotina</td>\n",
       "      <td>SAA</td>\n",
       "      <td>S350160000001</td>\n",
       "      <td>ETA</td>\n",
       "      <td>Serviço Municipal e outros</td>\n",
       "      <td>NaN</td>\n",
       "      <td>...</td>\n",
       "      <td>NaN</td>\n",
       "      <td>NaN</td>\n",
       "      <td>NaN</td>\n",
       "      <td>NaN</td>\n",
       "      <td>Fluoreto (mg/L)</td>\n",
       "      <td>NaN</td>\n",
       "      <td>0.7</td>\n",
       "      <td>NaN</td>\n",
       "      <td>SP</td>\n",
       "      <td>350160</td>\n",
       "    </tr>\n",
       "  </tbody>\n",
       "</table>\n",
       "<p>5 rows × 36 columns</p>\n",
       "</div>"
      ],
      "text/plain": [
       "   Região Geográfica    Regional De Saúde  Município Número Da Amostra  \\\n",
       "3            SUDESTE  GVS XVII - CAMPINAS  AMERICANA           0865/15   \n",
       "20           SUDESTE  GVS XVII - CAMPINAS  AMERICANA           1326/15   \n",
       "22           SUDESTE  GVS XVII - CAMPINAS  AMERICANA           1330/15   \n",
       "24           SUDESTE  GVS XVII - CAMPINAS  AMERICANA           2496/15   \n",
       "26           SUDESTE  GVS XVII - CAMPINAS  AMERICANA           1519/15   \n",
       "\n",
       "   Motivo Da Coleta Tipo Da Forma De Abastecimento  \\\n",
       "3            Rotina                            SAA   \n",
       "20           Rotina                            SAA   \n",
       "22           Rotina                            SAA   \n",
       "24           Rotina                            SAA   \n",
       "26           Rotina                            SAA   \n",
       "\n",
       "   Código Forma De Abastecimento Nome Da Forma De Abastecimento  \\\n",
       "3                  S350160000001                            ETA   \n",
       "20                 S350160000001                            ETA   \n",
       "22                 S350160000001                            ETA   \n",
       "24                 S350160000001                            ETA   \n",
       "26                 S350160000001                            ETA   \n",
       "\n",
       "           Tipo Da Instituição  Sigla Da Instituição  ... Tipo Do Local  \\\n",
       "3   Serviço Municipal e outros                   NaN  ...           NaN   \n",
       "20  Serviço Municipal e outros                   NaN  ...           NaN   \n",
       "22  Serviço Municipal e outros                   NaN  ...           NaN   \n",
       "24  Serviço Municipal e outros                   NaN  ...           NaN   \n",
       "26  Serviço Municipal e outros                   NaN  ...           NaN   \n",
       "\n",
       "    Local  Latitude  Longitude  Parâmetro (Parâmetros Básicos)  \\\n",
       "3     NaN       NaN        NaN                 Fluoreto (mg/L)   \n",
       "20    NaN       NaN        NaN                 Fluoreto (mg/L)   \n",
       "22    NaN       NaN        NaN                 Fluoreto (mg/L)   \n",
       "24    NaN       NaN        NaN                 Fluoreto (mg/L)   \n",
       "26    NaN       NaN        NaN                 Fluoreto (mg/L)   \n",
       "\n",
       "    Análise Realizada  Resultado Providência  Uf Código Ibge  \n",
       "3                 NaN        0.6         NaN  SP      350160  \n",
       "20                NaN        0.6         NaN  SP      350160  \n",
       "22                NaN        0.6         NaN  SP      350160  \n",
       "24                NaN        0.7         NaN  SP      350160  \n",
       "26                NaN        0.7         NaN  SP      350160  \n",
       "\n",
       "[5 rows x 36 columns]"
      ]
     },
     "execution_count": 439,
     "metadata": {},
     "output_type": "execute_result"
    }
   ],
   "source": [
    "# Select Parameters\n",
    "df_temp = df[df['Parâmetro (Parâmetros Básicos)'].str.contains('Fluoreto')].copy()\n",
    "\n",
    "# Ajusta Resultados\n",
    "df_temp['Resultado'] = df_temp['Resultado'].astype(str).str.replace(',','.')\n",
    "df_temp['Resultado'] = df_temp['Resultado'].astype(float).fillna(0.0)\n",
    "df_temp.head()"
   ]
  },
  {
   "cell_type": "code",
   "execution_count": 440,
   "id": "91de9a5d-b2f8-4ae4-905b-f6bef277c3c8",
   "metadata": {},
   "outputs": [
    {
     "name": "stdout",
     "output_type": "stream",
     "text": [
      "['ETA']\n"
     ]
    },
    {
     "ename": "IndexError",
     "evalue": "list index out of range",
     "output_type": "error",
     "traceback": [
      "\u001b[0;31m---------------------------------------------------------------------------\u001b[0m",
      "\u001b[0;31mIndexError\u001b[0m                                Traceback (most recent call last)",
      "Input \u001b[0;32mIn [440]\u001b[0m, in \u001b[0;36m<cell line: 3>\u001b[0;34m()\u001b[0m\n\u001b[1;32m      1\u001b[0m list_formas \u001b[38;5;241m=\u001b[39m \u001b[38;5;28mlist\u001b[39m(\u001b[38;5;28mset\u001b[39m(df_temp[\u001b[38;5;124m'\u001b[39m\u001b[38;5;124mNome Da Forma De Abastecimento\u001b[39m\u001b[38;5;124m'\u001b[39m]))\n\u001b[1;32m      2\u001b[0m \u001b[38;5;28mprint\u001b[39m(list_formas)\n\u001b[0;32m----> 3\u001b[0m xaxis_column_name \u001b[38;5;241m=\u001b[39m \u001b[43mlist_formas\u001b[49m\u001b[43m[\u001b[49m\u001b[43mn_forma\u001b[49m\u001b[43m]\u001b[49m\n\u001b[1;32m      4\u001b[0m \u001b[38;5;28mprint\u001b[39m(xaxis_column_name)\n\u001b[1;32m      6\u001b[0m \u001b[38;5;66;03m# Create Figure\u001b[39;00m\n",
      "\u001b[0;31mIndexError\u001b[0m: list index out of range"
     ]
    }
   ],
   "source": [
    "list_formas = list(set(df_temp['Nome Da Forma De Abastecimento']))\n",
    "print(list_formas)\n",
    "xaxis_column_name = list_formas[n_forma]\n",
    "print(xaxis_column_name)\n",
    "\n",
    "# Create Figure\n",
    "fig = go.Figure()\n",
    "\n",
    "# Add trace\n",
    "fig.add_trace(\n",
    "    go.Scatter(\n",
    "        x=df_temp['Data Da Coleta'],\n",
    "        #y=df['Resultado'],\n",
    "        y=df_temp[df_temp['Nome Da Forma De Abastecimento'] == xaxis_column_name]['Resultado'],\n",
    "        name='conclusao',\n",
    "        mode='markers',\n",
    "        marker={'color': 'red'},\n",
    "        opacity=0.8,\n",
    "    )\n",
    ")\n",
    "\n",
    "# Udate\n",
    "fig.update_layout(\n",
    "    title='Fluoereto<br><sup>\"{}\"</sup>'.format(xaxis_column_name),\n",
    "    xaxis_tickformat='%d %b<br>%Y',\n",
    "    margin={\n",
    "        'l': 40,\n",
    "        'b': 40,\n",
    "        #'t': 40,\n",
    "        'r': 0\n",
    "    },\n",
    "    #dragmode='pan',\n",
    "    hovermode='x',\n",
    "\n",
    ")\n",
    "#fig.write_html('ddd.html', config=config)\n",
    "fig"
   ]
  },
  {
   "cell_type": "markdown",
   "id": "78eceaee-f005-4c8f-93f6-19843d83ef93",
   "metadata": {},
   "source": [
    "<br>\n",
    "\n",
    "## Turbidez\n",
    "\n",
    "Art. 28 Para a garantia da qualidade microbiológica da água, em complementação às exigências relativas aos indicadores microbiológicos, deve ser atendido o padrão de turbidez expresso no Anexo 2 e devem ser observadas as demais exigências contidas neste Anexo.\n",
    "\n",
    "§ 2º Em toda a extensão do sistema de distribuição (reservatório e rede) ou pontos de consumo deverá atender ao VMP de 5,0 uT para turbidez."
   ]
  },
  {
   "cell_type": "code",
   "execution_count": 441,
   "id": "ffa895e6-912c-4ce0-a669-7701fd83c113",
   "metadata": {},
   "outputs": [
    {
     "data": {
      "text/html": [
       "<div>\n",
       "<style scoped>\n",
       "    .dataframe tbody tr th:only-of-type {\n",
       "        vertical-align: middle;\n",
       "    }\n",
       "\n",
       "    .dataframe tbody tr th {\n",
       "        vertical-align: top;\n",
       "    }\n",
       "\n",
       "    .dataframe thead th {\n",
       "        text-align: right;\n",
       "    }\n",
       "</style>\n",
       "<table border=\"1\" class=\"dataframe\">\n",
       "  <thead>\n",
       "    <tr style=\"text-align: right;\">\n",
       "      <th></th>\n",
       "      <th>Região Geográfica</th>\n",
       "      <th>Regional De Saúde</th>\n",
       "      <th>Município</th>\n",
       "      <th>Número Da Amostra</th>\n",
       "      <th>Motivo Da Coleta</th>\n",
       "      <th>Tipo Da Forma De Abastecimento</th>\n",
       "      <th>Código Forma De Abastecimento</th>\n",
       "      <th>Nome Da Forma De Abastecimento</th>\n",
       "      <th>Tipo Da Instituição</th>\n",
       "      <th>Sigla Da Instituição</th>\n",
       "      <th>...</th>\n",
       "      <th>Tipo Do Local</th>\n",
       "      <th>Local</th>\n",
       "      <th>Latitude</th>\n",
       "      <th>Longitude</th>\n",
       "      <th>Parâmetro (Parâmetros Básicos)</th>\n",
       "      <th>Análise Realizada</th>\n",
       "      <th>Resultado</th>\n",
       "      <th>Providência</th>\n",
       "      <th>Uf</th>\n",
       "      <th>Código Ibge</th>\n",
       "    </tr>\n",
       "  </thead>\n",
       "  <tbody>\n",
       "    <tr>\n",
       "      <th>0</th>\n",
       "      <td>SUDESTE</td>\n",
       "      <td>GVS XVII - CAMPINAS</td>\n",
       "      <td>AMERICANA</td>\n",
       "      <td>2308/15</td>\n",
       "      <td>Rotina</td>\n",
       "      <td>SAA</td>\n",
       "      <td>S350160000001</td>\n",
       "      <td>ETA</td>\n",
       "      <td>Serviço Municipal e outros</td>\n",
       "      <td>NaN</td>\n",
       "      <td>...</td>\n",
       "      <td>NaN</td>\n",
       "      <td>NaN</td>\n",
       "      <td>NaN</td>\n",
       "      <td>NaN</td>\n",
       "      <td>Turbidez (uT)</td>\n",
       "      <td>EM_LABORATORIO</td>\n",
       "      <td>0.8</td>\n",
       "      <td>NaN</td>\n",
       "      <td>SP</td>\n",
       "      <td>350160</td>\n",
       "    </tr>\n",
       "    <tr>\n",
       "      <th>6</th>\n",
       "      <td>SUDESTE</td>\n",
       "      <td>GVS XVII - CAMPINAS</td>\n",
       "      <td>AMERICANA</td>\n",
       "      <td>2496/15</td>\n",
       "      <td>Rotina</td>\n",
       "      <td>SAA</td>\n",
       "      <td>S350160000001</td>\n",
       "      <td>ETA</td>\n",
       "      <td>Serviço Municipal e outros</td>\n",
       "      <td>NaN</td>\n",
       "      <td>...</td>\n",
       "      <td>NaN</td>\n",
       "      <td>NaN</td>\n",
       "      <td>NaN</td>\n",
       "      <td>NaN</td>\n",
       "      <td>Turbidez (uT)</td>\n",
       "      <td>EM_LABORATORIO</td>\n",
       "      <td>1.2</td>\n",
       "      <td>NaN</td>\n",
       "      <td>SP</td>\n",
       "      <td>350160</td>\n",
       "    </tr>\n",
       "    <tr>\n",
       "      <th>10</th>\n",
       "      <td>SUDESTE</td>\n",
       "      <td>GVS XVII - CAMPINAS</td>\n",
       "      <td>AMERICANA</td>\n",
       "      <td>0812/15</td>\n",
       "      <td>Rotina</td>\n",
       "      <td>SAA</td>\n",
       "      <td>S350160000001</td>\n",
       "      <td>ETA</td>\n",
       "      <td>Serviço Municipal e outros</td>\n",
       "      <td>NaN</td>\n",
       "      <td>...</td>\n",
       "      <td>NaN</td>\n",
       "      <td>NaN</td>\n",
       "      <td>NaN</td>\n",
       "      <td>NaN</td>\n",
       "      <td>Turbidez (uT)</td>\n",
       "      <td>EM_CAMPO</td>\n",
       "      <td>1.2</td>\n",
       "      <td>NaN</td>\n",
       "      <td>SP</td>\n",
       "      <td>350160</td>\n",
       "    </tr>\n",
       "    <tr>\n",
       "      <th>16</th>\n",
       "      <td>SUDESTE</td>\n",
       "      <td>GVS XVII - CAMPINAS</td>\n",
       "      <td>AMERICANA</td>\n",
       "      <td>2500/15</td>\n",
       "      <td>Rotina</td>\n",
       "      <td>SAA</td>\n",
       "      <td>S350160000001</td>\n",
       "      <td>ETA</td>\n",
       "      <td>Serviço Municipal e outros</td>\n",
       "      <td>NaN</td>\n",
       "      <td>...</td>\n",
       "      <td>NaN</td>\n",
       "      <td>NaN</td>\n",
       "      <td>NaN</td>\n",
       "      <td>NaN</td>\n",
       "      <td>Turbidez (uT)</td>\n",
       "      <td>EM_CAMPO</td>\n",
       "      <td>0.8</td>\n",
       "      <td>NaN</td>\n",
       "      <td>SP</td>\n",
       "      <td>350160</td>\n",
       "    </tr>\n",
       "    <tr>\n",
       "      <th>17</th>\n",
       "      <td>SUDESTE</td>\n",
       "      <td>GVS XVII - CAMPINAS</td>\n",
       "      <td>AMERICANA</td>\n",
       "      <td>2312/15</td>\n",
       "      <td>Rotina</td>\n",
       "      <td>SAA</td>\n",
       "      <td>S350160000001</td>\n",
       "      <td>ETA</td>\n",
       "      <td>Serviço Municipal e outros</td>\n",
       "      <td>NaN</td>\n",
       "      <td>...</td>\n",
       "      <td>NaN</td>\n",
       "      <td>NaN</td>\n",
       "      <td>NaN</td>\n",
       "      <td>NaN</td>\n",
       "      <td>Turbidez (uT)</td>\n",
       "      <td>EM_CAMPO</td>\n",
       "      <td>0.6</td>\n",
       "      <td>NaN</td>\n",
       "      <td>SP</td>\n",
       "      <td>350160</td>\n",
       "    </tr>\n",
       "  </tbody>\n",
       "</table>\n",
       "<p>5 rows × 36 columns</p>\n",
       "</div>"
      ],
      "text/plain": [
       "   Região Geográfica    Regional De Saúde  Município Número Da Amostra  \\\n",
       "0            SUDESTE  GVS XVII - CAMPINAS  AMERICANA           2308/15   \n",
       "6            SUDESTE  GVS XVII - CAMPINAS  AMERICANA           2496/15   \n",
       "10           SUDESTE  GVS XVII - CAMPINAS  AMERICANA           0812/15   \n",
       "16           SUDESTE  GVS XVII - CAMPINAS  AMERICANA           2500/15   \n",
       "17           SUDESTE  GVS XVII - CAMPINAS  AMERICANA           2312/15   \n",
       "\n",
       "   Motivo Da Coleta Tipo Da Forma De Abastecimento  \\\n",
       "0            Rotina                            SAA   \n",
       "6            Rotina                            SAA   \n",
       "10           Rotina                            SAA   \n",
       "16           Rotina                            SAA   \n",
       "17           Rotina                            SAA   \n",
       "\n",
       "   Código Forma De Abastecimento Nome Da Forma De Abastecimento  \\\n",
       "0                  S350160000001                            ETA   \n",
       "6                  S350160000001                            ETA   \n",
       "10                 S350160000001                            ETA   \n",
       "16                 S350160000001                            ETA   \n",
       "17                 S350160000001                            ETA   \n",
       "\n",
       "           Tipo Da Instituição  Sigla Da Instituição  ... Tipo Do Local  \\\n",
       "0   Serviço Municipal e outros                   NaN  ...           NaN   \n",
       "6   Serviço Municipal e outros                   NaN  ...           NaN   \n",
       "10  Serviço Municipal e outros                   NaN  ...           NaN   \n",
       "16  Serviço Municipal e outros                   NaN  ...           NaN   \n",
       "17  Serviço Municipal e outros                   NaN  ...           NaN   \n",
       "\n",
       "    Local  Latitude  Longitude  Parâmetro (Parâmetros Básicos)  \\\n",
       "0     NaN       NaN        NaN                   Turbidez (uT)   \n",
       "6     NaN       NaN        NaN                   Turbidez (uT)   \n",
       "10    NaN       NaN        NaN                   Turbidez (uT)   \n",
       "16    NaN       NaN        NaN                   Turbidez (uT)   \n",
       "17    NaN       NaN        NaN                   Turbidez (uT)   \n",
       "\n",
       "    Análise Realizada  Resultado Providência  Uf Código Ibge  \n",
       "0      EM_LABORATORIO        0.8         NaN  SP      350160  \n",
       "6      EM_LABORATORIO        1.2         NaN  SP      350160  \n",
       "10           EM_CAMPO        1.2         NaN  SP      350160  \n",
       "16           EM_CAMPO        0.8         NaN  SP      350160  \n",
       "17           EM_CAMPO        0.6         NaN  SP      350160  \n",
       "\n",
       "[5 rows x 36 columns]"
      ]
     },
     "execution_count": 441,
     "metadata": {},
     "output_type": "execute_result"
    }
   ],
   "source": [
    "# Select Parameters\n",
    "df_temp = df[df['Parâmetro (Parâmetros Básicos)'].str.contains('Turbidez')].copy()\n",
    "\n",
    "# Ajusta Resultados\n",
    "df_temp['Resultado'] = df_temp['Resultado'].astype(str).str.replace(',','.')\n",
    "df_temp['Resultado'] = df_temp['Resultado'].astype(float).fillna(0.0)\n",
    "df_temp.head()"
   ]
  },
  {
   "cell_type": "code",
   "execution_count": 399,
   "id": "c3245d7f-9fb2-42e2-aa15-4e3571a695cd",
   "metadata": {},
   "outputs": [
    {
     "name": "stdout",
     "output_type": "stream",
     "text": [
      "['ETA']\n",
      "ETA\n"
     ]
    },
    {
     "data": {
      "application/vnd.plotly.v1+json": {
       "config": {
        "plotlyServerURL": "https://plot.ly"
       },
       "data": [
        {
         "marker": {
          "color": "red"
         },
         "mode": "markers",
         "name": "conclusao",
         "opacity": 0.8,
         "type": "scatter",
         "x": [
          "2015-05-26T00:00:00",
          "2015-06-16T00:00:00",
          "2015-02-23T00:00:00",
          "2015-06-09T00:00:00",
          "2015-05-26T00:00:00",
          "2015-04-07T00:00:00",
          "2015-05-26T00:00:00",
          "2015-05-21T00:00:00",
          "2015-05-21T00:00:00",
          "2015-02-23T00:00:00",
          "2015-05-21T00:00:00",
          "2015-03-31T00:00:00",
          "2015-05-12T00:00:00",
          "2015-03-03T00:00:00",
          "2015-05-05T00:00:00",
          "2015-06-02T00:00:00",
          "2015-03-31T00:00:00",
          "2015-04-07T00:00:00",
          "2015-02-24T00:00:00",
          "2015-06-16T00:00:00",
          "2015-02-10T00:00:00",
          "2015-02-03T00:00:00",
          "2015-04-15T00:00:00",
          "2015-03-03T00:00:00",
          "2015-04-14T00:00:00",
          "2015-05-12T00:00:00",
          "2015-03-24T00:00:00",
          "2015-03-24T00:00:00",
          "2015-03-10T00:00:00",
          "2015-04-22T00:00:00",
          "2015-04-22T00:00:00",
          "2015-05-05T00:00:00",
          "2015-04-28T00:00:00",
          "2015-06-09T00:00:00",
          "2015-05-12T00:00:00",
          "2015-04-28T00:00:00",
          "2015-02-03T00:00:00",
          "2015-04-14T00:00:00",
          "2015-05-21T00:00:00",
          "2015-05-26T00:00:00",
          "2015-04-22T00:00:00",
          "2015-02-03T00:00:00",
          "2015-05-21T00:00:00",
          "2015-03-24T00:00:00",
          "2015-03-10T00:00:00",
          "2015-02-23T00:00:00",
          "2015-02-10T00:00:00",
          "2015-04-22T00:00:00",
          "2015-02-10T00:00:00",
          "2015-05-05T00:00:00",
          "2015-04-07T00:00:00",
          "2015-03-31T00:00:00",
          "2015-05-12T00:00:00",
          "2015-02-10T00:00:00",
          "2015-04-07T00:00:00",
          "2015-05-12T00:00:00",
          "2015-02-24T00:00:00",
          "2015-06-09T00:00:00",
          "2015-04-07T00:00:00",
          "2015-04-14T00:00:00",
          "2015-02-10T00:00:00",
          "2015-04-22T00:00:00",
          "2015-05-05T00:00:00",
          "2015-02-24T00:00:00",
          "2015-05-26T00:00:00",
          "2015-02-24T00:00:00",
          "2015-03-10T00:00:00",
          "2015-06-15T00:00:00",
          "2015-03-31T00:00:00",
          "2015-03-27T00:00:00",
          "2015-02-24T00:00:00",
          "2015-04-28T00:00:00",
          "2015-06-02T00:00:00",
          "2015-03-31T00:00:00",
          "2015-06-09T00:00:00",
          "2015-02-23T00:00:00",
          "2015-04-14T00:00:00",
          "2015-03-24T00:00:00",
          "2015-04-14T00:00:00",
          "2015-03-03T00:00:00",
          "2015-06-16T00:00:00",
          "2015-03-10T00:00:00",
          "2015-05-21T00:00:00",
          "2015-03-03T00:00:00",
          "2015-02-03T00:00:00",
          "2015-05-05T00:00:00",
          "2015-04-14T00:00:00",
          "2015-02-03T00:00:00",
          "2015-05-05T00:00:00",
          "2015-02-10T00:00:00",
          "2015-03-31T00:00:00",
          "2015-02-23T00:00:00",
          "2015-06-02T00:00:00",
          "2015-05-26T00:00:00",
          "2015-02-24T00:00:00",
          "2015-02-03T00:00:00",
          "2015-06-02T00:00:00",
          "2015-06-16T00:00:00",
          "2015-04-22T00:00:00",
          "2015-06-09T00:00:00",
          "2015-04-28T00:00:00",
          "2015-03-24T00:00:00",
          "2015-03-10T00:00:00",
          "2015-03-03T00:00:00",
          "2015-04-28T00:00:00",
          "2015-06-16T00:00:00",
          "2018-07-24T00:00:00",
          "2018-12-06T00:00:00",
          "2018-03-06T00:00:00",
          "2018-10-23T00:00:00",
          "2018-04-24T00:00:00",
          "2018-05-15T00:00:00",
          "2018-06-26T00:00:00",
          "2018-10-23T00:00:00",
          "2018-10-09T00:00:00",
          "2018-08-28T00:00:00",
          "2018-07-24T00:00:00",
          "2018-03-06T00:00:00",
          "2018-01-16T00:00:00",
          "2018-11-13T00:00:00",
          "2018-06-12T00:00:00",
          "2018-12-06T00:00:00",
          "2018-06-12T00:00:00",
          "2018-03-27T00:00:00",
          "2018-12-11T00:00:00",
          "2018-04-24T00:00:00",
          "2018-04-24T00:00:00",
          "2018-07-24T00:00:00",
          "2018-03-27T00:00:00",
          "2018-04-10T00:00:00",
          "2018-03-20T00:00:00",
          "2018-07-24T00:00:00",
          "2018-09-11T00:00:00",
          "2018-01-16T00:00:00",
          "2018-03-06T00:00:00",
          "2018-02-20T00:00:00",
          "2018-03-27T00:00:00",
          "2018-09-25T00:00:00",
          "2018-09-11T00:00:00",
          "2018-11-27T00:00:00",
          "2018-10-23T00:00:00",
          "2018-11-27T00:00:00",
          "2018-10-23T00:00:00",
          "2018-02-20T00:00:00",
          "2018-02-27T00:00:00",
          "2018-04-24T00:00:00",
          "2018-02-27T00:00:00",
          "2018-10-09T00:00:00",
          "2018-09-11T00:00:00",
          "2018-04-10T00:00:00",
          "2018-10-23T00:00:00",
          "2018-08-28T00:00:00",
          "2018-06-12T00:00:00",
          "2018-12-11T00:00:00",
          "2018-07-10T00:00:00",
          "2018-08-14T00:00:00",
          "2018-03-27T00:00:00",
          "2018-07-10T00:00:00",
          "2018-11-13T00:00:00",
          "2018-12-11T00:00:00",
          "2018-03-27T00:00:00",
          "2018-08-28T00:00:00",
          "2018-03-20T00:00:00",
          "2018-08-14T00:00:00",
          "2018-03-06T00:00:00",
          "2018-10-09T00:00:00",
          "2018-06-26T00:00:00",
          "2018-11-27T00:00:00",
          "2018-06-26T00:00:00",
          "2018-03-20T00:00:00",
          "2018-09-25T00:00:00",
          "2018-05-15T00:00:00",
          "2018-06-12T00:00:00",
          "2018-02-27T00:00:00",
          "2018-08-28T00:00:00",
          "2018-09-25T00:00:00",
          "2018-07-24T00:00:00",
          "2018-02-20T00:00:00",
          "2018-01-16T00:00:00",
          "2018-02-20T00:00:00",
          "2018-12-11T00:00:00",
          "2018-08-14T00:00:00",
          "2018-05-15T00:00:00",
          "2018-11-13T00:00:00",
          "2018-03-06T00:00:00",
          "2018-08-14T00:00:00",
          "2018-02-27T00:00:00",
          "2018-09-25T00:00:00",
          "2018-12-06T00:00:00",
          "2018-07-10T00:00:00",
          "2018-07-10T00:00:00",
          "2018-05-15T00:00:00",
          "2018-10-09T00:00:00",
          "2018-11-27T00:00:00",
          "2018-01-16T00:00:00",
          "2018-08-14T00:00:00",
          "2018-08-28T00:00:00",
          "2018-04-10T00:00:00",
          "2018-11-27T00:00:00",
          "2018-12-06T00:00:00",
          "2018-04-24T00:00:00",
          "2018-12-06T00:00:00",
          "2018-07-10T00:00:00",
          "2018-03-20T00:00:00",
          "2018-03-06T00:00:00",
          "2018-11-13T00:00:00",
          "2018-04-10T00:00:00",
          "2018-02-27T00:00:00",
          "2018-09-11T00:00:00",
          "2019-01-29T00:00:00",
          "2019-09-24T00:00:00",
          "2019-01-15T00:00:00",
          "2019-03-12T00:00:00",
          "2019-12-05T00:00:00",
          "2019-02-26T00:00:00",
          "2019-01-15T00:00:00",
          "2019-06-11T00:00:00",
          "2019-04-09T00:00:00",
          "2019-03-26T00:00:00",
          "2019-11-12T00:00:00",
          "2019-02-12T00:00:00",
          "2019-12-05T00:00:00",
          "2019-03-12T00:00:00",
          "2019-01-29T00:00:00",
          "2019-03-26T00:00:00",
          "2019-12-05T00:00:00",
          "2019-01-15T00:00:00",
          "2019-06-11T00:00:00",
          "2019-01-15T00:00:00",
          "2019-05-14T00:00:00",
          "2019-09-24T00:00:00",
          "2019-11-07T00:00:00",
          "2019-02-12T00:00:00",
          "2019-08-13T00:00:00",
          "2019-01-29T00:00:00",
          "2019-04-09T00:00:00",
          "2019-05-22T00:00:00",
          "2019-04-23T00:00:00",
          "2019-12-05T00:00:00",
          "2019-02-12T00:00:00",
          "2019-07-30T00:00:00",
          "2019-04-23T00:00:00",
          "2019-02-26T00:00:00",
          "2019-03-12T00:00:00",
          "2019-05-14T00:00:00",
          "2019-01-29T00:00:00",
          "2019-02-26T00:00:00",
          "2019-06-25T00:00:00",
          "2019-06-25T00:00:00",
          "2019-05-14T00:00:00",
          "2019-06-25T00:00:00",
          "2019-04-23T00:00:00",
          "2019-05-22T00:00:00",
          "2019-06-11T00:00:00",
          "2019-09-24T00:00:00",
          "2019-04-23T00:00:00",
          "2019-05-22T00:00:00",
          "2019-06-11T00:00:00",
          "2019-11-12T00:00:00",
          "2019-05-14T00:00:00",
          "2019-03-26T00:00:00",
          "2019-01-29T00:00:00",
          "2019-02-26T00:00:00",
          "2019-01-29T00:00:00",
          "2019-01-15T00:00:00",
          "2019-09-24T00:00:00",
          "2019-11-07T00:00:00",
          "2019-09-24T00:00:00",
          "2019-07-30T00:00:00",
          "2019-06-25T00:00:00",
          "2019-05-22T00:00:00",
          "2019-06-11T00:00:00",
          "2019-11-07T00:00:00",
          "2019-12-05T00:00:00",
          "2019-11-07T00:00:00",
          "2019-03-26T00:00:00",
          "2019-03-12T00:00:00",
          "2019-07-30T00:00:00",
          "2019-12-05T00:00:00",
          "2019-05-14T00:00:00",
          "2019-11-07T00:00:00",
          "2019-03-12T00:00:00",
          "2019-02-26T00:00:00",
          "2019-04-23T00:00:00",
          "2019-04-09T00:00:00",
          "2019-06-25T00:00:00",
          "2019-04-23T00:00:00",
          "2019-07-30T00:00:00",
          "2019-03-26T00:00:00",
          "2019-03-12T00:00:00",
          "2019-01-15T00:00:00",
          "2019-03-26T00:00:00",
          "2019-04-09T00:00:00",
          "2019-07-30T00:00:00",
          "2019-06-25T00:00:00",
          "2019-02-12T00:00:00",
          "2019-05-14T00:00:00",
          "2019-06-11T00:00:00",
          "2019-07-30T00:00:00",
          "2019-12-05T00:00:00",
          "2019-08-13T00:00:00",
          "2019-08-13T00:00:00",
          "2019-05-22T00:00:00",
          "2019-08-13T00:00:00",
          "2019-11-07T00:00:00",
          "2019-12-05T00:00:00",
          "2019-08-13T00:00:00",
          "2019-04-09T00:00:00",
          "2019-02-26T00:00:00",
          "2019-08-13T00:00:00",
          "2019-05-22T00:00:00",
          "2019-02-12T00:00:00",
          "2020-01-14T00:00:00",
          "2020-12-15T00:00:00",
          "2020-10-27T00:00:00",
          "2020-07-28T00:00:00",
          "2020-08-31T00:00:00",
          "2020-03-10T00:00:00",
          "2020-11-17T00:00:00",
          "2020-06-30T00:00:00",
          "2020-07-21T00:00:00",
          "2020-01-14T00:00:00",
          "2020-12-10T00:00:00",
          "2020-06-04T00:00:00",
          "2020-03-10T00:00:00",
          "2020-12-15T00:00:00",
          "2020-07-28T00:00:00",
          "2020-06-04T00:00:00",
          "2020-06-23T00:00:00",
          "2020-09-22T00:00:00",
          "2020-01-14T00:00:00",
          "2020-08-31T00:00:00",
          "2020-06-30T00:00:00",
          "2020-09-22T00:00:00",
          "2020-07-21T00:00:00",
          "2020-11-17T00:00:00",
          "2020-02-11T00:00:00",
          "2020-06-04T00:00:00",
          "2020-06-04T00:00:00",
          "2020-06-23T00:00:00",
          "2020-06-30T00:00:00",
          "2020-10-27T00:00:00",
          "2020-02-20T00:00:00",
          "2020-11-24T00:00:00",
          "2020-10-27T00:00:00",
          "2020-01-28T00:00:00",
          "2020-09-22T00:00:00",
          "2020-11-17T00:00:00",
          "2020-02-11T00:00:00",
          "2020-07-21T00:00:00",
          "2020-09-22T00:00:00",
          "2020-07-28T00:00:00",
          "2020-02-11T00:00:00",
          "2020-03-10T00:00:00",
          "2020-06-30T00:00:00",
          "2020-12-15T00:00:00",
          "2020-07-21T00:00:00",
          "2020-06-04T00:00:00",
          "2020-08-31T00:00:00",
          "2020-09-15T00:00:00",
          "2020-10-20T00:00:00",
          "2020-07-28T00:00:00",
          "2020-01-28T00:00:00",
          "2020-03-10T00:00:00",
          "2020-11-24T00:00:00",
          "2020-11-24T00:00:00",
          "2020-02-20T00:00:00",
          "2020-12-10T00:00:00",
          "2020-02-20T00:00:00",
          "2020-06-30T00:00:00",
          "2020-07-28T00:00:00",
          "2020-02-11T00:00:00",
          "2020-03-10T00:00:00",
          "2020-07-21T00:00:00",
          "2020-10-20T00:00:00",
          "2020-07-28T00:00:00",
          "2020-01-14T00:00:00",
          "2020-11-24T00:00:00",
          "2020-10-20T00:00:00",
          "2020-02-11T00:00:00",
          "2020-09-15T00:00:00",
          "2020-08-31T00:00:00",
          "2020-10-27T00:00:00",
          "2020-12-15T00:00:00",
          "2020-01-28T00:00:00",
          "2020-08-31T00:00:00",
          "2020-03-10T00:00:00",
          "2020-08-25T00:00:00",
          "2020-10-20T00:00:00",
          "2020-10-20T00:00:00",
          "2020-09-15T00:00:00",
          "2020-07-28T00:00:00",
          "2020-12-10T00:00:00",
          "2020-12-10T00:00:00",
          "2020-10-27T00:00:00",
          "2020-06-30T00:00:00",
          "2020-08-25T00:00:00",
          "2020-02-20T00:00:00",
          "2020-11-24T00:00:00",
          "2020-02-20T00:00:00",
          "2020-12-15T00:00:00",
          "2020-10-27T00:00:00",
          "2020-08-25T00:00:00",
          "2020-01-28T00:00:00",
          "2020-09-22T00:00:00",
          "2020-08-25T00:00:00",
          "2020-01-28T00:00:00",
          "2020-06-23T00:00:00",
          "2020-06-30T00:00:00",
          "2020-08-25T00:00:00",
          "2020-09-15T00:00:00",
          "2020-09-22T00:00:00",
          "2020-07-21T00:00:00",
          "2020-11-17T00:00:00",
          "2020-09-22T00:00:00",
          "2020-02-11T00:00:00",
          "2020-08-31T00:00:00",
          "2020-11-24T00:00:00",
          "2020-01-14T00:00:00",
          "2020-11-24T00:00:00",
          "2020-12-10T00:00:00",
          "2020-12-10T00:00:00",
          "2020-08-25T00:00:00",
          "2020-09-15T00:00:00",
          "2020-12-15T00:00:00",
          "2020-06-23T00:00:00",
          "2020-10-20T00:00:00",
          "2020-02-20T00:00:00",
          "2020-01-14T00:00:00",
          "2020-01-28T00:00:00",
          "2020-06-04T00:00:00",
          "2020-06-23T00:00:00",
          "2020-11-17T00:00:00",
          "2020-09-15T00:00:00",
          "2020-12-10T00:00:00",
          "2020-10-20T00:00:00",
          "2020-06-23T00:00:00",
          "2021-01-28T00:00:00",
          "2021-12-21T00:00:00",
          "2021-11-23T00:00:00",
          "2021-03-16T00:00:00",
          "2021-09-14T00:00:00",
          "2021-04-13T00:00:00",
          "2021-09-21T00:00:00",
          "2021-05-25T00:00:00",
          "2021-08-24T00:00:00",
          "2021-08-10T00:00:00",
          "2021-02-04T00:00:00",
          "2021-07-20T00:00:00",
          "2021-04-13T00:00:00",
          "2021-02-04T00:00:00",
          "2021-04-27T00:00:00",
          "2021-11-30T00:00:00",
          "2021-10-05T00:00:00",
          "2021-07-27T00:00:00",
          "2021-02-04T00:00:00",
          "2021-11-16T00:00:00",
          "2021-03-02T00:00:00",
          "2021-10-05T00:00:00",
          "2021-10-19T00:00:00",
          "2021-07-13T00:00:00",
          "2021-11-23T00:00:00",
          "2021-05-04T00:00:00",
          "2021-08-03T00:00:00",
          "2021-03-09T00:00:00",
          "2021-02-11T00:00:00",
          "2021-04-06T00:00:00",
          "2021-07-20T00:00:00",
          "2021-06-08T00:00:00",
          "2021-11-09T00:00:00",
          "2021-01-14T00:00:00",
          "2021-03-02T00:00:00",
          "2021-10-19T00:00:00",
          "2021-07-06T00:00:00",
          "2021-01-28T00:00:00",
          "2021-10-19T00:00:00",
          "2021-09-21T00:00:00",
          "2021-06-22T00:00:00",
          "2021-05-11T00:00:00",
          "2021-02-11T00:00:00",
          "2021-01-14T00:00:00",
          "2021-03-02T00:00:00",
          "2021-12-06T00:00:00",
          "2021-04-13T00:00:00",
          "2021-11-30T00:00:00",
          "2021-04-19T00:00:00",
          "2021-01-14T00:00:00",
          "2021-06-15T00:00:00",
          "2021-04-27T00:00:00",
          "2021-04-19T00:00:00",
          "2021-12-21T00:00:00",
          "2021-05-18T00:00:00",
          "2021-02-11T00:00:00",
          "2021-07-20T00:00:00",
          "2021-02-04T00:00:00",
          "2021-01-28T00:00:00",
          "2021-12-21T00:00:00",
          "2021-03-02T00:00:00",
          "2021-09-09T00:00:00",
          "2021-06-29T00:00:00",
          "2021-03-16T00:00:00",
          "2021-05-18T00:00:00",
          "2021-12-21T00:00:00",
          "2021-09-21T00:00:00",
          "2021-04-13T00:00:00",
          "2021-06-22T00:00:00",
          "2021-06-15T00:00:00",
          "2021-08-17T00:00:00",
          "2021-08-24T00:00:00",
          "2021-01-14T00:00:00",
          "2021-12-06T00:00:00",
          "2021-05-11T00:00:00",
          "2021-09-14T00:00:00",
          "2021-10-05T00:00:00",
          "2021-01-28T00:00:00",
          "2021-01-28T00:00:00",
          "2021-07-13T00:00:00",
          "2021-07-27T00:00:00",
          "2021-02-04T00:00:00",
          "2021-09-28T00:00:00",
          "2021-02-04T00:00:00",
          "2021-06-29T00:00:00",
          "2021-03-09T00:00:00",
          "2021-04-06T00:00:00",
          "2021-04-19T00:00:00",
          "2021-11-09T00:00:00",
          "2021-06-15T00:00:00",
          "2021-05-25T00:00:00",
          "2021-08-17T00:00:00",
          "2021-05-04T00:00:00",
          "2021-07-13T00:00:00",
          "2021-06-08T00:00:00",
          "2021-01-14T00:00:00",
          "2021-08-03T00:00:00",
          "2021-07-06T00:00:00",
          "2021-07-20T00:00:00",
          "2021-09-21T00:00:00",
          "2021-05-04T00:00:00",
          "2021-12-21T00:00:00",
          "2021-11-16T00:00:00",
          "2021-12-14T00:00:00",
          "2021-08-03T00:00:00",
          "2021-07-27T00:00:00",
          "2021-11-09T00:00:00",
          "2021-11-16T00:00:00",
          "2021-04-06T00:00:00",
          "2021-08-10T00:00:00",
          "2021-04-13T00:00:00",
          "2021-05-18T00:00:00",
          "2021-09-14T00:00:00",
          "2021-09-09T00:00:00",
          "2021-11-30T00:00:00",
          "2021-02-11T00:00:00",
          "2021-07-06T00:00:00",
          "2021-08-10T00:00:00",
          "2021-10-19T00:00:00",
          "2021-06-08T00:00:00",
          "2021-12-21T00:00:00",
          "2021-02-11T00:00:00",
          "2021-10-19T00:00:00",
          "2021-11-23T00:00:00",
          "2021-10-19T00:00:00",
          "2021-12-06T00:00:00",
          "2021-09-09T00:00:00",
          "2021-06-22T00:00:00",
          "2021-08-24T00:00:00",
          "2021-05-25T00:00:00",
          "2021-02-11T00:00:00",
          "2021-02-04T00:00:00",
          "2021-11-23T00:00:00",
          "2021-01-28T00:00:00",
          "2021-11-09T00:00:00",
          "2021-12-14T00:00:00",
          "2021-06-15T00:00:00",
          "2021-08-10T00:00:00",
          "2021-05-11T00:00:00",
          "2021-04-13T00:00:00",
          "2021-07-13T00:00:00",
          "2021-01-14T00:00:00",
          "2021-01-14T00:00:00",
          "2021-06-29T00:00:00",
          "2021-06-08T00:00:00",
          "2021-07-06T00:00:00",
          "2021-05-11T00:00:00",
          "2021-05-04T00:00:00",
          "2021-04-06T00:00:00",
          "2021-03-09T00:00:00",
          "2021-04-27T00:00:00",
          "2021-09-14T00:00:00",
          "2021-10-05T00:00:00",
          "2021-09-28T00:00:00",
          "2021-09-28T00:00:00",
          "2022-01-04T00:00:00",
          "2022-01-04T00:00:00",
          "2022-01-04T00:00:00"
         ],
         "y": [
          0.8,
          1.2,
          1.2,
          0.8,
          0.6,
          1,
          1,
          1.3,
          0.9,
          1,
          1.5,
          1,
          1,
          1,
          0.6,
          0.5,
          0.6,
          1.2,
          1.5,
          1,
          1.5,
          1.2,
          1.1,
          1.2,
          0.8,
          1,
          0.8,
          0.6,
          0.5,
          1.2,
          1.5,
          1,
          0.9,
          0.5,
          0.6,
          0.8,
          1.5,
          1.2,
          1,
          1,
          1,
          1,
          0.8,
          0.4,
          0.8,
          1,
          1.2,
          1,
          1.2,
          0.8,
          0.9,
          1,
          0.6,
          1.5,
          1.3,
          0.5,
          0.8,
          0.8,
          0.8,
          1,
          2.5,
          0.8,
          1.2,
          2,
          0.8,
          1,
          0.6,
          0.8,
          1.2,
          0.5,
          1.2,
          1.1,
          1.5,
          0.6,
          0.6,
          0.8,
          0.6,
          0.8,
          0.6,
          1.5,
          0.8,
          0.6,
          1.4,
          1.2,
          0.8,
          0.5,
          0.8,
          1.2,
          0.8,
          1,
          0.8,
          0.8,
          1,
          1.2,
          1.2,
          1,
          0.6,
          2.5,
          1.5,
          0.6,
          1,
          0.6,
          1,
          0.8,
          0.9,
          1.5,
          0.42,
          0.47,
          0.29,
          0.5,
          0.58,
          0.42,
          0.6,
          0.52,
          0.71,
          0.47,
          0.5,
          0.61,
          1.05,
          0.53,
          0.3,
          0.76,
          0.46,
          0.45,
          3.5,
          0.65,
          0.37,
          0.81,
          2.5,
          0.6,
          0.87,
          0.48,
          0.54,
          0.96,
          0.38,
          0.67,
          0.47,
          0.56,
          0.8,
          0.5,
          0.52,
          0.48,
          0.46,
          0.69,
          0.51,
          0.49,
          1.53,
          0.58,
          0.48,
          0.48,
          0.37,
          0.43,
          0.61,
          2.6,
          0.52,
          0.38,
          1.12,
          0.42,
          0.7,
          1.37,
          0.4,
          0.43,
          0.85,
          0.4,
          0.64,
          0.44,
          0.29,
          1.12,
          0.96,
          0.41,
          0.47,
          0.38,
          0.47,
          0.8,
          0.47,
          0.57,
          0.42,
          0.81,
          1.11,
          2.3,
          2.8,
          0.43,
          0.35,
          0.8,
          1.63,
          0.42,
          1.87,
          0.46,
          2.8,
          2.1,
          0.56,
          0.47,
          0.62,
          0.48,
          0.37,
          0.38,
          0.46,
          0.86,
          0.74,
          2.4,
          0.42,
          1.28,
          0.53,
          0.68,
          0.39,
          0.53,
          0.71,
          0.76,
          0.59,
          0.74,
          0.61,
          5.8,
          0.42,
          0.32,
          0.59,
          0.47,
          0.39,
          0.39,
          0.87,
          0.45,
          0.53,
          0.21,
          0.96,
          0.55,
          1.04,
          0.17,
          0.51,
          0.24,
          0.8,
          0.41,
          0.4,
          0.42,
          0.53,
          0.28,
          0.3,
          0.45,
          0.3,
          0.3,
          0.2,
          0.24,
          0.16,
          0.76,
          0.45,
          1.07,
          0.31,
          0.94,
          0.37,
          0.25,
          0.18,
          0.42,
          0.21,
          0.58,
          0.33,
          0.23,
          0.43,
          0.68,
          0.29,
          0.37,
          0.5,
          0.41,
          0.25,
          0.86,
          0.58,
          3.1,
          0.71,
          0.3,
          0.28,
          0.31,
          0.33,
          0.2,
          0.57,
          0.2,
          0.27,
          0.21,
          0.86,
          0.58,
          0.68,
          0.1,
          0.22,
          0.4,
          0.27,
          1.05,
          0.46,
          1.15,
          0.42,
          0.29,
          1.04,
          0.25,
          3,
          0.69,
          0.15,
          0.8,
          0.32,
          0.1,
          0.3,
          0.42,
          0.42,
          0.29,
          0.15,
          0.18,
          0.3,
          0.38,
          0.74,
          0.32,
          0.3,
          0.37,
          0.22,
          0.47,
          0.41,
          0.22,
          0.3,
          0.9,
          0.25,
          1.11,
          0.35,
          0.38,
          0.43,
          0.35,
          0.28,
          0.43,
          0.4,
          0.2,
          0.4,
          0.33,
          0.45,
          1.86,
          0.76,
          0.37,
          0.42,
          0.8,
          0.13,
          0.32,
          0.31,
          2.1,
          0.43,
          0.42,
          0.23,
          0.35,
          0.34,
          0.25,
          0.24,
          0.39,
          0.32,
          0.34,
          0.57,
          0.38,
          0.35,
          0.42,
          0.29,
          0.38,
          0.41,
          0.34,
          0.28,
          0.33,
          0.35,
          0.74,
          0.5,
          0.26,
          0.36,
          0.29,
          0.59,
          0.29,
          0.31,
          0.4,
          0.67,
          0.37,
          0.24,
          0.25,
          0.25,
          0.26,
          0.34,
          0.21,
          0.47,
          0.49,
          0.56,
          0.41,
          0.31,
          0.27,
          0.35,
          0.27,
          0.33,
          0.33,
          0.43,
          0.83,
          0.36,
          0.29,
          0.2,
          0.32,
          0.57,
          0.48,
          0.31,
          0.37,
          0.58,
          0.37,
          0.58,
          0.25,
          0.3,
          0.29,
          0.45,
          0.49,
          0.48,
          0.67,
          0.29,
          0.29,
          0.46,
          0.35,
          0.32,
          0.49,
          0.28,
          0.4,
          0.38,
          0.47,
          0.75,
          0.43,
          0.45,
          0.23,
          0.31,
          0.26,
          0.21,
          0.68,
          0.37,
          0.26,
          0.28,
          0.35,
          0.49,
          0.35,
          0.39,
          0.29,
          0.17,
          0.61,
          0.39,
          0.44,
          0.32,
          0.37,
          0.31,
          0.37,
          0.42,
          0.48,
          0,
          0,
          0.19,
          0.45,
          0.31,
          0.25,
          0.62,
          0.35,
          0.4,
          0.41,
          0.28,
          0.32,
          0.42,
          0.27,
          1.44,
          1.03,
          0.3,
          0.55,
          0,
          0.17,
          0.91,
          0.75,
          0.4,
          0,
          0.31,
          0.32,
          0.36,
          0.47,
          0.29,
          0.27,
          0.25,
          0,
          0.24,
          0.37,
          0.24,
          0.33,
          0.47,
          0.55,
          0.28,
          0.3,
          0.25,
          0.32,
          0.23,
          0.33,
          0,
          0.26,
          0,
          0.69,
          0.31,
          0.38,
          0.34,
          1.11,
          0,
          0.29,
          0.53,
          0.27,
          0.33,
          1.83,
          0,
          0.43,
          0.67,
          0.3,
          0.34,
          0.42,
          0,
          0.26,
          0.33,
          0.31,
          0.3,
          0.49,
          0.26,
          0.2,
          0,
          0.31,
          0.4,
          0.57,
          1.61,
          0.45,
          0.32,
          0.67,
          0.38,
          0.7,
          0.48,
          0.38,
          0.5,
          0.3,
          0.35,
          0,
          0.33,
          0.34,
          0.42,
          0.33,
          0.2,
          0.29,
          0.25,
          2.3,
          0.21,
          0.34,
          0.17,
          0.28,
          0,
          0,
          1.27,
          0.29,
          0.37,
          0,
          0,
          0.23,
          0.29,
          0.13,
          0.34,
          0.17,
          0.37,
          0,
          0.39,
          0.42,
          0.3,
          0.54,
          0.26,
          0,
          0.41,
          0.45,
          0,
          0.44,
          0,
          0.52,
          0.35,
          0.35,
          0.36,
          0.64,
          0.38,
          0,
          0.64,
          0,
          0,
          0.27,
          0.32,
          0.36,
          0.31,
          0.2,
          0.2,
          0.27,
          1.13,
          0.44,
          0.43,
          0.29,
          0.28,
          0.24,
          0.29,
          0.27,
          0.39,
          0.55,
          0.38,
          0.28,
          2.2,
          1.61,
          1.81
         ]
        }
       ],
       "layout": {
        "autosize": true,
        "hovermode": "x",
        "margin": {
         "b": 40,
         "l": 40,
         "r": 0
        },
        "template": {
         "data": {
          "bar": [
           {
            "error_x": {
             "color": "#2a3f5f"
            },
            "error_y": {
             "color": "#2a3f5f"
            },
            "marker": {
             "line": {
              "color": "#E5ECF6",
              "width": 0.5
             },
             "pattern": {
              "fillmode": "overlay",
              "size": 10,
              "solidity": 0.2
             }
            },
            "type": "bar"
           }
          ],
          "barpolar": [
           {
            "marker": {
             "line": {
              "color": "#E5ECF6",
              "width": 0.5
             },
             "pattern": {
              "fillmode": "overlay",
              "size": 10,
              "solidity": 0.2
             }
            },
            "type": "barpolar"
           }
          ],
          "carpet": [
           {
            "aaxis": {
             "endlinecolor": "#2a3f5f",
             "gridcolor": "white",
             "linecolor": "white",
             "minorgridcolor": "white",
             "startlinecolor": "#2a3f5f"
            },
            "baxis": {
             "endlinecolor": "#2a3f5f",
             "gridcolor": "white",
             "linecolor": "white",
             "minorgridcolor": "white",
             "startlinecolor": "#2a3f5f"
            },
            "type": "carpet"
           }
          ],
          "choropleth": [
           {
            "colorbar": {
             "outlinewidth": 0,
             "ticks": ""
            },
            "type": "choropleth"
           }
          ],
          "contour": [
           {
            "colorbar": {
             "outlinewidth": 0,
             "ticks": ""
            },
            "colorscale": [
             [
              0,
              "#0d0887"
             ],
             [
              0.1111111111111111,
              "#46039f"
             ],
             [
              0.2222222222222222,
              "#7201a8"
             ],
             [
              0.3333333333333333,
              "#9c179e"
             ],
             [
              0.4444444444444444,
              "#bd3786"
             ],
             [
              0.5555555555555556,
              "#d8576b"
             ],
             [
              0.6666666666666666,
              "#ed7953"
             ],
             [
              0.7777777777777778,
              "#fb9f3a"
             ],
             [
              0.8888888888888888,
              "#fdca26"
             ],
             [
              1,
              "#f0f921"
             ]
            ],
            "type": "contour"
           }
          ],
          "contourcarpet": [
           {
            "colorbar": {
             "outlinewidth": 0,
             "ticks": ""
            },
            "type": "contourcarpet"
           }
          ],
          "heatmap": [
           {
            "colorbar": {
             "outlinewidth": 0,
             "ticks": ""
            },
            "colorscale": [
             [
              0,
              "#0d0887"
             ],
             [
              0.1111111111111111,
              "#46039f"
             ],
             [
              0.2222222222222222,
              "#7201a8"
             ],
             [
              0.3333333333333333,
              "#9c179e"
             ],
             [
              0.4444444444444444,
              "#bd3786"
             ],
             [
              0.5555555555555556,
              "#d8576b"
             ],
             [
              0.6666666666666666,
              "#ed7953"
             ],
             [
              0.7777777777777778,
              "#fb9f3a"
             ],
             [
              0.8888888888888888,
              "#fdca26"
             ],
             [
              1,
              "#f0f921"
             ]
            ],
            "type": "heatmap"
           }
          ],
          "heatmapgl": [
           {
            "colorbar": {
             "outlinewidth": 0,
             "ticks": ""
            },
            "colorscale": [
             [
              0,
              "#0d0887"
             ],
             [
              0.1111111111111111,
              "#46039f"
             ],
             [
              0.2222222222222222,
              "#7201a8"
             ],
             [
              0.3333333333333333,
              "#9c179e"
             ],
             [
              0.4444444444444444,
              "#bd3786"
             ],
             [
              0.5555555555555556,
              "#d8576b"
             ],
             [
              0.6666666666666666,
              "#ed7953"
             ],
             [
              0.7777777777777778,
              "#fb9f3a"
             ],
             [
              0.8888888888888888,
              "#fdca26"
             ],
             [
              1,
              "#f0f921"
             ]
            ],
            "type": "heatmapgl"
           }
          ],
          "histogram": [
           {
            "marker": {
             "pattern": {
              "fillmode": "overlay",
              "size": 10,
              "solidity": 0.2
             }
            },
            "type": "histogram"
           }
          ],
          "histogram2d": [
           {
            "colorbar": {
             "outlinewidth": 0,
             "ticks": ""
            },
            "colorscale": [
             [
              0,
              "#0d0887"
             ],
             [
              0.1111111111111111,
              "#46039f"
             ],
             [
              0.2222222222222222,
              "#7201a8"
             ],
             [
              0.3333333333333333,
              "#9c179e"
             ],
             [
              0.4444444444444444,
              "#bd3786"
             ],
             [
              0.5555555555555556,
              "#d8576b"
             ],
             [
              0.6666666666666666,
              "#ed7953"
             ],
             [
              0.7777777777777778,
              "#fb9f3a"
             ],
             [
              0.8888888888888888,
              "#fdca26"
             ],
             [
              1,
              "#f0f921"
             ]
            ],
            "type": "histogram2d"
           }
          ],
          "histogram2dcontour": [
           {
            "colorbar": {
             "outlinewidth": 0,
             "ticks": ""
            },
            "colorscale": [
             [
              0,
              "#0d0887"
             ],
             [
              0.1111111111111111,
              "#46039f"
             ],
             [
              0.2222222222222222,
              "#7201a8"
             ],
             [
              0.3333333333333333,
              "#9c179e"
             ],
             [
              0.4444444444444444,
              "#bd3786"
             ],
             [
              0.5555555555555556,
              "#d8576b"
             ],
             [
              0.6666666666666666,
              "#ed7953"
             ],
             [
              0.7777777777777778,
              "#fb9f3a"
             ],
             [
              0.8888888888888888,
              "#fdca26"
             ],
             [
              1,
              "#f0f921"
             ]
            ],
            "type": "histogram2dcontour"
           }
          ],
          "mesh3d": [
           {
            "colorbar": {
             "outlinewidth": 0,
             "ticks": ""
            },
            "type": "mesh3d"
           }
          ],
          "parcoords": [
           {
            "line": {
             "colorbar": {
              "outlinewidth": 0,
              "ticks": ""
             }
            },
            "type": "parcoords"
           }
          ],
          "pie": [
           {
            "automargin": true,
            "type": "pie"
           }
          ],
          "scatter": [
           {
            "marker": {
             "colorbar": {
              "outlinewidth": 0,
              "ticks": ""
             }
            },
            "type": "scatter"
           }
          ],
          "scatter3d": [
           {
            "line": {
             "colorbar": {
              "outlinewidth": 0,
              "ticks": ""
             }
            },
            "marker": {
             "colorbar": {
              "outlinewidth": 0,
              "ticks": ""
             }
            },
            "type": "scatter3d"
           }
          ],
          "scattercarpet": [
           {
            "marker": {
             "colorbar": {
              "outlinewidth": 0,
              "ticks": ""
             }
            },
            "type": "scattercarpet"
           }
          ],
          "scattergeo": [
           {
            "marker": {
             "colorbar": {
              "outlinewidth": 0,
              "ticks": ""
             }
            },
            "type": "scattergeo"
           }
          ],
          "scattergl": [
           {
            "marker": {
             "colorbar": {
              "outlinewidth": 0,
              "ticks": ""
             }
            },
            "type": "scattergl"
           }
          ],
          "scattermapbox": [
           {
            "marker": {
             "colorbar": {
              "outlinewidth": 0,
              "ticks": ""
             }
            },
            "type": "scattermapbox"
           }
          ],
          "scatterpolar": [
           {
            "marker": {
             "colorbar": {
              "outlinewidth": 0,
              "ticks": ""
             }
            },
            "type": "scatterpolar"
           }
          ],
          "scatterpolargl": [
           {
            "marker": {
             "colorbar": {
              "outlinewidth": 0,
              "ticks": ""
             }
            },
            "type": "scatterpolargl"
           }
          ],
          "scatterternary": [
           {
            "marker": {
             "colorbar": {
              "outlinewidth": 0,
              "ticks": ""
             }
            },
            "type": "scatterternary"
           }
          ],
          "surface": [
           {
            "colorbar": {
             "outlinewidth": 0,
             "ticks": ""
            },
            "colorscale": [
             [
              0,
              "#0d0887"
             ],
             [
              0.1111111111111111,
              "#46039f"
             ],
             [
              0.2222222222222222,
              "#7201a8"
             ],
             [
              0.3333333333333333,
              "#9c179e"
             ],
             [
              0.4444444444444444,
              "#bd3786"
             ],
             [
              0.5555555555555556,
              "#d8576b"
             ],
             [
              0.6666666666666666,
              "#ed7953"
             ],
             [
              0.7777777777777778,
              "#fb9f3a"
             ],
             [
              0.8888888888888888,
              "#fdca26"
             ],
             [
              1,
              "#f0f921"
             ]
            ],
            "type": "surface"
           }
          ],
          "table": [
           {
            "cells": {
             "fill": {
              "color": "#EBF0F8"
             },
             "line": {
              "color": "white"
             }
            },
            "header": {
             "fill": {
              "color": "#C8D4E3"
             },
             "line": {
              "color": "white"
             }
            },
            "type": "table"
           }
          ]
         },
         "layout": {
          "annotationdefaults": {
           "arrowcolor": "#2a3f5f",
           "arrowhead": 0,
           "arrowwidth": 1
          },
          "autotypenumbers": "strict",
          "coloraxis": {
           "colorbar": {
            "outlinewidth": 0,
            "ticks": ""
           }
          },
          "colorscale": {
           "diverging": [
            [
             0,
             "#8e0152"
            ],
            [
             0.1,
             "#c51b7d"
            ],
            [
             0.2,
             "#de77ae"
            ],
            [
             0.3,
             "#f1b6da"
            ],
            [
             0.4,
             "#fde0ef"
            ],
            [
             0.5,
             "#f7f7f7"
            ],
            [
             0.6,
             "#e6f5d0"
            ],
            [
             0.7,
             "#b8e186"
            ],
            [
             0.8,
             "#7fbc41"
            ],
            [
             0.9,
             "#4d9221"
            ],
            [
             1,
             "#276419"
            ]
           ],
           "sequential": [
            [
             0,
             "#0d0887"
            ],
            [
             0.1111111111111111,
             "#46039f"
            ],
            [
             0.2222222222222222,
             "#7201a8"
            ],
            [
             0.3333333333333333,
             "#9c179e"
            ],
            [
             0.4444444444444444,
             "#bd3786"
            ],
            [
             0.5555555555555556,
             "#d8576b"
            ],
            [
             0.6666666666666666,
             "#ed7953"
            ],
            [
             0.7777777777777778,
             "#fb9f3a"
            ],
            [
             0.8888888888888888,
             "#fdca26"
            ],
            [
             1,
             "#f0f921"
            ]
           ],
           "sequentialminus": [
            [
             0,
             "#0d0887"
            ],
            [
             0.1111111111111111,
             "#46039f"
            ],
            [
             0.2222222222222222,
             "#7201a8"
            ],
            [
             0.3333333333333333,
             "#9c179e"
            ],
            [
             0.4444444444444444,
             "#bd3786"
            ],
            [
             0.5555555555555556,
             "#d8576b"
            ],
            [
             0.6666666666666666,
             "#ed7953"
            ],
            [
             0.7777777777777778,
             "#fb9f3a"
            ],
            [
             0.8888888888888888,
             "#fdca26"
            ],
            [
             1,
             "#f0f921"
            ]
           ]
          },
          "colorway": [
           "#636efa",
           "#EF553B",
           "#00cc96",
           "#ab63fa",
           "#FFA15A",
           "#19d3f3",
           "#FF6692",
           "#B6E880",
           "#FF97FF",
           "#FECB52"
          ],
          "font": {
           "color": "#2a3f5f"
          },
          "geo": {
           "bgcolor": "white",
           "lakecolor": "white",
           "landcolor": "#E5ECF6",
           "showlakes": true,
           "showland": true,
           "subunitcolor": "white"
          },
          "hoverlabel": {
           "align": "left"
          },
          "hovermode": "closest",
          "mapbox": {
           "style": "light"
          },
          "paper_bgcolor": "white",
          "plot_bgcolor": "#E5ECF6",
          "polar": {
           "angularaxis": {
            "gridcolor": "white",
            "linecolor": "white",
            "ticks": ""
           },
           "bgcolor": "#E5ECF6",
           "radialaxis": {
            "gridcolor": "white",
            "linecolor": "white",
            "ticks": ""
           }
          },
          "scene": {
           "xaxis": {
            "backgroundcolor": "#E5ECF6",
            "gridcolor": "white",
            "gridwidth": 2,
            "linecolor": "white",
            "showbackground": true,
            "ticks": "",
            "zerolinecolor": "white"
           },
           "yaxis": {
            "backgroundcolor": "#E5ECF6",
            "gridcolor": "white",
            "gridwidth": 2,
            "linecolor": "white",
            "showbackground": true,
            "ticks": "",
            "zerolinecolor": "white"
           },
           "zaxis": {
            "backgroundcolor": "#E5ECF6",
            "gridcolor": "white",
            "gridwidth": 2,
            "linecolor": "white",
            "showbackground": true,
            "ticks": "",
            "zerolinecolor": "white"
           }
          },
          "shapedefaults": {
           "line": {
            "color": "#2a3f5f"
           }
          },
          "ternary": {
           "aaxis": {
            "gridcolor": "white",
            "linecolor": "white",
            "ticks": ""
           },
           "baxis": {
            "gridcolor": "white",
            "linecolor": "white",
            "ticks": ""
           },
           "bgcolor": "#E5ECF6",
           "caxis": {
            "gridcolor": "white",
            "linecolor": "white",
            "ticks": ""
           }
          },
          "title": {
           "x": 0.05
          },
          "xaxis": {
           "automargin": true,
           "gridcolor": "white",
           "linecolor": "white",
           "ticks": "",
           "title": {
            "standoff": 15
           },
           "zerolinecolor": "white",
           "zerolinewidth": 2
          },
          "yaxis": {
           "automargin": true,
           "gridcolor": "white",
           "linecolor": "white",
           "ticks": "",
           "title": {
            "standoff": 15
           },
           "zerolinecolor": "white",
           "zerolinewidth": 2
          }
         }
        },
        "title": {
         "text": "Turbidez<br><sup>\"ETA\"</sup>"
        },
        "xaxis": {
         "autorange": true,
         "range": [
          "2014-08-25 07:51:07.3135",
          "2022-06-14 16:08:52.6865"
         ],
         "tickformat": "%d %b<br>%Y",
         "type": "date"
        },
        "yaxis": {
         "autorange": true,
         "range": [
          -0.4490813648293963,
          6.249081364829396
         ],
         "type": "linear"
        }
       }
      },
      "image/png": "[encoded data removed]",
      "text/html": [
       "<div>                            <div id=\"a3435a51-de1e-4f08-b75e-c6c2f348ae4c\" class=\"plotly-graph-div\" style=\"height:525px; width:100%;\"></div>            <script type=\"text/javascript\">                require([\"plotly\"], function(Plotly) {                    window.PLOTLYENV=window.PLOTLYENV || {};                                    if (document.getElementById(\"a3435a51-de1e-4f08-b75e-c6c2f348ae4c\")) {                    Plotly.newPlot(                        \"a3435a51-de1e-4f08-b75e-c6c2f348ae4c\",                        [{\"marker\":{\"color\":\"red\"},\"mode\":\"markers\",\"name\":\"conclusao\",\"opacity\":0.8,\"x\":[\"2015-05-26T00:00:00\",\"2015-06-16T00:00:00\",\"2015-02-23T00:00:00\",\"2015-06-09T00:00:00\",\"2015-05-26T00:00:00\",\"2015-04-07T00:00:00\",\"2015-05-26T00:00:00\",\"2015-05-21T00:00:00\",\"2015-05-21T00:00:00\",\"2015-02-23T00:00:00\",\"2015-05-21T00:00:00\",\"2015-03-31T00:00:00\",\"2015-05-12T00:00:00\",\"2015-03-03T00:00:00\",\"2015-05-05T00:00:00\",\"2015-06-02T00:00:00\",\"2015-03-31T00:00:00\",\"2015-04-07T00:00:00\",\"2015-02-24T00:00:00\",\"2015-06-16T00:00:00\",\"2015-02-10T00:00:00\",\"2015-02-03T00:00:00\",\"2015-04-15T00:00:00\",\"2015-03-03T00:00:00\",\"2015-04-14T00:00:00\",\"2015-05-12T00:00:00\",\"2015-03-24T00:00:00\",\"2015-03-24T00:00:00\",\"2015-03-10T00:00:00\",\"2015-04-22T00:00:00\",\"2015-04-22T00:00:00\",\"2015-05-05T00:00:00\",\"2015-04-28T00:00:00\",\"2015-06-09T00:00:00\",\"2015-05-12T00:00:00\",\"2015-04-28T00:00:00\",\"2015-02-03T00:00:00\",\"2015-04-14T00:00:00\",\"2015-05-21T00:00:00\",\"2015-05-26T00:00:00\",\"2015-04-22T00:00:00\",\"2015-02-03T00:00:00\",\"2015-05-21T00:00:00\",\"2015-03-24T00:00:00\",\"2015-03-10T00:00:00\",\"2015-02-23T00:00:00\",\"2015-02-10T00:00:00\",\"2015-04-22T00:00:00\",\"2015-02-10T00:00:00\",\"2015-05-05T00:00:00\",\"2015-04-07T00:00:00\",\"2015-03-31T00:00:00\",\"2015-05-12T00:00:00\",\"2015-02-10T00:00:00\",\"2015-04-07T00:00:00\",\"2015-05-12T00:00:00\",\"2015-02-24T00:00:00\",\"2015-06-09T00:00:00\",\"2015-04-07T00:00:00\",\"2015-04-14T00:00:00\",\"2015-02-10T00:00:00\",\"2015-04-22T00:00:00\",\"2015-05-05T00:00:00\",\"2015-02-24T00:00:00\",\"2015-05-26T00:00:00\",\"2015-02-24T00:00:00\",\"2015-03-10T00:00:00\",\"2015-06-15T00:00:00\",\"2015-03-31T00:00:00\",\"2015-03-27T00:00:00\",\"2015-02-24T00:00:00\",\"2015-04-28T00:00:00\",\"2015-06-02T00:00:00\",\"2015-03-31T00:00:00\",\"2015-06-09T00:00:00\",\"2015-02-23T00:00:00\",\"2015-04-14T00:00:00\",\"2015-03-24T00:00:00\",\"2015-04-14T00:00:00\",\"2015-03-03T00:00:00\",\"2015-06-16T00:00:00\",\"2015-03-10T00:00:00\",\"2015-05-21T00:00:00\",\"2015-03-03T00:00:00\",\"2015-02-03T00:00:00\",\"2015-05-05T00:00:00\",\"2015-04-14T00:00:00\",\"2015-02-03T00:00:00\",\"2015-05-05T00:00:00\",\"2015-02-10T00:00:00\",\"2015-03-31T00:00:00\",\"2015-02-23T00:00:00\",\"2015-06-02T00:00:00\",\"2015-05-26T00:00:00\",\"2015-02-24T00:00:00\",\"2015-02-03T00:00:00\",\"2015-06-02T00:00:00\",\"2015-06-16T00:00:00\",\"2015-04-22T00:00:00\",\"2015-06-09T00:00:00\",\"2015-04-28T00:00:00\",\"2015-03-24T00:00:00\",\"2015-03-10T00:00:00\",\"2015-03-03T00:00:00\",\"2015-04-28T00:00:00\",\"2015-06-16T00:00:00\",\"2018-07-24T00:00:00\",\"2018-12-06T00:00:00\",\"2018-03-06T00:00:00\",\"2018-10-23T00:00:00\",\"2018-04-24T00:00:00\",\"2018-05-15T00:00:00\",\"2018-06-26T00:00:00\",\"2018-10-23T00:00:00\",\"2018-10-09T00:00:00\",\"2018-08-28T00:00:00\",\"2018-07-24T00:00:00\",\"2018-03-06T00:00:00\",\"2018-01-16T00:00:00\",\"2018-11-13T00:00:00\",\"2018-06-12T00:00:00\",\"2018-12-06T00:00:00\",\"2018-06-12T00:00:00\",\"2018-03-27T00:00:00\",\"2018-12-11T00:00:00\",\"2018-04-24T00:00:00\",\"2018-04-24T00:00:00\",\"2018-07-24T00:00:00\",\"2018-03-27T00:00:00\",\"2018-04-10T00:00:00\",\"2018-03-20T00:00:00\",\"2018-07-24T00:00:00\",\"2018-09-11T00:00:00\",\"2018-01-16T00:00:00\",\"2018-03-06T00:00:00\",\"2018-02-20T00:00:00\",\"2018-03-27T00:00:00\",\"2018-09-25T00:00:00\",\"2018-09-11T00:00:00\",\"2018-11-27T00:00:00\",\"2018-10-23T00:00:00\",\"2018-11-27T00:00:00\",\"2018-10-23T00:00:00\",\"2018-02-20T00:00:00\",\"2018-02-27T00:00:00\",\"2018-04-24T00:00:00\",\"2018-02-27T00:00:00\",\"2018-10-09T00:00:00\",\"2018-09-11T00:00:00\",\"2018-04-10T00:00:00\",\"2018-10-23T00:00:00\",\"2018-08-28T00:00:00\",\"2018-06-12T00:00:00\",\"2018-12-11T00:00:00\",\"2018-07-10T00:00:00\",\"2018-08-14T00:00:00\",\"2018-03-27T00:00:00\",\"2018-07-10T00:00:00\",\"2018-11-13T00:00:00\",\"2018-12-11T00:00:00\",\"2018-03-27T00:00:00\",\"2018-08-28T00:00:00\",\"2018-03-20T00:00:00\",\"2018-08-14T00:00:00\",\"2018-03-06T00:00:00\",\"2018-10-09T00:00:00\",\"2018-06-26T00:00:00\",\"2018-11-27T00:00:00\",\"2018-06-26T00:00:00\",\"2018-03-20T00:00:00\",\"2018-09-25T00:00:00\",\"2018-05-15T00:00:00\",\"2018-06-12T00:00:00\",\"2018-02-27T00:00:00\",\"2018-08-28T00:00:00\",\"2018-09-25T00:00:00\",\"2018-07-24T00:00:00\",\"2018-02-20T00:00:00\",\"2018-01-16T00:00:00\",\"2018-02-20T00:00:00\",\"2018-12-11T00:00:00\",\"2018-08-14T00:00:00\",\"2018-05-15T00:00:00\",\"2018-11-13T00:00:00\",\"2018-03-06T00:00:00\",\"2018-08-14T00:00:00\",\"2018-02-27T00:00:00\",\"2018-09-25T00:00:00\",\"2018-12-06T00:00:00\",\"2018-07-10T00:00:00\",\"2018-07-10T00:00:00\",\"2018-05-15T00:00:00\",\"2018-10-09T00:00:00\",\"2018-11-27T00:00:00\",\"2018-01-16T00:00:00\",\"2018-08-14T00:00:00\",\"2018-08-28T00:00:00\",\"2018-04-10T00:00:00\",\"2018-11-27T00:00:00\",\"2018-12-06T00:00:00\",\"2018-04-24T00:00:00\",\"2018-12-06T00:00:00\",\"2018-07-10T00:00:00\",\"2018-03-20T00:00:00\",\"2018-03-06T00:00:00\",\"2018-11-13T00:00:00\",\"2018-04-10T00:00:00\",\"2018-02-27T00:00:00\",\"2018-09-11T00:00:00\",\"2019-01-29T00:00:00\",\"2019-09-24T00:00:00\",\"2019-01-15T00:00:00\",\"2019-03-12T00:00:00\",\"2019-12-05T00:00:00\",\"2019-02-26T00:00:00\",\"2019-01-15T00:00:00\",\"2019-06-11T00:00:00\",\"2019-04-09T00:00:00\",\"2019-03-26T00:00:00\",\"2019-11-12T00:00:00\",\"2019-02-12T00:00:00\",\"2019-12-05T00:00:00\",\"2019-03-12T00:00:00\",\"2019-01-29T00:00:00\",\"2019-03-26T00:00:00\",\"2019-12-05T00:00:00\",\"2019-01-15T00:00:00\",\"2019-06-11T00:00:00\",\"2019-01-15T00:00:00\",\"2019-05-14T00:00:00\",\"2019-09-24T00:00:00\",\"2019-11-07T00:00:00\",\"2019-02-12T00:00:00\",\"2019-08-13T00:00:00\",\"2019-01-29T00:00:00\",\"2019-04-09T00:00:00\",\"2019-05-22T00:00:00\",\"2019-04-23T00:00:00\",\"2019-12-05T00:00:00\",\"2019-02-12T00:00:00\",\"2019-07-30T00:00:00\",\"2019-04-23T00:00:00\",\"2019-02-26T00:00:00\",\"2019-03-12T00:00:00\",\"2019-05-14T00:00:00\",\"2019-01-29T00:00:00\",\"2019-02-26T00:00:00\",\"2019-06-25T00:00:00\",\"2019-06-25T00:00:00\",\"2019-05-14T00:00:00\",\"2019-06-25T00:00:00\",\"2019-04-23T00:00:00\",\"2019-05-22T00:00:00\",\"2019-06-11T00:00:00\",\"2019-09-24T00:00:00\",\"2019-04-23T00:00:00\",\"2019-05-22T00:00:00\",\"2019-06-11T00:00:00\",\"2019-11-12T00:00:00\",\"2019-05-14T00:00:00\",\"2019-03-26T00:00:00\",\"2019-01-29T00:00:00\",\"2019-02-26T00:00:00\",\"2019-01-29T00:00:00\",\"2019-01-15T00:00:00\",\"2019-09-24T00:00:00\",\"2019-11-07T00:00:00\",\"2019-09-24T00:00:00\",\"2019-07-30T00:00:00\",\"2019-06-25T00:00:00\",\"2019-05-22T00:00:00\",\"2019-06-11T00:00:00\",\"2019-11-07T00:00:00\",\"2019-12-05T00:00:00\",\"2019-11-07T00:00:00\",\"2019-03-26T00:00:00\",\"2019-03-12T00:00:00\",\"2019-07-30T00:00:00\",\"2019-12-05T00:00:00\",\"2019-05-14T00:00:00\",\"2019-11-07T00:00:00\",\"2019-03-12T00:00:00\",\"2019-02-26T00:00:00\",\"2019-04-23T00:00:00\",\"2019-04-09T00:00:00\",\"2019-06-25T00:00:00\",\"2019-04-23T00:00:00\",\"2019-07-30T00:00:00\",\"2019-03-26T00:00:00\",\"2019-03-12T00:00:00\",\"2019-01-15T00:00:00\",\"2019-03-26T00:00:00\",\"2019-04-09T00:00:00\",\"2019-07-30T00:00:00\",\"2019-06-25T00:00:00\",\"2019-02-12T00:00:00\",\"2019-05-14T00:00:00\",\"2019-06-11T00:00:00\",\"2019-07-30T00:00:00\",\"2019-12-05T00:00:00\",\"2019-08-13T00:00:00\",\"2019-08-13T00:00:00\",\"2019-05-22T00:00:00\",\"2019-08-13T00:00:00\",\"2019-11-07T00:00:00\",\"2019-12-05T00:00:00\",\"2019-08-13T00:00:00\",\"2019-04-09T00:00:00\",\"2019-02-26T00:00:00\",\"2019-08-13T00:00:00\",\"2019-05-22T00:00:00\",\"2019-02-12T00:00:00\",\"2020-01-14T00:00:00\",\"2020-12-15T00:00:00\",\"2020-10-27T00:00:00\",\"2020-07-28T00:00:00\",\"2020-08-31T00:00:00\",\"2020-03-10T00:00:00\",\"2020-11-17T00:00:00\",\"2020-06-30T00:00:00\",\"2020-07-21T00:00:00\",\"2020-01-14T00:00:00\",\"2020-12-10T00:00:00\",\"2020-06-04T00:00:00\",\"2020-03-10T00:00:00\",\"2020-12-15T00:00:00\",\"2020-07-28T00:00:00\",\"2020-06-04T00:00:00\",\"2020-06-23T00:00:00\",\"2020-09-22T00:00:00\",\"2020-01-14T00:00:00\",\"2020-08-31T00:00:00\",\"2020-06-30T00:00:00\",\"2020-09-22T00:00:00\",\"2020-07-21T00:00:00\",\"2020-11-17T00:00:00\",\"2020-02-11T00:00:00\",\"2020-06-04T00:00:00\",\"2020-06-04T00:00:00\",\"2020-06-23T00:00:00\",\"2020-06-30T00:00:00\",\"2020-10-27T00:00:00\",\"2020-02-20T00:00:00\",\"2020-11-24T00:00:00\",\"2020-10-27T00:00:00\",\"2020-01-28T00:00:00\",\"2020-09-22T00:00:00\",\"2020-11-17T00:00:00\",\"2020-02-11T00:00:00\",\"2020-07-21T00:00:00\",\"2020-09-22T00:00:00\",\"2020-07-28T00:00:00\",\"2020-02-11T00:00:00\",\"2020-03-10T00:00:00\",\"2020-06-30T00:00:00\",\"2020-12-15T00:00:00\",\"2020-07-21T00:00:00\",\"2020-06-04T00:00:00\",\"2020-08-31T00:00:00\",\"2020-09-15T00:00:00\",\"2020-10-20T00:00:00\",\"2020-07-28T00:00:00\",\"2020-01-28T00:00:00\",\"2020-03-10T00:00:00\",\"2020-11-24T00:00:00\",\"2020-11-24T00:00:00\",\"2020-02-20T00:00:00\",\"2020-12-10T00:00:00\",\"2020-02-20T00:00:00\",\"2020-06-30T00:00:00\",\"2020-07-28T00:00:00\",\"2020-02-11T00:00:00\",\"2020-03-10T00:00:00\",\"2020-07-21T00:00:00\",\"2020-10-20T00:00:00\",\"2020-07-28T00:00:00\",\"2020-01-14T00:00:00\",\"2020-11-24T00:00:00\",\"2020-10-20T00:00:00\",\"2020-02-11T00:00:00\",\"2020-09-15T00:00:00\",\"2020-08-31T00:00:00\",\"2020-10-27T00:00:00\",\"2020-12-15T00:00:00\",\"2020-01-28T00:00:00\",\"2020-08-31T00:00:00\",\"2020-03-10T00:00:00\",\"2020-08-25T00:00:00\",\"2020-10-20T00:00:00\",\"2020-10-20T00:00:00\",\"2020-09-15T00:00:00\",\"2020-07-28T00:00:00\",\"2020-12-10T00:00:00\",\"2020-12-10T00:00:00\",\"2020-10-27T00:00:00\",\"2020-06-30T00:00:00\",\"2020-08-25T00:00:00\",\"2020-02-20T00:00:00\",\"2020-11-24T00:00:00\",\"2020-02-20T00:00:00\",\"2020-12-15T00:00:00\",\"2020-10-27T00:00:00\",\"2020-08-25T00:00:00\",\"2020-01-28T00:00:00\",\"2020-09-22T00:00:00\",\"2020-08-25T00:00:00\",\"2020-01-28T00:00:00\",\"2020-06-23T00:00:00\",\"2020-06-30T00:00:00\",\"2020-08-25T00:00:00\",\"2020-09-15T00:00:00\",\"2020-09-22T00:00:00\",\"2020-07-21T00:00:00\",\"2020-11-17T00:00:00\",\"2020-09-22T00:00:00\",\"2020-02-11T00:00:00\",\"2020-08-31T00:00:00\",\"2020-11-24T00:00:00\",\"2020-01-14T00:00:00\",\"2020-11-24T00:00:00\",\"2020-12-10T00:00:00\",\"2020-12-10T00:00:00\",\"2020-08-25T00:00:00\",\"2020-09-15T00:00:00\",\"2020-12-15T00:00:00\",\"2020-06-23T00:00:00\",\"2020-10-20T00:00:00\",\"2020-02-20T00:00:00\",\"2020-01-14T00:00:00\",\"2020-01-28T00:00:00\",\"2020-06-04T00:00:00\",\"2020-06-23T00:00:00\",\"2020-11-17T00:00:00\",\"2020-09-15T00:00:00\",\"2020-12-10T00:00:00\",\"2020-10-20T00:00:00\",\"2020-06-23T00:00:00\",\"2021-01-28T00:00:00\",\"2021-12-21T00:00:00\",\"2021-11-23T00:00:00\",\"2021-03-16T00:00:00\",\"2021-09-14T00:00:00\",\"2021-04-13T00:00:00\",\"2021-09-21T00:00:00\",\"2021-05-25T00:00:00\",\"2021-08-24T00:00:00\",\"2021-08-10T00:00:00\",\"2021-02-04T00:00:00\",\"2021-07-20T00:00:00\",\"2021-04-13T00:00:00\",\"2021-02-04T00:00:00\",\"2021-04-27T00:00:00\",\"2021-11-30T00:00:00\",\"2021-10-05T00:00:00\",\"2021-07-27T00:00:00\",\"2021-02-04T00:00:00\",\"2021-11-16T00:00:00\",\"2021-03-02T00:00:00\",\"2021-10-05T00:00:00\",\"2021-10-19T00:00:00\",\"2021-07-13T00:00:00\",\"2021-11-23T00:00:00\",\"2021-05-04T00:00:00\",\"2021-08-03T00:00:00\",\"2021-03-09T00:00:00\",\"2021-02-11T00:00:00\",\"2021-04-06T00:00:00\",\"2021-07-20T00:00:00\",\"2021-06-08T00:00:00\",\"2021-11-09T00:00:00\",\"2021-01-14T00:00:00\",\"2021-03-02T00:00:00\",\"2021-10-19T00:00:00\",\"2021-07-06T00:00:00\",\"2021-01-28T00:00:00\",\"2021-10-19T00:00:00\",\"2021-09-21T00:00:00\",\"2021-06-22T00:00:00\",\"2021-05-11T00:00:00\",\"2021-02-11T00:00:00\",\"2021-01-14T00:00:00\",\"2021-03-02T00:00:00\",\"2021-12-06T00:00:00\",\"2021-04-13T00:00:00\",\"2021-11-30T00:00:00\",\"2021-04-19T00:00:00\",\"2021-01-14T00:00:00\",\"2021-06-15T00:00:00\",\"2021-04-27T00:00:00\",\"2021-04-19T00:00:00\",\"2021-12-21T00:00:00\",\"2021-05-18T00:00:00\",\"2021-02-11T00:00:00\",\"2021-07-20T00:00:00\",\"2021-02-04T00:00:00\",\"2021-01-28T00:00:00\",\"2021-12-21T00:00:00\",\"2021-03-02T00:00:00\",\"2021-09-09T00:00:00\",\"2021-06-29T00:00:00\",\"2021-03-16T00:00:00\",\"2021-05-18T00:00:00\",\"2021-12-21T00:00:00\",\"2021-09-21T00:00:00\",\"2021-04-13T00:00:00\",\"2021-06-22T00:00:00\",\"2021-06-15T00:00:00\",\"2021-08-17T00:00:00\",\"2021-08-24T00:00:00\",\"2021-01-14T00:00:00\",\"2021-12-06T00:00:00\",\"2021-05-11T00:00:00\",\"2021-09-14T00:00:00\",\"2021-10-05T00:00:00\",\"2021-01-28T00:00:00\",\"2021-01-28T00:00:00\",\"2021-07-13T00:00:00\",\"2021-07-27T00:00:00\",\"2021-02-04T00:00:00\",\"2021-09-28T00:00:00\",\"2021-02-04T00:00:00\",\"2021-06-29T00:00:00\",\"2021-03-09T00:00:00\",\"2021-04-06T00:00:00\",\"2021-04-19T00:00:00\",\"2021-11-09T00:00:00\",\"2021-06-15T00:00:00\",\"2021-05-25T00:00:00\",\"2021-08-17T00:00:00\",\"2021-05-04T00:00:00\",\"2021-07-13T00:00:00\",\"2021-06-08T00:00:00\",\"2021-01-14T00:00:00\",\"2021-08-03T00:00:00\",\"2021-07-06T00:00:00\",\"2021-07-20T00:00:00\",\"2021-09-21T00:00:00\",\"2021-05-04T00:00:00\",\"2021-12-21T00:00:00\",\"2021-11-16T00:00:00\",\"2021-12-14T00:00:00\",\"2021-08-03T00:00:00\",\"2021-07-27T00:00:00\",\"2021-11-09T00:00:00\",\"2021-11-16T00:00:00\",\"2021-04-06T00:00:00\",\"2021-08-10T00:00:00\",\"2021-04-13T00:00:00\",\"2021-05-18T00:00:00\",\"2021-09-14T00:00:00\",\"2021-09-09T00:00:00\",\"2021-11-30T00:00:00\",\"2021-02-11T00:00:00\",\"2021-07-06T00:00:00\",\"2021-08-10T00:00:00\",\"2021-10-19T00:00:00\",\"2021-06-08T00:00:00\",\"2021-12-21T00:00:00\",\"2021-02-11T00:00:00\",\"2021-10-19T00:00:00\",\"2021-11-23T00:00:00\",\"2021-10-19T00:00:00\",\"2021-12-06T00:00:00\",\"2021-09-09T00:00:00\",\"2021-06-22T00:00:00\",\"2021-08-24T00:00:00\",\"2021-05-25T00:00:00\",\"2021-02-11T00:00:00\",\"2021-02-04T00:00:00\",\"2021-11-23T00:00:00\",\"2021-01-28T00:00:00\",\"2021-11-09T00:00:00\",\"2021-12-14T00:00:00\",\"2021-06-15T00:00:00\",\"2021-08-10T00:00:00\",\"2021-05-11T00:00:00\",\"2021-04-13T00:00:00\",\"2021-07-13T00:00:00\",\"2021-01-14T00:00:00\",\"2021-01-14T00:00:00\",\"2021-06-29T00:00:00\",\"2021-06-08T00:00:00\",\"2021-07-06T00:00:00\",\"2021-05-11T00:00:00\",\"2021-05-04T00:00:00\",\"2021-04-06T00:00:00\",\"2021-03-09T00:00:00\",\"2021-04-27T00:00:00\",\"2021-09-14T00:00:00\",\"2021-10-05T00:00:00\",\"2021-09-28T00:00:00\",\"2021-09-28T00:00:00\",\"2022-01-04T00:00:00\",\"2022-01-04T00:00:00\",\"2022-01-04T00:00:00\"],\"y\":[0.8,1.2,1.2,0.8,0.6,1.0,1.0,1.3,0.9,1.0,1.5,1.0,1.0,1.0,0.6,0.5,0.6,1.2,1.5,1.0,1.5,1.2,1.1,1.2,0.8,1.0,0.8,0.6,0.5,1.2,1.5,1.0,0.9,0.5,0.6,0.8,1.5,1.2,1.0,1.0,1.0,1.0,0.8,0.4,0.8,1.0,1.2,1.0,1.2,0.8,0.9,1.0,0.6,1.5,1.3,0.5,0.8,0.8,0.8,1.0,2.5,0.8,1.2,2.0,0.8,1.0,0.6,0.8,1.2,0.5,1.2,1.1,1.5,0.6,0.6,0.8,0.6,0.8,0.6,1.5,0.8,0.6,1.4,1.2,0.8,0.5,0.8,1.2,0.8,1.0,0.8,0.8,1.0,1.2,1.2,1.0,0.6,2.5,1.5,0.6,1.0,0.6,1.0,0.8,0.9,1.5,0.42,0.47,0.29,0.5,0.58,0.42,0.6,0.52,0.71,0.47,0.5,0.61,1.05,0.53,0.3,0.76,0.46,0.45,3.5,0.65,0.37,0.81,2.5,0.6,0.87,0.48,0.54,0.96,0.38,0.67,0.47,0.56,0.8,0.5,0.52,0.48,0.46,0.69,0.51,0.49,1.53,0.58,0.48,0.48,0.37,0.43,0.61,2.6,0.52,0.38,1.12,0.42,0.7,1.37,0.4,0.43,0.85,0.4,0.64,0.44,0.29,1.12,0.96,0.41,0.47,0.38,0.47,0.8,0.47,0.57,0.42,0.81,1.11,2.3,2.8,0.43,0.35,0.8,1.63,0.42,1.87,0.46,2.8,2.1,0.56,0.47,0.62,0.48,0.37,0.38,0.46,0.86,0.74,2.4,0.42,1.28,0.53,0.68,0.39,0.53,0.71,0.76,0.59,0.74,0.61,5.8,0.42,0.32,0.59,0.47,0.39,0.39,0.87,0.45,0.53,0.21,0.96,0.55,1.04,0.17,0.51,0.24,0.8,0.41,0.4,0.42,0.53,0.28,0.3,0.45,0.3,0.3,0.2,0.24,0.16,0.76,0.45,1.07,0.31,0.94,0.37,0.25,0.18,0.42,0.21,0.58,0.33,0.23,0.43,0.68,0.29,0.37,0.5,0.41,0.25,0.86,0.58,3.1,0.71,0.3,0.28,0.31,0.33,0.2,0.57,0.2,0.27,0.21,0.86,0.58,0.68,0.1,0.22,0.4,0.27,1.05,0.46,1.15,0.42,0.29,1.04,0.25,3.0,0.69,0.15,0.8,0.32,0.1,0.3,0.42,0.42,0.29,0.15,0.18,0.3,0.38,0.74,0.32,0.3,0.37,0.22,0.47,0.41,0.22,0.3,0.9,0.25,1.11,0.35,0.38,0.43,0.35,0.28,0.43,0.4,0.2,0.4,0.33,0.45,1.86,0.76,0.37,0.42,0.8,0.13,0.32,0.31,2.1,0.43,0.42,0.23,0.35,0.34,0.25,0.24,0.39,0.32,0.34,0.57,0.38,0.35,0.42,0.29,0.38,0.41,0.34,0.28,0.33,0.35,0.74,0.5,0.26,0.36,0.29,0.59,0.29,0.31,0.4,0.67,0.37,0.24,0.25,0.25,0.26,0.34,0.21,0.47,0.49,0.56,0.41,0.31,0.27,0.35,0.27,0.33,0.33,0.43,0.83,0.36,0.29,0.2,0.32,0.57,0.48,0.31,0.37,0.58,0.37,0.58,0.25,0.3,0.29,0.45,0.49,0.48,0.67,0.29,0.29,0.46,0.35,0.32,0.49,0.28,0.4,0.38,0.47,0.75,0.43,0.45,0.23,0.31,0.26,0.21,0.68,0.37,0.26,0.28,0.35,0.49,0.35,0.39,0.29,0.17,0.61,0.39,0.44,0.32,0.37,0.31,0.37,0.42,0.48,0.0,0.0,0.19,0.45,0.31,0.25,0.62,0.35,0.4,0.41,0.28,0.32,0.42,0.27,1.44,1.03,0.3,0.55,0.0,0.17,0.91,0.75,0.4,0.0,0.31,0.32,0.36,0.47,0.29,0.27,0.25,0.0,0.24,0.37,0.24,0.33,0.47,0.55,0.28,0.3,0.25,0.32,0.23,0.33,0.0,0.26,0.0,0.69,0.31,0.38,0.34,1.11,0.0,0.29,0.53,0.27,0.33,1.83,0.0,0.43,0.67,0.3,0.34,0.42,0.0,0.26,0.33,0.31,0.3,0.49,0.26,0.2,0.0,0.31,0.4,0.57,1.61,0.45,0.32,0.67,0.38,0.7,0.48,0.38,0.5,0.3,0.35,0.0,0.33,0.34,0.42,0.33,0.2,0.29,0.25,2.3,0.21,0.34,0.17,0.28,0.0,0.0,1.27,0.29,0.37,0.0,0.0,0.23,0.29,0.13,0.34,0.17,0.37,0.0,0.39,0.42,0.3,0.54,0.26,0.0,0.41,0.45,0.0,0.44,0.0,0.52,0.35,0.35,0.36,0.64,0.38,0.0,0.64,0.0,0.0,0.27,0.32,0.36,0.31,0.2,0.2,0.27,1.13,0.44,0.43,0.29,0.28,0.24,0.29,0.27,0.39,0.55,0.38,0.28,2.2,1.61,1.81],\"type\":\"scatter\"}],                        {\"template\":{\"data\":{\"bar\":[{\"error_x\":{\"color\":\"#2a3f5f\"},\"error_y\":{\"color\":\"#2a3f5f\"},\"marker\":{\"line\":{\"color\":\"#E5ECF6\",\"width\":0.5},\"pattern\":{\"fillmode\":\"overlay\",\"size\":10,\"solidity\":0.2}},\"type\":\"bar\"}],\"barpolar\":[{\"marker\":{\"line\":{\"color\":\"#E5ECF6\",\"width\":0.5},\"pattern\":{\"fillmode\":\"overlay\",\"size\":10,\"solidity\":0.2}},\"type\":\"barpolar\"}],\"carpet\":[{\"aaxis\":{\"endlinecolor\":\"#2a3f5f\",\"gridcolor\":\"white\",\"linecolor\":\"white\",\"minorgridcolor\":\"white\",\"startlinecolor\":\"#2a3f5f\"},\"baxis\":{\"endlinecolor\":\"#2a3f5f\",\"gridcolor\":\"white\",\"linecolor\":\"white\",\"minorgridcolor\":\"white\",\"startlinecolor\":\"#2a3f5f\"},\"type\":\"carpet\"}],\"choropleth\":[{\"colorbar\":{\"outlinewidth\":0,\"ticks\":\"\"},\"type\":\"choropleth\"}],\"contour\":[{\"colorbar\":{\"outlinewidth\":0,\"ticks\":\"\"},\"colorscale\":[[0.0,\"#0d0887\"],[0.1111111111111111,\"#46039f\"],[0.2222222222222222,\"#7201a8\"],[0.3333333333333333,\"#9c179e\"],[0.4444444444444444,\"#bd3786\"],[0.5555555555555556,\"#d8576b\"],[0.6666666666666666,\"#ed7953\"],[0.7777777777777778,\"#fb9f3a\"],[0.8888888888888888,\"#fdca26\"],[1.0,\"#f0f921\"]],\"type\":\"contour\"}],\"contourcarpet\":[{\"colorbar\":{\"outlinewidth\":0,\"ticks\":\"\"},\"type\":\"contourcarpet\"}],\"heatmap\":[{\"colorbar\":{\"outlinewidth\":0,\"ticks\":\"\"},\"colorscale\":[[0.0,\"#0d0887\"],[0.1111111111111111,\"#46039f\"],[0.2222222222222222,\"#7201a8\"],[0.3333333333333333,\"#9c179e\"],[0.4444444444444444,\"#bd3786\"],[0.5555555555555556,\"#d8576b\"],[0.6666666666666666,\"#ed7953\"],[0.7777777777777778,\"#fb9f3a\"],[0.8888888888888888,\"#fdca26\"],[1.0,\"#f0f921\"]],\"type\":\"heatmap\"}],\"heatmapgl\":[{\"colorbar\":{\"outlinewidth\":0,\"ticks\":\"\"},\"colorscale\":[[0.0,\"#0d0887\"],[0.1111111111111111,\"#46039f\"],[0.2222222222222222,\"#7201a8\"],[0.3333333333333333,\"#9c179e\"],[0.4444444444444444,\"#bd3786\"],[0.5555555555555556,\"#d8576b\"],[0.6666666666666666,\"#ed7953\"],[0.7777777777777778,\"#fb9f3a\"],[0.8888888888888888,\"#fdca26\"],[1.0,\"#f0f921\"]],\"type\":\"heatmapgl\"}],\"histogram\":[{\"marker\":{\"pattern\":{\"fillmode\":\"overlay\",\"size\":10,\"solidity\":0.2}},\"type\":\"histogram\"}],\"histogram2d\":[{\"colorbar\":{\"outlinewidth\":0,\"ticks\":\"\"},\"colorscale\":[[0.0,\"#0d0887\"],[0.1111111111111111,\"#46039f\"],[0.2222222222222222,\"#7201a8\"],[0.3333333333333333,\"#9c179e\"],[0.4444444444444444,\"#bd3786\"],[0.5555555555555556,\"#d8576b\"],[0.6666666666666666,\"#ed7953\"],[0.7777777777777778,\"#fb9f3a\"],[0.8888888888888888,\"#fdca26\"],[1.0,\"#f0f921\"]],\"type\":\"histogram2d\"}],\"histogram2dcontour\":[{\"colorbar\":{\"outlinewidth\":0,\"ticks\":\"\"},\"colorscale\":[[0.0,\"#0d0887\"],[0.1111111111111111,\"#46039f\"],[0.2222222222222222,\"#7201a8\"],[0.3333333333333333,\"#9c179e\"],[0.4444444444444444,\"#bd3786\"],[0.5555555555555556,\"#d8576b\"],[0.6666666666666666,\"#ed7953\"],[0.7777777777777778,\"#fb9f3a\"],[0.8888888888888888,\"#fdca26\"],[1.0,\"#f0f921\"]],\"type\":\"histogram2dcontour\"}],\"mesh3d\":[{\"colorbar\":{\"outlinewidth\":0,\"ticks\":\"\"},\"type\":\"mesh3d\"}],\"parcoords\":[{\"line\":{\"colorbar\":{\"outlinewidth\":0,\"ticks\":\"\"}},\"type\":\"parcoords\"}],\"pie\":[{\"automargin\":true,\"type\":\"pie\"}],\"scatter\":[{\"marker\":{\"colorbar\":{\"outlinewidth\":0,\"ticks\":\"\"}},\"type\":\"scatter\"}],\"scatter3d\":[{\"line\":{\"colorbar\":{\"outlinewidth\":0,\"ticks\":\"\"}},\"marker\":{\"colorbar\":{\"outlinewidth\":0,\"ticks\":\"\"}},\"type\":\"scatter3d\"}],\"scattercarpet\":[{\"marker\":{\"colorbar\":{\"outlinewidth\":0,\"ticks\":\"\"}},\"type\":\"scattercarpet\"}],\"scattergeo\":[{\"marker\":{\"colorbar\":{\"outlinewidth\":0,\"ticks\":\"\"}},\"type\":\"scattergeo\"}],\"scattergl\":[{\"marker\":{\"colorbar\":{\"outlinewidth\":0,\"ticks\":\"\"}},\"type\":\"scattergl\"}],\"scattermapbox\":[{\"marker\":{\"colorbar\":{\"outlinewidth\":0,\"ticks\":\"\"}},\"type\":\"scattermapbox\"}],\"scatterpolar\":[{\"marker\":{\"colorbar\":{\"outlinewidth\":0,\"ticks\":\"\"}},\"type\":\"scatterpolar\"}],\"scatterpolargl\":[{\"marker\":{\"colorbar\":{\"outlinewidth\":0,\"ticks\":\"\"}},\"type\":\"scatterpolargl\"}],\"scatterternary\":[{\"marker\":{\"colorbar\":{\"outlinewidth\":0,\"ticks\":\"\"}},\"type\":\"scatterternary\"}],\"surface\":[{\"colorbar\":{\"outlinewidth\":0,\"ticks\":\"\"},\"colorscale\":[[0.0,\"#0d0887\"],[0.1111111111111111,\"#46039f\"],[0.2222222222222222,\"#7201a8\"],[0.3333333333333333,\"#9c179e\"],[0.4444444444444444,\"#bd3786\"],[0.5555555555555556,\"#d8576b\"],[0.6666666666666666,\"#ed7953\"],[0.7777777777777778,\"#fb9f3a\"],[0.8888888888888888,\"#fdca26\"],[1.0,\"#f0f921\"]],\"type\":\"surface\"}],\"table\":[{\"cells\":{\"fill\":{\"color\":\"#EBF0F8\"},\"line\":{\"color\":\"white\"}},\"header\":{\"fill\":{\"color\":\"#C8D4E3\"},\"line\":{\"color\":\"white\"}},\"type\":\"table\"}]},\"layout\":{\"annotationdefaults\":{\"arrowcolor\":\"#2a3f5f\",\"arrowhead\":0,\"arrowwidth\":1},\"autotypenumbers\":\"strict\",\"coloraxis\":{\"colorbar\":{\"outlinewidth\":0,\"ticks\":\"\"}},\"colorscale\":{\"diverging\":[[0,\"#8e0152\"],[0.1,\"#c51b7d\"],[0.2,\"#de77ae\"],[0.3,\"#f1b6da\"],[0.4,\"#fde0ef\"],[0.5,\"#f7f7f7\"],[0.6,\"#e6f5d0\"],[0.7,\"#b8e186\"],[0.8,\"#7fbc41\"],[0.9,\"#4d9221\"],[1,\"#276419\"]],\"sequential\":[[0.0,\"#0d0887\"],[0.1111111111111111,\"#46039f\"],[0.2222222222222222,\"#7201a8\"],[0.3333333333333333,\"#9c179e\"],[0.4444444444444444,\"#bd3786\"],[0.5555555555555556,\"#d8576b\"],[0.6666666666666666,\"#ed7953\"],[0.7777777777777778,\"#fb9f3a\"],[0.8888888888888888,\"#fdca26\"],[1.0,\"#f0f921\"]],\"sequentialminus\":[[0.0,\"#0d0887\"],[0.1111111111111111,\"#46039f\"],[0.2222222222222222,\"#7201a8\"],[0.3333333333333333,\"#9c179e\"],[0.4444444444444444,\"#bd3786\"],[0.5555555555555556,\"#d8576b\"],[0.6666666666666666,\"#ed7953\"],[0.7777777777777778,\"#fb9f3a\"],[0.8888888888888888,\"#fdca26\"],[1.0,\"#f0f921\"]]},\"colorway\":[\"#636efa\",\"#EF553B\",\"#00cc96\",\"#ab63fa\",\"#FFA15A\",\"#19d3f3\",\"#FF6692\",\"#B6E880\",\"#FF97FF\",\"#FECB52\"],\"font\":{\"color\":\"#2a3f5f\"},\"geo\":{\"bgcolor\":\"white\",\"lakecolor\":\"white\",\"landcolor\":\"#E5ECF6\",\"showlakes\":true,\"showland\":true,\"subunitcolor\":\"white\"},\"hoverlabel\":{\"align\":\"left\"},\"hovermode\":\"closest\",\"mapbox\":{\"style\":\"light\"},\"paper_bgcolor\":\"white\",\"plot_bgcolor\":\"#E5ECF6\",\"polar\":{\"angularaxis\":{\"gridcolor\":\"white\",\"linecolor\":\"white\",\"ticks\":\"\"},\"bgcolor\":\"#E5ECF6\",\"radialaxis\":{\"gridcolor\":\"white\",\"linecolor\":\"white\",\"ticks\":\"\"}},\"scene\":{\"xaxis\":{\"backgroundcolor\":\"#E5ECF6\",\"gridcolor\":\"white\",\"gridwidth\":2,\"linecolor\":\"white\",\"showbackground\":true,\"ticks\":\"\",\"zerolinecolor\":\"white\"},\"yaxis\":{\"backgroundcolor\":\"#E5ECF6\",\"gridcolor\":\"white\",\"gridwidth\":2,\"linecolor\":\"white\",\"showbackground\":true,\"ticks\":\"\",\"zerolinecolor\":\"white\"},\"zaxis\":{\"backgroundcolor\":\"#E5ECF6\",\"gridcolor\":\"white\",\"gridwidth\":2,\"linecolor\":\"white\",\"showbackground\":true,\"ticks\":\"\",\"zerolinecolor\":\"white\"}},\"shapedefaults\":{\"line\":{\"color\":\"#2a3f5f\"}},\"ternary\":{\"aaxis\":{\"gridcolor\":\"white\",\"linecolor\":\"white\",\"ticks\":\"\"},\"baxis\":{\"gridcolor\":\"white\",\"linecolor\":\"white\",\"ticks\":\"\"},\"bgcolor\":\"#E5ECF6\",\"caxis\":{\"gridcolor\":\"white\",\"linecolor\":\"white\",\"ticks\":\"\"}},\"title\":{\"x\":0.05},\"xaxis\":{\"automargin\":true,\"gridcolor\":\"white\",\"linecolor\":\"white\",\"ticks\":\"\",\"title\":{\"standoff\":15},\"zerolinecolor\":\"white\",\"zerolinewidth\":2},\"yaxis\":{\"automargin\":true,\"gridcolor\":\"white\",\"linecolor\":\"white\",\"ticks\":\"\",\"title\":{\"standoff\":15},\"zerolinecolor\":\"white\",\"zerolinewidth\":2}}},\"xaxis\":{\"tickformat\":\"%d %b<br>%Y\"},\"margin\":{\"l\":40,\"b\":40,\"r\":0},\"title\":{\"text\":\"Turbidez<br><sup>\\\"ETA\\\"</sup>\"},\"hovermode\":\"x\"},                        {\"responsive\": true}                    ).then(function(){\n",
       "                            \n",
       "var gd = document.getElementById('a3435a51-de1e-4f08-b75e-c6c2f348ae4c');\n",
       "var x = new MutationObserver(function (mutations, observer) {{\n",
       "        var display = window.getComputedStyle(gd).display;\n",
       "        if (!display || display === 'none') {{\n",
       "            console.log([gd, 'removed!']);\n",
       "            Plotly.purge(gd);\n",
       "            observer.disconnect();\n",
       "        }}\n",
       "}});\n",
       "\n",
       "// Listen for the removal of the full notebook cells\n",
       "var notebookContainer = gd.closest('#notebook-container');\n",
       "if (notebookContainer) {{\n",
       "    x.observe(notebookContainer, {childList: true});\n",
       "}}\n",
       "\n",
       "// Listen for the clearing of the current output cell\n",
       "var outputEl = gd.closest('.output');\n",
       "if (outputEl) {{\n",
       "    x.observe(outputEl, {childList: true});\n",
       "}}\n",
       "\n",
       "                        })                };                });            </script>        </div>"
      ]
     },
     "metadata": {},
     "output_type": "display_data"
    }
   ],
   "source": [
    "list_formas = list(set(df_temp['Nome Da Forma De Abastecimento']))\n",
    "print(list_formas)\n",
    "xaxis_column_name = list_formas[n_forma]\n",
    "print(xaxis_column_name)\n",
    "\n",
    "# Create Figure\n",
    "fig = go.Figure()\n",
    "\n",
    "# Add trace\n",
    "fig.add_trace(\n",
    "    go.Scatter(\n",
    "        x=df_temp['Data Da Coleta'],\n",
    "        #y=df['Resultado'],\n",
    "        y=df_temp[df_temp['Nome Da Forma De Abastecimento'] == xaxis_column_name]['Resultado'],\n",
    "        name='conclusao',\n",
    "        mode='markers',\n",
    "        marker={'color': 'red'},\n",
    "        opacity=0.8,\n",
    "    )\n",
    ")\n",
    "\n",
    "# Udate\n",
    "fig.update_layout(\n",
    "    title='Turbidez<br><sup>\"{}\"</sup>'.format(xaxis_column_name),\n",
    "    xaxis_tickformat='%d %b<br>%Y',\n",
    "    margin={\n",
    "        'l': 40,\n",
    "        'b': 40,\n",
    "        #'t': 40,\n",
    "        'r': 0\n",
    "    },\n",
    "    #dragmode='pan',\n",
    "    hovermode='x',\n",
    "\n",
    ")\n",
    "#fig.write_html('ddd.html', config=config)\n",
    "fig"
   ]
  },
  {
   "cell_type": "code",
   "execution_count": null,
   "id": "1c689af8-a0a8-431f-bfb5-a87f3bd1b9ec",
   "metadata": {},
   "outputs": [],
   "source": []
  },
  {
   "cell_type": "code",
   "execution_count": null,
   "id": "995ab464-f3ae-4d50-ac9d-8edfa53f4166",
   "metadata": {},
   "outputs": [],
   "source": []
  },
  {
   "cell_type": "markdown",
   "id": "1ede5764-0400-4ef3-839b-fd87b2573601",
   "metadata": {},
   "source": [
    "<br>\n",
    "\n",
    "# Dash"
   ]
  },
  {
   "cell_type": "code",
   "execution_count": 393,
   "id": "5313ebb6-12ac-4c7a-9a44-4fea48a5252d",
   "metadata": {},
   "outputs": [
    {
     "data": {
      "text/html": [
       "\n",
       "        <iframe\n",
       "            width=\"100%\"\n",
       "            height=\"650\"\n",
       "            src=\"http://127.0.0.1:8051/\"\n",
       "            frameborder=\"0\"\n",
       "            allowfullscreen\n",
       "            \n",
       "        ></iframe>\n",
       "        "
      ],
      "text/plain": [
       "<IPython.lib.display.IFrame at 0x7f59fe7d9a00>"
      ]
     },
     "metadata": {},
     "output_type": "display_data"
    }
   ],
   "source": [
    "# Start\n",
    "app = JupyterDash(__name__)\n",
    "\n",
    "# \n",
    "app.layout = html.Div([\n",
    "    html.Div([\n",
    "        html.Div(\n",
    "            [\n",
    "                dcc.Dropdown(\n",
    "                    df['Nome Da Forma De Abastecimento'].unique(),\n",
    "                    #value='Fertility rate, total (births per woman)',\n",
    "                    id='xaxis-column'\n",
    "                ),\n",
    "            ],\n",
    "            style={'width': '48%', 'display': 'inline-block'}),\n",
    "    ]),\n",
    "\n",
    "    dcc.Graph(id='indicator-graphic'),\n",
    "])\n",
    "\n",
    "@app.callback(\n",
    "    Output('indicator-graphic', 'figure'),\n",
    "    Input('xaxis-column', 'value'),\n",
    ")\n",
    "def update_graph(xaxis_column_name):\n",
    "    # Create Figure\n",
    "    fig = go.Figure()\n",
    "    \n",
    "    # Add trace\n",
    "    fig.add_trace(\n",
    "        go.Scatter(\n",
    "            x=df['Data Da Coleta'],\n",
    "            #y=df['Resultado'],\n",
    "            y=df[df['Nome Da Forma De Abastecimento'] == xaxis_column_name]['Resultado'],\n",
    "            name='conclusao',\n",
    "            mode='markers',\n",
    "            marker={'color': 'red'},\n",
    "            opacity=0.8,\n",
    "        )\n",
    "    )\n",
    "    \n",
    "    # Udate\n",
    "    fig.update_layout(\n",
    "        title='Cloro Residual na \"{}\"'.format(xaxis_column_name),\n",
    "        xaxis_tickformat='%d %b<br>%Y',\n",
    "        margin={\n",
    "            'l': 40,\n",
    "            'b': 40,\n",
    "            #'t': 40,\n",
    "            'r': 0\n",
    "        },\n",
    "        #dragmode='pan',\n",
    "        hovermode='x',\n",
    "\n",
    "    )\n",
    "    #fig.write_html('ddd.html', config=config)\n",
    "    return fig\n",
    "\n",
    "# Run\n",
    "app.run_server(mode='inline', port=8051)"
   ]
  },
  {
   "cell_type": "markdown",
   "id": "044f10a3-64c8-4d8b-b47c-74c38237f6dd",
   "metadata": {
    "tags": [
     "remove_cell"
    ]
   },
   "source": [
    "<br>\n",
    "\n",
    "# Export"
   ]
  },
  {
   "cell_type": "code",
   "execution_count": 28,
   "id": "ea35f924-84cd-446c-9bae-d16bef9503c2",
   "metadata": {
    "tags": [
     "remove_cell"
    ]
   },
   "outputs": [],
   "source": [
    "import os\n",
    "from traitlets.config import Config\n",
    "from nbconvert import PythonExporter\n",
    "from nbconvert.preprocessors import TagRemovePreprocessor"
   ]
  },
  {
   "cell_type": "code",
   "execution_count": 29,
   "id": "047afdcb-1c12-46db-bb46-f8e28413bac8",
   "metadata": {
    "tags": [
     "remove_cell"
    ]
   },
   "outputs": [
    {
     "name": "stdout",
     "output_type": "stream",
     "text": [
      "/home/michel/Codes/open_geodata/br_sisagua/src/sisagua/dash_sisagua.py\n"
     ]
    }
   ],
   "source": [
    "input_filename = '12_analysis_basics.ipynb'\n",
    "input_filepath = os.path.join(os.getcwd(), input_filename)\n",
    "output_filepath = os.path.abspath(os.path.join(os.getcwd(), '..', 'src', 'sisagua', 'dash_sisagua_lixo.py'))\n",
    "\n",
    "print(output_filepath)"
   ]
  },
  {
   "cell_type": "code",
   "execution_count": 30,
   "id": "4e75790f-ecba-4b2e-920b-3f8990a05209",
   "metadata": {
    "tags": [
     "remove_cell"
    ]
   },
   "outputs": [],
   "source": [
    "# Import the exporter\n",
    "c = Config()\n",
    "c.TagRemovePreprocessor.enabled=True\n",
    "c.ClearOutputPreprocessor.enabled=True\n",
    "c.TemplateExporter.exclude_markdown=True\n",
    "c.TemplateExporter.exclude_code_cell=False\n",
    "c.TemplateExporter.exclude_input_prompt=True \n",
    "c.TemplateExporter.exclude_output=True\n",
    "c.TemplateExporter.exclude_raw=True\n",
    "c.TagRemovePreprocessor.remove_cell_tags = ('remove_cell',)\n",
    "c.TagRemovePreprocessor.remove_input_tags = ('remove_cell',)\n",
    "c.TagRemovePreprocessor.remove_all_outputs_tags = ('remove_output',)\n",
    "c.preprocessors = ['TagRemovePreprocessor']\n",
    "c.PythonExporter.preprocessors = ['nbconvert.preprocessors.TagRemovePreprocessor']\n",
    "\n",
    "# Configure and run out exporter\n",
    "py_exporter = PythonExporter(config=c)\n",
    "py_exporter.register_preprocessor(TagRemovePreprocessor(config=c), True)\n",
    "\n",
    "# Configure and run out exporter - returns a tuple - first element with html, second with notebook metadata\n",
    "body, metadata = PythonExporter(config=c).from_filename(input_filepath)\n",
    "\n",
    "# Write to output html file\n",
    "with open(output_filepath,  'w', encoding='utf-8') as f:\n",
    "    f.write(body)"
   ]
  },
  {
   "cell_type": "code",
   "execution_count": null,
   "id": "8928e252-d2ce-4b95-b22c-941daf2e732b",
   "metadata": {},
   "outputs": [],
   "source": []
  }
 ],
 "metadata": {
  "kernelspec": {
   "display_name": "Python 3 (ipykernel)",
   "language": "python",
   "name": "python3"
  },
  "language_info": {
   "codemirror_mode": {
    "name": "ipython",
    "version": 3
   },
   "file_extension": ".py",
   "mimetype": "text/x-python",
   "name": "python",
   "nbconvert_exporter": "python",
   "pygments_lexer": "ipython3",
   "version": "3.9.12"
  },
  "toc-autonumbering": true
 },
 "nbformat": 4,
 "nbformat_minor": 5
}
