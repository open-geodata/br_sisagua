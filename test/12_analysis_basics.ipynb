{
 "cells": [
  {
   "cell_type": "markdown",
   "id": "e24b2a80-7738-4a10-9b22-8f4228517bdd",
   "metadata": {
    "tags": [
     "remove_cell"
    ]
   },
   "source": [
    "<br>\n",
    "\n",
    "# Introdução"
   ]
  },
  {
   "cell_type": "code",
   "execution_count": null,
   "id": "45a9f937-5157-404f-b9f4-887418f102ea",
   "metadata": {},
   "outputs": [],
   "source": [
    "import os\n",
    "import sys\n",
    "import folium\n",
    "import numpy as np\n",
    "import pandas as pd\n",
    "import seaborn as sns\n",
    "import geopandas as gpd\n",
    "from folium import plugins\n",
    "from datetime import date"
   ]
  },
  {
   "cell_type": "code",
   "execution_count": null,
   "id": "03e55550-568c-481d-a0f3-1679d081b56b",
   "metadata": {
    "tags": [
     "remove_cell"
    ]
   },
   "outputs": [],
   "source": [
    "print('Read \"cod_ibge\" from Jupyter')\n",
    "mod_path = os.path.abspath(os.path.join(os.getcwd(), '..', 'src'))\n",
    "sys.path.append(mod_path)\n",
    "from sisagua.cod_ibge import *"
   ]
  },
  {
   "cell_type": "code",
   "execution_count": null,
   "id": "60db4f4b-1af4-4d87-9345-e4d5843fb25c",
   "metadata": {},
   "outputs": [],
   "source": [
    "try:\n",
    "    print('Read \"cod_ibge\" from Python File')\n",
    "    from cod_ibge import *\n",
    "except:\n",
    "    pass"
   ]
  },
  {
   "cell_type": "code",
   "execution_count": null,
   "id": "aca3ee0d-30e3-49b4-9095-9955ed23d176",
   "metadata": {},
   "outputs": [],
   "source": [
    "try:\n",
    "    print('Read \"paths\" from Jupyter')\n",
    "    from paths import *\n",
    "    \n",
    "except:\n",
    "    print('Não deu pra importar paths')"
   ]
  },
  {
   "cell_type": "code",
   "execution_count": null,
   "id": "5a13b9a6-fe55-4b51-9e58-67e84759df94",
   "metadata": {},
   "outputs": [],
   "source": [
    "# Parameters\n",
    "estado = 'SP'\n",
    "cod_ibge = '3548906' # São Carlos\n",
    "cod_ibge = '3526902' # Limeira\n",
    "\n",
    "# Adjust Code\n",
    "cod_ibge_adjusted = adjust_cod_ibge(cod_ibge)\n",
    "\n",
    "# Path name\n",
    "city_path = '{}_{}'.format(estado, cod_ibge_adjusted)\n",
    "city_path"
   ]
  },
  {
   "cell_type": "markdown",
   "id": "8ccda79f-0f56-4c6e-939e-7b54bb7907b3",
   "metadata": {},
   "source": [
    "<br>\n",
    "\n",
    "# Lê Dados da Vigilância"
   ]
  },
  {
   "cell_type": "code",
   "execution_count": null,
   "id": "22241504-9abb-4848-9278-6f79f9b471aa",
   "metadata": {
    "tags": [
     "remove_cell"
    ]
   },
   "outputs": [],
   "source": [
    "# Read Table\n",
    "print('Read \"data\" from Jupyter')\n",
    "df = pd.read_excel(\n",
    "    os.path.join(output_path_cidades, city_path, 'vigilancia', 'vigilancia_parametros_basicos.xlsx')\n",
    ")"
   ]
  },
  {
   "cell_type": "code",
   "execution_count": null,
   "id": "a1724c78-31f7-46f3-be6c-f3f07683f4d3",
   "metadata": {},
   "outputs": [],
   "source": [
    "try:\n",
    "    print('Read \"data\" from Python File')\n",
    "    output_path_cidades = os.path.abspath(os.path.join(os.path.dirname(__file__), '..', '..', 'data', 'output', 'cidades'))\n",
    "    df = pd.read_excel(\n",
    "        os.path.join(output_path_cidades, city_path, 'vigilancia', 'vigilancia_parametros_basicos.xlsx')\n",
    "    )\n",
    "except:\n",
    "    pass"
   ]
  },
  {
   "cell_type": "code",
   "execution_count": null,
   "id": "3a9441df-7d50-49aa-9d75-46c6528ccbf7",
   "metadata": {},
   "outputs": [],
   "source": [
    "# Results\n",
    "print(df.info())"
   ]
  },
  {
   "cell_type": "code",
   "execution_count": null,
   "id": "9ff9f828-0780-4b8b-a312-50302f171fea",
   "metadata": {
    "tags": [
     "remove_cell"
    ]
   },
   "outputs": [],
   "source": [
    "list_cols = ['Região Geográfica', 'Regional De Saúde', 'Município']\n",
    "df[list_cols].drop_duplicates()"
   ]
  },
  {
   "cell_type": "code",
   "execution_count": null,
   "id": "62d80f95-e031-49fe-9385-a45cb57d66ef",
   "metadata": {
    "tags": [
     "remove_cell"
    ]
   },
   "outputs": [],
   "source": [
    "list_cols = [\n",
    "    'Código Forma De Abastecimento',\n",
    "    'Tipo Da Forma De Abastecimento',\n",
    "    'Nome Da Forma De Abastecimento',\n",
    "]\n",
    "df[list_cols].drop_duplicates()"
   ]
  },
  {
   "cell_type": "code",
   "execution_count": null,
   "id": "0cbfeaa0-f221-475a-8448-63fb4d50d838",
   "metadata": {
    "tags": [
     "remove_cell"
    ]
   },
   "outputs": [],
   "source": [
    "list_cols = [\n",
    "    'Tipo Da Instituição',\n",
    "    'Sigla Da Instituição',\n",
    "    'Nome Da Instituição',\n",
    "    'Cnpj Da Instituição',\n",
    "    'Nome Do Escritório Regional/Local',\n",
    "    'Cnpj Do Escritório Regional/Local'\n",
    "]\n",
    "df[list_cols].drop_duplicates()"
   ]
  },
  {
   "cell_type": "code",
   "execution_count": null,
   "id": "95ad3d33-0cd7-4109-9bd9-d87c66be8100",
   "metadata": {
    "tags": [
     "remove_cell"
    ]
   },
   "outputs": [],
   "source": [
    "list_cols = [\n",
    "    'Procedência Da Coleta',\n",
    "    'Ponto De Coleta',\n",
    "    #'Área',\n",
    "    #'Descrição Do Local',\n",
    "    'Zona',\n",
    "    'Categoria Área',    \n",
    "]\n",
    "df[list_cols].drop_duplicates()"
   ]
  },
  {
   "cell_type": "code",
   "execution_count": null,
   "id": "592cd4cd-973a-4e7e-b196-e399ea2a9f15",
   "metadata": {
    "tags": [
     "remove_cell"
    ]
   },
   "outputs": [],
   "source": [
    "list_cols = [    \n",
    "    'Zona',\n",
    "    'Categoria Área',\n",
    "    'Tipo Do Local',\n",
    "    'Área',\n",
    "    'Descrição Do Local',\n",
    "    'Local',\n",
    "]\n",
    "df[list_cols].drop_duplicates()"
   ]
  },
  {
   "cell_type": "code",
   "execution_count": null,
   "id": "451784d0-f08c-4335-82b0-b94e18d86b2c",
   "metadata": {
    "tags": [
     "remove_cell"
    ]
   },
   "outputs": [],
   "source": [
    "list_cols = [\n",
    "    'Latitude',\n",
    "    'Longitude'\n",
    "]\n",
    "df[list_cols].drop_duplicates()"
   ]
  },
  {
   "cell_type": "code",
   "execution_count": null,
   "id": "9e83ec1b-13b2-4b54-a8c4-b79eac98f0fe",
   "metadata": {
    "tags": [
     "remove_cell"
    ]
   },
   "outputs": [],
   "source": [
    "list(df.columns)"
   ]
  },
  {
   "cell_type": "code",
   "execution_count": null,
   "id": "20367883-d001-4e97-8f2b-ef86010a6354",
   "metadata": {
    "tags": [
     "remove_cell"
    ]
   },
   "outputs": [],
   "source": [
    "list_cols = [\n",
    "    'Número Da Amostra',\n",
    "    'Motivo Da Coleta',    \n",
    "    'Parâmetro (Parâmetros Básicos)',\n",
    "    'Análise Realizada',\n",
    "    'Resultado',\n",
    "    'Providência',\n",
    "]\n",
    "df[list_cols].drop_duplicates()"
   ]
  },
  {
   "cell_type": "code",
   "execution_count": null,
   "id": "e482aed8-dda1-4da3-9b66-3a6d984c002c",
   "metadata": {
    "tags": [
     "remove_cell"
    ]
   },
   "outputs": [],
   "source": [
    "set(df['Análise Realizada'])"
   ]
  },
  {
   "cell_type": "code",
   "execution_count": null,
   "id": "f107917f-3801-475b-b26b-7628da042beb",
   "metadata": {
    "tags": [
     "remove_cell"
    ]
   },
   "outputs": [],
   "source": [
    "set(df['Parâmetro (Parâmetros Básicos)'])"
   ]
  },
  {
   "cell_type": "markdown",
   "id": "5f520081-dfa3-4941-a5b5-087159a8f3a5",
   "metadata": {},
   "source": [
    "<br>\n",
    "\n",
    "## Seleciona Parâmetros"
   ]
  },
  {
   "cell_type": "code",
   "execution_count": null,
   "id": "d6cd6111-0a5a-41a5-a786-7b29e88240a8",
   "metadata": {
    "tags": [
     "remove_cell"
    ]
   },
   "outputs": [],
   "source": [
    "set(df['Parâmetro (Parâmetros Básicos)'])"
   ]
  },
  {
   "cell_type": "code",
   "execution_count": null,
   "id": "87bd516b-dacf-4144-a820-ced4f57dd219",
   "metadata": {},
   "outputs": [],
   "source": [
    "# Select Parameters\n",
    "df = df[df['Parâmetro (Parâmetros Básicos)'].str.contains('Cloro')]"
   ]
  },
  {
   "cell_type": "code",
   "execution_count": null,
   "id": "87bdfc02-3aa3-444d-92cf-419f8c1a9561",
   "metadata": {},
   "outputs": [],
   "source": [
    "# Ajusta Resultados\n",
    "df['Resultado'] = df['Resultado'].astype(str).str.replace(',','.')\n",
    "df.loc['Resultado'] = pd.to_numeric(df['Resultado'], errors='coerce')\n",
    "df['Resultado']\n",
    "df.head()"
   ]
  },
  {
   "cell_type": "code",
   "execution_count": null,
   "id": "e0e710ee-2b9b-4456-80a5-0753d9e93e1c",
   "metadata": {},
   "outputs": [],
   "source": [
    "# Adjust Dates\n",
    "df['Data Da Coleta'] = pd.to_datetime(df['Data Da Coleta'])\n",
    "df['Data Do Laudo'] = pd.to_datetime(df['Data Do Laudo'])\n",
    "df['Data De Registro No Sisagua'] = pd.to_datetime(df['Data De Registro No Sisagua'])"
   ]
  },
  {
   "cell_type": "code",
   "execution_count": null,
   "id": "77667d51-ffa2-4298-abcb-f6752551012b",
   "metadata": {
    "tags": [
     "remove_cell"
    ]
   },
   "outputs": [],
   "source": [
    "df.dtypes"
   ]
  },
  {
   "cell_type": "code",
   "execution_count": null,
   "id": "f666f4e4-f129-46e8-979b-838768376e85",
   "metadata": {
    "tags": [
     "remove_cell"
    ]
   },
   "outputs": [],
   "source": [
    "list(df.columns)"
   ]
  },
  {
   "cell_type": "markdown",
   "id": "571544e6-0c51-4ea2-8ffa-98fa6d7c00ba",
   "metadata": {},
   "source": [
    "<br>\n",
    "\n",
    "# Dash"
   ]
  },
  {
   "cell_type": "code",
   "execution_count": null,
   "id": "521581d4-7ca8-478d-aa6f-c0684a9ea72c",
   "metadata": {},
   "outputs": [],
   "source": [
    "import dash\n",
    "from dash import Dash, dcc, html, Input, Output\n",
    "from jupyter_dash import JupyterDash"
   ]
  },
  {
   "cell_type": "code",
   "execution_count": null,
   "id": "76ea711e-0809-457d-8bdc-138ae82a9cff",
   "metadata": {},
   "outputs": [],
   "source": [
    "import plotly.express as px\n",
    "import plotly.graph_objects as go"
   ]
  },
  {
   "cell_type": "code",
   "execution_count": null,
   "id": "5313ebb6-12ac-4c7a-9a44-4fea48a5252d",
   "metadata": {},
   "outputs": [],
   "source": [
    "# Start\n",
    "app = JupyterDash(__name__)\n",
    "\n",
    "# \n",
    "app.layout = html.Div([\n",
    "    html.Div([\n",
    "        html.Div(\n",
    "            [\n",
    "                dcc.Dropdown(\n",
    "                    df['Nome Da Forma De Abastecimento'].unique(),\n",
    "                    #value='Fertility rate, total (births per woman)',\n",
    "                    id='xaxis-column'\n",
    "                ),\n",
    "            ],\n",
    "            style={'width': '48%', 'display': 'inline-block'}),\n",
    "    ]),\n",
    "\n",
    "    dcc.Graph(id='indicator-graphic'),\n",
    "])\n",
    "\n",
    "@app.callback(\n",
    "    Output('indicator-graphic', 'figure'),\n",
    "    Input('xaxis-column', 'value'),\n",
    ")\n",
    "def update_graph(xaxis_column_name):\n",
    "    # Create Figure\n",
    "    fig = go.Figure()\n",
    "    \n",
    "    # Add trace\n",
    "    fig.add_trace(\n",
    "        go.Scatter(\n",
    "            x=df['Data Da Coleta'],\n",
    "            #y=df['Resultado'],\n",
    "            y=df[df['Nome Da Forma De Abastecimento'] == xaxis_column_name]['Resultado'],\n",
    "            name='conclusao',\n",
    "            mode='markers',\n",
    "            marker={'color': 'red'},\n",
    "            opacity=0.8,\n",
    "        )\n",
    "    )\n",
    "    \n",
    "    # Udate\n",
    "    fig.update_layout(\n",
    "        title='Cloro Residual na \"{}\"'.format(xaxis_column_name),\n",
    "        xaxis_tickformat='%d %b<br>%Y',\n",
    "        margin={\n",
    "            'l': 40,\n",
    "            'b': 40,\n",
    "            #'t': 40,\n",
    "            'r': 0\n",
    "        },\n",
    "        #dragmode='pan',\n",
    "        hovermode='x',\n",
    "\n",
    "    )\n",
    "    #fig.write_html('ddd.html', config=config)\n",
    "    return fig\n",
    "\n",
    "# Run\n",
    "app.run_server(mode='inline', port=8051)"
   ]
  },
  {
   "cell_type": "markdown",
   "id": "044f10a3-64c8-4d8b-b47c-74c38237f6dd",
   "metadata": {
    "tags": [
     "remove_cell"
    ]
   },
   "source": [
    "<br>\n",
    "\n",
    "# Export"
   ]
  },
  {
   "cell_type": "code",
   "execution_count": null,
   "id": "ea35f924-84cd-446c-9bae-d16bef9503c2",
   "metadata": {
    "tags": [
     "remove_cell"
    ]
   },
   "outputs": [],
   "source": [
    "import os\n",
    "from traitlets.config import Config\n",
    "from nbconvert import PythonExporter\n",
    "from nbconvert.preprocessors import TagRemovePreprocessor"
   ]
  },
  {
   "cell_type": "code",
   "execution_count": null,
   "id": "047afdcb-1c12-46db-bb46-f8e28413bac8",
   "metadata": {
    "tags": [
     "remove_cell"
    ]
   },
   "outputs": [],
   "source": [
    "input_filename = '12_analysis_basics.ipynb'\n",
    "input_filepath = os.path.join(os.getcwd(), input_filename)\n",
    "output_filepath = os.path.abspath(os.path.join(os.getcwd(), '..', 'src', 'sisagua', 'dash_sisagua.py'))\n",
    "\n",
    "print(output_filepath)"
   ]
  },
  {
   "cell_type": "code",
   "execution_count": null,
   "id": "4e75790f-ecba-4b2e-920b-3f8990a05209",
   "metadata": {
    "tags": [
     "remove_cell"
    ]
   },
   "outputs": [],
   "source": [
    "# Import the exporter\n",
    "c = Config()\n",
    "c.TagRemovePreprocessor.enabled=True\n",
    "c.ClearOutputPreprocessor.enabled=True\n",
    "c.TemplateExporter.exclude_markdown=True\n",
    "c.TemplateExporter.exclude_code_cell=False\n",
    "c.TemplateExporter.exclude_input_prompt=True \n",
    "c.TemplateExporter.exclude_output=True\n",
    "c.TemplateExporter.exclude_raw=True\n",
    "c.TagRemovePreprocessor.remove_cell_tags = ('remove_cell',)\n",
    "c.TagRemovePreprocessor.remove_input_tags = ('remove_cell',)\n",
    "c.TagRemovePreprocessor.remove_all_outputs_tags = ('remove_output',)\n",
    "c.preprocessors = ['TagRemovePreprocessor']\n",
    "c.PythonExporter.preprocessors = ['nbconvert.preprocessors.TagRemovePreprocessor']\n",
    "\n",
    "# Configure and run out exporter\n",
    "py_exporter = PythonExporter(config=c)\n",
    "py_exporter.register_preprocessor(TagRemovePreprocessor(config=c), True)\n",
    "\n",
    "# Configure and run out exporter - returns a tuple - first element with html, second with notebook metadata\n",
    "body, metadata = PythonExporter(config=c).from_filename(input_filepath)\n",
    "\n",
    "# Write to output html file\n",
    "with open(output_filepath,  'w', encoding='utf-8') as f:\n",
    "    f.write(body)"
   ]
  },
  {
   "cell_type": "code",
   "execution_count": null,
   "id": "8928e252-d2ce-4b95-b22c-941daf2e732b",
   "metadata": {},
   "outputs": [],
   "source": []
  }
 ],
 "metadata": {
  "kernelspec": {
   "display_name": "Python [conda env:pablocarreira-py39] *",
   "language": "python",
   "name": "conda-env-pablocarreira-py39-py"
  },
  "language_info": {
   "codemirror_mode": {
    "name": "ipython",
    "version": 3
   },
   "file_extension": ".py",
   "mimetype": "text/x-python",
   "name": "python",
   "nbconvert_exporter": "python",
   "pygments_lexer": "ipython3",
   "version": "3.9.12"
  },
  "toc-autonumbering": true
 },
 "nbformat": 4,
 "nbformat_minor": 5
}
