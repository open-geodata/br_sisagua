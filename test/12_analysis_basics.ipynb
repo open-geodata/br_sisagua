{
 "cells": [
  {
   "cell_type": "markdown",
   "id": "e24b2a80-7738-4a10-9b22-8f4228517bdd",
   "metadata": {
    "tags": [
     "remove_cell"
    ]
   },
   "source": [
    "<br>\n",
    "\n",
    "# Introdução"
   ]
  },
  {
   "cell_type": "code",
   "execution_count": 1,
   "id": "45a9f937-5157-404f-b9f4-887418f102ea",
   "metadata": {},
   "outputs": [],
   "source": [
    "import os\n",
    "import sys\n",
    "import pandas as pd\n",
    "from datetime import date"
   ]
  },
  {
   "cell_type": "code",
   "execution_count": 2,
   "id": "03e55550-568c-481d-a0f3-1679d081b56b",
   "metadata": {
    "tags": [
     "remove_cell"
    ]
   },
   "outputs": [
    {
     "name": "stdout",
     "output_type": "stream",
     "text": [
      "Read \"ibge\" from Jupyter\n"
     ]
    }
   ],
   "source": [
    "print('Read \"ibge\" from Jupyter')\n",
    "mod_path = os.path.abspath(os.path.join(os.getcwd(), '..', 'src'))\n",
    "sys.path.append(mod_path)\n",
    "from sisagua.ibge import *"
   ]
  },
  {
   "cell_type": "code",
   "execution_count": 3,
   "id": "60db4f4b-1af4-4d87-9345-e4d5843fb25c",
   "metadata": {},
   "outputs": [
    {
     "name": "stdout",
     "output_type": "stream",
     "text": [
      "Read \"ibge\" from Python File\n"
     ]
    }
   ],
   "source": [
    "try:\n",
    "    print('Read \"ibge\" from Python File')\n",
    "    #from ibge import *\n",
    "    \n",
    "    \n",
    "    def adjust_cod_ibge(cod_ibge):\n",
    "        if len(str(cod_ibge)) == 6:\n",
    "            print('Padrão IBGE antigo, com código de 6 dígitos.\\nSem correções necessárias.')\n",
    "            cod_ibge = int(cod_ibge)\n",
    "            print('Código IBGE: {}'.format(cod_ibge))\n",
    "\n",
    "        elif len(str(cod_ibge)) == 7:\n",
    "            print('Padrão IBGE novo, com código de 7 dígitos.\\nCorreções necessárias aplicadas!')\n",
    "            cod_ibge = cod_ibge[0:6]\n",
    "            cod_ibge = int(cod_ibge)\n",
    "            print('Código IBGE: {}'.format(cod_ibge))\n",
    "\n",
    "        else:\n",
    "            print('Padrão Diferente!\\nDesenvolver correção!')\n",
    "\n",
    "        return cod_ibge\n",
    "\n",
    "\n",
    "    \n",
    "except:\n",
    "    pass"
   ]
  },
  {
   "cell_type": "code",
   "execution_count": 4,
   "id": "aca3ee0d-30e3-49b4-9095-9955ed23d176",
   "metadata": {},
   "outputs": [
    {
     "name": "stdout",
     "output_type": "stream",
     "text": [
      "Read \"paths\" from Jupyter\n"
     ]
    }
   ],
   "source": [
    "try:\n",
    "    print('Read \"paths\" from Jupyter')\n",
    "    from paths import *\n",
    "    \n",
    "except:\n",
    "    print('Não deu pra importar paths')"
   ]
  },
  {
   "cell_type": "code",
   "execution_count": 5,
   "id": "5a13b9a6-fe55-4b51-9e58-67e84759df94",
   "metadata": {},
   "outputs": [
    {
     "name": "stdout",
     "output_type": "stream",
     "text": [
      "Padrão IBGE novo, com código de 7 dígitos.\n",
      "Correções necessárias aplicadas!\n",
      "Código IBGE: 352690\n"
     ]
    },
    {
     "data": {
      "text/plain": [
       "'SP_352690'"
      ]
     },
     "execution_count": 5,
     "metadata": {},
     "output_type": "execute_result"
    }
   ],
   "source": [
    "# Parameters\n",
    "estado = 'SP'\n",
    "cod_ibge = '3548906' # São Carlos\n",
    "cod_ibge = '3526902' # Limeira\n",
    "\n",
    "# Adjust Code\n",
    "cod_ibge_adjusted = adjust_cod_ibge(cod_ibge)\n",
    "\n",
    "# Path name\n",
    "city_path = '{}_{}'.format(estado, cod_ibge_adjusted)\n",
    "city_path"
   ]
  },
  {
   "cell_type": "markdown",
   "id": "8ccda79f-0f56-4c6e-939e-7b54bb7907b3",
   "metadata": {},
   "source": [
    "<br>\n",
    "\n",
    "# Lê Dados da Vigilância"
   ]
  },
  {
   "cell_type": "code",
   "execution_count": 6,
   "id": "22241504-9abb-4848-9278-6f79f9b471aa",
   "metadata": {
    "tags": [
     "remove_cell"
    ]
   },
   "outputs": [
    {
     "name": "stdout",
     "output_type": "stream",
     "text": [
      "Read \"data\" from Jupyter\n"
     ]
    }
   ],
   "source": [
    "# Read Table\n",
    "print('Read \"data\" from Jupyter')\n",
    "df = pd.read_excel(\n",
    "    os.path.join(output_path_cidades, city_path, 'vigilancia', 'vigilancia_parametros_basicos.xlsx')\n",
    ")"
   ]
  },
  {
   "cell_type": "code",
   "execution_count": 7,
   "id": "a1724c78-31f7-46f3-be6c-f3f07683f4d3",
   "metadata": {},
   "outputs": [
    {
     "name": "stdout",
     "output_type": "stream",
     "text": [
      "Read \"data\" from Python File\n"
     ]
    }
   ],
   "source": [
    "try:\n",
    "    print('Read \"data\" from Python File')\n",
    "    output_path_cidades = os.path.abspath(os.path.join(os.path.dirname(__file__), '..', '..', 'data', 'output', 'cidades'))\n",
    "    df = pd.read_excel(\n",
    "        os.path.join(output_path_cidades, city_path, 'vigilancia', 'vigilancia_parametros_basicos.xlsx')\n",
    "    )\n",
    "except:\n",
    "    pass"
   ]
  },
  {
   "cell_type": "code",
   "execution_count": 8,
   "id": "3a9441df-7d50-49aa-9d75-46c6528ccbf7",
   "metadata": {},
   "outputs": [
    {
     "name": "stdout",
     "output_type": "stream",
     "text": [
      "<class 'pandas.core.frame.DataFrame'>\n",
      "RangeIndex: 15127 entries, 0 to 15126\n",
      "Data columns (total 36 columns):\n",
      " #   Column                             Non-Null Count  Dtype  \n",
      "---  ------                             --------------  -----  \n",
      " 0   Região Geográfica                  15127 non-null  object \n",
      " 1   Regional De Saúde                  15127 non-null  object \n",
      " 2   Município                          15127 non-null  object \n",
      " 3   Número Da Amostra                  15127 non-null  int64  \n",
      " 4   Motivo Da Coleta                   15127 non-null  object \n",
      " 5   Tipo Da Forma De Abastecimento     15127 non-null  object \n",
      " 6   Código Forma De Abastecimento      15127 non-null  object \n",
      " 7   Nome Da Forma De Abastecimento     15127 non-null  object \n",
      " 8   Tipo Da Instituição                15127 non-null  object \n",
      " 9   Sigla Da Instituição               0 non-null      float64\n",
      " 10  Nome Da Instituição                15127 non-null  object \n",
      " 11  Cnpj Da Instituição                15127 non-null  float64\n",
      " 12  Nome Do Escritório Regional/Local  0 non-null      float64\n",
      " 13  Cnpj Do Escritório Regional/Local  0 non-null      float64\n",
      " 14  Nome Da Eta/Uta                    0 non-null      float64\n",
      " 15  Ano                                15127 non-null  int64  \n",
      " 16  Mês                                15127 non-null  int64  \n",
      " 17  Data Da Coleta                     15127 non-null  object \n",
      " 18  Data Do Laudo                      15127 non-null  object \n",
      " 19  Data De Registro No Sisagua        15127 non-null  object \n",
      " 20  Procedência Da Coleta              15127 non-null  object \n",
      " 21  Ponto De Coleta                    15127 non-null  object \n",
      " 22  Descrição Do Local                 15115 non-null  object \n",
      " 23  Zona                               15127 non-null  object \n",
      " 24  Categoria Área                     15127 non-null  object \n",
      " 25  Área                               15127 non-null  object \n",
      " 26  Tipo Do Local                      13067 non-null  object \n",
      " 27  Local                              13067 non-null  object \n",
      " 28  Latitude                           0 non-null      float64\n",
      " 29  Longitude                          0 non-null      float64\n",
      " 30  Parâmetro (Parâmetros Básicos)     15127 non-null  object \n",
      " 31  Análise Realizada                  4821 non-null   object \n",
      " 32  Resultado                          15127 non-null  object \n",
      " 33  Providência                        15 non-null     object \n",
      " 34  Uf                                 15127 non-null  object \n",
      " 35  Código Ibge                        15127 non-null  int64  \n",
      "dtypes: float64(7), int64(4), object(25)\n",
      "memory usage: 4.2+ MB\n",
      "None\n"
     ]
    }
   ],
   "source": [
    "# Results\n",
    "print(df.info())"
   ]
  },
  {
   "cell_type": "code",
   "execution_count": 9,
   "id": "9ff9f828-0780-4b8b-a312-50302f171fea",
   "metadata": {
    "tags": [
     "remove_cell"
    ]
   },
   "outputs": [
    {
     "data": {
      "text/html": [
       "<div>\n",
       "<style scoped>\n",
       "    .dataframe tbody tr th:only-of-type {\n",
       "        vertical-align: middle;\n",
       "    }\n",
       "\n",
       "    .dataframe tbody tr th {\n",
       "        vertical-align: top;\n",
       "    }\n",
       "\n",
       "    .dataframe thead th {\n",
       "        text-align: right;\n",
       "    }\n",
       "</style>\n",
       "<table border=\"1\" class=\"dataframe\">\n",
       "  <thead>\n",
       "    <tr style=\"text-align: right;\">\n",
       "      <th></th>\n",
       "      <th>Região Geográfica</th>\n",
       "      <th>Regional De Saúde</th>\n",
       "      <th>Município</th>\n",
       "    </tr>\n",
       "  </thead>\n",
       "  <tbody>\n",
       "    <tr>\n",
       "      <th>0</th>\n",
       "      <td>SUDESTE</td>\n",
       "      <td>GVS XX -  PIRACICABA</td>\n",
       "      <td>LIMEIRA</td>\n",
       "    </tr>\n",
       "  </tbody>\n",
       "</table>\n",
       "</div>"
      ],
      "text/plain": [
       "  Região Geográfica     Regional De Saúde Município\n",
       "0           SUDESTE  GVS XX -  PIRACICABA   LIMEIRA"
      ]
     },
     "execution_count": 9,
     "metadata": {},
     "output_type": "execute_result"
    }
   ],
   "source": [
    "list_cols = ['Região Geográfica', 'Regional De Saúde', 'Município']\n",
    "df[list_cols].drop_duplicates()"
   ]
  },
  {
   "cell_type": "code",
   "execution_count": 10,
   "id": "62d80f95-e031-49fe-9385-a45cb57d66ef",
   "metadata": {
    "tags": [
     "remove_cell"
    ]
   },
   "outputs": [
    {
     "data": {
      "text/html": [
       "<div>\n",
       "<style scoped>\n",
       "    .dataframe tbody tr th:only-of-type {\n",
       "        vertical-align: middle;\n",
       "    }\n",
       "\n",
       "    .dataframe tbody tr th {\n",
       "        vertical-align: top;\n",
       "    }\n",
       "\n",
       "    .dataframe thead th {\n",
       "        text-align: right;\n",
       "    }\n",
       "</style>\n",
       "<table border=\"1\" class=\"dataframe\">\n",
       "  <thead>\n",
       "    <tr style=\"text-align: right;\">\n",
       "      <th></th>\n",
       "      <th>Código Forma De Abastecimento</th>\n",
       "      <th>Tipo Da Forma De Abastecimento</th>\n",
       "      <th>Nome Da Forma De Abastecimento</th>\n",
       "    </tr>\n",
       "  </thead>\n",
       "  <tbody>\n",
       "    <tr>\n",
       "      <th>0</th>\n",
       "      <td>S352690000003</td>\n",
       "      <td>SAA</td>\n",
       "      <td>ESTACAO DE TRATAMENTO DE AGUA DE LIMEIRA</td>\n",
       "    </tr>\n",
       "    <tr>\n",
       "      <th>3</th>\n",
       "      <td>S352690000004</td>\n",
       "      <td>SAA</td>\n",
       "      <td>ETA POCO TATU</td>\n",
       "    </tr>\n",
       "    <tr>\n",
       "      <th>126</th>\n",
       "      <td>S352690000002</td>\n",
       "      <td>SAA</td>\n",
       "      <td>ETA POCO SAO JOAO</td>\n",
       "    </tr>\n",
       "  </tbody>\n",
       "</table>\n",
       "</div>"
      ],
      "text/plain": [
       "    Código Forma De Abastecimento Tipo Da Forma De Abastecimento  \\\n",
       "0                   S352690000003                            SAA   \n",
       "3                   S352690000004                            SAA   \n",
       "126                 S352690000002                            SAA   \n",
       "\n",
       "               Nome Da Forma De Abastecimento  \n",
       "0    ESTACAO DE TRATAMENTO DE AGUA DE LIMEIRA  \n",
       "3                               ETA POCO TATU  \n",
       "126                         ETA POCO SAO JOAO  "
      ]
     },
     "execution_count": 10,
     "metadata": {},
     "output_type": "execute_result"
    }
   ],
   "source": [
    "list_cols = [\n",
    "    'Código Forma De Abastecimento',\n",
    "    'Tipo Da Forma De Abastecimento',\n",
    "    'Nome Da Forma De Abastecimento',\n",
    "]\n",
    "df[list_cols].drop_duplicates()"
   ]
  },
  {
   "cell_type": "code",
   "execution_count": 11,
   "id": "0cbfeaa0-f221-475a-8448-63fb4d50d838",
   "metadata": {
    "tags": [
     "remove_cell"
    ]
   },
   "outputs": [
    {
     "data": {
      "text/html": [
       "<div>\n",
       "<style scoped>\n",
       "    .dataframe tbody tr th:only-of-type {\n",
       "        vertical-align: middle;\n",
       "    }\n",
       "\n",
       "    .dataframe tbody tr th {\n",
       "        vertical-align: top;\n",
       "    }\n",
       "\n",
       "    .dataframe thead th {\n",
       "        text-align: right;\n",
       "    }\n",
       "</style>\n",
       "<table border=\"1\" class=\"dataframe\">\n",
       "  <thead>\n",
       "    <tr style=\"text-align: right;\">\n",
       "      <th></th>\n",
       "      <th>Tipo Da Instituição</th>\n",
       "      <th>Sigla Da Instituição</th>\n",
       "      <th>Nome Da Instituição</th>\n",
       "      <th>Cnpj Da Instituição</th>\n",
       "      <th>Nome Do Escritório Regional/Local</th>\n",
       "      <th>Cnpj Do Escritório Regional/Local</th>\n",
       "    </tr>\n",
       "  </thead>\n",
       "  <tbody>\n",
       "    <tr>\n",
       "      <th>0</th>\n",
       "      <td>Serviço Municipal e outros</td>\n",
       "      <td>NaN</td>\n",
       "      <td>BRK AMBIENTAL LIMEIRA SA</td>\n",
       "      <td>5.859000e+11</td>\n",
       "      <td>NaN</td>\n",
       "      <td>NaN</td>\n",
       "    </tr>\n",
       "  </tbody>\n",
       "</table>\n",
       "</div>"
      ],
      "text/plain": [
       "          Tipo Da Instituição  Sigla Da Instituição       Nome Da Instituição  \\\n",
       "0  Serviço Municipal e outros                   NaN  BRK AMBIENTAL LIMEIRA SA   \n",
       "\n",
       "   Cnpj Da Instituição  Nome Do Escritório Regional/Local  \\\n",
       "0         5.859000e+11                                NaN   \n",
       "\n",
       "   Cnpj Do Escritório Regional/Local  \n",
       "0                                NaN  "
      ]
     },
     "execution_count": 11,
     "metadata": {},
     "output_type": "execute_result"
    }
   ],
   "source": [
    "list_cols = [\n",
    "    'Tipo Da Instituição',\n",
    "    'Sigla Da Instituição',\n",
    "    'Nome Da Instituição',\n",
    "    'Cnpj Da Instituição',\n",
    "    'Nome Do Escritório Regional/Local',\n",
    "    'Cnpj Do Escritório Regional/Local'\n",
    "]\n",
    "df[list_cols].drop_duplicates()"
   ]
  },
  {
   "cell_type": "code",
   "execution_count": 12,
   "id": "95ad3d33-0cd7-4109-9bd9-d87c66be8100",
   "metadata": {
    "tags": [
     "remove_cell"
    ]
   },
   "outputs": [
    {
     "data": {
      "text/html": [
       "<div>\n",
       "<style scoped>\n",
       "    .dataframe tbody tr th:only-of-type {\n",
       "        vertical-align: middle;\n",
       "    }\n",
       "\n",
       "    .dataframe tbody tr th {\n",
       "        vertical-align: top;\n",
       "    }\n",
       "\n",
       "    .dataframe thead th {\n",
       "        text-align: right;\n",
       "    }\n",
       "</style>\n",
       "<table border=\"1\" class=\"dataframe\">\n",
       "  <thead>\n",
       "    <tr style=\"text-align: right;\">\n",
       "      <th></th>\n",
       "      <th>Procedência Da Coleta</th>\n",
       "      <th>Ponto De Coleta</th>\n",
       "      <th>Zona</th>\n",
       "      <th>Categoria Área</th>\n",
       "    </tr>\n",
       "  </thead>\n",
       "  <tbody>\n",
       "    <tr>\n",
       "      <th>0</th>\n",
       "      <td>SISTEMA DE DISTRIBUIÇÃO</td>\n",
       "      <td>Cavalete/Hidrômetro</td>\n",
       "      <td>Urbana</td>\n",
       "      <td>Bairro</td>\n",
       "    </tr>\n",
       "    <tr>\n",
       "      <th>3</th>\n",
       "      <td>SISTEMA DE DISTRIBUIÇÃO</td>\n",
       "      <td>Cavalete/Hidrômetro</td>\n",
       "      <td>Rural</td>\n",
       "      <td>Povoado/Lugarejo</td>\n",
       "    </tr>\n",
       "    <tr>\n",
       "      <th>26</th>\n",
       "      <td>SISTEMA DE DISTRIBUIÇÃO</td>\n",
       "      <td>Torneira antes da reservação</td>\n",
       "      <td>Urbana</td>\n",
       "      <td>Bairro</td>\n",
       "    </tr>\n",
       "    <tr>\n",
       "      <th>126</th>\n",
       "      <td>SISTEMA DE DISTRIBUIÇÃO</td>\n",
       "      <td>Cavalete/Hidrômetro</td>\n",
       "      <td>Rural</td>\n",
       "      <td>Núcleo/Propriedade Rural</td>\n",
       "    </tr>\n",
       "    <tr>\n",
       "      <th>1480</th>\n",
       "      <td>SISTEMA DE DISTRIBUIÇÃO</td>\n",
       "      <td>Torneira antes da reservação</td>\n",
       "      <td>Rural</td>\n",
       "      <td>Núcleo/Propriedade Rural</td>\n",
       "    </tr>\n",
       "    <tr>\n",
       "      <th>1754</th>\n",
       "      <td>SISTEMA DE DISTRIBUIÇÃO</td>\n",
       "      <td>Reservatório de distribuição</td>\n",
       "      <td>Urbana</td>\n",
       "      <td>Bairro</td>\n",
       "    </tr>\n",
       "    <tr>\n",
       "      <th>12788</th>\n",
       "      <td>SISTEMA DE DISTRIBUIÇÃO</td>\n",
       "      <td>Reservatório de distribuição</td>\n",
       "      <td>Rural</td>\n",
       "      <td>Núcleo/Propriedade Rural</td>\n",
       "    </tr>\n",
       "  </tbody>\n",
       "</table>\n",
       "</div>"
      ],
      "text/plain": [
       "         Procedência Da Coleta               Ponto De Coleta    Zona  \\\n",
       "0      SISTEMA DE DISTRIBUIÇÃO           Cavalete/Hidrômetro  Urbana   \n",
       "3      SISTEMA DE DISTRIBUIÇÃO           Cavalete/Hidrômetro   Rural   \n",
       "26     SISTEMA DE DISTRIBUIÇÃO  Torneira antes da reservação  Urbana   \n",
       "126    SISTEMA DE DISTRIBUIÇÃO           Cavalete/Hidrômetro   Rural   \n",
       "1480   SISTEMA DE DISTRIBUIÇÃO  Torneira antes da reservação   Rural   \n",
       "1754   SISTEMA DE DISTRIBUIÇÃO  Reservatório de distribuição  Urbana   \n",
       "12788  SISTEMA DE DISTRIBUIÇÃO  Reservatório de distribuição   Rural   \n",
       "\n",
       "                 Categoria Área  \n",
       "0                        Bairro  \n",
       "3              Povoado/Lugarejo  \n",
       "26                       Bairro  \n",
       "126    Núcleo/Propriedade Rural  \n",
       "1480   Núcleo/Propriedade Rural  \n",
       "1754                     Bairro  \n",
       "12788  Núcleo/Propriedade Rural  "
      ]
     },
     "execution_count": 12,
     "metadata": {},
     "output_type": "execute_result"
    }
   ],
   "source": [
    "list_cols = [\n",
    "    'Procedência Da Coleta',\n",
    "    'Ponto De Coleta',\n",
    "    #'Área',\n",
    "    #'Descrição Do Local',\n",
    "    'Zona',\n",
    "    'Categoria Área',    \n",
    "]\n",
    "df[list_cols].drop_duplicates()"
   ]
  },
  {
   "cell_type": "code",
   "execution_count": 13,
   "id": "592cd4cd-973a-4e7e-b196-e399ea2a9f15",
   "metadata": {
    "tags": [
     "remove_cell"
    ]
   },
   "outputs": [
    {
     "data": {
      "text/html": [
       "<div>\n",
       "<style scoped>\n",
       "    .dataframe tbody tr th:only-of-type {\n",
       "        vertical-align: middle;\n",
       "    }\n",
       "\n",
       "    .dataframe tbody tr th {\n",
       "        vertical-align: top;\n",
       "    }\n",
       "\n",
       "    .dataframe thead th {\n",
       "        text-align: right;\n",
       "    }\n",
       "</style>\n",
       "<table border=\"1\" class=\"dataframe\">\n",
       "  <thead>\n",
       "    <tr style=\"text-align: right;\">\n",
       "      <th></th>\n",
       "      <th>Zona</th>\n",
       "      <th>Categoria Área</th>\n",
       "      <th>Tipo Do Local</th>\n",
       "      <th>Área</th>\n",
       "      <th>Descrição Do Local</th>\n",
       "      <th>Local</th>\n",
       "    </tr>\n",
       "  </thead>\n",
       "  <tbody>\n",
       "    <tr>\n",
       "      <th>0</th>\n",
       "      <td>Urbana</td>\n",
       "      <td>Bairro</td>\n",
       "      <td>NaN</td>\n",
       "      <td>PARQUE NOSSA SENHORA DAS DORES</td>\n",
       "      <td>BASE COMUNITÁRIA DE SEGURANÇA DA PM- AV CARLOS...</td>\n",
       "      <td>NaN</td>\n",
       "    </tr>\n",
       "    <tr>\n",
       "      <th>1</th>\n",
       "      <td>Urbana</td>\n",
       "      <td>Bairro</td>\n",
       "      <td>NaN</td>\n",
       "      <td>JARDIM IBIRAPUERA</td>\n",
       "      <td>EMEIEF JOSÉ ROBERTO BRAZ- RUA PAULO GIORGETTI,...</td>\n",
       "      <td>NaN</td>\n",
       "    </tr>\n",
       "    <tr>\n",
       "      <th>2</th>\n",
       "      <td>Urbana</td>\n",
       "      <td>Bairro</td>\n",
       "      <td>NaN</td>\n",
       "      <td>PORTAL DE SAO CLEMENTE</td>\n",
       "      <td>VIA GUILHERME DIBBERN, 6000</td>\n",
       "      <td>NaN</td>\n",
       "    </tr>\n",
       "    <tr>\n",
       "      <th>3</th>\n",
       "      <td>Rural</td>\n",
       "      <td>Povoado/Lugarejo</td>\n",
       "      <td>NaN</td>\n",
       "      <td>BAIRRO DOS LOPES</td>\n",
       "      <td>AV. ANTONIO SÔNEGO, SN (EMEI BAIRRO DOS LOPES)</td>\n",
       "      <td>NaN</td>\n",
       "    </tr>\n",
       "    <tr>\n",
       "      <th>4</th>\n",
       "      <td>Urbana</td>\n",
       "      <td>Bairro</td>\n",
       "      <td>NaN</td>\n",
       "      <td>JARDIM ERNESTO KUHL</td>\n",
       "      <td>RUA CHICO MENDES, 85</td>\n",
       "      <td>NaN</td>\n",
       "    </tr>\n",
       "    <tr>\n",
       "      <th>...</th>\n",
       "      <td>...</td>\n",
       "      <td>...</td>\n",
       "      <td>...</td>\n",
       "      <td>...</td>\n",
       "      <td>...</td>\n",
       "      <td>...</td>\n",
       "    </tr>\n",
       "    <tr>\n",
       "      <th>13215</th>\n",
       "      <td>Urbana</td>\n",
       "      <td>Bairro</td>\n",
       "      <td>Edifício/Prédio</td>\n",
       "      <td>CENTRO</td>\n",
       "      <td>PRACA TOLEDO DE BARROS SN- BAIRRO - CENTRO</td>\n",
       "      <td>TEATRO VITORIA</td>\n",
       "    </tr>\n",
       "    <tr>\n",
       "      <th>13236</th>\n",
       "      <td>Urbana</td>\n",
       "      <td>Bairro</td>\n",
       "      <td>Estabelecimento de ensino</td>\n",
       "      <td>JARDIM RESIDENCIAL ANTONIO SIMONETTI</td>\n",
       "      <td>RUA OCTAVIO RIBEIRO 223</td>\n",
       "      <td>EMEIEF PROFA EVANGELINA MAURO</td>\n",
       "    </tr>\n",
       "    <tr>\n",
       "      <th>13527</th>\n",
       "      <td>Urbana</td>\n",
       "      <td>Bairro</td>\n",
       "      <td>Estabelecimento de saúde</td>\n",
       "      <td>PARQUE HIPOLYTO</td>\n",
       "      <td>AV ARLINDA ABREU RIBEIRO 1300 PARQUE HIPOLYTO</td>\n",
       "      <td>CSF PARQUE HIPOLITO</td>\n",
       "    </tr>\n",
       "    <tr>\n",
       "      <th>13604</th>\n",
       "      <td>Urbana</td>\n",
       "      <td>Bairro</td>\n",
       "      <td>Condomínio</td>\n",
       "      <td>PARQUE RESIDENCIAL ROLAND</td>\n",
       "      <td>AV AUGUSTO ROLAND 241 PQ RES ROLAND I</td>\n",
       "      <td>CONDOMINIO RESIDENCIAL ROLAND I</td>\n",
       "    </tr>\n",
       "    <tr>\n",
       "      <th>13790</th>\n",
       "      <td>Urbana</td>\n",
       "      <td>Bairro</td>\n",
       "      <td>Condomínio</td>\n",
       "      <td>JARDIM COLINAS DE SAO JOAO</td>\n",
       "      <td>VIA JURANDYR PAIXAO CAMPOS FREIRE 500</td>\n",
       "      <td>CONDOMINIO PARQUE DOS SABIAS</td>\n",
       "    </tr>\n",
       "  </tbody>\n",
       "</table>\n",
       "<p>798 rows × 6 columns</p>\n",
       "</div>"
      ],
      "text/plain": [
       "         Zona    Categoria Área              Tipo Do Local  \\\n",
       "0      Urbana            Bairro                        NaN   \n",
       "1      Urbana            Bairro                        NaN   \n",
       "2      Urbana            Bairro                        NaN   \n",
       "3       Rural  Povoado/Lugarejo                        NaN   \n",
       "4      Urbana            Bairro                        NaN   \n",
       "...       ...               ...                        ...   \n",
       "13215  Urbana            Bairro            Edifício/Prédio   \n",
       "13236  Urbana            Bairro  Estabelecimento de ensino   \n",
       "13527  Urbana            Bairro   Estabelecimento de saúde   \n",
       "13604  Urbana            Bairro                 Condomínio   \n",
       "13790  Urbana            Bairro                 Condomínio   \n",
       "\n",
       "                                       Área  \\\n",
       "0            PARQUE NOSSA SENHORA DAS DORES   \n",
       "1                         JARDIM IBIRAPUERA   \n",
       "2                    PORTAL DE SAO CLEMENTE   \n",
       "3                          BAIRRO DOS LOPES   \n",
       "4                       JARDIM ERNESTO KUHL   \n",
       "...                                     ...   \n",
       "13215                                CENTRO   \n",
       "13236  JARDIM RESIDENCIAL ANTONIO SIMONETTI   \n",
       "13527                       PARQUE HIPOLYTO   \n",
       "13604             PARQUE RESIDENCIAL ROLAND   \n",
       "13790            JARDIM COLINAS DE SAO JOAO   \n",
       "\n",
       "                                      Descrição Do Local  \\\n",
       "0      BASE COMUNITÁRIA DE SEGURANÇA DA PM- AV CARLOS...   \n",
       "1      EMEIEF JOSÉ ROBERTO BRAZ- RUA PAULO GIORGETTI,...   \n",
       "2                            VIA GUILHERME DIBBERN, 6000   \n",
       "3         AV. ANTONIO SÔNEGO, SN (EMEI BAIRRO DOS LOPES)   \n",
       "4                                   RUA CHICO MENDES, 85   \n",
       "...                                                  ...   \n",
       "13215         PRACA TOLEDO DE BARROS SN- BAIRRO - CENTRO   \n",
       "13236                            RUA OCTAVIO RIBEIRO 223   \n",
       "13527      AV ARLINDA ABREU RIBEIRO 1300 PARQUE HIPOLYTO   \n",
       "13604              AV AUGUSTO ROLAND 241 PQ RES ROLAND I   \n",
       "13790              VIA JURANDYR PAIXAO CAMPOS FREIRE 500   \n",
       "\n",
       "                                 Local  \n",
       "0                                  NaN  \n",
       "1                                  NaN  \n",
       "2                                  NaN  \n",
       "3                                  NaN  \n",
       "4                                  NaN  \n",
       "...                                ...  \n",
       "13215                   TEATRO VITORIA  \n",
       "13236    EMEIEF PROFA EVANGELINA MAURO  \n",
       "13527              CSF PARQUE HIPOLITO  \n",
       "13604  CONDOMINIO RESIDENCIAL ROLAND I  \n",
       "13790     CONDOMINIO PARQUE DOS SABIAS  \n",
       "\n",
       "[798 rows x 6 columns]"
      ]
     },
     "execution_count": 13,
     "metadata": {},
     "output_type": "execute_result"
    }
   ],
   "source": [
    "list_cols = [    \n",
    "    'Zona',\n",
    "    'Categoria Área',\n",
    "    'Tipo Do Local',\n",
    "    'Área',\n",
    "    'Descrição Do Local',\n",
    "    'Local',\n",
    "]\n",
    "df[list_cols].drop_duplicates()"
   ]
  },
  {
   "cell_type": "code",
   "execution_count": 14,
   "id": "451784d0-f08c-4335-82b0-b94e18d86b2c",
   "metadata": {
    "tags": [
     "remove_cell"
    ]
   },
   "outputs": [
    {
     "data": {
      "text/html": [
       "<div>\n",
       "<style scoped>\n",
       "    .dataframe tbody tr th:only-of-type {\n",
       "        vertical-align: middle;\n",
       "    }\n",
       "\n",
       "    .dataframe tbody tr th {\n",
       "        vertical-align: top;\n",
       "    }\n",
       "\n",
       "    .dataframe thead th {\n",
       "        text-align: right;\n",
       "    }\n",
       "</style>\n",
       "<table border=\"1\" class=\"dataframe\">\n",
       "  <thead>\n",
       "    <tr style=\"text-align: right;\">\n",
       "      <th></th>\n",
       "      <th>Latitude</th>\n",
       "      <th>Longitude</th>\n",
       "    </tr>\n",
       "  </thead>\n",
       "  <tbody>\n",
       "    <tr>\n",
       "      <th>0</th>\n",
       "      <td>NaN</td>\n",
       "      <td>NaN</td>\n",
       "    </tr>\n",
       "  </tbody>\n",
       "</table>\n",
       "</div>"
      ],
      "text/plain": [
       "   Latitude  Longitude\n",
       "0       NaN        NaN"
      ]
     },
     "execution_count": 14,
     "metadata": {},
     "output_type": "execute_result"
    }
   ],
   "source": [
    "list_cols = [\n",
    "    'Latitude',\n",
    "    'Longitude'\n",
    "]\n",
    "df[list_cols].drop_duplicates()"
   ]
  },
  {
   "cell_type": "code",
   "execution_count": 15,
   "id": "9e83ec1b-13b2-4b54-a8c4-b79eac98f0fe",
   "metadata": {
    "tags": [
     "remove_cell"
    ]
   },
   "outputs": [
    {
     "data": {
      "text/plain": [
       "['Região Geográfica',\n",
       " 'Regional De Saúde',\n",
       " 'Município',\n",
       " 'Número Da Amostra',\n",
       " 'Motivo Da Coleta',\n",
       " 'Tipo Da Forma De Abastecimento',\n",
       " 'Código Forma De Abastecimento',\n",
       " 'Nome Da Forma De Abastecimento',\n",
       " 'Tipo Da Instituição',\n",
       " 'Sigla Da Instituição',\n",
       " 'Nome Da Instituição',\n",
       " 'Cnpj Da Instituição',\n",
       " 'Nome Do Escritório Regional/Local',\n",
       " 'Cnpj Do Escritório Regional/Local',\n",
       " 'Nome Da Eta/Uta',\n",
       " 'Ano',\n",
       " 'Mês',\n",
       " 'Data Da Coleta',\n",
       " 'Data Do Laudo',\n",
       " 'Data De Registro No Sisagua',\n",
       " 'Procedência Da Coleta',\n",
       " 'Ponto De Coleta',\n",
       " 'Descrição Do Local',\n",
       " 'Zona',\n",
       " 'Categoria Área',\n",
       " 'Área',\n",
       " 'Tipo Do Local',\n",
       " 'Local',\n",
       " 'Latitude',\n",
       " 'Longitude',\n",
       " 'Parâmetro (Parâmetros Básicos)',\n",
       " 'Análise Realizada',\n",
       " 'Resultado',\n",
       " 'Providência',\n",
       " 'Uf',\n",
       " 'Código Ibge']"
      ]
     },
     "execution_count": 15,
     "metadata": {},
     "output_type": "execute_result"
    }
   ],
   "source": [
    "list(df.columns)"
   ]
  },
  {
   "cell_type": "code",
   "execution_count": 16,
   "id": "20367883-d001-4e97-8f2b-ef86010a6354",
   "metadata": {
    "tags": [
     "remove_cell"
    ]
   },
   "outputs": [
    {
     "data": {
      "text/html": [
       "<div>\n",
       "<style scoped>\n",
       "    .dataframe tbody tr th:only-of-type {\n",
       "        vertical-align: middle;\n",
       "    }\n",
       "\n",
       "    .dataframe tbody tr th {\n",
       "        vertical-align: top;\n",
       "    }\n",
       "\n",
       "    .dataframe thead th {\n",
       "        text-align: right;\n",
       "    }\n",
       "</style>\n",
       "<table border=\"1\" class=\"dataframe\">\n",
       "  <thead>\n",
       "    <tr style=\"text-align: right;\">\n",
       "      <th></th>\n",
       "      <th>Número Da Amostra</th>\n",
       "      <th>Motivo Da Coleta</th>\n",
       "      <th>Parâmetro (Parâmetros Básicos)</th>\n",
       "      <th>Análise Realizada</th>\n",
       "      <th>Resultado</th>\n",
       "      <th>Providência</th>\n",
       "    </tr>\n",
       "  </thead>\n",
       "  <tbody>\n",
       "    <tr>\n",
       "      <th>0</th>\n",
       "      <td>29262014</td>\n",
       "      <td>Rotina</td>\n",
       "      <td>Cloro residual livre (mg/L)</td>\n",
       "      <td>EM_CAMPO</td>\n",
       "      <td>0,50</td>\n",
       "      <td>NaN</td>\n",
       "    </tr>\n",
       "    <tr>\n",
       "      <th>1</th>\n",
       "      <td>23652014</td>\n",
       "      <td>Rotina</td>\n",
       "      <td>pH</td>\n",
       "      <td>NaN</td>\n",
       "      <td>7,6</td>\n",
       "      <td>NaN</td>\n",
       "    </tr>\n",
       "    <tr>\n",
       "      <th>2</th>\n",
       "      <td>21092014</td>\n",
       "      <td>Rotina</td>\n",
       "      <td>Cor (uH)</td>\n",
       "      <td>NaN</td>\n",
       "      <td>7</td>\n",
       "      <td>NaN</td>\n",
       "    </tr>\n",
       "    <tr>\n",
       "      <th>3</th>\n",
       "      <td>22502014</td>\n",
       "      <td>Rotina</td>\n",
       "      <td>Cor (uH)</td>\n",
       "      <td>NaN</td>\n",
       "      <td>5</td>\n",
       "      <td>NaN</td>\n",
       "    </tr>\n",
       "    <tr>\n",
       "      <th>4</th>\n",
       "      <td>352014</td>\n",
       "      <td>Rotina</td>\n",
       "      <td>Cloro residual livre (mg/L)</td>\n",
       "      <td>EM_CAMPO</td>\n",
       "      <td>0,9</td>\n",
       "      <td>NaN</td>\n",
       "    </tr>\n",
       "    <tr>\n",
       "      <th>...</th>\n",
       "      <td>...</td>\n",
       "      <td>...</td>\n",
       "      <td>...</td>\n",
       "      <td>...</td>\n",
       "      <td>...</td>\n",
       "      <td>...</td>\n",
       "    </tr>\n",
       "    <tr>\n",
       "      <th>15122</th>\n",
       "      <td>212005000119</td>\n",
       "      <td>Rotina</td>\n",
       "      <td>Coliformes totais</td>\n",
       "      <td>NaN</td>\n",
       "      <td>AUSENTE</td>\n",
       "      <td>NaN</td>\n",
       "    </tr>\n",
       "    <tr>\n",
       "      <th>15123</th>\n",
       "      <td>212005000364</td>\n",
       "      <td>Rotina</td>\n",
       "      <td>Escherichia coli</td>\n",
       "      <td>NaN</td>\n",
       "      <td>AUSENTE</td>\n",
       "      <td>NaN</td>\n",
       "    </tr>\n",
       "    <tr>\n",
       "      <th>15124</th>\n",
       "      <td>212005000345</td>\n",
       "      <td>Rotina</td>\n",
       "      <td>Coliformes totais</td>\n",
       "      <td>NaN</td>\n",
       "      <td>AUSENTE</td>\n",
       "      <td>NaN</td>\n",
       "    </tr>\n",
       "    <tr>\n",
       "      <th>15125</th>\n",
       "      <td>212005000135</td>\n",
       "      <td>Rotina</td>\n",
       "      <td>Coliformes totais</td>\n",
       "      <td>NaN</td>\n",
       "      <td>AUSENTE</td>\n",
       "      <td>NaN</td>\n",
       "    </tr>\n",
       "    <tr>\n",
       "      <th>15126</th>\n",
       "      <td>212005000398</td>\n",
       "      <td>Rotina</td>\n",
       "      <td>Escherichia coli</td>\n",
       "      <td>NaN</td>\n",
       "      <td>AUSENTE</td>\n",
       "      <td>NaN</td>\n",
       "    </tr>\n",
       "  </tbody>\n",
       "</table>\n",
       "<p>15127 rows × 6 columns</p>\n",
       "</div>"
      ],
      "text/plain": [
       "       Número Da Amostra Motivo Da Coleta Parâmetro (Parâmetros Básicos)  \\\n",
       "0               29262014           Rotina    Cloro residual livre (mg/L)   \n",
       "1               23652014           Rotina                             pH   \n",
       "2               21092014           Rotina                       Cor (uH)   \n",
       "3               22502014           Rotina                       Cor (uH)   \n",
       "4                 352014           Rotina    Cloro residual livre (mg/L)   \n",
       "...                  ...              ...                            ...   \n",
       "15122       212005000119           Rotina              Coliformes totais   \n",
       "15123       212005000364           Rotina               Escherichia coli   \n",
       "15124       212005000345           Rotina              Coliformes totais   \n",
       "15125       212005000135           Rotina              Coliformes totais   \n",
       "15126       212005000398           Rotina               Escherichia coli   \n",
       "\n",
       "      Análise Realizada Resultado Providência  \n",
       "0              EM_CAMPO      0,50         NaN  \n",
       "1                   NaN       7,6         NaN  \n",
       "2                   NaN         7         NaN  \n",
       "3                   NaN         5         NaN  \n",
       "4              EM_CAMPO       0,9         NaN  \n",
       "...                 ...       ...         ...  \n",
       "15122               NaN   AUSENTE         NaN  \n",
       "15123               NaN   AUSENTE         NaN  \n",
       "15124               NaN   AUSENTE         NaN  \n",
       "15125               NaN   AUSENTE         NaN  \n",
       "15126               NaN   AUSENTE         NaN  \n",
       "\n",
       "[15127 rows x 6 columns]"
      ]
     },
     "execution_count": 16,
     "metadata": {},
     "output_type": "execute_result"
    }
   ],
   "source": [
    "list_cols = [\n",
    "    'Número Da Amostra',\n",
    "    'Motivo Da Coleta',    \n",
    "    'Parâmetro (Parâmetros Básicos)',\n",
    "    'Análise Realizada',\n",
    "    'Resultado',\n",
    "    'Providência',\n",
    "]\n",
    "df[list_cols].drop_duplicates()"
   ]
  },
  {
   "cell_type": "code",
   "execution_count": 17,
   "id": "e482aed8-dda1-4da3-9b66-3a6d984c002c",
   "metadata": {
    "tags": [
     "remove_cell"
    ]
   },
   "outputs": [
    {
     "data": {
      "text/plain": [
       "{'EM_CAMPO', 'EM_LABORATORIO', nan}"
      ]
     },
     "execution_count": 17,
     "metadata": {},
     "output_type": "execute_result"
    }
   ],
   "source": [
    "set(df['Análise Realizada'])"
   ]
  },
  {
   "cell_type": "code",
   "execution_count": 18,
   "id": "f107917f-3801-475b-b26b-7628da042beb",
   "metadata": {
    "tags": [
     "remove_cell"
    ]
   },
   "outputs": [
    {
     "data": {
      "text/plain": [
       "{'Cloro residual livre (mg/L)',\n",
       " 'Coliformes totais',\n",
       " 'Cor (uH)',\n",
       " 'Escherichia coli',\n",
       " 'Fluoreto (mg/L)',\n",
       " 'Turbidez (uT)',\n",
       " 'pH'}"
      ]
     },
     "execution_count": 18,
     "metadata": {},
     "output_type": "execute_result"
    }
   ],
   "source": [
    "set(df['Parâmetro (Parâmetros Básicos)'])"
   ]
  },
  {
   "cell_type": "markdown",
   "id": "5f520081-dfa3-4941-a5b5-087159a8f3a5",
   "metadata": {},
   "source": [
    "<br>\n",
    "\n",
    "## Seleciona Parâmetros"
   ]
  },
  {
   "cell_type": "code",
   "execution_count": 19,
   "id": "d6cd6111-0a5a-41a5-a786-7b29e88240a8",
   "metadata": {
    "tags": [
     "remove_cell"
    ]
   },
   "outputs": [
    {
     "data": {
      "text/plain": [
       "{'Cloro residual livre (mg/L)',\n",
       " 'Coliformes totais',\n",
       " 'Cor (uH)',\n",
       " 'Escherichia coli',\n",
       " 'Fluoreto (mg/L)',\n",
       " 'Turbidez (uT)',\n",
       " 'pH'}"
      ]
     },
     "execution_count": 19,
     "metadata": {},
     "output_type": "execute_result"
    }
   ],
   "source": [
    "set(df['Parâmetro (Parâmetros Básicos)'])"
   ]
  },
  {
   "cell_type": "code",
   "execution_count": 20,
   "id": "87bd516b-dacf-4144-a820-ced4f57dd219",
   "metadata": {},
   "outputs": [],
   "source": [
    "# Select Parameters\n",
    "df = df[df['Parâmetro (Parâmetros Básicos)'].str.contains('Cloro')]"
   ]
  },
  {
   "cell_type": "code",
   "execution_count": 21,
   "id": "87bdfc02-3aa3-444d-92cf-419f8c1a9561",
   "metadata": {},
   "outputs": [
    {
     "data": {
      "text/html": [
       "<div>\n",
       "<style scoped>\n",
       "    .dataframe tbody tr th:only-of-type {\n",
       "        vertical-align: middle;\n",
       "    }\n",
       "\n",
       "    .dataframe tbody tr th {\n",
       "        vertical-align: top;\n",
       "    }\n",
       "\n",
       "    .dataframe thead th {\n",
       "        text-align: right;\n",
       "    }\n",
       "</style>\n",
       "<table border=\"1\" class=\"dataframe\">\n",
       "  <thead>\n",
       "    <tr style=\"text-align: right;\">\n",
       "      <th></th>\n",
       "      <th>Região Geográfica</th>\n",
       "      <th>Regional De Saúde</th>\n",
       "      <th>Município</th>\n",
       "      <th>Número Da Amostra</th>\n",
       "      <th>Motivo Da Coleta</th>\n",
       "      <th>Tipo Da Forma De Abastecimento</th>\n",
       "      <th>Código Forma De Abastecimento</th>\n",
       "      <th>Nome Da Forma De Abastecimento</th>\n",
       "      <th>Tipo Da Instituição</th>\n",
       "      <th>Sigla Da Instituição</th>\n",
       "      <th>...</th>\n",
       "      <th>Tipo Do Local</th>\n",
       "      <th>Local</th>\n",
       "      <th>Latitude</th>\n",
       "      <th>Longitude</th>\n",
       "      <th>Parâmetro (Parâmetros Básicos)</th>\n",
       "      <th>Análise Realizada</th>\n",
       "      <th>Resultado</th>\n",
       "      <th>Providência</th>\n",
       "      <th>Uf</th>\n",
       "      <th>Código Ibge</th>\n",
       "    </tr>\n",
       "  </thead>\n",
       "  <tbody>\n",
       "    <tr>\n",
       "      <th>0</th>\n",
       "      <td>SUDESTE</td>\n",
       "      <td>GVS XX -  PIRACICABA</td>\n",
       "      <td>LIMEIRA</td>\n",
       "      <td>29262014.0</td>\n",
       "      <td>Rotina</td>\n",
       "      <td>SAA</td>\n",
       "      <td>S352690000003</td>\n",
       "      <td>ESTACAO DE TRATAMENTO DE AGUA DE LIMEIRA</td>\n",
       "      <td>Serviço Municipal e outros</td>\n",
       "      <td>NaN</td>\n",
       "      <td>...</td>\n",
       "      <td>NaN</td>\n",
       "      <td>NaN</td>\n",
       "      <td>NaN</td>\n",
       "      <td>NaN</td>\n",
       "      <td>Cloro residual livre (mg/L)</td>\n",
       "      <td>EM_CAMPO</td>\n",
       "      <td>0.50</td>\n",
       "      <td>NaN</td>\n",
       "      <td>SP</td>\n",
       "      <td>352690.0</td>\n",
       "    </tr>\n",
       "    <tr>\n",
       "      <th>4</th>\n",
       "      <td>SUDESTE</td>\n",
       "      <td>GVS XX -  PIRACICABA</td>\n",
       "      <td>LIMEIRA</td>\n",
       "      <td>352014.0</td>\n",
       "      <td>Rotina</td>\n",
       "      <td>SAA</td>\n",
       "      <td>S352690000003</td>\n",
       "      <td>ESTACAO DE TRATAMENTO DE AGUA DE LIMEIRA</td>\n",
       "      <td>Serviço Municipal e outros</td>\n",
       "      <td>NaN</td>\n",
       "      <td>...</td>\n",
       "      <td>NaN</td>\n",
       "      <td>NaN</td>\n",
       "      <td>NaN</td>\n",
       "      <td>NaN</td>\n",
       "      <td>Cloro residual livre (mg/L)</td>\n",
       "      <td>EM_CAMPO</td>\n",
       "      <td>0.9</td>\n",
       "      <td>NaN</td>\n",
       "      <td>SP</td>\n",
       "      <td>352690.0</td>\n",
       "    </tr>\n",
       "    <tr>\n",
       "      <th>7</th>\n",
       "      <td>SUDESTE</td>\n",
       "      <td>GVS XX -  PIRACICABA</td>\n",
       "      <td>LIMEIRA</td>\n",
       "      <td>21062014.0</td>\n",
       "      <td>Rotina</td>\n",
       "      <td>SAA</td>\n",
       "      <td>S352690000003</td>\n",
       "      <td>ESTACAO DE TRATAMENTO DE AGUA DE LIMEIRA</td>\n",
       "      <td>Serviço Municipal e outros</td>\n",
       "      <td>NaN</td>\n",
       "      <td>...</td>\n",
       "      <td>NaN</td>\n",
       "      <td>NaN</td>\n",
       "      <td>NaN</td>\n",
       "      <td>NaN</td>\n",
       "      <td>Cloro residual livre (mg/L)</td>\n",
       "      <td>EM_CAMPO</td>\n",
       "      <td>0.85</td>\n",
       "      <td>NaN</td>\n",
       "      <td>SP</td>\n",
       "      <td>352690.0</td>\n",
       "    </tr>\n",
       "    <tr>\n",
       "      <th>10</th>\n",
       "      <td>SUDESTE</td>\n",
       "      <td>GVS XX -  PIRACICABA</td>\n",
       "      <td>LIMEIRA</td>\n",
       "      <td>21012014.0</td>\n",
       "      <td>Rotina</td>\n",
       "      <td>SAA</td>\n",
       "      <td>S352690000003</td>\n",
       "      <td>ESTACAO DE TRATAMENTO DE AGUA DE LIMEIRA</td>\n",
       "      <td>Serviço Municipal e outros</td>\n",
       "      <td>NaN</td>\n",
       "      <td>...</td>\n",
       "      <td>NaN</td>\n",
       "      <td>NaN</td>\n",
       "      <td>NaN</td>\n",
       "      <td>NaN</td>\n",
       "      <td>Cloro residual livre (mg/L)</td>\n",
       "      <td>EM_CAMPO</td>\n",
       "      <td>0.46</td>\n",
       "      <td>NaN</td>\n",
       "      <td>SP</td>\n",
       "      <td>352690.0</td>\n",
       "    </tr>\n",
       "    <tr>\n",
       "      <th>11</th>\n",
       "      <td>SUDESTE</td>\n",
       "      <td>GVS XX -  PIRACICABA</td>\n",
       "      <td>LIMEIRA</td>\n",
       "      <td>29252014.0</td>\n",
       "      <td>Rotina</td>\n",
       "      <td>SAA</td>\n",
       "      <td>S352690000003</td>\n",
       "      <td>ESTACAO DE TRATAMENTO DE AGUA DE LIMEIRA</td>\n",
       "      <td>Serviço Municipal e outros</td>\n",
       "      <td>NaN</td>\n",
       "      <td>...</td>\n",
       "      <td>NaN</td>\n",
       "      <td>NaN</td>\n",
       "      <td>NaN</td>\n",
       "      <td>NaN</td>\n",
       "      <td>Cloro residual livre (mg/L)</td>\n",
       "      <td>EM_CAMPO</td>\n",
       "      <td>0.49</td>\n",
       "      <td>NaN</td>\n",
       "      <td>SP</td>\n",
       "      <td>352690.0</td>\n",
       "    </tr>\n",
       "  </tbody>\n",
       "</table>\n",
       "<p>5 rows × 36 columns</p>\n",
       "</div>"
      ],
      "text/plain": [
       "   Região Geográfica     Regional De Saúde Município  Número Da Amostra  \\\n",
       "0            SUDESTE  GVS XX -  PIRACICABA   LIMEIRA         29262014.0   \n",
       "4            SUDESTE  GVS XX -  PIRACICABA   LIMEIRA           352014.0   \n",
       "7            SUDESTE  GVS XX -  PIRACICABA   LIMEIRA         21062014.0   \n",
       "10           SUDESTE  GVS XX -  PIRACICABA   LIMEIRA         21012014.0   \n",
       "11           SUDESTE  GVS XX -  PIRACICABA   LIMEIRA         29252014.0   \n",
       "\n",
       "   Motivo Da Coleta Tipo Da Forma De Abastecimento  \\\n",
       "0            Rotina                            SAA   \n",
       "4            Rotina                            SAA   \n",
       "7            Rotina                            SAA   \n",
       "10           Rotina                            SAA   \n",
       "11           Rotina                            SAA   \n",
       "\n",
       "   Código Forma De Abastecimento            Nome Da Forma De Abastecimento  \\\n",
       "0                  S352690000003  ESTACAO DE TRATAMENTO DE AGUA DE LIMEIRA   \n",
       "4                  S352690000003  ESTACAO DE TRATAMENTO DE AGUA DE LIMEIRA   \n",
       "7                  S352690000003  ESTACAO DE TRATAMENTO DE AGUA DE LIMEIRA   \n",
       "10                 S352690000003  ESTACAO DE TRATAMENTO DE AGUA DE LIMEIRA   \n",
       "11                 S352690000003  ESTACAO DE TRATAMENTO DE AGUA DE LIMEIRA   \n",
       "\n",
       "           Tipo Da Instituição  Sigla Da Instituição  ... Tipo Do Local  \\\n",
       "0   Serviço Municipal e outros                   NaN  ...           NaN   \n",
       "4   Serviço Municipal e outros                   NaN  ...           NaN   \n",
       "7   Serviço Municipal e outros                   NaN  ...           NaN   \n",
       "10  Serviço Municipal e outros                   NaN  ...           NaN   \n",
       "11  Serviço Municipal e outros                   NaN  ...           NaN   \n",
       "\n",
       "    Local  Latitude  Longitude  Parâmetro (Parâmetros Básicos)  \\\n",
       "0     NaN       NaN        NaN     Cloro residual livre (mg/L)   \n",
       "4     NaN       NaN        NaN     Cloro residual livre (mg/L)   \n",
       "7     NaN       NaN        NaN     Cloro residual livre (mg/L)   \n",
       "10    NaN       NaN        NaN     Cloro residual livre (mg/L)   \n",
       "11    NaN       NaN        NaN     Cloro residual livre (mg/L)   \n",
       "\n",
       "    Análise Realizada  Resultado Providência  Uf Código Ibge  \n",
       "0            EM_CAMPO       0.50         NaN  SP    352690.0  \n",
       "4            EM_CAMPO        0.9         NaN  SP    352690.0  \n",
       "7            EM_CAMPO       0.85         NaN  SP    352690.0  \n",
       "10           EM_CAMPO       0.46         NaN  SP    352690.0  \n",
       "11           EM_CAMPO       0.49         NaN  SP    352690.0  \n",
       "\n",
       "[5 rows x 36 columns]"
      ]
     },
     "execution_count": 21,
     "metadata": {},
     "output_type": "execute_result"
    }
   ],
   "source": [
    "# Ajusta Resultados\n",
    "df['Resultado'] = df['Resultado'].astype(str).str.replace(',','.')\n",
    "df.loc['Resultado'] = pd.to_numeric(df['Resultado'], errors='coerce')\n",
    "df['Resultado']\n",
    "df.head()"
   ]
  },
  {
   "cell_type": "code",
   "execution_count": 22,
   "id": "e0e710ee-2b9b-4456-80a5-0753d9e93e1c",
   "metadata": {},
   "outputs": [],
   "source": [
    "# Adjust Dates\n",
    "df['Data Da Coleta'] = pd.to_datetime(df['Data Da Coleta'])\n",
    "df['Data Do Laudo'] = pd.to_datetime(df['Data Do Laudo'])\n",
    "df['Data De Registro No Sisagua'] = pd.to_datetime(df['Data De Registro No Sisagua'])"
   ]
  },
  {
   "cell_type": "code",
   "execution_count": 23,
   "id": "77667d51-ffa2-4298-abcb-f6752551012b",
   "metadata": {
    "tags": [
     "remove_cell"
    ]
   },
   "outputs": [
    {
     "data": {
      "text/plain": [
       "Região Geográfica                            object\n",
       "Regional De Saúde                            object\n",
       "Município                                    object\n",
       "Número Da Amostra                           float64\n",
       "Motivo Da Coleta                             object\n",
       "Tipo Da Forma De Abastecimento               object\n",
       "Código Forma De Abastecimento                object\n",
       "Nome Da Forma De Abastecimento               object\n",
       "Tipo Da Instituição                          object\n",
       "Sigla Da Instituição                        float64\n",
       "Nome Da Instituição                          object\n",
       "Cnpj Da Instituição                         float64\n",
       "Nome Do Escritório Regional/Local           float64\n",
       "Cnpj Do Escritório Regional/Local           float64\n",
       "Nome Da Eta/Uta                             float64\n",
       "Ano                                         float64\n",
       "Mês                                         float64\n",
       "Data Da Coleta                       datetime64[ns]\n",
       "Data Do Laudo                        datetime64[ns]\n",
       "Data De Registro No Sisagua          datetime64[ns]\n",
       "Procedência Da Coleta                        object\n",
       "Ponto De Coleta                              object\n",
       "Descrição Do Local                           object\n",
       "Zona                                         object\n",
       "Categoria Área                               object\n",
       "Área                                         object\n",
       "Tipo Do Local                                object\n",
       "Local                                        object\n",
       "Latitude                                    float64\n",
       "Longitude                                   float64\n",
       "Parâmetro (Parâmetros Básicos)               object\n",
       "Análise Realizada                            object\n",
       "Resultado                                    object\n",
       "Providência                                  object\n",
       "Uf                                           object\n",
       "Código Ibge                                 float64\n",
       "dtype: object"
      ]
     },
     "execution_count": 23,
     "metadata": {},
     "output_type": "execute_result"
    }
   ],
   "source": [
    "df.dtypes"
   ]
  },
  {
   "cell_type": "code",
   "execution_count": 24,
   "id": "f666f4e4-f129-46e8-979b-838768376e85",
   "metadata": {
    "tags": [
     "remove_cell"
    ]
   },
   "outputs": [
    {
     "data": {
      "text/plain": [
       "['Região Geográfica',\n",
       " 'Regional De Saúde',\n",
       " 'Município',\n",
       " 'Número Da Amostra',\n",
       " 'Motivo Da Coleta',\n",
       " 'Tipo Da Forma De Abastecimento',\n",
       " 'Código Forma De Abastecimento',\n",
       " 'Nome Da Forma De Abastecimento',\n",
       " 'Tipo Da Instituição',\n",
       " 'Sigla Da Instituição',\n",
       " 'Nome Da Instituição',\n",
       " 'Cnpj Da Instituição',\n",
       " 'Nome Do Escritório Regional/Local',\n",
       " 'Cnpj Do Escritório Regional/Local',\n",
       " 'Nome Da Eta/Uta',\n",
       " 'Ano',\n",
       " 'Mês',\n",
       " 'Data Da Coleta',\n",
       " 'Data Do Laudo',\n",
       " 'Data De Registro No Sisagua',\n",
       " 'Procedência Da Coleta',\n",
       " 'Ponto De Coleta',\n",
       " 'Descrição Do Local',\n",
       " 'Zona',\n",
       " 'Categoria Área',\n",
       " 'Área',\n",
       " 'Tipo Do Local',\n",
       " 'Local',\n",
       " 'Latitude',\n",
       " 'Longitude',\n",
       " 'Parâmetro (Parâmetros Básicos)',\n",
       " 'Análise Realizada',\n",
       " 'Resultado',\n",
       " 'Providência',\n",
       " 'Uf',\n",
       " 'Código Ibge']"
      ]
     },
     "execution_count": 24,
     "metadata": {},
     "output_type": "execute_result"
    }
   ],
   "source": [
    "list(df.columns)"
   ]
  },
  {
   "cell_type": "markdown",
   "id": "571544e6-0c51-4ea2-8ffa-98fa6d7c00ba",
   "metadata": {},
   "source": [
    "<br>\n",
    "\n",
    "# Dash"
   ]
  },
  {
   "cell_type": "code",
   "execution_count": 25,
   "id": "521581d4-7ca8-478d-aa6f-c0684a9ea72c",
   "metadata": {},
   "outputs": [],
   "source": [
    "import dash\n",
    "from dash import Dash, dcc, html, Input, Output\n",
    "from jupyter_dash import JupyterDash"
   ]
  },
  {
   "cell_type": "code",
   "execution_count": 26,
   "id": "76ea711e-0809-457d-8bdc-138ae82a9cff",
   "metadata": {},
   "outputs": [],
   "source": [
    "import plotly.express as px\n",
    "import plotly.graph_objects as go"
   ]
  },
  {
   "cell_type": "code",
   "execution_count": 27,
   "id": "5313ebb6-12ac-4c7a-9a44-4fea48a5252d",
   "metadata": {},
   "outputs": [
    {
     "data": {
      "text/html": [
       "\n",
       "        <iframe\n",
       "            width=\"100%\"\n",
       "            height=\"650\"\n",
       "            src=\"http://127.0.0.1:8051/\"\n",
       "            frameborder=\"0\"\n",
       "            allowfullscreen\n",
       "            \n",
       "        ></iframe>\n",
       "        "
      ],
      "text/plain": [
       "<IPython.lib.display.IFrame at 0x7f3634f09f70>"
      ]
     },
     "metadata": {},
     "output_type": "display_data"
    }
   ],
   "source": [
    "# Start\n",
    "app = JupyterDash(__name__)\n",
    "\n",
    "# \n",
    "app.layout = html.Div([\n",
    "    html.Div([\n",
    "        html.Div(\n",
    "            [\n",
    "                dcc.Dropdown(\n",
    "                    df['Nome Da Forma De Abastecimento'].unique(),\n",
    "                    #value='Fertility rate, total (births per woman)',\n",
    "                    id='xaxis-column'\n",
    "                ),\n",
    "            ],\n",
    "            style={'width': '48%', 'display': 'inline-block'}),\n",
    "    ]),\n",
    "\n",
    "    dcc.Graph(id='indicator-graphic'),\n",
    "])\n",
    "\n",
    "@app.callback(\n",
    "    Output('indicator-graphic', 'figure'),\n",
    "    Input('xaxis-column', 'value'),\n",
    ")\n",
    "def update_graph(xaxis_column_name):\n",
    "    # Create Figure\n",
    "    fig = go.Figure()\n",
    "    \n",
    "    # Add trace\n",
    "    fig.add_trace(\n",
    "        go.Scatter(\n",
    "            x=df['Data Da Coleta'],\n",
    "            #y=df['Resultado'],\n",
    "            y=df[df['Nome Da Forma De Abastecimento'] == xaxis_column_name]['Resultado'],\n",
    "            name='conclusao',\n",
    "            mode='markers',\n",
    "            marker={'color': 'red'},\n",
    "            opacity=0.8,\n",
    "        )\n",
    "    )\n",
    "    \n",
    "    # Udate\n",
    "    fig.update_layout(\n",
    "        title='Cloro Residual na \"{}\"'.format(xaxis_column_name),\n",
    "        xaxis_tickformat='%d %b<br>%Y',\n",
    "        margin={\n",
    "            'l': 40,\n",
    "            'b': 40,\n",
    "            #'t': 40,\n",
    "            'r': 0\n",
    "        },\n",
    "        #dragmode='pan',\n",
    "        hovermode='x',\n",
    "\n",
    "    )\n",
    "    #fig.write_html('ddd.html', config=config)\n",
    "    return fig\n",
    "\n",
    "# Run\n",
    "app.run_server(mode='inline', port=8051)"
   ]
  },
  {
   "cell_type": "markdown",
   "id": "044f10a3-64c8-4d8b-b47c-74c38237f6dd",
   "metadata": {
    "tags": [
     "remove_cell"
    ]
   },
   "source": [
    "<br>\n",
    "\n",
    "# Export"
   ]
  },
  {
   "cell_type": "code",
   "execution_count": 28,
   "id": "ea35f924-84cd-446c-9bae-d16bef9503c2",
   "metadata": {
    "tags": [
     "remove_cell"
    ]
   },
   "outputs": [],
   "source": [
    "import os\n",
    "from traitlets.config import Config\n",
    "from nbconvert import PythonExporter\n",
    "from nbconvert.preprocessors import TagRemovePreprocessor"
   ]
  },
  {
   "cell_type": "code",
   "execution_count": 29,
   "id": "047afdcb-1c12-46db-bb46-f8e28413bac8",
   "metadata": {
    "tags": [
     "remove_cell"
    ]
   },
   "outputs": [
    {
     "name": "stdout",
     "output_type": "stream",
     "text": [
      "/home/michel/Codes/open_geodata/br_sisagua/src/sisagua/dash_sisagua.py\n"
     ]
    }
   ],
   "source": [
    "input_filename = '12_analysis_basics.ipynb'\n",
    "input_filepath = os.path.join(os.getcwd(), input_filename)\n",
    "output_filepath = os.path.abspath(os.path.join(os.getcwd(), '..', 'src', 'sisagua', 'dash_sisagua.py'))\n",
    "\n",
    "print(output_filepath)"
   ]
  },
  {
   "cell_type": "code",
   "execution_count": 30,
   "id": "4e75790f-ecba-4b2e-920b-3f8990a05209",
   "metadata": {
    "tags": [
     "remove_cell"
    ]
   },
   "outputs": [],
   "source": [
    "# Import the exporter\n",
    "c = Config()\n",
    "c.TagRemovePreprocessor.enabled=True\n",
    "c.ClearOutputPreprocessor.enabled=True\n",
    "c.TemplateExporter.exclude_markdown=True\n",
    "c.TemplateExporter.exclude_code_cell=False\n",
    "c.TemplateExporter.exclude_input_prompt=True \n",
    "c.TemplateExporter.exclude_output=True\n",
    "c.TemplateExporter.exclude_raw=True\n",
    "c.TagRemovePreprocessor.remove_cell_tags = ('remove_cell',)\n",
    "c.TagRemovePreprocessor.remove_input_tags = ('remove_cell',)\n",
    "c.TagRemovePreprocessor.remove_all_outputs_tags = ('remove_output',)\n",
    "c.preprocessors = ['TagRemovePreprocessor']\n",
    "c.PythonExporter.preprocessors = ['nbconvert.preprocessors.TagRemovePreprocessor']\n",
    "\n",
    "# Configure and run out exporter\n",
    "py_exporter = PythonExporter(config=c)\n",
    "py_exporter.register_preprocessor(TagRemovePreprocessor(config=c), True)\n",
    "\n",
    "# Configure and run out exporter - returns a tuple - first element with html, second with notebook metadata\n",
    "body, metadata = PythonExporter(config=c).from_filename(input_filepath)\n",
    "\n",
    "# Write to output html file\n",
    "with open(output_filepath,  'w', encoding='utf-8') as f:\n",
    "    f.write(body)"
   ]
  },
  {
   "cell_type": "code",
   "execution_count": null,
   "id": "8928e252-d2ce-4b95-b22c-941daf2e732b",
   "metadata": {},
   "outputs": [],
   "source": []
  }
 ],
 "metadata": {
  "kernelspec": {
   "display_name": "Python [conda env:pablocarreira-py39] *",
   "language": "python",
   "name": "conda-env-pablocarreira-py39-py"
  },
  "language_info": {
   "codemirror_mode": {
    "name": "ipython",
    "version": 3
   },
   "file_extension": ".py",
   "mimetype": "text/x-python",
   "name": "python",
   "nbconvert_exporter": "python",
   "pygments_lexer": "ipython3",
   "version": "3.9.12"
  },
  "toc-autonumbering": true
 },
 "nbformat": 4,
 "nbformat_minor": 5
}
